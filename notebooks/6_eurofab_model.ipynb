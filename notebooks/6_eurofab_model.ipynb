{
 "cells": [
  {
   "cell_type": "markdown",
   "id": "4a7ccc95-9aa1-4aad-a2cb-11a1896e90eb",
   "metadata": {},
   "source": [
    "## Eurofab model training"
   ]
  },
  {
   "cell_type": "code",
   "execution_count": 3,
   "id": "51533fb7-1ff2-4a11-a1d0-e7be19d18287",
   "metadata": {},
   "outputs": [],
   "source": [
    "import glob\n",
    "\n",
    "import geopandas as gpd\n",
    "import matplotlib.pyplot as plt\n",
    "import numba\n",
    "import numpy as np\n",
    "import pandas as pd\n",
    "from libpysal.graph import read_parquet\n",
    "from sklearn.preprocessing import PowerTransformer, RobustScaler, StandardScaler\n",
    "from sklearn.ensemble import RandomForestClassifier\n",
    "from core.utils import used_keys\n",
    "\n",
    "from palettable.colorbrewer.qualitative import Set3_12\n",
    "from sklearn.metrics import davies_bouldin_score, f1_score\n",
    "\n",
    "from sklearn.model_selection import GridSearchCV\n",
    "from sklearn.calibration import CalibratedClassifierCV\n",
    "from sklearn.ensemble import RandomForestClassifier\n",
    "from sklearn.datasets import make_moons\n",
    "from sklearn import model_selection\n",
    "from sklearn.metrics import accuracy_score, balanced_accuracy_score, make_scorer"
   ]
  },
  {
   "cell_type": "code",
   "execution_count": 4,
   "id": "47e656ef-5246-42d4-a6ea-42dfa16a4823",
   "metadata": {},
   "outputs": [],
   "source": [
    "v = 'v3'\n",
    "sample_size = 150_000\n",
    "mapping_level = 3\n",
    "\n",
    "train_test_iteration = 4\n"
   ]
  },
  {
   "cell_type": "markdown",
   "id": "3f1c3ae4-240d-485d-bc31-fa005c40c204",
   "metadata": {},
   "source": [
    "Read the training data, groups and labels"
   ]
  },
  {
   "cell_type": "code",
   "execution_count": 5,
   "id": "19915074-38fe-410e-964f-a9a6f8e6ad1b",
   "metadata": {
    "scrolled": true
   },
   "outputs": [
    {
     "name": "stdout",
     "output_type": "stream",
     "text": [
      "CPU times: user 1min 50s, sys: 2min 41s, total: 4min 31s\n",
      "Wall time: 32.8 s\n"
     ]
    }
   ],
   "source": [
    "%%time\n",
    "X_train = pd.read_parquet(f'/data/uscuni-eurofab/processed_data/train_test_data/training_data{train_test_iteration}.pq')\n",
    "y = pd.read_parquet(f'/data/uscuni-eurofab/processed_data/train_test_data/training_labels{train_test_iteration}.pq')"
   ]
  },
  {
   "cell_type": "code",
   "execution_count": 6,
   "id": "661126a0-81d1-4c7e-8268-99f47f93b737",
   "metadata": {},
   "outputs": [
    {
     "data": {
      "text/plain": [
       "(42428296, 288)"
      ]
     },
     "execution_count": 6,
     "metadata": {},
     "output_type": "execute_result"
    }
   ],
   "source": [
    "X_train.shape"
   ]
  },
  {
   "cell_type": "markdown",
   "id": "42d8e2eb-668b-4a66-96c1-ee91d68a510b",
   "metadata": {},
   "source": [
    "Map the labels to the appropriate aggregation level"
   ]
  },
  {
   "cell_type": "code",
   "execution_count": 7,
   "id": "b7da0af7-e8e0-45fa-8b0f-f1d2ff61e194",
   "metadata": {},
   "outputs": [],
   "source": [
    "cluster_mapping = pd.read_parquet(f'/data/uscuni-ulce/processed_data/clusters/cluster_mapping_{v}.pq')\n",
    "\n",
    "if mapping_level == 3:\n",
    "    level_cut = cluster_mapping[3].astype(str)\n",
    "    level_cut[level_cut == '2'] = '8'\n",
    "    cluster_names = {\n",
    "    '1': 'Central Urban Developments',\n",
    "     '3': 'Dense Urban Developments',\n",
    "     '4': 'Street-aligned Developments',\n",
    "     '5': 'Sparse Rural Development',\n",
    "     '6': 'Linear Road Network Developments',\n",
    "     '7': 'Sparse Road Network Developments',\n",
    "     '8': 'Large Scale Developments'\n",
    "    }\n",
    "\n",
    "elif mapping_level == 4:\n",
    "    # # assign outliers to the industrial cluster\n",
    "    level_cut = cluster_mapping[4].astype(str)\n",
    "    level_cut[level_cut == '3'] = '15'\n",
    "    level_cut[level_cut == '4'] = '15'\n",
    "    level_cut[level_cut == '10'] = '15'\n",
    "    cluster_names = {'1': 'Dense Connected Developments',\n",
    "     '2': 'Large Interconnected Blocks',\n",
    "     '3': 'Extensive Courtyard Complexes',\n",
    "     '4': 'Massive Connected Aggregations',\n",
    "     '5': 'Dense Standalone Buildings',\n",
    "     '6': 'Compact Development',\n",
    "     '7': 'Cul-de-Sac Layout',\n",
    "     '8': 'Aligned Winding Streets',\n",
    "     '9': 'Sparse Rural Development',\n",
    "     '10': 'Large Wide-Spaced Complexes',\n",
    "     '11': 'Dispersed Linear Development',\n",
    "     '12': 'Linear Development',\n",
    "     '13': 'Sparse Open Layout',\n",
    "     '14': 'Sparse Road-Linked Development',\n",
    "     '15': 'Large Utilitarian Development',\n",
    "     '16': 'Extensive Wide-Spaced Developments'}"
   ]
  },
  {
   "cell_type": "code",
   "execution_count": null,
   "id": "6967b734-4745-482a-b6cd-8ff9ccb4b18d",
   "metadata": {},
   "outputs": [],
   "source": [
    "has_building = ~y.index.str.split('_').str[-1].str.startswith('-')\n",
    "\n",
    "X_train = X_train[has_building]\n",
    "y = y[has_building]\n",
    "\n",
    "assert y.final_without_noise.isna().sum() == 0\n",
    "assert (y.final_without_noise == -1).sum() == 0\n",
    "assert (X_train.index == y.index).all()\n",
    "\n",
    "y.shape"
   ]
  },
  {
   "cell_type": "code",
   "execution_count": null,
   "id": "962546c5-ff1c-49a7-b287-03ba49fb49a2",
   "metadata": {},
   "outputs": [],
   "source": [
    "%%time\n",
    "y['final_without_noise'] = y['final_without_noise'].map(level_cut.to_dict())\n",
    "y['final_without_noise'].value_counts()"
   ]
  },
  {
   "cell_type": "markdown",
   "id": "1b1915f5-faaa-436c-b01f-a138a35a8576",
   "metadata": {},
   "source": [
    "Undersample and Predict only building classification, so drop empty ETCs."
   ]
  },
  {
   "cell_type": "code",
   "execution_count": null,
   "id": "08484ace-09e0-4b97-b991-3fbb9fd57b0f",
   "metadata": {},
   "outputs": [],
   "source": [
    "%%time\n",
    "\n",
    "np.random.seed(123)\n",
    "train_indices = []\n",
    "classes = y.final_without_noise.unique()\n",
    "has_building = ~y.index.str.split('_').str[-1].str.startswith('-')\n",
    "\n",
    "# prague_only = y.index.str.startswith('65806')\n",
    "\n",
    "for cluster in classes:\n",
    "    random_indices = np.random.choice(np.where((y.final_without_noise == cluster) & (has_building))[0], sample_size, replace=False, )\n",
    "    train_indices.append(random_indices)\n",
    "\n",
    "train_indices = np.concat(train_indices)"
   ]
  },
  {
   "cell_type": "code",
   "execution_count": null,
   "id": "82709d60-148e-4281-a09b-48828c2bf556",
   "metadata": {},
   "outputs": [],
   "source": [
    "X_train = X_train.iloc[train_indices]\n",
    "y = y.iloc[train_indices]\n",
    "groups = groups.iloc[train_indices]\n",
    "\n",
    "assert y.final_without_noise.isna().sum() == 0"
   ]
  },
  {
   "cell_type": "code",
   "execution_count": null,
   "id": "6b470fd9-d7da-422b-8510-7ab1f193cea4",
   "metadata": {},
   "outputs": [],
   "source": [
    "X_resampled, y_resampled = X_train, y"
   ]
  },
  {
   "cell_type": "code",
   "execution_count": null,
   "id": "72f5bf71-b8f7-443a-8e92-e91cd1c3f57f",
   "metadata": {},
   "outputs": [],
   "source": []
  },
  {
   "cell_type": "markdown",
   "id": "262afa0a-7739-4a8d-9e28-18afac02156a",
   "metadata": {},
   "source": [
    "#### Random Forest"
   ]
  },
  {
   "cell_type": "code",
   "execution_count": null,
   "id": "dbde8572-d071-4982-8f10-6e49e2279bf4",
   "metadata": {},
   "outputs": [],
   "source": [
    "%%time\n",
    "from sklearn.ensemble import RandomForestClassifier\n",
    "\n",
    "best_model =  RandomForestClassifier(random_state=123, n_jobs=-1, \n",
    "                                     oob_score=True,\n",
    "                                     n_estimators=50, max_samples=200_000, max_features=.5, min_samples_leaf=5, )\n",
    "\n",
    "best_model.fit(X_resampled, y_resampled)"
   ]
  },
  {
   "cell_type": "code",
   "execution_count": null,
   "id": "adef9689-2ebf-40ef-8f80-7c0e254c580a",
   "metadata": {},
   "outputs": [],
   "source": [
    "best_model.oob_score_, best_model.score(X_resampled, y_resampled)"
   ]
  },
  {
   "cell_type": "code",
   "execution_count": null,
   "id": "bfd96cd9-473e-4b83-88a2-e6b06e3e1afa",
   "metadata": {},
   "outputs": [],
   "source": []
  },
  {
   "cell_type": "code",
   "execution_count": null,
   "id": "8f29c274-d529-49e6-8408-38ea669fb673",
   "metadata": {},
   "outputs": [],
   "source": [
    "X_test = pd.read_parquet(f'/data/uscuni-eurofab/processed_data/train_test_data/testing_data{train_test_iteration}.pq')\n",
    "y_test = pd.read_parquet(f'/data/uscuni-eurofab/processed_data/train_test_data/testing_labels{train_test_iteration}.pq')\n",
    "\n",
    "y_test['final_without_noise'] = y_test['final_without_noise'].map(level_cut.to_dict())"
   ]
  },
  {
   "cell_type": "code",
   "execution_count": null,
   "id": "67fe1055-d125-476d-984d-a070bff4a313",
   "metadata": {},
   "outputs": [],
   "source": []
  },
  {
   "cell_type": "code",
   "execution_count": 18,
   "id": "cd7d01ea-1510-47d5-b273-faa3f2f08d4d",
   "metadata": {},
   "outputs": [
    {
     "data": {
      "text/plain": [
       "(2846671, 1)"
      ]
     },
     "execution_count": 18,
     "metadata": {},
     "output_type": "execute_result"
    }
   ],
   "source": [
    "has_building_test = ~y_test.index.str.split('_').str[-1].str.startswith('-')\n",
    "\n",
    "X_test = X_test[has_building_test]\n",
    "y_test = y_test[has_building_test]\n",
    "\n",
    "assert y_test.final_without_noise.isna().sum() == 0\n",
    "assert (X_test.index == y_test.index).all()\n",
    "\n",
    "y_test.shape"
   ]
  },
  {
   "cell_type": "code",
   "execution_count": null,
   "id": "ae218f37-9cdd-4958-a86f-76b2c3ee852b",
   "metadata": {},
   "outputs": [],
   "source": []
  },
  {
   "cell_type": "code",
   "execution_count": 20,
   "id": "65c207f7-f617-42c2-868c-097a6dc04813",
   "metadata": {},
   "outputs": [
    {
     "name": "stdout",
     "output_type": "stream",
     "text": [
      "CPU times: user 37.8 s, sys: 8.77 s, total: 46.6 s\n",
      "Wall time: 3.93 s\n"
     ]
    }
   ],
   "source": [
    "%%time\n",
    "predictions = best_model.predict(X_test[to_keep])"
   ]
  },
  {
   "cell_type": "code",
   "execution_count": 21,
   "id": "1fca5d94-575f-493f-826f-910765f9edf4",
   "metadata": {},
   "outputs": [],
   "source": [
    "mapped_predictions = predictions"
   ]
  },
  {
   "cell_type": "code",
   "execution_count": null,
   "id": "74ec3488-4cc2-4a25-a81a-7f81f4238a1c",
   "metadata": {},
   "outputs": [],
   "source": []
  },
  {
   "cell_type": "code",
   "execution_count": 22,
   "id": "6edf2ee2-ae85-4733-a23d-cf69ed32421c",
   "metadata": {},
   "outputs": [],
   "source": []
  },
  {
   "cell_type": "code",
   "execution_count": 23,
   "id": "dfcddeb7-55be-4951-b113-ff73f8bd3db8",
   "metadata": {},
   "outputs": [],
   "source": []
  },
  {
   "cell_type": "code",
   "execution_count": null,
   "id": "c5e4233b-0152-4125-8d51-e4f3ad589f1c",
   "metadata": {},
   "outputs": [],
   "source": []
  },
  {
   "cell_type": "code",
   "execution_count": 25,
   "id": "c1992f8c-fa1f-4531-a181-76f017ec3664",
   "metadata": {
    "scrolled": true
   },
   "outputs": [
    {
     "data": {
      "text/plain": [
       "0.4010375628233821"
      ]
     },
     "execution_count": 25,
     "metadata": {},
     "output_type": "execute_result"
    }
   ],
   "source": [
    "## vienna accuracy is a good predictor of overall austrian accuracy\n",
    "acc = accuracy_score(mapped_predictions, y_test)\n",
    "weighted = f1_score(y_test, mapped_predictions, average='weighted')\n",
    "micro = f1_score(y_test, mapped_predictions, average='micro')\n",
    "macro = f1_score(y_test, mapped_predictions, average='macro')"
   ]
  },
  {
   "cell_type": "code",
   "execution_count": null,
   "id": "0e1518ca-e067-4c91-971e-5fbfc78abbae",
   "metadata": {},
   "outputs": [],
   "source": []
  },
  {
   "cell_type": "code",
   "execution_count": 29,
   "id": "575ddd74-3b63-4ab8-91b2-b0ecfb05543b",
   "metadata": {},
   "outputs": [
    {
     "data": {
      "text/plain": [
       "Dense Connected Developments          0.293044\n",
       "Dispersed Linear Development          0.069147\n",
       "Linear Development                    0.146127\n",
       "Sparse Open Layout                    0.512451\n",
       "Sparse Road-Linked Development        0.176687\n",
       "Large Utilitarian Development         0.300625\n",
       "Extensive Wide-Spaced Developments    0.162850\n",
       "Large Interconnected Blocks           0.259278\n",
       "Dense Standalone Buildings            0.539817\n",
       "Compact Development                   0.086306\n",
       "Cul-de-Sac Layout                     0.462139\n",
       "Aligned Winding Streets               0.272353\n",
       "Sparse Rural Development              0.509370\n",
       "dtype: float64"
      ]
     },
     "execution_count": 29,
     "metadata": {},
     "output_type": "execute_result"
    }
   ],
   "source": [
    "f1s_vals = f1_score(y_test, mapped_predictions, average=None)\n",
    "\n",
    "f1s = pd.Series(\n",
    "    f1s_vals,\n",
    "    index = [cluster_names[k] for k in sorted(np.unique(mapped_predictions))]\n",
    ")\n",
    "f1s = f1s.sort_values()\n",
    "f1s"
   ]
  },
  {
   "cell_type": "code",
   "execution_count": null,
   "id": "4308a430-7f63-4c99-a41a-78df23a4ac62",
   "metadata": {},
   "outputs": [],
   "source": [
    "overall_acc = pd.Series([acc, weighted, micro, macro], index=['Overall accuracy', 'Weighted F1', 'Micro F1', 'Macro F1'])"
   ]
  },
  {
   "cell_type": "code",
   "execution_count": null,
   "id": "cf2270a7-f8e3-4b70-95ac-d802526b8906",
   "metadata": {},
   "outputs": [],
   "source": [
    "overall_acc.to_csv(f'/data/uscuni-eurofab/processed_data/results/overall_acc_{mapping_level}_{train_test_iteration}.csv')"
   ]
  },
  {
   "cell_type": "code",
   "execution_count": null,
   "id": "bd889f85-383a-4c59-b7dc-db2311b97ade",
   "metadata": {},
   "outputs": [],
   "source": [
    "f1s.to_csv(f'/data/uscuni-eurofab/processed_data/results/class_f1s_{mapping_level}_{train_test_iteration}.csv')"
   ]
  },
  {
   "cell_type": "code",
   "execution_count": null,
   "id": "4adfab3b-9003-4e07-b359-5b1fbe94f6fa",
   "metadata": {},
   "outputs": [],
   "source": []
  }
 ],
 "metadata": {
  "kernelspec": {
   "display_name": "Python 3 (ipykernel)",
   "language": "python",
   "name": "python3"
  },
  "language_info": {
   "codemirror_mode": {
    "name": "ipython",
    "version": 3
   },
   "file_extension": ".py",
   "mimetype": "text/x-python",
   "name": "python",
   "nbconvert_exporter": "python",
   "pygments_lexer": "ipython3",
   "version": "3.12.5"
  }
 },
 "nbformat": 4,
 "nbformat_minor": 5
}
