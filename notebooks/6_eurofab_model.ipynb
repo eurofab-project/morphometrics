{
 "cells": [
  {
   "cell_type": "markdown",
   "id": "4a7ccc95-9aa1-4aad-a2cb-11a1896e90eb",
   "metadata": {},
   "source": [
    "## Eurofab model training"
   ]
  },
  {
   "cell_type": "code",
   "execution_count": 1,
   "id": "51533fb7-1ff2-4a11-a1d0-e7be19d18287",
   "metadata": {},
   "outputs": [],
   "source": [
    "import glob\n",
    "\n",
    "import geopandas as gpd\n",
    "import matplotlib.pyplot as plt\n",
    "import numba\n",
    "import numpy as np\n",
    "import pandas as pd\n",
    "from libpysal.graph import read_parquet\n",
    "from sklearn.preprocessing import PowerTransformer, RobustScaler, StandardScaler\n",
    "from sklearn.ensemble import RandomForestClassifier\n",
    "from core.utils import used_keys\n",
    "\n",
    "from palettable.colorbrewer.qualitative import Set3_12\n",
    "from sklearn.metrics import davies_bouldin_score, f1_score\n",
    "\n",
    "from sklearn.model_selection import GridSearchCV\n",
    "from sklearn.calibration import CalibratedClassifierCV\n",
    "from sklearn.ensemble import RandomForestClassifier\n",
    "from sklearn.datasets import make_moons\n",
    "from sklearn import model_selection\n",
    "from sklearn.metrics import accuracy_score, balanced_accuracy_score, make_scorer"
   ]
  },
  {
   "cell_type": "code",
   "execution_count": 2,
   "id": "47e656ef-5246-42d4-a6ea-42dfa16a4823",
   "metadata": {},
   "outputs": [],
   "source": [
    "v = 'v3'\n",
    "sample_size = 500_000\n",
    "\n",
    "\n",
    "mapping_level = 4\n",
    "\n",
    "train_test_iteration = 4"
   ]
  },
  {
   "cell_type": "markdown",
   "id": "3f1c3ae4-240d-485d-bc31-fa005c40c204",
   "metadata": {},
   "source": [
    "Read the training data, groups and labels"
   ]
  },
  {
   "cell_type": "code",
   "execution_count": 3,
   "id": "19915074-38fe-410e-964f-a9a6f8e6ad1b",
   "metadata": {
    "scrolled": true
   },
   "outputs": [
    {
     "name": "stdout",
     "output_type": "stream",
     "text": [
      "CPU times: user 1min 46s, sys: 1min 16s, total: 3min 3s\n",
      "Wall time: 31.8 s\n"
     ]
    }
   ],
   "source": [
    "%%time\n",
    "X_train = pd.read_parquet(f'/data/uscuni-eurofab-overture/processed_data/train_test_data/training_data{train_test_iteration}.pq')\n",
    "y = pd.read_parquet(f'/data/uscuni-eurofab-overture/processed_data/train_test_data/training_labels{train_test_iteration}.pq')"
   ]
  },
  {
   "cell_type": "code",
   "execution_count": 4,
   "id": "661126a0-81d1-4c7e-8268-99f47f93b737",
   "metadata": {},
   "outputs": [
    {
     "data": {
      "text/plain": [
       "(61206395, 144)"
      ]
     },
     "execution_count": 4,
     "metadata": {},
     "output_type": "execute_result"
    }
   ],
   "source": [
    "X_train.shape"
   ]
  },
  {
   "cell_type": "code",
   "execution_count": null,
   "id": "e3821b8f-9fae-4de6-85fe-c3dcc28e8c9f",
   "metadata": {},
   "outputs": [],
   "source": []
  },
  {
   "cell_type": "markdown",
   "id": "42d8e2eb-668b-4a66-96c1-ee91d68a510b",
   "metadata": {},
   "source": [
    "Map the labels to the appropriate aggregation level"
   ]
  },
  {
   "cell_type": "code",
   "execution_count": 5,
   "id": "b7da0af7-e8e0-45fa-8b0f-f1d2ff61e194",
   "metadata": {},
   "outputs": [],
   "source": [
    "cluster_mapping = pd.read_parquet(f'/data/uscuni-ulce/processed_data/clusters/cluster_mapping_{v}.pq')\n",
    "\n",
    "if mapping_level == 3:\n",
    "    level_cut = cluster_mapping[3].astype(str)\n",
    "    level_cut[level_cut == '2'] = '8'\n",
    "    cluster_names = {\n",
    "    '1': 'Central Urban Developments',\n",
    "     '3': 'Dense Urban Developments',\n",
    "     '4': 'Street-aligned Developments',\n",
    "     '5': 'Sparse Rural Development',\n",
    "     '6': 'Linear Road Network Developments',\n",
    "     '7': 'Sparse Road Network Developments',\n",
    "     '8': 'Large Scale Developments'\n",
    "    }\n",
    "\n",
    "elif mapping_level == 4:\n",
    "    # # assign outliers to the industrial cluster\n",
    "    level_cut = cluster_mapping[4].astype(str)\n",
    "    level_cut[level_cut == '3'] = '15'\n",
    "    level_cut[level_cut == '4'] = '15'\n",
    "    level_cut[level_cut == '10'] = '15'\n",
    "    cluster_names = {'1': 'Dense Connected Developments',\n",
    "     '2': 'Large Interconnected Blocks',\n",
    "     '3': 'Extensive Courtyard Complexes',\n",
    "     '4': 'Massive Connected Aggregations',\n",
    "     '5': 'Dense Standalone Buildings',\n",
    "     '6': 'Compact Development',\n",
    "     '7': 'Cul-de-Sac Layout',\n",
    "     '8': 'Aligned Winding Streets',\n",
    "     '9': 'Sparse Rural Development',\n",
    "     '10': 'Large Wide-Spaced Complexes',\n",
    "     '11': 'Dispersed Linear Development',\n",
    "     '12': 'Linear Development',\n",
    "     '13': 'Sparse Open Layout',\n",
    "     '14': 'Sparse Road-Linked Development',\n",
    "     '15': 'Large Utilitarian Development',\n",
    "     '16': 'Extensive Wide-Spaced Developments'}"
   ]
  },
  {
   "cell_type": "code",
   "execution_count": 6,
   "id": "6967b734-4745-482a-b6cd-8ff9ccb4b18d",
   "metadata": {},
   "outputs": [
    {
     "data": {
      "text/plain": [
       "(61206395, 1)"
      ]
     },
     "execution_count": 6,
     "metadata": {},
     "output_type": "execute_result"
    }
   ],
   "source": [
    "has_building = ~y.index.str.split('_').str[-1].str.startswith('-')\n",
    "\n",
    "X_train = X_train[has_building]\n",
    "y = y[has_building]\n",
    "\n",
    "assert y.final_without_noise.isna().sum() == 0\n",
    "assert (y.final_without_noise == -1).sum() == 0\n",
    "assert (X_train.index == y.index).all()\n",
    "\n",
    "y.shape"
   ]
  },
  {
   "cell_type": "code",
   "execution_count": 7,
   "id": "962546c5-ff1c-49a7-b287-03ba49fb49a2",
   "metadata": {},
   "outputs": [
    {
     "name": "stdout",
     "output_type": "stream",
     "text": [
      "CPU times: user 1.57 s, sys: 206 ms, total: 1.78 s\n",
      "Wall time: 1.78 s\n"
     ]
    },
    {
     "data": {
      "text/plain": [
       "final_without_noise\n",
       "8     9198295\n",
       "1     8991554\n",
       "13    8123237\n",
       "6     8085547\n",
       "14    6712600\n",
       "7     6344274\n",
       "5     4844374\n",
       "9     3045053\n",
       "12    2331757\n",
       "2      999963\n",
       "15     869190\n",
       "16     841829\n",
       "11     818722\n",
       "Name: count, dtype: int64"
      ]
     },
     "execution_count": 7,
     "metadata": {},
     "output_type": "execute_result"
    }
   ],
   "source": [
    "%%time\n",
    "y['final_without_noise'] = y['final_without_noise'].map(level_cut.to_dict())\n",
    "y['final_without_noise'].value_counts()"
   ]
  },
  {
   "cell_type": "code",
   "execution_count": null,
   "id": "87c11795-7066-4ac5-994c-c9e5adca037b",
   "metadata": {},
   "outputs": [],
   "source": []
  },
  {
   "cell_type": "markdown",
   "id": "1b1915f5-faaa-436c-b01f-a138a35a8576",
   "metadata": {},
   "source": [
    "Undersample and Predict only building classification, so drop empty ETCs."
   ]
  },
  {
   "cell_type": "code",
   "execution_count": 8,
   "id": "08484ace-09e0-4b97-b991-3fbb9fd57b0f",
   "metadata": {},
   "outputs": [
    {
     "name": "stdout",
     "output_type": "stream",
     "text": [
      "CPU times: user 1min 8s, sys: 2.8 s, total: 1min 11s\n",
      "Wall time: 1min 11s\n"
     ]
    }
   ],
   "source": [
    "%%time\n",
    "\n",
    "if sample_size > y['final_without_noise'].value_counts().iloc[-1]:\n",
    "    sample_size = y['final_without_noise'].value_counts().iloc[-1] - 1_000\n",
    "\n",
    "np.random.seed(123)\n",
    "train_indices = []\n",
    "classes = y.final_without_noise.unique()\n",
    "has_building = ~y.index.str.split('_').str[-1].str.startswith('-')\n",
    "\n",
    "for cluster in classes:\n",
    "    random_indices = np.random.choice(np.where((y.final_without_noise == cluster) & (has_building))[0], sample_size, replace=False, )\n",
    "    train_indices.append(random_indices)\n",
    "\n",
    "train_indices = np.concat(train_indices)"
   ]
  },
  {
   "cell_type": "code",
   "execution_count": 9,
   "id": "82709d60-148e-4281-a09b-48828c2bf556",
   "metadata": {},
   "outputs": [],
   "source": [
    "X_train = X_train.iloc[train_indices]\n",
    "y = y.iloc[train_indices]\n",
    "\n",
    "assert y.final_without_noise.isna().sum() == 0"
   ]
  },
  {
   "cell_type": "code",
   "execution_count": 10,
   "id": "6b470fd9-d7da-422b-8510-7ab1f193cea4",
   "metadata": {},
   "outputs": [],
   "source": [
    "X_resampled, y_resampled = X_train, y.final_without_noise"
   ]
  },
  {
   "cell_type": "code",
   "execution_count": null,
   "id": "3e7ba5ce-51cf-4327-8d71-ac7b5fb4e006",
   "metadata": {},
   "outputs": [],
   "source": []
  },
  {
   "cell_type": "code",
   "execution_count": 11,
   "id": "b8cb841b-ec28-4add-822b-a8f47b69b420",
   "metadata": {},
   "outputs": [],
   "source": [
    "if 'source' in X_resampled.columns:\n",
    "    # we can do this because of random forest splitting\n",
    "    source_factorizer = X_resampled['source'].factorize()\n",
    "    X_resampled['source'] = source_factorizer[0]"
   ]
  },
  {
   "cell_type": "code",
   "execution_count": 12,
   "id": "ef10764e-1538-40bf-b632-939872822cfd",
   "metadata": {},
   "outputs": [
    {
     "data": {
      "text/plain": [
       "final_without_noise\n",
       "6     500000\n",
       "1     500000\n",
       "7     500000\n",
       "8     500000\n",
       "14    500000\n",
       "2     500000\n",
       "15    500000\n",
       "13    500000\n",
       "5     500000\n",
       "16    500000\n",
       "9     500000\n",
       "12    500000\n",
       "11    500000\n",
       "Name: count, dtype: int64"
      ]
     },
     "execution_count": 12,
     "metadata": {},
     "output_type": "execute_result"
    }
   ],
   "source": [
    "y_resampled.value_counts()"
   ]
  },
  {
   "cell_type": "markdown",
   "id": "262afa0a-7739-4a8d-9e28-18afac02156a",
   "metadata": {},
   "source": [
    "#### Random Forest"
   ]
  },
  {
   "cell_type": "code",
   "execution_count": null,
   "id": "c8cfd91c-e230-474d-aeb9-4242d45112b5",
   "metadata": {},
   "outputs": [],
   "source": []
  },
  {
   "cell_type": "code",
   "execution_count": null,
   "id": "68f1ce01-fad2-48e4-8e55-103dcc56ede9",
   "metadata": {},
   "outputs": [],
   "source": []
  },
  {
   "cell_type": "code",
   "execution_count": 14,
   "id": "dbde8572-d071-4982-8f10-6e49e2279bf4",
   "metadata": {},
   "outputs": [
    {
     "name": "stderr",
     "output_type": "stream",
     "text": [
      "[Parallel(n_jobs=-1)]: Using backend ThreadingBackend with 24 concurrent workers.\n",
      "[Parallel(n_jobs=-1)]: Done   2 tasks      | elapsed: 10.6min\n",
      "[Parallel(n_jobs=-1)]: Done 152 tasks      | elapsed: 74.2min\n",
      "[Parallel(n_jobs=-1)]: Done 300 out of 300 | elapsed: 138.2min finished\n"
     ]
    },
    {
     "name": "stdout",
     "output_type": "stream",
     "text": [
      "CPU times: user 2d 5h 40min 58s, sys: 2min 3s, total: 2d 5h 43min 2s\n",
      "Wall time: 2h 22min 45s\n"
     ]
    },
    {
     "data": {
      "text/html": [
       "<style>#sk-container-id-1 {\n",
       "  /* Definition of color scheme common for light and dark mode */\n",
       "  --sklearn-color-text: black;\n",
       "  --sklearn-color-line: gray;\n",
       "  /* Definition of color scheme for unfitted estimators */\n",
       "  --sklearn-color-unfitted-level-0: #fff5e6;\n",
       "  --sklearn-color-unfitted-level-1: #f6e4d2;\n",
       "  --sklearn-color-unfitted-level-2: #ffe0b3;\n",
       "  --sklearn-color-unfitted-level-3: chocolate;\n",
       "  /* Definition of color scheme for fitted estimators */\n",
       "  --sklearn-color-fitted-level-0: #f0f8ff;\n",
       "  --sklearn-color-fitted-level-1: #d4ebff;\n",
       "  --sklearn-color-fitted-level-2: #b3dbfd;\n",
       "  --sklearn-color-fitted-level-3: cornflowerblue;\n",
       "\n",
       "  /* Specific color for light theme */\n",
       "  --sklearn-color-text-on-default-background: var(--sg-text-color, var(--theme-code-foreground, var(--jp-content-font-color1, black)));\n",
       "  --sklearn-color-background: var(--sg-background-color, var(--theme-background, var(--jp-layout-color0, white)));\n",
       "  --sklearn-color-border-box: var(--sg-text-color, var(--theme-code-foreground, var(--jp-content-font-color1, black)));\n",
       "  --sklearn-color-icon: #696969;\n",
       "\n",
       "  @media (prefers-color-scheme: dark) {\n",
       "    /* Redefinition of color scheme for dark theme */\n",
       "    --sklearn-color-text-on-default-background: var(--sg-text-color, var(--theme-code-foreground, var(--jp-content-font-color1, white)));\n",
       "    --sklearn-color-background: var(--sg-background-color, var(--theme-background, var(--jp-layout-color0, #111)));\n",
       "    --sklearn-color-border-box: var(--sg-text-color, var(--theme-code-foreground, var(--jp-content-font-color1, white)));\n",
       "    --sklearn-color-icon: #878787;\n",
       "  }\n",
       "}\n",
       "\n",
       "#sk-container-id-1 {\n",
       "  color: var(--sklearn-color-text);\n",
       "}\n",
       "\n",
       "#sk-container-id-1 pre {\n",
       "  padding: 0;\n",
       "}\n",
       "\n",
       "#sk-container-id-1 input.sk-hidden--visually {\n",
       "  border: 0;\n",
       "  clip: rect(1px 1px 1px 1px);\n",
       "  clip: rect(1px, 1px, 1px, 1px);\n",
       "  height: 1px;\n",
       "  margin: -1px;\n",
       "  overflow: hidden;\n",
       "  padding: 0;\n",
       "  position: absolute;\n",
       "  width: 1px;\n",
       "}\n",
       "\n",
       "#sk-container-id-1 div.sk-dashed-wrapped {\n",
       "  border: 1px dashed var(--sklearn-color-line);\n",
       "  margin: 0 0.4em 0.5em 0.4em;\n",
       "  box-sizing: border-box;\n",
       "  padding-bottom: 0.4em;\n",
       "  background-color: var(--sklearn-color-background);\n",
       "}\n",
       "\n",
       "#sk-container-id-1 div.sk-container {\n",
       "  /* jupyter's `normalize.less` sets `[hidden] { display: none; }`\n",
       "     but bootstrap.min.css set `[hidden] { display: none !important; }`\n",
       "     so we also need the `!important` here to be able to override the\n",
       "     default hidden behavior on the sphinx rendered scikit-learn.org.\n",
       "     See: https://github.com/scikit-learn/scikit-learn/issues/21755 */\n",
       "  display: inline-block !important;\n",
       "  position: relative;\n",
       "}\n",
       "\n",
       "#sk-container-id-1 div.sk-text-repr-fallback {\n",
       "  display: none;\n",
       "}\n",
       "\n",
       "div.sk-parallel-item,\n",
       "div.sk-serial,\n",
       "div.sk-item {\n",
       "  /* draw centered vertical line to link estimators */\n",
       "  background-image: linear-gradient(var(--sklearn-color-text-on-default-background), var(--sklearn-color-text-on-default-background));\n",
       "  background-size: 2px 100%;\n",
       "  background-repeat: no-repeat;\n",
       "  background-position: center center;\n",
       "}\n",
       "\n",
       "/* Parallel-specific style estimator block */\n",
       "\n",
       "#sk-container-id-1 div.sk-parallel-item::after {\n",
       "  content: \"\";\n",
       "  width: 100%;\n",
       "  border-bottom: 2px solid var(--sklearn-color-text-on-default-background);\n",
       "  flex-grow: 1;\n",
       "}\n",
       "\n",
       "#sk-container-id-1 div.sk-parallel {\n",
       "  display: flex;\n",
       "  align-items: stretch;\n",
       "  justify-content: center;\n",
       "  background-color: var(--sklearn-color-background);\n",
       "  position: relative;\n",
       "}\n",
       "\n",
       "#sk-container-id-1 div.sk-parallel-item {\n",
       "  display: flex;\n",
       "  flex-direction: column;\n",
       "}\n",
       "\n",
       "#sk-container-id-1 div.sk-parallel-item:first-child::after {\n",
       "  align-self: flex-end;\n",
       "  width: 50%;\n",
       "}\n",
       "\n",
       "#sk-container-id-1 div.sk-parallel-item:last-child::after {\n",
       "  align-self: flex-start;\n",
       "  width: 50%;\n",
       "}\n",
       "\n",
       "#sk-container-id-1 div.sk-parallel-item:only-child::after {\n",
       "  width: 0;\n",
       "}\n",
       "\n",
       "/* Serial-specific style estimator block */\n",
       "\n",
       "#sk-container-id-1 div.sk-serial {\n",
       "  display: flex;\n",
       "  flex-direction: column;\n",
       "  align-items: center;\n",
       "  background-color: var(--sklearn-color-background);\n",
       "  padding-right: 1em;\n",
       "  padding-left: 1em;\n",
       "}\n",
       "\n",
       "\n",
       "/* Toggleable style: style used for estimator/Pipeline/ColumnTransformer box that is\n",
       "clickable and can be expanded/collapsed.\n",
       "- Pipeline and ColumnTransformer use this feature and define the default style\n",
       "- Estimators will overwrite some part of the style using the `sk-estimator` class\n",
       "*/\n",
       "\n",
       "/* Pipeline and ColumnTransformer style (default) */\n",
       "\n",
       "#sk-container-id-1 div.sk-toggleable {\n",
       "  /* Default theme specific background. It is overwritten whether we have a\n",
       "  specific estimator or a Pipeline/ColumnTransformer */\n",
       "  background-color: var(--sklearn-color-background);\n",
       "}\n",
       "\n",
       "/* Toggleable label */\n",
       "#sk-container-id-1 label.sk-toggleable__label {\n",
       "  cursor: pointer;\n",
       "  display: block;\n",
       "  width: 100%;\n",
       "  margin-bottom: 0;\n",
       "  padding: 0.5em;\n",
       "  box-sizing: border-box;\n",
       "  text-align: center;\n",
       "}\n",
       "\n",
       "#sk-container-id-1 label.sk-toggleable__label-arrow:before {\n",
       "  /* Arrow on the left of the label */\n",
       "  content: \"▸\";\n",
       "  float: left;\n",
       "  margin-right: 0.25em;\n",
       "  color: var(--sklearn-color-icon);\n",
       "}\n",
       "\n",
       "#sk-container-id-1 label.sk-toggleable__label-arrow:hover:before {\n",
       "  color: var(--sklearn-color-text);\n",
       "}\n",
       "\n",
       "/* Toggleable content - dropdown */\n",
       "\n",
       "#sk-container-id-1 div.sk-toggleable__content {\n",
       "  max-height: 0;\n",
       "  max-width: 0;\n",
       "  overflow: hidden;\n",
       "  text-align: left;\n",
       "  /* unfitted */\n",
       "  background-color: var(--sklearn-color-unfitted-level-0);\n",
       "}\n",
       "\n",
       "#sk-container-id-1 div.sk-toggleable__content.fitted {\n",
       "  /* fitted */\n",
       "  background-color: var(--sklearn-color-fitted-level-0);\n",
       "}\n",
       "\n",
       "#sk-container-id-1 div.sk-toggleable__content pre {\n",
       "  margin: 0.2em;\n",
       "  border-radius: 0.25em;\n",
       "  color: var(--sklearn-color-text);\n",
       "  /* unfitted */\n",
       "  background-color: var(--sklearn-color-unfitted-level-0);\n",
       "}\n",
       "\n",
       "#sk-container-id-1 div.sk-toggleable__content.fitted pre {\n",
       "  /* unfitted */\n",
       "  background-color: var(--sklearn-color-fitted-level-0);\n",
       "}\n",
       "\n",
       "#sk-container-id-1 input.sk-toggleable__control:checked~div.sk-toggleable__content {\n",
       "  /* Expand drop-down */\n",
       "  max-height: 200px;\n",
       "  max-width: 100%;\n",
       "  overflow: auto;\n",
       "}\n",
       "\n",
       "#sk-container-id-1 input.sk-toggleable__control:checked~label.sk-toggleable__label-arrow:before {\n",
       "  content: \"▾\";\n",
       "}\n",
       "\n",
       "/* Pipeline/ColumnTransformer-specific style */\n",
       "\n",
       "#sk-container-id-1 div.sk-label input.sk-toggleable__control:checked~label.sk-toggleable__label {\n",
       "  color: var(--sklearn-color-text);\n",
       "  background-color: var(--sklearn-color-unfitted-level-2);\n",
       "}\n",
       "\n",
       "#sk-container-id-1 div.sk-label.fitted input.sk-toggleable__control:checked~label.sk-toggleable__label {\n",
       "  background-color: var(--sklearn-color-fitted-level-2);\n",
       "}\n",
       "\n",
       "/* Estimator-specific style */\n",
       "\n",
       "/* Colorize estimator box */\n",
       "#sk-container-id-1 div.sk-estimator input.sk-toggleable__control:checked~label.sk-toggleable__label {\n",
       "  /* unfitted */\n",
       "  background-color: var(--sklearn-color-unfitted-level-2);\n",
       "}\n",
       "\n",
       "#sk-container-id-1 div.sk-estimator.fitted input.sk-toggleable__control:checked~label.sk-toggleable__label {\n",
       "  /* fitted */\n",
       "  background-color: var(--sklearn-color-fitted-level-2);\n",
       "}\n",
       "\n",
       "#sk-container-id-1 div.sk-label label.sk-toggleable__label,\n",
       "#sk-container-id-1 div.sk-label label {\n",
       "  /* The background is the default theme color */\n",
       "  color: var(--sklearn-color-text-on-default-background);\n",
       "}\n",
       "\n",
       "/* On hover, darken the color of the background */\n",
       "#sk-container-id-1 div.sk-label:hover label.sk-toggleable__label {\n",
       "  color: var(--sklearn-color-text);\n",
       "  background-color: var(--sklearn-color-unfitted-level-2);\n",
       "}\n",
       "\n",
       "/* Label box, darken color on hover, fitted */\n",
       "#sk-container-id-1 div.sk-label.fitted:hover label.sk-toggleable__label.fitted {\n",
       "  color: var(--sklearn-color-text);\n",
       "  background-color: var(--sklearn-color-fitted-level-2);\n",
       "}\n",
       "\n",
       "/* Estimator label */\n",
       "\n",
       "#sk-container-id-1 div.sk-label label {\n",
       "  font-family: monospace;\n",
       "  font-weight: bold;\n",
       "  display: inline-block;\n",
       "  line-height: 1.2em;\n",
       "}\n",
       "\n",
       "#sk-container-id-1 div.sk-label-container {\n",
       "  text-align: center;\n",
       "}\n",
       "\n",
       "/* Estimator-specific */\n",
       "#sk-container-id-1 div.sk-estimator {\n",
       "  font-family: monospace;\n",
       "  border: 1px dotted var(--sklearn-color-border-box);\n",
       "  border-radius: 0.25em;\n",
       "  box-sizing: border-box;\n",
       "  margin-bottom: 0.5em;\n",
       "  /* unfitted */\n",
       "  background-color: var(--sklearn-color-unfitted-level-0);\n",
       "}\n",
       "\n",
       "#sk-container-id-1 div.sk-estimator.fitted {\n",
       "  /* fitted */\n",
       "  background-color: var(--sklearn-color-fitted-level-0);\n",
       "}\n",
       "\n",
       "/* on hover */\n",
       "#sk-container-id-1 div.sk-estimator:hover {\n",
       "  /* unfitted */\n",
       "  background-color: var(--sklearn-color-unfitted-level-2);\n",
       "}\n",
       "\n",
       "#sk-container-id-1 div.sk-estimator.fitted:hover {\n",
       "  /* fitted */\n",
       "  background-color: var(--sklearn-color-fitted-level-2);\n",
       "}\n",
       "\n",
       "/* Specification for estimator info (e.g. \"i\" and \"?\") */\n",
       "\n",
       "/* Common style for \"i\" and \"?\" */\n",
       "\n",
       ".sk-estimator-doc-link,\n",
       "a:link.sk-estimator-doc-link,\n",
       "a:visited.sk-estimator-doc-link {\n",
       "  float: right;\n",
       "  font-size: smaller;\n",
       "  line-height: 1em;\n",
       "  font-family: monospace;\n",
       "  background-color: var(--sklearn-color-background);\n",
       "  border-radius: 1em;\n",
       "  height: 1em;\n",
       "  width: 1em;\n",
       "  text-decoration: none !important;\n",
       "  margin-left: 1ex;\n",
       "  /* unfitted */\n",
       "  border: var(--sklearn-color-unfitted-level-1) 1pt solid;\n",
       "  color: var(--sklearn-color-unfitted-level-1);\n",
       "}\n",
       "\n",
       ".sk-estimator-doc-link.fitted,\n",
       "a:link.sk-estimator-doc-link.fitted,\n",
       "a:visited.sk-estimator-doc-link.fitted {\n",
       "  /* fitted */\n",
       "  border: var(--sklearn-color-fitted-level-1) 1pt solid;\n",
       "  color: var(--sklearn-color-fitted-level-1);\n",
       "}\n",
       "\n",
       "/* On hover */\n",
       "div.sk-estimator:hover .sk-estimator-doc-link:hover,\n",
       ".sk-estimator-doc-link:hover,\n",
       "div.sk-label-container:hover .sk-estimator-doc-link:hover,\n",
       ".sk-estimator-doc-link:hover {\n",
       "  /* unfitted */\n",
       "  background-color: var(--sklearn-color-unfitted-level-3);\n",
       "  color: var(--sklearn-color-background);\n",
       "  text-decoration: none;\n",
       "}\n",
       "\n",
       "div.sk-estimator.fitted:hover .sk-estimator-doc-link.fitted:hover,\n",
       ".sk-estimator-doc-link.fitted:hover,\n",
       "div.sk-label-container:hover .sk-estimator-doc-link.fitted:hover,\n",
       ".sk-estimator-doc-link.fitted:hover {\n",
       "  /* fitted */\n",
       "  background-color: var(--sklearn-color-fitted-level-3);\n",
       "  color: var(--sklearn-color-background);\n",
       "  text-decoration: none;\n",
       "}\n",
       "\n",
       "/* Span, style for the box shown on hovering the info icon */\n",
       ".sk-estimator-doc-link span {\n",
       "  display: none;\n",
       "  z-index: 9999;\n",
       "  position: relative;\n",
       "  font-weight: normal;\n",
       "  right: .2ex;\n",
       "  padding: .5ex;\n",
       "  margin: .5ex;\n",
       "  width: min-content;\n",
       "  min-width: 20ex;\n",
       "  max-width: 50ex;\n",
       "  color: var(--sklearn-color-text);\n",
       "  box-shadow: 2pt 2pt 4pt #999;\n",
       "  /* unfitted */\n",
       "  background: var(--sklearn-color-unfitted-level-0);\n",
       "  border: .5pt solid var(--sklearn-color-unfitted-level-3);\n",
       "}\n",
       "\n",
       ".sk-estimator-doc-link.fitted span {\n",
       "  /* fitted */\n",
       "  background: var(--sklearn-color-fitted-level-0);\n",
       "  border: var(--sklearn-color-fitted-level-3);\n",
       "}\n",
       "\n",
       ".sk-estimator-doc-link:hover span {\n",
       "  display: block;\n",
       "}\n",
       "\n",
       "/* \"?\"-specific style due to the `<a>` HTML tag */\n",
       "\n",
       "#sk-container-id-1 a.estimator_doc_link {\n",
       "  float: right;\n",
       "  font-size: 1rem;\n",
       "  line-height: 1em;\n",
       "  font-family: monospace;\n",
       "  background-color: var(--sklearn-color-background);\n",
       "  border-radius: 1rem;\n",
       "  height: 1rem;\n",
       "  width: 1rem;\n",
       "  text-decoration: none;\n",
       "  /* unfitted */\n",
       "  color: var(--sklearn-color-unfitted-level-1);\n",
       "  border: var(--sklearn-color-unfitted-level-1) 1pt solid;\n",
       "}\n",
       "\n",
       "#sk-container-id-1 a.estimator_doc_link.fitted {\n",
       "  /* fitted */\n",
       "  border: var(--sklearn-color-fitted-level-1) 1pt solid;\n",
       "  color: var(--sklearn-color-fitted-level-1);\n",
       "}\n",
       "\n",
       "/* On hover */\n",
       "#sk-container-id-1 a.estimator_doc_link:hover {\n",
       "  /* unfitted */\n",
       "  background-color: var(--sklearn-color-unfitted-level-3);\n",
       "  color: var(--sklearn-color-background);\n",
       "  text-decoration: none;\n",
       "}\n",
       "\n",
       "#sk-container-id-1 a.estimator_doc_link.fitted:hover {\n",
       "  /* fitted */\n",
       "  background-color: var(--sklearn-color-fitted-level-3);\n",
       "}\n",
       "</style><div id=\"sk-container-id-1\" class=\"sk-top-container\"><div class=\"sk-text-repr-fallback\"><pre>RandomForestClassifier(max_features=0.5, min_samples_leaf=2, n_estimators=300,\n",
       "                       n_jobs=-1, oob_score=True, random_state=123, verbose=1)</pre><b>In a Jupyter environment, please rerun this cell to show the HTML representation or trust the notebook. <br />On GitHub, the HTML representation is unable to render, please try loading this page with nbviewer.org.</b></div><div class=\"sk-container\" hidden><div class=\"sk-item\"><div class=\"sk-estimator fitted sk-toggleable\"><input class=\"sk-toggleable__control sk-hidden--visually\" id=\"sk-estimator-id-1\" type=\"checkbox\" checked><label for=\"sk-estimator-id-1\" class=\"sk-toggleable__label fitted sk-toggleable__label-arrow fitted\">&nbsp;&nbsp;RandomForestClassifier<a class=\"sk-estimator-doc-link fitted\" rel=\"noreferrer\" target=\"_blank\" href=\"https://scikit-learn.org/1.5/modules/generated/sklearn.ensemble.RandomForestClassifier.html\">?<span>Documentation for RandomForestClassifier</span></a><span class=\"sk-estimator-doc-link fitted\">i<span>Fitted</span></span></label><div class=\"sk-toggleable__content fitted\"><pre>RandomForestClassifier(max_features=0.5, min_samples_leaf=2, n_estimators=300,\n",
       "                       n_jobs=-1, oob_score=True, random_state=123, verbose=1)</pre></div> </div></div></div></div>"
      ],
      "text/plain": [
       "RandomForestClassifier(max_features=0.5, min_samples_leaf=2, n_estimators=300,\n",
       "                       n_jobs=-1, oob_score=True, random_state=123, verbose=1)"
      ]
     },
     "execution_count": 14,
     "metadata": {},
     "output_type": "execute_result"
    }
   ],
   "source": [
    "# %%time\n",
    "\n",
    "# from sklearn.ensemble import RandomForestClassifier\n",
    "\n",
    "# best_model = RandomForestClassifier(random_state=123, n_jobs=-1, \n",
    "#                                      oob_score=True,\n",
    "#                                      n_estimators=300, \n",
    "#                                      # max_samples=1_000_000,\n",
    "#                                      max_features=.5,\n",
    "#                                      min_samples_leaf=2,\n",
    "#                                      verbose=1\n",
    "# )\n",
    "\n",
    "# best_model.fit(X_resampled, y_resampled)\n",
    "\n",
    "# best_model.oob_score_, best_model.score(X_resampled, y_resampled)"
   ]
  },
  {
   "cell_type": "code",
   "execution_count": null,
   "id": "b51f44cf-7ebc-4337-b3c1-05ffeb09a52d",
   "metadata": {},
   "outputs": [],
   "source": []
  },
  {
   "cell_type": "code",
   "execution_count": null,
   "id": "b8514c52-968b-40dc-9d4e-f12aea98cfdf",
   "metadata": {},
   "outputs": [],
   "source": []
  },
  {
   "cell_type": "code",
   "execution_count": null,
   "id": "fecf9bde-ba6b-4d84-8318-fcf73d7a885f",
   "metadata": {},
   "outputs": [],
   "source": []
  },
  {
   "cell_type": "code",
   "execution_count": 45,
   "id": "adef9689-2ebf-40ef-8f80-7c0e254c580a",
   "metadata": {
    "scrolled": true
   },
   "outputs": [
    {
     "name": "stdout",
     "output_type": "stream",
     "text": [
      "Binning 6.739 GB of training data: 3.079 s\n",
      "Binning 0.749 GB of validation data: 0.336 s\n",
      "Fitting gradient boosted rounds:\n",
      "[1/20] 13 trees, 769077 leaves (59159 on avg), max depth = 58, train loss: 2.17510, val loss: 2.25584, in 115.399s\n",
      "[2/20] 13 trees, 2941241 leaves (226249 on avg), max depth = 142, train loss: 1.91370, val loss: 2.05598, in 327.804s\n",
      "[3/20] 13 trees, 2960341 leaves (227718 on avg), max depth = 162, train loss: 1.71112, val loss: 1.90425, in 322.643s\n",
      "[4/20] 13 trees, 2957284 leaves (227483 on avg), max depth = 151, train loss: 1.54540, val loss: 1.78206, in 323.809s\n",
      "[5/20] 13 trees, 2955846 leaves (227372 on avg), max depth = 140, train loss: 1.40491, val loss: 1.67931, in 323.202s\n",
      "[6/20] 13 trees, 2953801 leaves (227215 on avg), max depth = 145, train loss: 1.28336, val loss: 1.59116, in 316.810s\n",
      "[7/20] 13 trees, 2954188 leaves (227245 on avg), max depth = 121, train loss: 1.17668, val loss: 1.51437, in 322.149s\n",
      "[8/20] 13 trees, 2954317 leaves (227255 on avg), max depth = 130, train loss: 1.08204, val loss: 1.44663, in 319.593s\n",
      "[9/20] 13 trees, 2953006 leaves (227154 on avg), max depth = 127, train loss: 0.99738, val loss: 1.38637, in 324.282s\n",
      "[10/20] 13 trees, 2953747 leaves (227211 on avg), max depth = 124, train loss: 0.92112, val loss: 1.33226, in 325.248s\n",
      "[11/20] "
     ]
    },
    {
     "ename": "KeyboardInterrupt",
     "evalue": "",
     "output_type": "error",
     "traceback": [
      "\u001b[0;31m---------------------------------------------------------------------------\u001b[0m",
      "\u001b[0;31mKeyboardInterrupt\u001b[0m                         Traceback (most recent call last)",
      "File \u001b[0;32m<timed exec>:10\u001b[0m\n",
      "File \u001b[0;32m~/morphometrics/.pixi/envs/default/lib/python3.12/site-packages/sklearn/base.py:1473\u001b[0m, in \u001b[0;36m_fit_context.<locals>.decorator.<locals>.wrapper\u001b[0;34m(estimator, *args, **kwargs)\u001b[0m\n\u001b[1;32m   1466\u001b[0m     estimator\u001b[38;5;241m.\u001b[39m_validate_params()\n\u001b[1;32m   1468\u001b[0m \u001b[38;5;28;01mwith\u001b[39;00m config_context(\n\u001b[1;32m   1469\u001b[0m     skip_parameter_validation\u001b[38;5;241m=\u001b[39m(\n\u001b[1;32m   1470\u001b[0m         prefer_skip_nested_validation \u001b[38;5;129;01mor\u001b[39;00m global_skip_validation\n\u001b[1;32m   1471\u001b[0m     )\n\u001b[1;32m   1472\u001b[0m ):\n\u001b[0;32m-> 1473\u001b[0m     \u001b[38;5;28;01mreturn\u001b[39;00m \u001b[43mfit_method\u001b[49m\u001b[43m(\u001b[49m\u001b[43mestimator\u001b[49m\u001b[43m,\u001b[49m\u001b[43m \u001b[49m\u001b[38;5;241;43m*\u001b[39;49m\u001b[43margs\u001b[49m\u001b[43m,\u001b[49m\u001b[43m \u001b[49m\u001b[38;5;241;43m*\u001b[39;49m\u001b[38;5;241;43m*\u001b[39;49m\u001b[43mkwargs\u001b[49m\u001b[43m)\u001b[49m\n",
      "File \u001b[0;32m~/morphometrics/.pixi/envs/default/lib/python3.12/site-packages/sklearn/ensemble/_hist_gradient_boosting/gradient_boosting.py:920\u001b[0m, in \u001b[0;36mBaseHistGradientBoosting.fit\u001b[0;34m(self, X, y, sample_weight)\u001b[0m\n\u001b[1;32m    900\u001b[0m \u001b[38;5;28;01mfor\u001b[39;00m k \u001b[38;5;129;01min\u001b[39;00m \u001b[38;5;28mrange\u001b[39m(\u001b[38;5;28mself\u001b[39m\u001b[38;5;241m.\u001b[39mn_trees_per_iteration_):\n\u001b[1;32m    901\u001b[0m     grower \u001b[38;5;241m=\u001b[39m TreeGrower(\n\u001b[1;32m    902\u001b[0m         X_binned\u001b[38;5;241m=\u001b[39mX_binned_train,\n\u001b[1;32m    903\u001b[0m         gradients\u001b[38;5;241m=\u001b[39mg_view[:, k],\n\u001b[0;32m   (...)\u001b[0m\n\u001b[1;32m    918\u001b[0m         n_threads\u001b[38;5;241m=\u001b[39mn_threads,\n\u001b[1;32m    919\u001b[0m     )\n\u001b[0;32m--> 920\u001b[0m     \u001b[43mgrower\u001b[49m\u001b[38;5;241;43m.\u001b[39;49m\u001b[43mgrow\u001b[49m\u001b[43m(\u001b[49m\u001b[43m)\u001b[49m\n\u001b[1;32m    922\u001b[0m     acc_apply_split_time \u001b[38;5;241m+\u001b[39m\u001b[38;5;241m=\u001b[39m grower\u001b[38;5;241m.\u001b[39mtotal_apply_split_time\n\u001b[1;32m    923\u001b[0m     acc_find_split_time \u001b[38;5;241m+\u001b[39m\u001b[38;5;241m=\u001b[39m grower\u001b[38;5;241m.\u001b[39mtotal_find_split_time\n",
      "File \u001b[0;32m~/morphometrics/.pixi/envs/default/lib/python3.12/site-packages/sklearn/ensemble/_hist_gradient_boosting/grower.py:387\u001b[0m, in \u001b[0;36mTreeGrower.grow\u001b[0;34m(self)\u001b[0m\n\u001b[1;32m    385\u001b[0m \u001b[38;5;250m\u001b[39m\u001b[38;5;124;03m\"\"\"Grow the tree, from root to leaves.\"\"\"\u001b[39;00m\n\u001b[1;32m    386\u001b[0m \u001b[38;5;28;01mwhile\u001b[39;00m \u001b[38;5;28mself\u001b[39m\u001b[38;5;241m.\u001b[39msplittable_nodes:\n\u001b[0;32m--> 387\u001b[0m     \u001b[38;5;28;43mself\u001b[39;49m\u001b[38;5;241;43m.\u001b[39;49m\u001b[43msplit_next\u001b[49m\u001b[43m(\u001b[49m\u001b[43m)\u001b[49m\n\u001b[1;32m    389\u001b[0m \u001b[38;5;28mself\u001b[39m\u001b[38;5;241m.\u001b[39m_apply_shrinkage()\n",
      "File \u001b[0;32m~/morphometrics/.pixi/envs/default/lib/python3.12/site-packages/sklearn/ensemble/_hist_gradient_boosting/grower.py:604\u001b[0m, in \u001b[0;36mTreeGrower.split_next\u001b[0;34m(self)\u001b[0m\n\u001b[1;32m    599\u001b[0m \u001b[38;5;66;03m# We use the brute O(n_samples) method on the child that has the\u001b[39;00m\n\u001b[1;32m    600\u001b[0m \u001b[38;5;66;03m# smallest number of samples, and the subtraction trick O(n_bins)\u001b[39;00m\n\u001b[1;32m    601\u001b[0m \u001b[38;5;66;03m# on the other one.\u001b[39;00m\n\u001b[1;32m    602\u001b[0m \u001b[38;5;66;03m# Note that both left and right child have the same allowed_features.\u001b[39;00m\n\u001b[1;32m    603\u001b[0m tic \u001b[38;5;241m=\u001b[39m time()\n\u001b[0;32m--> 604\u001b[0m smallest_child\u001b[38;5;241m.\u001b[39mhistograms \u001b[38;5;241m=\u001b[39m \u001b[38;5;28;43mself\u001b[39;49m\u001b[38;5;241;43m.\u001b[39;49m\u001b[43mhistogram_builder\u001b[49m\u001b[38;5;241;43m.\u001b[39;49m\u001b[43mcompute_histograms_brute\u001b[49m\u001b[43m(\u001b[49m\n\u001b[1;32m    605\u001b[0m \u001b[43m    \u001b[49m\u001b[43msmallest_child\u001b[49m\u001b[38;5;241;43m.\u001b[39;49m\u001b[43msample_indices\u001b[49m\u001b[43m,\u001b[49m\u001b[43m \u001b[49m\u001b[43msmallest_child\u001b[49m\u001b[38;5;241;43m.\u001b[39;49m\u001b[43mallowed_features\u001b[49m\n\u001b[1;32m    606\u001b[0m \u001b[43m\u001b[49m\u001b[43m)\u001b[49m\n\u001b[1;32m    607\u001b[0m largest_child\u001b[38;5;241m.\u001b[39mhistograms \u001b[38;5;241m=\u001b[39m (\n\u001b[1;32m    608\u001b[0m     \u001b[38;5;28mself\u001b[39m\u001b[38;5;241m.\u001b[39mhistogram_builder\u001b[38;5;241m.\u001b[39mcompute_histograms_subtraction(\n\u001b[1;32m    609\u001b[0m         node\u001b[38;5;241m.\u001b[39mhistograms,\n\u001b[0;32m   (...)\u001b[0m\n\u001b[1;32m    612\u001b[0m     )\n\u001b[1;32m    613\u001b[0m )\n\u001b[1;32m    614\u001b[0m \u001b[38;5;66;03m# node.histograms is reused in largest_child.histograms. To break cyclic\u001b[39;00m\n\u001b[1;32m    615\u001b[0m \u001b[38;5;66;03m# memory references and help garbage collection, we set it to None.\u001b[39;00m\n",
      "\u001b[0;31mKeyboardInterrupt\u001b[0m: "
     ]
    }
   ],
   "source": [
    "%%time\n",
    "\n",
    "\n",
    "from sklearn.ensemble import HistGradientBoostingClassifier\n",
    "\n",
    "best_model = HistGradientBoostingClassifier(random_state=123, verbose=1,\n",
    "                                            learning_rate = 0.05,\n",
    "                                            max_depth = None, \n",
    "                                            max_iter = 20, \n",
    "                                            max_leaf_nodes=None,\n",
    "                                            max_features=.5\n",
    "                                           )\n",
    "best_model.fit(X_resampled, y_resampled)"
   ]
  },
  {
   "cell_type": "code",
   "execution_count": 46,
   "id": "bfd96cd9-473e-4b83-88a2-e6b06e3e1afa",
   "metadata": {},
   "outputs": [
    {
     "ename": "KeyboardInterrupt",
     "evalue": "",
     "output_type": "error",
     "traceback": [
      "\u001b[0;31m---------------------------------------------------------------------------\u001b[0m",
      "\u001b[0;31mKeyboardInterrupt\u001b[0m                         Traceback (most recent call last)",
      "Cell \u001b[0;32mIn[46], line 1\u001b[0m\n\u001b[0;32m----> 1\u001b[0m \u001b[43mbest_model\u001b[49m\u001b[38;5;241;43m.\u001b[39;49m\u001b[43mscore\u001b[49m\u001b[43m(\u001b[49m\u001b[43mX_resampled\u001b[49m\u001b[43m,\u001b[49m\u001b[43m \u001b[49m\u001b[43my_resampled\u001b[49m\u001b[43m)\u001b[49m\n",
      "File \u001b[0;32m~/morphometrics/.pixi/envs/default/lib/python3.12/site-packages/sklearn/base.py:764\u001b[0m, in \u001b[0;36mClassifierMixin.score\u001b[0;34m(self, X, y, sample_weight)\u001b[0m\n\u001b[1;32m    739\u001b[0m \u001b[38;5;250m\u001b[39m\u001b[38;5;124;03m\"\"\"\u001b[39;00m\n\u001b[1;32m    740\u001b[0m \u001b[38;5;124;03mReturn the mean accuracy on the given test data and labels.\u001b[39;00m\n\u001b[1;32m    741\u001b[0m \n\u001b[0;32m   (...)\u001b[0m\n\u001b[1;32m    760\u001b[0m \u001b[38;5;124;03m    Mean accuracy of ``self.predict(X)`` w.r.t. `y`.\u001b[39;00m\n\u001b[1;32m    761\u001b[0m \u001b[38;5;124;03m\"\"\"\u001b[39;00m\n\u001b[1;32m    762\u001b[0m \u001b[38;5;28;01mfrom\u001b[39;00m \u001b[38;5;21;01m.\u001b[39;00m\u001b[38;5;21;01mmetrics\u001b[39;00m \u001b[38;5;28;01mimport\u001b[39;00m accuracy_score\n\u001b[0;32m--> 764\u001b[0m \u001b[38;5;28;01mreturn\u001b[39;00m accuracy_score(y, \u001b[38;5;28;43mself\u001b[39;49m\u001b[38;5;241;43m.\u001b[39;49m\u001b[43mpredict\u001b[49m\u001b[43m(\u001b[49m\u001b[43mX\u001b[49m\u001b[43m)\u001b[49m, sample_weight\u001b[38;5;241m=\u001b[39msample_weight)\n",
      "File \u001b[0;32m~/morphometrics/.pixi/envs/default/lib/python3.12/site-packages/sklearn/ensemble/_hist_gradient_boosting/gradient_boosting.py:2159\u001b[0m, in \u001b[0;36mHistGradientBoostingClassifier.predict\u001b[0;34m(self, X)\u001b[0m\n\u001b[1;32m   2146\u001b[0m \u001b[38;5;250m\u001b[39m\u001b[38;5;124;03m\"\"\"Predict classes for X.\u001b[39;00m\n\u001b[1;32m   2147\u001b[0m \n\u001b[1;32m   2148\u001b[0m \u001b[38;5;124;03mParameters\u001b[39;00m\n\u001b[0;32m   (...)\u001b[0m\n\u001b[1;32m   2156\u001b[0m \u001b[38;5;124;03m    The predicted classes.\u001b[39;00m\n\u001b[1;32m   2157\u001b[0m \u001b[38;5;124;03m\"\"\"\u001b[39;00m\n\u001b[1;32m   2158\u001b[0m \u001b[38;5;66;03m# TODO: This could be done in parallel\u001b[39;00m\n\u001b[0;32m-> 2159\u001b[0m raw_predictions \u001b[38;5;241m=\u001b[39m \u001b[38;5;28;43mself\u001b[39;49m\u001b[38;5;241;43m.\u001b[39;49m\u001b[43m_raw_predict\u001b[49m\u001b[43m(\u001b[49m\u001b[43mX\u001b[49m\u001b[43m)\u001b[49m\n\u001b[1;32m   2160\u001b[0m \u001b[38;5;28;01mif\u001b[39;00m raw_predictions\u001b[38;5;241m.\u001b[39mshape[\u001b[38;5;241m1\u001b[39m] \u001b[38;5;241m==\u001b[39m \u001b[38;5;241m1\u001b[39m:\n\u001b[1;32m   2161\u001b[0m     \u001b[38;5;66;03m# np.argmax([0.5, 0.5]) is 0, not 1. Therefore \"> 0\" not \">= 0\" to be\u001b[39;00m\n\u001b[1;32m   2162\u001b[0m     \u001b[38;5;66;03m# consistent with the multiclass case.\u001b[39;00m\n\u001b[1;32m   2163\u001b[0m     encoded_classes \u001b[38;5;241m=\u001b[39m (raw_predictions\u001b[38;5;241m.\u001b[39mravel() \u001b[38;5;241m>\u001b[39m \u001b[38;5;241m0\u001b[39m)\u001b[38;5;241m.\u001b[39mastype(\u001b[38;5;28mint\u001b[39m)\n",
      "File \u001b[0;32m~/morphometrics/.pixi/envs/default/lib/python3.12/site-packages/sklearn/ensemble/_hist_gradient_boosting/gradient_boosting.py:1291\u001b[0m, in \u001b[0;36mBaseHistGradientBoosting._raw_predict\u001b[0;34m(self, X, n_threads)\u001b[0m\n\u001b[1;32m   1286\u001b[0m raw_predictions \u001b[38;5;241m+\u001b[39m\u001b[38;5;241m=\u001b[39m \u001b[38;5;28mself\u001b[39m\u001b[38;5;241m.\u001b[39m_baseline_prediction\n\u001b[1;32m   1288\u001b[0m \u001b[38;5;66;03m# We intentionally decouple the number of threads used at prediction\u001b[39;00m\n\u001b[1;32m   1289\u001b[0m \u001b[38;5;66;03m# time from the number of threads used at fit time because the model\u001b[39;00m\n\u001b[1;32m   1290\u001b[0m \u001b[38;5;66;03m# can be deployed on a different machine for prediction purposes.\u001b[39;00m\n\u001b[0;32m-> 1291\u001b[0m n_threads \u001b[38;5;241m=\u001b[39m \u001b[43m_openmp_effective_n_threads\u001b[49m\u001b[43m(\u001b[49m\u001b[43mn_threads\u001b[49m\u001b[43m)\u001b[49m\n\u001b[1;32m   1292\u001b[0m \u001b[38;5;28mself\u001b[39m\u001b[38;5;241m.\u001b[39m_predict_iterations(\n\u001b[1;32m   1293\u001b[0m     X, \u001b[38;5;28mself\u001b[39m\u001b[38;5;241m.\u001b[39m_predictors, raw_predictions, is_binned, n_threads\n\u001b[1;32m   1294\u001b[0m )\n\u001b[1;32m   1295\u001b[0m \u001b[38;5;28;01mreturn\u001b[39;00m raw_predictions\n",
      "File \u001b[0;32m_openmp_helpers.pyx:21\u001b[0m, in \u001b[0;36msklearn.utils._openmp_helpers._openmp_effective_n_threads\u001b[0;34m()\u001b[0m\n",
      "File \u001b[0;32m_openmp_helpers.pyx:60\u001b[0m, in \u001b[0;36msklearn.utils._openmp_helpers._openmp_effective_n_threads\u001b[0;34m()\u001b[0m\n",
      "File \u001b[0;32m<frozen os>:808\u001b[0m, in \u001b[0;36mgetenv\u001b[0;34m(key, default)\u001b[0m\n",
      "\u001b[0;31mKeyboardInterrupt\u001b[0m: "
     ]
    }
   ],
   "source": [
    "best_model.score(X_resampled, y_resampled)"
   ]
  },
  {
   "cell_type": "code",
   "execution_count": 31,
   "id": "8f29c274-d529-49e6-8408-38ea669fb673",
   "metadata": {},
   "outputs": [],
   "source": [
    "X_test = pd.read_parquet(f'/data/uscuni-eurofab-overture/processed_data/train_test_data/testing_data{train_test_iteration}.pq')\n",
    "y_test = pd.read_parquet(f'/data/uscuni-eurofab-overture/processed_data/train_test_data/testing_labels{train_test_iteration}.pq')\n",
    "\n",
    "y_test['final_without_noise'] = y_test['final_without_noise'].map(level_cut.to_dict())"
   ]
  },
  {
   "cell_type": "code",
   "execution_count": null,
   "id": "67fe1055-d125-476d-984d-a070bff4a313",
   "metadata": {},
   "outputs": [],
   "source": []
  },
  {
   "cell_type": "code",
   "execution_count": 32,
   "id": "cd7d01ea-1510-47d5-b273-faa3f2f08d4d",
   "metadata": {},
   "outputs": [
    {
     "data": {
      "text/plain": [
       "(3627822, 1)"
      ]
     },
     "execution_count": 32,
     "metadata": {},
     "output_type": "execute_result"
    }
   ],
   "source": [
    "has_building_test = ~y_test.index.str.split('_').str[-1].str.startswith('-')\n",
    "\n",
    "X_test = X_test[has_building_test]\n",
    "y_test = y_test[has_building_test]\n",
    "\n",
    "assert y_test.final_without_noise.isna().sum() == 0\n",
    "assert (X_test.index == y_test.index).all()\n",
    "\n",
    "y_test.shape"
   ]
  },
  {
   "cell_type": "code",
   "execution_count": 33,
   "id": "a2896258-ac68-430d-973c-50de96e5e781",
   "metadata": {},
   "outputs": [
    {
     "data": {
      "text/plain": [
       "final_without_noise\n",
       "Sparse Open Layout                    1498619\n",
       "Dense Standalone Buildings             465776\n",
       "Cul-de-Sac Layout                      429012\n",
       "Aligned Winding Streets                334237\n",
       "Dense Connected Developments           262842\n",
       "Sparse Road-Linked Development         226288\n",
       "Sparse Rural Development               150309\n",
       "Large Interconnected Blocks             82771\n",
       "Compact Development                     75956\n",
       "Large Utilitarian Development           55214\n",
       "Extensive Wide-Spaced Developments      35057\n",
       "Linear Development                      11221\n",
       "Dispersed Linear Development              520\n",
       "Name: count, dtype: int64"
      ]
     },
     "execution_count": 33,
     "metadata": {},
     "output_type": "execute_result"
    }
   ],
   "source": [
    "y_test.final_without_noise.map(cluster_names).value_counts()"
   ]
  },
  {
   "cell_type": "code",
   "execution_count": 34,
   "id": "3fc79f8d-2fd1-441a-afca-b3dbcd4860a9",
   "metadata": {},
   "outputs": [],
   "source": [
    "if 'source' in X_test.columns:\n",
    "    # we can do this because of random forest splitting\n",
    "    factorizer_dict = pd.Series(np.arange(len(source_factorizer[1])), source_factorizer[1].values, ).to_dict()\n",
    "    X_test['source'] = X_test['source'].map(factorizer_dict)"
   ]
  },
  {
   "cell_type": "code",
   "execution_count": null,
   "id": "ae218f37-9cdd-4958-a86f-76b2c3ee852b",
   "metadata": {},
   "outputs": [],
   "source": []
  },
  {
   "cell_type": "code",
   "execution_count": 35,
   "id": "65c207f7-f617-42c2-868c-097a6dc04813",
   "metadata": {},
   "outputs": [
    {
     "name": "stderr",
     "output_type": "stream",
     "text": [
      "/home/krasen/morphometrics/.pixi/envs/default/lib/python3.12/site-packages/sklearn/base.py:486: UserWarning: X has feature names, but HistGradientBoostingClassifier was fitted without feature names\n",
      "  warnings.warn(\n"
     ]
    },
    {
     "name": "stdout",
     "output_type": "stream",
     "text": [
      "CPU times: user 36.8 s, sys: 486 ms, total: 37.3 s\n",
      "Wall time: 3.59 s\n"
     ]
    }
   ],
   "source": [
    "%%time\n",
    "predictions = best_model.predict(X_test)"
   ]
  },
  {
   "cell_type": "code",
   "execution_count": 36,
   "id": "1fca5d94-575f-493f-826f-910765f9edf4",
   "metadata": {},
   "outputs": [],
   "source": [
    "mapped_predictions = predictions"
   ]
  },
  {
   "cell_type": "code",
   "execution_count": null,
   "id": "74ec3488-4cc2-4a25-a81a-7f81f4238a1c",
   "metadata": {},
   "outputs": [],
   "source": []
  },
  {
   "cell_type": "code",
   "execution_count": 37,
   "id": "c1992f8c-fa1f-4531-a181-76f017ec3664",
   "metadata": {
    "scrolled": true
   },
   "outputs": [],
   "source": [
    "acc = accuracy_score(mapped_predictions, y_test)\n",
    "weighted = f1_score(y_test, mapped_predictions, average='weighted')\n",
    "micro = f1_score(y_test, mapped_predictions, average='micro')\n",
    "macro = f1_score(y_test, mapped_predictions, average='macro')"
   ]
  },
  {
   "cell_type": "code",
   "execution_count": null,
   "id": "0e1518ca-e067-4c91-971e-5fbfc78abbae",
   "metadata": {},
   "outputs": [],
   "source": []
  },
  {
   "cell_type": "code",
   "execution_count": 38,
   "id": "575ddd74-3b63-4ab8-91b2-b0ecfb05543b",
   "metadata": {},
   "outputs": [
    {
     "data": {
      "text/plain": [
       "Dispersed Linear Development          0.083528\n",
       "Linear Development                    0.116749\n",
       "Compact Development                   0.169584\n",
       "Extensive Wide-Spaced Developments    0.183752\n",
       "Sparse Road-Linked Development        0.191473\n",
       "Aligned Winding Streets               0.272248\n",
       "Dense Connected Developments          0.312683\n",
       "Large Utilitarian Development         0.323662\n",
       "Cul-de-Sac Layout                     0.459316\n",
       "Sparse Rural Development              0.476403\n",
       "Dense Standalone Buildings            0.518336\n",
       "Large Interconnected Blocks           0.523792\n",
       "Sparse Open Layout                    0.573094\n",
       "dtype: float64"
      ]
     },
     "execution_count": 38,
     "metadata": {},
     "output_type": "execute_result"
    }
   ],
   "source": [
    "f1s_vals = f1_score(y_test, mapped_predictions, average=None)\n",
    "\n",
    "f1s = pd.Series(\n",
    "    f1s_vals,\n",
    "    index = [cluster_names[k] for k in sorted(np.unique(mapped_predictions))]\n",
    ")\n",
    "f1s = f1s.sort_values()\n",
    "f1s"
   ]
  },
  {
   "cell_type": "code",
   "execution_count": 39,
   "id": "4308a430-7f63-4c99-a41a-78df23a4ac62",
   "metadata": {},
   "outputs": [
    {
     "data": {
      "text/plain": [
       "Overall accuracy    0.429831\n",
       "Weighted F1         0.459600\n",
       "Micro F1            0.429831\n",
       "Macro F1            0.323432\n",
       "dtype: float64"
      ]
     },
     "execution_count": 39,
     "metadata": {},
     "output_type": "execute_result"
    }
   ],
   "source": [
    "overall_acc = pd.Series([acc, weighted, micro, macro], index=['Overall accuracy', 'Weighted F1', 'Micro F1', 'Macro F1'])\n",
    "overall_acc"
   ]
  },
  {
   "cell_type": "code",
   "execution_count": 40,
   "id": "cf2270a7-f8e3-4b70-95ac-d802526b8906",
   "metadata": {},
   "outputs": [],
   "source": [
    "overall_acc.to_csv(f'/data/uscuni-eurofab-overture/processed_data/results/overall_acc_{mapping_level}_{train_test_iteration}.csv')"
   ]
  },
  {
   "cell_type": "code",
   "execution_count": 41,
   "id": "bd889f85-383a-4c59-b7dc-db2311b97ade",
   "metadata": {},
   "outputs": [],
   "source": [
    "f1s.to_csv(f'/data/uscuni-eurofab-overture/processed_data/results/class_f1s_{mapping_level}_{train_test_iteration}.csv')"
   ]
  },
  {
   "cell_type": "code",
   "execution_count": null,
   "id": "4adfab3b-9003-4e07-b359-5b1fbe94f6fa",
   "metadata": {},
   "outputs": [],
   "source": []
  },
  {
   "cell_type": "code",
   "execution_count": 28,
   "id": "cf6e3c9e-b518-48bb-a676-565a2a395dae",
   "metadata": {},
   "outputs": [
    {
     "ename": "AttributeError",
     "evalue": "'HistGradientBoostingClassifier' object has no attribute 'feature_importances_'",
     "output_type": "error",
     "traceback": [
      "\u001b[0;31m---------------------------------------------------------------------------\u001b[0m",
      "\u001b[0;31mAttributeError\u001b[0m                            Traceback (most recent call last)",
      "Cell \u001b[0;32mIn[28], line 5\u001b[0m\n\u001b[1;32m      1\u001b[0m \u001b[38;5;28;01mdef\u001b[39;00m \u001b[38;5;21mrf_feat_importance\u001b[39m(m, df):\n\u001b[1;32m      2\u001b[0m     \u001b[38;5;28;01mreturn\u001b[39;00m pd\u001b[38;5;241m.\u001b[39mDataFrame({\u001b[38;5;124m'\u001b[39m\u001b[38;5;124mcols\u001b[39m\u001b[38;5;124m'\u001b[39m:df\u001b[38;5;241m.\u001b[39mcolumns, \u001b[38;5;124m'\u001b[39m\u001b[38;5;124mimp\u001b[39m\u001b[38;5;124m'\u001b[39m:m\u001b[38;5;241m.\u001b[39mfeature_importances_}\n\u001b[1;32m      3\u001b[0m                        )\u001b[38;5;241m.\u001b[39msort_values(\u001b[38;5;124m'\u001b[39m\u001b[38;5;124mimp\u001b[39m\u001b[38;5;124m'\u001b[39m, ascending\u001b[38;5;241m=\u001b[39m\u001b[38;5;28;01mFalse\u001b[39;00m)\n\u001b[0;32m----> 5\u001b[0m fi \u001b[38;5;241m=\u001b[39m \u001b[43mrf_feat_importance\u001b[49m\u001b[43m(\u001b[49m\u001b[43mbest_model\u001b[49m\u001b[43m,\u001b[49m\u001b[43m \u001b[49m\u001b[43mX_train\u001b[49m\u001b[43m)\u001b[49m\n\u001b[1;32m      6\u001b[0m fi[:\u001b[38;5;241m20\u001b[39m]\n",
      "Cell \u001b[0;32mIn[28], line 2\u001b[0m, in \u001b[0;36mrf_feat_importance\u001b[0;34m(m, df)\u001b[0m\n\u001b[1;32m      1\u001b[0m \u001b[38;5;28;01mdef\u001b[39;00m \u001b[38;5;21mrf_feat_importance\u001b[39m(m, df):\n\u001b[0;32m----> 2\u001b[0m     \u001b[38;5;28;01mreturn\u001b[39;00m pd\u001b[38;5;241m.\u001b[39mDataFrame({\u001b[38;5;124m'\u001b[39m\u001b[38;5;124mcols\u001b[39m\u001b[38;5;124m'\u001b[39m:df\u001b[38;5;241m.\u001b[39mcolumns, \u001b[38;5;124m'\u001b[39m\u001b[38;5;124mimp\u001b[39m\u001b[38;5;124m'\u001b[39m:\u001b[43mm\u001b[49m\u001b[38;5;241;43m.\u001b[39;49m\u001b[43mfeature_importances_\u001b[49m}\n\u001b[1;32m      3\u001b[0m                        )\u001b[38;5;241m.\u001b[39msort_values(\u001b[38;5;124m'\u001b[39m\u001b[38;5;124mimp\u001b[39m\u001b[38;5;124m'\u001b[39m, ascending\u001b[38;5;241m=\u001b[39m\u001b[38;5;28;01mFalse\u001b[39;00m)\n",
      "\u001b[0;31mAttributeError\u001b[0m: 'HistGradientBoostingClassifier' object has no attribute 'feature_importances_'"
     ]
    }
   ],
   "source": [
    "\n",
    "def rf_feat_importance(m, df):\n",
    "    return pd.DataFrame({'cols':df.columns, 'imp':m.feature_importances_}\n",
    "                       ).sort_values('imp', ascending=False)\n",
    "\n",
    "fi = rf_feat_importance(best_model, X_train)\n",
    "fi[:20]"
   ]
  },
  {
   "cell_type": "code",
   "execution_count": null,
   "id": "af2ea144-0580-4465-86c1-2d5989df1499",
   "metadata": {},
   "outputs": [],
   "source": []
  },
  {
   "cell_type": "code",
   "execution_count": null,
   "id": "b558e97f-2299-4a6e-b823-a3fb8e07a549",
   "metadata": {},
   "outputs": [],
   "source": []
  },
  {
   "cell_type": "code",
   "execution_count": 52,
   "id": "419b08d3-be30-4b8e-b8c2-0bf38d760b2e",
   "metadata": {},
   "outputs": [],
   "source": [
    "from sklearn.metrics import ConfusionMatrixDisplay \n",
    "from sklearn.metrics import confusion_matrix\n",
    "import matplotlib.pyplot as plt"
   ]
  },
  {
   "cell_type": "code",
   "execution_count": 82,
   "id": "8e0a4dd4-1a28-41d2-9f03-0d42b32ba82e",
   "metadata": {},
   "outputs": [],
   "source": [
    "labels = ['Dense Connected Developments',\n",
    " 'Large Interconnected Blocks',\n",
    " 'Dense Standalone Buildings',\n",
    " 'Compact Development',\n",
    " 'Cul-de-Sac Layout',\n",
    " 'Aligned Winding Streets',\n",
    " 'Sparse Rural Development',\n",
    " 'Dispersed Linear Development',\n",
    " 'Linear Development',\n",
    " 'Sparse Open Layout',\n",
    " 'Sparse Road-Linked Development',\n",
    " 'Large Utilitarian Development',\n",
    " 'Extensive Wide-Spaced Developments']"
   ]
  },
  {
   "cell_type": "code",
   "execution_count": 94,
   "id": "a5e75c26-2cbf-444e-a55b-27927610bb08",
   "metadata": {},
   "outputs": [],
   "source": [
    "cm = confusion_matrix(y_test.final_without_noise.map(cluster_names), \n",
    "                      pd.Series(mapped_predictions).map(cluster_names), \n",
    "                      labels=labels,\n",
    "                      normalize='true'\n",
    "                     )"
   ]
  },
  {
   "cell_type": "code",
   "execution_count": 95,
   "id": "6f5bad74-3f8a-4811-a56c-e290d8d8a607",
   "metadata": {},
   "outputs": [],
   "source": [
    "# ## testing sklearn categorical ordering\n",
    "# cm_vals = cm.sum(axis=0)\n",
    "# pd.testing.assert_series_equal(\n",
    "#     pd.Series(cm_vals, index = sorted(np.unique(mapped_predictions))).sort_values(ascending=False), \n",
    "#     pd.Series(mapped_predictions).value_counts(), check_names=False)\n",
    "\n",
    "# cm_vals = cm.sum(axis=1)\n",
    "# pd.testing.assert_series_equal(\n",
    "#     pd.Series(cm_vals, index = sorted(np.unique(mapped_predictions))).sort_values(ascending=False), \n",
    "#     y_test.final_without_noise.value_counts(), check_names=False)"
   ]
  },
  {
   "cell_type": "code",
   "execution_count": null,
   "id": "f840e863-9a56-4de1-8505-17b98d620a46",
   "metadata": {},
   "outputs": [],
   "source": []
  },
  {
   "cell_type": "code",
   "execution_count": 96,
   "id": "0ba71514-ae93-4e35-bd4d-0ea200003073",
   "metadata": {},
   "outputs": [],
   "source": [
    "disp = ConfusionMatrixDisplay(confusion_matrix=cm, \n",
    "                              display_labels=labels\n",
    "                             )"
   ]
  },
  {
   "cell_type": "code",
   "execution_count": 97,
   "id": "547bc9e2-b439-4ba5-8a3a-0cdf6d708838",
   "metadata": {},
   "outputs": [
    {
     "data": {
      "text/plain": [
       "<sklearn.metrics._plot.confusion_matrix.ConfusionMatrixDisplay at 0x797c0dc526c0>"
      ]
     },
     "execution_count": 97,
     "metadata": {},
     "output_type": "execute_result"
    },
    {
     "data": {
      "image/png": "[encoded data removed]",
      "text/plain": [
       "<Figure size 2000x2000 with 2 Axes>"
      ]
     },
     "metadata": {},
     "output_type": "display_data"
    }
   ],
   "source": [
    "fig,ax = plt.subplots(figsize=(20,20))\n",
    "disp.plot( xticks_rotation = 'vertical', ax=ax)"
   ]
  },
  {
   "cell_type": "code",
   "execution_count": null,
   "id": "877273fe-51e5-4434-934d-3f51a2f574cb",
   "metadata": {},
   "outputs": [],
   "source": []
  },
  {
   "cell_type": "code",
   "execution_count": null,
   "id": "a2f02eda-cfaa-44d9-a034-be218cba672a",
   "metadata": {},
   "outputs": [],
   "source": []
  },
  {
   "cell_type": "markdown",
   "id": "2eba32f3-2bf5-4f8b-b115-b4b45e49e08c",
   "metadata": {},
   "source": [
    "## All Scores"
   ]
  },
  {
   "cell_type": "code",
   "execution_count": null,
   "id": "c903c6ef-e7cc-4d43-b23f-24d1a5e9bd62",
   "metadata": {},
   "outputs": [],
   "source": []
  },
  {
   "cell_type": "code",
   "execution_count": 100,
   "id": "07933a39-f77a-4c54-9845-dacdcdbf139f",
   "metadata": {},
   "outputs": [],
   "source": [
    "import glob\n",
    "import pandas as pd\n",
    "\n",
    "\n",
    "test_countries_names = ['Slovakia', 'Poland', 'Germany', 'Austria', 'Czechia']\n",
    "\n",
    "mapping_level = 3"
   ]
  },
  {
   "cell_type": "code",
   "execution_count": 101,
   "id": "2d90bf15-c27f-4a8e-a153-2dc1911fcd7a",
   "metadata": {},
   "outputs": [
    {
     "data": {
      "text/html": [
       "<div>\n",
       "<style scoped>\n",
       "    .dataframe tbody tr th:only-of-type {\n",
       "        vertical-align: middle;\n",
       "    }\n",
       "\n",
       "    .dataframe tbody tr th {\n",
       "        vertical-align: top;\n",
       "    }\n",
       "\n",
       "    .dataframe thead th {\n",
       "        text-align: right;\n",
       "    }\n",
       "</style>\n",
       "<table border=\"1\" class=\"dataframe\">\n",
       "  <thead>\n",
       "    <tr style=\"text-align: right;\">\n",
       "      <th></th>\n",
       "      <th>Slovakia</th>\n",
       "      <th>Poland</th>\n",
       "      <th>Germany</th>\n",
       "      <th>Austria</th>\n",
       "      <th>Czechia</th>\n",
       "    </tr>\n",
       "    <tr>\n",
       "      <th></th>\n",
       "      <th></th>\n",
       "      <th></th>\n",
       "      <th></th>\n",
       "      <th></th>\n",
       "      <th></th>\n",
       "    </tr>\n",
       "  </thead>\n",
       "  <tbody>\n",
       "    <tr>\n",
       "      <th>Overall accuracy</th>\n",
       "      <td>0.527079</td>\n",
       "      <td>0.554548</td>\n",
       "      <td>0.525852</td>\n",
       "      <td>0.589563</td>\n",
       "      <td>0.487259</td>\n",
       "    </tr>\n",
       "    <tr>\n",
       "      <th>Weighted F1</th>\n",
       "      <td>0.539785</td>\n",
       "      <td>0.559759</td>\n",
       "      <td>0.547672</td>\n",
       "      <td>0.612165</td>\n",
       "      <td>0.521370</td>\n",
       "    </tr>\n",
       "    <tr>\n",
       "      <th>Micro F1</th>\n",
       "      <td>0.527079</td>\n",
       "      <td>0.554548</td>\n",
       "      <td>0.525852</td>\n",
       "      <td>0.589563</td>\n",
       "      <td>0.487259</td>\n",
       "    </tr>\n",
       "    <tr>\n",
       "      <th>Macro F1</th>\n",
       "      <td>0.441375</td>\n",
       "      <td>0.518422</td>\n",
       "      <td>0.419451</td>\n",
       "      <td>0.483046</td>\n",
       "      <td>0.418075</td>\n",
       "    </tr>\n",
       "  </tbody>\n",
       "</table>\n",
       "</div>"
      ],
      "text/plain": [
       "                  Slovakia    Poland   Germany   Austria   Czechia\n",
       "                                                                  \n",
       "Overall accuracy  0.527079  0.554548  0.525852  0.589563  0.487259\n",
       "Weighted F1       0.539785  0.559759  0.547672  0.612165  0.521370\n",
       "Micro F1          0.527079  0.554548  0.525852  0.589563  0.487259\n",
       "Macro F1          0.441375  0.518422  0.419451  0.483046  0.418075"
      ]
     },
     "execution_count": 101,
     "metadata": {},
     "output_type": "execute_result"
    }
   ],
   "source": [
    "overall_accs = [pd.read_csv(f1fp).set_index('Unnamed: 0')['0'] for f1fp in sorted(glob.glob(f'/data/uscuni-eurofab/processed_data/results/overall_acc_{mapping_level}*'))]\n",
    "overall_accs = pd.concat(overall_accs, axis=1)\n",
    "overall_accs.index.name = ''\n",
    "overall_accs.columns = test_countries_names\n",
    "overall_accs"
   ]
  },
  {
   "cell_type": "code",
   "execution_count": 53,
   "id": "4b08fa65-87e8-43f5-a2a3-d298737016a8",
   "metadata": {},
   "outputs": [
    {
     "data": {
      "text/html": [
       "<div>\n",
       "<style scoped>\n",
       "    .dataframe tbody tr th:only-of-type {\n",
       "        vertical-align: middle;\n",
       "    }\n",
       "\n",
       "    .dataframe tbody tr th {\n",
       "        vertical-align: top;\n",
       "    }\n",
       "\n",
       "    .dataframe thead th {\n",
       "        text-align: right;\n",
       "    }\n",
       "</style>\n",
       "<table border=\"1\" class=\"dataframe\">\n",
       "  <thead>\n",
       "    <tr style=\"text-align: right;\">\n",
       "      <th></th>\n",
       "      <th>Slovakia</th>\n",
       "      <th>Poland</th>\n",
       "      <th>Germany</th>\n",
       "      <th>Austria</th>\n",
       "      <th>Czechia</th>\n",
       "    </tr>\n",
       "    <tr>\n",
       "      <th></th>\n",
       "      <th></th>\n",
       "      <th></th>\n",
       "      <th></th>\n",
       "      <th></th>\n",
       "      <th></th>\n",
       "    </tr>\n",
       "  </thead>\n",
       "  <tbody>\n",
       "    <tr>\n",
       "      <th>Compact Development</th>\n",
       "      <td>0.172981</td>\n",
       "      <td>0.084837</td>\n",
       "      <td>0.295487</td>\n",
       "      <td>0.089964</td>\n",
       "      <td>0.071677</td>\n",
       "    </tr>\n",
       "    <tr>\n",
       "      <th>Dispersed Linear Development</th>\n",
       "      <td>0.249629</td>\n",
       "      <td>0.386398</td>\n",
       "      <td>0.233418</td>\n",
       "      <td>0.094352</td>\n",
       "      <td>0.194825</td>\n",
       "    </tr>\n",
       "    <tr>\n",
       "      <th>Linear Development</th>\n",
       "      <td>0.389734</td>\n",
       "      <td>0.412527</td>\n",
       "      <td>0.280766</td>\n",
       "      <td>0.163457</td>\n",
       "      <td>0.136729</td>\n",
       "    </tr>\n",
       "    <tr>\n",
       "      <th>Extensive Wide-Spaced Developments</th>\n",
       "      <td>0.227086</td>\n",
       "      <td>0.410615</td>\n",
       "      <td>0.079021</td>\n",
       "      <td>0.167235</td>\n",
       "      <td>0.241953</td>\n",
       "    </tr>\n",
       "    <tr>\n",
       "      <th>Sparse Road-Linked Development</th>\n",
       "      <td>0.401120</td>\n",
       "      <td>0.305645</td>\n",
       "      <td>0.283801</td>\n",
       "      <td>0.176619</td>\n",
       "      <td>0.170178</td>\n",
       "    </tr>\n",
       "    <tr>\n",
       "      <th>Aligned Winding Streets</th>\n",
       "      <td>0.304806</td>\n",
       "      <td>0.188761</td>\n",
       "      <td>0.324487</td>\n",
       "      <td>0.266017</td>\n",
       "      <td>0.163077</td>\n",
       "    </tr>\n",
       "    <tr>\n",
       "      <th>Large Interconnected Blocks</th>\n",
       "      <td>0.147011</td>\n",
       "      <td>0.116789</td>\n",
       "      <td>0.237069</td>\n",
       "      <td>0.283361</td>\n",
       "      <td>0.135922</td>\n",
       "    </tr>\n",
       "    <tr>\n",
       "      <th>Dense Connected Developments</th>\n",
       "      <td>0.216633</td>\n",
       "      <td>0.253915</td>\n",
       "      <td>0.375377</td>\n",
       "      <td>0.296466</td>\n",
       "      <td>0.249593</td>\n",
       "    </tr>\n",
       "    <tr>\n",
       "      <th>Large Utilitarian Development</th>\n",
       "      <td>0.216145</td>\n",
       "      <td>0.299314</td>\n",
       "      <td>0.261595</td>\n",
       "      <td>0.302493</td>\n",
       "      <td>0.304041</td>\n",
       "    </tr>\n",
       "    <tr>\n",
       "      <th>Cul-de-Sac Layout</th>\n",
       "      <td>0.514688</td>\n",
       "      <td>0.299565</td>\n",
       "      <td>0.500787</td>\n",
       "      <td>0.466538</td>\n",
       "      <td>0.298000</td>\n",
       "    </tr>\n",
       "    <tr>\n",
       "      <th>Sparse Open Layout</th>\n",
       "      <td>0.170826</td>\n",
       "      <td>0.258573</td>\n",
       "      <td>0.285227</td>\n",
       "      <td>0.497482</td>\n",
       "      <td>0.273417</td>\n",
       "    </tr>\n",
       "    <tr>\n",
       "      <th>Sparse Rural Development</th>\n",
       "      <td>0.276480</td>\n",
       "      <td>0.593759</td>\n",
       "      <td>0.148764</td>\n",
       "      <td>0.510575</td>\n",
       "      <td>0.444935</td>\n",
       "    </tr>\n",
       "    <tr>\n",
       "      <th>Dense Standalone Buildings</th>\n",
       "      <td>0.487503</td>\n",
       "      <td>0.598738</td>\n",
       "      <td>0.370767</td>\n",
       "      <td>0.536546</td>\n",
       "      <td>0.521541</td>\n",
       "    </tr>\n",
       "  </tbody>\n",
       "</table>\n",
       "</div>"
      ],
      "text/plain": [
       "                                    Slovakia    Poland   Germany   Austria  \\\n",
       "                                                                             \n",
       "Compact Development                 0.172981  0.084837  0.295487  0.089964   \n",
       "Dispersed Linear Development        0.249629  0.386398  0.233418  0.094352   \n",
       "Linear Development                  0.389734  0.412527  0.280766  0.163457   \n",
       "Extensive Wide-Spaced Developments  0.227086  0.410615  0.079021  0.167235   \n",
       "Sparse Road-Linked Development      0.401120  0.305645  0.283801  0.176619   \n",
       "Aligned Winding Streets             0.304806  0.188761  0.324487  0.266017   \n",
       "Large Interconnected Blocks         0.147011  0.116789  0.237069  0.283361   \n",
       "Dense Connected Developments        0.216633  0.253915  0.375377  0.296466   \n",
       "Large Utilitarian Development       0.216145  0.299314  0.261595  0.302493   \n",
       "Cul-de-Sac Layout                   0.514688  0.299565  0.500787  0.466538   \n",
       "Sparse Open Layout                  0.170826  0.258573  0.285227  0.497482   \n",
       "Sparse Rural Development            0.276480  0.593759  0.148764  0.510575   \n",
       "Dense Standalone Buildings          0.487503  0.598738  0.370767  0.536546   \n",
       "\n",
       "                                     Czechia  \n",
       "                                              \n",
       "Compact Development                 0.071677  \n",
       "Dispersed Linear Development        0.194825  \n",
       "Linear Development                  0.136729  \n",
       "Extensive Wide-Spaced Developments  0.241953  \n",
       "Sparse Road-Linked Development      0.170178  \n",
       "Aligned Winding Streets             0.163077  \n",
       "Large Interconnected Blocks         0.135922  \n",
       "Dense Connected Developments        0.249593  \n",
       "Large Utilitarian Development       0.304041  \n",
       "Cul-de-Sac Layout                   0.298000  \n",
       "Sparse Open Layout                  0.273417  \n",
       "Sparse Rural Development            0.444935  \n",
       "Dense Standalone Buildings          0.521541  "
      ]
     },
     "execution_count": 53,
     "metadata": {},
     "output_type": "execute_result"
    }
   ],
   "source": [
    "f1s3 = [pd.read_csv(f1fp).set_index('Unnamed: 0')['0'] for f1fp in sorted(glob.glob(f'/data/uscuni-eurofab/processed_data/results/class_f1s_{mapping_level}*'))]\n",
    "f1s3 = pd.concat(f1s3, axis=1)\n",
    "f1s3.index.name = ''\n",
    "f1s3.columns = test_countries_names\n",
    "f1s3.sort_values('Austria')"
   ]
  },
  {
   "cell_type": "code",
   "execution_count": null,
   "id": "8a611e7f-6ed9-4040-97ae-c0d2721bfac4",
   "metadata": {},
   "outputs": [],
   "source": []
  },
  {
   "cell_type": "code",
   "execution_count": null,
   "id": "b30a21f9-5a9c-449c-8e1a-06a1dd93918d",
   "metadata": {},
   "outputs": [],
   "source": []
  },
  {
   "cell_type": "code",
   "execution_count": null,
   "id": "8297af52-fbf2-425e-b52a-0314ead858fb",
   "metadata": {},
   "outputs": [],
   "source": []
  },
  {
   "cell_type": "markdown",
   "id": "deb6f498-c519-4bb4-96de-30d95773b31b",
   "metadata": {},
   "source": [
    "### Plot predictions"
   ]
  },
  {
   "cell_type": "code",
   "execution_count": 38,
   "id": "fd817d2c-beac-4685-989f-5d178a523182",
   "metadata": {},
   "outputs": [],
   "source": [
    "from lonboard import SolidPolygonLayer, Map\n",
    "from lonboard.basemap import CartoBasemap\n",
    "from lonboard.colormap import apply_categorical_cmap\n",
    "from palettable.colorbrewer.qualitative import Set3_12\n",
    "from core.cluster_validation import get_color"
   ]
  },
  {
   "cell_type": "code",
   "execution_count": 41,
   "id": "2ea6f973-8f3a-40ff-a613-fa439ea54853",
   "metadata": {},
   "outputs": [],
   "source": [
    "# regions_datadir = \"/data/uscuni-eurofab-overture/\"\n",
    "# region_hulls = gpd.read_parquet(\n",
    "#         regions_datadir + \"regions/\" + \"ov_ce_region_hulls.parquet\"\n",
    "#     )\n",
    "# region_hulls.explore()"
   ]
  },
  {
   "cell_type": "code",
   "execution_count": 42,
   "id": "afee1647-e011-47b5-a46b-001dc5033a81",
   "metadata": {},
   "outputs": [],
   "source": [
    "region_id = 84986  # ms vienna\n",
    "region_id = 84568  # ov vienna"
   ]
  },
  {
   "cell_type": "code",
   "execution_count": 44,
   "id": "4883aba1-8622-4626-bac4-3b223b1f7eb3",
   "metadata": {},
   "outputs": [],
   "source": [
    "buildings = gpd.read_parquet(f'/data/uscuni-eurofab-overture/processed_data/buildings/buildings_{region_id}.parquet')"
   ]
  },
  {
   "cell_type": "code",
   "execution_count": 45,
   "id": "e99dac3d-36c8-4d8a-8c42-3ef3a3720501",
   "metadata": {},
   "outputs": [],
   "source": [
    "region_vals = y_test.index.str.startswith(str(region_id))\n",
    "labels = y_test[region_vals].final_without_noise\n",
    "labels.index = labels.index.str.split('_').str[-1].astype(int)"
   ]
  },
  {
   "cell_type": "code",
   "execution_count": 46,
   "id": "445fe4ce-e2cc-451a-afde-b8c705b2d23c",
   "metadata": {},
   "outputs": [],
   "source": [
    "buildings[\"predicted_label\"] = pd.Series(mapped_predictions[region_vals], labels.index.values)\n",
    "buildings[\"true_label\"] = labels\n",
    "# drop buildings that are in the ms data, but not in the cadastre\n",
    "buildings = buildings.dropna()"
   ]
  },
  {
   "cell_type": "code",
   "execution_count": 47,
   "id": "81c6cb15-bada-40e7-a6bd-a26248894cbb",
   "metadata": {},
   "outputs": [],
   "source": [
    "# buildings = buildings[buildings.predicted_label != buildings.true_label]"
   ]
  },
  {
   "cell_type": "code",
   "execution_count": 48,
   "id": "efc2fb46-9557-48ef-8db2-63d4218ad03a",
   "metadata": {},
   "outputs": [
    {
     "name": "stderr",
     "output_type": "stream",
     "text": [
      "/home/krasen/morphometrics/.pixi/envs/default/lib/python3.12/site-packages/lonboard/_geoarrow/ops/reproject.py:97: UserWarning: Input being reprojected to EPSG:4326 CRS\n",
      "  warnings.warn(\"Input being reprojected to EPSG:4326 CRS\")\n"
     ]
    }
   ],
   "source": [
    "layer = SolidPolygonLayer.from_geopandas(\n",
    "    gdf=buildings[[\"geometry\", \"predicted_label\", 'true_label']], get_fill_color=get_color(buildings['true_label'].values.astype(int)), opacity=0.15\n",
    ")"
   ]
  },
  {
   "cell_type": "code",
   "execution_count": null,
   "id": "de728090-63db-4e53-870c-8944017db1e9",
   "metadata": {},
   "outputs": [],
   "source": []
  },
  {
   "cell_type": "code",
   "execution_count": 49,
   "id": "ee6a52b3-02df-45b6-b4ed-c3a875c58724",
   "metadata": {},
   "outputs": [],
   "source": [
    "m = Map(layer, basemap_style=CartoBasemap.DarkMatter)"
   ]
  },
  {
   "cell_type": "code",
   "execution_count": 50,
   "id": "24c0a7bc-895f-4dbe-ba2d-3b38b5590392",
   "metadata": {},
   "outputs": [],
   "source": [
    "from sidecar import Sidecar\n",
    "sc = Sidecar(title='buildings')\n",
    "with sc:\n",
    "    display(m)"
   ]
  },
  {
   "cell_type": "code",
   "execution_count": 51,
   "id": "008d377e-4321-4e31-a42a-8b452a118275",
   "metadata": {},
   "outputs": [],
   "source": [
    "final_colors = get_color(np.arange(0, 20))"
   ]
  },
  {
   "cell_type": "code",
   "execution_count": null,
   "id": "858fa056-a78f-416f-a4ba-088c62aa31ee",
   "metadata": {},
   "outputs": [],
   "source": []
  },
  {
   "cell_type": "code",
   "execution_count": 52,
   "id": "84f59c1d-d439-4ef8-82cd-6aa02af13638",
   "metadata": {},
   "outputs": [],
   "source": [
    "layer.get_fill_color = final_colors[buildings['predicted_label'].astype(int)]"
   ]
  },
  {
   "cell_type": "code",
   "execution_count": null,
   "id": "4cd123ce-8ca7-47fb-aa98-2724ef3bef78",
   "metadata": {},
   "outputs": [],
   "source": []
  }
 ],
 "metadata": {
  "kernelspec": {
   "display_name": "Python 3 (ipykernel)",
   "language": "python",
   "name": "python3"
  },
  "language_info": {
   "codemirror_mode": {
    "name": "ipython",
    "version": 3
   },
   "file_extension": ".py",
   "mimetype": "text/x-python",
   "name": "python",
   "nbconvert_exporter": "python",
   "pygments_lexer": "ipython3",
   "version": "3.12.5"
  }
 },
 "nbformat": 4,
 "nbformat_minor": 5
}
