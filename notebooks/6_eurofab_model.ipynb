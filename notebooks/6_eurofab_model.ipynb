{
 "cells": [
  {
   "cell_type": "markdown",
   "id": "4a7ccc95-9aa1-4aad-a2cb-11a1896e90eb",
   "metadata": {},
   "source": [
    "## Eurofab model training"
   ]
  },
  {
   "cell_type": "code",
   "execution_count": 24,
   "id": "51533fb7-1ff2-4a11-a1d0-e7be19d18287",
   "metadata": {},
   "outputs": [],
   "source": [
    "import glob\n",
    "\n",
    "import geopandas as gpd\n",
    "import matplotlib.pyplot as plt\n",
    "import numba\n",
    "import numpy as np\n",
    "import pandas as pd\n",
    "from libpysal.graph import read_parquet\n",
    "from sklearn.preprocessing import PowerTransformer, RobustScaler, StandardScaler\n",
    "from sklearn.ensemble import RandomForestClassifier\n",
    "from core.utils import used_keys\n",
    "\n",
    "from palettable.colorbrewer.qualitative import Set3_12\n",
    "from sklearn.metrics import davies_bouldin_score\n",
    "\n",
    "from sklearn.model_selection import GridSearchCV\n",
    "from sklearn.calibration import CalibratedClassifierCV\n",
    "from sklearn.ensemble import RandomForestClassifier\n",
    "from sklearn.datasets import make_moons\n",
    "from sklearn import model_selection\n",
    "from sklearn.metrics import accuracy_score, balanced_accuracy_score, make_scorer"
   ]
  },
  {
   "cell_type": "code",
   "execution_count": null,
   "id": "47e656ef-5246-42d4-a6ea-42dfa16a4823",
   "metadata": {},
   "outputs": [],
   "source": []
  },
  {
   "cell_type": "markdown",
   "id": "3f1c3ae4-240d-485d-bc31-fa005c40c204",
   "metadata": {},
   "source": [
    "Read the training data, groups and labels"
   ]
  },
  {
   "cell_type": "code",
   "execution_count": 3,
   "id": "19915074-38fe-410e-964f-a9a6f8e6ad1b",
   "metadata": {
    "scrolled": true
   },
   "outputs": [
    {
     "name": "stdout",
     "output_type": "stream",
     "text": [
      "CPU times: user 56.2 s, sys: 37.9 s, total: 1min 34s\n",
      "Wall time: 25.7 s\n"
     ]
    }
   ],
   "source": [
    "%%time\n",
    "X_train = pd.read_parquet('/data/uscuni-eurofab/processed_data/train_test_data/training_data4.pq')\n",
    "y = pd.read_parquet('/data/uscuni-eurofab/processed_data/train_test_data/training_labels4.pq')\n",
    "groups = pd.read_parquet('/data/uscuni-eurofab/processed_data/train_test_data/training_hexagons4.pq')"
   ]
  },
  {
   "cell_type": "code",
   "execution_count": null,
   "id": "a015335c-8ea2-43ff-961b-041ca58a81d8",
   "metadata": {},
   "outputs": [],
   "source": []
  },
  {
   "cell_type": "code",
   "execution_count": 4,
   "id": "9e310a7c-7cc4-4d37-9f23-0724cc5e7cf0",
   "metadata": {},
   "outputs": [],
   "source": [
    "# limit to prague only\n",
    "X_train = X_train[X_train.index.str.startswith('65806')]\n",
    "y = y[y.index.str.startswith('65806')]\n",
    "groups = groups[groups.index.str.startswith('65806')]\n",
    "\n"
   ]
  },
  {
   "cell_type": "markdown",
   "id": "656b1865-1676-4ef7-8b71-2746bc3b37c9",
   "metadata": {},
   "source": [
    "Predict only building classification, so drop empty ETCs."
   ]
  },
  {
   "cell_type": "code",
   "execution_count": 5,
   "id": "82709d60-148e-4281-a09b-48828c2bf556",
   "metadata": {},
   "outputs": [],
   "source": [
    "X_train = X_train[~X_train.index.str.split('_').str[-1].str.startswith('-')].fillna(0)\n",
    "y = y[~y.index.str.split('_').str[-1].str.startswith('-')].fillna(0)\n",
    "groups = groups[~groups.index.str.split('_').str[-1].str.startswith('-')].fillna(0)"
   ]
  },
  {
   "cell_type": "code",
   "execution_count": null,
   "id": "6b470fd9-d7da-422b-8510-7ab1f193cea4",
   "metadata": {},
   "outputs": [],
   "source": []
  },
  {
   "cell_type": "markdown",
   "id": "e451f936-1332-4a35-bc06-92a9f6efc266",
   "metadata": {},
   "source": [
    "Setup kfold splitter based on spatial contiguity"
   ]
  },
  {
   "cell_type": "code",
   "execution_count": 6,
   "id": "5581dfe1-3777-429e-bde9-2d24e098b92c",
   "metadata": {},
   "outputs": [],
   "source": [
    "gkf = model_selection.StratifiedGroupKFold(n_splits=5)\n",
    "splits = gkf.split(\n",
    "    X_train.values,\n",
    "    y.final_without_noise.values,\n",
    "    groups=groups.hexagons.values,\n",
    ")"
   ]
  },
  {
   "cell_type": "code",
   "execution_count": null,
   "id": "9a490599-5174-44f9-a17c-a88038384bd4",
   "metadata": {},
   "outputs": [],
   "source": []
  },
  {
   "cell_type": "markdown",
   "id": "91b769b4-9d83-4fed-a171-6d1edd82014e",
   "metadata": {},
   "source": [
    "Setup grid search and evaluation pipeline"
   ]
  },
  {
   "cell_type": "code",
   "execution_count": 10,
   "id": "d2f51b73-de6f-49e0-b9e2-d6753af7d5a5",
   "metadata": {},
   "outputs": [],
   "source": [
    "calibrated_forest = CalibratedClassifierCV(\n",
    "   estimator=RandomForestClassifier(random_state=123, n_jobs=-1))\n",
    "\n",
    "param_grid = {\n",
    "    # 'estimator__max_depth': [2, 4, 6, 8, 20],\n",
    "    'estimator__max_depth': [2, 4, 6],\n",
    "    # 'estimator__min_samples_split': [2, 50, 100, 200, 400]\n",
    "    'estimator__min_samples_split': [200, 400]\n",
    "}\n",
    "\n",
    "scoring = {\"Balanced Accuracy\": make_scorer(balanced_accuracy_score), \"Accuracy\": make_scorer(accuracy_score)}\n",
    "\n",
    "search = GridSearchCV(calibrated_forest, param_grid, cv=splits, scoring=scoring, refit=\"Accuracy\", return_train_score=True)"
   ]
  },
  {
   "cell_type": "code",
   "execution_count": null,
   "id": "614fe6b1-f12b-4d57-aa42-3d082c58749d",
   "metadata": {},
   "outputs": [],
   "source": []
  },
  {
   "cell_type": "markdown",
   "id": "8a654637-8e84-40bf-bbfd-a821f749444f",
   "metadata": {},
   "source": [
    "Train and tune the model"
   ]
  },
  {
   "cell_type": "code",
   "execution_count": 66,
   "id": "78df3e2e-bc05-4a97-83a9-57a277b9c154",
   "metadata": {
    "scrolled": true
   },
   "outputs": [],
   "source": [
    "%%time\n",
    "search.fit(\n",
    "    X_train.values,\n",
    "    y.final_without_noise.values\n",
    ")"
   ]
  },
  {
   "cell_type": "code",
   "execution_count": null,
   "id": "61d67086-371c-47ba-be32-a5bd2af15e01",
   "metadata": {},
   "outputs": [],
   "source": []
  },
  {
   "cell_type": "code",
   "execution_count": null,
   "id": "8f5bac13-6c6b-47b8-92de-1adea2bc9356",
   "metadata": {},
   "outputs": [],
   "source": []
  },
  {
   "cell_type": "markdown",
   "id": "a94764b5-efab-4340-86f9-9b4870e20e91",
   "metadata": {},
   "source": [
    "Select the best model and predict the test data"
   ]
  },
  {
   "cell_type": "code",
   "execution_count": 47,
   "id": "47966fc4-64b3-41bf-a2b1-4d7ca2eecc0f",
   "metadata": {},
   "outputs": [],
   "source": [
    "# best_model=RandomForestClassifier(random_state=123, n_jobs=-1)\n",
    "# best_model.fit(X_train, y)"
   ]
  },
  {
   "cell_type": "code",
   "execution_count": null,
   "id": "f3c2bfa4-8a07-4186-9b6c-11653ad13cf2",
   "metadata": {},
   "outputs": [],
   "source": []
  },
  {
   "cell_type": "code",
   "execution_count": 12,
   "id": "2f17533b-3e4a-401f-815b-ec5a2cb7b65f",
   "metadata": {},
   "outputs": [
    {
     "name": "stderr",
     "output_type": "stream",
     "text": [
      "\n",
      "KeyboardInterrupt\n",
      "\n"
     ]
    }
   ],
   "source": [
    "best_model = search.best_estimator"
   ]
  },
  {
   "cell_type": "code",
   "execution_count": 45,
   "id": "8f29c274-d529-49e6-8408-38ea669fb673",
   "metadata": {},
   "outputs": [],
   "source": [
    "X_test = pd.read_parquet('/data/uscuni-eurofab/processed_data/train_test_data/testing_data4.pq')\n",
    "y_test = pd.read_parquet('/data/uscuni-eurofab/processed_data/train_test_data/testing_labels4.pq')\n",
    "\n",
    "# # limit to vienna only\n",
    "X_test = X_test[X_test.index.str.startswith('84986')]\n",
    "y_test = y_test[y_test.index.str.startswith('84986')]"
   ]
  },
  {
   "cell_type": "code",
   "execution_count": 46,
   "id": "cd7d01ea-1510-47d5-b273-faa3f2f08d4d",
   "metadata": {},
   "outputs": [],
   "source": [
    "X_test = X_test[~X_test.index.str.split('_').str[-1].str.startswith('-')].fillna(0)\n",
    "y_test = y_test[~y_test.index.str.split('_').str[-1].str.startswith('-')].fillna(0)\n"
   ]
  },
  {
   "cell_type": "code",
   "execution_count": null,
   "id": "2871be26-40c8-47d9-a5ae-165ac8d77cd7",
   "metadata": {},
   "outputs": [],
   "source": []
  },
  {
   "cell_type": "code",
   "execution_count": 48,
   "id": "65c207f7-f617-42c2-868c-097a6dc04813",
   "metadata": {},
   "outputs": [],
   "source": [
    "predictions = best_model.predict(X_test)"
   ]
  },
  {
   "cell_type": "code",
   "execution_count": null,
   "id": "1fca5d94-575f-493f-826f-910765f9edf4",
   "metadata": {},
   "outputs": [],
   "source": []
  },
  {
   "cell_type": "code",
   "execution_count": 49,
   "id": "c1992f8c-fa1f-4531-a181-76f017ec3664",
   "metadata": {},
   "outputs": [
    {
     "data": {
      "text/plain": [
       "0.29364393026817087"
      ]
     },
     "execution_count": 49,
     "metadata": {},
     "output_type": "execute_result"
    }
   ],
   "source": [
    "accuracy_score(predictions, y_test)"
   ]
  },
  {
   "cell_type": "code",
   "execution_count": null,
   "id": "e0a92106-adb0-40e7-98c0-60a210c96023",
   "metadata": {},
   "outputs": [],
   "source": []
  },
  {
   "cell_type": "code",
   "execution_count": null,
   "id": "6fd12c42-d2df-4d79-9c8a-464d91a62c8c",
   "metadata": {},
   "outputs": [],
   "source": []
  },
  {
   "cell_type": "code",
   "execution_count": null,
   "id": "68fb7cf6-d290-4beb-9ad7-a0d8e69b8730",
   "metadata": {},
   "outputs": [],
   "source": []
  },
  {
   "cell_type": "code",
   "execution_count": null,
   "id": "68de0f1a-522a-4c2f-b9c6-0ecc90857b3e",
   "metadata": {},
   "outputs": [],
   "source": []
  },
  {
   "cell_type": "markdown",
   "id": "dd721376-0e49-4a33-9dc5-0e0deee69d24",
   "metadata": {},
   "source": [
    "### Plot predictions"
   ]
  },
  {
   "cell_type": "code",
   "execution_count": 50,
   "id": "6776dfa8-09a1-46e9-9c22-e6a82af71bd6",
   "metadata": {},
   "outputs": [],
   "source": [
    "from lonboard import SolidPolygonLayer, Map\n",
    "from lonboard.basemap import CartoBasemap\n",
    "from lonboard.colormap import apply_categorical_cmap\n",
    "from palettable.colorbrewer.qualitative import Set3_12\n",
    "from core.cluster_validation import get_color"
   ]
  },
  {
   "cell_type": "code",
   "execution_count": 51,
   "id": "fb5c6fb2-b7fe-4345-8548-7a4287383f99",
   "metadata": {},
   "outputs": [],
   "source": [
    "region_id = 84986 "
   ]
  },
  {
   "cell_type": "code",
   "execution_count": 52,
   "id": "c94f1016-6794-4d51-85f2-632aec254077",
   "metadata": {},
   "outputs": [],
   "source": [
    "buildings = gpd.read_parquet(f'/data/uscuni-eurofab/processed_data/buildings/buildings_{region_id}.parquet')"
   ]
  },
  {
   "cell_type": "code",
   "execution_count": 61,
   "id": "29f15254-f1c6-4562-bbcf-2881f4d985c4",
   "metadata": {},
   "outputs": [],
   "source": [
    "labels = y_test[y_test.index.str.startswith(str(region_id))].final_without_noise\n",
    "labels.index = labels.index.str.split('_').str[-1].astype(int)"
   ]
  },
  {
   "cell_type": "code",
   "execution_count": 62,
   "id": "96ae9999-d92d-40d8-9e0c-f02f81ceee25",
   "metadata": {},
   "outputs": [],
   "source": [
    "buildings[\"predicted_label\"] = pd.Series(predictions, labels.index)\n",
    "buildings[\"true_label\"] = labels"
   ]
  },
  {
   "cell_type": "code",
   "execution_count": 63,
   "id": "76cae525-c03c-4152-86ef-c322bfdf71bc",
   "metadata": {},
   "outputs": [
    {
     "name": "stderr",
     "output_type": "stream",
     "text": [
      "/tmp/ipykernel_871757/1019886908.py:2: RuntimeWarning: invalid value encountered in cast\n",
      "  gdf=buildings[[\"geometry\", \"predicted_label\", 'true_label']], get_fill_color=get_color(buildings['true_label'].values.astype(int)), opacity=0.15\n",
      "/home/krasen/eurofab_morphometrics/.pixi/envs/default/lib/python3.12/site-packages/lonboard/_geoarrow/ops/reproject.py:97: UserWarning: Input being reprojected to EPSG:4326 CRS\n",
      "  warnings.warn(\"Input being reprojected to EPSG:4326 CRS\")\n"
     ]
    }
   ],
   "source": [
    "layer = SolidPolygonLayer.from_geopandas(\n",
    "    gdf=buildings[[\"geometry\", \"predicted_label\", 'true_label']], get_fill_color=get_color(buildings['true_label'].values.astype(int)), opacity=0.15\n",
    ")"
   ]
  },
  {
   "cell_type": "code",
   "execution_count": 65,
   "id": "408eb347-41bf-4b0c-867d-7774d71b42e7",
   "metadata": {},
   "outputs": [],
   "source": [
    "m = Map(layer, basemap_style=CartoBasemap.Positron)\n",
    "m"
   ]
  },
  {
   "cell_type": "code",
   "execution_count": null,
   "id": "fd16b7ff-f5ef-4c08-a969-1f34c511d0e6",
   "metadata": {},
   "outputs": [],
   "source": []
  },
  {
   "cell_type": "code",
   "execution_count": null,
   "id": "43c570b3-a69e-4a34-a07d-03eafffd2ac5",
   "metadata": {},
   "outputs": [],
   "source": []
  },
  {
   "cell_type": "code",
   "execution_count": null,
   "id": "4adfab3b-9003-4e07-b359-5b1fbe94f6fa",
   "metadata": {},
   "outputs": [],
   "source": []
  }
 ],
 "metadata": {
  "kernelspec": {
   "display_name": "Python 3 (ipykernel)",
   "language": "python",
   "name": "python3"
  },
  "language_info": {
   "codemirror_mode": {
    "name": "ipython",
    "version": 3
   },
   "file_extension": ".py",
   "mimetype": "text/x-python",
   "name": "python",
   "nbconvert_exporter": "python",
   "pygments_lexer": "ipython3",
   "version": "3.12.5"
  }
 },
 "nbformat": 4,
 "nbformat_minor": 5
}
