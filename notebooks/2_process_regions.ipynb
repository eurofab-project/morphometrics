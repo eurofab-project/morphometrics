{
 "cells": [
  {
   "cell_type": "markdown",
   "id": "abd030d3-d5bc-4c22-8519-dfe58f69d645",
   "metadata": {},
   "source": [
    "## Morphometic processing"
   ]
  },
  {
   "cell_type": "code",
   "execution_count": 1,
   "id": "bb828f91-0f95-4a36-86b3-c1bfae6129d8",
   "metadata": {},
   "outputs": [],
   "source": [
    "import geopandas as gpd\n",
    "import pandas as pd\n",
    "import glob\n",
    "\n",
    "def get_processed_region_ids(directory):\n",
    "    return [int(s.split('_')[-1].split('.')[0]) for s in glob.glob(directory + '*')]"
   ]
  },
  {
   "cell_type": "code",
   "execution_count": null,
   "id": "13123195-dcc8-4ed5-9b9a-0a66c5b027e1",
   "metadata": {},
   "outputs": [],
   "source": []
  },
  {
   "cell_type": "code",
   "execution_count": 2,
   "id": "32a0a926-57d2-4be4-9832-edc0c9608525",
   "metadata": {},
   "outputs": [],
   "source": [
    "regions_buildings_dir = '/data/uscuni-eurofab/regions/buildings/'\n",
    "buildings_dir = '/data/uscuni-eurofab/processed_data/buildings/'\n",
    "overture_streets_dir = '/data/uscuni-eurofab/overture_streets/'\n",
    "streets_dir = '/data/uscuni-eurofab/processed_data/streets/'\n",
    "enclosures_dir = '/data/uscuni-eurofab/processed_data/enclosures/'\n",
    "tessellations_dir = '/data/uscuni-eurofab/processed_data/tessellations/'\n",
    "graph_dir = '/data/uscuni-eurofab/processed_data/neigh_graphs/'\n",
    "chars_dir = '/data/uscuni-eurofab/processed_data/chars/'\n",
    "simplfied_buildings_dir = '/data/uscuni-eurofab/processed_data/simplified_buildings/'\n",
    "\n",
    "\n",
    "regions_datadir = \"/data/uscuni-eurofab/\""
   ]
  },
  {
   "cell_type": "code",
   "execution_count": 3,
   "id": "0d602309-e709-4a8a-a6d7-f516a68f9365",
   "metadata": {},
   "outputs": [
    {
     "data": {
      "text/plain": [
       "(474, 1)"
      ]
     },
     "execution_count": 3,
     "metadata": {},
     "output_type": "execute_result"
    }
   ],
   "source": [
    "regions_datadir = \"/data/uscuni-eurofab/\"\n",
    "region_hulls = gpd.read_parquet(\n",
    "        regions_datadir + \"regions/\" + \"ms_ce_region_hulls.parquet\"\n",
    "    )\n",
    "region_hulls.shape"
   ]
  },
  {
   "cell_type": "code",
   "execution_count": null,
   "id": "50ae4b00-4a1a-4af1-8fc8-959f9f788454",
   "metadata": {},
   "outputs": [],
   "source": []
  },
  {
   "cell_type": "code",
   "execution_count": 20,
   "id": "c34a5a4a-30aa-4924-b24a-2674cba66116",
   "metadata": {},
   "outputs": [],
   "source": [
    "region_id = 53490"
   ]
  },
  {
   "cell_type": "markdown",
   "id": "c4ac9438-8953-4680-87be-6cc3c60ff41f",
   "metadata": {},
   "source": [
    "## Process buildings"
   ]
  },
  {
   "cell_type": "markdown",
   "id": "9c43a112-7a01-4d92-a88a-e15d6bf15a9b",
   "metadata": {},
   "source": [
    "Run the building processing pipeline for all regions"
   ]
  },
  {
   "cell_type": "code",
   "execution_count": null,
   "id": "927bd34d-fe7e-4f30-be1e-fe0954f33ffd",
   "metadata": {},
   "outputs": [],
   "source": [
    "from core.generate_buildings import read_region_buildings, process_region_buildings"
   ]
  },
  {
   "cell_type": "code",
   "execution_count": null,
   "id": "980158c8-0e1c-4a8b-8d9c-cead0f3a4091",
   "metadata": {},
   "outputs": [],
   "source": []
  },
  {
   "cell_type": "code",
   "execution_count": null,
   "id": "88dbe42c-d588-4661-9117-ae3c3249b5da",
   "metadata": {},
   "outputs": [],
   "source": [
    "def process_single_region_buildings(region_id):\n",
    "    print('processing', region_id)\n",
    "    buildings = gpd.read_parquet(regions_buildings_dir + f'buildings_{region_id}.pq')\n",
    "    buildings = process_region_buildings(buildings, True, simplification_tolerance=.1, merge_limit=25)\n",
    "    buildings.to_parquet(simplfied_buildings_dir + f\"buildings_{region_id}.parquet\")"
   ]
  },
  {
   "cell_type": "code",
   "execution_count": null,
   "id": "e31afbd6-a2f5-4e60-8b6d-8d231a472fa3",
   "metadata": {},
   "outputs": [],
   "source": [
    "%%capture cap\n",
    "for region_id, _ in region_hulls.iterrows():\n",
    "    process_single_region_buildings(region_id)"
   ]
  },
  {
   "cell_type": "code",
   "execution_count": null,
   "id": "44b097f1-12d0-4f35-84f0-cdec64bcab9c",
   "metadata": {},
   "outputs": [],
   "source": []
  },
  {
   "cell_type": "markdown",
   "id": "cb6c9f64-828c-41c2-956d-614e6b73e891",
   "metadata": {},
   "source": [
    "Copy over the simplified buildings to the processed data folder."
   ]
  },
  {
   "cell_type": "code",
   "execution_count": null,
   "id": "4cdd656e-b991-4de0-8e6b-4d368fefdd0f",
   "metadata": {},
   "outputs": [],
   "source": [
    "# !cp -r /data/uscuni-eurofab/processed_data/simplified_buildings/ /data/uscuni-eurofab/processed_data/buildings/"
   ]
  },
  {
   "cell_type": "markdown",
   "id": "fbdbbf1b-f7b6-4b66-9e3a-ba26d271b402",
   "metadata": {},
   "source": [
    "## Process streets"
   ]
  },
  {
   "cell_type": "markdown",
   "id": "b6ad3e6a-7f2f-4cd0-bf61-d95da780187e",
   "metadata": {},
   "source": [
    "Run the street processing pipeline for all regions."
   ]
  },
  {
   "cell_type": "code",
   "execution_count": null,
   "id": "59385b22-8499-445a-a949-1d663c8bb200",
   "metadata": {},
   "outputs": [],
   "source": [
    "from core.generate_streets import process_region_streets"
   ]
  },
  {
   "cell_type": "code",
   "execution_count": null,
   "id": "e0f28aea-2eff-451c-9b7f-d5c7abe34440",
   "metadata": {},
   "outputs": [],
   "source": [
    "%%capture cap\n",
    "for region_id, _ in region_hulls.iterrows():\n",
    "    streets = process_region_streets(region_id, overture_streets_dir, buildings_dir)\n",
    "    streets.to_parquet(streets_dir + f'streets_{region_id}.parquet')"
   ]
  },
  {
   "cell_type": "code",
   "execution_count": null,
   "id": "634949a1-a086-4fb5-9aa4-02128494f310",
   "metadata": {
    "scrolled": true
   },
   "outputs": [],
   "source": []
  },
  {
   "cell_type": "code",
   "execution_count": null,
   "id": "be1a1c1e-8d25-4946-84a2-a4393c857cbf",
   "metadata": {},
   "outputs": [],
   "source": [
    "region_id  = 109005"
   ]
  },
  {
   "cell_type": "code",
   "execution_count": null,
   "id": "13b14b49-27b1-4a73-ba41-5f3d2fb4d78c",
   "metadata": {},
   "outputs": [],
   "source": []
  },
  {
   "cell_type": "code",
   "execution_count": null,
   "id": "9a50602b-e08b-4b9f-b564-74940f311f93",
   "metadata": {},
   "outputs": [],
   "source": []
  },
  {
   "cell_type": "markdown",
   "id": "eb145726-99cb-40fd-ae4e-038e5c2d4b20",
   "metadata": {},
   "source": [
    "## Process elements"
   ]
  },
  {
   "cell_type": "markdown",
   "id": "532d3ad4-83c3-4a13-a2e4-2f4dca67c89c",
   "metadata": {},
   "source": [
    "Run the element generating pipeline for all regions."
   ]
  },
  {
   "cell_type": "code",
   "execution_count": null,
   "id": "c3306a8a-ea1d-425e-a5c5-df2c7daddfd8",
   "metadata": {},
   "outputs": [],
   "source": [
    "from core.generate_elements import process_region_elements, generate_enclosures_representative_points, generate_tess"
   ]
  },
  {
   "cell_type": "code",
   "execution_count": null,
   "id": "ba00e9c3-74a5-4b00-a2a6-a4474f8faa4b",
   "metadata": {},
   "outputs": [],
   "source": []
  },
  {
   "cell_type": "code",
   "execution_count": null,
   "id": "64ec42c5-1490-4a08-bedd-b563ddb98893",
   "metadata": {},
   "outputs": [],
   "source": [
    "processed_region_ids = get_processed_region_ids(tessellations_dir)\n"
   ]
  },
  {
   "cell_type": "code",
   "execution_count": null,
   "id": "3a240416-6312-4c62-b333-eb4928f03d84",
   "metadata": {},
   "outputs": [],
   "source": []
  },
  {
   "cell_type": "code",
   "execution_count": null,
   "id": "fdb775d5-3871-43c5-abab-8619908d5892",
   "metadata": {
    "scrolled": true
   },
   "outputs": [],
   "source": [
    "for region_id, _ in region_hulls[~region_hulls.index.isin(processed_region_ids)].iterrows():\n",
    "    enclosures, tesselations = process_region_elements(buildings_dir, streets_dir, region_id)\n",
    "\n",
    "    enclosures.to_parquet(enclosures_dir + f\"enclosure_{region_id}.parquet\")\n",
    "    print(\"Processed enclosures\")\n",
    "    \n",
    "    ## save files\n",
    "    tesselations.to_parquet(\n",
    "        tessellations_dir + f\"tessellation_{region_id}.parquet\"\n",
    "    )\n",
    "    print(\"processed tesselations\")"
   ]
  },
  {
   "cell_type": "code",
   "execution_count": null,
   "id": "0ce8d57d-26cc-4abf-be8d-379e24182381",
   "metadata": {},
   "outputs": [],
   "source": []
  },
  {
   "cell_type": "code",
   "execution_count": null,
   "id": "29087ca4-0c32-4f6e-9830-007e0cb40534",
   "metadata": {},
   "outputs": [],
   "source": []
  },
  {
   "cell_type": "code",
   "execution_count": null,
   "id": "6e12f2ce-d687-489a-81b7-f28c0906bf55",
   "metadata": {},
   "outputs": [],
   "source": []
  },
  {
   "cell_type": "markdown",
   "id": "07a1d29c-53e2-4ec3-bb6f-4c9e0475b647",
   "metadata": {},
   "source": [
    "## Process graphs"
   ]
  },
  {
   "cell_type": "markdown",
   "id": "aadb7ae8-b8e4-4d17-9e0c-677223476033",
   "metadata": {},
   "source": [
    "Run the graph generating pipeline for all regions."
   ]
  },
  {
   "cell_type": "code",
   "execution_count": null,
   "id": "2a1ce453-9cd8-4c11-b0d6-ccd3aa532c8b",
   "metadata": {},
   "outputs": [],
   "source": [
    "from core.generate_ngraphs import process_region_graphs"
   ]
  },
  {
   "cell_type": "code",
   "execution_count": null,
   "id": "74905c1b-04bd-4d10-8671-65d475335406",
   "metadata": {},
   "outputs": [],
   "source": []
  },
  {
   "cell_type": "code",
   "execution_count": null,
   "id": "593734a4-db1e-479b-b96f-033592d0d9f1",
   "metadata": {
    "scrolled": true
   },
   "outputs": [],
   "source": [
    "for region_id, _ in region_hulls.iterrows():\n",
    "\n",
    "    process_region_graphs(\n",
    "        region_id,\n",
    "        graph_dir,\n",
    "        buildings_dir,\n",
    "        streets_dir,\n",
    "        enclosures_dir,\n",
    "        tessellations_dir,\n",
    "    )"
   ]
  },
  {
   "cell_type": "code",
   "execution_count": null,
   "id": "5966a45a-b042-4dcc-8e62-83a9b84d9521",
   "metadata": {},
   "outputs": [],
   "source": []
  },
  {
   "cell_type": "code",
   "execution_count": null,
   "id": "6c2b239a-50f8-4395-a36a-4f5ec26b3a05",
   "metadata": {},
   "outputs": [],
   "source": []
  },
  {
   "cell_type": "markdown",
   "id": "9cb07625-7542-46a0-baa8-536a96101831",
   "metadata": {},
   "source": [
    "## Process morphometrics"
   ]
  },
  {
   "cell_type": "markdown",
   "id": "9dcfe396-bd9c-42de-9fd3-6f699dcdf54d",
   "metadata": {},
   "source": [
    "Run the morphometric character processing pipeline for all regions."
   ]
  },
  {
   "cell_type": "code",
   "execution_count": null,
   "id": "d3acf6ac-2c12-4713-b880-9198a2570bda",
   "metadata": {},
   "outputs": [],
   "source": [
    "from core.generate_chars import process_single_region_chars, process_building_chars"
   ]
  },
  {
   "cell_type": "code",
   "execution_count": null,
   "id": "c0c61870-b740-4502-9c28-a70017f90c7d",
   "metadata": {},
   "outputs": [],
   "source": [
    "for region_id, _ in region_hulls.iterrows():\n",
    "\n",
    "    process_single_region_chars(\n",
    "        region_id,\n",
    "        graph_dir,\n",
    "        buildings_dir,\n",
    "        streets_dir,\n",
    "        enclosures_dir,\n",
    "        tessellations_dir,\n",
    "        chars_dir\n",
    "    )"
   ]
  },
  {
   "cell_type": "code",
   "execution_count": null,
   "id": "8240de87-fa68-4d09-ac24-9910bc3ee47d",
   "metadata": {},
   "outputs": [],
   "source": []
  },
  {
   "cell_type": "code",
   "execution_count": null,
   "id": "e1113057-1b11-4a48-93df-77a2b5864bec",
   "metadata": {},
   "outputs": [],
   "source": []
  },
  {
   "cell_type": "markdown",
   "id": "b5327516-7872-41a2-8851-9df1bc5e3f42",
   "metadata": {},
   "source": [
    "## Merge data"
   ]
  },
  {
   "cell_type": "markdown",
   "id": "49ed9296-7c6b-41a1-905e-d136797a6e7c",
   "metadata": {},
   "source": [
    "Merge all the building, street, nodes, enclosures and ETCs morphometric."
   ]
  },
  {
   "cell_type": "code",
   "execution_count": null,
   "id": "ff3e8aa3-8641-4433-86f2-d6722094fc71",
   "metadata": {},
   "outputs": [],
   "source": []
  },
  {
   "cell_type": "code",
   "execution_count": null,
   "id": "a9a83bef-5691-49df-9c5c-53ec10b5bf7e",
   "metadata": {},
   "outputs": [],
   "source": [
    "from core.generate_merged_primary_chars import merge_into_primary\n",
    "from core.utils import used_keys"
   ]
  },
  {
   "cell_type": "code",
   "execution_count": null,
   "id": "d0fd15f1-27c3-4bb4-a836-c9f4186022aa",
   "metadata": {},
   "outputs": [],
   "source": []
  },
  {
   "cell_type": "code",
   "execution_count": null,
   "id": "d08d4735-3b29-4a3e-8922-b0a58e3b1132",
   "metadata": {},
   "outputs": [],
   "source": [
    "for region_id, _ in region_hulls.iterrows():\n",
    "    tessellation = gpd.read_parquet(chars_dir + f\"tessellations_chars_{region_id}.parquet\")\n",
    "    buildings = gpd.read_parquet(chars_dir + f\"buildings_chars_{region_id}.parquet\")\n",
    "    enclosures = gpd.read_parquet(chars_dir + f\"enclosures_chars_{region_id}.parquet\")\n",
    "    streets = gpd.read_parquet(chars_dir + f\"streets_chars_{region_id}.parquet\")\n",
    "    nodes = gpd.read_parquet(chars_dir + f\"nodes_chars_{region_id}.parquet\")\n",
    "    \n",
    "    \n",
    "    merged = pd.merge(\n",
    "        tessellation.drop(columns=[\"geometry\"]),\n",
    "        buildings.drop(columns=[\"nodeID\", \"geometry\", 'nID']),\n",
    "        right_index=True,\n",
    "        left_index=True,\n",
    "        how=\"left\",\n",
    "    )\n",
    "    \n",
    "    merged = merged.merge(\n",
    "        enclosures.drop(columns=\"geometry\"),\n",
    "        right_on=\"eID\",\n",
    "        left_on=\"enclosure_index\",\n",
    "        how=\"left\",\n",
    "    )\n",
    "    \n",
    "    merged = merged.merge(streets.drop(columns=\"geometry\"), on=\"nID\", how=\"left\")\n",
    "    merged = merged.merge(nodes.drop(columns=\"geometry\"), on=\"nodeID\", how=\"left\")\n",
    "    \n",
    "    merged = merged.drop(\n",
    "        columns=[\n",
    "            \"nID\",\n",
    "            \"eID\",\n",
    "            \"nodeID\",\n",
    "            \"mm_len\",\n",
    "            \"cdsbool\",\n",
    "            \"node_start\",\n",
    "            \"node_end\",\n",
    "            # \"x\",\n",
    "            # \"y\",\n",
    "            \"enclosure_index\",\n",
    "            # \"id\",\n",
    "            # \"osm_id\",\n",
    "            # \"index\",  ## maybe keep\n",
    "        ]\n",
    "    )\n",
    "    merged = merged.set_index(tessellation.index)\n",
    "    \n",
    "    primary = merged[list(used_keys.keys())]\n",
    "    primary.to_parquet(chars_dir + f'primary_chars_{region_id}.parquet')"
   ]
  }
 ],
 "metadata": {
  "kernelspec": {
   "display_name": "Python 3 (ipykernel)",
   "language": "python",
   "name": "python3"
  },
  "language_info": {
   "codemirror_mode": {
    "name": "ipython",
    "version": 3
   },
   "file_extension": ".py",
   "mimetype": "text/x-python",
   "name": "python",
   "nbconvert_exporter": "python",
   "pygments_lexer": "ipython3",
   "version": "3.12.5"
  }
 },
 "nbformat": 4,
 "nbformat_minor": 5
}
