{
 "cells": [
  {
   "cell_type": "markdown",
   "id": "abd030d3-d5bc-4c22-8519-dfe58f69d645",
   "metadata": {},
   "source": [
    "## Morphometic processing"
   ]
  },
  {
   "cell_type": "code",
   "execution_count": 1,
   "id": "bb828f91-0f95-4a36-86b3-c1bfae6129d8",
   "metadata": {},
   "outputs": [],
   "source": [
    "import geopandas as gpd\n",
    "import pandas as pd\n",
    "import glob\n",
    "\n",
    "def get_processed_region_ids(directory):\n",
    "    return [int(s.split('_')[-1].split('.')[0]) for s in glob.glob(directory + '*')]"
   ]
  },
  {
   "cell_type": "code",
   "execution_count": 2,
   "id": "f506f718-f9d0-4b5c-af27-889f9758ba17",
   "metadata": {},
   "outputs": [],
   "source": [
    "# !mkdir /data/uscuni-eurofab-overture/processed_data/\n",
    "# !mkdir /data/uscuni-eurofab-overture/processed_data/simplified_buildings/\n",
    "# !mkdir /data/uscuni-eurofab-overture/processed_data/streets/\n",
    "# !mkdir /data/uscuni-eurofab-overture/processed_data/enclosures/\n",
    "# !mkdir /data/uscuni-eurofab-overture/processed_data/tessellations/\n",
    "# !mkdir /data/uscuni-eurofab-overture/processed_data/neigh_graphs/\n",
    "# !mkdir /data/uscuni-eurofab-overture/processed_data/chars/\n"
   ]
  },
  {
   "cell_type": "code",
   "execution_count": 3,
   "id": "32a0a926-57d2-4be4-9832-edc0c9608525",
   "metadata": {},
   "outputs": [],
   "source": [
    "regions_buildings_dir = '/data/uscuni-eurofab-overture/regions/buildings/'\n",
    "buildings_dir = '/data/uscuni-eurofab-overture/processed_data/buildings/'\n",
    "overture_streets_dir = '/data/uscuni-eurofab-overture/overture_streets/'\n",
    "streets_dir = '/data/uscuni-eurofab-overture/processed_data/streets/'\n",
    "enclosures_dir = '/data/uscuni-eurofab-overture/processed_data/enclosures/'\n",
    "tessellations_dir = '/data/uscuni-eurofab-overture/processed_data/tessellations/'\n",
    "graph_dir = '/data/uscuni-eurofab-overture/processed_data/neigh_graphs/'\n",
    "chars_dir = '/data/uscuni-eurofab-overture/processed_data/chars/'\n",
    "simplfied_buildings_dir = '/data/uscuni-eurofab-overture/processed_data/simplified_buildings/'\n",
    "\n",
    "\n",
    "regions_datadir = \"/data/uscuni-eurofab-overture/\""
   ]
  },
  {
   "cell_type": "code",
   "execution_count": 4,
   "id": "0d602309-e709-4a8a-a6d7-f516a68f9365",
   "metadata": {},
   "outputs": [
    {
     "data": {
      "text/plain": [
       "(709, 1)"
      ]
     },
     "execution_count": 4,
     "metadata": {},
     "output_type": "execute_result"
    }
   ],
   "source": [
    "region_hulls = gpd.read_parquet(\n",
    "        regions_datadir + \"regions/\" + \"ov_ce_region_hulls.parquet\"\n",
    "    )\n",
    "region_hulls.shape"
   ]
  },
  {
   "cell_type": "code",
   "execution_count": 5,
   "id": "c34a5a4a-30aa-4924-b24a-2674cba66116",
   "metadata": {},
   "outputs": [],
   "source": [
    "region_id = 53490"
   ]
  },
  {
   "cell_type": "markdown",
   "id": "c4ac9438-8953-4680-87be-6cc3c60ff41f",
   "metadata": {
    "jp-MarkdownHeadingCollapsed": true
   },
   "source": [
    "## Process buildings"
   ]
  },
  {
   "cell_type": "markdown",
   "id": "9c43a112-7a01-4d92-a88a-e15d6bf15a9b",
   "metadata": {},
   "source": [
    "Run the building processing pipeline for all regions"
   ]
  },
  {
   "cell_type": "code",
   "execution_count": 7,
   "id": "927bd34d-fe7e-4f30-be1e-fe0954f33ffd",
   "metadata": {},
   "outputs": [],
   "source": [
    "from core.generate_buildings import read_region_buildings, process_region_buildings"
   ]
  },
  {
   "cell_type": "code",
   "execution_count": null,
   "id": "980158c8-0e1c-4a8b-8d9c-cead0f3a4091",
   "metadata": {},
   "outputs": [],
   "source": []
  },
  {
   "cell_type": "code",
   "execution_count": 8,
   "id": "88dbe42c-d588-4661-9117-ae3c3249b5da",
   "metadata": {},
   "outputs": [],
   "source": [
    "def process_single_region_buildings(region_id):\n",
    "    print('processing', region_id)\n",
    "    buildings = gpd.read_parquet(regions_buildings_dir + f'buildings_{region_id}.pq')\n",
    "    buildings = process_region_buildings(buildings, True, simplification_tolerance=.1, merge_limit=25)\n",
    "    buildings.to_parquet(simplfied_buildings_dir + f\"buildings_{region_id}.parquet\")"
   ]
  },
  {
   "cell_type": "code",
   "execution_count": null,
   "id": "e31afbd6-a2f5-4e60-8b6d-8d231a472fa3",
   "metadata": {},
   "outputs": [],
   "source": [
    "%%capture cap\n",
    "for region_id, _ in region_hulls.iterrows():\n",
    "    process_single_region_buildings(region_id)"
   ]
  },
  {
   "cell_type": "code",
   "execution_count": null,
   "id": "44b097f1-12d0-4f35-84f0-cdec64bcab9c",
   "metadata": {
    "scrolled": true
   },
   "outputs": [],
   "source": []
  },
  {
   "cell_type": "markdown",
   "id": "cb6c9f64-828c-41c2-956d-614e6b73e891",
   "metadata": {},
   "source": [
    "Copy over the simplified buildings to the processed data folder."
   ]
  },
  {
   "cell_type": "code",
   "execution_count": 15,
   "id": "4cdd656e-b991-4de0-8e6b-4d368fefdd0f",
   "metadata": {},
   "outputs": [],
   "source": [
    "# !cp -r /data/uscuni-eurofab-overture/processed_data/simplified_buildings/ /data/uscuni-eurofab-overture/processed_data/buildings/"
   ]
  },
  {
   "cell_type": "markdown",
   "id": "fbdbbf1b-f7b6-4b66-9e3a-ba26d271b402",
   "metadata": {
    "jp-MarkdownHeadingCollapsed": true
   },
   "source": [
    "## Process streets"
   ]
  },
  {
   "cell_type": "markdown",
   "id": "b6ad3e6a-7f2f-4cd0-bf61-d95da780187e",
   "metadata": {},
   "source": [
    "Run the street processing pipeline for all regions."
   ]
  },
  {
   "cell_type": "code",
   "execution_count": 5,
   "id": "59385b22-8499-445a-a949-1d663c8bb200",
   "metadata": {},
   "outputs": [],
   "source": [
    "from core.generate_streets import process_region_streets"
   ]
  },
  {
   "cell_type": "code",
   "execution_count": null,
   "id": "e0f28aea-2eff-451c-9b7f-d5c7abe34440",
   "metadata": {},
   "outputs": [],
   "source": [
    "%%capture cap\n",
    "for region_id, _ in region_hulls.iterrows():\n",
    "    streets = process_region_streets(region_id, overture_streets_dir, buildings_dir)\n",
    "    streets.to_parquet(streets_dir + f'streets_{region_id}.parquet')"
   ]
  },
  {
   "cell_type": "code",
   "execution_count": null,
   "id": "634949a1-a086-4fb5-9aa4-02128494f310",
   "metadata": {
    "scrolled": true
   },
   "outputs": [],
   "source": []
  },
  {
   "cell_type": "code",
   "execution_count": null,
   "id": "be1a1c1e-8d25-4946-84a2-a4393c857cbf",
   "metadata": {},
   "outputs": [],
   "source": [
    "region_id  = 109005"
   ]
  },
  {
   "cell_type": "code",
   "execution_count": null,
   "id": "13b14b49-27b1-4a73-ba41-5f3d2fb4d78c",
   "metadata": {
    "scrolled": true
   },
   "outputs": [],
   "source": []
  },
  {
   "cell_type": "code",
   "execution_count": null,
   "id": "9a50602b-e08b-4b9f-b564-74940f311f93",
   "metadata": {},
   "outputs": [],
   "source": []
  },
  {
   "cell_type": "markdown",
   "id": "eb145726-99cb-40fd-ae4e-038e5c2d4b20",
   "metadata": {
    "jp-MarkdownHeadingCollapsed": true
   },
   "source": [
    "## Process elements"
   ]
  },
  {
   "cell_type": "markdown",
   "id": "532d3ad4-83c3-4a13-a2e4-2f4dca67c89c",
   "metadata": {},
   "source": [
    "Run the element generating pipeline for all regions."
   ]
  },
  {
   "cell_type": "code",
   "execution_count": 5,
   "id": "c3306a8a-ea1d-425e-a5c5-df2c7daddfd8",
   "metadata": {},
   "outputs": [],
   "source": [
    "from core.generate_elements import process_region_elements, generate_enclosures_representative_points, generate_tess"
   ]
  },
  {
   "cell_type": "code",
   "execution_count": null,
   "id": "ba00e9c3-74a5-4b00-a2a6-a4474f8faa4b",
   "metadata": {},
   "outputs": [],
   "source": []
  },
  {
   "cell_type": "code",
   "execution_count": 6,
   "id": "64ec42c5-1490-4a08-bedd-b563ddb98893",
   "metadata": {},
   "outputs": [],
   "source": [
    "processed_region_ids = get_processed_region_ids(tessellations_dir)\n"
   ]
  },
  {
   "cell_type": "code",
   "execution_count": null,
   "id": "3a240416-6312-4c62-b333-eb4928f03d84",
   "metadata": {},
   "outputs": [],
   "source": []
  },
  {
   "cell_type": "code",
   "execution_count": 8,
   "id": "fdb775d5-3871-43c5-abab-8619908d5892",
   "metadata": {
    "scrolled": true
   },
   "outputs": [
    {
     "name": "stdout",
     "output_type": "stream",
     "text": [
      "---- Processing region:  4 2025-02-19 10:48:08.183355\n",
      "Processed enclosures\n",
      "processed tesselations\n",
      "---- Processing region:  5 2025-02-19 10:48:13.862069\n",
      "Retrying tesselation with less buildings, potentially changing building data.\n",
      "Dropping 2 buildings due to tesselation problems\n",
      "Processed enclosures\n",
      "processed tesselations\n",
      "---- Processing region:  20 2025-02-19 10:49:59.439670\n",
      "Retrying tesselation with less buildings, potentially changing building data.\n",
      "Dropping 69 buildings due to tesselation problems\n",
      "Processed enclosures\n",
      "processed tesselations\n",
      "---- Processing region:  356 2025-02-19 11:24:24.559845\n",
      "Processed enclosures\n",
      "processed tesselations\n",
      "---- Processing region:  401 2025-02-19 11:24:32.765773\n",
      "Processed enclosures\n",
      "processed tesselations\n",
      "---- Processing region:  646 2025-02-19 11:24:39.609571\n",
      "Retrying tesselation with less buildings, potentially changing building data.\n",
      "Dropping 1 buildings due to tesselation problems\n",
      "Processed enclosures\n",
      "processed tesselations\n",
      "---- Processing region:  687 2025-02-19 11:25:26.681635\n",
      "Processed enclosures\n",
      "processed tesselations\n",
      "---- Processing region:  810 2025-02-19 11:26:04.317318\n",
      "Processed enclosures\n",
      "processed tesselations\n",
      "---- Processing region:  1014 2025-02-19 11:26:11.828165\n",
      "Retrying tesselation with less buildings, potentially changing building data.\n",
      "Dropping 1 buildings due to tesselation problems\n",
      "Processed enclosures\n",
      "processed tesselations\n",
      "---- Processing region:  1049 2025-02-19 11:26:17.344997\n",
      "Processed enclosures\n",
      "processed tesselations\n",
      "---- Processing region:  1054 2025-02-19 11:27:28.388538\n",
      "Processed enclosures\n",
      "processed tesselations\n",
      "---- Processing region:  1117 2025-02-19 11:27:41.608663\n",
      "Retrying tesselation with less buildings, potentially changing building data.\n",
      "Dropping 3 buildings due to tesselation problems\n",
      "Processed enclosures\n",
      "processed tesselations\n",
      "---- Processing region:  1321 2025-02-19 11:28:22.173634\n",
      "Processed enclosures\n",
      "processed tesselations\n",
      "---- Processing region:  1476 2025-02-19 11:28:29.800882\n",
      "Retrying tesselation with less buildings, potentially changing building data.\n",
      "Dropping 9 buildings due to tesselation problems\n",
      "Processed enclosures\n",
      "processed tesselations\n",
      "---- Processing region:  1598 2025-02-19 11:29:06.740215\n",
      "Processed enclosures\n",
      "processed tesselations\n",
      "---- Processing region:  1642 2025-02-19 11:29:10.551707\n",
      "Retrying tesselation with less buildings, potentially changing building data.\n",
      "Dropping 2 buildings due to tesselation problems\n",
      "Processed enclosures\n",
      "processed tesselations\n",
      "---- Processing region:  1827 2025-02-19 11:29:17.945025\n",
      "Processed enclosures\n",
      "processed tesselations\n",
      "---- Processing region:  1940 2025-02-19 11:29:21.789907\n",
      "Processed enclosures\n",
      "processed tesselations\n",
      "---- Processing region:  2110 2025-02-19 11:29:37.587903\n",
      "Processed enclosures\n",
      "processed tesselations\n",
      "---- Processing region:  2112 2025-02-19 11:30:02.891396\n",
      "Retrying tesselation with less buildings, potentially changing building data.\n",
      "Dropping 14 buildings due to tesselation problems\n",
      "Processed enclosures\n",
      "processed tesselations\n",
      "---- Processing region:  2268 2025-02-19 11:44:16.616499\n",
      "Processed enclosures\n",
      "processed tesselations\n",
      "---- Processing region:  2304 2025-02-19 11:44:22.288486\n",
      "Processed enclosures\n",
      "processed tesselations\n",
      "---- Processing region:  2485 2025-02-19 11:44:28.169578\n",
      "Processed enclosures\n",
      "processed tesselations\n",
      "---- Processing region:  2779 2025-02-19 11:44:37.338038\n",
      "Processed enclosures\n",
      "processed tesselations\n",
      "---- Processing region:  2846 2025-02-19 11:44:41.577238\n",
      "Processed enclosures\n",
      "processed tesselations\n",
      "---- Processing region:  2885 2025-02-19 11:44:58.537929\n",
      "Processed enclosures\n",
      "processed tesselations\n",
      "---- Processing region:  2997 2025-02-19 11:45:12.938513\n",
      "Processed enclosures\n",
      "processed tesselations\n",
      "---- Processing region:  3086 2025-02-19 11:45:16.937603\n",
      "Processed enclosures\n",
      "processed tesselations\n",
      "---- Processing region:  3147 2025-02-19 11:45:28.182346\n",
      "Processed enclosures\n",
      "processed tesselations\n",
      "---- Processing region:  3256 2025-02-19 11:45:34.071681\n",
      "Processed enclosures\n",
      "processed tesselations\n",
      "---- Processing region:  3335 2025-02-19 11:45:41.466200\n",
      "Processed enclosures\n",
      "processed tesselations\n",
      "---- Processing region:  3408 2025-02-19 11:45:49.184817\n",
      "Processed enclosures\n",
      "processed tesselations\n",
      "---- Processing region:  3415 2025-02-19 11:45:58.155368\n",
      "Processed enclosures\n",
      "processed tesselations\n",
      "---- Processing region:  3462 2025-02-19 11:46:29.693986\n",
      "Processed enclosures\n",
      "processed tesselations\n",
      "---- Processing region:  3631 2025-02-19 11:47:07.042601\n",
      "Retrying tesselation with less buildings, potentially changing building data.\n",
      "Dropping 1 buildings due to tesselation problems\n",
      "Processed enclosures\n",
      "processed tesselations\n",
      "---- Processing region:  3751 2025-02-19 11:53:22.140644\n",
      "Processed enclosures\n",
      "processed tesselations\n",
      "---- Processing region:  3758 2025-02-19 11:53:31.505813\n",
      "Retrying tesselation with less buildings, potentially changing building data.\n",
      "Dropping 4 buildings due to tesselation problems\n",
      "Processed enclosures\n",
      "processed tesselations\n",
      "---- Processing region:  3770 2025-02-19 11:55:05.956501\n",
      "Processed enclosures\n",
      "processed tesselations\n",
      "---- Processing region:  3888 2025-02-19 11:55:15.084583\n",
      "Retrying tesselation with less buildings, potentially changing building data.\n",
      "Dropping 1 buildings due to tesselation problems\n",
      "Processed enclosures\n",
      "processed tesselations\n",
      "---- Processing region:  3892 2025-02-19 11:55:22.860912\n",
      "Processed enclosures\n",
      "processed tesselations\n",
      "---- Processing region:  3907 2025-02-19 11:55:30.501073\n",
      "Processed enclosures\n",
      "processed tesselations\n",
      "---- Processing region:  4040 2025-02-19 11:55:55.350774\n",
      "Processed enclosures\n",
      "processed tesselations\n",
      "---- Processing region:  4066 2025-02-19 11:55:59.097153\n",
      "Processed enclosures\n",
      "processed tesselations\n",
      "---- Processing region:  4347 2025-02-19 11:56:10.237182\n",
      "Retrying tesselation with less buildings, potentially changing building data.\n",
      "Dropping 1 buildings due to tesselation problems\n",
      "Processed enclosures\n",
      "processed tesselations\n",
      "---- Processing region:  4356 2025-02-19 11:58:19.248461\n",
      "Processed enclosures\n",
      "processed tesselations\n",
      "---- Processing region:  4798 2025-02-19 11:58:32.393398\n",
      "Processed enclosures\n",
      "processed tesselations\n",
      "---- Processing region:  4833 2025-02-19 11:58:41.777686\n",
      "Processed enclosures\n",
      "processed tesselations\n",
      "---- Processing region:  5084 2025-02-19 11:58:50.898359\n",
      "Processed enclosures\n",
      "processed tesselations\n",
      "---- Processing region:  5388 2025-02-19 11:59:00.382000\n",
      "Processed enclosures\n",
      "processed tesselations\n",
      "---- Processing region:  5513 2025-02-19 11:59:14.988509\n",
      "Processed enclosures\n",
      "processed tesselations\n",
      "---- Processing region:  5832 2025-02-19 11:59:32.288848\n",
      "Processed enclosures\n",
      "processed tesselations\n",
      "---- Processing region:  6004 2025-02-19 11:59:38.187521\n",
      "Processed enclosures\n",
      "processed tesselations\n",
      "---- Processing region:  6037 2025-02-19 11:59:41.171721\n",
      "Processed enclosures\n",
      "processed tesselations\n",
      "---- Processing region:  6085 2025-02-19 11:59:55.418085\n",
      "Processed enclosures\n",
      "processed tesselations\n",
      "---- Processing region:  6090 2025-02-19 11:59:59.733396\n",
      "Processed enclosures\n",
      "processed tesselations\n",
      "---- Processing region:  6108 2025-02-19 12:00:30.630380\n",
      "Processed enclosures\n",
      "processed tesselations\n",
      "---- Processing region:  6574 2025-02-19 12:00:50.090032\n",
      "Processed enclosures\n",
      "processed tesselations\n",
      "---- Processing region:  6612 2025-02-19 12:00:56.297421\n",
      "Processed enclosures\n",
      "processed tesselations\n",
      "---- Processing region:  6738 2025-02-19 12:01:03.196099\n",
      "Retrying tesselation with less buildings, potentially changing building data.\n",
      "Dropping 1 buildings due to tesselation problems\n",
      "Processed enclosures\n",
      "processed tesselations\n",
      "---- Processing region:  6918 2025-02-19 12:02:11.020281\n",
      "Processed enclosures\n",
      "processed tesselations\n",
      "---- Processing region:  7098 2025-02-19 12:02:15.833565\n",
      "Processed enclosures\n",
      "processed tesselations\n",
      "---- Processing region:  7111 2025-02-19 12:02:23.023715\n",
      "Processed enclosures\n",
      "processed tesselations\n",
      "---- Processing region:  7125 2025-02-19 12:02:26.832765\n",
      "Processed enclosures\n",
      "processed tesselations\n",
      "---- Processing region:  7355 2025-02-19 12:02:49.725314\n",
      "Processed enclosures\n",
      "processed tesselations\n",
      "---- Processing region:  7607 2025-02-19 12:03:01.976869\n",
      "Processed enclosures\n",
      "processed tesselations\n",
      "---- Processing region:  7634 2025-02-19 12:03:24.906980\n",
      "Retrying tesselation with less buildings, potentially changing building data.\n",
      "Dropping 1 buildings due to tesselation problems\n",
      "Processed enclosures\n",
      "processed tesselations\n",
      "---- Processing region:  7674 2025-02-19 12:03:41.240920\n",
      "Processed enclosures\n",
      "processed tesselations\n",
      "---- Processing region:  7688 2025-02-19 12:03:44.940860\n",
      "Processed enclosures\n",
      "processed tesselations\n",
      "---- Processing region:  7823 2025-02-19 12:03:50.602527\n",
      "Processed enclosures\n",
      "processed tesselations\n",
      "---- Processing region:  7867 2025-02-19 12:04:04.525423\n",
      "Processed enclosures\n",
      "processed tesselations\n",
      "---- Processing region:  7962 2025-02-19 12:04:10.114714\n",
      "Processed enclosures\n",
      "processed tesselations\n",
      "---- Processing region:  8160 2025-02-19 12:04:18.128970\n",
      "Retrying tesselation with less buildings, potentially changing building data.\n",
      "Dropping 7 buildings due to tesselation problems\n",
      "Processed enclosures\n",
      "processed tesselations\n",
      "---- Processing region:  8213 2025-02-19 12:09:13.387856\n",
      "Processed enclosures\n",
      "processed tesselations\n",
      "---- Processing region:  8245 2025-02-19 12:09:20.287134\n",
      "Processed enclosures\n",
      "processed tesselations\n",
      "---- Processing region:  8272 2025-02-19 12:09:32.450281\n",
      "Processed enclosures\n",
      "processed tesselations\n",
      "---- Processing region:  8320 2025-02-19 12:09:48.599106\n",
      "Processed enclosures\n",
      "processed tesselations\n",
      "---- Processing region:  8360 2025-02-19 12:09:55.629631\n",
      "Processed enclosures\n",
      "processed tesselations\n",
      "---- Processing region:  8438 2025-02-19 12:10:04.508528\n",
      "Retrying tesselation with less buildings, potentially changing building data.\n",
      "Dropping 1 buildings due to tesselation problems\n",
      "Processed enclosures\n",
      "processed tesselations\n",
      "---- Processing region:  8854 2025-02-19 12:10:22.560620\n",
      "Processed enclosures\n",
      "processed tesselations\n",
      "---- Processing region:  9048 2025-02-19 12:10:46.850658\n",
      "Processed enclosures\n",
      "processed tesselations\n",
      "---- Processing region:  9147 2025-02-19 12:11:02.698456\n",
      "Retrying tesselation with less buildings, potentially changing building data.\n",
      "Dropping 1 buildings due to tesselation problems\n",
      "Processed enclosures\n",
      "processed tesselations\n",
      "---- Processing region:  9310 2025-02-19 12:12:13.317357\n",
      "Processed enclosures\n",
      "processed tesselations\n",
      "---- Processing region:  9353 2025-02-19 12:12:17.485454\n",
      "Processed enclosures\n",
      "processed tesselations\n",
      "---- Processing region:  9656 2025-02-19 12:12:24.709921\n",
      "Processed enclosures\n",
      "processed tesselations\n",
      "---- Processing region:  9678 2025-02-19 12:12:28.559876\n",
      "Retrying tesselation with less buildings, potentially changing building data.\n",
      "Dropping 1 buildings due to tesselation problems\n",
      "Processed enclosures\n",
      "processed tesselations\n",
      "---- Processing region:  9728 2025-02-19 12:12:47.264488\n",
      "Processed enclosures\n",
      "processed tesselations\n",
      "---- Processing region:  9754 2025-02-19 12:12:54.034762\n",
      "Retrying tesselation with less buildings, potentially changing building data.\n",
      "Dropping 2 buildings due to tesselation problems\n",
      "Processed enclosures\n",
      "processed tesselations\n",
      "---- Processing region:  9830 2025-02-19 12:16:25.693665\n",
      "Processed enclosures\n",
      "processed tesselations\n",
      "---- Processing region:  9871 2025-02-19 12:16:33.274080\n",
      "Processed enclosures\n",
      "processed tesselations\n",
      "---- Processing region:  9981 2025-02-19 12:16:42.496328\n",
      "Processed enclosures\n",
      "processed tesselations\n",
      "---- Processing region:  10078 2025-02-19 12:16:52.861781\n",
      "Processed enclosures\n",
      "processed tesselations\n",
      "---- Processing region:  10135 2025-02-19 12:17:03.964478\n",
      "Processed enclosures\n",
      "processed tesselations\n",
      "---- Processing region:  10196 2025-02-19 12:17:12.960741\n",
      "Processed enclosures\n",
      "processed tesselations\n",
      "---- Processing region:  10385 2025-02-19 12:17:18.768461\n",
      "Processed enclosures\n",
      "processed tesselations\n",
      "---- Processing region:  10446 2025-02-19 12:17:56.702434\n",
      "Processed enclosures\n",
      "processed tesselations\n",
      "---- Processing region:  10454 2025-02-19 12:18:00.529716\n",
      "Processed enclosures\n",
      "processed tesselations\n",
      "---- Processing region:  10574 2025-02-19 12:18:15.095092\n",
      "Processed enclosures\n",
      "processed tesselations\n",
      "---- Processing region:  10771 2025-02-19 12:18:20.497551\n",
      "Processed enclosures\n",
      "processed tesselations\n",
      "---- Processing region:  10846 2025-02-19 12:18:29.518900\n",
      "Retrying tesselation with less buildings, potentially changing building data.\n",
      "Dropping 1 buildings due to tesselation problems\n",
      "Processed enclosures\n",
      "processed tesselations\n",
      "---- Processing region:  10939 2025-02-19 12:19:10.912296\n",
      "Processed enclosures\n",
      "processed tesselations\n",
      "---- Processing region:  10957 2025-02-19 12:19:31.747024\n",
      "Processed enclosures\n",
      "processed tesselations\n",
      "---- Processing region:  10962 2025-02-19 12:19:36.179509\n",
      "Processed enclosures\n",
      "processed tesselations\n",
      "---- Processing region:  11055 2025-02-19 12:19:44.158236\n",
      "Processed enclosures\n",
      "processed tesselations\n",
      "---- Processing region:  11196 2025-02-19 12:19:49.388418\n",
      "Processed enclosures\n",
      "processed tesselations\n",
      "---- Processing region:  11282 2025-02-19 12:19:57.879465\n",
      "Processed enclosures\n",
      "processed tesselations\n",
      "---- Processing region:  11345 2025-02-19 12:20:01.234738\n",
      "Processed enclosures\n",
      "processed tesselations\n",
      "---- Processing region:  11633 2025-02-19 12:20:26.246516\n",
      "Processed enclosures\n",
      "processed tesselations\n",
      "---- Processing region:  11700 2025-02-19 12:20:37.775602\n",
      "Processed enclosures\n",
      "processed tesselations\n",
      "---- Processing region:  11785 2025-02-19 12:20:48.630458\n",
      "Processed enclosures\n",
      "processed tesselations\n",
      "---- Processing region:  11818 2025-02-19 12:21:02.314152\n",
      "Processed enclosures\n",
      "processed tesselations\n",
      "---- Processing region:  11855 2025-02-19 12:21:06.809686\n",
      "Processed enclosures\n",
      "processed tesselations\n",
      "---- Processing region:  11860 2025-02-19 12:21:14.478145\n",
      "Processed enclosures\n",
      "processed tesselations\n",
      "---- Processing region:  11944 2025-02-19 12:21:19.766543\n",
      "Processed enclosures\n",
      "processed tesselations\n",
      "---- Processing region:  12041 2025-02-19 12:21:26.205985\n",
      "Retrying tesselation with less buildings, potentially changing building data.\n",
      "Dropping 5 buildings due to tesselation problems\n",
      "Processed enclosures\n",
      "processed tesselations\n",
      "---- Processing region:  12214 2025-02-19 12:21:52.659887\n",
      "Processed enclosures\n",
      "processed tesselations\n",
      "---- Processing region:  12311 2025-02-19 12:22:06.036958\n",
      "Processed enclosures\n",
      "processed tesselations\n",
      "---- Processing region:  12363 2025-02-19 12:22:10.026041\n",
      "Processed enclosures\n",
      "processed tesselations\n",
      "---- Processing region:  12458 2025-02-19 12:22:22.261744\n",
      "Processed enclosures\n",
      "processed tesselations\n",
      "---- Processing region:  12493 2025-02-19 12:22:49.030641\n"
     ]
    },
    {
     "name": "stderr",
     "output_type": "stream",
     "text": [
      "/home/krasen/morphometrics/.pixi/envs/default/lib/python3.12/site-packages/joblib/externals/loky/process_executor.py:752: UserWarning: A worker stopped while some jobs were given to the executor. This can be caused by a too short worker timeout or by a memory leak.\n",
      "  warnings.warn(\n"
     ]
    },
    {
     "name": "stdout",
     "output_type": "stream",
     "text": [
      "Retrying tesselation with less buildings, potentially changing building data.\n"
     ]
    },
    {
     "name": "stderr",
     "output_type": "stream",
     "text": [
      "/home/krasen/morphometrics/.pixi/envs/default/lib/python3.12/site-packages/joblib/externals/loky/process_executor.py:752: UserWarning: A worker stopped while some jobs were given to the executor. This can be caused by a too short worker timeout or by a memory leak.\n",
      "  warnings.warn(\n"
     ]
    },
    {
     "name": "stdout",
     "output_type": "stream",
     "text": [
      "Dropping 4 buildings due to tesselation problems\n",
      "Processed enclosures\n",
      "processed tesselations\n",
      "---- Processing region:  12502 2025-02-19 12:30:38.107246\n",
      "Processed enclosures\n",
      "processed tesselations\n",
      "---- Processing region:  12511 2025-02-19 12:30:47.067722\n",
      "Retrying tesselation with less buildings, potentially changing building data.\n",
      "Dropping 1 buildings due to tesselation problems\n",
      "Processed enclosures\n",
      "processed tesselations\n",
      "---- Processing region:  12551 2025-02-19 12:31:16.274645\n",
      "Processed enclosures\n",
      "processed tesselations\n",
      "---- Processing region:  12590 2025-02-19 12:31:25.752540\n",
      "Processed enclosures\n",
      "processed tesselations\n",
      "---- Processing region:  12647 2025-02-19 12:31:37.072447\n",
      "Processed enclosures\n",
      "processed tesselations\n",
      "---- Processing region:  12815 2025-02-19 12:31:47.661319\n",
      "Processed enclosures\n",
      "processed tesselations\n",
      "---- Processing region:  13347 2025-02-19 12:31:54.322254\n",
      "Processed enclosures\n",
      "processed tesselations\n",
      "---- Processing region:  13348 2025-02-19 12:32:05.686970\n",
      "Retrying tesselation with less buildings, potentially changing building data.\n",
      "Dropping 1 buildings due to tesselation problems\n",
      "Processed enclosures\n",
      "processed tesselations\n",
      "---- Processing region:  13385 2025-02-19 12:32:25.986847\n",
      "Retrying tesselation with less buildings, potentially changing building data.\n",
      "Dropping 1 buildings due to tesselation problems\n",
      "Processed enclosures\n",
      "processed tesselations\n",
      "---- Processing region:  13475 2025-02-19 12:32:33.447402\n",
      "Processed enclosures\n",
      "processed tesselations\n",
      "---- Processing region:  13566 2025-02-19 12:32:45.586360\n",
      "Processed enclosures\n",
      "processed tesselations\n",
      "---- Processing region:  13633 2025-02-19 12:32:48.599970\n",
      "Processed enclosures\n",
      "processed tesselations\n",
      "---- Processing region:  13928 2025-02-19 12:32:52.735425\n",
      "Processed enclosures\n",
      "processed tesselations\n",
      "---- Processing region:  14064 2025-02-19 12:33:06.472530\n",
      "Retrying tesselation with less buildings, potentially changing building data.\n",
      "Dropping 1 buildings due to tesselation problems\n",
      "Processed enclosures\n",
      "processed tesselations\n",
      "---- Processing region:  14137 2025-02-19 12:33:27.477579\n",
      "Processed enclosures\n",
      "processed tesselations\n",
      "---- Processing region:  14242 2025-02-19 12:33:32.252775\n",
      "Processed enclosures\n",
      "processed tesselations\n",
      "---- Processing region:  14328 2025-02-19 12:33:40.464223\n",
      "Processed enclosures\n",
      "processed tesselations\n",
      "---- Processing region:  14404 2025-02-19 12:33:46.053860\n",
      "Processed enclosures\n",
      "processed tesselations\n",
      "---- Processing region:  14459 2025-02-19 12:33:51.307212\n",
      "Processed enclosures\n",
      "processed tesselations\n",
      "---- Processing region:  14496 2025-02-19 12:33:56.181949\n",
      "Retrying tesselation with less buildings, potentially changing building data.\n",
      "Dropping 2 buildings due to tesselation problems\n",
      "Processed enclosures\n",
      "processed tesselations\n",
      "---- Processing region:  14663 2025-02-19 12:41:02.333343\n",
      "Processed enclosures\n",
      "processed tesselations\n",
      "---- Processing region:  14759 2025-02-19 12:41:08.831909\n",
      "Processed enclosures\n",
      "processed tesselations\n",
      "---- Processing region:  14766 2025-02-19 12:41:19.676612\n",
      "Processed enclosures\n",
      "processed tesselations\n",
      "---- Processing region:  14946 2025-02-19 12:41:36.789233\n",
      "Processed enclosures\n",
      "processed tesselations\n",
      "---- Processing region:  15176 2025-02-19 12:41:45.869931\n",
      "Processed enclosures\n",
      "processed tesselations\n",
      "---- Processing region:  15241 2025-02-19 12:41:51.430111\n",
      "Processed enclosures\n",
      "processed tesselations\n",
      "---- Processing region:  15338 2025-02-19 12:41:59.880588\n",
      "Processed enclosures\n",
      "processed tesselations\n",
      "---- Processing region:  15351 2025-02-19 12:42:08.552175\n",
      "Processed enclosures\n",
      "processed tesselations\n",
      "---- Processing region:  15406 2025-02-19 12:42:27.452622\n",
      "Processed enclosures\n",
      "processed tesselations\n",
      "---- Processing region:  15416 2025-02-19 12:42:45.455072\n",
      "Processed enclosures\n",
      "processed tesselations\n",
      "---- Processing region:  15882 2025-02-19 12:42:55.906517\n",
      "Processed enclosures\n",
      "processed tesselations\n",
      "---- Processing region:  16414 2025-02-19 12:43:09.108611\n",
      "Retrying tesselation with less buildings, potentially changing building data.\n",
      "Dropping 1 buildings due to tesselation problems\n",
      "Processed enclosures\n",
      "processed tesselations\n",
      "---- Processing region:  16430 2025-02-19 12:46:00.718325\n",
      "Processed enclosures\n",
      "processed tesselations\n",
      "---- Processing region:  16439 2025-02-19 12:46:19.191636\n",
      "Processed enclosures\n",
      "processed tesselations\n",
      "---- Processing region:  17204 2025-02-19 12:46:28.734523\n",
      "Processed enclosures\n",
      "processed tesselations\n",
      "---- Processing region:  17373 2025-02-19 12:46:38.119265\n",
      "Retrying tesselation with less buildings, potentially changing building data.\n",
      "Dropping 1 buildings due to tesselation problems\n",
      "Processed enclosures\n",
      "processed tesselations\n",
      "---- Processing region:  17744 2025-02-19 12:48:35.495885\n",
      "Processed enclosures\n",
      "processed tesselations\n",
      "---- Processing region:  17780 2025-02-19 12:48:49.356234\n",
      "Processed enclosures\n",
      "processed tesselations\n",
      "---- Processing region:  17846 2025-02-19 12:48:58.164706\n",
      "Processed enclosures\n",
      "processed tesselations\n",
      "---- Processing region:  17892 2025-02-19 12:49:07.329377\n",
      "Processed enclosures\n",
      "processed tesselations\n",
      "---- Processing region:  17933 2025-02-19 12:49:18.901782\n",
      "Processed enclosures\n",
      "processed tesselations\n",
      "---- Processing region:  18116 2025-02-19 12:49:29.076144\n",
      "Processed enclosures\n",
      "processed tesselations\n",
      "---- Processing region:  18127 2025-02-19 12:49:41.243407\n",
      "Processed enclosures\n",
      "processed tesselations\n",
      "---- Processing region:  18230 2025-02-19 12:49:48.816415\n",
      "Processed enclosures\n",
      "processed tesselations\n",
      "---- Processing region:  19263 2025-02-19 12:50:00.716524\n",
      "Processed enclosures\n",
      "processed tesselations\n",
      "---- Processing region:  19442 2025-02-19 12:50:09.547802\n",
      "Processed enclosures\n",
      "processed tesselations\n",
      "---- Processing region:  19537 2025-02-19 12:51:03.646858\n",
      "Processed enclosures\n",
      "processed tesselations\n",
      "---- Processing region:  19811 2025-02-19 12:51:13.996861\n",
      "Processed enclosures\n",
      "processed tesselations\n",
      "---- Processing region:  19906 2025-02-19 12:51:29.658754\n",
      "Processed enclosures\n",
      "processed tesselations\n",
      "---- Processing region:  20034 2025-02-19 12:51:43.432167\n",
      "Processed enclosures\n",
      "processed tesselations\n",
      "---- Processing region:  20332 2025-02-19 12:51:55.969944\n",
      "Processed enclosures\n",
      "processed tesselations\n",
      "---- Processing region:  20490 2025-02-19 12:52:36.263857\n",
      "Processed enclosures\n",
      "processed tesselations\n",
      "---- Processing region:  20556 2025-02-19 12:52:43.933087\n",
      "Processed enclosures\n",
      "processed tesselations\n",
      "---- Processing region:  20796 2025-02-19 12:52:57.108748\n",
      "Processed enclosures\n",
      "processed tesselations\n",
      "---- Processing region:  20861 2025-02-19 12:53:15.232839\n",
      "Processed enclosures\n",
      "processed tesselations\n",
      "---- Processing region:  21115 2025-02-19 12:53:27.811711\n",
      "Retrying tesselation with less buildings, potentially changing building data.\n",
      "Dropping 1 buildings due to tesselation problems\n",
      "Processed enclosures\n",
      "processed tesselations\n",
      "---- Processing region:  21229 2025-02-19 12:54:00.301310\n",
      "Processed enclosures\n",
      "processed tesselations\n",
      "---- Processing region:  21365 2025-02-19 12:54:13.077647\n",
      "Processed enclosures\n",
      "processed tesselations\n",
      "---- Processing region:  21811 2025-02-19 12:54:31.522109\n",
      "Retrying tesselation with less buildings, potentially changing building data.\n",
      "Dropping 1 buildings due to tesselation problems\n",
      "Processed enclosures\n",
      "processed tesselations\n",
      "---- Processing region:  22026 2025-02-19 12:55:46.184971\n",
      "Processed enclosures\n",
      "processed tesselations\n",
      "---- Processing region:  22246 2025-02-19 12:55:52.086019\n",
      "Processed enclosures\n",
      "processed tesselations\n",
      "---- Processing region:  22417 2025-02-19 12:56:03.756956\n",
      "Processed enclosures\n",
      "processed tesselations\n",
      "---- Processing region:  22543 2025-02-19 12:56:08.018366\n",
      "Processed enclosures\n",
      "processed tesselations\n",
      "---- Processing region:  22552 2025-02-19 12:56:25.595477\n",
      "Processed enclosures\n",
      "processed tesselations\n",
      "---- Processing region:  23103 2025-02-19 12:56:56.539275\n",
      "Processed enclosures\n",
      "processed tesselations\n",
      "---- Processing region:  23108 2025-02-19 12:57:13.259334\n",
      "Processed enclosures\n",
      "processed tesselations\n",
      "---- Processing region:  23891 2025-02-19 12:57:33.063838\n",
      "Processed enclosures\n",
      "processed tesselations\n",
      "---- Processing region:  24036 2025-02-19 12:58:02.145636\n",
      "Processed enclosures\n",
      "processed tesselations\n",
      "---- Processing region:  24098 2025-02-19 12:58:26.982222\n",
      "Processed enclosures\n",
      "processed tesselations\n",
      "---- Processing region:  24121 2025-02-19 12:58:47.488390\n",
      "Processed enclosures\n",
      "processed tesselations\n",
      "---- Processing region:  24362 2025-02-19 12:58:51.913525\n",
      "Processed enclosures\n",
      "processed tesselations\n",
      "---- Processing region:  24609 2025-02-19 12:59:12.659398\n",
      "Processed enclosures\n",
      "processed tesselations\n",
      "---- Processing region:  24665 2025-02-19 12:59:26.805289\n",
      "Processed enclosures\n",
      "processed tesselations\n",
      "---- Processing region:  25001 2025-02-19 12:59:46.816623\n",
      "Processed enclosures\n",
      "processed tesselations\n",
      "---- Processing region:  25412 2025-02-19 13:00:54.594327\n",
      "Processed enclosures\n",
      "processed tesselations\n",
      "---- Processing region:  25423 2025-02-19 13:01:17.776338\n",
      "Processed enclosures\n",
      "processed tesselations\n",
      "---- Processing region:  25542 2025-02-19 13:01:32.074410\n",
      "Processed enclosures\n",
      "processed tesselations\n",
      "---- Processing region:  25779 2025-02-19 13:02:05.936731\n",
      "Processed enclosures\n",
      "processed tesselations\n",
      "---- Processing region:  25875 2025-02-19 13:02:20.536471\n",
      "Retrying tesselation with less buildings, potentially changing building data.\n",
      "Dropping 1 buildings due to tesselation problems\n",
      "Processed enclosures\n",
      "processed tesselations\n",
      "---- Processing region:  25924 2025-02-19 13:02:59.739024\n",
      "Processed enclosures\n",
      "processed tesselations\n",
      "---- Processing region:  25945 2025-02-19 13:03:18.684749\n",
      "Processed enclosures\n",
      "processed tesselations\n",
      "---- Processing region:  25951 2025-02-19 13:03:27.367839\n",
      "Processed enclosures\n",
      "processed tesselations\n",
      "---- Processing region:  26132 2025-02-19 13:03:41.450028\n",
      "Processed enclosures\n",
      "processed tesselations\n",
      "---- Processing region:  26568 2025-02-19 13:03:51.497596\n",
      "Processed enclosures\n",
      "processed tesselations\n",
      "---- Processing region:  26659 2025-02-19 13:03:57.726708\n",
      "Processed enclosures\n",
      "processed tesselations\n",
      "---- Processing region:  26798 2025-02-19 13:04:09.006150\n",
      "Processed enclosures\n",
      "processed tesselations\n",
      "---- Processing region:  27160 2025-02-19 13:04:17.842889\n",
      "Processed enclosures\n",
      "processed tesselations\n",
      "---- Processing region:  27223 2025-02-19 13:04:24.319103\n",
      "Processed enclosures\n",
      "processed tesselations\n",
      "---- Processing region:  27224 2025-02-19 13:04:36.785941\n",
      "Processed enclosures\n",
      "processed tesselations\n",
      "---- Processing region:  27423 2025-02-19 13:04:41.689750\n",
      "Processed enclosures\n",
      "processed tesselations\n",
      "---- Processing region:  27610 2025-02-19 13:05:04.891306\n",
      "Processed enclosures\n",
      "processed tesselations\n",
      "---- Processing region:  27765 2025-02-19 13:05:10.597539\n",
      "Retrying tesselation with less buildings, potentially changing building data.\n",
      "Dropping 3 buildings due to tesselation problems\n",
      "Processed enclosures\n",
      "processed tesselations\n",
      "---- Processing region:  27832 2025-02-19 13:08:20.181378\n",
      "Processed enclosures\n",
      "processed tesselations\n",
      "---- Processing region:  27846 2025-02-19 13:08:26.595668\n",
      "Processed enclosures\n",
      "processed tesselations\n",
      "---- Processing region:  28020 2025-02-19 13:08:38.636363\n",
      "Processed enclosures\n",
      "processed tesselations\n",
      "---- Processing region:  28131 2025-02-19 13:08:56.801099\n",
      "Processed enclosures\n",
      "processed tesselations\n",
      "---- Processing region:  28132 2025-02-19 13:09:03.505397\n",
      "Processed enclosures\n",
      "processed tesselations\n",
      "---- Processing region:  28318 2025-02-19 13:09:29.730279\n",
      "Processed enclosures\n",
      "processed tesselations\n",
      "---- Processing region:  28858 2025-02-19 13:09:52.321256\n",
      "Processed enclosures\n",
      "processed tesselations\n",
      "---- Processing region:  28907 2025-02-19 13:10:08.713812\n",
      "Processed enclosures\n",
      "processed tesselations\n",
      "---- Processing region:  29070 2025-02-19 13:10:24.039253\n",
      "Processed enclosures\n",
      "processed tesselations\n",
      "---- Processing region:  29520 2025-02-19 13:10:31.254223\n"
     ]
    },
    {
     "name": "stderr",
     "output_type": "stream",
     "text": [
      "/home/krasen/morphometrics/.pixi/envs/default/lib/python3.12/site-packages/joblib/externals/loky/process_executor.py:752: UserWarning: A worker stopped while some jobs were given to the executor. This can be caused by a too short worker timeout or by a memory leak.\n",
      "  warnings.warn(\n"
     ]
    },
    {
     "name": "stdout",
     "output_type": "stream",
     "text": [
      "Processed enclosures\n",
      "processed tesselations\n",
      "---- Processing region:  29591 2025-02-19 13:11:01.251948\n",
      "Processed enclosures\n",
      "processed tesselations\n",
      "---- Processing region:  29595 2025-02-19 13:11:09.797929\n",
      "Processed enclosures\n",
      "processed tesselations\n",
      "---- Processing region:  30057 2025-02-19 13:11:38.240138\n",
      "Processed enclosures\n",
      "processed tesselations\n",
      "---- Processing region:  30339 2025-02-19 13:11:52.486134\n",
      "Processed enclosures\n",
      "processed tesselations\n",
      "---- Processing region:  30406 2025-02-19 13:12:01.123260\n",
      "Processed enclosures\n",
      "processed tesselations\n",
      "---- Processing region:  30718 2025-02-19 13:12:11.722426\n",
      "Processed enclosures\n",
      "processed tesselations\n",
      "---- Processing region:  30802 2025-02-19 13:12:31.107872\n",
      "Processed enclosures\n",
      "processed tesselations\n",
      "---- Processing region:  30879 2025-02-19 13:12:42.050525\n",
      "Processed enclosures\n",
      "processed tesselations\n",
      "---- Processing region:  30976 2025-02-19 13:12:45.977260\n",
      "Processed enclosures\n",
      "processed tesselations\n",
      "---- Processing region:  31083 2025-02-19 13:12:51.248618\n",
      "Processed enclosures\n",
      "processed tesselations\n",
      "---- Processing region:  31361 2025-02-19 13:12:59.798232\n",
      "Processed enclosures\n",
      "processed tesselations\n",
      "---- Processing region:  31466 2025-02-19 13:13:11.633024\n",
      "Processed enclosures\n",
      "processed tesselations\n",
      "---- Processing region:  31810 2025-02-19 13:13:33.686722\n",
      "Processed enclosures\n",
      "processed tesselations\n",
      "---- Processing region:  31952 2025-02-19 13:14:01.488236\n",
      "Retrying tesselation with less buildings, potentially changing building data.\n",
      "Dropping 2 buildings due to tesselation problems\n",
      "Processed enclosures\n",
      "processed tesselations\n",
      "---- Processing region:  32398 2025-02-19 13:15:39.476479\n",
      "Processed enclosures\n",
      "processed tesselations\n",
      "---- Processing region:  32484 2025-02-19 13:15:44.259949\n",
      "Processed enclosures\n",
      "processed tesselations\n",
      "---- Processing region:  32698 2025-02-19 13:15:54.177306\n",
      "Processed enclosures\n",
      "processed tesselations\n",
      "---- Processing region:  32854 2025-02-19 13:15:59.699958\n",
      "Processed enclosures\n",
      "processed tesselations\n",
      "---- Processing region:  32928 2025-02-19 13:16:57.334538\n",
      "Processed enclosures\n",
      "processed tesselations\n",
      "---- Processing region:  33078 2025-02-19 13:17:03.176852\n",
      "Processed enclosures\n",
      "processed tesselations\n",
      "---- Processing region:  33284 2025-02-19 13:17:13.433944\n",
      "Processed enclosures\n",
      "processed tesselations\n",
      "---- Processing region:  33413 2025-02-19 13:17:37.030346\n",
      "Retrying tesselation with less buildings, potentially changing building data.\n",
      "Dropping 1 buildings due to tesselation problems\n",
      "Processed enclosures\n",
      "processed tesselations\n",
      "---- Processing region:  33475 2025-02-19 13:17:52.563295\n",
      "Processed enclosures\n",
      "processed tesselations\n",
      "---- Processing region:  33559 2025-02-19 13:18:03.497096\n",
      "Processed enclosures\n",
      "processed tesselations\n",
      "---- Processing region:  33710 2025-02-19 13:18:27.453038\n",
      "Processed enclosures\n",
      "processed tesselations\n",
      "---- Processing region:  33764 2025-02-19 13:18:46.570496\n",
      "Processed enclosures\n",
      "processed tesselations\n",
      "---- Processing region:  33899 2025-02-19 13:19:13.079267\n",
      "Processed enclosures\n",
      "processed tesselations\n",
      "---- Processing region:  33954 2025-02-19 13:19:20.575148\n",
      "Processed enclosures\n",
      "processed tesselations\n",
      "---- Processing region:  33987 2025-02-19 13:19:32.049370\n",
      "Processed enclosures\n",
      "processed tesselations\n",
      "---- Processing region:  34203 2025-02-19 13:19:40.615631\n",
      "Processed enclosures\n",
      "processed tesselations\n",
      "---- Processing region:  34239 2025-02-19 13:19:45.865211\n",
      "Processed enclosures\n",
      "processed tesselations\n",
      "---- Processing region:  34737 2025-02-19 13:19:58.362766\n",
      "Processed enclosures\n",
      "processed tesselations\n",
      "---- Processing region:  34746 2025-02-19 13:20:04.367325\n",
      "Processed enclosures\n",
      "processed tesselations\n",
      "---- Processing region:  34842 2025-02-19 13:20:25.009538\n",
      "Processed enclosures\n",
      "processed tesselations\n",
      "---- Processing region:  34910 2025-02-19 13:20:34.428297\n",
      "Processed enclosures\n",
      "processed tesselations\n",
      "---- Processing region:  34995 2025-02-19 13:20:38.090430\n",
      "Processed enclosures\n",
      "processed tesselations\n",
      "---- Processing region:  35093 2025-02-19 13:20:44.442916\n",
      "Processed enclosures\n",
      "processed tesselations\n",
      "---- Processing region:  35245 2025-02-19 13:20:56.449944\n",
      "Processed enclosures\n",
      "processed tesselations\n",
      "---- Processing region:  35381 2025-02-19 13:21:02.861520\n",
      "Processed enclosures\n",
      "processed tesselations\n",
      "---- Processing region:  35747 2025-02-19 13:21:08.510957\n",
      "Processed enclosures\n",
      "processed tesselations\n",
      "---- Processing region:  36318 2025-02-19 13:21:17.149086\n",
      "Processed enclosures\n",
      "processed tesselations\n",
      "---- Processing region:  36322 2025-02-19 13:21:43.054745\n",
      "Processed enclosures\n",
      "processed tesselations\n",
      "---- Processing region:  36469 2025-02-19 13:21:56.301680\n",
      "Processed enclosures\n",
      "processed tesselations\n",
      "---- Processing region:  36518 2025-02-19 13:22:11.492766\n",
      "Processed enclosures\n",
      "processed tesselations\n",
      "---- Processing region:  36673 2025-02-19 13:22:24.198860\n",
      "Processed enclosures\n",
      "processed tesselations\n",
      "---- Processing region:  36704 2025-02-19 13:22:35.487397\n",
      "Processed enclosures\n",
      "processed tesselations\n",
      "---- Processing region:  36769 2025-02-19 13:22:49.665093\n",
      "Retrying tesselation with less buildings, potentially changing building data.\n",
      "Dropping 2 buildings due to tesselation problems\n",
      "Processed enclosures\n",
      "processed tesselations\n",
      "---- Processing region:  36937 2025-02-19 13:25:42.566982\n",
      "Processed enclosures\n",
      "processed tesselations\n",
      "---- Processing region:  37025 2025-02-19 13:25:54.910711\n",
      "Processed enclosures\n",
      "processed tesselations\n",
      "---- Processing region:  37052 2025-02-19 13:25:57.681078\n",
      "Processed enclosures\n",
      "processed tesselations\n",
      "---- Processing region:  37215 2025-02-19 13:26:09.768098\n",
      "Processed enclosures\n",
      "processed tesselations\n",
      "---- Processing region:  37507 2025-02-19 13:26:21.095810\n",
      "Processed enclosures\n",
      "processed tesselations\n",
      "---- Processing region:  37680 2025-02-19 13:26:32.721188\n",
      "Processed enclosures\n",
      "processed tesselations\n",
      "---- Processing region:  37901 2025-02-19 13:26:37.931351\n",
      "Processed enclosures\n",
      "processed tesselations\n",
      "---- Processing region:  37959 2025-02-19 13:26:43.082617\n",
      "Processed enclosures\n",
      "processed tesselations\n",
      "---- Processing region:  38118 2025-02-19 13:27:26.819116\n",
      "Processed enclosures\n",
      "processed tesselations\n",
      "---- Processing region:  38266 2025-02-19 13:27:37.751822\n",
      "Processed enclosures\n",
      "processed tesselations\n",
      "---- Processing region:  38404 2025-02-19 13:27:58.389144\n",
      "Processed enclosures\n",
      "processed tesselations\n",
      "---- Processing region:  38689 2025-02-19 13:28:06.102213\n",
      "Processed enclosures\n",
      "processed tesselations\n",
      "---- Processing region:  38711 2025-02-19 13:28:33.330793\n",
      "Processed enclosures\n",
      "processed tesselations\n",
      "---- Processing region:  38834 2025-02-19 13:28:41.479172\n",
      "Processed enclosures\n",
      "processed tesselations\n",
      "---- Processing region:  38944 2025-02-19 13:28:52.190969\n",
      "Processed enclosures\n",
      "processed tesselations\n",
      "---- Processing region:  39222 2025-02-19 13:29:17.062565\n",
      "Processed enclosures\n",
      "processed tesselations\n",
      "---- Processing region:  39227 2025-02-19 13:29:29.394016\n",
      "Processed enclosures\n",
      "processed tesselations\n",
      "---- Processing region:  39379 2025-02-19 13:29:34.024640\n",
      "Processed enclosures\n",
      "processed tesselations\n",
      "---- Processing region:  39679 2025-02-19 13:29:41.433083\n",
      "Processed enclosures\n",
      "processed tesselations\n",
      "---- Processing region:  40159 2025-02-19 13:29:47.291150\n",
      "Processed enclosures\n",
      "processed tesselations\n",
      "---- Processing region:  40279 2025-02-19 13:30:09.076840\n",
      "Processed enclosures\n",
      "processed tesselations\n",
      "---- Processing region:  40343 2025-02-19 13:30:19.657166\n",
      "Processed enclosures\n",
      "processed tesselations\n",
      "---- Processing region:  40994 2025-02-19 13:30:31.248139\n",
      "Retrying tesselation with less buildings, potentially changing building data.\n",
      "Dropping 1 buildings due to tesselation problems\n",
      "Processed enclosures\n",
      "processed tesselations\n",
      "---- Processing region:  41074 2025-02-19 13:31:01.436081\n",
      "Processed enclosures\n",
      "processed tesselations\n",
      "---- Processing region:  41392 2025-02-19 13:31:13.819168\n",
      "Retrying tesselation with less buildings, potentially changing building data.\n",
      "Dropping 1 buildings due to tesselation problems\n",
      "Processed enclosures\n",
      "processed tesselations\n",
      "---- Processing region:  41479 2025-02-19 13:31:48.961189\n",
      "Processed enclosures\n",
      "processed tesselations\n",
      "---- Processing region:  41553 2025-02-19 13:31:54.130280\n",
      "Processed enclosures\n",
      "processed tesselations\n",
      "---- Processing region:  41592 2025-02-19 13:32:05.464432\n",
      "Processed enclosures\n",
      "processed tesselations\n",
      "---- Processing region:  41720 2025-02-19 13:32:12.898038\n",
      "Processed enclosures\n",
      "processed tesselations\n",
      "---- Processing region:  42149 2025-02-19 13:32:22.764613\n",
      "Processed enclosures\n",
      "processed tesselations\n",
      "---- Processing region:  42217 2025-02-19 13:32:45.411558\n",
      "Processed enclosures\n",
      "processed tesselations\n",
      "---- Processing region:  42778 2025-02-19 13:33:20.177601\n",
      "Processed enclosures\n",
      "processed tesselations\n",
      "---- Processing region:  42900 2025-02-19 13:33:37.521110\n",
      "Processed enclosures\n",
      "processed tesselations\n",
      "---- Processing region:  43046 2025-02-19 13:34:02.752912\n",
      "Processed enclosures\n",
      "processed tesselations\n",
      "---- Processing region:  43163 2025-02-19 13:34:10.655446\n",
      "Processed enclosures\n",
      "processed tesselations\n",
      "---- Processing region:  43358 2025-02-19 13:34:18.350523\n",
      "Processed enclosures\n",
      "processed tesselations\n",
      "---- Processing region:  43697 2025-02-19 13:34:35.391491\n",
      "Processed enclosures\n",
      "processed tesselations\n",
      "---- Processing region:  43706 2025-02-19 13:34:43.741792\n",
      "Processed enclosures\n",
      "processed tesselations\n",
      "---- Processing region:  44026 2025-02-19 13:35:03.070049\n",
      "Processed enclosures\n",
      "processed tesselations\n",
      "---- Processing region:  44124 2025-02-19 13:35:07.849664\n",
      "Processed enclosures\n",
      "processed tesselations\n",
      "---- Processing region:  44296 2025-02-19 13:35:13.926547\n",
      "Processed enclosures\n",
      "processed tesselations\n",
      "---- Processing region:  44370 2025-02-19 13:35:23.122799\n",
      "Processed enclosures\n",
      "processed tesselations\n",
      "---- Processing region:  44818 2025-02-19 13:35:39.036965\n",
      "Processed enclosures\n",
      "processed tesselations\n",
      "---- Processing region:  44954 2025-02-19 13:35:44.743744\n",
      "Processed enclosures\n",
      "processed tesselations\n",
      "---- Processing region:  45036 2025-02-19 13:36:05.414966\n",
      "Processed enclosures\n",
      "processed tesselations\n",
      "---- Processing region:  45229 2025-02-19 13:36:24.110638\n",
      "Processed enclosures\n",
      "processed tesselations\n",
      "---- Processing region:  45232 2025-02-19 13:36:35.765966\n",
      "Processed enclosures\n",
      "processed tesselations\n",
      "---- Processing region:  45255 2025-02-19 13:36:45.617222\n",
      "Processed enclosures\n",
      "processed tesselations\n",
      "---- Processing region:  45287 2025-02-19 13:36:54.430700\n",
      "Processed enclosures\n",
      "processed tesselations\n",
      "---- Processing region:  45693 2025-02-19 13:37:23.344135\n",
      "Processed enclosures\n",
      "processed tesselations\n",
      "---- Processing region:  45712 2025-02-19 13:37:54.913641\n",
      "Processed enclosures\n",
      "processed tesselations\n",
      "---- Processing region:  45927 2025-02-19 13:38:08.843436\n",
      "Processed enclosures\n",
      "processed tesselations\n",
      "---- Processing region:  45982 2025-02-19 13:38:21.799607\n",
      "Processed enclosures\n",
      "processed tesselations\n",
      "---- Processing region:  46007 2025-02-19 13:38:25.686910\n",
      "Processed enclosures\n",
      "processed tesselations\n",
      "---- Processing region:  46134 2025-02-19 13:39:06.702756\n",
      "Processed enclosures\n",
      "processed tesselations\n",
      "---- Processing region:  46356 2025-02-19 13:39:43.753536\n",
      "Processed enclosures\n",
      "processed tesselations\n",
      "---- Processing region:  46617 2025-02-19 13:39:58.193036\n",
      "Processed enclosures\n",
      "processed tesselations\n",
      "---- Processing region:  47043 2025-02-19 13:40:10.468024\n",
      "Processed enclosures\n",
      "processed tesselations\n",
      "---- Processing region:  47145 2025-02-19 13:40:18.846388\n",
      "Processed enclosures\n",
      "processed tesselations\n",
      "---- Processing region:  47182 2025-02-19 13:40:24.237447\n",
      "Processed enclosures\n",
      "processed tesselations\n",
      "---- Processing region:  47309 2025-02-19 13:40:32.030158\n",
      "Processed enclosures\n",
      "processed tesselations\n",
      "---- Processing region:  47986 2025-02-19 13:40:39.989282\n",
      "Processed enclosures\n",
      "processed tesselations\n",
      "---- Processing region:  48005 2025-02-19 13:41:03.905828\n",
      "Processed enclosures\n",
      "processed tesselations\n",
      "---- Processing region:  48597 2025-02-19 13:41:12.030550\n",
      "Processed enclosures\n",
      "processed tesselations\n",
      "---- Processing region:  48608 2025-02-19 13:41:21.660715\n",
      "Processed enclosures\n",
      "processed tesselations\n",
      "---- Processing region:  48627 2025-02-19 13:41:36.228725\n",
      "Processed enclosures\n",
      "processed tesselations\n",
      "---- Processing region:  48972 2025-02-19 13:41:40.347294\n",
      "Processed enclosures\n",
      "processed tesselations\n",
      "---- Processing region:  49034 2025-02-19 13:42:29.426253\n",
      "Processed enclosures\n",
      "processed tesselations\n",
      "---- Processing region:  49124 2025-02-19 13:46:05.641368\n",
      "Retrying tesselation with less buildings, potentially changing building data.\n",
      "Dropping 1 buildings due to tesselation problems\n",
      "Processed enclosures\n",
      "processed tesselations\n",
      "---- Processing region:  49274 2025-02-19 13:46:20.003771\n",
      "Processed enclosures\n",
      "processed tesselations\n",
      "---- Processing region:  49375 2025-02-19 13:46:43.661437\n",
      "Processed enclosures\n",
      "processed tesselations\n",
      "---- Processing region:  49577 2025-02-19 13:46:49.243094\n",
      "Processed enclosures\n",
      "processed tesselations\n",
      "---- Processing region:  50118 2025-02-19 13:47:06.720037\n",
      "Retrying tesselation with less buildings, potentially changing building data.\n",
      "Dropping 1 buildings due to tesselation problems\n",
      "Processed enclosures\n",
      "processed tesselations\n",
      "---- Processing region:  50194 2025-02-19 13:47:34.718024\n",
      "Retrying tesselation with less buildings, potentially changing building data.\n",
      "Dropping 1 buildings due to tesselation problems\n",
      "Processed enclosures\n",
      "processed tesselations\n",
      "---- Processing region:  50358 2025-02-19 13:47:41.114260\n",
      "Processed enclosures\n",
      "processed tesselations\n",
      "---- Processing region:  50553 2025-02-19 13:47:54.296351\n",
      "Processed enclosures\n",
      "processed tesselations\n",
      "---- Processing region:  50899 2025-02-19 13:47:57.393952\n",
      "Processed enclosures\n",
      "processed tesselations\n",
      "---- Processing region:  50990 2025-02-19 13:48:02.969281\n",
      "Processed enclosures\n",
      "processed tesselations\n",
      "---- Processing region:  51150 2025-02-19 13:48:08.582020\n",
      "Processed enclosures\n",
      "processed tesselations\n",
      "---- Processing region:  51204 2025-02-19 13:48:19.564673\n",
      "Processed enclosures\n",
      "processed tesselations\n",
      "---- Processing region:  51394 2025-02-19 13:48:42.769267\n",
      "Processed enclosures\n",
      "processed tesselations\n",
      "---- Processing region:  51406 2025-02-19 13:48:50.168460\n",
      "Processed enclosures\n",
      "processed tesselations\n",
      "---- Processing region:  51741 2025-02-19 13:49:00.762196\n",
      "Retrying tesselation with less buildings, potentially changing building data.\n",
      "Dropping 1 buildings due to tesselation problems\n",
      "Processed enclosures\n",
      "processed tesselations\n",
      "---- Processing region:  51847 2025-02-19 13:49:12.169521\n",
      "Processed enclosures\n",
      "processed tesselations\n",
      "---- Processing region:  51931 2025-02-19 13:49:20.517156\n",
      "Processed enclosures\n",
      "processed tesselations\n",
      "---- Processing region:  52205 2025-02-19 13:49:32.187037\n",
      "Processed enclosures\n",
      "processed tesselations\n",
      "---- Processing region:  53023 2025-02-19 13:50:22.857519\n",
      "Processed enclosures\n",
      "processed tesselations\n",
      "---- Processing region:  53391 2025-02-19 13:50:41.163137\n",
      "Processed enclosures\n",
      "processed tesselations\n",
      "---- Processing region:  53395 2025-02-19 13:50:51.815194\n"
     ]
    },
    {
     "name": "stderr",
     "output_type": "stream",
     "text": [
      "/home/krasen/morphometrics/.pixi/envs/default/lib/python3.12/site-packages/joblib/externals/loky/process_executor.py:752: UserWarning: A worker stopped while some jobs were given to the executor. This can be caused by a too short worker timeout or by a memory leak.\n",
      "  warnings.warn(\n",
      "/home/krasen/morphometrics/.pixi/envs/default/lib/python3.12/site-packages/joblib/externals/loky/process_executor.py:752: UserWarning: A worker stopped while some jobs were given to the executor. This can be caused by a too short worker timeout or by a memory leak.\n",
      "  warnings.warn(\n"
     ]
    },
    {
     "name": "stdout",
     "output_type": "stream",
     "text": [
      "Retrying tesselation with less buildings, potentially changing building data.\n"
     ]
    },
    {
     "name": "stderr",
     "output_type": "stream",
     "text": [
      "/home/krasen/morphometrics/.pixi/envs/default/lib/python3.12/site-packages/joblib/externals/loky/process_executor.py:752: UserWarning: A worker stopped while some jobs were given to the executor. This can be caused by a too short worker timeout or by a memory leak.\n",
      "  warnings.warn(\n",
      "/home/krasen/morphometrics/.pixi/envs/default/lib/python3.12/site-packages/joblib/externals/loky/process_executor.py:752: UserWarning: A worker stopped while some jobs were given to the executor. This can be caused by a too short worker timeout or by a memory leak.\n",
      "  warnings.warn(\n"
     ]
    },
    {
     "name": "stdout",
     "output_type": "stream",
     "text": [
      "Dropping 2 buildings due to tesselation problems\n",
      "Processed enclosures\n",
      "processed tesselations\n",
      "---- Processing region:  53644 2025-02-19 13:57:37.625182\n",
      "Processed enclosures\n",
      "processed tesselations\n",
      "---- Processing region:  53674 2025-02-19 13:57:48.426002\n",
      "Processed enclosures\n",
      "processed tesselations\n",
      "---- Processing region:  53811 2025-02-19 13:57:53.687343\n",
      "Processed enclosures\n",
      "processed tesselations\n",
      "---- Processing region:  53816 2025-02-19 13:58:03.829138\n",
      "Processed enclosures\n",
      "processed tesselations\n",
      "---- Processing region:  54043 2025-02-19 13:58:20.085295\n",
      "Processed enclosures\n",
      "processed tesselations\n",
      "---- Processing region:  54449 2025-02-19 13:58:30.579150\n",
      "Processed enclosures\n",
      "processed tesselations\n",
      "---- Processing region:  54500 2025-02-19 13:58:36.979182\n",
      "Processed enclosures\n",
      "processed tesselations\n",
      "---- Processing region:  54902 2025-02-19 13:58:47.877359\n",
      "Processed enclosures\n",
      "processed tesselations\n",
      "---- Processing region:  55045 2025-02-19 13:58:56.942925\n",
      "Retrying tesselation with less buildings, potentially changing building data.\n",
      "Dropping 1 buildings due to tesselation problems\n",
      "Processed enclosures\n",
      "processed tesselations\n",
      "---- Processing region:  55183 2025-02-19 14:00:30.559261\n",
      "Processed enclosures\n",
      "processed tesselations\n",
      "---- Processing region:  55255 2025-02-19 14:00:39.268280\n",
      "Processed enclosures\n",
      "processed tesselations\n",
      "---- Processing region:  55407 2025-02-19 14:01:01.429473\n",
      "Processed enclosures\n",
      "processed tesselations\n",
      "---- Processing region:  55421 2025-02-19 14:01:06.487304\n",
      "Processed enclosures\n",
      "processed tesselations\n",
      "---- Processing region:  55554 2025-02-19 14:01:15.012867\n",
      "Processed enclosures\n",
      "processed tesselations\n",
      "---- Processing region:  55981 2025-02-19 14:01:21.046779\n",
      "Processed enclosures\n",
      "processed tesselations\n",
      "---- Processing region:  56018 2025-02-19 14:01:34.524097\n",
      "Retrying tesselation with less buildings, potentially changing building data.\n",
      "Dropping 1 buildings due to tesselation problems\n",
      "Processed enclosures\n",
      "processed tesselations\n",
      "---- Processing region:  56155 2025-02-19 14:01:43.383528\n",
      "Processed enclosures\n",
      "processed tesselations\n",
      "---- Processing region:  57071 2025-02-19 14:02:01.728030\n",
      "Processed enclosures\n",
      "processed tesselations\n",
      "---- Processing region:  57160 2025-02-19 14:02:09.901572\n",
      "Processed enclosures\n",
      "processed tesselations\n",
      "---- Processing region:  57400 2025-02-19 14:02:19.348450\n",
      "Processed enclosures\n",
      "processed tesselations\n",
      "---- Processing region:  57642 2025-02-19 14:02:24.897079\n",
      "Processed enclosures\n",
      "processed tesselations\n",
      "---- Processing region:  57659 2025-02-19 14:02:36.834963\n",
      "Processed enclosures\n",
      "processed tesselations\n",
      "---- Processing region:  57923 2025-02-19 14:03:49.994876\n",
      "Processed enclosures\n",
      "processed tesselations\n",
      "---- Processing region:  58459 2025-02-19 14:03:57.784818\n",
      "Retrying tesselation with less buildings, potentially changing building data.\n",
      "Dropping 1 buildings due to tesselation problems\n",
      "Processed enclosures\n",
      "processed tesselations\n",
      "---- Processing region:  58597 2025-02-19 14:04:28.110119\n",
      "Processed enclosures\n",
      "processed tesselations\n",
      "---- Processing region:  59055 2025-02-19 14:04:44.589887\n",
      "Retrying tesselation with less buildings, potentially changing building data.\n",
      "Dropping 1 buildings due to tesselation problems\n",
      "Processed enclosures\n",
      "processed tesselations\n",
      "---- Processing region:  59218 2025-02-19 14:05:24.174436\n",
      "Processed enclosures\n",
      "processed tesselations\n",
      "---- Processing region:  59744 2025-02-19 14:05:31.892602\n",
      "Processed enclosures\n",
      "processed tesselations\n",
      "---- Processing region:  60257 2025-02-19 14:05:47.191746\n",
      "Retrying tesselation with less buildings, potentially changing building data.\n",
      "Dropping 1 buildings due to tesselation problems\n",
      "Processed enclosures\n",
      "processed tesselations\n",
      "---- Processing region:  60384 2025-02-19 14:12:12.074155\n",
      "Processed enclosures\n",
      "processed tesselations\n",
      "---- Processing region:  60640 2025-02-19 14:12:18.741769\n",
      "Processed enclosures\n",
      "processed tesselations\n",
      "---- Processing region:  60988 2025-02-19 14:12:25.071942\n",
      "Processed enclosures\n",
      "processed tesselations\n",
      "---- Processing region:  61019 2025-02-19 14:12:42.433289\n",
      "Processed enclosures\n",
      "processed tesselations\n",
      "---- Processing region:  61065 2025-02-19 14:12:54.624372\n",
      "Processed enclosures\n",
      "processed tesselations\n",
      "---- Processing region:  61071 2025-02-19 14:12:59.711277\n",
      "Processed enclosures\n",
      "processed tesselations\n",
      "---- Processing region:  61320 2025-02-19 14:13:07.111607\n",
      "Processed enclosures\n",
      "processed tesselations\n",
      "---- Processing region:  61437 2025-02-19 14:13:14.614957\n",
      "Processed enclosures\n",
      "processed tesselations\n",
      "---- Processing region:  61563 2025-02-19 14:13:27.175132\n",
      "Retrying tesselation with less buildings, potentially changing building data.\n",
      "Dropping 4 buildings due to tesselation problems\n",
      "Processed enclosures\n",
      "processed tesselations\n",
      "---- Processing region:  62171 2025-02-19 14:14:09.652807\n",
      "Processed enclosures\n",
      "processed tesselations\n",
      "---- Processing region:  62297 2025-02-19 14:14:17.320163\n",
      "Processed enclosures\n",
      "processed tesselations\n",
      "---- Processing region:  62341 2025-02-19 14:14:30.107425\n",
      "Processed enclosures\n",
      "processed tesselations\n",
      "---- Processing region:  62562 2025-02-19 14:14:44.126565\n",
      "Processed enclosures\n",
      "processed tesselations\n",
      "---- Processing region:  62749 2025-02-19 14:14:53.920359\n",
      "Processed enclosures\n",
      "processed tesselations\n",
      "---- Processing region:  62764 2025-02-19 14:15:03.457676\n",
      "Processed enclosures\n",
      "processed tesselations\n",
      "---- Processing region:  63344 2025-02-19 14:15:13.144784\n",
      "Processed enclosures\n",
      "processed tesselations\n",
      "---- Processing region:  63357 2025-02-19 14:15:28.872594\n",
      "Processed enclosures\n",
      "processed tesselations\n",
      "---- Processing region:  63677 2025-02-19 14:15:36.913045\n",
      "Processed enclosures\n",
      "processed tesselations\n",
      "---- Processing region:  63758 2025-02-19 14:15:46.973465\n",
      "Retrying tesselation with less buildings, potentially changing building data.\n",
      "Dropping 1 buildings due to tesselation problems\n",
      "Processed enclosures\n",
      "processed tesselations\n",
      "---- Processing region:  63855 2025-02-19 14:16:07.227452\n",
      "Processed enclosures\n",
      "processed tesselations\n",
      "---- Processing region:  63960 2025-02-19 14:16:16.560518\n",
      "Processed enclosures\n",
      "processed tesselations\n",
      "---- Processing region:  64539 2025-02-19 14:16:35.670206\n",
      "Processed enclosures\n",
      "processed tesselations\n",
      "---- Processing region:  64546 2025-02-19 14:16:54.332269\n",
      "Processed enclosures\n",
      "processed tesselations\n",
      "---- Processing region:  64638 2025-02-19 14:17:03.919578\n",
      "Processed enclosures\n",
      "processed tesselations\n",
      "---- Processing region:  64807 2025-02-19 14:17:17.792491\n",
      "Processed enclosures\n",
      "processed tesselations\n",
      "---- Processing region:  65014 2025-02-19 14:17:30.615701\n",
      "Processed enclosures\n",
      "processed tesselations\n",
      "---- Processing region:  65057 2025-02-19 14:17:50.824489\n",
      "Processed enclosures\n",
      "processed tesselations\n",
      "---- Processing region:  65198 2025-02-19 14:17:57.542976\n",
      "Processed enclosures\n",
      "processed tesselations\n",
      "---- Processing region:  65371 2025-02-19 14:18:39.397794\n",
      "Processed enclosures\n",
      "processed tesselations\n",
      "---- Processing region:  65565 2025-02-19 14:19:02.959367\n",
      "Processed enclosures\n",
      "processed tesselations\n",
      "---- Processing region:  65630 2025-02-19 14:19:41.664199\n",
      "Processed enclosures\n",
      "processed tesselations\n",
      "---- Processing region:  65680 2025-02-19 14:19:51.314409\n",
      "Processed enclosures\n",
      "processed tesselations\n",
      "---- Processing region:  66292 2025-02-19 14:19:57.810591\n"
     ]
    },
    {
     "name": "stderr",
     "output_type": "stream",
     "text": [
      "/home/krasen/morphometrics/.pixi/envs/default/lib/python3.12/site-packages/joblib/externals/loky/process_executor.py:752: UserWarning: A worker stopped while some jobs were given to the executor. This can be caused by a too short worker timeout or by a memory leak.\n",
      "  warnings.warn(\n"
     ]
    },
    {
     "name": "stdout",
     "output_type": "stream",
     "text": [
      "Retrying tesselation with less buildings, potentially changing building data.\n"
     ]
    },
    {
     "name": "stderr",
     "output_type": "stream",
     "text": [
      "/home/krasen/morphometrics/.pixi/envs/default/lib/python3.12/site-packages/joblib/externals/loky/process_executor.py:752: UserWarning: A worker stopped while some jobs were given to the executor. This can be caused by a too short worker timeout or by a memory leak.\n",
      "  warnings.warn(\n"
     ]
    },
    {
     "name": "stdout",
     "output_type": "stream",
     "text": [
      "Dropping 1 buildings due to tesselation problems\n",
      "Processed enclosures\n",
      "processed tesselations\n",
      "---- Processing region:  66335 2025-02-19 14:23:52.192836\n",
      "Processed enclosures\n",
      "processed tesselations\n",
      "---- Processing region:  66753 2025-02-19 14:24:06.474550\n",
      "Processed enclosures\n",
      "processed tesselations\n",
      "---- Processing region:  67169 2025-02-19 14:24:15.650935\n",
      "Processed enclosures\n",
      "processed tesselations\n",
      "---- Processing region:  67491 2025-02-19 14:24:34.452189\n",
      "Processed enclosures\n",
      "processed tesselations\n",
      "---- Processing region:  67612 2025-02-19 14:24:57.547277\n",
      "Processed enclosures\n",
      "processed tesselations\n",
      "---- Processing region:  68353 2025-02-19 14:25:07.987927\n",
      "Retrying tesselation with less buildings, potentially changing building data.\n",
      "Dropping 1 buildings due to tesselation problems\n",
      "Processed enclosures\n",
      "processed tesselations\n",
      "---- Processing region:  68706 2025-02-19 14:25:25.414085\n",
      "Processed enclosures\n",
      "processed tesselations\n",
      "---- Processing region:  68876 2025-02-19 14:25:33.285593\n",
      "Retrying tesselation with less buildings, potentially changing building data.\n",
      "Dropping 1 buildings due to tesselation problems\n",
      "Processed enclosures\n",
      "processed tesselations\n",
      "---- Processing region:  68882 2025-02-19 14:25:50.554583\n",
      "Processed enclosures\n",
      "processed tesselations\n",
      "---- Processing region:  69134 2025-02-19 14:26:00.178544\n",
      "Processed enclosures\n",
      "processed tesselations\n",
      "---- Processing region:  69159 2025-02-19 14:26:09.012578\n",
      "Processed enclosures\n",
      "processed tesselations\n",
      "---- Processing region:  69198 2025-02-19 14:26:17.466176\n",
      "Processed enclosures\n",
      "processed tesselations\n",
      "---- Processing region:  69502 2025-02-19 14:26:50.240214\n",
      "Processed enclosures\n",
      "processed tesselations\n",
      "---- Processing region:  70724 2025-02-19 14:26:55.000145\n",
      "Retrying tesselation with less buildings, potentially changing building data.\n",
      "Dropping 1 buildings due to tesselation problems\n",
      "Processed enclosures\n",
      "processed tesselations\n",
      "---- Processing region:  70832 2025-02-19 14:27:22.406025\n",
      "Retrying tesselation with less buildings, potentially changing building data.\n",
      "Dropping 1 buildings due to tesselation problems\n",
      "Processed enclosures\n",
      "processed tesselations\n",
      "---- Processing region:  70993 2025-02-19 14:28:20.007089\n",
      "Processed enclosures\n",
      "processed tesselations\n",
      "---- Processing region:  71005 2025-02-19 14:28:45.504108\n",
      "Retrying tesselation with less buildings, potentially changing building data.\n",
      "Dropping 1 buildings due to tesselation problems\n",
      "Processed enclosures\n",
      "processed tesselations\n",
      "---- Processing region:  71006 2025-02-19 14:28:56.502819\n",
      "Retrying tesselation with less buildings, potentially changing building data.\n",
      "Dropping 1 buildings due to tesselation problems\n",
      "Processed enclosures\n",
      "processed tesselations\n",
      "---- Processing region:  71021 2025-02-19 14:29:19.297744\n",
      "Processed enclosures\n",
      "processed tesselations\n",
      "---- Processing region:  71935 2025-02-19 14:29:26.044460\n",
      "Processed enclosures\n",
      "processed tesselations\n",
      "---- Processing region:  72129 2025-02-19 14:29:42.760264\n",
      "Processed enclosures\n",
      "processed tesselations\n",
      "---- Processing region:  72807 2025-02-19 14:29:48.099603\n",
      "Retrying tesselation with less buildings, potentially changing building data.\n",
      "Dropping 1 buildings due to tesselation problems\n",
      "Processed enclosures\n",
      "processed tesselations\n",
      "---- Processing region:  72892 2025-02-19 14:30:52.081953\n",
      "Retrying tesselation with less buildings, potentially changing building data.\n",
      "Dropping 1 buildings due to tesselation problems\n",
      "Processed enclosures\n",
      "processed tesselations\n",
      "---- Processing region:  73061 2025-02-19 14:32:38.793664\n",
      "Processed enclosures\n",
      "processed tesselations\n",
      "---- Processing region:  73516 2025-02-19 14:32:52.333559\n",
      "Processed enclosures\n",
      "processed tesselations\n",
      "---- Processing region:  73704 2025-02-19 14:33:01.592610\n",
      "Processed enclosures\n",
      "processed tesselations\n",
      "---- Processing region:  73741 2025-02-19 14:33:24.538814\n",
      "Processed enclosures\n",
      "processed tesselations\n",
      "---- Processing region:  74731 2025-02-19 14:33:42.792473\n",
      "Processed enclosures\n",
      "processed tesselations\n",
      "---- Processing region:  75342 2025-02-19 14:34:03.894274\n",
      "Processed enclosures\n",
      "processed tesselations\n",
      "---- Processing region:  75509 2025-02-19 14:34:18.248594\n",
      "Processed enclosures\n",
      "processed tesselations\n",
      "---- Processing region:  75745 2025-02-19 14:34:43.671063\n",
      "Processed enclosures\n",
      "processed tesselations\n",
      "---- Processing region:  76136 2025-02-19 14:34:51.321798\n",
      "Processed enclosures\n",
      "processed tesselations\n",
      "---- Processing region:  76353 2025-02-19 14:35:09.308409\n",
      "Processed enclosures\n",
      "processed tesselations\n",
      "---- Processing region:  76485 2025-02-19 14:35:29.864088\n",
      "Retrying tesselation with less buildings, potentially changing building data.\n",
      "Dropping 1 buildings due to tesselation problems\n",
      "Processed enclosures\n",
      "processed tesselations\n",
      "---- Processing region:  77286 2025-02-19 14:36:11.927012\n",
      "Retrying tesselation with less buildings, potentially changing building data.\n",
      "Dropping 1 buildings due to tesselation problems\n",
      "Processed enclosures\n",
      "processed tesselations\n",
      "---- Processing region:  77565 2025-02-19 14:36:34.837252\n",
      "Processed enclosures\n",
      "processed tesselations\n",
      "---- Processing region:  77791 2025-02-19 14:36:50.337268\n",
      "Processed enclosures\n",
      "processed tesselations\n",
      "---- Processing region:  78483 2025-02-19 14:38:59.837801\n",
      "Processed enclosures\n",
      "processed tesselations\n",
      "---- Processing region:  78714 2025-02-19 14:39:08.950152\n",
      "Processed enclosures\n",
      "processed tesselations\n",
      "---- Processing region:  79306 2025-02-19 14:39:16.581185\n",
      "Processed enclosures\n",
      "processed tesselations\n",
      "---- Processing region:  80132 2025-02-19 14:39:25.279025\n",
      "Retrying tesselation with less buildings, potentially changing building data.\n",
      "Dropping 2 buildings due to tesselation problems\n",
      "Processed enclosures\n",
      "processed tesselations\n",
      "---- Processing region:  80151 2025-02-19 14:40:39.847383\n",
      "Processed enclosures\n",
      "processed tesselations\n",
      "---- Processing region:  80175 2025-02-19 14:40:56.280882\n",
      "Processed enclosures\n",
      "processed tesselations\n",
      "---- Processing region:  80385 2025-02-19 14:41:06.266506\n",
      "Processed enclosures\n",
      "processed tesselations\n",
      "---- Processing region:  80622 2025-02-19 14:41:13.371779\n",
      "Processed enclosures\n",
      "processed tesselations\n",
      "---- Processing region:  80892 2025-02-19 14:41:18.271622\n",
      "Processed enclosures\n",
      "processed tesselations\n",
      "---- Processing region:  81218 2025-02-19 14:41:36.415775\n",
      "Processed enclosures\n",
      "processed tesselations\n",
      "---- Processing region:  81675 2025-02-19 14:41:56.234296\n",
      "Processed enclosures\n",
      "processed tesselations\n",
      "---- Processing region:  81914 2025-02-19 14:42:16.509096\n",
      "Processed enclosures\n",
      "processed tesselations\n",
      "---- Processing region:  82077 2025-02-19 14:42:34.717211\n",
      "Processed enclosures\n",
      "processed tesselations\n",
      "---- Processing region:  82594 2025-02-19 14:42:39.308325\n",
      "Processed enclosures\n",
      "processed tesselations\n",
      "---- Processing region:  82632 2025-02-19 14:43:01.787780\n",
      "Processed enclosures\n",
      "processed tesselations\n",
      "---- Processing region:  82799 2025-02-19 14:43:18.565968\n",
      "Processed enclosures\n",
      "processed tesselations\n",
      "---- Processing region:  83254 2025-02-19 14:43:32.155694\n",
      "Processed enclosures\n",
      "processed tesselations\n",
      "---- Processing region:  83289 2025-02-19 14:43:45.373885\n",
      "Processed enclosures\n",
      "processed tesselations\n",
      "---- Processing region:  83458 2025-02-19 14:43:49.977851\n",
      "Processed enclosures\n",
      "processed tesselations\n",
      "---- Processing region:  83752 2025-02-19 14:44:02.770955\n",
      "Processed enclosures\n",
      "processed tesselations\n",
      "---- Processing region:  84131 2025-02-19 14:44:08.571231\n",
      "Processed enclosures\n",
      "processed tesselations\n",
      "---- Processing region:  84201 2025-02-19 14:44:25.580750\n",
      "Processed enclosures\n",
      "processed tesselations\n",
      "---- Processing region:  84232 2025-02-19 14:44:37.634126\n",
      "Processed enclosures\n",
      "processed tesselations\n",
      "---- Processing region:  84542 2025-02-19 14:44:58.399937\n",
      "Processed enclosures\n",
      "processed tesselations\n",
      "---- Processing region:  84568 2025-02-19 14:45:16.906700\n",
      "Retrying tesselation with less buildings, potentially changing building data.\n",
      "Dropping 4 buildings due to tesselation problems\n",
      "Processed enclosures\n",
      "processed tesselations\n",
      "---- Processing region:  85004 2025-02-19 14:49:15.587004\n",
      "Processed enclosures\n",
      "processed tesselations\n",
      "---- Processing region:  85118 2025-02-19 14:49:30.068613\n",
      "Processed enclosures\n",
      "processed tesselations\n",
      "---- Processing region:  85345 2025-02-19 14:49:39.920021\n",
      "Processed enclosures\n",
      "processed tesselations\n",
      "---- Processing region:  86120 2025-02-19 14:50:13.727241\n",
      "Processed enclosures\n",
      "processed tesselations\n",
      "---- Processing region:  86197 2025-02-19 14:50:28.785537\n",
      "Processed enclosures\n",
      "processed tesselations\n",
      "---- Processing region:  86533 2025-02-19 14:50:42.636587\n",
      "Processed enclosures\n",
      "processed tesselations\n",
      "---- Processing region:  86686 2025-02-19 14:50:59.999088\n",
      "Processed enclosures\n",
      "processed tesselations\n",
      "---- Processing region:  86688 2025-02-19 14:51:24.572217\n",
      "Processed enclosures\n",
      "processed tesselations\n",
      "---- Processing region:  86691 2025-02-19 14:51:50.643057\n",
      "Processed enclosures\n",
      "processed tesselations\n",
      "---- Processing region:  86878 2025-02-19 14:52:05.117270\n",
      "Processed enclosures\n",
      "processed tesselations\n",
      "---- Processing region:  86974 2025-02-19 14:52:14.818504\n",
      "Processed enclosures\n",
      "processed tesselations\n",
      "---- Processing region:  86999 2025-02-19 14:53:19.131397\n",
      "Processed enclosures\n",
      "processed tesselations\n",
      "---- Processing region:  87377 2025-02-19 14:53:27.191223\n",
      "Retrying tesselation with less buildings, potentially changing building data.\n",
      "Dropping 1 buildings due to tesselation problems\n",
      "Processed enclosures\n",
      "processed tesselations\n",
      "---- Processing region:  87722 2025-02-19 14:53:46.966692\n",
      "Processed enclosures\n",
      "processed tesselations\n",
      "---- Processing region:  87781 2025-02-19 14:53:55.849044\n",
      "Processed enclosures\n",
      "processed tesselations\n",
      "---- Processing region:  87987 2025-02-19 14:54:12.881325\n",
      "Processed enclosures\n",
      "processed tesselations\n",
      "---- Processing region:  88191 2025-02-19 14:54:33.269887\n",
      "Processed enclosures\n",
      "processed tesselations\n",
      "---- Processing region:  88233 2025-02-19 14:54:42.393418\n",
      "Processed enclosures\n",
      "processed tesselations\n",
      "---- Processing region:  88782 2025-02-19 14:54:52.070111\n",
      "Processed enclosures\n",
      "processed tesselations\n",
      "---- Processing region:  89293 2025-02-19 14:55:00.903688\n",
      "Processed enclosures\n",
      "processed tesselations\n",
      "---- Processing region:  89298 2025-02-19 14:55:16.860135\n",
      "Processed enclosures\n",
      "processed tesselations\n",
      "---- Processing region:  89686 2025-02-19 14:55:28.505454\n",
      "Processed enclosures\n",
      "processed tesselations\n",
      "---- Processing region:  89824 2025-02-19 14:55:38.976365\n",
      "Processed enclosures\n",
      "processed tesselations\n",
      "---- Processing region:  90010 2025-02-19 14:55:50.069196\n",
      "Processed enclosures\n",
      "processed tesselations\n",
      "---- Processing region:  90283 2025-02-19 14:55:55.732747\n",
      "Processed enclosures\n",
      "processed tesselations\n",
      "---- Processing region:  90357 2025-02-19 14:56:02.771175\n",
      "Processed enclosures\n",
      "processed tesselations\n",
      "---- Processing region:  90905 2025-02-19 14:56:11.974498\n",
      "Retrying tesselation with less buildings, potentially changing building data.\n",
      "Dropping 2 buildings due to tesselation problems\n",
      "Processed enclosures\n",
      "processed tesselations\n",
      "---- Processing region:  90996 2025-02-19 14:56:40.002925\n",
      "Retrying tesselation with less buildings, potentially changing building data.\n",
      "Dropping 6 buildings due to tesselation problems\n",
      "Processed enclosures\n",
      "processed tesselations\n",
      "---- Processing region:  91132 2025-02-19 14:58:32.733508\n",
      "Processed enclosures\n",
      "processed tesselations\n",
      "---- Processing region:  91199 2025-02-19 14:58:43.687375\n",
      "Processed enclosures\n",
      "processed tesselations\n",
      "---- Processing region:  91484 2025-02-19 14:59:06.088343\n"
     ]
    },
    {
     "name": "stderr",
     "output_type": "stream",
     "text": [
      "/home/krasen/morphometrics/.pixi/envs/default/lib/python3.12/site-packages/joblib/externals/loky/process_executor.py:752: UserWarning: A worker stopped while some jobs were given to the executor. This can be caused by a too short worker timeout or by a memory leak.\n",
      "  warnings.warn(\n"
     ]
    },
    {
     "name": "stdout",
     "output_type": "stream",
     "text": [
      "Retrying tesselation with less buildings, potentially changing building data.\n",
      "Dropping 27 buildings due to tesselation problems\n",
      "Processed enclosures\n",
      "processed tesselations\n",
      "---- Processing region:  92200 2025-02-19 15:01:09.217015\n",
      "Processed enclosures\n",
      "processed tesselations\n",
      "---- Processing region:  92570 2025-02-19 15:01:21.390535\n",
      "Processed enclosures\n",
      "processed tesselations\n",
      "---- Processing region:  93688 2025-02-19 15:01:38.213099\n",
      "Processed enclosures\n",
      "processed tesselations\n",
      "---- Processing region:  94293 2025-02-19 15:01:50.441688\n",
      "Processed enclosures\n",
      "processed tesselations\n",
      "---- Processing region:  94722 2025-02-19 15:02:13.758510\n",
      "Retrying tesselation with less buildings, potentially changing building data.\n",
      "Dropping 1 buildings due to tesselation problems\n",
      "Processed enclosures\n",
      "processed tesselations\n",
      "---- Processing region:  94733 2025-02-19 15:02:50.156454\n",
      "Processed enclosures\n",
      "processed tesselations\n",
      "---- Processing region:  95532 2025-02-19 15:02:58.825561\n",
      "Processed enclosures\n",
      "processed tesselations\n",
      "---- Processing region:  95556 2025-02-19 15:03:12.637709\n",
      "Retrying tesselation with less buildings, potentially changing building data.\n",
      "Dropping 2 buildings due to tesselation problems\n",
      "Processed enclosures\n",
      "processed tesselations\n",
      "---- Processing region:  95625 2025-02-19 15:06:40.550753\n",
      "Processed enclosures\n",
      "processed tesselations\n",
      "---- Processing region:  95783 2025-02-19 15:07:01.744655\n",
      "Processed enclosures\n",
      "processed tesselations\n",
      "---- Processing region:  95833 2025-02-19 15:07:18.616343\n",
      "Processed enclosures\n",
      "processed tesselations\n",
      "---- Processing region:  95876 2025-02-19 15:07:27.064755\n",
      "Processed enclosures\n",
      "processed tesselations\n",
      "---- Processing region:  96460 2025-02-19 15:07:41.791900\n",
      "Processed enclosures\n",
      "processed tesselations\n",
      "---- Processing region:  96489 2025-02-19 15:07:54.967517\n",
      "Processed enclosures\n",
      "processed tesselations\n",
      "---- Processing region:  96543 2025-02-19 15:08:09.440987\n",
      "Processed enclosures\n",
      "processed tesselations\n",
      "---- Processing region:  96840 2025-02-19 15:08:25.032301\n",
      "Processed enclosures\n",
      "processed tesselations\n",
      "---- Processing region:  97391 2025-02-19 15:08:34.991135\n",
      "Processed enclosures\n",
      "processed tesselations\n",
      "---- Processing region:  97581 2025-02-19 15:08:46.239864\n",
      "Retrying tesselation with less buildings, potentially changing building data.\n",
      "Dropping 1 buildings due to tesselation problems\n",
      "Processed enclosures\n",
      "processed tesselations\n",
      "---- Processing region:  97670 2025-02-19 15:09:05.577617\n",
      "Processed enclosures\n",
      "processed tesselations\n",
      "---- Processing region:  97733 2025-02-19 15:09:31.325042\n",
      "Processed enclosures\n",
      "processed tesselations\n",
      "---- Processing region:  97783 2025-02-19 15:09:52.687406\n"
     ]
    },
    {
     "name": "stderr",
     "output_type": "stream",
     "text": [
      "/home/krasen/morphometrics/.pixi/envs/default/lib/python3.12/site-packages/joblib/externals/loky/process_executor.py:752: UserWarning: A worker stopped while some jobs were given to the executor. This can be caused by a too short worker timeout or by a memory leak.\n",
      "  warnings.warn(\n"
     ]
    },
    {
     "name": "stdout",
     "output_type": "stream",
     "text": [
      "Retrying tesselation with less buildings, potentially changing building data.\n",
      "Dropping 1 buildings due to tesselation problems\n",
      "Processed enclosures\n",
      "processed tesselations\n",
      "---- Processing region:  98043 2025-02-19 15:11:01.437337\n",
      "Processed enclosures\n",
      "processed tesselations\n",
      "---- Processing region:  98105 2025-02-19 15:11:10.055043\n",
      "Retrying tesselation with less buildings, potentially changing building data.\n",
      "Dropping 2 buildings due to tesselation problems\n",
      "Processed enclosures\n",
      "processed tesselations\n",
      "---- Processing region:  98208 2025-02-19 15:11:52.966962\n",
      "Processed enclosures\n",
      "processed tesselations\n",
      "---- Processing region:  98254 2025-02-19 15:12:14.097412\n",
      "Processed enclosures\n",
      "processed tesselations\n",
      "---- Processing region:  98402 2025-02-19 15:12:18.942352\n",
      "Processed enclosures\n",
      "processed tesselations\n",
      "---- Processing region:  98561 2025-02-19 15:12:27.587015\n",
      "Processed enclosures\n",
      "processed tesselations\n",
      "---- Processing region:  99170 2025-02-19 15:12:40.015656\n",
      "Processed enclosures\n",
      "processed tesselations\n",
      "---- Processing region:  99298 2025-02-19 15:12:46.167748\n",
      "Processed enclosures\n",
      "processed tesselations\n",
      "---- Processing region:  99449 2025-02-19 15:13:33.763182\n",
      "Processed enclosures\n",
      "processed tesselations\n",
      "---- Processing region:  99663 2025-02-19 15:13:44.947218\n",
      "Processed enclosures\n",
      "processed tesselations\n",
      "---- Processing region:  99840 2025-02-19 15:13:51.011637\n",
      "Processed enclosures\n",
      "processed tesselations\n",
      "---- Processing region:  99844 2025-02-19 15:14:00.239603\n",
      "Retrying tesselation with less buildings, potentially changing building data.\n",
      "Dropping 1 buildings due to tesselation problems\n",
      "Processed enclosures\n",
      "processed tesselations\n",
      "---- Processing region:  99890 2025-02-19 15:14:21.271893\n",
      "Processed enclosures\n",
      "processed tesselations\n",
      "---- Processing region:  99973 2025-02-19 15:16:19.754877\n",
      "Processed enclosures\n",
      "processed tesselations\n",
      "---- Processing region:  100065 2025-02-19 15:16:30.511394\n",
      "Retrying tesselation with less buildings, potentially changing building data.\n",
      "Dropping 1 buildings due to tesselation problems\n",
      "Processed enclosures\n",
      "processed tesselations\n",
      "---- Processing region:  100273 2025-02-19 15:16:46.006942\n",
      "Processed enclosures\n",
      "processed tesselations\n",
      "---- Processing region:  100502 2025-02-19 15:16:51.541085\n",
      "Processed enclosures\n",
      "processed tesselations\n",
      "---- Processing region:  100588 2025-02-19 15:16:57.853099\n",
      "Processed enclosures\n",
      "processed tesselations\n",
      "---- Processing region:  100668 2025-02-19 15:17:10.190684\n",
      "Processed enclosures\n",
      "processed tesselations\n",
      "---- Processing region:  100886 2025-02-19 15:17:23.156646\n",
      "Processed enclosures\n",
      "processed tesselations\n",
      "---- Processing region:  100951 2025-02-19 15:17:36.977017\n",
      "Retrying tesselation with less buildings, potentially changing building data.\n",
      "Dropping 1 buildings due to tesselation problems\n",
      "Processed enclosures\n",
      "processed tesselations\n",
      "---- Processing region:  101004 2025-02-19 15:19:01.758539\n",
      "Retrying tesselation with less buildings, potentially changing building data.\n",
      "Dropping 1 buildings due to tesselation problems\n",
      "Processed enclosures\n",
      "processed tesselations\n",
      "---- Processing region:  101076 2025-02-19 15:19:15.843559\n",
      "Processed enclosures\n",
      "processed tesselations\n",
      "---- Processing region:  101276 2025-02-19 15:19:22.188565\n",
      "Processed enclosures\n",
      "processed tesselations\n",
      "---- Processing region:  101333 2025-02-19 15:19:28.126396\n",
      "Processed enclosures\n",
      "processed tesselations\n",
      "---- Processing region:  101468 2025-02-19 15:19:47.202243\n",
      "Processed enclosures\n",
      "processed tesselations\n",
      "---- Processing region:  101479 2025-02-19 15:19:54.162322\n",
      "Processed enclosures\n",
      "processed tesselations\n",
      "---- Processing region:  101552 2025-02-19 15:21:20.439752\n",
      "Processed enclosures\n",
      "processed tesselations\n",
      "---- Processing region:  101573 2025-02-19 15:21:39.755463\n",
      "Retrying tesselation with less buildings, potentially changing building data.\n",
      "Dropping 1 buildings due to tesselation problems\n",
      "Processed enclosures\n",
      "processed tesselations\n",
      "---- Processing region:  101868 2025-02-19 15:22:11.228744\n",
      "Processed enclosures\n",
      "processed tesselations\n",
      "---- Processing region:  102307 2025-02-19 15:22:21.192814\n",
      "Retrying tesselation with less buildings, potentially changing building data.\n",
      "Dropping 1 buildings due to tesselation problems\n",
      "Processed enclosures\n",
      "processed tesselations\n",
      "---- Processing region:  102483 2025-02-19 15:22:41.008417\n",
      "Processed enclosures\n",
      "processed tesselations\n",
      "---- Processing region:  102649 2025-02-19 15:22:53.418334\n",
      "Processed enclosures\n",
      "processed tesselations\n",
      "---- Processing region:  102660 2025-02-19 15:23:05.150187\n",
      "Processed enclosures\n",
      "processed tesselations\n",
      "---- Processing region:  102728 2025-02-19 15:23:12.584531\n",
      "Processed enclosures\n",
      "processed tesselations\n",
      "---- Processing region:  102951 2025-02-19 15:23:22.654298\n",
      "Retrying tesselation with less buildings, potentially changing building data.\n",
      "Dropping 4 buildings due to tesselation problems\n",
      "Processed enclosures\n",
      "processed tesselations\n",
      "---- Processing region:  103240 2025-02-19 15:23:55.164353\n",
      "Processed enclosures\n",
      "processed tesselations\n",
      "---- Processing region:  103310 2025-02-19 15:24:05.494130\n",
      "Processed enclosures\n",
      "processed tesselations\n",
      "---- Processing region:  103669 2025-02-19 15:24:11.538077\n",
      "Processed enclosures\n",
      "processed tesselations\n",
      "---- Processing region:  103701 2025-02-19 15:24:16.423418\n",
      "Retrying tesselation with less buildings, potentially changing building data.\n",
      "Dropping 1 buildings due to tesselation problems\n",
      "Processed enclosures\n",
      "processed tesselations\n",
      "---- Processing region:  103757 2025-02-19 15:24:31.778081\n",
      "Processed enclosures\n",
      "processed tesselations\n",
      "---- Processing region:  103841 2025-02-19 15:24:38.393225\n",
      "Processed enclosures\n",
      "processed tesselations\n",
      "---- Processing region:  103955 2025-02-19 15:24:52.069051\n",
      "Processed enclosures\n",
      "processed tesselations\n",
      "---- Processing region:  103995 2025-02-19 15:25:01.242126\n",
      "Processed enclosures\n",
      "processed tesselations\n",
      "---- Processing region:  104650 2025-02-19 15:25:09.419999\n",
      "Processed enclosures\n",
      "processed tesselations\n",
      "---- Processing region:  104689 2025-02-19 15:25:18.270150\n"
     ]
    },
    {
     "name": "stderr",
     "output_type": "stream",
     "text": [
      "/home/krasen/morphometrics/.pixi/envs/default/lib/python3.12/site-packages/joblib/externals/loky/process_executor.py:752: UserWarning: A worker stopped while some jobs were given to the executor. This can be caused by a too short worker timeout or by a memory leak.\n",
      "  warnings.warn(\n",
      "/home/krasen/morphometrics/.pixi/envs/default/lib/python3.12/site-packages/joblib/externals/loky/process_executor.py:752: UserWarning: A worker stopped while some jobs were given to the executor. This can be caused by a too short worker timeout or by a memory leak.\n",
      "  warnings.warn(\n"
     ]
    },
    {
     "name": "stdout",
     "output_type": "stream",
     "text": [
      "Retrying tesselation with less buildings, potentially changing building data.\n"
     ]
    },
    {
     "name": "stderr",
     "output_type": "stream",
     "text": [
      "/home/krasen/morphometrics/.pixi/envs/default/lib/python3.12/site-packages/joblib/externals/loky/process_executor.py:752: UserWarning: A worker stopped while some jobs were given to the executor. This can be caused by a too short worker timeout or by a memory leak.\n",
      "  warnings.warn(\n",
      "/home/krasen/morphometrics/.pixi/envs/default/lib/python3.12/site-packages/joblib/externals/loky/process_executor.py:752: UserWarning: A worker stopped while some jobs were given to the executor. This can be caused by a too short worker timeout or by a memory leak.\n",
      "  warnings.warn(\n"
     ]
    },
    {
     "name": "stdout",
     "output_type": "stream",
     "text": [
      "Dropping 7 buildings due to tesselation problems\n",
      "Processed enclosures\n",
      "processed tesselations\n",
      "---- Processing region:  104700 2025-02-19 15:53:13.680200\n",
      "Processed enclosures\n",
      "processed tesselations\n",
      "---- Processing region:  104774 2025-02-19 15:53:23.943003\n",
      "Processed enclosures\n",
      "processed tesselations\n",
      "---- Processing region:  104942 2025-02-19 15:53:32.793672\n",
      "Retrying tesselation with less buildings, potentially changing building data.\n",
      "Dropping 1 buildings due to tesselation problems\n",
      "Processed enclosures\n",
      "processed tesselations\n",
      "---- Processing region:  105139 2025-02-19 15:54:09.629234\n",
      "Processed enclosures\n",
      "processed tesselations\n",
      "---- Processing region:  105549 2025-02-19 15:54:16.325603\n",
      "Processed enclosures\n",
      "processed tesselations\n",
      "---- Processing region:  105598 2025-02-19 15:54:30.685911\n",
      "Retrying tesselation with less buildings, potentially changing building data.\n",
      "Dropping 1 buildings due to tesselation problems\n",
      "Processed enclosures\n",
      "processed tesselations\n",
      "---- Processing region:  105620 2025-02-19 15:55:05.075808\n",
      "Processed enclosures\n",
      "processed tesselations\n",
      "---- Processing region:  106235 2025-02-19 15:55:13.189105\n",
      "Processed enclosures\n",
      "processed tesselations\n",
      "---- Processing region:  106236 2025-02-19 15:55:21.337456\n",
      "Processed enclosures\n",
      "processed tesselations\n",
      "---- Processing region:  106409 2025-02-19 15:55:35.188623\n",
      "Processed enclosures\n",
      "processed tesselations\n",
      "---- Processing region:  106603 2025-02-19 15:55:38.160859\n",
      "Retrying tesselation with less buildings, potentially changing building data.\n",
      "Dropping 2 buildings due to tesselation problems\n",
      "Processed enclosures\n",
      "processed tesselations\n",
      "---- Processing region:  106690 2025-02-19 15:55:53.595176\n",
      "Retrying tesselation with less buildings, potentially changing building data.\n",
      "Dropping 3 buildings due to tesselation problems\n",
      "Processed enclosures\n",
      "processed tesselations\n",
      "---- Processing region:  106876 2025-02-19 15:58:40.849879\n",
      "Processed enclosures\n",
      "processed tesselations\n",
      "---- Processing region:  106891 2025-02-19 15:58:50.169092\n",
      "Processed enclosures\n",
      "processed tesselations\n",
      "---- Processing region:  106928 2025-02-19 15:59:09.338218\n",
      "Retrying tesselation with less buildings, potentially changing building data.\n",
      "Dropping 23 buildings due to tesselation problems\n",
      "Processed enclosures\n",
      "processed tesselations\n",
      "---- Processing region:  106972 2025-02-19 16:03:25.693232\n",
      "Processed enclosures\n",
      "processed tesselations\n",
      "---- Processing region:  107132 2025-02-19 16:03:50.578652\n",
      "Processed enclosures\n",
      "processed tesselations\n",
      "---- Processing region:  107471 2025-02-19 16:03:59.796845\n",
      "Processed enclosures\n",
      "processed tesselations\n",
      "---- Processing region:  107621 2025-02-19 16:04:44.048068\n",
      "Retrying tesselation with less buildings, potentially changing building data.\n",
      "Dropping 1 buildings due to tesselation problems\n",
      "Processed enclosures\n",
      "processed tesselations\n",
      "---- Processing region:  107675 2025-02-19 16:04:57.511223\n",
      "Retrying tesselation with less buildings, potentially changing building data.\n",
      "Dropping 3 buildings due to tesselation problems\n",
      "Processed enclosures\n",
      "processed tesselations\n",
      "---- Processing region:  107744 2025-02-19 16:05:16.360040\n",
      "Processed enclosures\n",
      "processed tesselations\n",
      "---- Processing region:  108119 2025-02-19 16:05:53.545461\n",
      "Retrying tesselation with less buildings, potentially changing building data.\n",
      "Dropping 1 buildings due to tesselation problems\n",
      "Processed enclosures\n",
      "processed tesselations\n",
      "---- Processing region:  108129 2025-02-19 16:06:10.107593\n",
      "Processed enclosures\n",
      "processed tesselations\n",
      "---- Processing region:  108805 2025-02-19 16:06:15.828349\n",
      "Processed enclosures\n",
      "processed tesselations\n",
      "---- Processing region:  108885 2025-02-19 16:06:22.114124\n",
      "Processed enclosures\n",
      "processed tesselations\n",
      "---- Processing region:  108886 2025-02-19 16:06:32.602276\n"
     ]
    },
    {
     "name": "stderr",
     "output_type": "stream",
     "text": [
      "/home/krasen/morphometrics/.pixi/envs/default/lib/python3.12/site-packages/joblib/externals/loky/process_executor.py:752: UserWarning: A worker stopped while some jobs were given to the executor. This can be caused by a too short worker timeout or by a memory leak.\n",
      "  warnings.warn(\n"
     ]
    },
    {
     "name": "stdout",
     "output_type": "stream",
     "text": [
      "Processed enclosures\n",
      "processed tesselations\n",
      "---- Processing region:  108938 2025-02-19 16:12:37.717700\n",
      "Processed enclosures\n",
      "processed tesselations\n",
      "---- Processing region:  109204 2025-02-19 16:12:51.755299\n",
      "Processed enclosures\n",
      "processed tesselations\n",
      "---- Processing region:  109339 2025-02-19 16:13:00.109561\n",
      "Retrying tesselation with less buildings, potentially changing building data.\n",
      "Dropping 1 buildings due to tesselation problems\n",
      "Processed enclosures\n",
      "processed tesselations\n",
      "---- Processing region:  109648 2025-02-19 16:13:29.385055\n",
      "Processed enclosures\n",
      "processed tesselations\n",
      "---- Processing region:  109769 2025-02-19 16:13:34.006390\n",
      "Processed enclosures\n",
      "processed tesselations\n",
      "---- Processing region:  109915 2025-02-19 16:13:55.743062\n",
      "Processed enclosures\n",
      "processed tesselations\n",
      "---- Processing region:  110149 2025-02-19 16:14:03.205839\n",
      "Processed enclosures\n",
      "processed tesselations\n",
      "---- Processing region:  110569 2025-02-19 16:14:20.803036\n",
      "Processed enclosures\n",
      "processed tesselations\n",
      "---- Processing region:  110785 2025-02-19 16:14:29.651893\n",
      "Processed enclosures\n",
      "processed tesselations\n",
      "---- Processing region:  111027 2025-02-19 16:14:39.126528\n",
      "Processed enclosures\n",
      "processed tesselations\n",
      "---- Processing region:  111785 2025-02-19 16:14:49.139817\n",
      "Processed enclosures\n",
      "processed tesselations\n",
      "---- Processing region:  111990 2025-02-19 16:14:55.589541\n",
      "Retrying tesselation with less buildings, potentially changing building data.\n",
      "Dropping 1 buildings due to tesselation problems\n",
      "Processed enclosures\n",
      "processed tesselations\n",
      "---- Processing region:  112303 2025-02-19 16:15:16.381485\n",
      "Processed enclosures\n",
      "processed tesselations\n",
      "---- Processing region:  112689 2025-02-19 16:15:19.973738\n",
      "Retrying tesselation with less buildings, potentially changing building data.\n",
      "Dropping 1 buildings due to tesselation problems\n",
      "Processed enclosures\n",
      "processed tesselations\n",
      "---- Processing region:  112750 2025-02-19 16:15:44.390297\n",
      "Retrying tesselation with less buildings, potentially changing building data.\n",
      "Dropping 1 buildings due to tesselation problems\n",
      "Processed enclosures\n",
      "processed tesselations\n",
      "---- Processing region:  113056 2025-02-19 16:15:59.207505\n",
      "Retrying tesselation with less buildings, potentially changing building data.\n",
      "Dropping 2 buildings due to tesselation problems\n",
      "Processed enclosures\n",
      "processed tesselations\n",
      "---- Processing region:  113175 2025-02-19 16:16:14.005057\n",
      "Processed enclosures\n",
      "processed tesselations\n",
      "---- Processing region:  113257 2025-02-19 16:16:23.930880\n",
      "Processed enclosures\n",
      "processed tesselations\n",
      "---- Processing region:  113603 2025-02-19 16:16:59.197671\n",
      "Processed enclosures\n",
      "processed tesselations\n",
      "---- Processing region:  113842 2025-02-19 16:17:02.761286\n",
      "Processed enclosures\n",
      "processed tesselations\n",
      "---- Processing region:  114614 2025-02-19 16:17:13.737910\n",
      "Processed enclosures\n",
      "processed tesselations\n",
      "---- Processing region:  114684 2025-02-19 16:17:25.192669\n",
      "Retrying tesselation with less buildings, potentially changing building data.\n",
      "Dropping 1 buildings due to tesselation problems\n",
      "Processed enclosures\n",
      "processed tesselations\n",
      "---- Processing region:  115038 2025-02-19 16:17:41.809491\n",
      "Processed enclosures\n",
      "processed tesselations\n",
      "---- Processing region:  115302 2025-02-19 16:17:50.832163\n",
      "Processed enclosures\n",
      "processed tesselations\n",
      "---- Processing region:  115459 2025-02-19 16:18:01.287649\n",
      "Processed enclosures\n",
      "processed tesselations\n",
      "---- Processing region:  115629 2025-02-19 16:18:06.140122\n",
      "Retrying tesselation with less buildings, potentially changing building data.\n",
      "Dropping 2 buildings due to tesselation problems\n",
      "Processed enclosures\n",
      "processed tesselations\n",
      "---- Processing region:  116188 2025-02-19 16:18:22.265805\n",
      "Processed enclosures\n",
      "processed tesselations\n",
      "---- Processing region:  116245 2025-02-19 16:18:34.596885\n",
      "Processed enclosures\n",
      "processed tesselations\n",
      "---- Processing region:  116433 2025-02-19 16:18:47.520212\n",
      "Processed enclosures\n",
      "processed tesselations\n",
      "---- Processing region:  116665 2025-02-19 16:18:58.117686\n",
      "Processed enclosures\n",
      "processed tesselations\n",
      "---- Processing region:  117011 2025-02-19 16:19:18.708848\n",
      "Retrying tesselation with less buildings, potentially changing building data.\n",
      "Dropping 2 buildings due to tesselation problems\n",
      "Processed enclosures\n",
      "processed tesselations\n",
      "---- Processing region:  117344 2025-02-19 16:20:07.443415\n",
      "Processed enclosures\n",
      "processed tesselations\n",
      "---- Processing region:  117715 2025-02-19 16:20:16.822681\n",
      "Processed enclosures\n",
      "processed tesselations\n",
      "---- Processing region:  117754 2025-02-19 16:20:59.795329\n",
      "Processed enclosures\n",
      "processed tesselations\n",
      "---- Processing region:  117987 2025-02-19 16:21:06.768452\n",
      "Processed enclosures\n",
      "processed tesselations\n",
      "---- Processing region:  118186 2025-02-19 16:21:25.021375\n",
      "Processed enclosures\n",
      "processed tesselations\n",
      "---- Processing region:  118968 2025-02-19 16:21:34.434462\n",
      "Processed enclosures\n",
      "processed tesselations\n",
      "---- Processing region:  119151 2025-02-19 16:21:39.385366\n",
      "Processed enclosures\n",
      "processed tesselations\n",
      "---- Processing region:  119682 2025-02-19 16:21:49.514535\n",
      "Processed enclosures\n",
      "processed tesselations\n",
      "---- Processing region:  119838 2025-02-19 16:22:02.403493\n",
      "Processed enclosures\n",
      "processed tesselations\n",
      "---- Processing region:  120289 2025-02-19 16:22:49.581137\n",
      "Processed enclosures\n",
      "processed tesselations\n",
      "---- Processing region:  120682 2025-02-19 16:23:02.127693\n",
      "Processed enclosures\n",
      "processed tesselations\n",
      "---- Processing region:  120707 2025-02-19 16:23:24.949284\n",
      "Processed enclosures\n",
      "processed tesselations\n",
      "---- Processing region:  121047 2025-02-19 16:23:31.898770\n",
      "Processed enclosures\n",
      "processed tesselations\n",
      "---- Processing region:  121247 2025-02-19 16:23:37.986619\n",
      "Processed enclosures\n",
      "processed tesselations\n",
      "---- Processing region:  121367 2025-02-19 16:23:46.477348\n",
      "Processed enclosures\n",
      "processed tesselations\n",
      "---- Processing region:  121511 2025-02-19 16:24:08.640278\n",
      "Processed enclosures\n",
      "processed tesselations\n",
      "---- Processing region:  121543 2025-02-19 16:24:24.300545\n",
      "Processed enclosures\n",
      "processed tesselations\n",
      "---- Processing region:  121638 2025-02-19 16:24:50.699320\n",
      "Processed enclosures\n",
      "processed tesselations\n",
      "---- Processing region:  121880 2025-02-19 16:25:10.034244\n",
      "Processed enclosures\n",
      "processed tesselations\n",
      "---- Processing region:  122862 2025-02-19 16:25:16.113536\n",
      "Processed enclosures\n",
      "processed tesselations\n",
      "---- Processing region:  123006 2025-02-19 16:25:27.387078\n",
      "Processed enclosures\n",
      "processed tesselations\n",
      "---- Processing region:  123161 2025-02-19 16:25:31.281750\n",
      "Processed enclosures\n",
      "processed tesselations\n",
      "---- Processing region:  123183 2025-02-19 16:25:38.607834\n",
      "Processed enclosures\n",
      "processed tesselations\n",
      "---- Processing region:  123496 2025-02-19 16:25:43.786446\n",
      "Processed enclosures\n",
      "processed tesselations\n",
      "---- Processing region:  123530 2025-02-19 16:25:59.441632\n",
      "Processed enclosures\n",
      "processed tesselations\n",
      "---- Processing region:  123553 2025-02-19 16:26:04.437240\n",
      "Processed enclosures\n",
      "processed tesselations\n",
      "---- Processing region:  123931 2025-02-19 16:26:17.213263\n",
      "Processed enclosures\n",
      "processed tesselations\n",
      "---- Processing region:  124010 2025-02-19 16:26:21.900254\n",
      "Retrying tesselation with less buildings, potentially changing building data.\n",
      "Dropping 3 buildings due to tesselation problems\n",
      "Processed enclosures\n",
      "processed tesselations\n",
      "---- Processing region:  124188 2025-02-19 16:27:18.064706\n",
      "Processed enclosures\n",
      "processed tesselations\n",
      "---- Processing region:  124343 2025-02-19 16:27:26.046536\n",
      "Processed enclosures\n",
      "processed tesselations\n",
      "---- Processing region:  124658 2025-02-19 16:27:35.640216\n",
      "Processed enclosures\n",
      "processed tesselations\n",
      "---- Processing region:  124693 2025-02-19 16:27:49.611868\n",
      "Processed enclosures\n",
      "processed tesselations\n",
      "---- Processing region:  125382 2025-02-19 16:28:06.074294\n",
      "Processed enclosures\n",
      "processed tesselations\n",
      "---- Processing region:  125435 2025-02-19 16:28:09.289426\n",
      "Retrying tesselation with less buildings, potentially changing building data.\n",
      "Dropping 1 buildings due to tesselation problems\n",
      "Processed enclosures\n",
      "processed tesselations\n",
      "---- Processing region:  125595 2025-02-19 16:28:49.006419\n",
      "Processed enclosures\n",
      "processed tesselations\n",
      "---- Processing region:  125714 2025-02-19 16:28:57.983574\n"
     ]
    },
    {
     "name": "stderr",
     "output_type": "stream",
     "text": [
      "/home/krasen/morphometrics/.pixi/envs/default/lib/python3.12/site-packages/joblib/externals/loky/process_executor.py:752: UserWarning: A worker stopped while some jobs were given to the executor. This can be caused by a too short worker timeout or by a memory leak.\n",
      "  warnings.warn(\n"
     ]
    },
    {
     "name": "stdout",
     "output_type": "stream",
     "text": [
      "Processed enclosures\n",
      "processed tesselations\n",
      "---- Processing region:  125931 2025-02-19 16:29:24.898472\n",
      "Processed enclosures\n",
      "processed tesselations\n",
      "---- Processing region:  126020 2025-02-19 16:29:31.061101\n",
      "Processed enclosures\n",
      "processed tesselations\n",
      "---- Processing region:  126123 2025-02-19 16:29:56.722610\n",
      "Processed enclosures\n",
      "processed tesselations\n",
      "---- Processing region:  126342 2025-02-19 16:30:12.147060\n",
      "Processed enclosures\n",
      "processed tesselations\n",
      "---- Processing region:  126817 2025-02-19 16:30:18.925557\n",
      "Processed enclosures\n",
      "processed tesselations\n",
      "---- Processing region:  126919 2025-02-19 16:30:39.774621\n",
      "Processed enclosures\n",
      "processed tesselations\n",
      "---- Processing region:  127339 2025-02-19 16:32:12.289871\n",
      "Processed enclosures\n",
      "processed tesselations\n",
      "---- Processing region:  127965 2025-02-19 16:32:36.298691\n",
      "Processed enclosures\n",
      "processed tesselations\n",
      "---- Processing region:  128383 2025-02-19 16:32:49.419483\n",
      "Processed enclosures\n",
      "processed tesselations\n",
      "---- Processing region:  129133 2025-02-19 16:33:02.483968\n",
      "Processed enclosures\n",
      "processed tesselations\n",
      "---- Processing region:  129633 2025-02-19 16:33:17.849089\n",
      "Processed enclosures\n",
      "processed tesselations\n",
      "---- Processing region:  129657 2025-02-19 16:33:26.883137\n",
      "Processed enclosures\n",
      "processed tesselations\n",
      "---- Processing region:  129981 2025-02-19 16:33:34.008962\n",
      "Processed enclosures\n",
      "processed tesselations\n",
      "---- Processing region:  130016 2025-02-19 16:33:43.315908\n",
      "Processed enclosures\n",
      "processed tesselations\n",
      "---- Processing region:  130054 2025-02-19 16:33:51.744052\n",
      "Processed enclosures\n",
      "processed tesselations\n",
      "---- Processing region:  130057 2025-02-19 16:34:00.042580\n",
      "Processed enclosures\n",
      "processed tesselations\n",
      "---- Processing region:  130435 2025-02-19 16:34:58.292769\n",
      "Retrying tesselation with less buildings, potentially changing building data.\n",
      "Dropping 1 buildings due to tesselation problems\n",
      "Processed enclosures\n",
      "processed tesselations\n",
      "---- Processing region:  130457 2025-02-19 16:35:20.172697\n",
      "Processed enclosures\n",
      "processed tesselations\n",
      "---- Processing region:  130576 2025-02-19 16:35:28.218997\n",
      "Processed enclosures\n",
      "processed tesselations\n",
      "---- Processing region:  130652 2025-02-19 16:35:51.546389\n",
      "Processed enclosures\n",
      "processed tesselations\n",
      "---- Processing region:  131601 2025-02-19 16:36:02.273543\n",
      "Processed enclosures\n",
      "processed tesselations\n",
      "---- Processing region:  131732 2025-02-19 16:36:22.975087\n",
      "Processed enclosures\n",
      "processed tesselations\n",
      "---- Processing region:  132082 2025-02-19 16:36:31.347213\n",
      "Processed enclosures\n",
      "processed tesselations\n",
      "---- Processing region:  132096 2025-02-19 16:36:56.842337\n",
      "Processed enclosures\n",
      "processed tesselations\n",
      "---- Processing region:  132420 2025-02-19 16:37:04.795018\n",
      "Processed enclosures\n",
      "processed tesselations\n",
      "---- Processing region:  132991 2025-02-19 16:37:17.603049\n",
      "Processed enclosures\n",
      "processed tesselations\n",
      "---- Processing region:  133341 2025-02-19 16:37:25.377027\n",
      "Retrying tesselation with less buildings, potentially changing building data.\n",
      "Dropping 1 buildings due to tesselation problems\n",
      "Processed enclosures\n",
      "processed tesselations\n",
      "---- Processing region:  133415 2025-02-19 16:37:41.709004\n",
      "Processed enclosures\n",
      "processed tesselations\n",
      "---- Processing region:  133506 2025-02-19 16:37:54.026866\n",
      "Retrying tesselation with less buildings, potentially changing building data.\n",
      "Dropping 1 buildings due to tesselation problems\n",
      "Processed enclosures\n",
      "processed tesselations\n",
      "---- Processing region:  133629 2025-02-19 16:38:14.466450\n",
      "Retrying tesselation with less buildings, potentially changing building data.\n",
      "Dropping 1 buildings due to tesselation problems\n",
      "Processed enclosures\n",
      "processed tesselations\n",
      "---- Processing region:  133675 2025-02-19 16:38:31.022698\n",
      "Processed enclosures\n",
      "processed tesselations\n",
      "---- Processing region:  133728 2025-02-19 16:38:40.867883\n",
      "Processed enclosures\n",
      "processed tesselations\n",
      "---- Processing region:  134690 2025-02-19 16:39:03.006756\n",
      "Processed enclosures\n",
      "processed tesselations\n",
      "---- Processing region:  134697 2025-02-19 16:39:10.848346\n",
      "Processed enclosures\n",
      "processed tesselations\n",
      "---- Processing region:  134988 2025-02-19 16:39:24.383575\n",
      "Processed enclosures\n",
      "processed tesselations\n",
      "---- Processing region:  135194 2025-02-19 16:39:39.203499\n",
      "Processed enclosures\n",
      "processed tesselations\n",
      "---- Processing region:  135398 2025-02-19 16:39:53.142854\n",
      "Processed enclosures\n",
      "processed tesselations\n"
     ]
    }
   ],
   "source": [
    "for region_id, _ in region_hulls[~region_hulls.index.isin(processed_region_ids)].iterrows():\n",
    "    enclosures, tesselations = process_region_elements(buildings_dir, streets_dir, region_id)\n",
    "\n",
    "    enclosures.to_parquet(enclosures_dir + f\"enclosure_{region_id}.parquet\")\n",
    "    print(\"Processed enclosures\")\n",
    "    \n",
    "    ## save files\n",
    "    tesselations.to_parquet(\n",
    "        tessellations_dir + f\"tessellation_{region_id}.parquet\"\n",
    "    )\n",
    "    print(\"processed tesselations\")"
   ]
  },
  {
   "cell_type": "code",
   "execution_count": 9,
   "id": "0ce8d57d-26cc-4abf-be8d-379e24182381",
   "metadata": {},
   "outputs": [
    {
     "data": {
      "text/plain": [
       "1"
      ]
     },
     "execution_count": 9,
     "metadata": {},
     "output_type": "execute_result"
    }
   ],
   "source": [
    "1"
   ]
  },
  {
   "cell_type": "code",
   "execution_count": null,
   "id": "29087ca4-0c32-4f6e-9830-007e0cb40534",
   "metadata": {},
   "outputs": [],
   "source": []
  },
  {
   "cell_type": "code",
   "execution_count": null,
   "id": "6e12f2ce-d687-489a-81b7-f28c0906bf55",
   "metadata": {},
   "outputs": [],
   "source": []
  },
  {
   "cell_type": "markdown",
   "id": "07a1d29c-53e2-4ec3-bb6f-4c9e0475b647",
   "metadata": {
    "jp-MarkdownHeadingCollapsed": true
   },
   "source": [
    "## Process graphs"
   ]
  },
  {
   "cell_type": "markdown",
   "id": "aadb7ae8-b8e4-4d17-9e0c-677223476033",
   "metadata": {},
   "source": [
    "Run the graph generating pipeline for all regions."
   ]
  },
  {
   "cell_type": "code",
   "execution_count": 5,
   "id": "2a1ce453-9cd8-4c11-b0d6-ccd3aa532c8b",
   "metadata": {},
   "outputs": [],
   "source": [
    "from core.generate_ngraphs import process_region_graphs"
   ]
  },
  {
   "cell_type": "code",
   "execution_count": null,
   "id": "74905c1b-04bd-4d10-8671-65d475335406",
   "metadata": {},
   "outputs": [],
   "source": []
  },
  {
   "cell_type": "code",
   "execution_count": 6,
   "id": "593734a4-db1e-479b-b96f-033592d0d9f1",
   "metadata": {
    "scrolled": true
   },
   "outputs": [
    {
     "name": "stdout",
     "output_type": "stream",
     "text": [
      "Built tess graph knn=1\n",
      "Built buildings graph knn=1\n",
      "Built streets graph knn=1\n",
      "Built enclosure graph knn=1\n",
      "Built nodes graph knn=1\n"
     ]
    },
    {
     "name": "stderr",
     "output_type": "stream",
     "text": [
      "/home/krasen/morphometrics/.pixi/envs/default/lib/python3.12/site-packages/libpysal/weights/weights.py:1685: UserWarning: The weights matrix is not fully connected: \n",
      " There are 5 disconnected components.\n",
      "  w = W(neighbors, weights, ids, silence_warnings=silence_warnings)\n"
     ]
    },
    {
     "name": "stdout",
     "output_type": "stream",
     "text": [
      "Built tess graph knn=1\n",
      "Built buildings graph knn=1\n",
      "Built streets graph knn=1\n",
      "Built enclosure graph knn=1\n"
     ]
    },
    {
     "name": "stderr",
     "output_type": "stream",
     "text": [
      "/home/krasen/morphometrics/.pixi/envs/default/lib/python3.12/site-packages/libpysal/weights/weights.py:1685: UserWarning: The weights matrix is not fully connected: \n",
      " There are 98 disconnected components.\n",
      "  w = W(neighbors, weights, ids, silence_warnings=silence_warnings)\n"
     ]
    },
    {
     "name": "stdout",
     "output_type": "stream",
     "text": [
      "Built nodes graph knn=1\n",
      "Built tess graph knn=1\n",
      "Built buildings graph knn=1\n",
      "Built streets graph knn=1\n",
      "Built enclosure graph knn=1\n"
     ]
    },
    {
     "name": "stderr",
     "output_type": "stream",
     "text": [
      "/home/krasen/morphometrics/.pixi/envs/default/lib/python3.12/site-packages/libpysal/weights/weights.py:1685: UserWarning: The weights matrix is not fully connected: \n",
      " There are 866 disconnected components.\n",
      "  w = W(neighbors, weights, ids, silence_warnings=silence_warnings)\n"
     ]
    },
    {
     "name": "stdout",
     "output_type": "stream",
     "text": [
      "Built nodes graph knn=1\n",
      "Built tess graph knn=1\n",
      "Built buildings graph knn=1\n",
      "Built streets graph knn=1\n",
      "Built enclosure graph knn=1\n",
      "Built nodes graph knn=1\n"
     ]
    },
    {
     "name": "stderr",
     "output_type": "stream",
     "text": [
      "/home/krasen/morphometrics/.pixi/envs/default/lib/python3.12/site-packages/libpysal/weights/weights.py:1685: UserWarning: The weights matrix is not fully connected: \n",
      " There are 5 disconnected components.\n",
      "  w = W(neighbors, weights, ids, silence_warnings=silence_warnings)\n"
     ]
    },
    {
     "name": "stdout",
     "output_type": "stream",
     "text": [
      "Built tess graph knn=1\n",
      "Built buildings graph knn=1\n",
      "Built streets graph knn=1\n",
      "Built enclosure graph knn=1\n",
      "Built nodes graph knn=1\n"
     ]
    },
    {
     "name": "stderr",
     "output_type": "stream",
     "text": [
      "/home/krasen/morphometrics/.pixi/envs/default/lib/python3.12/site-packages/libpysal/weights/weights.py:1685: UserWarning: The weights matrix is not fully connected: \n",
      " There are 6 disconnected components.\n",
      "  w = W(neighbors, weights, ids, silence_warnings=silence_warnings)\n"
     ]
    },
    {
     "name": "stdout",
     "output_type": "stream",
     "text": [
      "Built tess graph knn=1\n",
      "Built buildings graph knn=1\n",
      "Built streets graph knn=1\n",
      "Built enclosure graph knn=1\n"
     ]
    },
    {
     "name": "stderr",
     "output_type": "stream",
     "text": [
      "/home/krasen/morphometrics/.pixi/envs/default/lib/python3.12/site-packages/libpysal/weights/weights.py:1685: UserWarning: The weights matrix is not fully connected: \n",
      " There are 24 disconnected components.\n",
      "  w = W(neighbors, weights, ids, silence_warnings=silence_warnings)\n"
     ]
    },
    {
     "name": "stdout",
     "output_type": "stream",
     "text": [
      "Built nodes graph knn=1\n",
      "Built tess graph knn=1\n",
      "Built buildings graph knn=1\n",
      "Built streets graph knn=1\n",
      "Built enclosure graph knn=1\n"
     ]
    },
    {
     "name": "stderr",
     "output_type": "stream",
     "text": [
      "/home/krasen/morphometrics/.pixi/envs/default/lib/python3.12/site-packages/libpysal/weights/weights.py:1685: UserWarning: The weights matrix is not fully connected: \n",
      " There are 43 disconnected components.\n",
      "  w = W(neighbors, weights, ids, silence_warnings=silence_warnings)\n"
     ]
    },
    {
     "name": "stdout",
     "output_type": "stream",
     "text": [
      "Built nodes graph knn=1\n",
      "Built tess graph knn=1\n",
      "Built buildings graph knn=1\n",
      "Built streets graph knn=1\n",
      "Built enclosure graph knn=1\n"
     ]
    },
    {
     "name": "stderr",
     "output_type": "stream",
     "text": [
      "/home/krasen/morphometrics/.pixi/envs/default/lib/python3.12/site-packages/libpysal/weights/weights.py:1685: UserWarning: The weights matrix is not fully connected: \n",
      " There are 7 disconnected components.\n",
      "  w = W(neighbors, weights, ids, silence_warnings=silence_warnings)\n"
     ]
    },
    {
     "name": "stdout",
     "output_type": "stream",
     "text": [
      "Built nodes graph knn=1\n",
      "Built tess graph knn=1\n",
      "Built buildings graph knn=1\n",
      "Built streets graph knn=1\n",
      "Built enclosure graph knn=1\n",
      "Built nodes graph knn=1\n"
     ]
    },
    {
     "name": "stderr",
     "output_type": "stream",
     "text": [
      "/home/krasen/morphometrics/.pixi/envs/default/lib/python3.12/site-packages/libpysal/weights/weights.py:1685: UserWarning: The weights matrix is not fully connected: \n",
      " There are 6 disconnected components.\n",
      "  w = W(neighbors, weights, ids, silence_warnings=silence_warnings)\n"
     ]
    },
    {
     "name": "stdout",
     "output_type": "stream",
     "text": [
      "Built tess graph knn=1\n",
      "Built buildings graph knn=1\n",
      "Built streets graph knn=1\n",
      "Built enclosure graph knn=1\n"
     ]
    },
    {
     "name": "stderr",
     "output_type": "stream",
     "text": [
      "/home/krasen/morphometrics/.pixi/envs/default/lib/python3.12/site-packages/libpysal/weights/weights.py:1685: UserWarning: The weights matrix is not fully connected: \n",
      " There are 60 disconnected components.\n",
      "  w = W(neighbors, weights, ids, silence_warnings=silence_warnings)\n"
     ]
    },
    {
     "name": "stdout",
     "output_type": "stream",
     "text": [
      "Built nodes graph knn=1\n",
      "Built tess graph knn=1\n",
      "Built buildings graph knn=1\n",
      "Built streets graph knn=1\n",
      "Built enclosure graph knn=1\n"
     ]
    },
    {
     "name": "stderr",
     "output_type": "stream",
     "text": [
      "/home/krasen/morphometrics/.pixi/envs/default/lib/python3.12/site-packages/libpysal/weights/weights.py:1685: UserWarning: The weights matrix is not fully connected: \n",
      " There are 13 disconnected components.\n",
      "  w = W(neighbors, weights, ids, silence_warnings=silence_warnings)\n"
     ]
    },
    {
     "name": "stdout",
     "output_type": "stream",
     "text": [
      "Built nodes graph knn=1\n",
      "Built tess graph knn=1\n",
      "Built buildings graph knn=1\n",
      "Built streets graph knn=1\n",
      "Built enclosure graph knn=1\n"
     ]
    },
    {
     "name": "stderr",
     "output_type": "stream",
     "text": [
      "/home/krasen/morphometrics/.pixi/envs/default/lib/python3.12/site-packages/libpysal/weights/weights.py:1685: UserWarning: The weights matrix is not fully connected: \n",
      " There are 28 disconnected components.\n",
      "  w = W(neighbors, weights, ids, silence_warnings=silence_warnings)\n"
     ]
    },
    {
     "name": "stdout",
     "output_type": "stream",
     "text": [
      "Built nodes graph knn=1\n",
      "Built tess graph knn=1\n",
      "Built buildings graph knn=1\n",
      "Built streets graph knn=1\n",
      "Built enclosure graph knn=1\n"
     ]
    },
    {
     "name": "stderr",
     "output_type": "stream",
     "text": [
      "/home/krasen/morphometrics/.pixi/envs/default/lib/python3.12/site-packages/libpysal/weights/weights.py:1685: UserWarning: The weights matrix is not fully connected: \n",
      " There are 5 disconnected components.\n",
      "  w = W(neighbors, weights, ids, silence_warnings=silence_warnings)\n"
     ]
    },
    {
     "name": "stdout",
     "output_type": "stream",
     "text": [
      "Built nodes graph knn=1\n",
      "Built tess graph knn=1\n",
      "Built buildings graph knn=1\n",
      "Built streets graph knn=1\n",
      "Built enclosure graph knn=1\n"
     ]
    },
    {
     "name": "stderr",
     "output_type": "stream",
     "text": [
      "/home/krasen/morphometrics/.pixi/envs/default/lib/python3.12/site-packages/libpysal/weights/weights.py:1685: UserWarning: The weights matrix is not fully connected: \n",
      " There are 19 disconnected components.\n",
      "  w = W(neighbors, weights, ids, silence_warnings=silence_warnings)\n"
     ]
    },
    {
     "name": "stdout",
     "output_type": "stream",
     "text": [
      "Built nodes graph knn=1\n",
      "Built tess graph knn=1\n",
      "Built buildings graph knn=1\n",
      "Built streets graph knn=1\n",
      "Built enclosure graph knn=1\n",
      "Built nodes graph knn=1\n"
     ]
    },
    {
     "name": "stderr",
     "output_type": "stream",
     "text": [
      "/home/krasen/morphometrics/.pixi/envs/default/lib/python3.12/site-packages/libpysal/weights/weights.py:1685: UserWarning: The weights matrix is not fully connected: \n",
      " There are 12 disconnected components.\n",
      "  w = W(neighbors, weights, ids, silence_warnings=silence_warnings)\n"
     ]
    },
    {
     "name": "stdout",
     "output_type": "stream",
     "text": [
      "Built tess graph knn=1\n",
      "Built buildings graph knn=1\n",
      "Built streets graph knn=1\n",
      "Built enclosure graph knn=1\n",
      "Built nodes graph knn=1\n"
     ]
    },
    {
     "name": "stderr",
     "output_type": "stream",
     "text": [
      "/home/krasen/morphometrics/.pixi/envs/default/lib/python3.12/site-packages/libpysal/weights/weights.py:1685: UserWarning: The weights matrix is not fully connected: \n",
      " There are 3 disconnected components.\n",
      "  w = W(neighbors, weights, ids, silence_warnings=silence_warnings)\n"
     ]
    },
    {
     "name": "stdout",
     "output_type": "stream",
     "text": [
      "Built tess graph knn=1\n",
      "Built buildings graph knn=1\n",
      "Built streets graph knn=1\n",
      "Built enclosure graph knn=1\n",
      "Built nodes graph knn=1\n"
     ]
    },
    {
     "name": "stderr",
     "output_type": "stream",
     "text": [
      "/home/krasen/morphometrics/.pixi/envs/default/lib/python3.12/site-packages/libpysal/weights/weights.py:1685: UserWarning: The weights matrix is not fully connected: \n",
      " There are 4 disconnected components.\n",
      "  w = W(neighbors, weights, ids, silence_warnings=silence_warnings)\n"
     ]
    },
    {
     "name": "stdout",
     "output_type": "stream",
     "text": [
      "Built tess graph knn=1\n",
      "Built buildings graph knn=1\n",
      "Built streets graph knn=1\n",
      "Built enclosure graph knn=1\n"
     ]
    },
    {
     "name": "stderr",
     "output_type": "stream",
     "text": [
      "/home/krasen/morphometrics/.pixi/envs/default/lib/python3.12/site-packages/libpysal/weights/weights.py:1685: UserWarning: The weights matrix is not fully connected: \n",
      " There are 28 disconnected components.\n",
      "  w = W(neighbors, weights, ids, silence_warnings=silence_warnings)\n"
     ]
    },
    {
     "name": "stdout",
     "output_type": "stream",
     "text": [
      "Built nodes graph knn=1\n",
      "Built tess graph knn=1\n",
      "Built buildings graph knn=1\n",
      "Built streets graph knn=1\n",
      "Built enclosure graph knn=1\n"
     ]
    },
    {
     "name": "stderr",
     "output_type": "stream",
     "text": [
      "/home/krasen/morphometrics/.pixi/envs/default/lib/python3.12/site-packages/libpysal/weights/weights.py:1685: UserWarning: The weights matrix is not fully connected: \n",
      " There are 31 disconnected components.\n",
      "  w = W(neighbors, weights, ids, silence_warnings=silence_warnings)\n"
     ]
    },
    {
     "name": "stdout",
     "output_type": "stream",
     "text": [
      "Built nodes graph knn=1\n",
      "Built tess graph knn=1\n",
      "Built buildings graph knn=1\n",
      "Built streets graph knn=1\n",
      "Built enclosure graph knn=1\n"
     ]
    },
    {
     "name": "stderr",
     "output_type": "stream",
     "text": [
      "/home/krasen/morphometrics/.pixi/envs/default/lib/python3.12/site-packages/libpysal/weights/weights.py:1685: UserWarning: The weights matrix is not fully connected: \n",
      " There are 339 disconnected components.\n",
      "  w = W(neighbors, weights, ids, silence_warnings=silence_warnings)\n"
     ]
    },
    {
     "name": "stdout",
     "output_type": "stream",
     "text": [
      "Built nodes graph knn=1\n",
      "Built tess graph knn=1\n",
      "Built buildings graph knn=1\n",
      "Built streets graph knn=1\n",
      "Built enclosure graph knn=1\n",
      "Built nodes graph knn=1\n"
     ]
    },
    {
     "name": "stderr",
     "output_type": "stream",
     "text": [
      "/home/krasen/morphometrics/.pixi/envs/default/lib/python3.12/site-packages/libpysal/weights/weights.py:1685: UserWarning: The weights matrix is not fully connected: \n",
      " There are 15 disconnected components.\n",
      "  w = W(neighbors, weights, ids, silence_warnings=silence_warnings)\n"
     ]
    },
    {
     "name": "stdout",
     "output_type": "stream",
     "text": [
      "Built tess graph knn=1\n",
      "Built buildings graph knn=1\n",
      "Built streets graph knn=1\n",
      "Built enclosure graph knn=1\n"
     ]
    },
    {
     "name": "stderr",
     "output_type": "stream",
     "text": [
      "/home/krasen/morphometrics/.pixi/envs/default/lib/python3.12/site-packages/libpysal/weights/weights.py:1685: UserWarning: The weights matrix is not fully connected: \n",
      " There are 6 disconnected components.\n",
      "  w = W(neighbors, weights, ids, silence_warnings=silence_warnings)\n"
     ]
    },
    {
     "name": "stdout",
     "output_type": "stream",
     "text": [
      "Built nodes graph knn=1\n",
      "Built tess graph knn=1\n",
      "Built buildings graph knn=1\n",
      "Built streets graph knn=1\n",
      "Built enclosure graph knn=1\n",
      "Built nodes graph knn=1\n"
     ]
    },
    {
     "name": "stderr",
     "output_type": "stream",
     "text": [
      "/home/krasen/morphometrics/.pixi/envs/default/lib/python3.12/site-packages/libpysal/weights/weights.py:1685: UserWarning: The weights matrix is not fully connected: \n",
      " There are 9 disconnected components.\n",
      "  w = W(neighbors, weights, ids, silence_warnings=silence_warnings)\n"
     ]
    },
    {
     "name": "stdout",
     "output_type": "stream",
     "text": [
      "Built tess graph knn=1\n",
      "Built buildings graph knn=1\n",
      "Built streets graph knn=1\n",
      "Built enclosure graph knn=1\n",
      "Built nodes graph knn=1\n"
     ]
    },
    {
     "name": "stderr",
     "output_type": "stream",
     "text": [
      "/home/krasen/morphometrics/.pixi/envs/default/lib/python3.12/site-packages/libpysal/weights/weights.py:1685: UserWarning: The weights matrix is not fully connected: \n",
      " There are 3 disconnected components.\n",
      "  w = W(neighbors, weights, ids, silence_warnings=silence_warnings)\n"
     ]
    },
    {
     "name": "stdout",
     "output_type": "stream",
     "text": [
      "Built tess graph knn=1\n",
      "Built buildings graph knn=1\n",
      "Built streets graph knn=1\n",
      "Built enclosure graph knn=1\n"
     ]
    },
    {
     "name": "stderr",
     "output_type": "stream",
     "text": [
      "/home/krasen/morphometrics/.pixi/envs/default/lib/python3.12/site-packages/libpysal/weights/weights.py:1685: UserWarning: The weights matrix is not fully connected: \n",
      " There are 21 disconnected components.\n",
      "  w = W(neighbors, weights, ids, silence_warnings=silence_warnings)\n"
     ]
    },
    {
     "name": "stdout",
     "output_type": "stream",
     "text": [
      "Built nodes graph knn=1\n",
      "Built tess graph knn=1\n",
      "Built buildings graph knn=1\n",
      "Built streets graph knn=1\n",
      "Built enclosure graph knn=1\n"
     ]
    },
    {
     "name": "stderr",
     "output_type": "stream",
     "text": [
      "/home/krasen/morphometrics/.pixi/envs/default/lib/python3.12/site-packages/libpysal/weights/weights.py:1685: UserWarning: The weights matrix is not fully connected: \n",
      " There are 23 disconnected components.\n",
      "  w = W(neighbors, weights, ids, silence_warnings=silence_warnings)\n"
     ]
    },
    {
     "name": "stdout",
     "output_type": "stream",
     "text": [
      "Built nodes graph knn=1\n",
      "Built tess graph knn=1\n",
      "Built buildings graph knn=1\n",
      "Built streets graph knn=1\n",
      "Built enclosure graph knn=1\n",
      "Built nodes graph knn=1\n"
     ]
    },
    {
     "name": "stderr",
     "output_type": "stream",
     "text": [
      "/home/krasen/morphometrics/.pixi/envs/default/lib/python3.12/site-packages/libpysal/weights/weights.py:1685: UserWarning: The weights matrix is not fully connected: \n",
      " There are 2 disconnected components.\n",
      "  w = W(neighbors, weights, ids, silence_warnings=silence_warnings)\n"
     ]
    },
    {
     "name": "stdout",
     "output_type": "stream",
     "text": [
      "Built tess graph knn=1\n",
      "Built buildings graph knn=1\n",
      "Built streets graph knn=1\n",
      "Built enclosure graph knn=1\n",
      "Built nodes graph knn=1\n"
     ]
    },
    {
     "name": "stderr",
     "output_type": "stream",
     "text": [
      "/home/krasen/morphometrics/.pixi/envs/default/lib/python3.12/site-packages/libpysal/weights/weights.py:1685: UserWarning: The weights matrix is not fully connected: \n",
      " There are 13 disconnected components.\n",
      "  w = W(neighbors, weights, ids, silence_warnings=silence_warnings)\n"
     ]
    },
    {
     "name": "stdout",
     "output_type": "stream",
     "text": [
      "Built tess graph knn=1\n",
      "Built buildings graph knn=1\n",
      "Built streets graph knn=1\n",
      "Built enclosure graph knn=1\n",
      "Built nodes graph knn=1\n"
     ]
    },
    {
     "name": "stderr",
     "output_type": "stream",
     "text": [
      "/home/krasen/morphometrics/.pixi/envs/default/lib/python3.12/site-packages/libpysal/weights/weights.py:1685: UserWarning: The weights matrix is not fully connected: \n",
      " There are 8 disconnected components.\n",
      "  w = W(neighbors, weights, ids, silence_warnings=silence_warnings)\n"
     ]
    },
    {
     "name": "stdout",
     "output_type": "stream",
     "text": [
      "Built tess graph knn=1\n",
      "Built buildings graph knn=1\n",
      "Built streets graph knn=1\n",
      "Built enclosure graph knn=1\n"
     ]
    },
    {
     "name": "stderr",
     "output_type": "stream",
     "text": [
      "/home/krasen/morphometrics/.pixi/envs/default/lib/python3.12/site-packages/libpysal/weights/weights.py:1685: UserWarning: The weights matrix is not fully connected: \n",
      " There are 12 disconnected components.\n",
      "  w = W(neighbors, weights, ids, silence_warnings=silence_warnings)\n"
     ]
    },
    {
     "name": "stdout",
     "output_type": "stream",
     "text": [
      "Built nodes graph knn=1\n",
      "Built tess graph knn=1\n",
      "Built buildings graph knn=1\n",
      "Built streets graph knn=1\n",
      "Built enclosure graph knn=1\n",
      "Built nodes graph knn=1\n"
     ]
    },
    {
     "name": "stderr",
     "output_type": "stream",
     "text": [
      "/home/krasen/morphometrics/.pixi/envs/default/lib/python3.12/site-packages/libpysal/weights/weights.py:1685: UserWarning: The weights matrix is not fully connected: \n",
      " There are 26 disconnected components.\n",
      "  w = W(neighbors, weights, ids, silence_warnings=silence_warnings)\n"
     ]
    },
    {
     "name": "stdout",
     "output_type": "stream",
     "text": [
      "Built tess graph knn=1\n",
      "Built buildings graph knn=1\n",
      "Built streets graph knn=1\n",
      "Built enclosure graph knn=1\n",
      "Built nodes graph knn=1\n"
     ]
    },
    {
     "name": "stderr",
     "output_type": "stream",
     "text": [
      "/home/krasen/morphometrics/.pixi/envs/default/lib/python3.12/site-packages/libpysal/weights/weights.py:1685: UserWarning: The weights matrix is not fully connected: \n",
      " There are 8 disconnected components.\n",
      "  w = W(neighbors, weights, ids, silence_warnings=silence_warnings)\n"
     ]
    },
    {
     "name": "stdout",
     "output_type": "stream",
     "text": [
      "Built tess graph knn=1\n",
      "Built buildings graph knn=1\n",
      "Built streets graph knn=1\n",
      "Built enclosure graph knn=1\n"
     ]
    },
    {
     "name": "stderr",
     "output_type": "stream",
     "text": [
      "/home/krasen/morphometrics/.pixi/envs/default/lib/python3.12/site-packages/libpysal/weights/weights.py:1685: UserWarning: The weights matrix is not fully connected: \n",
      " There are 36 disconnected components.\n",
      "  w = W(neighbors, weights, ids, silence_warnings=silence_warnings)\n"
     ]
    },
    {
     "name": "stdout",
     "output_type": "stream",
     "text": [
      "Built nodes graph knn=1\n",
      "Built tess graph knn=1\n",
      "Built buildings graph knn=1\n",
      "Built streets graph knn=1\n",
      "Built enclosure graph knn=1\n"
     ]
    },
    {
     "name": "stderr",
     "output_type": "stream",
     "text": [
      "/home/krasen/morphometrics/.pixi/envs/default/lib/python3.12/site-packages/libpysal/weights/weights.py:1685: UserWarning: The weights matrix is not fully connected: \n",
      " There are 38 disconnected components.\n",
      "  w = W(neighbors, weights, ids, silence_warnings=silence_warnings)\n"
     ]
    },
    {
     "name": "stdout",
     "output_type": "stream",
     "text": [
      "Built nodes graph knn=1\n",
      "Built tess graph knn=1\n",
      "Built buildings graph knn=1\n",
      "Built streets graph knn=1\n",
      "Built enclosure graph knn=1\n"
     ]
    },
    {
     "name": "stderr",
     "output_type": "stream",
     "text": [
      "/home/krasen/morphometrics/.pixi/envs/default/lib/python3.12/site-packages/libpysal/weights/weights.py:1685: UserWarning: The weights matrix is not fully connected: \n",
      " There are 195 disconnected components.\n",
      "  w = W(neighbors, weights, ids, silence_warnings=silence_warnings)\n"
     ]
    },
    {
     "name": "stdout",
     "output_type": "stream",
     "text": [
      "Built nodes graph knn=1\n",
      "Built tess graph knn=1\n",
      "Built buildings graph knn=1\n",
      "Built streets graph knn=1\n",
      "Built enclosure graph knn=1\n"
     ]
    },
    {
     "name": "stderr",
     "output_type": "stream",
     "text": [
      "/home/krasen/morphometrics/.pixi/envs/default/lib/python3.12/site-packages/libpysal/weights/weights.py:1685: UserWarning: The weights matrix is not fully connected: \n",
      " There are 13 disconnected components.\n",
      "  w = W(neighbors, weights, ids, silence_warnings=silence_warnings)\n"
     ]
    },
    {
     "name": "stdout",
     "output_type": "stream",
     "text": [
      "Built nodes graph knn=1\n",
      "Built tess graph knn=1\n",
      "Built buildings graph knn=1\n",
      "Built streets graph knn=1\n",
      "Built enclosure graph knn=1\n"
     ]
    },
    {
     "name": "stderr",
     "output_type": "stream",
     "text": [
      "/home/krasen/morphometrics/.pixi/envs/default/lib/python3.12/site-packages/libpysal/weights/weights.py:1685: UserWarning: The weights matrix is not fully connected: \n",
      " There are 53 disconnected components.\n",
      "  w = W(neighbors, weights, ids, silence_warnings=silence_warnings)\n"
     ]
    },
    {
     "name": "stdout",
     "output_type": "stream",
     "text": [
      "Built nodes graph knn=1\n",
      "Built tess graph knn=1\n",
      "Built buildings graph knn=1\n",
      "Built streets graph knn=1\n",
      "Built enclosure graph knn=1\n",
      "Built nodes graph knn=1\n"
     ]
    },
    {
     "name": "stderr",
     "output_type": "stream",
     "text": [
      "/home/krasen/morphometrics/.pixi/envs/default/lib/python3.12/site-packages/libpysal/weights/weights.py:1685: UserWarning: The weights matrix is not fully connected: \n",
      " There are 12 disconnected components.\n",
      "  w = W(neighbors, weights, ids, silence_warnings=silence_warnings)\n"
     ]
    },
    {
     "name": "stdout",
     "output_type": "stream",
     "text": [
      "Built tess graph knn=1\n",
      "Built buildings graph knn=1\n",
      "Built streets graph knn=1\n",
      "Built enclosure graph knn=1\n",
      "Built nodes graph knn=1\n"
     ]
    },
    {
     "name": "stderr",
     "output_type": "stream",
     "text": [
      "/home/krasen/morphometrics/.pixi/envs/default/lib/python3.12/site-packages/libpysal/weights/weights.py:1685: UserWarning: The weights matrix is not fully connected: \n",
      " There are 4 disconnected components.\n",
      "  w = W(neighbors, weights, ids, silence_warnings=silence_warnings)\n"
     ]
    },
    {
     "name": "stdout",
     "output_type": "stream",
     "text": [
      "Built tess graph knn=1\n",
      "Built buildings graph knn=1\n",
      "Built streets graph knn=1\n",
      "Built enclosure graph knn=1\n"
     ]
    },
    {
     "name": "stderr",
     "output_type": "stream",
     "text": [
      "/home/krasen/morphometrics/.pixi/envs/default/lib/python3.12/site-packages/libpysal/weights/weights.py:1685: UserWarning: The weights matrix is not fully connected: \n",
      " There are 12 disconnected components.\n",
      "  w = W(neighbors, weights, ids, silence_warnings=silence_warnings)\n"
     ]
    },
    {
     "name": "stdout",
     "output_type": "stream",
     "text": [
      "Built nodes graph knn=1\n",
      "Built tess graph knn=1\n",
      "Built buildings graph knn=1\n",
      "Built streets graph knn=1\n",
      "Built enclosure graph knn=1\n"
     ]
    },
    {
     "name": "stderr",
     "output_type": "stream",
     "text": [
      "/home/krasen/morphometrics/.pixi/envs/default/lib/python3.12/site-packages/libpysal/weights/weights.py:1685: UserWarning: The weights matrix is not fully connected: \n",
      " There are 21 disconnected components.\n",
      "  w = W(neighbors, weights, ids, silence_warnings=silence_warnings)\n"
     ]
    },
    {
     "name": "stdout",
     "output_type": "stream",
     "text": [
      "Built nodes graph knn=1\n",
      "Built tess graph knn=1\n",
      "Built buildings graph knn=1\n",
      "Built streets graph knn=1\n",
      "Built enclosure graph knn=1\n",
      "Built nodes graph knn=1\n"
     ]
    },
    {
     "name": "stderr",
     "output_type": "stream",
     "text": [
      "/home/krasen/morphometrics/.pixi/envs/default/lib/python3.12/site-packages/libpysal/weights/weights.py:1685: UserWarning: The weights matrix is not fully connected: \n",
      " There are 4 disconnected components.\n",
      "  w = W(neighbors, weights, ids, silence_warnings=silence_warnings)\n"
     ]
    },
    {
     "name": "stdout",
     "output_type": "stream",
     "text": [
      "Built tess graph knn=1\n",
      "Built buildings graph knn=1\n",
      "Built streets graph knn=1\n",
      "Built enclosure graph knn=1\n"
     ]
    },
    {
     "name": "stderr",
     "output_type": "stream",
     "text": [
      "/home/krasen/morphometrics/.pixi/envs/default/lib/python3.12/site-packages/libpysal/weights/weights.py:1685: UserWarning: The weights matrix is not fully connected: \n",
      " There are 28 disconnected components.\n",
      "  w = W(neighbors, weights, ids, silence_warnings=silence_warnings)\n"
     ]
    },
    {
     "name": "stdout",
     "output_type": "stream",
     "text": [
      "Built nodes graph knn=1\n",
      "Built tess graph knn=1\n",
      "Built buildings graph knn=1\n",
      "Built streets graph knn=1\n",
      "Built enclosure graph knn=1\n"
     ]
    },
    {
     "name": "stderr",
     "output_type": "stream",
     "text": [
      "/home/krasen/morphometrics/.pixi/envs/default/lib/python3.12/site-packages/libpysal/weights/weights.py:1685: UserWarning: The weights matrix is not fully connected: \n",
      " There are 159 disconnected components.\n",
      "  w = W(neighbors, weights, ids, silence_warnings=silence_warnings)\n"
     ]
    },
    {
     "name": "stdout",
     "output_type": "stream",
     "text": [
      "Built nodes graph knn=1\n",
      "Built tess graph knn=1\n",
      "Built buildings graph knn=1\n",
      "Built streets graph knn=1\n",
      "Built enclosure graph knn=1\n",
      "Built nodes graph knn=1\n"
     ]
    },
    {
     "name": "stderr",
     "output_type": "stream",
     "text": [
      "/home/krasen/morphometrics/.pixi/envs/default/lib/python3.12/site-packages/libpysal/weights/weights.py:1685: UserWarning: The weights matrix is not fully connected: \n",
      " There are 20 disconnected components.\n",
      "  w = W(neighbors, weights, ids, silence_warnings=silence_warnings)\n"
     ]
    },
    {
     "name": "stdout",
     "output_type": "stream",
     "text": [
      "Built tess graph knn=1\n",
      "Built buildings graph knn=1\n",
      "Built streets graph knn=1\n",
      "Built enclosure graph knn=1\n",
      "Built nodes graph knn=1\n"
     ]
    },
    {
     "name": "stderr",
     "output_type": "stream",
     "text": [
      "/home/krasen/morphometrics/.pixi/envs/default/lib/python3.12/site-packages/libpysal/weights/weights.py:1685: UserWarning: The weights matrix is not fully connected: \n",
      " There are 13 disconnected components.\n",
      "  w = W(neighbors, weights, ids, silence_warnings=silence_warnings)\n"
     ]
    },
    {
     "name": "stdout",
     "output_type": "stream",
     "text": [
      "Built tess graph knn=1\n",
      "Built buildings graph knn=1\n",
      "Built streets graph knn=1\n",
      "Built enclosure graph knn=1\n"
     ]
    },
    {
     "name": "stderr",
     "output_type": "stream",
     "text": [
      "/home/krasen/morphometrics/.pixi/envs/default/lib/python3.12/site-packages/libpysal/weights/weights.py:1685: UserWarning: The weights matrix is not fully connected: \n",
      " There are 11 disconnected components.\n",
      "  w = W(neighbors, weights, ids, silence_warnings=silence_warnings)\n"
     ]
    },
    {
     "name": "stdout",
     "output_type": "stream",
     "text": [
      "Built nodes graph knn=1\n",
      "Built tess graph knn=1\n",
      "Built buildings graph knn=1\n",
      "Built streets graph knn=1\n",
      "Built enclosure graph knn=1\n"
     ]
    },
    {
     "name": "stderr",
     "output_type": "stream",
     "text": [
      "/home/krasen/morphometrics/.pixi/envs/default/lib/python3.12/site-packages/libpysal/weights/weights.py:1685: UserWarning: The weights matrix is not fully connected: \n",
      " There are 31 disconnected components.\n",
      "  w = W(neighbors, weights, ids, silence_warnings=silence_warnings)\n"
     ]
    },
    {
     "name": "stdout",
     "output_type": "stream",
     "text": [
      "Built nodes graph knn=1\n",
      "Built tess graph knn=1\n",
      "Built buildings graph knn=1\n",
      "Built streets graph knn=1\n",
      "Built enclosure graph knn=1\n"
     ]
    },
    {
     "name": "stderr",
     "output_type": "stream",
     "text": [
      "/home/krasen/morphometrics/.pixi/envs/default/lib/python3.12/site-packages/libpysal/weights/weights.py:1685: UserWarning: The weights matrix is not fully connected: \n",
      " There are 13 disconnected components.\n",
      "  w = W(neighbors, weights, ids, silence_warnings=silence_warnings)\n"
     ]
    },
    {
     "name": "stdout",
     "output_type": "stream",
     "text": [
      "Built nodes graph knn=1\n",
      "Built tess graph knn=1\n",
      "Built buildings graph knn=1\n",
      "Built streets graph knn=1\n",
      "Built enclosure graph knn=1\n"
     ]
    },
    {
     "name": "stderr",
     "output_type": "stream",
     "text": [
      "/home/krasen/morphometrics/.pixi/envs/default/lib/python3.12/site-packages/libpysal/weights/weights.py:1685: UserWarning: The weights matrix is not fully connected: \n",
      " There are 35 disconnected components.\n",
      "  w = W(neighbors, weights, ids, silence_warnings=silence_warnings)\n"
     ]
    },
    {
     "name": "stdout",
     "output_type": "stream",
     "text": [
      "Built nodes graph knn=1\n",
      "Built tess graph knn=1\n",
      "Built buildings graph knn=1\n",
      "Built streets graph knn=1\n",
      "Built enclosure graph knn=1\n"
     ]
    },
    {
     "name": "stderr",
     "output_type": "stream",
     "text": [
      "/home/krasen/morphometrics/.pixi/envs/default/lib/python3.12/site-packages/libpysal/weights/weights.py:1685: UserWarning: The weights matrix is not fully connected: \n",
      " There are 21 disconnected components.\n",
      "  w = W(neighbors, weights, ids, silence_warnings=silence_warnings)\n"
     ]
    },
    {
     "name": "stdout",
     "output_type": "stream",
     "text": [
      "Built nodes graph knn=1\n",
      "Built tess graph knn=1\n",
      "Built buildings graph knn=1\n",
      "Built streets graph knn=1\n",
      "Built enclosure graph knn=1\n",
      "Built nodes graph knn=1\n"
     ]
    },
    {
     "name": "stderr",
     "output_type": "stream",
     "text": [
      "/home/krasen/morphometrics/.pixi/envs/default/lib/python3.12/site-packages/libpysal/weights/weights.py:1685: UserWarning: The weights matrix is not fully connected: \n",
      " There are 2 disconnected components.\n",
      "  w = W(neighbors, weights, ids, silence_warnings=silence_warnings)\n"
     ]
    },
    {
     "name": "stdout",
     "output_type": "stream",
     "text": [
      "Built tess graph knn=1\n",
      "Built buildings graph knn=1\n",
      "Built streets graph knn=1\n",
      "Built enclosure graph knn=1\n"
     ]
    },
    {
     "name": "stderr",
     "output_type": "stream",
     "text": [
      "/home/krasen/morphometrics/.pixi/envs/default/lib/python3.12/site-packages/libpysal/weights/weights.py:1685: UserWarning: The weights matrix is not fully connected: \n",
      " There are 21 disconnected components.\n",
      "  w = W(neighbors, weights, ids, silence_warnings=silence_warnings)\n"
     ]
    },
    {
     "name": "stdout",
     "output_type": "stream",
     "text": [
      "Built nodes graph knn=1\n",
      "Built tess graph knn=1\n",
      "Built buildings graph knn=1\n",
      "Built streets graph knn=1\n",
      "Built enclosure graph knn=1\n",
      "Built nodes graph knn=1\n"
     ]
    },
    {
     "name": "stderr",
     "output_type": "stream",
     "text": [
      "/home/krasen/morphometrics/.pixi/envs/default/lib/python3.12/site-packages/libpysal/weights/weights.py:1685: UserWarning: The weights matrix is not fully connected: \n",
      " There are 7 disconnected components.\n",
      "  w = W(neighbors, weights, ids, silence_warnings=silence_warnings)\n"
     ]
    },
    {
     "name": "stdout",
     "output_type": "stream",
     "text": [
      "Built tess graph knn=1\n",
      "Built buildings graph knn=1\n",
      "Built streets graph knn=1\n",
      "Built enclosure graph knn=1\n"
     ]
    },
    {
     "name": "stderr",
     "output_type": "stream",
     "text": [
      "/home/krasen/morphometrics/.pixi/envs/default/lib/python3.12/site-packages/libpysal/weights/weights.py:1685: UserWarning: The weights matrix is not fully connected: \n",
      " There are 33 disconnected components.\n",
      "  w = W(neighbors, weights, ids, silence_warnings=silence_warnings)\n"
     ]
    },
    {
     "name": "stdout",
     "output_type": "stream",
     "text": [
      "Built nodes graph knn=1\n",
      "Built tess graph knn=1\n",
      "Built buildings graph knn=1\n",
      "Built streets graph knn=1\n",
      "Built enclosure graph knn=1\n"
     ]
    },
    {
     "name": "stderr",
     "output_type": "stream",
     "text": [
      "/home/krasen/morphometrics/.pixi/envs/default/lib/python3.12/site-packages/libpysal/weights/weights.py:1685: UserWarning: The weights matrix is not fully connected: \n",
      " There are 36 disconnected components.\n",
      "  w = W(neighbors, weights, ids, silence_warnings=silence_warnings)\n"
     ]
    },
    {
     "name": "stdout",
     "output_type": "stream",
     "text": [
      "Built nodes graph knn=1\n",
      "Built tess graph knn=1\n",
      "Built buildings graph knn=1\n",
      "Built streets graph knn=1\n",
      "Built enclosure graph knn=1\n",
      "Built nodes graph knn=1\n"
     ]
    },
    {
     "name": "stderr",
     "output_type": "stream",
     "text": [
      "/home/krasen/morphometrics/.pixi/envs/default/lib/python3.12/site-packages/libpysal/weights/weights.py:1685: UserWarning: The weights matrix is not fully connected: \n",
      " There are 20 disconnected components.\n",
      "  w = W(neighbors, weights, ids, silence_warnings=silence_warnings)\n"
     ]
    },
    {
     "name": "stdout",
     "output_type": "stream",
     "text": [
      "Built tess graph knn=1\n",
      "Built buildings graph knn=1\n",
      "Built streets graph knn=1\n",
      "Built enclosure graph knn=1\n",
      "Built nodes graph knn=1\n"
     ]
    },
    {
     "name": "stderr",
     "output_type": "stream",
     "text": [
      "/home/krasen/morphometrics/.pixi/envs/default/lib/python3.12/site-packages/libpysal/weights/weights.py:1685: UserWarning: The weights matrix is not fully connected: \n",
      " There are 12 disconnected components.\n",
      "  w = W(neighbors, weights, ids, silence_warnings=silence_warnings)\n"
     ]
    },
    {
     "name": "stdout",
     "output_type": "stream",
     "text": [
      "Built tess graph knn=1\n",
      "Built buildings graph knn=1\n",
      "Built streets graph knn=1\n",
      "Built enclosure graph knn=1\n"
     ]
    },
    {
     "name": "stderr",
     "output_type": "stream",
     "text": [
      "/home/krasen/morphometrics/.pixi/envs/default/lib/python3.12/site-packages/libpysal/weights/weights.py:1685: UserWarning: The weights matrix is not fully connected: \n",
      " There are 31 disconnected components.\n",
      "  w = W(neighbors, weights, ids, silence_warnings=silence_warnings)\n"
     ]
    },
    {
     "name": "stdout",
     "output_type": "stream",
     "text": [
      "Built nodes graph knn=1\n",
      "Built tess graph knn=1\n",
      "Built buildings graph knn=1\n",
      "Built streets graph knn=1\n",
      "Built enclosure graph knn=1\n",
      "Built nodes graph knn=1\n"
     ]
    },
    {
     "name": "stderr",
     "output_type": "stream",
     "text": [
      "/home/krasen/morphometrics/.pixi/envs/default/lib/python3.12/site-packages/libpysal/weights/weights.py:1685: UserWarning: The weights matrix is not fully connected: \n",
      " There are 5 disconnected components.\n",
      "  w = W(neighbors, weights, ids, silence_warnings=silence_warnings)\n"
     ]
    },
    {
     "name": "stdout",
     "output_type": "stream",
     "text": [
      "Built tess graph knn=1\n",
      "Built buildings graph knn=1\n",
      "Built streets graph knn=1\n",
      "Built enclosure graph knn=1\n"
     ]
    },
    {
     "name": "stderr",
     "output_type": "stream",
     "text": [
      "/home/krasen/morphometrics/.pixi/envs/default/lib/python3.12/site-packages/libpysal/weights/weights.py:1685: UserWarning: The weights matrix is not fully connected: \n",
      " There are 3 disconnected components.\n",
      "  w = W(neighbors, weights, ids, silence_warnings=silence_warnings)\n"
     ]
    },
    {
     "name": "stdout",
     "output_type": "stream",
     "text": [
      "Built nodes graph knn=1\n",
      "Built tess graph knn=1\n",
      "Built buildings graph knn=1\n",
      "Built streets graph knn=1\n",
      "Built enclosure graph knn=1\n",
      "Built nodes graph knn=1\n"
     ]
    },
    {
     "name": "stderr",
     "output_type": "stream",
     "text": [
      "/home/krasen/morphometrics/.pixi/envs/default/lib/python3.12/site-packages/libpysal/weights/weights.py:1685: UserWarning: The weights matrix is not fully connected: \n",
      " There are 7 disconnected components.\n",
      "  w = W(neighbors, weights, ids, silence_warnings=silence_warnings)\n"
     ]
    },
    {
     "name": "stdout",
     "output_type": "stream",
     "text": [
      "Built tess graph knn=1\n",
      "Built buildings graph knn=1\n",
      "Built streets graph knn=1\n",
      "Built enclosure graph knn=1\n"
     ]
    },
    {
     "name": "stderr",
     "output_type": "stream",
     "text": [
      "/home/krasen/morphometrics/.pixi/envs/default/lib/python3.12/site-packages/libpysal/weights/weights.py:1685: UserWarning: The weights matrix is not fully connected: \n",
      " There are 68 disconnected components.\n",
      "  w = W(neighbors, weights, ids, silence_warnings=silence_warnings)\n"
     ]
    },
    {
     "name": "stdout",
     "output_type": "stream",
     "text": [
      "Built nodes graph knn=1\n",
      "Built tess graph knn=1\n",
      "Built buildings graph knn=1\n",
      "Built streets graph knn=1\n",
      "Built enclosure graph knn=1\n",
      "Built nodes graph knn=1\n"
     ]
    },
    {
     "name": "stderr",
     "output_type": "stream",
     "text": [
      "/home/krasen/morphometrics/.pixi/envs/default/lib/python3.12/site-packages/libpysal/weights/weights.py:1685: UserWarning: The weights matrix is not fully connected: \n",
      " There are 15 disconnected components.\n",
      "  w = W(neighbors, weights, ids, silence_warnings=silence_warnings)\n"
     ]
    },
    {
     "name": "stdout",
     "output_type": "stream",
     "text": [
      "Built tess graph knn=1\n",
      "Built buildings graph knn=1\n",
      "Built streets graph knn=1\n",
      "Built enclosure graph knn=1\n"
     ]
    },
    {
     "name": "stderr",
     "output_type": "stream",
     "text": [
      "/home/krasen/morphometrics/.pixi/envs/default/lib/python3.12/site-packages/libpysal/weights/weights.py:1685: UserWarning: The weights matrix is not fully connected: \n",
      " There are 18 disconnected components.\n",
      "  w = W(neighbors, weights, ids, silence_warnings=silence_warnings)\n"
     ]
    },
    {
     "name": "stdout",
     "output_type": "stream",
     "text": [
      "Built nodes graph knn=1\n",
      "Built tess graph knn=1\n",
      "Built buildings graph knn=1\n",
      "Built streets graph knn=1\n",
      "Built enclosure graph knn=1\n",
      "Built nodes graph knn=1\n"
     ]
    },
    {
     "name": "stderr",
     "output_type": "stream",
     "text": [
      "/home/krasen/morphometrics/.pixi/envs/default/lib/python3.12/site-packages/libpysal/weights/weights.py:1685: UserWarning: The weights matrix is not fully connected: \n",
      " There are 11 disconnected components.\n",
      "  w = W(neighbors, weights, ids, silence_warnings=silence_warnings)\n"
     ]
    },
    {
     "name": "stdout",
     "output_type": "stream",
     "text": [
      "Built tess graph knn=1\n",
      "Built buildings graph knn=1\n",
      "Built streets graph knn=1\n",
      "Built enclosure graph knn=1\n"
     ]
    },
    {
     "name": "stderr",
     "output_type": "stream",
     "text": [
      "/home/krasen/morphometrics/.pixi/envs/default/lib/python3.12/site-packages/libpysal/weights/weights.py:1685: UserWarning: The weights matrix is not fully connected: \n",
      " There are 10 disconnected components.\n",
      "  w = W(neighbors, weights, ids, silence_warnings=silence_warnings)\n"
     ]
    },
    {
     "name": "stdout",
     "output_type": "stream",
     "text": [
      "Built nodes graph knn=1\n",
      "Built tess graph knn=1\n",
      "Built buildings graph knn=1\n",
      "Built streets graph knn=1\n",
      "Built enclosure graph knn=1\n",
      "Built nodes graph knn=1\n"
     ]
    },
    {
     "name": "stderr",
     "output_type": "stream",
     "text": [
      "/home/krasen/morphometrics/.pixi/envs/default/lib/python3.12/site-packages/libpysal/weights/weights.py:1685: UserWarning: The weights matrix is not fully connected: \n",
      " There are 6 disconnected components.\n",
      "  w = W(neighbors, weights, ids, silence_warnings=silence_warnings)\n"
     ]
    },
    {
     "name": "stdout",
     "output_type": "stream",
     "text": [
      "Built tess graph knn=1\n",
      "Built buildings graph knn=1\n",
      "Built streets graph knn=1\n",
      "Built enclosure graph knn=1\n"
     ]
    },
    {
     "name": "stderr",
     "output_type": "stream",
     "text": [
      "/home/krasen/morphometrics/.pixi/envs/default/lib/python3.12/site-packages/libpysal/weights/weights.py:1685: UserWarning: The weights matrix is not fully connected: \n",
      " There are 20 disconnected components.\n",
      "  w = W(neighbors, weights, ids, silence_warnings=silence_warnings)\n"
     ]
    },
    {
     "name": "stdout",
     "output_type": "stream",
     "text": [
      "Built nodes graph knn=1\n",
      "Built tess graph knn=1\n",
      "Built buildings graph knn=1\n",
      "Built streets graph knn=1\n",
      "Built enclosure graph knn=1\n"
     ]
    },
    {
     "name": "stderr",
     "output_type": "stream",
     "text": [
      "/home/krasen/morphometrics/.pixi/envs/default/lib/python3.12/site-packages/libpysal/weights/weights.py:1685: UserWarning: The weights matrix is not fully connected: \n",
      " There are 22 disconnected components.\n",
      "  w = W(neighbors, weights, ids, silence_warnings=silence_warnings)\n"
     ]
    },
    {
     "name": "stdout",
     "output_type": "stream",
     "text": [
      "Built nodes graph knn=1\n",
      "Built tess graph knn=1\n",
      "Built buildings graph knn=1\n",
      "Built streets graph knn=1\n",
      "Built enclosure graph knn=1\n"
     ]
    },
    {
     "name": "stderr",
     "output_type": "stream",
     "text": [
      "/home/krasen/morphometrics/.pixi/envs/default/lib/python3.12/site-packages/libpysal/weights/weights.py:1685: UserWarning: The weights matrix is not fully connected: \n",
      " There are 8 disconnected components.\n",
      "  w = W(neighbors, weights, ids, silence_warnings=silence_warnings)\n"
     ]
    },
    {
     "name": "stdout",
     "output_type": "stream",
     "text": [
      "Built nodes graph knn=1\n",
      "Built tess graph knn=1\n",
      "Built buildings graph knn=1\n",
      "Built streets graph knn=1\n",
      "Built enclosure graph knn=1\n"
     ]
    },
    {
     "name": "stderr",
     "output_type": "stream",
     "text": [
      "/home/krasen/morphometrics/.pixi/envs/default/lib/python3.12/site-packages/libpysal/weights/weights.py:1685: UserWarning: The weights matrix is not fully connected: \n",
      " There are 246 disconnected components.\n",
      "  w = W(neighbors, weights, ids, silence_warnings=silence_warnings)\n"
     ]
    },
    {
     "name": "stdout",
     "output_type": "stream",
     "text": [
      "Built nodes graph knn=1\n",
      "Built tess graph knn=1\n",
      "Built buildings graph knn=1\n",
      "Built streets graph knn=1\n",
      "Built enclosure graph knn=1\n"
     ]
    },
    {
     "name": "stderr",
     "output_type": "stream",
     "text": [
      "/home/krasen/morphometrics/.pixi/envs/default/lib/python3.12/site-packages/libpysal/weights/weights.py:1685: UserWarning: The weights matrix is not fully connected: \n",
      " There are 10 disconnected components.\n",
      "  w = W(neighbors, weights, ids, silence_warnings=silence_warnings)\n"
     ]
    },
    {
     "name": "stdout",
     "output_type": "stream",
     "text": [
      "Built nodes graph knn=1\n",
      "Built tess graph knn=1\n",
      "Built buildings graph knn=1\n",
      "Built streets graph knn=1\n",
      "Built enclosure graph knn=1\n"
     ]
    },
    {
     "name": "stderr",
     "output_type": "stream",
     "text": [
      "/home/krasen/morphometrics/.pixi/envs/default/lib/python3.12/site-packages/libpysal/weights/weights.py:1685: UserWarning: The weights matrix is not fully connected: \n",
      " There are 11 disconnected components.\n",
      "  w = W(neighbors, weights, ids, silence_warnings=silence_warnings)\n"
     ]
    },
    {
     "name": "stdout",
     "output_type": "stream",
     "text": [
      "Built nodes graph knn=1\n",
      "Built tess graph knn=1\n",
      "Built buildings graph knn=1\n",
      "Built streets graph knn=1\n",
      "Built enclosure graph knn=1\n"
     ]
    },
    {
     "name": "stderr",
     "output_type": "stream",
     "text": [
      "/home/krasen/morphometrics/.pixi/envs/default/lib/python3.12/site-packages/libpysal/weights/weights.py:1685: UserWarning: The weights matrix is not fully connected: \n",
      " There are 16 disconnected components.\n",
      "  w = W(neighbors, weights, ids, silence_warnings=silence_warnings)\n"
     ]
    },
    {
     "name": "stdout",
     "output_type": "stream",
     "text": [
      "Built nodes graph knn=1\n",
      "Built tess graph knn=1\n",
      "Built buildings graph knn=1\n",
      "Built streets graph knn=1\n",
      "Built enclosure graph knn=1\n"
     ]
    },
    {
     "name": "stderr",
     "output_type": "stream",
     "text": [
      "/home/krasen/morphometrics/.pixi/envs/default/lib/python3.12/site-packages/libpysal/weights/weights.py:1685: UserWarning: The weights matrix is not fully connected: \n",
      " There are 9 disconnected components.\n",
      "  w = W(neighbors, weights, ids, silence_warnings=silence_warnings)\n"
     ]
    },
    {
     "name": "stdout",
     "output_type": "stream",
     "text": [
      "Built nodes graph knn=1\n",
      "Built tess graph knn=1\n",
      "Built buildings graph knn=1\n",
      "Built streets graph knn=1\n",
      "Built enclosure graph knn=1\n",
      "Built nodes graph knn=1\n"
     ]
    },
    {
     "name": "stderr",
     "output_type": "stream",
     "text": [
      "/home/krasen/morphometrics/.pixi/envs/default/lib/python3.12/site-packages/libpysal/weights/weights.py:1685: UserWarning: The weights matrix is not fully connected: \n",
      " There are 13 disconnected components.\n",
      "  w = W(neighbors, weights, ids, silence_warnings=silence_warnings)\n"
     ]
    },
    {
     "name": "stdout",
     "output_type": "stream",
     "text": [
      "Built tess graph knn=1\n",
      "Built buildings graph knn=1\n",
      "Built streets graph knn=1\n",
      "Built enclosure graph knn=1\n",
      "Built nodes graph knn=1\n"
     ]
    },
    {
     "name": "stderr",
     "output_type": "stream",
     "text": [
      "/home/krasen/morphometrics/.pixi/envs/default/lib/python3.12/site-packages/libpysal/weights/weights.py:1685: UserWarning: The weights matrix is not fully connected: \n",
      " There are 21 disconnected components.\n",
      "  w = W(neighbors, weights, ids, silence_warnings=silence_warnings)\n"
     ]
    },
    {
     "name": "stdout",
     "output_type": "stream",
     "text": [
      "Built tess graph knn=1\n",
      "Built buildings graph knn=1\n",
      "Built streets graph knn=1\n",
      "Built enclosure graph knn=1\n"
     ]
    },
    {
     "name": "stderr",
     "output_type": "stream",
     "text": [
      "/home/krasen/morphometrics/.pixi/envs/default/lib/python3.12/site-packages/libpysal/weights/weights.py:1685: UserWarning: The weights matrix is not fully connected: \n",
      " There are 37 disconnected components.\n",
      "  w = W(neighbors, weights, ids, silence_warnings=silence_warnings)\n"
     ]
    },
    {
     "name": "stdout",
     "output_type": "stream",
     "text": [
      "Built nodes graph knn=1\n",
      "Built tess graph knn=1\n",
      "Built buildings graph knn=1\n",
      "Built streets graph knn=1\n",
      "Built enclosure graph knn=1\n"
     ]
    },
    {
     "name": "stderr",
     "output_type": "stream",
     "text": [
      "/home/krasen/morphometrics/.pixi/envs/default/lib/python3.12/site-packages/libpysal/weights/weights.py:1685: UserWarning: The weights matrix is not fully connected: \n",
      " There are 17 disconnected components.\n",
      "  w = W(neighbors, weights, ids, silence_warnings=silence_warnings)\n"
     ]
    },
    {
     "name": "stdout",
     "output_type": "stream",
     "text": [
      "Built nodes graph knn=1\n",
      "Built tess graph knn=1\n",
      "Built buildings graph knn=1\n",
      "Built streets graph knn=1\n",
      "Built enclosure graph knn=1\n"
     ]
    },
    {
     "name": "stderr",
     "output_type": "stream",
     "text": [
      "/home/krasen/morphometrics/.pixi/envs/default/lib/python3.12/site-packages/libpysal/weights/weights.py:1685: UserWarning: The weights matrix is not fully connected: \n",
      " There are 69 disconnected components.\n",
      "  w = W(neighbors, weights, ids, silence_warnings=silence_warnings)\n"
     ]
    },
    {
     "name": "stdout",
     "output_type": "stream",
     "text": [
      "Built nodes graph knn=1\n",
      "Built tess graph knn=1\n",
      "Built buildings graph knn=1\n",
      "Built streets graph knn=1\n",
      "Built enclosure graph knn=1\n",
      "Built nodes graph knn=1\n"
     ]
    },
    {
     "name": "stderr",
     "output_type": "stream",
     "text": [
      "/home/krasen/morphometrics/.pixi/envs/default/lib/python3.12/site-packages/libpysal/weights/weights.py:1685: UserWarning: The weights matrix is not fully connected: \n",
      " There are 5 disconnected components.\n",
      "  w = W(neighbors, weights, ids, silence_warnings=silence_warnings)\n"
     ]
    },
    {
     "name": "stdout",
     "output_type": "stream",
     "text": [
      "Built tess graph knn=1\n",
      "Built buildings graph knn=1\n",
      "Built streets graph knn=1\n",
      "Built enclosure graph knn=1\n"
     ]
    },
    {
     "name": "stderr",
     "output_type": "stream",
     "text": [
      "/home/krasen/morphometrics/.pixi/envs/default/lib/python3.12/site-packages/libpysal/weights/weights.py:1685: UserWarning: The weights matrix is not fully connected: \n",
      " There are 11 disconnected components.\n",
      "  w = W(neighbors, weights, ids, silence_warnings=silence_warnings)\n"
     ]
    },
    {
     "name": "stdout",
     "output_type": "stream",
     "text": [
      "Built nodes graph knn=1\n",
      "Built tess graph knn=1\n",
      "Built buildings graph knn=1\n",
      "Built streets graph knn=1\n",
      "Built enclosure graph knn=1\n",
      "Built nodes graph knn=1\n"
     ]
    },
    {
     "name": "stderr",
     "output_type": "stream",
     "text": [
      "/home/krasen/morphometrics/.pixi/envs/default/lib/python3.12/site-packages/libpysal/weights/weights.py:1685: UserWarning: The weights matrix is not fully connected: \n",
      " There are 8 disconnected components.\n",
      "  w = W(neighbors, weights, ids, silence_warnings=silence_warnings)\n"
     ]
    },
    {
     "name": "stdout",
     "output_type": "stream",
     "text": [
      "Built tess graph knn=1\n",
      "Built buildings graph knn=1\n",
      "Built streets graph knn=1\n",
      "Built enclosure graph knn=1\n",
      "Built nodes graph knn=1\n"
     ]
    },
    {
     "name": "stderr",
     "output_type": "stream",
     "text": [
      "/home/krasen/morphometrics/.pixi/envs/default/lib/python3.12/site-packages/libpysal/weights/weights.py:1685: UserWarning: The weights matrix is not fully connected: \n",
      " There are 18 disconnected components.\n",
      "  w = W(neighbors, weights, ids, silence_warnings=silence_warnings)\n"
     ]
    },
    {
     "name": "stdout",
     "output_type": "stream",
     "text": [
      "Built tess graph knn=1\n",
      "Built buildings graph knn=1\n",
      "Built streets graph knn=1\n",
      "Built enclosure graph knn=1\n"
     ]
    },
    {
     "name": "stderr",
     "output_type": "stream",
     "text": [
      "/home/krasen/morphometrics/.pixi/envs/default/lib/python3.12/site-packages/libpysal/weights/weights.py:1685: UserWarning: The weights matrix is not fully connected: \n",
      " There are 6 disconnected components.\n",
      "  w = W(neighbors, weights, ids, silence_warnings=silence_warnings)\n"
     ]
    },
    {
     "name": "stdout",
     "output_type": "stream",
     "text": [
      "Built nodes graph knn=1\n",
      "Built tess graph knn=1\n",
      "Built buildings graph knn=1\n",
      "Built streets graph knn=1\n",
      "Built enclosure graph knn=1\n"
     ]
    },
    {
     "name": "stderr",
     "output_type": "stream",
     "text": [
      "/home/krasen/morphometrics/.pixi/envs/default/lib/python3.12/site-packages/libpysal/weights/weights.py:1685: UserWarning: The weights matrix is not fully connected: \n",
      " There are 122 disconnected components.\n",
      "  w = W(neighbors, weights, ids, silence_warnings=silence_warnings)\n"
     ]
    },
    {
     "name": "stdout",
     "output_type": "stream",
     "text": [
      "Built nodes graph knn=1\n",
      "Built tess graph knn=1\n",
      "Built buildings graph knn=1\n",
      "Built streets graph knn=1\n",
      "Built enclosure graph knn=1\n"
     ]
    },
    {
     "name": "stderr",
     "output_type": "stream",
     "text": [
      "/home/krasen/morphometrics/.pixi/envs/default/lib/python3.12/site-packages/libpysal/weights/weights.py:1685: UserWarning: The weights matrix is not fully connected: \n",
      " There are 26 disconnected components.\n",
      "  w = W(neighbors, weights, ids, silence_warnings=silence_warnings)\n"
     ]
    },
    {
     "name": "stdout",
     "output_type": "stream",
     "text": [
      "Built nodes graph knn=1\n",
      "Built tess graph knn=1\n",
      "Built buildings graph knn=1\n",
      "Built streets graph knn=1\n",
      "Built enclosure graph knn=1\n"
     ]
    },
    {
     "name": "stderr",
     "output_type": "stream",
     "text": [
      "/home/krasen/morphometrics/.pixi/envs/default/lib/python3.12/site-packages/libpysal/weights/weights.py:1685: UserWarning: The weights matrix is not fully connected: \n",
      " There are 12 disconnected components.\n",
      "  w = W(neighbors, weights, ids, silence_warnings=silence_warnings)\n"
     ]
    },
    {
     "name": "stdout",
     "output_type": "stream",
     "text": [
      "Built nodes graph knn=1\n",
      "Built tess graph knn=1\n",
      "Built buildings graph knn=1\n",
      "Built streets graph knn=1\n",
      "Built enclosure graph knn=1\n"
     ]
    },
    {
     "name": "stderr",
     "output_type": "stream",
     "text": [
      "/home/krasen/morphometrics/.pixi/envs/default/lib/python3.12/site-packages/libpysal/weights/weights.py:1685: UserWarning: The weights matrix is not fully connected: \n",
      " There are 12 disconnected components.\n",
      "  w = W(neighbors, weights, ids, silence_warnings=silence_warnings)\n"
     ]
    },
    {
     "name": "stdout",
     "output_type": "stream",
     "text": [
      "Built nodes graph knn=1\n",
      "Built tess graph knn=1\n",
      "Built buildings graph knn=1\n",
      "Built streets graph knn=1\n",
      "Built enclosure graph knn=1\n",
      "Built nodes graph knn=1\n"
     ]
    },
    {
     "name": "stderr",
     "output_type": "stream",
     "text": [
      "/home/krasen/morphometrics/.pixi/envs/default/lib/python3.12/site-packages/libpysal/weights/weights.py:1685: UserWarning: The weights matrix is not fully connected: \n",
      " There are 30 disconnected components.\n",
      "  w = W(neighbors, weights, ids, silence_warnings=silence_warnings)\n"
     ]
    },
    {
     "name": "stdout",
     "output_type": "stream",
     "text": [
      "Built tess graph knn=1\n",
      "Built buildings graph knn=1\n",
      "Built streets graph knn=1\n",
      "Built enclosure graph knn=1\n",
      "Built nodes graph knn=1\n"
     ]
    },
    {
     "name": "stderr",
     "output_type": "stream",
     "text": [
      "/home/krasen/morphometrics/.pixi/envs/default/lib/python3.12/site-packages/libpysal/weights/weights.py:1685: UserWarning: The weights matrix is not fully connected: \n",
      " There are 16 disconnected components.\n",
      "  w = W(neighbors, weights, ids, silence_warnings=silence_warnings)\n"
     ]
    },
    {
     "name": "stdout",
     "output_type": "stream",
     "text": [
      "Built tess graph knn=1\n",
      "Built buildings graph knn=1\n",
      "Built streets graph knn=1\n",
      "Built enclosure graph knn=1\n"
     ]
    },
    {
     "name": "stderr",
     "output_type": "stream",
     "text": [
      "/home/krasen/morphometrics/.pixi/envs/default/lib/python3.12/site-packages/libpysal/weights/weights.py:1685: UserWarning: The weights matrix is not fully connected: \n",
      " There are 9 disconnected components.\n",
      "  w = W(neighbors, weights, ids, silence_warnings=silence_warnings)\n"
     ]
    },
    {
     "name": "stdout",
     "output_type": "stream",
     "text": [
      "Built nodes graph knn=1\n",
      "Built tess graph knn=1\n",
      "Built buildings graph knn=1\n",
      "Built streets graph knn=1\n",
      "Built enclosure graph knn=1\n"
     ]
    },
    {
     "name": "stderr",
     "output_type": "stream",
     "text": [
      "/home/krasen/morphometrics/.pixi/envs/default/lib/python3.12/site-packages/libpysal/weights/weights.py:1685: UserWarning: The weights matrix is not fully connected: \n",
      " There are 38 disconnected components.\n",
      "  w = W(neighbors, weights, ids, silence_warnings=silence_warnings)\n"
     ]
    },
    {
     "name": "stdout",
     "output_type": "stream",
     "text": [
      "Built nodes graph knn=1\n",
      "Built tess graph knn=1\n",
      "Built buildings graph knn=1\n",
      "Built streets graph knn=1\n",
      "Built enclosure graph knn=1\n",
      "Built nodes graph knn=1\n"
     ]
    },
    {
     "name": "stderr",
     "output_type": "stream",
     "text": [
      "/home/krasen/morphometrics/.pixi/envs/default/lib/python3.12/site-packages/libpysal/weights/weights.py:1685: UserWarning: The weights matrix is not fully connected: \n",
      " There are 12 disconnected components.\n",
      "  w = W(neighbors, weights, ids, silence_warnings=silence_warnings)\n"
     ]
    },
    {
     "name": "stdout",
     "output_type": "stream",
     "text": [
      "Built tess graph knn=1\n",
      "Built buildings graph knn=1\n",
      "Built streets graph knn=1\n",
      "Built enclosure graph knn=1\n"
     ]
    },
    {
     "name": "stderr",
     "output_type": "stream",
     "text": [
      "/home/krasen/morphometrics/.pixi/envs/default/lib/python3.12/site-packages/libpysal/weights/weights.py:1685: UserWarning: The weights matrix is not fully connected: \n",
      " There are 20 disconnected components.\n",
      "  w = W(neighbors, weights, ids, silence_warnings=silence_warnings)\n"
     ]
    },
    {
     "name": "stdout",
     "output_type": "stream",
     "text": [
      "Built nodes graph knn=1\n",
      "Built tess graph knn=1\n",
      "Built buildings graph knn=1\n",
      "Built streets graph knn=1\n",
      "Built enclosure graph knn=1\n",
      "Built nodes graph knn=1\n"
     ]
    },
    {
     "name": "stderr",
     "output_type": "stream",
     "text": [
      "/home/krasen/morphometrics/.pixi/envs/default/lib/python3.12/site-packages/libpysal/weights/weights.py:1685: UserWarning: The weights matrix is not fully connected: \n",
      " There are 6 disconnected components.\n",
      "  w = W(neighbors, weights, ids, silence_warnings=silence_warnings)\n"
     ]
    },
    {
     "name": "stdout",
     "output_type": "stream",
     "text": [
      "Built tess graph knn=1\n",
      "Built buildings graph knn=1\n",
      "Built streets graph knn=1\n",
      "Built enclosure graph knn=1\n"
     ]
    },
    {
     "name": "stderr",
     "output_type": "stream",
     "text": [
      "/home/krasen/morphometrics/.pixi/envs/default/lib/python3.12/site-packages/libpysal/weights/weights.py:1685: UserWarning: The weights matrix is not fully connected: \n",
      " There are 11 disconnected components.\n",
      "  w = W(neighbors, weights, ids, silence_warnings=silence_warnings)\n"
     ]
    },
    {
     "name": "stdout",
     "output_type": "stream",
     "text": [
      "Built nodes graph knn=1\n",
      "Built tess graph knn=1\n",
      "Built buildings graph knn=1\n",
      "Built streets graph knn=1\n",
      "Built enclosure graph knn=1\n"
     ]
    },
    {
     "name": "stderr",
     "output_type": "stream",
     "text": [
      "/home/krasen/morphometrics/.pixi/envs/default/lib/python3.12/site-packages/libpysal/weights/weights.py:1685: UserWarning: The weights matrix is not fully connected: \n",
      " There are 23 disconnected components.\n",
      "  w = W(neighbors, weights, ids, silence_warnings=silence_warnings)\n"
     ]
    },
    {
     "name": "stdout",
     "output_type": "stream",
     "text": [
      "Built nodes graph knn=1\n",
      "Built tess graph knn=1\n",
      "Built buildings graph knn=1\n",
      "Built streets graph knn=1\n",
      "Built enclosure graph knn=1\n"
     ]
    },
    {
     "name": "stderr",
     "output_type": "stream",
     "text": [
      "/home/krasen/morphometrics/.pixi/envs/default/lib/python3.12/site-packages/libpysal/weights/weights.py:1685: UserWarning: The weights matrix is not fully connected: \n",
      " There are 31 disconnected components.\n",
      "  w = W(neighbors, weights, ids, silence_warnings=silence_warnings)\n"
     ]
    },
    {
     "name": "stdout",
     "output_type": "stream",
     "text": [
      "Built nodes graph knn=1\n",
      "Built tess graph knn=1\n",
      "Built buildings graph knn=1\n",
      "Built streets graph knn=1\n",
      "Built enclosure graph knn=1\n",
      "Built nodes graph knn=1\n"
     ]
    },
    {
     "name": "stderr",
     "output_type": "stream",
     "text": [
      "/home/krasen/morphometrics/.pixi/envs/default/lib/python3.12/site-packages/libpysal/weights/weights.py:1685: UserWarning: The weights matrix is not fully connected: \n",
      " There are 2 disconnected components.\n",
      "  w = W(neighbors, weights, ids, silence_warnings=silence_warnings)\n"
     ]
    },
    {
     "name": "stdout",
     "output_type": "stream",
     "text": [
      "Built tess graph knn=1\n",
      "Built buildings graph knn=1\n",
      "Built streets graph knn=1\n",
      "Built enclosure graph knn=1\n"
     ]
    },
    {
     "name": "stderr",
     "output_type": "stream",
     "text": [
      "/home/krasen/morphometrics/.pixi/envs/default/lib/python3.12/site-packages/libpysal/weights/weights.py:1685: UserWarning: The weights matrix is not fully connected: \n",
      " There are 18 disconnected components.\n",
      "  w = W(neighbors, weights, ids, silence_warnings=silence_warnings)\n"
     ]
    },
    {
     "name": "stdout",
     "output_type": "stream",
     "text": [
      "Built nodes graph knn=1\n",
      "Built tess graph knn=1\n",
      "Built buildings graph knn=1\n",
      "Built streets graph knn=1\n",
      "Built enclosure graph knn=1\n",
      "Built nodes graph knn=1\n"
     ]
    },
    {
     "name": "stderr",
     "output_type": "stream",
     "text": [
      "/home/krasen/morphometrics/.pixi/envs/default/lib/python3.12/site-packages/libpysal/weights/weights.py:1685: UserWarning: The weights matrix is not fully connected: \n",
      " There are 9 disconnected components.\n",
      "  w = W(neighbors, weights, ids, silence_warnings=silence_warnings)\n"
     ]
    },
    {
     "name": "stdout",
     "output_type": "stream",
     "text": [
      "Built tess graph knn=1\n",
      "Built buildings graph knn=1\n",
      "Built streets graph knn=1\n",
      "Built enclosure graph knn=1\n",
      "Built nodes graph knn=1\n"
     ]
    },
    {
     "name": "stderr",
     "output_type": "stream",
     "text": [
      "/home/krasen/morphometrics/.pixi/envs/default/lib/python3.12/site-packages/libpysal/weights/weights.py:1685: UserWarning: The weights matrix is not fully connected: \n",
      " There are 13 disconnected components.\n",
      "  w = W(neighbors, weights, ids, silence_warnings=silence_warnings)\n"
     ]
    },
    {
     "name": "stdout",
     "output_type": "stream",
     "text": [
      "Built tess graph knn=1\n",
      "Built buildings graph knn=1\n",
      "Built streets graph knn=1\n",
      "Built enclosure graph knn=1\n",
      "Built nodes graph knn=1\n"
     ]
    },
    {
     "name": "stderr",
     "output_type": "stream",
     "text": [
      "/home/krasen/morphometrics/.pixi/envs/default/lib/python3.12/site-packages/libpysal/weights/weights.py:1685: UserWarning: The weights matrix is not fully connected: \n",
      " There are 7 disconnected components.\n",
      "  w = W(neighbors, weights, ids, silence_warnings=silence_warnings)\n"
     ]
    },
    {
     "name": "stdout",
     "output_type": "stream",
     "text": [
      "Built tess graph knn=1\n",
      "Built buildings graph knn=1\n",
      "Built streets graph knn=1\n",
      "Built enclosure graph knn=1\n"
     ]
    },
    {
     "name": "stderr",
     "output_type": "stream",
     "text": [
      "/home/krasen/morphometrics/.pixi/envs/default/lib/python3.12/site-packages/libpysal/weights/weights.py:1685: UserWarning: The weights matrix is not fully connected: \n",
      " There are 42 disconnected components.\n",
      "  w = W(neighbors, weights, ids, silence_warnings=silence_warnings)\n"
     ]
    },
    {
     "name": "stdout",
     "output_type": "stream",
     "text": [
      "Built nodes graph knn=1\n",
      "Built tess graph knn=1\n",
      "Built buildings graph knn=1\n",
      "Built streets graph knn=1\n",
      "Built enclosure graph knn=1\n"
     ]
    },
    {
     "name": "stderr",
     "output_type": "stream",
     "text": [
      "/home/krasen/morphometrics/.pixi/envs/default/lib/python3.12/site-packages/libpysal/weights/weights.py:1685: UserWarning: The weights matrix is not fully connected: \n",
      " There are 18 disconnected components.\n",
      "  w = W(neighbors, weights, ids, silence_warnings=silence_warnings)\n"
     ]
    },
    {
     "name": "stdout",
     "output_type": "stream",
     "text": [
      "Built nodes graph knn=1\n",
      "Built tess graph knn=1\n",
      "Built buildings graph knn=1\n",
      "Built streets graph knn=1\n",
      "Built enclosure graph knn=1\n",
      "Built nodes graph knn=1\n"
     ]
    },
    {
     "name": "stderr",
     "output_type": "stream",
     "text": [
      "/home/krasen/morphometrics/.pixi/envs/default/lib/python3.12/site-packages/libpysal/weights/weights.py:1685: UserWarning: The weights matrix is not fully connected: \n",
      " There are 7 disconnected components.\n",
      "  w = W(neighbors, weights, ids, silence_warnings=silence_warnings)\n"
     ]
    },
    {
     "name": "stdout",
     "output_type": "stream",
     "text": [
      "Built tess graph knn=1\n",
      "Built buildings graph knn=1\n",
      "Built streets graph knn=1\n",
      "Built enclosure graph knn=1\n",
      "Built nodes graph knn=1\n"
     ]
    },
    {
     "name": "stderr",
     "output_type": "stream",
     "text": [
      "/home/krasen/morphometrics/.pixi/envs/default/lib/python3.12/site-packages/libpysal/weights/weights.py:1685: UserWarning: The weights matrix is not fully connected: \n",
      " There are 15 disconnected components.\n",
      "  w = W(neighbors, weights, ids, silence_warnings=silence_warnings)\n"
     ]
    },
    {
     "name": "stdout",
     "output_type": "stream",
     "text": [
      "Built tess graph knn=1\n",
      "Built buildings graph knn=1\n",
      "Built streets graph knn=1\n",
      "Built enclosure graph knn=1\n",
      "Built nodes graph knn=1\n"
     ]
    },
    {
     "name": "stderr",
     "output_type": "stream",
     "text": [
      "/home/krasen/morphometrics/.pixi/envs/default/lib/python3.12/site-packages/libpysal/weights/weights.py:1685: UserWarning: The weights matrix is not fully connected: \n",
      " There are 10 disconnected components.\n",
      "  w = W(neighbors, weights, ids, silence_warnings=silence_warnings)\n"
     ]
    },
    {
     "name": "stdout",
     "output_type": "stream",
     "text": [
      "Built tess graph knn=1\n",
      "Built buildings graph knn=1\n",
      "Built streets graph knn=1\n",
      "Built enclosure graph knn=1\n"
     ]
    },
    {
     "name": "stderr",
     "output_type": "stream",
     "text": [
      "/home/krasen/morphometrics/.pixi/envs/default/lib/python3.12/site-packages/libpysal/weights/weights.py:1685: UserWarning: The weights matrix is not fully connected: \n",
      " There are 12 disconnected components.\n",
      "  w = W(neighbors, weights, ids, silence_warnings=silence_warnings)\n"
     ]
    },
    {
     "name": "stdout",
     "output_type": "stream",
     "text": [
      "Built nodes graph knn=1\n",
      "Built tess graph knn=1\n",
      "Built buildings graph knn=1\n",
      "Built streets graph knn=1\n",
      "Built enclosure graph knn=1\n"
     ]
    },
    {
     "name": "stderr",
     "output_type": "stream",
     "text": [
      "/home/krasen/morphometrics/.pixi/envs/default/lib/python3.12/site-packages/libpysal/weights/weights.py:1685: UserWarning: The weights matrix is not fully connected: \n",
      " There are 10 disconnected components.\n",
      "  w = W(neighbors, weights, ids, silence_warnings=silence_warnings)\n"
     ]
    },
    {
     "name": "stdout",
     "output_type": "stream",
     "text": [
      "Built nodes graph knn=1\n",
      "Built tess graph knn=1\n",
      "Built buildings graph knn=1\n",
      "Built streets graph knn=1\n",
      "Built enclosure graph knn=1\n"
     ]
    },
    {
     "name": "stderr",
     "output_type": "stream",
     "text": [
      "/home/krasen/morphometrics/.pixi/envs/default/lib/python3.12/site-packages/libpysal/weights/weights.py:1685: UserWarning: The weights matrix is not fully connected: \n",
      " There are 15 disconnected components.\n",
      "  w = W(neighbors, weights, ids, silence_warnings=silence_warnings)\n"
     ]
    },
    {
     "name": "stdout",
     "output_type": "stream",
     "text": [
      "Built nodes graph knn=1\n",
      "Built tess graph knn=1\n",
      "Built buildings graph knn=1\n",
      "Built streets graph knn=1\n",
      "Built enclosure graph knn=1\n"
     ]
    },
    {
     "name": "stderr",
     "output_type": "stream",
     "text": [
      "/home/krasen/morphometrics/.pixi/envs/default/lib/python3.12/site-packages/libpysal/weights/weights.py:1685: UserWarning: The weights matrix is not fully connected: \n",
      " There are 18 disconnected components.\n",
      "  w = W(neighbors, weights, ids, silence_warnings=silence_warnings)\n"
     ]
    },
    {
     "name": "stdout",
     "output_type": "stream",
     "text": [
      "Built nodes graph knn=1\n",
      "Built tess graph knn=1\n",
      "Built buildings graph knn=1\n",
      "Built streets graph knn=1\n",
      "Built enclosure graph knn=1\n"
     ]
    },
    {
     "name": "stderr",
     "output_type": "stream",
     "text": [
      "/home/krasen/morphometrics/.pixi/envs/default/lib/python3.12/site-packages/libpysal/weights/weights.py:1685: UserWarning: The weights matrix is not fully connected: \n",
      " There are 13 disconnected components.\n",
      "  w = W(neighbors, weights, ids, silence_warnings=silence_warnings)\n"
     ]
    },
    {
     "name": "stdout",
     "output_type": "stream",
     "text": [
      "Built nodes graph knn=1\n",
      "Built tess graph knn=1\n",
      "Built buildings graph knn=1\n",
      "Built streets graph knn=1\n",
      "Built enclosure graph knn=1\n",
      "Built nodes graph knn=1\n"
     ]
    },
    {
     "name": "stderr",
     "output_type": "stream",
     "text": [
      "/home/krasen/morphometrics/.pixi/envs/default/lib/python3.12/site-packages/libpysal/weights/weights.py:1685: UserWarning: The weights matrix is not fully connected: \n",
      " There are 2 disconnected components.\n",
      "  w = W(neighbors, weights, ids, silence_warnings=silence_warnings)\n"
     ]
    },
    {
     "name": "stdout",
     "output_type": "stream",
     "text": [
      "Built tess graph knn=1\n",
      "Built buildings graph knn=1\n",
      "Built streets graph knn=1\n",
      "Built enclosure graph knn=1\n",
      "Built nodes graph knn=1\n"
     ]
    },
    {
     "name": "stderr",
     "output_type": "stream",
     "text": [
      "/home/krasen/morphometrics/.pixi/envs/default/lib/python3.12/site-packages/libpysal/weights/weights.py:1685: UserWarning: The weights matrix is not fully connected: \n",
      " There are 12 disconnected components.\n",
      "  w = W(neighbors, weights, ids, silence_warnings=silence_warnings)\n"
     ]
    },
    {
     "name": "stdout",
     "output_type": "stream",
     "text": [
      "Built tess graph knn=1\n",
      "Built buildings graph knn=1\n",
      "Built streets graph knn=1\n",
      "Built enclosure graph knn=1\n"
     ]
    },
    {
     "name": "stderr",
     "output_type": "stream",
     "text": [
      "/home/krasen/morphometrics/.pixi/envs/default/lib/python3.12/site-packages/libpysal/weights/weights.py:1685: UserWarning: The weights matrix is not fully connected: \n",
      " There are 23 disconnected components.\n",
      "  w = W(neighbors, weights, ids, silence_warnings=silence_warnings)\n"
     ]
    },
    {
     "name": "stdout",
     "output_type": "stream",
     "text": [
      "Built nodes graph knn=1\n",
      "Built tess graph knn=1\n",
      "Built buildings graph knn=1\n",
      "Built streets graph knn=1\n",
      "Built enclosure graph knn=1\n"
     ]
    },
    {
     "name": "stderr",
     "output_type": "stream",
     "text": [
      "/home/krasen/morphometrics/.pixi/envs/default/lib/python3.12/site-packages/libpysal/weights/weights.py:1685: UserWarning: The weights matrix is not fully connected: \n",
      " There are 258 disconnected components.\n",
      "  w = W(neighbors, weights, ids, silence_warnings=silence_warnings)\n"
     ]
    },
    {
     "name": "stdout",
     "output_type": "stream",
     "text": [
      "Built nodes graph knn=1\n",
      "Built tess graph knn=1\n",
      "Built buildings graph knn=1\n",
      "Built streets graph knn=1\n",
      "Built enclosure graph knn=1\n"
     ]
    },
    {
     "name": "stderr",
     "output_type": "stream",
     "text": [
      "/home/krasen/morphometrics/.pixi/envs/default/lib/python3.12/site-packages/libpysal/weights/weights.py:1685: UserWarning: The weights matrix is not fully connected: \n",
      " There are 7 disconnected components.\n",
      "  w = W(neighbors, weights, ids, silence_warnings=silence_warnings)\n"
     ]
    },
    {
     "name": "stdout",
     "output_type": "stream",
     "text": [
      "Built nodes graph knn=1\n",
      "Built tess graph knn=1\n",
      "Built buildings graph knn=1\n",
      "Built streets graph knn=1\n",
      "Built enclosure graph knn=1\n"
     ]
    },
    {
     "name": "stderr",
     "output_type": "stream",
     "text": [
      "/home/krasen/morphometrics/.pixi/envs/default/lib/python3.12/site-packages/libpysal/weights/weights.py:1685: UserWarning: The weights matrix is not fully connected: \n",
      " There are 27 disconnected components.\n",
      "  w = W(neighbors, weights, ids, silence_warnings=silence_warnings)\n"
     ]
    },
    {
     "name": "stdout",
     "output_type": "stream",
     "text": [
      "Built nodes graph knn=1\n",
      "Built tess graph knn=1\n",
      "Built buildings graph knn=1\n",
      "Built streets graph knn=1\n",
      "Built enclosure graph knn=1\n",
      "Built nodes graph knn=1\n"
     ]
    },
    {
     "name": "stderr",
     "output_type": "stream",
     "text": [
      "/home/krasen/morphometrics/.pixi/envs/default/lib/python3.12/site-packages/libpysal/weights/weights.py:1685: UserWarning: The weights matrix is not fully connected: \n",
      " There are 13 disconnected components.\n",
      "  w = W(neighbors, weights, ids, silence_warnings=silence_warnings)\n"
     ]
    },
    {
     "name": "stdout",
     "output_type": "stream",
     "text": [
      "Built tess graph knn=1\n",
      "Built buildings graph knn=1\n",
      "Built streets graph knn=1\n",
      "Built enclosure graph knn=1\n"
     ]
    },
    {
     "name": "stderr",
     "output_type": "stream",
     "text": [
      "/home/krasen/morphometrics/.pixi/envs/default/lib/python3.12/site-packages/libpysal/weights/weights.py:1685: UserWarning: The weights matrix is not fully connected: \n",
      " There are 16 disconnected components.\n",
      "  w = W(neighbors, weights, ids, silence_warnings=silence_warnings)\n"
     ]
    },
    {
     "name": "stdout",
     "output_type": "stream",
     "text": [
      "Built nodes graph knn=1\n",
      "Built tess graph knn=1\n",
      "Built buildings graph knn=1\n",
      "Built streets graph knn=1\n",
      "Built enclosure graph knn=1\n",
      "Built nodes graph knn=1\n"
     ]
    },
    {
     "name": "stderr",
     "output_type": "stream",
     "text": [
      "/home/krasen/morphometrics/.pixi/envs/default/lib/python3.12/site-packages/libpysal/weights/weights.py:1685: UserWarning: The weights matrix is not fully connected: \n",
      " There are 12 disconnected components.\n",
      "  w = W(neighbors, weights, ids, silence_warnings=silence_warnings)\n"
     ]
    },
    {
     "name": "stdout",
     "output_type": "stream",
     "text": [
      "Built tess graph knn=1\n",
      "Built buildings graph knn=1\n",
      "Built streets graph knn=1\n",
      "Built enclosure graph knn=1\n"
     ]
    },
    {
     "name": "stderr",
     "output_type": "stream",
     "text": [
      "/home/krasen/morphometrics/.pixi/envs/default/lib/python3.12/site-packages/libpysal/weights/weights.py:1685: UserWarning: The weights matrix is not fully connected: \n",
      " There are 9 disconnected components.\n",
      "  w = W(neighbors, weights, ids, silence_warnings=silence_warnings)\n"
     ]
    },
    {
     "name": "stdout",
     "output_type": "stream",
     "text": [
      "Built nodes graph knn=1\n",
      "Built tess graph knn=1\n",
      "Built buildings graph knn=1\n",
      "Built streets graph knn=1\n",
      "Built enclosure graph knn=1\n"
     ]
    },
    {
     "name": "stderr",
     "output_type": "stream",
     "text": [
      "/home/krasen/morphometrics/.pixi/envs/default/lib/python3.12/site-packages/libpysal/weights/weights.py:1685: UserWarning: The weights matrix is not fully connected: \n",
      " There are 21 disconnected components.\n",
      "  w = W(neighbors, weights, ids, silence_warnings=silence_warnings)\n"
     ]
    },
    {
     "name": "stdout",
     "output_type": "stream",
     "text": [
      "Built nodes graph knn=1\n",
      "Built tess graph knn=1\n",
      "Built buildings graph knn=1\n",
      "Built streets graph knn=1\n",
      "Built enclosure graph knn=1\n",
      "Built nodes graph knn=1\n"
     ]
    },
    {
     "name": "stderr",
     "output_type": "stream",
     "text": [
      "/home/krasen/morphometrics/.pixi/envs/default/lib/python3.12/site-packages/libpysal/weights/weights.py:1685: UserWarning: The weights matrix is not fully connected: \n",
      " There are 14 disconnected components.\n",
      "  w = W(neighbors, weights, ids, silence_warnings=silence_warnings)\n"
     ]
    },
    {
     "name": "stdout",
     "output_type": "stream",
     "text": [
      "Built tess graph knn=1\n",
      "Built buildings graph knn=1\n",
      "Built streets graph knn=1\n",
      "Built enclosure graph knn=1\n",
      "Built nodes graph knn=1\n"
     ]
    },
    {
     "name": "stderr",
     "output_type": "stream",
     "text": [
      "/home/krasen/morphometrics/.pixi/envs/default/lib/python3.12/site-packages/libpysal/weights/weights.py:1685: UserWarning: The weights matrix is not fully connected: \n",
      " There are 3 disconnected components.\n",
      "  w = W(neighbors, weights, ids, silence_warnings=silence_warnings)\n"
     ]
    },
    {
     "name": "stdout",
     "output_type": "stream",
     "text": [
      "Built tess graph knn=1\n",
      "Built buildings graph knn=1\n",
      "Built streets graph knn=1\n",
      "Built enclosure graph knn=1\n"
     ]
    },
    {
     "name": "stderr",
     "output_type": "stream",
     "text": [
      "/home/krasen/morphometrics/.pixi/envs/default/lib/python3.12/site-packages/libpysal/weights/weights.py:1685: UserWarning: The weights matrix is not fully connected: \n",
      " There are 11 disconnected components.\n",
      "  w = W(neighbors, weights, ids, silence_warnings=silence_warnings)\n"
     ]
    },
    {
     "name": "stdout",
     "output_type": "stream",
     "text": [
      "Built nodes graph knn=1\n",
      "Built tess graph knn=1\n",
      "Built buildings graph knn=1\n",
      "Built streets graph knn=1\n",
      "Built enclosure graph knn=1\n",
      "Built nodes graph knn=1\n"
     ]
    },
    {
     "name": "stderr",
     "output_type": "stream",
     "text": [
      "/home/krasen/morphometrics/.pixi/envs/default/lib/python3.12/site-packages/libpysal/weights/weights.py:1685: UserWarning: The weights matrix is not fully connected: \n",
      " There are 4 disconnected components.\n",
      "  w = W(neighbors, weights, ids, silence_warnings=silence_warnings)\n"
     ]
    },
    {
     "name": "stdout",
     "output_type": "stream",
     "text": [
      "Built tess graph knn=1\n",
      "Built buildings graph knn=1\n",
      "Built streets graph knn=1\n",
      "Built enclosure graph knn=1\n",
      "Built nodes graph knn=1\n"
     ]
    },
    {
     "name": "stderr",
     "output_type": "stream",
     "text": [
      "/home/krasen/morphometrics/.pixi/envs/default/lib/python3.12/site-packages/libpysal/weights/weights.py:1685: UserWarning: The weights matrix is not fully connected: \n",
      " There are 6 disconnected components.\n",
      "  w = W(neighbors, weights, ids, silence_warnings=silence_warnings)\n"
     ]
    },
    {
     "name": "stdout",
     "output_type": "stream",
     "text": [
      "Built tess graph knn=1\n",
      "Built buildings graph knn=1\n",
      "Built streets graph knn=1\n",
      "Built enclosure graph knn=1\n"
     ]
    },
    {
     "name": "stderr",
     "output_type": "stream",
     "text": [
      "/home/krasen/morphometrics/.pixi/envs/default/lib/python3.12/site-packages/libpysal/weights/weights.py:1685: UserWarning: The weights matrix is not fully connected: \n",
      " There are 17 disconnected components.\n",
      "  w = W(neighbors, weights, ids, silence_warnings=silence_warnings)\n"
     ]
    },
    {
     "name": "stdout",
     "output_type": "stream",
     "text": [
      "Built nodes graph knn=1\n",
      "Built tess graph knn=1\n",
      "Built buildings graph knn=1\n",
      "Built streets graph knn=1\n",
      "Built enclosure graph knn=1\n",
      "Built nodes graph knn=1\n"
     ]
    },
    {
     "name": "stderr",
     "output_type": "stream",
     "text": [
      "/home/krasen/morphometrics/.pixi/envs/default/lib/python3.12/site-packages/libpysal/weights/weights.py:1685: UserWarning: The weights matrix is not fully connected: \n",
      " There are 6 disconnected components.\n",
      "  w = W(neighbors, weights, ids, silence_warnings=silence_warnings)\n"
     ]
    },
    {
     "name": "stdout",
     "output_type": "stream",
     "text": [
      "Built tess graph knn=1\n",
      "Built buildings graph knn=1\n",
      "Built streets graph knn=1\n",
      "Built enclosure graph knn=1\n",
      "Built nodes graph knn=1\n"
     ]
    },
    {
     "name": "stderr",
     "output_type": "stream",
     "text": [
      "/home/krasen/morphometrics/.pixi/envs/default/lib/python3.12/site-packages/libpysal/weights/weights.py:1685: UserWarning: The weights matrix is not fully connected: \n",
      " There are 2 disconnected components.\n",
      "  w = W(neighbors, weights, ids, silence_warnings=silence_warnings)\n"
     ]
    },
    {
     "name": "stdout",
     "output_type": "stream",
     "text": [
      "Built tess graph knn=1\n",
      "Built buildings graph knn=1\n",
      "Built streets graph knn=1\n",
      "Built enclosure graph knn=1\n",
      "Built nodes graph knn=1\n"
     ]
    },
    {
     "name": "stderr",
     "output_type": "stream",
     "text": [
      "/home/krasen/morphometrics/.pixi/envs/default/lib/python3.12/site-packages/libpysal/weights/weights.py:1685: UserWarning: The weights matrix is not fully connected: \n",
      " There are 8 disconnected components.\n",
      "  w = W(neighbors, weights, ids, silence_warnings=silence_warnings)\n"
     ]
    },
    {
     "name": "stdout",
     "output_type": "stream",
     "text": [
      "Built tess graph knn=1\n",
      "Built buildings graph knn=1\n",
      "Built streets graph knn=1\n",
      "Built enclosure graph knn=1\n"
     ]
    },
    {
     "name": "stderr",
     "output_type": "stream",
     "text": [
      "/home/krasen/morphometrics/.pixi/envs/default/lib/python3.12/site-packages/libpysal/weights/weights.py:1685: UserWarning: The weights matrix is not fully connected: \n",
      " There are 9 disconnected components.\n",
      "  w = W(neighbors, weights, ids, silence_warnings=silence_warnings)\n"
     ]
    },
    {
     "name": "stdout",
     "output_type": "stream",
     "text": [
      "Built nodes graph knn=1\n",
      "Built tess graph knn=1\n",
      "Built buildings graph knn=1\n",
      "Built streets graph knn=1\n",
      "Built enclosure graph knn=1\n"
     ]
    },
    {
     "name": "stderr",
     "output_type": "stream",
     "text": [
      "/home/krasen/morphometrics/.pixi/envs/default/lib/python3.12/site-packages/libpysal/weights/weights.py:1685: UserWarning: The weights matrix is not fully connected: \n",
      " There are 16 disconnected components.\n",
      "  w = W(neighbors, weights, ids, silence_warnings=silence_warnings)\n"
     ]
    },
    {
     "name": "stdout",
     "output_type": "stream",
     "text": [
      "Built nodes graph knn=1\n",
      "Built tess graph knn=1\n",
      "Built buildings graph knn=1\n",
      "Built streets graph knn=1\n",
      "Built enclosure graph knn=1\n",
      "Built nodes graph knn=1\n"
     ]
    },
    {
     "name": "stderr",
     "output_type": "stream",
     "text": [
      "/home/krasen/morphometrics/.pixi/envs/default/lib/python3.12/site-packages/libpysal/weights/weights.py:1685: UserWarning: The weights matrix is not fully connected: \n",
      " There are 9 disconnected components.\n",
      "  w = W(neighbors, weights, ids, silence_warnings=silence_warnings)\n"
     ]
    },
    {
     "name": "stdout",
     "output_type": "stream",
     "text": [
      "Built tess graph knn=1\n",
      "Built buildings graph knn=1\n",
      "Built streets graph knn=1\n",
      "Built enclosure graph knn=1\n"
     ]
    },
    {
     "name": "stderr",
     "output_type": "stream",
     "text": [
      "/home/krasen/morphometrics/.pixi/envs/default/lib/python3.12/site-packages/libpysal/weights/weights.py:1685: UserWarning: The weights matrix is not fully connected: \n",
      " There are 176 disconnected components.\n",
      "  w = W(neighbors, weights, ids, silence_warnings=silence_warnings)\n"
     ]
    },
    {
     "name": "stdout",
     "output_type": "stream",
     "text": [
      "Built nodes graph knn=1\n",
      "Built tess graph knn=1\n",
      "Built buildings graph knn=1\n",
      "Built streets graph knn=1\n",
      "Built enclosure graph knn=1\n"
     ]
    },
    {
     "name": "stderr",
     "output_type": "stream",
     "text": [
      "/home/krasen/morphometrics/.pixi/envs/default/lib/python3.12/site-packages/libpysal/weights/weights.py:1685: UserWarning: The weights matrix is not fully connected: \n",
      " There are 6 disconnected components.\n",
      "  w = W(neighbors, weights, ids, silence_warnings=silence_warnings)\n"
     ]
    },
    {
     "name": "stdout",
     "output_type": "stream",
     "text": [
      "Built nodes graph knn=1\n",
      "Built tess graph knn=1\n",
      "Built buildings graph knn=1\n",
      "Built streets graph knn=1\n",
      "Built enclosure graph knn=1\n",
      "Built nodes graph knn=1\n"
     ]
    },
    {
     "name": "stderr",
     "output_type": "stream",
     "text": [
      "/home/krasen/morphometrics/.pixi/envs/default/lib/python3.12/site-packages/libpysal/weights/weights.py:1685: UserWarning: The weights matrix is not fully connected: \n",
      " There are 13 disconnected components.\n",
      "  w = W(neighbors, weights, ids, silence_warnings=silence_warnings)\n"
     ]
    },
    {
     "name": "stdout",
     "output_type": "stream",
     "text": [
      "Built tess graph knn=1\n",
      "Built buildings graph knn=1\n",
      "Built streets graph knn=1\n",
      "Built enclosure graph knn=1\n"
     ]
    },
    {
     "name": "stderr",
     "output_type": "stream",
     "text": [
      "/home/krasen/morphometrics/.pixi/envs/default/lib/python3.12/site-packages/libpysal/weights/weights.py:1685: UserWarning: The weights matrix is not fully connected: \n",
      " There are 23 disconnected components.\n",
      "  w = W(neighbors, weights, ids, silence_warnings=silence_warnings)\n"
     ]
    },
    {
     "name": "stdout",
     "output_type": "stream",
     "text": [
      "Built nodes graph knn=1\n",
      "Built tess graph knn=1\n",
      "Built buildings graph knn=1\n",
      "Built streets graph knn=1\n",
      "Built enclosure graph knn=1\n"
     ]
    },
    {
     "name": "stderr",
     "output_type": "stream",
     "text": [
      "/home/krasen/morphometrics/.pixi/envs/default/lib/python3.12/site-packages/libpysal/weights/weights.py:1685: UserWarning: The weights matrix is not fully connected: \n",
      " There are 20 disconnected components.\n",
      "  w = W(neighbors, weights, ids, silence_warnings=silence_warnings)\n"
     ]
    },
    {
     "name": "stdout",
     "output_type": "stream",
     "text": [
      "Built nodes graph knn=1\n",
      "Built tess graph knn=1\n",
      "Built buildings graph knn=1\n",
      "Built streets graph knn=1\n",
      "Built enclosure graph knn=1\n",
      "Built nodes graph knn=1\n"
     ]
    },
    {
     "name": "stderr",
     "output_type": "stream",
     "text": [
      "/home/krasen/morphometrics/.pixi/envs/default/lib/python3.12/site-packages/libpysal/weights/weights.py:1685: UserWarning: The weights matrix is not fully connected: \n",
      " There are 14 disconnected components.\n",
      "  w = W(neighbors, weights, ids, silence_warnings=silence_warnings)\n"
     ]
    },
    {
     "name": "stdout",
     "output_type": "stream",
     "text": [
      "Built tess graph knn=1\n",
      "Built buildings graph knn=1\n",
      "Built streets graph knn=1\n",
      "Built enclosure graph knn=1\n"
     ]
    },
    {
     "name": "stderr",
     "output_type": "stream",
     "text": [
      "/home/krasen/morphometrics/.pixi/envs/default/lib/python3.12/site-packages/libpysal/weights/weights.py:1685: UserWarning: The weights matrix is not fully connected: \n",
      " There are 7 disconnected components.\n",
      "  w = W(neighbors, weights, ids, silence_warnings=silence_warnings)\n"
     ]
    },
    {
     "name": "stdout",
     "output_type": "stream",
     "text": [
      "Built nodes graph knn=1\n",
      "Built tess graph knn=1\n",
      "Built buildings graph knn=1\n",
      "Built streets graph knn=1\n",
      "Built enclosure graph knn=1\n",
      "Built nodes graph knn=1\n"
     ]
    },
    {
     "name": "stderr",
     "output_type": "stream",
     "text": [
      "/home/krasen/morphometrics/.pixi/envs/default/lib/python3.12/site-packages/libpysal/weights/weights.py:1685: UserWarning: The weights matrix is not fully connected: \n",
      " There are 9 disconnected components.\n",
      "  w = W(neighbors, weights, ids, silence_warnings=silence_warnings)\n"
     ]
    },
    {
     "name": "stdout",
     "output_type": "stream",
     "text": [
      "Built tess graph knn=1\n",
      "Built buildings graph knn=1\n",
      "Built streets graph knn=1\n",
      "Built enclosure graph knn=1\n"
     ]
    },
    {
     "name": "stderr",
     "output_type": "stream",
     "text": [
      "/home/krasen/morphometrics/.pixi/envs/default/lib/python3.12/site-packages/libpysal/weights/weights.py:1685: UserWarning: The weights matrix is not fully connected: \n",
      " There are 11 disconnected components.\n",
      "  w = W(neighbors, weights, ids, silence_warnings=silence_warnings)\n"
     ]
    },
    {
     "name": "stdout",
     "output_type": "stream",
     "text": [
      "Built nodes graph knn=1\n",
      "Built tess graph knn=1\n",
      "Built buildings graph knn=1\n",
      "Built streets graph knn=1\n",
      "Built enclosure graph knn=1\n"
     ]
    },
    {
     "name": "stderr",
     "output_type": "stream",
     "text": [
      "/home/krasen/morphometrics/.pixi/envs/default/lib/python3.12/site-packages/libpysal/weights/weights.py:1685: UserWarning: The weights matrix is not fully connected: \n",
      " There are 10 disconnected components.\n",
      "  w = W(neighbors, weights, ids, silence_warnings=silence_warnings)\n"
     ]
    },
    {
     "name": "stdout",
     "output_type": "stream",
     "text": [
      "Built nodes graph knn=1\n",
      "Built tess graph knn=1\n",
      "Built buildings graph knn=1\n",
      "Built streets graph knn=1\n",
      "Built enclosure graph knn=1\n"
     ]
    },
    {
     "name": "stderr",
     "output_type": "stream",
     "text": [
      "/home/krasen/morphometrics/.pixi/envs/default/lib/python3.12/site-packages/libpysal/weights/weights.py:1685: UserWarning: The weights matrix is not fully connected: \n",
      " There are 14 disconnected components.\n",
      "  w = W(neighbors, weights, ids, silence_warnings=silence_warnings)\n"
     ]
    },
    {
     "name": "stdout",
     "output_type": "stream",
     "text": [
      "Built nodes graph knn=1\n",
      "Built tess graph knn=1\n",
      "Built buildings graph knn=1\n",
      "Built streets graph knn=1\n",
      "Built enclosure graph knn=1\n"
     ]
    },
    {
     "name": "stderr",
     "output_type": "stream",
     "text": [
      "/home/krasen/morphometrics/.pixi/envs/default/lib/python3.12/site-packages/libpysal/weights/weights.py:1685: UserWarning: The weights matrix is not fully connected: \n",
      " There are 22 disconnected components.\n",
      "  w = W(neighbors, weights, ids, silence_warnings=silence_warnings)\n"
     ]
    },
    {
     "name": "stdout",
     "output_type": "stream",
     "text": [
      "Built nodes graph knn=1\n",
      "Built tess graph knn=1\n",
      "Built buildings graph knn=1\n",
      "Built streets graph knn=1\n",
      "Built enclosure graph knn=1\n"
     ]
    },
    {
     "name": "stderr",
     "output_type": "stream",
     "text": [
      "/home/krasen/morphometrics/.pixi/envs/default/lib/python3.12/site-packages/libpysal/weights/weights.py:1685: UserWarning: The weights matrix is not fully connected: \n",
      " There are 136 disconnected components.\n",
      "  w = W(neighbors, weights, ids, silence_warnings=silence_warnings)\n"
     ]
    },
    {
     "name": "stdout",
     "output_type": "stream",
     "text": [
      "Built nodes graph knn=1\n",
      "Built tess graph knn=1\n",
      "Built buildings graph knn=1\n",
      "Built streets graph knn=1\n",
      "Built enclosure graph knn=1\n"
     ]
    },
    {
     "name": "stderr",
     "output_type": "stream",
     "text": [
      "/home/krasen/morphometrics/.pixi/envs/default/lib/python3.12/site-packages/libpysal/weights/weights.py:1685: UserWarning: The weights matrix is not fully connected: \n",
      " There are 17 disconnected components.\n",
      "  w = W(neighbors, weights, ids, silence_warnings=silence_warnings)\n"
     ]
    },
    {
     "name": "stdout",
     "output_type": "stream",
     "text": [
      "Built nodes graph knn=1\n",
      "Built tess graph knn=1\n",
      "Built buildings graph knn=1\n",
      "Built streets graph knn=1\n",
      "Built enclosure graph knn=1\n",
      "Built nodes graph knn=1\n"
     ]
    },
    {
     "name": "stderr",
     "output_type": "stream",
     "text": [
      "/home/krasen/morphometrics/.pixi/envs/default/lib/python3.12/site-packages/libpysal/weights/weights.py:1685: UserWarning: The weights matrix is not fully connected: \n",
      " There are 10 disconnected components.\n",
      "  w = W(neighbors, weights, ids, silence_warnings=silence_warnings)\n"
     ]
    },
    {
     "name": "stdout",
     "output_type": "stream",
     "text": [
      "Built tess graph knn=1\n",
      "Built buildings graph knn=1\n",
      "Built streets graph knn=1\n",
      "Built enclosure graph knn=1\n",
      "Built nodes graph knn=1\n"
     ]
    },
    {
     "name": "stderr",
     "output_type": "stream",
     "text": [
      "/home/krasen/morphometrics/.pixi/envs/default/lib/python3.12/site-packages/libpysal/weights/weights.py:1685: UserWarning: The weights matrix is not fully connected: \n",
      " There are 8 disconnected components.\n",
      "  w = W(neighbors, weights, ids, silence_warnings=silence_warnings)\n"
     ]
    },
    {
     "name": "stdout",
     "output_type": "stream",
     "text": [
      "Built tess graph knn=1\n",
      "Built buildings graph knn=1\n",
      "Built streets graph knn=1\n",
      "Built enclosure graph knn=1\n"
     ]
    },
    {
     "name": "stderr",
     "output_type": "stream",
     "text": [
      "/home/krasen/morphometrics/.pixi/envs/default/lib/python3.12/site-packages/libpysal/weights/weights.py:1685: UserWarning: The weights matrix is not fully connected: \n",
      " There are 76 disconnected components.\n",
      "  w = W(neighbors, weights, ids, silence_warnings=silence_warnings)\n"
     ]
    },
    {
     "name": "stdout",
     "output_type": "stream",
     "text": [
      "Built nodes graph knn=1\n",
      "Built tess graph knn=1\n",
      "Built buildings graph knn=1\n",
      "Built streets graph knn=1\n",
      "Built enclosure graph knn=1\n"
     ]
    },
    {
     "name": "stderr",
     "output_type": "stream",
     "text": [
      "/home/krasen/morphometrics/.pixi/envs/default/lib/python3.12/site-packages/libpysal/weights/weights.py:1685: UserWarning: The weights matrix is not fully connected: \n",
      " There are 15 disconnected components.\n",
      "  w = W(neighbors, weights, ids, silence_warnings=silence_warnings)\n"
     ]
    },
    {
     "name": "stdout",
     "output_type": "stream",
     "text": [
      "Built nodes graph knn=1\n",
      "Built tess graph knn=1\n",
      "Built buildings graph knn=1\n",
      "Built streets graph knn=1\n",
      "Built enclosure graph knn=1\n"
     ]
    },
    {
     "name": "stderr",
     "output_type": "stream",
     "text": [
      "/home/krasen/morphometrics/.pixi/envs/default/lib/python3.12/site-packages/libpysal/weights/weights.py:1685: UserWarning: The weights matrix is not fully connected: \n",
      " There are 17 disconnected components.\n",
      "  w = W(neighbors, weights, ids, silence_warnings=silence_warnings)\n"
     ]
    },
    {
     "name": "stdout",
     "output_type": "stream",
     "text": [
      "Built nodes graph knn=1\n",
      "Built tess graph knn=1\n",
      "Built buildings graph knn=1\n",
      "Built streets graph knn=1\n",
      "Built enclosure graph knn=1\n",
      "Built nodes graph knn=1\n"
     ]
    },
    {
     "name": "stderr",
     "output_type": "stream",
     "text": [
      "/home/krasen/morphometrics/.pixi/envs/default/lib/python3.12/site-packages/libpysal/weights/weights.py:1685: UserWarning: The weights matrix is not fully connected: \n",
      " There are 8 disconnected components.\n",
      "  w = W(neighbors, weights, ids, silence_warnings=silence_warnings)\n"
     ]
    },
    {
     "name": "stdout",
     "output_type": "stream",
     "text": [
      "Built tess graph knn=1\n",
      "Built buildings graph knn=1\n",
      "Built streets graph knn=1\n",
      "Built enclosure graph knn=1\n",
      "Built nodes graph knn=1\n"
     ]
    },
    {
     "name": "stderr",
     "output_type": "stream",
     "text": [
      "/home/krasen/morphometrics/.pixi/envs/default/lib/python3.12/site-packages/libpysal/weights/weights.py:1685: UserWarning: The weights matrix is not fully connected: \n",
      " There are 12 disconnected components.\n",
      "  w = W(neighbors, weights, ids, silence_warnings=silence_warnings)\n"
     ]
    },
    {
     "name": "stdout",
     "output_type": "stream",
     "text": [
      "Built tess graph knn=1\n",
      "Built buildings graph knn=1\n",
      "Built streets graph knn=1\n",
      "Built enclosure graph knn=1\n",
      "Built nodes graph knn=1\n"
     ]
    },
    {
     "name": "stderr",
     "output_type": "stream",
     "text": [
      "/home/krasen/morphometrics/.pixi/envs/default/lib/python3.12/site-packages/libpysal/weights/weights.py:1685: UserWarning: The weights matrix is not fully connected: \n",
      " There are 11 disconnected components.\n",
      "  w = W(neighbors, weights, ids, silence_warnings=silence_warnings)\n"
     ]
    },
    {
     "name": "stdout",
     "output_type": "stream",
     "text": [
      "Built tess graph knn=1\n",
      "Built buildings graph knn=1\n",
      "Built streets graph knn=1\n",
      "Built enclosure graph knn=1\n"
     ]
    },
    {
     "name": "stderr",
     "output_type": "stream",
     "text": [
      "/home/krasen/morphometrics/.pixi/envs/default/lib/python3.12/site-packages/libpysal/weights/weights.py:1685: UserWarning: The weights matrix is not fully connected: \n",
      " There are 8 disconnected components.\n",
      "  w = W(neighbors, weights, ids, silence_warnings=silence_warnings)\n"
     ]
    },
    {
     "name": "stdout",
     "output_type": "stream",
     "text": [
      "Built nodes graph knn=1\n",
      "Built tess graph knn=1\n",
      "Built buildings graph knn=1\n",
      "Built streets graph knn=1\n",
      "Built enclosure graph knn=1\n",
      "Built nodes graph knn=1\n"
     ]
    },
    {
     "name": "stderr",
     "output_type": "stream",
     "text": [
      "/home/krasen/morphometrics/.pixi/envs/default/lib/python3.12/site-packages/libpysal/weights/weights.py:1685: UserWarning: The weights matrix is not fully connected: \n",
      " There are 8 disconnected components.\n",
      "  w = W(neighbors, weights, ids, silence_warnings=silence_warnings)\n"
     ]
    },
    {
     "name": "stdout",
     "output_type": "stream",
     "text": [
      "Built tess graph knn=1\n",
      "Built buildings graph knn=1\n",
      "Built streets graph knn=1\n",
      "Built enclosure graph knn=1\n",
      "Built nodes graph knn=1\n"
     ]
    },
    {
     "name": "stderr",
     "output_type": "stream",
     "text": [
      "/home/krasen/morphometrics/.pixi/envs/default/lib/python3.12/site-packages/libpysal/weights/weights.py:1685: UserWarning: The weights matrix is not fully connected: \n",
      " There are 21 disconnected components.\n",
      "  w = W(neighbors, weights, ids, silence_warnings=silence_warnings)\n"
     ]
    },
    {
     "name": "stdout",
     "output_type": "stream",
     "text": [
      "Built tess graph knn=1\n",
      "Built buildings graph knn=1\n",
      "Built streets graph knn=1\n",
      "Built enclosure graph knn=1\n",
      "Built nodes graph knn=1\n"
     ]
    },
    {
     "name": "stderr",
     "output_type": "stream",
     "text": [
      "/home/krasen/morphometrics/.pixi/envs/default/lib/python3.12/site-packages/libpysal/weights/weights.py:1685: UserWarning: The weights matrix is not fully connected: \n",
      " There are 11 disconnected components.\n",
      "  w = W(neighbors, weights, ids, silence_warnings=silence_warnings)\n"
     ]
    },
    {
     "name": "stdout",
     "output_type": "stream",
     "text": [
      "Built tess graph knn=1\n",
      "Built buildings graph knn=1\n",
      "Built streets graph knn=1\n",
      "Built enclosure graph knn=1\n"
     ]
    },
    {
     "name": "stderr",
     "output_type": "stream",
     "text": [
      "/home/krasen/morphometrics/.pixi/envs/default/lib/python3.12/site-packages/libpysal/weights/weights.py:1685: UserWarning: The weights matrix is not fully connected: \n",
      " There are 69 disconnected components.\n",
      "  w = W(neighbors, weights, ids, silence_warnings=silence_warnings)\n"
     ]
    },
    {
     "name": "stdout",
     "output_type": "stream",
     "text": [
      "Built nodes graph knn=1\n",
      "Built tess graph knn=1\n",
      "Built buildings graph knn=1\n",
      "Built streets graph knn=1\n",
      "Built enclosure graph knn=1\n"
     ]
    },
    {
     "name": "stderr",
     "output_type": "stream",
     "text": [
      "/home/krasen/morphometrics/.pixi/envs/default/lib/python3.12/site-packages/libpysal/weights/weights.py:1685: UserWarning: The weights matrix is not fully connected: \n",
      " There are 20 disconnected components.\n",
      "  w = W(neighbors, weights, ids, silence_warnings=silence_warnings)\n"
     ]
    },
    {
     "name": "stdout",
     "output_type": "stream",
     "text": [
      "Built nodes graph knn=1\n",
      "Built tess graph knn=1\n",
      "Built buildings graph knn=1\n",
      "Built streets graph knn=1\n",
      "Built enclosure graph knn=1\n"
     ]
    },
    {
     "name": "stderr",
     "output_type": "stream",
     "text": [
      "/home/krasen/morphometrics/.pixi/envs/default/lib/python3.12/site-packages/libpysal/weights/weights.py:1685: UserWarning: The weights matrix is not fully connected: \n",
      " There are 13 disconnected components.\n",
      "  w = W(neighbors, weights, ids, silence_warnings=silence_warnings)\n"
     ]
    },
    {
     "name": "stdout",
     "output_type": "stream",
     "text": [
      "Built nodes graph knn=1\n",
      "Built tess graph knn=1\n",
      "Built buildings graph knn=1\n",
      "Built streets graph knn=1\n",
      "Built enclosure graph knn=1\n",
      "Built nodes graph knn=1\n"
     ]
    },
    {
     "name": "stderr",
     "output_type": "stream",
     "text": [
      "/home/krasen/morphometrics/.pixi/envs/default/lib/python3.12/site-packages/libpysal/weights/weights.py:1685: UserWarning: The weights matrix is not fully connected: \n",
      " There are 16 disconnected components.\n",
      "  w = W(neighbors, weights, ids, silence_warnings=silence_warnings)\n"
     ]
    },
    {
     "name": "stdout",
     "output_type": "stream",
     "text": [
      "Built tess graph knn=1\n",
      "Built buildings graph knn=1\n",
      "Built streets graph knn=1\n",
      "Built enclosure graph knn=1\n",
      "Built nodes graph knn=1\n"
     ]
    },
    {
     "name": "stderr",
     "output_type": "stream",
     "text": [
      "/home/krasen/morphometrics/.pixi/envs/default/lib/python3.12/site-packages/libpysal/weights/weights.py:1685: UserWarning: The weights matrix is not fully connected: \n",
      " There are 9 disconnected components.\n",
      "  w = W(neighbors, weights, ids, silence_warnings=silence_warnings)\n"
     ]
    },
    {
     "name": "stdout",
     "output_type": "stream",
     "text": [
      "Built tess graph knn=1\n",
      "Built buildings graph knn=1\n",
      "Built streets graph knn=1\n",
      "Built enclosure graph knn=1\n"
     ]
    },
    {
     "name": "stderr",
     "output_type": "stream",
     "text": [
      "/home/krasen/morphometrics/.pixi/envs/default/lib/python3.12/site-packages/libpysal/weights/weights.py:1685: UserWarning: The weights matrix is not fully connected: \n",
      " There are 34 disconnected components.\n",
      "  w = W(neighbors, weights, ids, silence_warnings=silence_warnings)\n"
     ]
    },
    {
     "name": "stdout",
     "output_type": "stream",
     "text": [
      "Built nodes graph knn=1\n",
      "Built tess graph knn=1\n",
      "Built buildings graph knn=1\n",
      "Built streets graph knn=1\n",
      "Built enclosure graph knn=1\n"
     ]
    },
    {
     "name": "stderr",
     "output_type": "stream",
     "text": [
      "/home/krasen/morphometrics/.pixi/envs/default/lib/python3.12/site-packages/libpysal/weights/weights.py:1685: UserWarning: The weights matrix is not fully connected: \n",
      " There are 9 disconnected components.\n",
      "  w = W(neighbors, weights, ids, silence_warnings=silence_warnings)\n"
     ]
    },
    {
     "name": "stdout",
     "output_type": "stream",
     "text": [
      "Built nodes graph knn=1\n",
      "Built tess graph knn=1\n",
      "Built buildings graph knn=1\n",
      "Built streets graph knn=1\n",
      "Built enclosure graph knn=1\n"
     ]
    },
    {
     "name": "stderr",
     "output_type": "stream",
     "text": [
      "/home/krasen/morphometrics/.pixi/envs/default/lib/python3.12/site-packages/libpysal/weights/weights.py:1685: UserWarning: The weights matrix is not fully connected: \n",
      " There are 12 disconnected components.\n",
      "  w = W(neighbors, weights, ids, silence_warnings=silence_warnings)\n"
     ]
    },
    {
     "name": "stdout",
     "output_type": "stream",
     "text": [
      "Built nodes graph knn=1\n",
      "Built tess graph knn=1\n",
      "Built buildings graph knn=1\n",
      "Built streets graph knn=1\n",
      "Built enclosure graph knn=1\n"
     ]
    },
    {
     "name": "stderr",
     "output_type": "stream",
     "text": [
      "/home/krasen/morphometrics/.pixi/envs/default/lib/python3.12/site-packages/libpysal/weights/weights.py:1685: UserWarning: The weights matrix is not fully connected: \n",
      " There are 16 disconnected components.\n",
      "  w = W(neighbors, weights, ids, silence_warnings=silence_warnings)\n"
     ]
    },
    {
     "name": "stdout",
     "output_type": "stream",
     "text": [
      "Built nodes graph knn=1\n",
      "Built tess graph knn=1\n",
      "Built buildings graph knn=1\n",
      "Built streets graph knn=1\n",
      "Built enclosure graph knn=1\n"
     ]
    },
    {
     "name": "stderr",
     "output_type": "stream",
     "text": [
      "/home/krasen/morphometrics/.pixi/envs/default/lib/python3.12/site-packages/libpysal/weights/weights.py:1685: UserWarning: The weights matrix is not fully connected: \n",
      " There are 26 disconnected components.\n",
      "  w = W(neighbors, weights, ids, silence_warnings=silence_warnings)\n"
     ]
    },
    {
     "name": "stdout",
     "output_type": "stream",
     "text": [
      "Built nodes graph knn=1\n",
      "Built tess graph knn=1\n",
      "Built buildings graph knn=1\n",
      "Built streets graph knn=1\n",
      "Built enclosure graph knn=1\n"
     ]
    },
    {
     "name": "stderr",
     "output_type": "stream",
     "text": [
      "/home/krasen/morphometrics/.pixi/envs/default/lib/python3.12/site-packages/libpysal/weights/weights.py:1685: UserWarning: The weights matrix is not fully connected: \n",
      " There are 9 disconnected components.\n",
      "  w = W(neighbors, weights, ids, silence_warnings=silence_warnings)\n"
     ]
    },
    {
     "name": "stdout",
     "output_type": "stream",
     "text": [
      "Built nodes graph knn=1\n",
      "Built tess graph knn=1\n",
      "Built buildings graph knn=1\n",
      "Built streets graph knn=1\n",
      "Built enclosure graph knn=1\n"
     ]
    },
    {
     "name": "stderr",
     "output_type": "stream",
     "text": [
      "/home/krasen/morphometrics/.pixi/envs/default/lib/python3.12/site-packages/libpysal/weights/weights.py:1685: UserWarning: The weights matrix is not fully connected: \n",
      " There are 19 disconnected components.\n",
      "  w = W(neighbors, weights, ids, silence_warnings=silence_warnings)\n"
     ]
    },
    {
     "name": "stdout",
     "output_type": "stream",
     "text": [
      "Built nodes graph knn=1\n",
      "Built tess graph knn=1\n",
      "Built buildings graph knn=1\n",
      "Built streets graph knn=1\n",
      "Built enclosure graph knn=1\n"
     ]
    },
    {
     "name": "stderr",
     "output_type": "stream",
     "text": [
      "/home/krasen/morphometrics/.pixi/envs/default/lib/python3.12/site-packages/libpysal/weights/weights.py:1685: UserWarning: The weights matrix is not fully connected: \n",
      " There are 26 disconnected components.\n",
      "  w = W(neighbors, weights, ids, silence_warnings=silence_warnings)\n"
     ]
    },
    {
     "name": "stdout",
     "output_type": "stream",
     "text": [
      "Built nodes graph knn=1\n",
      "Built tess graph knn=1\n",
      "Built buildings graph knn=1\n",
      "Built streets graph knn=1\n",
      "Built enclosure graph knn=1\n"
     ]
    },
    {
     "name": "stderr",
     "output_type": "stream",
     "text": [
      "/home/krasen/morphometrics/.pixi/envs/default/lib/python3.12/site-packages/libpysal/weights/weights.py:1685: UserWarning: The weights matrix is not fully connected: \n",
      " There are 53 disconnected components.\n",
      "  w = W(neighbors, weights, ids, silence_warnings=silence_warnings)\n"
     ]
    },
    {
     "name": "stdout",
     "output_type": "stream",
     "text": [
      "Built nodes graph knn=1\n",
      "Built tess graph knn=1\n",
      "Built buildings graph knn=1\n",
      "Built streets graph knn=1\n",
      "Built enclosure graph knn=1\n"
     ]
    },
    {
     "name": "stderr",
     "output_type": "stream",
     "text": [
      "/home/krasen/morphometrics/.pixi/envs/default/lib/python3.12/site-packages/libpysal/weights/weights.py:1685: UserWarning: The weights matrix is not fully connected: \n",
      " There are 6 disconnected components.\n",
      "  w = W(neighbors, weights, ids, silence_warnings=silence_warnings)\n"
     ]
    },
    {
     "name": "stdout",
     "output_type": "stream",
     "text": [
      "Built nodes graph knn=1\n",
      "Built tess graph knn=1\n",
      "Built buildings graph knn=1\n",
      "Built streets graph knn=1\n",
      "Built enclosure graph knn=1\n",
      "Built nodes graph knn=1\n"
     ]
    },
    {
     "name": "stderr",
     "output_type": "stream",
     "text": [
      "/home/krasen/morphometrics/.pixi/envs/default/lib/python3.12/site-packages/libpysal/weights/weights.py:1685: UserWarning: The weights matrix is not fully connected: \n",
      " There are 21 disconnected components.\n",
      "  w = W(neighbors, weights, ids, silence_warnings=silence_warnings)\n"
     ]
    },
    {
     "name": "stdout",
     "output_type": "stream",
     "text": [
      "Built tess graph knn=1\n",
      "Built buildings graph knn=1\n",
      "Built streets graph knn=1\n",
      "Built enclosure graph knn=1\n",
      "Built nodes graph knn=1\n"
     ]
    },
    {
     "name": "stderr",
     "output_type": "stream",
     "text": [
      "/home/krasen/morphometrics/.pixi/envs/default/lib/python3.12/site-packages/libpysal/weights/weights.py:1685: UserWarning: The weights matrix is not fully connected: \n",
      " There are 13 disconnected components.\n",
      "  w = W(neighbors, weights, ids, silence_warnings=silence_warnings)\n"
     ]
    },
    {
     "name": "stdout",
     "output_type": "stream",
     "text": [
      "Built tess graph knn=1\n",
      "Built buildings graph knn=1\n",
      "Built streets graph knn=1\n",
      "Built enclosure graph knn=1\n"
     ]
    },
    {
     "name": "stderr",
     "output_type": "stream",
     "text": [
      "/home/krasen/morphometrics/.pixi/envs/default/lib/python3.12/site-packages/libpysal/weights/weights.py:1685: UserWarning: The weights matrix is not fully connected: \n",
      " There are 53 disconnected components.\n",
      "  w = W(neighbors, weights, ids, silence_warnings=silence_warnings)\n"
     ]
    },
    {
     "name": "stdout",
     "output_type": "stream",
     "text": [
      "Built nodes graph knn=1\n",
      "Built tess graph knn=1\n",
      "Built buildings graph knn=1\n",
      "Built streets graph knn=1\n",
      "Built enclosure graph knn=1\n"
     ]
    },
    {
     "name": "stderr",
     "output_type": "stream",
     "text": [
      "/home/krasen/morphometrics/.pixi/envs/default/lib/python3.12/site-packages/libpysal/weights/weights.py:1685: UserWarning: The weights matrix is not fully connected: \n",
      " There are 23 disconnected components.\n",
      "  w = W(neighbors, weights, ids, silence_warnings=silence_warnings)\n"
     ]
    },
    {
     "name": "stdout",
     "output_type": "stream",
     "text": [
      "Built nodes graph knn=1\n",
      "Built tess graph knn=1\n",
      "Built buildings graph knn=1\n",
      "Built streets graph knn=1\n",
      "Built enclosure graph knn=1\n",
      "Built nodes graph knn=1\n"
     ]
    },
    {
     "name": "stderr",
     "output_type": "stream",
     "text": [
      "/home/krasen/morphometrics/.pixi/envs/default/lib/python3.12/site-packages/libpysal/weights/weights.py:1685: UserWarning: The weights matrix is not fully connected: \n",
      " There are 11 disconnected components.\n",
      "  w = W(neighbors, weights, ids, silence_warnings=silence_warnings)\n"
     ]
    },
    {
     "name": "stdout",
     "output_type": "stream",
     "text": [
      "Built tess graph knn=1\n",
      "Built buildings graph knn=1\n",
      "Built streets graph knn=1\n",
      "Built enclosure graph knn=1\n"
     ]
    },
    {
     "name": "stderr",
     "output_type": "stream",
     "text": [
      "/home/krasen/morphometrics/.pixi/envs/default/lib/python3.12/site-packages/libpysal/weights/weights.py:1685: UserWarning: The weights matrix is not fully connected: \n",
      " There are 18 disconnected components.\n",
      "  w = W(neighbors, weights, ids, silence_warnings=silence_warnings)\n"
     ]
    },
    {
     "name": "stdout",
     "output_type": "stream",
     "text": [
      "Built nodes graph knn=1\n",
      "Built tess graph knn=1\n",
      "Built buildings graph knn=1\n",
      "Built streets graph knn=1\n",
      "Built enclosure graph knn=1\n"
     ]
    },
    {
     "name": "stderr",
     "output_type": "stream",
     "text": [
      "/home/krasen/morphometrics/.pixi/envs/default/lib/python3.12/site-packages/libpysal/weights/weights.py:1685: UserWarning: The weights matrix is not fully connected: \n",
      " There are 37 disconnected components.\n",
      "  w = W(neighbors, weights, ids, silence_warnings=silence_warnings)\n"
     ]
    },
    {
     "name": "stdout",
     "output_type": "stream",
     "text": [
      "Built nodes graph knn=1\n",
      "Built tess graph knn=1\n",
      "Built buildings graph knn=1\n",
      "Built streets graph knn=1\n",
      "Built enclosure graph knn=1\n"
     ]
    },
    {
     "name": "stderr",
     "output_type": "stream",
     "text": [
      "/home/krasen/morphometrics/.pixi/envs/default/lib/python3.12/site-packages/libpysal/weights/weights.py:1685: UserWarning: The weights matrix is not fully connected: \n",
      " There are 45 disconnected components.\n",
      "  w = W(neighbors, weights, ids, silence_warnings=silence_warnings)\n"
     ]
    },
    {
     "name": "stdout",
     "output_type": "stream",
     "text": [
      "Built nodes graph knn=1\n",
      "Built tess graph knn=1\n",
      "Built buildings graph knn=1\n",
      "Built streets graph knn=1\n",
      "Built enclosure graph knn=1\n"
     ]
    },
    {
     "name": "stderr",
     "output_type": "stream",
     "text": [
      "/home/krasen/morphometrics/.pixi/envs/default/lib/python3.12/site-packages/libpysal/weights/weights.py:1685: UserWarning: The weights matrix is not fully connected: \n",
      " There are 27 disconnected components.\n",
      "  w = W(neighbors, weights, ids, silence_warnings=silence_warnings)\n"
     ]
    },
    {
     "name": "stdout",
     "output_type": "stream",
     "text": [
      "Built nodes graph knn=1\n",
      "Built tess graph knn=1\n",
      "Built buildings graph knn=1\n",
      "Built streets graph knn=1\n",
      "Built enclosure graph knn=1\n",
      "Built nodes graph knn=1\n"
     ]
    },
    {
     "name": "stderr",
     "output_type": "stream",
     "text": [
      "/home/krasen/morphometrics/.pixi/envs/default/lib/python3.12/site-packages/libpysal/weights/weights.py:1685: UserWarning: The weights matrix is not fully connected: \n",
      " There are 5 disconnected components.\n",
      "  w = W(neighbors, weights, ids, silence_warnings=silence_warnings)\n"
     ]
    },
    {
     "name": "stdout",
     "output_type": "stream",
     "text": [
      "Built tess graph knn=1\n",
      "Built buildings graph knn=1\n",
      "Built streets graph knn=1\n",
      "Built enclosure graph knn=1\n"
     ]
    },
    {
     "name": "stderr",
     "output_type": "stream",
     "text": [
      "/home/krasen/morphometrics/.pixi/envs/default/lib/python3.12/site-packages/libpysal/weights/weights.py:1685: UserWarning: The weights matrix is not fully connected: \n",
      " There are 20 disconnected components.\n",
      "  w = W(neighbors, weights, ids, silence_warnings=silence_warnings)\n"
     ]
    },
    {
     "name": "stdout",
     "output_type": "stream",
     "text": [
      "Built nodes graph knn=1\n",
      "Built tess graph knn=1\n",
      "Built buildings graph knn=1\n",
      "Built streets graph knn=1\n",
      "Built enclosure graph knn=1\n"
     ]
    },
    {
     "name": "stderr",
     "output_type": "stream",
     "text": [
      "/home/krasen/morphometrics/.pixi/envs/default/lib/python3.12/site-packages/libpysal/weights/weights.py:1685: UserWarning: The weights matrix is not fully connected: \n",
      " There are 16 disconnected components.\n",
      "  w = W(neighbors, weights, ids, silence_warnings=silence_warnings)\n"
     ]
    },
    {
     "name": "stdout",
     "output_type": "stream",
     "text": [
      "Built nodes graph knn=1\n",
      "Built tess graph knn=1\n",
      "Built buildings graph knn=1\n",
      "Built streets graph knn=1\n",
      "Built enclosure graph knn=1\n"
     ]
    },
    {
     "name": "stderr",
     "output_type": "stream",
     "text": [
      "/home/krasen/morphometrics/.pixi/envs/default/lib/python3.12/site-packages/libpysal/weights/weights.py:1685: UserWarning: The weights matrix is not fully connected: \n",
      " There are 32 disconnected components.\n",
      "  w = W(neighbors, weights, ids, silence_warnings=silence_warnings)\n"
     ]
    },
    {
     "name": "stdout",
     "output_type": "stream",
     "text": [
      "Built nodes graph knn=1\n",
      "Built tess graph knn=1\n",
      "Built buildings graph knn=1\n",
      "Built streets graph knn=1\n",
      "Built enclosure graph knn=1\n"
     ]
    },
    {
     "name": "stderr",
     "output_type": "stream",
     "text": [
      "/home/krasen/morphometrics/.pixi/envs/default/lib/python3.12/site-packages/libpysal/weights/weights.py:1685: UserWarning: The weights matrix is not fully connected: \n",
      " There are 91 disconnected components.\n",
      "  w = W(neighbors, weights, ids, silence_warnings=silence_warnings)\n"
     ]
    },
    {
     "name": "stdout",
     "output_type": "stream",
     "text": [
      "Built nodes graph knn=1\n",
      "Built tess graph knn=1\n",
      "Built buildings graph knn=1\n",
      "Built streets graph knn=1\n",
      "Built enclosure graph knn=1\n"
     ]
    },
    {
     "name": "stderr",
     "output_type": "stream",
     "text": [
      "/home/krasen/morphometrics/.pixi/envs/default/lib/python3.12/site-packages/libpysal/weights/weights.py:1685: UserWarning: The weights matrix is not fully connected: \n",
      " There are 34 disconnected components.\n",
      "  w = W(neighbors, weights, ids, silence_warnings=silence_warnings)\n"
     ]
    },
    {
     "name": "stdout",
     "output_type": "stream",
     "text": [
      "Built nodes graph knn=1\n",
      "Built tess graph knn=1\n",
      "Built buildings graph knn=1\n",
      "Built streets graph knn=1\n",
      "Built enclosure graph knn=1\n"
     ]
    },
    {
     "name": "stderr",
     "output_type": "stream",
     "text": [
      "/home/krasen/morphometrics/.pixi/envs/default/lib/python3.12/site-packages/libpysal/weights/weights.py:1685: UserWarning: The weights matrix is not fully connected: \n",
      " There are 15 disconnected components.\n",
      "  w = W(neighbors, weights, ids, silence_warnings=silence_warnings)\n"
     ]
    },
    {
     "name": "stdout",
     "output_type": "stream",
     "text": [
      "Built nodes graph knn=1\n",
      "Built tess graph knn=1\n",
      "Built buildings graph knn=1\n",
      "Built streets graph knn=1\n",
      "Built enclosure graph knn=1\n"
     ]
    },
    {
     "name": "stderr",
     "output_type": "stream",
     "text": [
      "/home/krasen/morphometrics/.pixi/envs/default/lib/python3.12/site-packages/libpysal/weights/weights.py:1685: UserWarning: The weights matrix is not fully connected: \n",
      " There are 45 disconnected components.\n",
      "  w = W(neighbors, weights, ids, silence_warnings=silence_warnings)\n"
     ]
    },
    {
     "name": "stdout",
     "output_type": "stream",
     "text": [
      "Built nodes graph knn=1\n",
      "Built tess graph knn=1\n",
      "Built buildings graph knn=1\n",
      "Built streets graph knn=1\n",
      "Built enclosure graph knn=1\n"
     ]
    },
    {
     "name": "stderr",
     "output_type": "stream",
     "text": [
      "/home/krasen/morphometrics/.pixi/envs/default/lib/python3.12/site-packages/libpysal/weights/weights.py:1685: UserWarning: The weights matrix is not fully connected: \n",
      " There are 14 disconnected components.\n",
      "  w = W(neighbors, weights, ids, silence_warnings=silence_warnings)\n"
     ]
    },
    {
     "name": "stdout",
     "output_type": "stream",
     "text": [
      "Built nodes graph knn=1\n",
      "Built tess graph knn=1\n",
      "Built buildings graph knn=1\n",
      "Built streets graph knn=1\n",
      "Built enclosure graph knn=1\n"
     ]
    },
    {
     "name": "stderr",
     "output_type": "stream",
     "text": [
      "/home/krasen/morphometrics/.pixi/envs/default/lib/python3.12/site-packages/libpysal/weights/weights.py:1685: UserWarning: The weights matrix is not fully connected: \n",
      " There are 40 disconnected components.\n",
      "  w = W(neighbors, weights, ids, silence_warnings=silence_warnings)\n"
     ]
    },
    {
     "name": "stdout",
     "output_type": "stream",
     "text": [
      "Built nodes graph knn=1\n",
      "Built tess graph knn=1\n",
      "Built buildings graph knn=1\n",
      "Built streets graph knn=1\n",
      "Built enclosure graph knn=1\n"
     ]
    },
    {
     "name": "stderr",
     "output_type": "stream",
     "text": [
      "/home/krasen/morphometrics/.pixi/envs/default/lib/python3.12/site-packages/libpysal/weights/weights.py:1685: UserWarning: The weights matrix is not fully connected: \n",
      " There are 23 disconnected components.\n",
      "  w = W(neighbors, weights, ids, silence_warnings=silence_warnings)\n"
     ]
    },
    {
     "name": "stdout",
     "output_type": "stream",
     "text": [
      "Built nodes graph knn=1\n",
      "Built tess graph knn=1\n",
      "Built buildings graph knn=1\n",
      "Built streets graph knn=1\n",
      "Built enclosure graph knn=1\n",
      "Built nodes graph knn=1\n"
     ]
    },
    {
     "name": "stderr",
     "output_type": "stream",
     "text": [
      "/home/krasen/morphometrics/.pixi/envs/default/lib/python3.12/site-packages/libpysal/weights/weights.py:1685: UserWarning: The weights matrix is not fully connected: \n",
      " There are 4 disconnected components.\n",
      "  w = W(neighbors, weights, ids, silence_warnings=silence_warnings)\n"
     ]
    },
    {
     "name": "stdout",
     "output_type": "stream",
     "text": [
      "Built tess graph knn=1\n",
      "Built buildings graph knn=1\n",
      "Built streets graph knn=1\n",
      "Built enclosure graph knn=1\n",
      "Built nodes graph knn=1\n"
     ]
    },
    {
     "name": "stderr",
     "output_type": "stream",
     "text": [
      "/home/krasen/morphometrics/.pixi/envs/default/lib/python3.12/site-packages/libpysal/weights/weights.py:1685: UserWarning: The weights matrix is not fully connected: \n",
      " There are 22 disconnected components.\n",
      "  w = W(neighbors, weights, ids, silence_warnings=silence_warnings)\n"
     ]
    },
    {
     "name": "stdout",
     "output_type": "stream",
     "text": [
      "Built tess graph knn=1\n",
      "Built buildings graph knn=1\n",
      "Built streets graph knn=1\n",
      "Built enclosure graph knn=1\n"
     ]
    },
    {
     "name": "stderr",
     "output_type": "stream",
     "text": [
      "/home/krasen/morphometrics/.pixi/envs/default/lib/python3.12/site-packages/libpysal/weights/weights.py:1685: UserWarning: The weights matrix is not fully connected: \n",
      " There are 26 disconnected components.\n",
      "  w = W(neighbors, weights, ids, silence_warnings=silence_warnings)\n"
     ]
    },
    {
     "name": "stdout",
     "output_type": "stream",
     "text": [
      "Built nodes graph knn=1\n",
      "Built tess graph knn=1\n",
      "Built buildings graph knn=1\n",
      "Built streets graph knn=1\n",
      "Built enclosure graph knn=1\n"
     ]
    },
    {
     "name": "stderr",
     "output_type": "stream",
     "text": [
      "/home/krasen/morphometrics/.pixi/envs/default/lib/python3.12/site-packages/libpysal/weights/weights.py:1685: UserWarning: The weights matrix is not fully connected: \n",
      " There are 7 disconnected components.\n",
      "  w = W(neighbors, weights, ids, silence_warnings=silence_warnings)\n"
     ]
    },
    {
     "name": "stdout",
     "output_type": "stream",
     "text": [
      "Built nodes graph knn=1\n",
      "Built tess graph knn=1\n",
      "Built buildings graph knn=1\n",
      "Built streets graph knn=1\n",
      "Built enclosure graph knn=1\n",
      "Built nodes graph knn=1\n"
     ]
    },
    {
     "name": "stderr",
     "output_type": "stream",
     "text": [
      "/home/krasen/morphometrics/.pixi/envs/default/lib/python3.12/site-packages/libpysal/weights/weights.py:1685: UserWarning: The weights matrix is not fully connected: \n",
      " There are 29 disconnected components.\n",
      "  w = W(neighbors, weights, ids, silence_warnings=silence_warnings)\n"
     ]
    },
    {
     "name": "stdout",
     "output_type": "stream",
     "text": [
      "Built tess graph knn=1\n",
      "Built buildings graph knn=1\n",
      "Built streets graph knn=1\n",
      "Built enclosure graph knn=1\n",
      "Built nodes graph knn=1\n"
     ]
    },
    {
     "name": "stderr",
     "output_type": "stream",
     "text": [
      "/home/krasen/morphometrics/.pixi/envs/default/lib/python3.12/site-packages/libpysal/weights/weights.py:1685: UserWarning: The weights matrix is not fully connected: \n",
      " There are 11 disconnected components.\n",
      "  w = W(neighbors, weights, ids, silence_warnings=silence_warnings)\n"
     ]
    },
    {
     "name": "stdout",
     "output_type": "stream",
     "text": [
      "Built tess graph knn=1\n",
      "Built buildings graph knn=1\n",
      "Built streets graph knn=1\n",
      "Built enclosure graph knn=1\n"
     ]
    },
    {
     "name": "stderr",
     "output_type": "stream",
     "text": [
      "/home/krasen/morphometrics/.pixi/envs/default/lib/python3.12/site-packages/libpysal/weights/weights.py:1685: UserWarning: The weights matrix is not fully connected: \n",
      " There are 14 disconnected components.\n",
      "  w = W(neighbors, weights, ids, silence_warnings=silence_warnings)\n"
     ]
    },
    {
     "name": "stdout",
     "output_type": "stream",
     "text": [
      "Built nodes graph knn=1\n",
      "Built tess graph knn=1\n",
      "Built buildings graph knn=1\n",
      "Built streets graph knn=1\n",
      "Built enclosure graph knn=1\n",
      "Built nodes graph knn=1\n"
     ]
    },
    {
     "name": "stderr",
     "output_type": "stream",
     "text": [
      "/home/krasen/morphometrics/.pixi/envs/default/lib/python3.12/site-packages/libpysal/weights/weights.py:1685: UserWarning: The weights matrix is not fully connected: \n",
      " There are 27 disconnected components.\n",
      "  w = W(neighbors, weights, ids, silence_warnings=silence_warnings)\n"
     ]
    },
    {
     "name": "stdout",
     "output_type": "stream",
     "text": [
      "Built tess graph knn=1\n",
      "Built buildings graph knn=1\n",
      "Built streets graph knn=1\n",
      "Built enclosure graph knn=1\n",
      "Built nodes graph knn=1\n"
     ]
    },
    {
     "name": "stderr",
     "output_type": "stream",
     "text": [
      "/home/krasen/morphometrics/.pixi/envs/default/lib/python3.12/site-packages/libpysal/weights/weights.py:1685: UserWarning: The weights matrix is not fully connected: \n",
      " There are 5 disconnected components.\n",
      "  w = W(neighbors, weights, ids, silence_warnings=silence_warnings)\n"
     ]
    },
    {
     "name": "stdout",
     "output_type": "stream",
     "text": [
      "Built tess graph knn=1\n",
      "Built buildings graph knn=1\n",
      "Built streets graph knn=1\n",
      "Built enclosure graph knn=1\n"
     ]
    },
    {
     "name": "stderr",
     "output_type": "stream",
     "text": [
      "/home/krasen/morphometrics/.pixi/envs/default/lib/python3.12/site-packages/libpysal/weights/weights.py:1685: UserWarning: The weights matrix is not fully connected: \n",
      " There are 24 disconnected components.\n",
      "  w = W(neighbors, weights, ids, silence_warnings=silence_warnings)\n"
     ]
    },
    {
     "name": "stdout",
     "output_type": "stream",
     "text": [
      "Built nodes graph knn=1\n",
      "Built tess graph knn=1\n",
      "Built buildings graph knn=1\n",
      "Built streets graph knn=1\n",
      "Built enclosure graph knn=1\n",
      "Built nodes graph knn=1\n"
     ]
    },
    {
     "name": "stderr",
     "output_type": "stream",
     "text": [
      "/home/krasen/morphometrics/.pixi/envs/default/lib/python3.12/site-packages/libpysal/weights/weights.py:1685: UserWarning: The weights matrix is not fully connected: \n",
      " There are 5 disconnected components.\n",
      "  w = W(neighbors, weights, ids, silence_warnings=silence_warnings)\n"
     ]
    },
    {
     "name": "stdout",
     "output_type": "stream",
     "text": [
      "Built tess graph knn=1\n",
      "Built buildings graph knn=1\n",
      "Built streets graph knn=1\n",
      "Built enclosure graph knn=1\n"
     ]
    },
    {
     "name": "stderr",
     "output_type": "stream",
     "text": [
      "/home/krasen/morphometrics/.pixi/envs/default/lib/python3.12/site-packages/libpysal/weights/weights.py:1685: UserWarning: The weights matrix is not fully connected: \n",
      " There are 230 disconnected components.\n",
      "  w = W(neighbors, weights, ids, silence_warnings=silence_warnings)\n"
     ]
    },
    {
     "name": "stdout",
     "output_type": "stream",
     "text": [
      "Built nodes graph knn=1\n",
      "Built tess graph knn=1\n",
      "Built buildings graph knn=1\n",
      "Built streets graph knn=1\n",
      "Built enclosure graph knn=1\n",
      "Built nodes graph knn=1\n"
     ]
    },
    {
     "name": "stderr",
     "output_type": "stream",
     "text": [
      "/home/krasen/morphometrics/.pixi/envs/default/lib/python3.12/site-packages/libpysal/weights/weights.py:1685: UserWarning: The weights matrix is not fully connected: \n",
      " There are 10 disconnected components.\n",
      "  w = W(neighbors, weights, ids, silence_warnings=silence_warnings)\n"
     ]
    },
    {
     "name": "stdout",
     "output_type": "stream",
     "text": [
      "Built tess graph knn=1\n",
      "Built buildings graph knn=1\n",
      "Built streets graph knn=1\n",
      "Built enclosure graph knn=1\n"
     ]
    },
    {
     "name": "stderr",
     "output_type": "stream",
     "text": [
      "/home/krasen/morphometrics/.pixi/envs/default/lib/python3.12/site-packages/libpysal/weights/weights.py:1685: UserWarning: The weights matrix is not fully connected: \n",
      " There are 15 disconnected components.\n",
      "  w = W(neighbors, weights, ids, silence_warnings=silence_warnings)\n"
     ]
    },
    {
     "name": "stdout",
     "output_type": "stream",
     "text": [
      "Built nodes graph knn=1\n",
      "Built tess graph knn=1\n",
      "Built buildings graph knn=1\n",
      "Built streets graph knn=1\n",
      "Built enclosure graph knn=1\n"
     ]
    },
    {
     "name": "stderr",
     "output_type": "stream",
     "text": [
      "/home/krasen/morphometrics/.pixi/envs/default/lib/python3.12/site-packages/libpysal/weights/weights.py:1685: UserWarning: The weights matrix is not fully connected: \n",
      " There are 28 disconnected components.\n",
      "  w = W(neighbors, weights, ids, silence_warnings=silence_warnings)\n"
     ]
    },
    {
     "name": "stdout",
     "output_type": "stream",
     "text": [
      "Built nodes graph knn=1\n",
      "Built tess graph knn=1\n",
      "Built buildings graph knn=1\n",
      "Built streets graph knn=1\n",
      "Built enclosure graph knn=1\n"
     ]
    },
    {
     "name": "stderr",
     "output_type": "stream",
     "text": [
      "/home/krasen/morphometrics/.pixi/envs/default/lib/python3.12/site-packages/libpysal/weights/weights.py:1685: UserWarning: The weights matrix is not fully connected: \n",
      " There are 25 disconnected components.\n",
      "  w = W(neighbors, weights, ids, silence_warnings=silence_warnings)\n"
     ]
    },
    {
     "name": "stdout",
     "output_type": "stream",
     "text": [
      "Built nodes graph knn=1\n",
      "Built tess graph knn=1\n",
      "Built buildings graph knn=1\n",
      "Built streets graph knn=1\n",
      "Built enclosure graph knn=1\n"
     ]
    },
    {
     "name": "stderr",
     "output_type": "stream",
     "text": [
      "/home/krasen/morphometrics/.pixi/envs/default/lib/python3.12/site-packages/libpysal/weights/weights.py:1685: UserWarning: The weights matrix is not fully connected: \n",
      " There are 17 disconnected components.\n",
      "  w = W(neighbors, weights, ids, silence_warnings=silence_warnings)\n"
     ]
    },
    {
     "name": "stdout",
     "output_type": "stream",
     "text": [
      "Built nodes graph knn=1\n",
      "Built tess graph knn=1\n",
      "Built buildings graph knn=1\n",
      "Built streets graph knn=1\n",
      "Built enclosure graph knn=1\n"
     ]
    },
    {
     "name": "stderr",
     "output_type": "stream",
     "text": [
      "/home/krasen/morphometrics/.pixi/envs/default/lib/python3.12/site-packages/libpysal/weights/weights.py:1685: UserWarning: The weights matrix is not fully connected: \n",
      " There are 22 disconnected components.\n",
      "  w = W(neighbors, weights, ids, silence_warnings=silence_warnings)\n"
     ]
    },
    {
     "name": "stdout",
     "output_type": "stream",
     "text": [
      "Built nodes graph knn=1\n",
      "Built tess graph knn=1\n",
      "Built buildings graph knn=1\n",
      "Built streets graph knn=1\n",
      "Built enclosure graph knn=1\n"
     ]
    },
    {
     "name": "stderr",
     "output_type": "stream",
     "text": [
      "/home/krasen/morphometrics/.pixi/envs/default/lib/python3.12/site-packages/libpysal/weights/weights.py:1685: UserWarning: The weights matrix is not fully connected: \n",
      " There are 18 disconnected components.\n",
      "  w = W(neighbors, weights, ids, silence_warnings=silence_warnings)\n"
     ]
    },
    {
     "name": "stdout",
     "output_type": "stream",
     "text": [
      "Built nodes graph knn=1\n",
      "Built tess graph knn=1\n",
      "Built buildings graph knn=1\n",
      "Built streets graph knn=1\n",
      "Built enclosure graph knn=1\n"
     ]
    },
    {
     "name": "stderr",
     "output_type": "stream",
     "text": [
      "/home/krasen/morphometrics/.pixi/envs/default/lib/python3.12/site-packages/libpysal/weights/weights.py:1685: UserWarning: The weights matrix is not fully connected: \n",
      " There are 28 disconnected components.\n",
      "  w = W(neighbors, weights, ids, silence_warnings=silence_warnings)\n"
     ]
    },
    {
     "name": "stdout",
     "output_type": "stream",
     "text": [
      "Built nodes graph knn=1\n",
      "Built tess graph knn=1\n",
      "Built buildings graph knn=1\n",
      "Built streets graph knn=1\n",
      "Built enclosure graph knn=1\n"
     ]
    },
    {
     "name": "stderr",
     "output_type": "stream",
     "text": [
      "/home/krasen/morphometrics/.pixi/envs/default/lib/python3.12/site-packages/libpysal/weights/weights.py:1685: UserWarning: The weights matrix is not fully connected: \n",
      " There are 15 disconnected components.\n",
      "  w = W(neighbors, weights, ids, silence_warnings=silence_warnings)\n"
     ]
    },
    {
     "name": "stdout",
     "output_type": "stream",
     "text": [
      "Built nodes graph knn=1\n",
      "Built tess graph knn=1\n",
      "Built buildings graph knn=1\n",
      "Built streets graph knn=1\n",
      "Built enclosure graph knn=1\n"
     ]
    },
    {
     "name": "stderr",
     "output_type": "stream",
     "text": [
      "/home/krasen/morphometrics/.pixi/envs/default/lib/python3.12/site-packages/libpysal/weights/weights.py:1685: UserWarning: The weights matrix is not fully connected: \n",
      " There are 24 disconnected components.\n",
      "  w = W(neighbors, weights, ids, silence_warnings=silence_warnings)\n"
     ]
    },
    {
     "name": "stdout",
     "output_type": "stream",
     "text": [
      "Built nodes graph knn=1\n",
      "Built tess graph knn=1\n",
      "Built buildings graph knn=1\n",
      "Built streets graph knn=1\n",
      "Built enclosure graph knn=1\n",
      "Built nodes graph knn=1\n"
     ]
    },
    {
     "name": "stderr",
     "output_type": "stream",
     "text": [
      "/home/krasen/morphometrics/.pixi/envs/default/lib/python3.12/site-packages/libpysal/weights/weights.py:1685: UserWarning: The weights matrix is not fully connected: \n",
      " There are 16 disconnected components.\n",
      "  w = W(neighbors, weights, ids, silence_warnings=silence_warnings)\n"
     ]
    },
    {
     "name": "stdout",
     "output_type": "stream",
     "text": [
      "Built tess graph knn=1\n",
      "Built buildings graph knn=1\n",
      "Built streets graph knn=1\n",
      "Built enclosure graph knn=1\n"
     ]
    },
    {
     "name": "stderr",
     "output_type": "stream",
     "text": [
      "/home/krasen/morphometrics/.pixi/envs/default/lib/python3.12/site-packages/libpysal/weights/weights.py:1685: UserWarning: The weights matrix is not fully connected: \n",
      " There are 28 disconnected components.\n",
      "  w = W(neighbors, weights, ids, silence_warnings=silence_warnings)\n"
     ]
    },
    {
     "name": "stdout",
     "output_type": "stream",
     "text": [
      "Built nodes graph knn=1\n",
      "Built tess graph knn=1\n",
      "Built buildings graph knn=1\n",
      "Built streets graph knn=1\n",
      "Built enclosure graph knn=1\n"
     ]
    },
    {
     "name": "stderr",
     "output_type": "stream",
     "text": [
      "/home/krasen/morphometrics/.pixi/envs/default/lib/python3.12/site-packages/libpysal/weights/weights.py:1685: UserWarning: The weights matrix is not fully connected: \n",
      " There are 14 disconnected components.\n",
      "  w = W(neighbors, weights, ids, silence_warnings=silence_warnings)\n"
     ]
    },
    {
     "name": "stdout",
     "output_type": "stream",
     "text": [
      "Built nodes graph knn=1\n",
      "Built tess graph knn=1\n",
      "Built buildings graph knn=1\n",
      "Built streets graph knn=1\n",
      "Built enclosure graph knn=1\n",
      "Built nodes graph knn=1\n"
     ]
    },
    {
     "name": "stderr",
     "output_type": "stream",
     "text": [
      "/home/krasen/morphometrics/.pixi/envs/default/lib/python3.12/site-packages/libpysal/weights/weights.py:1685: UserWarning: The weights matrix is not fully connected: \n",
      " There are 11 disconnected components.\n",
      "  w = W(neighbors, weights, ids, silence_warnings=silence_warnings)\n"
     ]
    },
    {
     "name": "stdout",
     "output_type": "stream",
     "text": [
      "Built tess graph knn=1\n",
      "Built buildings graph knn=1\n",
      "Built streets graph knn=1\n",
      "Built enclosure graph knn=1\n",
      "Built nodes graph knn=1\n"
     ]
    },
    {
     "name": "stderr",
     "output_type": "stream",
     "text": [
      "/home/krasen/morphometrics/.pixi/envs/default/lib/python3.12/site-packages/libpysal/weights/weights.py:1685: UserWarning: The weights matrix is not fully connected: \n",
      " There are 15 disconnected components.\n",
      "  w = W(neighbors, weights, ids, silence_warnings=silence_warnings)\n"
     ]
    },
    {
     "name": "stdout",
     "output_type": "stream",
     "text": [
      "Built tess graph knn=1\n",
      "Built buildings graph knn=1\n",
      "Built streets graph knn=1\n",
      "Built enclosure graph knn=1\n"
     ]
    },
    {
     "name": "stderr",
     "output_type": "stream",
     "text": [
      "/home/krasen/morphometrics/.pixi/envs/default/lib/python3.12/site-packages/libpysal/weights/weights.py:1685: UserWarning: The weights matrix is not fully connected: \n",
      " There are 29 disconnected components.\n",
      "  w = W(neighbors, weights, ids, silence_warnings=silence_warnings)\n"
     ]
    },
    {
     "name": "stdout",
     "output_type": "stream",
     "text": [
      "Built nodes graph knn=1\n",
      "Built tess graph knn=1\n",
      "Built buildings graph knn=1\n",
      "Built streets graph knn=1\n",
      "Built enclosure graph knn=1\n",
      "Built nodes graph knn=1\n"
     ]
    },
    {
     "name": "stderr",
     "output_type": "stream",
     "text": [
      "/home/krasen/morphometrics/.pixi/envs/default/lib/python3.12/site-packages/libpysal/weights/weights.py:1685: UserWarning: The weights matrix is not fully connected: \n",
      " There are 16 disconnected components.\n",
      "  w = W(neighbors, weights, ids, silence_warnings=silence_warnings)\n"
     ]
    },
    {
     "name": "stdout",
     "output_type": "stream",
     "text": [
      "Built tess graph knn=1\n",
      "Built buildings graph knn=1\n",
      "Built streets graph knn=1\n",
      "Built enclosure graph knn=1\n",
      "Built nodes graph knn=1\n"
     ]
    },
    {
     "name": "stderr",
     "output_type": "stream",
     "text": [
      "/home/krasen/morphometrics/.pixi/envs/default/lib/python3.12/site-packages/libpysal/weights/weights.py:1685: UserWarning: The weights matrix is not fully connected: \n",
      " There are 8 disconnected components.\n",
      "  w = W(neighbors, weights, ids, silence_warnings=silence_warnings)\n"
     ]
    },
    {
     "name": "stdout",
     "output_type": "stream",
     "text": [
      "Built tess graph knn=1\n",
      "Built buildings graph knn=1\n",
      "Built streets graph knn=1\n",
      "Built enclosure graph knn=1\n",
      "Built nodes graph knn=1\n"
     ]
    },
    {
     "name": "stderr",
     "output_type": "stream",
     "text": [
      "/home/krasen/morphometrics/.pixi/envs/default/lib/python3.12/site-packages/libpysal/weights/weights.py:1685: UserWarning: The weights matrix is not fully connected: \n",
      " There are 11 disconnected components.\n",
      "  w = W(neighbors, weights, ids, silence_warnings=silence_warnings)\n"
     ]
    },
    {
     "name": "stdout",
     "output_type": "stream",
     "text": [
      "Built tess graph knn=1\n",
      "Built buildings graph knn=1\n",
      "Built streets graph knn=1\n",
      "Built enclosure graph knn=1\n"
     ]
    },
    {
     "name": "stderr",
     "output_type": "stream",
     "text": [
      "/home/krasen/morphometrics/.pixi/envs/default/lib/python3.12/site-packages/libpysal/weights/weights.py:1685: UserWarning: The weights matrix is not fully connected: \n",
      " There are 7 disconnected components.\n",
      "  w = W(neighbors, weights, ids, silence_warnings=silence_warnings)\n"
     ]
    },
    {
     "name": "stdout",
     "output_type": "stream",
     "text": [
      "Built nodes graph knn=1\n",
      "Built tess graph knn=1\n",
      "Built buildings graph knn=1\n",
      "Built streets graph knn=1\n",
      "Built enclosure graph knn=1\n",
      "Built nodes graph knn=1\n"
     ]
    },
    {
     "name": "stderr",
     "output_type": "stream",
     "text": [
      "/home/krasen/morphometrics/.pixi/envs/default/lib/python3.12/site-packages/libpysal/weights/weights.py:1685: UserWarning: The weights matrix is not fully connected: \n",
      " There are 16 disconnected components.\n",
      "  w = W(neighbors, weights, ids, silence_warnings=silence_warnings)\n"
     ]
    },
    {
     "name": "stdout",
     "output_type": "stream",
     "text": [
      "Built tess graph knn=1\n",
      "Built buildings graph knn=1\n",
      "Built streets graph knn=1\n",
      "Built enclosure graph knn=1\n"
     ]
    },
    {
     "name": "stderr",
     "output_type": "stream",
     "text": [
      "/home/krasen/morphometrics/.pixi/envs/default/lib/python3.12/site-packages/libpysal/weights/weights.py:1685: UserWarning: The weights matrix is not fully connected: \n",
      " There are 18 disconnected components.\n",
      "  w = W(neighbors, weights, ids, silence_warnings=silence_warnings)\n"
     ]
    },
    {
     "name": "stdout",
     "output_type": "stream",
     "text": [
      "Built nodes graph knn=1\n",
      "Built tess graph knn=1\n",
      "Built buildings graph knn=1\n",
      "Built streets graph knn=1\n",
      "Built enclosure graph knn=1\n"
     ]
    },
    {
     "name": "stderr",
     "output_type": "stream",
     "text": [
      "/home/krasen/morphometrics/.pixi/envs/default/lib/python3.12/site-packages/libpysal/weights/weights.py:1685: UserWarning: The weights matrix is not fully connected: \n",
      " There are 28 disconnected components.\n",
      "  w = W(neighbors, weights, ids, silence_warnings=silence_warnings)\n"
     ]
    },
    {
     "name": "stdout",
     "output_type": "stream",
     "text": [
      "Built nodes graph knn=1\n",
      "Built tess graph knn=1\n",
      "Built buildings graph knn=1\n",
      "Built streets graph knn=1\n",
      "Built enclosure graph knn=1\n"
     ]
    },
    {
     "name": "stderr",
     "output_type": "stream",
     "text": [
      "/home/krasen/morphometrics/.pixi/envs/default/lib/python3.12/site-packages/libpysal/weights/weights.py:1685: UserWarning: The weights matrix is not fully connected: \n",
      " There are 48 disconnected components.\n",
      "  w = W(neighbors, weights, ids, silence_warnings=silence_warnings)\n"
     ]
    },
    {
     "name": "stdout",
     "output_type": "stream",
     "text": [
      "Built nodes graph knn=1\n",
      "Built tess graph knn=1\n",
      "Built buildings graph knn=1\n",
      "Built streets graph knn=1\n",
      "Built enclosure graph knn=1\n",
      "Built nodes graph knn=1\n"
     ]
    },
    {
     "name": "stderr",
     "output_type": "stream",
     "text": [
      "/home/krasen/morphometrics/.pixi/envs/default/lib/python3.12/site-packages/libpysal/weights/weights.py:1685: UserWarning: The weights matrix is not fully connected: \n",
      " There are 8 disconnected components.\n",
      "  w = W(neighbors, weights, ids, silence_warnings=silence_warnings)\n"
     ]
    },
    {
     "name": "stdout",
     "output_type": "stream",
     "text": [
      "Built tess graph knn=1\n",
      "Built buildings graph knn=1\n",
      "Built streets graph knn=1\n",
      "Built enclosure graph knn=1\n"
     ]
    },
    {
     "name": "stderr",
     "output_type": "stream",
     "text": [
      "/home/krasen/morphometrics/.pixi/envs/default/lib/python3.12/site-packages/libpysal/weights/weights.py:1685: UserWarning: The weights matrix is not fully connected: \n",
      " There are 25 disconnected components.\n",
      "  w = W(neighbors, weights, ids, silence_warnings=silence_warnings)\n"
     ]
    },
    {
     "name": "stdout",
     "output_type": "stream",
     "text": [
      "Built nodes graph knn=1\n",
      "Built tess graph knn=1\n",
      "Built buildings graph knn=1\n",
      "Built streets graph knn=1\n",
      "Built enclosure graph knn=1\n"
     ]
    },
    {
     "name": "stderr",
     "output_type": "stream",
     "text": [
      "/home/krasen/morphometrics/.pixi/envs/default/lib/python3.12/site-packages/libpysal/weights/weights.py:1685: UserWarning: The weights matrix is not fully connected: \n",
      " There are 4 disconnected components.\n",
      "  w = W(neighbors, weights, ids, silence_warnings=silence_warnings)\n"
     ]
    },
    {
     "name": "stdout",
     "output_type": "stream",
     "text": [
      "Built nodes graph knn=1\n",
      "Built tess graph knn=1\n",
      "Built buildings graph knn=1\n",
      "Built streets graph knn=1\n",
      "Built enclosure graph knn=1\n"
     ]
    },
    {
     "name": "stderr",
     "output_type": "stream",
     "text": [
      "/home/krasen/morphometrics/.pixi/envs/default/lib/python3.12/site-packages/libpysal/weights/weights.py:1685: UserWarning: The weights matrix is not fully connected: \n",
      " There are 76 disconnected components.\n",
      "  w = W(neighbors, weights, ids, silence_warnings=silence_warnings)\n"
     ]
    },
    {
     "name": "stdout",
     "output_type": "stream",
     "text": [
      "Built nodes graph knn=1\n",
      "Built tess graph knn=1\n",
      "Built buildings graph knn=1\n",
      "Built streets graph knn=1\n",
      "Built enclosure graph knn=1\n"
     ]
    },
    {
     "name": "stderr",
     "output_type": "stream",
     "text": [
      "/home/krasen/morphometrics/.pixi/envs/default/lib/python3.12/site-packages/libpysal/weights/weights.py:1685: UserWarning: The weights matrix is not fully connected: \n",
      " There are 9 disconnected components.\n",
      "  w = W(neighbors, weights, ids, silence_warnings=silence_warnings)\n"
     ]
    },
    {
     "name": "stdout",
     "output_type": "stream",
     "text": [
      "Built nodes graph knn=1\n",
      "Built tess graph knn=1\n",
      "Built buildings graph knn=1\n",
      "Built streets graph knn=1\n",
      "Built enclosure graph knn=1\n",
      "Built nodes graph knn=1\n"
     ]
    },
    {
     "name": "stderr",
     "output_type": "stream",
     "text": [
      "/home/krasen/morphometrics/.pixi/envs/default/lib/python3.12/site-packages/libpysal/weights/weights.py:1685: UserWarning: The weights matrix is not fully connected: \n",
      " There are 13 disconnected components.\n",
      "  w = W(neighbors, weights, ids, silence_warnings=silence_warnings)\n"
     ]
    },
    {
     "name": "stdout",
     "output_type": "stream",
     "text": [
      "Built tess graph knn=1\n",
      "Built buildings graph knn=1\n",
      "Built streets graph knn=1\n",
      "Built enclosure graph knn=1\n"
     ]
    },
    {
     "name": "stderr",
     "output_type": "stream",
     "text": [
      "/home/krasen/morphometrics/.pixi/envs/default/lib/python3.12/site-packages/libpysal/weights/weights.py:1685: UserWarning: The weights matrix is not fully connected: \n",
      " There are 21 disconnected components.\n",
      "  w = W(neighbors, weights, ids, silence_warnings=silence_warnings)\n"
     ]
    },
    {
     "name": "stdout",
     "output_type": "stream",
     "text": [
      "Built nodes graph knn=1\n",
      "Built tess graph knn=1\n",
      "Built buildings graph knn=1\n",
      "Built streets graph knn=1\n",
      "Built enclosure graph knn=1\n",
      "Built nodes graph knn=1\n"
     ]
    },
    {
     "name": "stderr",
     "output_type": "stream",
     "text": [
      "/home/krasen/morphometrics/.pixi/envs/default/lib/python3.12/site-packages/libpysal/weights/weights.py:1685: UserWarning: The weights matrix is not fully connected: \n",
      " There are 7 disconnected components.\n",
      "  w = W(neighbors, weights, ids, silence_warnings=silence_warnings)\n"
     ]
    },
    {
     "name": "stdout",
     "output_type": "stream",
     "text": [
      "Built tess graph knn=1\n",
      "Built buildings graph knn=1\n",
      "Built streets graph knn=1\n",
      "Built enclosure graph knn=1\n",
      "Built nodes graph knn=1\n"
     ]
    },
    {
     "name": "stderr",
     "output_type": "stream",
     "text": [
      "/home/krasen/morphometrics/.pixi/envs/default/lib/python3.12/site-packages/libpysal/weights/weights.py:1685: UserWarning: The weights matrix is not fully connected: \n",
      " There are 16 disconnected components.\n",
      "  w = W(neighbors, weights, ids, silence_warnings=silence_warnings)\n"
     ]
    },
    {
     "name": "stdout",
     "output_type": "stream",
     "text": [
      "Built tess graph knn=1\n",
      "Built buildings graph knn=1\n",
      "Built streets graph knn=1\n",
      "Built enclosure graph knn=1\n"
     ]
    },
    {
     "name": "stderr",
     "output_type": "stream",
     "text": [
      "/home/krasen/morphometrics/.pixi/envs/default/lib/python3.12/site-packages/libpysal/weights/weights.py:1685: UserWarning: The weights matrix is not fully connected: \n",
      " There are 46 disconnected components.\n",
      "  w = W(neighbors, weights, ids, silence_warnings=silence_warnings)\n"
     ]
    },
    {
     "name": "stdout",
     "output_type": "stream",
     "text": [
      "Built nodes graph knn=1\n",
      "Built tess graph knn=1\n",
      "Built buildings graph knn=1\n",
      "Built streets graph knn=1\n",
      "Built enclosure graph knn=1\n"
     ]
    },
    {
     "name": "stderr",
     "output_type": "stream",
     "text": [
      "/home/krasen/morphometrics/.pixi/envs/default/lib/python3.12/site-packages/libpysal/weights/weights.py:1685: UserWarning: The weights matrix is not fully connected: \n",
      " There are 25 disconnected components.\n",
      "  w = W(neighbors, weights, ids, silence_warnings=silence_warnings)\n"
     ]
    },
    {
     "name": "stdout",
     "output_type": "stream",
     "text": [
      "Built nodes graph knn=1\n",
      "Built tess graph knn=1\n",
      "Built buildings graph knn=1\n",
      "Built streets graph knn=1\n",
      "Built enclosure graph knn=1\n"
     ]
    },
    {
     "name": "stderr",
     "output_type": "stream",
     "text": [
      "/home/krasen/morphometrics/.pixi/envs/default/lib/python3.12/site-packages/libpysal/weights/weights.py:1685: UserWarning: The weights matrix is not fully connected: \n",
      " There are 36 disconnected components.\n",
      "  w = W(neighbors, weights, ids, silence_warnings=silence_warnings)\n"
     ]
    },
    {
     "name": "stdout",
     "output_type": "stream",
     "text": [
      "Built nodes graph knn=1\n",
      "Built tess graph knn=1\n",
      "Built buildings graph knn=1\n",
      "Built streets graph knn=1\n",
      "Built enclosure graph knn=1\n"
     ]
    },
    {
     "name": "stderr",
     "output_type": "stream",
     "text": [
      "/home/krasen/morphometrics/.pixi/envs/default/lib/python3.12/site-packages/libpysal/weights/weights.py:1685: UserWarning: The weights matrix is not fully connected: \n",
      " There are 16 disconnected components.\n",
      "  w = W(neighbors, weights, ids, silence_warnings=silence_warnings)\n"
     ]
    },
    {
     "name": "stdout",
     "output_type": "stream",
     "text": [
      "Built nodes graph knn=1\n",
      "Built tess graph knn=1\n",
      "Built buildings graph knn=1\n",
      "Built streets graph knn=1\n",
      "Built enclosure graph knn=1\n"
     ]
    },
    {
     "name": "stderr",
     "output_type": "stream",
     "text": [
      "/home/krasen/morphometrics/.pixi/envs/default/lib/python3.12/site-packages/libpysal/weights/weights.py:1685: UserWarning: The weights matrix is not fully connected: \n",
      " There are 22 disconnected components.\n",
      "  w = W(neighbors, weights, ids, silence_warnings=silence_warnings)\n"
     ]
    },
    {
     "name": "stdout",
     "output_type": "stream",
     "text": [
      "Built nodes graph knn=1\n",
      "Built tess graph knn=1\n",
      "Built buildings graph knn=1\n",
      "Built streets graph knn=1\n",
      "Built enclosure graph knn=1\n"
     ]
    },
    {
     "name": "stderr",
     "output_type": "stream",
     "text": [
      "/home/krasen/morphometrics/.pixi/envs/default/lib/python3.12/site-packages/libpysal/weights/weights.py:1685: UserWarning: The weights matrix is not fully connected: \n",
      " There are 8 disconnected components.\n",
      "  w = W(neighbors, weights, ids, silence_warnings=silence_warnings)\n"
     ]
    },
    {
     "name": "stdout",
     "output_type": "stream",
     "text": [
      "Built nodes graph knn=1\n",
      "Built tess graph knn=1\n",
      "Built buildings graph knn=1\n",
      "Built streets graph knn=1\n",
      "Built enclosure graph knn=1\n"
     ]
    },
    {
     "name": "stderr",
     "output_type": "stream",
     "text": [
      "/home/krasen/morphometrics/.pixi/envs/default/lib/python3.12/site-packages/libpysal/weights/weights.py:1685: UserWarning: The weights matrix is not fully connected: \n",
      " There are 7 disconnected components.\n",
      "  w = W(neighbors, weights, ids, silence_warnings=silence_warnings)\n"
     ]
    },
    {
     "name": "stdout",
     "output_type": "stream",
     "text": [
      "Built nodes graph knn=1\n",
      "Built tess graph knn=1\n",
      "Built buildings graph knn=1\n",
      "Built streets graph knn=1\n",
      "Built enclosure graph knn=1\n"
     ]
    },
    {
     "name": "stderr",
     "output_type": "stream",
     "text": [
      "/home/krasen/morphometrics/.pixi/envs/default/lib/python3.12/site-packages/libpysal/weights/weights.py:1685: UserWarning: The weights matrix is not fully connected: \n",
      " There are 13 disconnected components.\n",
      "  w = W(neighbors, weights, ids, silence_warnings=silence_warnings)\n"
     ]
    },
    {
     "name": "stdout",
     "output_type": "stream",
     "text": [
      "Built nodes graph knn=1\n",
      "Built tess graph knn=1\n",
      "Built buildings graph knn=1\n",
      "Built streets graph knn=1\n",
      "Built enclosure graph knn=1\n"
     ]
    },
    {
     "name": "stderr",
     "output_type": "stream",
     "text": [
      "/home/krasen/morphometrics/.pixi/envs/default/lib/python3.12/site-packages/libpysal/weights/weights.py:1685: UserWarning: The weights matrix is not fully connected: \n",
      " There are 10 disconnected components.\n",
      "  w = W(neighbors, weights, ids, silence_warnings=silence_warnings)\n"
     ]
    },
    {
     "name": "stdout",
     "output_type": "stream",
     "text": [
      "Built nodes graph knn=1\n",
      "Built tess graph knn=1\n",
      "Built buildings graph knn=1\n",
      "Built streets graph knn=1\n",
      "Built enclosure graph knn=1\n"
     ]
    },
    {
     "name": "stderr",
     "output_type": "stream",
     "text": [
      "/home/krasen/morphometrics/.pixi/envs/default/lib/python3.12/site-packages/libpysal/weights/weights.py:1685: UserWarning: The weights matrix is not fully connected: \n",
      " There are 13 disconnected components.\n",
      "  w = W(neighbors, weights, ids, silence_warnings=silence_warnings)\n"
     ]
    },
    {
     "name": "stdout",
     "output_type": "stream",
     "text": [
      "Built nodes graph knn=1\n",
      "Built tess graph knn=1\n",
      "Built buildings graph knn=1\n",
      "Built streets graph knn=1\n",
      "Built enclosure graph knn=1\n"
     ]
    },
    {
     "name": "stderr",
     "output_type": "stream",
     "text": [
      "/home/krasen/morphometrics/.pixi/envs/default/lib/python3.12/site-packages/libpysal/weights/weights.py:1685: UserWarning: The weights matrix is not fully connected: \n",
      " There are 6 disconnected components.\n",
      "  w = W(neighbors, weights, ids, silence_warnings=silence_warnings)\n"
     ]
    },
    {
     "name": "stdout",
     "output_type": "stream",
     "text": [
      "Built nodes graph knn=1\n",
      "Built tess graph knn=1\n",
      "Built buildings graph knn=1\n",
      "Built streets graph knn=1\n",
      "Built enclosure graph knn=1\n",
      "Built nodes graph knn=1\n"
     ]
    },
    {
     "name": "stderr",
     "output_type": "stream",
     "text": [
      "/home/krasen/morphometrics/.pixi/envs/default/lib/python3.12/site-packages/libpysal/weights/weights.py:1685: UserWarning: The weights matrix is not fully connected: \n",
      " There are 6 disconnected components.\n",
      "  w = W(neighbors, weights, ids, silence_warnings=silence_warnings)\n"
     ]
    },
    {
     "name": "stdout",
     "output_type": "stream",
     "text": [
      "Built tess graph knn=1\n",
      "Built buildings graph knn=1\n",
      "Built streets graph knn=1\n",
      "Built enclosure graph knn=1\n"
     ]
    },
    {
     "name": "stderr",
     "output_type": "stream",
     "text": [
      "/home/krasen/morphometrics/.pixi/envs/default/lib/python3.12/site-packages/libpysal/weights/weights.py:1685: UserWarning: The weights matrix is not fully connected: \n",
      " There are 3 disconnected components.\n",
      "  w = W(neighbors, weights, ids, silence_warnings=silence_warnings)\n"
     ]
    },
    {
     "name": "stdout",
     "output_type": "stream",
     "text": [
      "Built nodes graph knn=1\n",
      "Built tess graph knn=1\n",
      "Built buildings graph knn=1\n",
      "Built streets graph knn=1\n",
      "Built enclosure graph knn=1\n",
      "Built nodes graph knn=1\n"
     ]
    },
    {
     "name": "stderr",
     "output_type": "stream",
     "text": [
      "/home/krasen/morphometrics/.pixi/envs/default/lib/python3.12/site-packages/libpysal/weights/weights.py:1685: UserWarning: The weights matrix is not fully connected: \n",
      " There are 12 disconnected components.\n",
      "  w = W(neighbors, weights, ids, silence_warnings=silence_warnings)\n"
     ]
    },
    {
     "name": "stdout",
     "output_type": "stream",
     "text": [
      "Built tess graph knn=1\n",
      "Built buildings graph knn=1\n",
      "Built streets graph knn=1\n",
      "Built enclosure graph knn=1\n"
     ]
    },
    {
     "name": "stderr",
     "output_type": "stream",
     "text": [
      "/home/krasen/morphometrics/.pixi/envs/default/lib/python3.12/site-packages/libpysal/weights/weights.py:1685: UserWarning: The weights matrix is not fully connected: \n",
      " There are 18 disconnected components.\n",
      "  w = W(neighbors, weights, ids, silence_warnings=silence_warnings)\n"
     ]
    },
    {
     "name": "stdout",
     "output_type": "stream",
     "text": [
      "Built nodes graph knn=1\n",
      "Built tess graph knn=1\n",
      "Built buildings graph knn=1\n",
      "Built streets graph knn=1\n",
      "Built enclosure graph knn=1\n",
      "Built nodes graph knn=1\n"
     ]
    },
    {
     "name": "stderr",
     "output_type": "stream",
     "text": [
      "/home/krasen/morphometrics/.pixi/envs/default/lib/python3.12/site-packages/libpysal/weights/weights.py:1685: UserWarning: The weights matrix is not fully connected: \n",
      " There are 13 disconnected components.\n",
      "  w = W(neighbors, weights, ids, silence_warnings=silence_warnings)\n"
     ]
    },
    {
     "name": "stdout",
     "output_type": "stream",
     "text": [
      "Built tess graph knn=1\n",
      "Built buildings graph knn=1\n",
      "Built streets graph knn=1\n",
      "Built enclosure graph knn=1\n"
     ]
    },
    {
     "name": "stderr",
     "output_type": "stream",
     "text": [
      "/home/krasen/morphometrics/.pixi/envs/default/lib/python3.12/site-packages/libpysal/weights/weights.py:1685: UserWarning: The weights matrix is not fully connected: \n",
      " There are 2 disconnected components.\n",
      "  w = W(neighbors, weights, ids, silence_warnings=silence_warnings)\n"
     ]
    },
    {
     "name": "stdout",
     "output_type": "stream",
     "text": [
      "Built nodes graph knn=1\n",
      "Built tess graph knn=1\n",
      "Built buildings graph knn=1\n",
      "Built streets graph knn=1\n",
      "Built enclosure graph knn=1\n"
     ]
    },
    {
     "name": "stderr",
     "output_type": "stream",
     "text": [
      "/home/krasen/morphometrics/.pixi/envs/default/lib/python3.12/site-packages/libpysal/weights/weights.py:1685: UserWarning: The weights matrix is not fully connected: \n",
      " There are 51 disconnected components.\n",
      "  w = W(neighbors, weights, ids, silence_warnings=silence_warnings)\n"
     ]
    },
    {
     "name": "stdout",
     "output_type": "stream",
     "text": [
      "Built nodes graph knn=1\n",
      "Built tess graph knn=1\n",
      "Built buildings graph knn=1\n",
      "Built streets graph knn=1\n",
      "Built enclosure graph knn=1\n"
     ]
    },
    {
     "name": "stderr",
     "output_type": "stream",
     "text": [
      "/home/krasen/morphometrics/.pixi/envs/default/lib/python3.12/site-packages/libpysal/weights/weights.py:1685: UserWarning: The weights matrix is not fully connected: \n",
      " There are 24 disconnected components.\n",
      "  w = W(neighbors, weights, ids, silence_warnings=silence_warnings)\n"
     ]
    },
    {
     "name": "stdout",
     "output_type": "stream",
     "text": [
      "Built nodes graph knn=1\n",
      "Built tess graph knn=1\n",
      "Built buildings graph knn=1\n",
      "Built streets graph knn=1\n",
      "Built enclosure graph knn=1\n",
      "Built nodes graph knn=1\n"
     ]
    },
    {
     "name": "stderr",
     "output_type": "stream",
     "text": [
      "/home/krasen/morphometrics/.pixi/envs/default/lib/python3.12/site-packages/libpysal/weights/weights.py:1685: UserWarning: The weights matrix is not fully connected: \n",
      " There are 16 disconnected components.\n",
      "  w = W(neighbors, weights, ids, silence_warnings=silence_warnings)\n"
     ]
    },
    {
     "name": "stdout",
     "output_type": "stream",
     "text": [
      "Built tess graph knn=1\n",
      "Built buildings graph knn=1\n",
      "Built streets graph knn=1\n",
      "Built enclosure graph knn=1\n"
     ]
    },
    {
     "name": "stderr",
     "output_type": "stream",
     "text": [
      "/home/krasen/morphometrics/.pixi/envs/default/lib/python3.12/site-packages/libpysal/weights/weights.py:1685: UserWarning: The weights matrix is not fully connected: \n",
      " There are 17 disconnected components.\n",
      "  w = W(neighbors, weights, ids, silence_warnings=silence_warnings)\n"
     ]
    },
    {
     "name": "stdout",
     "output_type": "stream",
     "text": [
      "Built nodes graph knn=1\n",
      "Built tess graph knn=1\n",
      "Built buildings graph knn=1\n",
      "Built streets graph knn=1\n",
      "Built enclosure graph knn=1\n",
      "Built nodes graph knn=1\n"
     ]
    },
    {
     "name": "stderr",
     "output_type": "stream",
     "text": [
      "/home/krasen/morphometrics/.pixi/envs/default/lib/python3.12/site-packages/libpysal/weights/weights.py:1685: UserWarning: The weights matrix is not fully connected: \n",
      " There are 17 disconnected components.\n",
      "  w = W(neighbors, weights, ids, silence_warnings=silence_warnings)\n"
     ]
    },
    {
     "name": "stdout",
     "output_type": "stream",
     "text": [
      "Built tess graph knn=1\n",
      "Built buildings graph knn=1\n",
      "Built streets graph knn=1\n",
      "Built enclosure graph knn=1\n",
      "Built nodes graph knn=1\n"
     ]
    },
    {
     "name": "stderr",
     "output_type": "stream",
     "text": [
      "/home/krasen/morphometrics/.pixi/envs/default/lib/python3.12/site-packages/libpysal/weights/weights.py:1685: UserWarning: The weights matrix is not fully connected: \n",
      " There are 29 disconnected components.\n",
      "  w = W(neighbors, weights, ids, silence_warnings=silence_warnings)\n"
     ]
    },
    {
     "name": "stdout",
     "output_type": "stream",
     "text": [
      "Built tess graph knn=1\n",
      "Built buildings graph knn=1\n",
      "Built streets graph knn=1\n",
      "Built enclosure graph knn=1\n"
     ]
    },
    {
     "name": "stderr",
     "output_type": "stream",
     "text": [
      "/home/krasen/morphometrics/.pixi/envs/default/lib/python3.12/site-packages/libpysal/weights/weights.py:1685: UserWarning: The weights matrix is not fully connected: \n",
      " There are 89 disconnected components.\n",
      "  w = W(neighbors, weights, ids, silence_warnings=silence_warnings)\n"
     ]
    },
    {
     "name": "stdout",
     "output_type": "stream",
     "text": [
      "Built nodes graph knn=1\n",
      "Built tess graph knn=1\n",
      "Built buildings graph knn=1\n",
      "Built streets graph knn=1\n",
      "Built enclosure graph knn=1\n"
     ]
    },
    {
     "name": "stderr",
     "output_type": "stream",
     "text": [
      "/home/krasen/morphometrics/.pixi/envs/default/lib/python3.12/site-packages/libpysal/weights/weights.py:1685: UserWarning: The weights matrix is not fully connected: \n",
      " There are 11 disconnected components.\n",
      "  w = W(neighbors, weights, ids, silence_warnings=silence_warnings)\n"
     ]
    },
    {
     "name": "stdout",
     "output_type": "stream",
     "text": [
      "Built nodes graph knn=1\n",
      "Built tess graph knn=1\n",
      "Built buildings graph knn=1\n",
      "Built streets graph knn=1\n",
      "Built enclosure graph knn=1\n",
      "Built nodes graph knn=1\n"
     ]
    },
    {
     "name": "stderr",
     "output_type": "stream",
     "text": [
      "/home/krasen/morphometrics/.pixi/envs/default/lib/python3.12/site-packages/libpysal/weights/weights.py:1685: UserWarning: The weights matrix is not fully connected: \n",
      " There are 6 disconnected components.\n",
      "  w = W(neighbors, weights, ids, silence_warnings=silence_warnings)\n"
     ]
    },
    {
     "name": "stdout",
     "output_type": "stream",
     "text": [
      "Built tess graph knn=1\n",
      "Built buildings graph knn=1\n",
      "Built streets graph knn=1\n",
      "Built enclosure graph knn=1\n",
      "Built nodes graph knn=1\n"
     ]
    },
    {
     "name": "stderr",
     "output_type": "stream",
     "text": [
      "/home/krasen/morphometrics/.pixi/envs/default/lib/python3.12/site-packages/libpysal/weights/weights.py:1685: UserWarning: The weights matrix is not fully connected: \n",
      " There are 12 disconnected components.\n",
      "  w = W(neighbors, weights, ids, silence_warnings=silence_warnings)\n"
     ]
    },
    {
     "name": "stdout",
     "output_type": "stream",
     "text": [
      "Built tess graph knn=1\n",
      "Built buildings graph knn=1\n",
      "Built streets graph knn=1\n",
      "Built enclosure graph knn=1\n",
      "Built nodes graph knn=1\n"
     ]
    },
    {
     "name": "stderr",
     "output_type": "stream",
     "text": [
      "/home/krasen/morphometrics/.pixi/envs/default/lib/python3.12/site-packages/libpysal/weights/weights.py:1685: UserWarning: The weights matrix is not fully connected: \n",
      " There are 14 disconnected components.\n",
      "  w = W(neighbors, weights, ids, silence_warnings=silence_warnings)\n"
     ]
    },
    {
     "name": "stdout",
     "output_type": "stream",
     "text": [
      "Built tess graph knn=1\n",
      "Built buildings graph knn=1\n",
      "Built streets graph knn=1\n",
      "Built enclosure graph knn=1\n",
      "Built nodes graph knn=1\n"
     ]
    },
    {
     "name": "stderr",
     "output_type": "stream",
     "text": [
      "/home/krasen/morphometrics/.pixi/envs/default/lib/python3.12/site-packages/libpysal/weights/weights.py:1685: UserWarning: The weights matrix is not fully connected: \n",
      " There are 13 disconnected components.\n",
      "  w = W(neighbors, weights, ids, silence_warnings=silence_warnings)\n"
     ]
    },
    {
     "name": "stdout",
     "output_type": "stream",
     "text": [
      "Built tess graph knn=1\n",
      "Built buildings graph knn=1\n",
      "Built streets graph knn=1\n",
      "Built enclosure graph knn=1\n"
     ]
    },
    {
     "name": "stderr",
     "output_type": "stream",
     "text": [
      "/home/krasen/morphometrics/.pixi/envs/default/lib/python3.12/site-packages/libpysal/weights/weights.py:1685: UserWarning: The weights matrix is not fully connected: \n",
      " There are 8 disconnected components.\n",
      "  w = W(neighbors, weights, ids, silence_warnings=silence_warnings)\n"
     ]
    },
    {
     "name": "stdout",
     "output_type": "stream",
     "text": [
      "Built nodes graph knn=1\n",
      "Built tess graph knn=1\n",
      "Built buildings graph knn=1\n",
      "Built streets graph knn=1\n",
      "Built enclosure graph knn=1\n",
      "Built nodes graph knn=1\n"
     ]
    },
    {
     "name": "stderr",
     "output_type": "stream",
     "text": [
      "/home/krasen/morphometrics/.pixi/envs/default/lib/python3.12/site-packages/libpysal/weights/weights.py:1685: UserWarning: The weights matrix is not fully connected: \n",
      " There are 14 disconnected components.\n",
      "  w = W(neighbors, weights, ids, silence_warnings=silence_warnings)\n"
     ]
    },
    {
     "name": "stdout",
     "output_type": "stream",
     "text": [
      "Built tess graph knn=1\n",
      "Built buildings graph knn=1\n",
      "Built streets graph knn=1\n",
      "Built enclosure graph knn=1\n"
     ]
    },
    {
     "name": "stderr",
     "output_type": "stream",
     "text": [
      "/home/krasen/morphometrics/.pixi/envs/default/lib/python3.12/site-packages/libpysal/weights/weights.py:1685: UserWarning: The weights matrix is not fully connected: \n",
      " There are 38 disconnected components.\n",
      "  w = W(neighbors, weights, ids, silence_warnings=silence_warnings)\n"
     ]
    },
    {
     "name": "stdout",
     "output_type": "stream",
     "text": [
      "Built nodes graph knn=1\n",
      "Built tess graph knn=1\n",
      "Built buildings graph knn=1\n",
      "Built streets graph knn=1\n",
      "Built enclosure graph knn=1\n",
      "Built nodes graph knn=1\n"
     ]
    },
    {
     "name": "stderr",
     "output_type": "stream",
     "text": [
      "/home/krasen/morphometrics/.pixi/envs/default/lib/python3.12/site-packages/libpysal/weights/weights.py:1685: UserWarning: The weights matrix is not fully connected: \n",
      " There are 17 disconnected components.\n",
      "  w = W(neighbors, weights, ids, silence_warnings=silence_warnings)\n"
     ]
    },
    {
     "name": "stdout",
     "output_type": "stream",
     "text": [
      "Built tess graph knn=1\n",
      "Built buildings graph knn=1\n",
      "Built streets graph knn=1\n",
      "Built enclosure graph knn=1\n"
     ]
    },
    {
     "name": "stderr",
     "output_type": "stream",
     "text": [
      "/home/krasen/morphometrics/.pixi/envs/default/lib/python3.12/site-packages/libpysal/weights/weights.py:1685: UserWarning: The weights matrix is not fully connected: \n",
      " There are 25 disconnected components.\n",
      "  w = W(neighbors, weights, ids, silence_warnings=silence_warnings)\n"
     ]
    },
    {
     "name": "stdout",
     "output_type": "stream",
     "text": [
      "Built nodes graph knn=1\n",
      "Built tess graph knn=1\n",
      "Built buildings graph knn=1\n",
      "Built streets graph knn=1\n",
      "Built enclosure graph knn=1\n"
     ]
    },
    {
     "name": "stderr",
     "output_type": "stream",
     "text": [
      "/home/krasen/morphometrics/.pixi/envs/default/lib/python3.12/site-packages/libpysal/weights/weights.py:1685: UserWarning: The weights matrix is not fully connected: \n",
      " There are 10 disconnected components.\n",
      "  w = W(neighbors, weights, ids, silence_warnings=silence_warnings)\n"
     ]
    },
    {
     "name": "stdout",
     "output_type": "stream",
     "text": [
      "Built nodes graph knn=1\n",
      "Built tess graph knn=1\n",
      "Built buildings graph knn=1\n",
      "Built streets graph knn=1\n",
      "Built enclosure graph knn=1\n"
     ]
    },
    {
     "name": "stderr",
     "output_type": "stream",
     "text": [
      "/home/krasen/morphometrics/.pixi/envs/default/lib/python3.12/site-packages/libpysal/weights/weights.py:1685: UserWarning: The weights matrix is not fully connected: \n",
      " There are 52 disconnected components.\n",
      "  w = W(neighbors, weights, ids, silence_warnings=silence_warnings)\n"
     ]
    },
    {
     "name": "stdout",
     "output_type": "stream",
     "text": [
      "Built nodes graph knn=1\n",
      "Built tess graph knn=1\n",
      "Built buildings graph knn=1\n",
      "Built streets graph knn=1\n",
      "Built enclosure graph knn=1\n"
     ]
    },
    {
     "name": "stderr",
     "output_type": "stream",
     "text": [
      "/home/krasen/morphometrics/.pixi/envs/default/lib/python3.12/site-packages/libpysal/weights/weights.py:1685: UserWarning: The weights matrix is not fully connected: \n",
      " There are 5 disconnected components.\n",
      "  w = W(neighbors, weights, ids, silence_warnings=silence_warnings)\n"
     ]
    },
    {
     "name": "stdout",
     "output_type": "stream",
     "text": [
      "Built nodes graph knn=1\n",
      "Built tess graph knn=1\n",
      "Built buildings graph knn=1\n",
      "Built streets graph knn=1\n",
      "Built enclosure graph knn=1\n"
     ]
    },
    {
     "name": "stderr",
     "output_type": "stream",
     "text": [
      "/home/krasen/morphometrics/.pixi/envs/default/lib/python3.12/site-packages/libpysal/weights/weights.py:1685: UserWarning: The weights matrix is not fully connected: \n",
      " There are 10 disconnected components.\n",
      "  w = W(neighbors, weights, ids, silence_warnings=silence_warnings)\n"
     ]
    },
    {
     "name": "stdout",
     "output_type": "stream",
     "text": [
      "Built nodes graph knn=1\n",
      "Built tess graph knn=1\n",
      "Built buildings graph knn=1\n",
      "Built streets graph knn=1\n",
      "Built enclosure graph knn=1\n"
     ]
    },
    {
     "name": "stderr",
     "output_type": "stream",
     "text": [
      "/home/krasen/morphometrics/.pixi/envs/default/lib/python3.12/site-packages/libpysal/weights/weights.py:1685: UserWarning: The weights matrix is not fully connected: \n",
      " There are 40 disconnected components.\n",
      "  w = W(neighbors, weights, ids, silence_warnings=silence_warnings)\n"
     ]
    },
    {
     "name": "stdout",
     "output_type": "stream",
     "text": [
      "Built nodes graph knn=1\n",
      "Built tess graph knn=1\n",
      "Built buildings graph knn=1\n",
      "Built streets graph knn=1\n",
      "Built enclosure graph knn=1\n",
      "Built nodes graph knn=1\n"
     ]
    },
    {
     "name": "stderr",
     "output_type": "stream",
     "text": [
      "/home/krasen/morphometrics/.pixi/envs/default/lib/python3.12/site-packages/libpysal/weights/weights.py:1685: UserWarning: The weights matrix is not fully connected: \n",
      " There are 18 disconnected components.\n",
      "  w = W(neighbors, weights, ids, silence_warnings=silence_warnings)\n"
     ]
    },
    {
     "name": "stdout",
     "output_type": "stream",
     "text": [
      "Built tess graph knn=1\n",
      "Built buildings graph knn=1\n",
      "Built streets graph knn=1\n",
      "Built enclosure graph knn=1\n"
     ]
    },
    {
     "name": "stderr",
     "output_type": "stream",
     "text": [
      "/home/krasen/morphometrics/.pixi/envs/default/lib/python3.12/site-packages/libpysal/weights/weights.py:1685: UserWarning: The weights matrix is not fully connected: \n",
      " There are 7 disconnected components.\n",
      "  w = W(neighbors, weights, ids, silence_warnings=silence_warnings)\n"
     ]
    },
    {
     "name": "stdout",
     "output_type": "stream",
     "text": [
      "Built nodes graph knn=1\n",
      "Built tess graph knn=1\n",
      "Built buildings graph knn=1\n",
      "Built streets graph knn=1\n",
      "Built enclosure graph knn=1\n"
     ]
    },
    {
     "name": "stderr",
     "output_type": "stream",
     "text": [
      "/home/krasen/morphometrics/.pixi/envs/default/lib/python3.12/site-packages/libpysal/weights/weights.py:1685: UserWarning: The weights matrix is not fully connected: \n",
      " There are 13 disconnected components.\n",
      "  w = W(neighbors, weights, ids, silence_warnings=silence_warnings)\n"
     ]
    },
    {
     "name": "stdout",
     "output_type": "stream",
     "text": [
      "Built nodes graph knn=1\n",
      "Built tess graph knn=1\n",
      "Built buildings graph knn=1\n",
      "Built streets graph knn=1\n",
      "Built enclosure graph knn=1\n"
     ]
    },
    {
     "name": "stderr",
     "output_type": "stream",
     "text": [
      "/home/krasen/morphometrics/.pixi/envs/default/lib/python3.12/site-packages/libpysal/weights/weights.py:1685: UserWarning: The weights matrix is not fully connected: \n",
      " There are 11 disconnected components.\n",
      "  w = W(neighbors, weights, ids, silence_warnings=silence_warnings)\n"
     ]
    },
    {
     "name": "stdout",
     "output_type": "stream",
     "text": [
      "Built nodes graph knn=1\n",
      "Built tess graph knn=1\n",
      "Built buildings graph knn=1\n",
      "Built streets graph knn=1\n",
      "Built enclosure graph knn=1\n",
      "Built nodes graph knn=1\n"
     ]
    },
    {
     "name": "stderr",
     "output_type": "stream",
     "text": [
      "/home/krasen/morphometrics/.pixi/envs/default/lib/python3.12/site-packages/libpysal/weights/weights.py:1685: UserWarning: The weights matrix is not fully connected: \n",
      " There are 19 disconnected components.\n",
      "  w = W(neighbors, weights, ids, silence_warnings=silence_warnings)\n"
     ]
    },
    {
     "name": "stdout",
     "output_type": "stream",
     "text": [
      "Built tess graph knn=1\n",
      "Built buildings graph knn=1\n",
      "Built streets graph knn=1\n",
      "Built enclosure graph knn=1\n",
      "Built nodes graph knn=1\n"
     ]
    },
    {
     "name": "stderr",
     "output_type": "stream",
     "text": [
      "/home/krasen/morphometrics/.pixi/envs/default/lib/python3.12/site-packages/libpysal/weights/weights.py:1685: UserWarning: The weights matrix is not fully connected: \n",
      " There are 12 disconnected components.\n",
      "  w = W(neighbors, weights, ids, silence_warnings=silence_warnings)\n"
     ]
    },
    {
     "name": "stdout",
     "output_type": "stream",
     "text": [
      "Built tess graph knn=1\n",
      "Built buildings graph knn=1\n",
      "Built streets graph knn=1\n",
      "Built enclosure graph knn=1\n",
      "Built nodes graph knn=1\n"
     ]
    },
    {
     "name": "stderr",
     "output_type": "stream",
     "text": [
      "/home/krasen/morphometrics/.pixi/envs/default/lib/python3.12/site-packages/libpysal/weights/weights.py:1685: UserWarning: The weights matrix is not fully connected: \n",
      " There are 11 disconnected components.\n",
      "  w = W(neighbors, weights, ids, silence_warnings=silence_warnings)\n"
     ]
    },
    {
     "name": "stdout",
     "output_type": "stream",
     "text": [
      "Built tess graph knn=1\n",
      "Built buildings graph knn=1\n",
      "Built streets graph knn=1\n",
      "Built enclosure graph knn=1\n",
      "Built nodes graph knn=1\n"
     ]
    },
    {
     "name": "stderr",
     "output_type": "stream",
     "text": [
      "/home/krasen/morphometrics/.pixi/envs/default/lib/python3.12/site-packages/libpysal/weights/weights.py:1685: UserWarning: The weights matrix is not fully connected: \n",
      " There are 20 disconnected components.\n",
      "  w = W(neighbors, weights, ids, silence_warnings=silence_warnings)\n"
     ]
    },
    {
     "name": "stdout",
     "output_type": "stream",
     "text": [
      "Built tess graph knn=1\n",
      "Built buildings graph knn=1\n",
      "Built streets graph knn=1\n",
      "Built enclosure graph knn=1\n",
      "Built nodes graph knn=1\n"
     ]
    },
    {
     "name": "stderr",
     "output_type": "stream",
     "text": [
      "/home/krasen/morphometrics/.pixi/envs/default/lib/python3.12/site-packages/libpysal/weights/weights.py:1685: UserWarning: The weights matrix is not fully connected: \n",
      " There are 26 disconnected components.\n",
      "  w = W(neighbors, weights, ids, silence_warnings=silence_warnings)\n"
     ]
    },
    {
     "name": "stdout",
     "output_type": "stream",
     "text": [
      "Built tess graph knn=1\n",
      "Built buildings graph knn=1\n",
      "Built streets graph knn=1\n",
      "Built enclosure graph knn=1\n",
      "Built nodes graph knn=1\n"
     ]
    },
    {
     "name": "stderr",
     "output_type": "stream",
     "text": [
      "/home/krasen/morphometrics/.pixi/envs/default/lib/python3.12/site-packages/libpysal/weights/weights.py:1685: UserWarning: The weights matrix is not fully connected: \n",
      " There are 3 disconnected components.\n",
      "  w = W(neighbors, weights, ids, silence_warnings=silence_warnings)\n"
     ]
    },
    {
     "name": "stdout",
     "output_type": "stream",
     "text": [
      "Built tess graph knn=1\n",
      "Built buildings graph knn=1\n",
      "Built streets graph knn=1\n",
      "Built enclosure graph knn=1\n"
     ]
    },
    {
     "name": "stderr",
     "output_type": "stream",
     "text": [
      "/home/krasen/morphometrics/.pixi/envs/default/lib/python3.12/site-packages/libpysal/weights/weights.py:1685: UserWarning: The weights matrix is not fully connected: \n",
      " There are 2 disconnected components.\n",
      "  w = W(neighbors, weights, ids, silence_warnings=silence_warnings)\n"
     ]
    },
    {
     "name": "stdout",
     "output_type": "stream",
     "text": [
      "Built nodes graph knn=1\n",
      "Built tess graph knn=1\n",
      "Built buildings graph knn=1\n",
      "Built streets graph knn=1\n",
      "Built enclosure graph knn=1\n",
      "Built nodes graph knn=1\n"
     ]
    },
    {
     "name": "stderr",
     "output_type": "stream",
     "text": [
      "/home/krasen/morphometrics/.pixi/envs/default/lib/python3.12/site-packages/libpysal/weights/weights.py:1685: UserWarning: The weights matrix is not fully connected: \n",
      " There are 9 disconnected components.\n",
      "  w = W(neighbors, weights, ids, silence_warnings=silence_warnings)\n"
     ]
    },
    {
     "name": "stdout",
     "output_type": "stream",
     "text": [
      "Built tess graph knn=1\n",
      "Built buildings graph knn=1\n",
      "Built streets graph knn=1\n",
      "Built enclosure graph knn=1\n"
     ]
    },
    {
     "name": "stderr",
     "output_type": "stream",
     "text": [
      "/home/krasen/morphometrics/.pixi/envs/default/lib/python3.12/site-packages/libpysal/weights/weights.py:1685: UserWarning: The weights matrix is not fully connected: \n",
      " There are 15 disconnected components.\n",
      "  w = W(neighbors, weights, ids, silence_warnings=silence_warnings)\n"
     ]
    },
    {
     "name": "stdout",
     "output_type": "stream",
     "text": [
      "Built nodes graph knn=1\n",
      "Built tess graph knn=1\n",
      "Built buildings graph knn=1\n",
      "Built streets graph knn=1\n",
      "Built enclosure graph knn=1\n",
      "Built nodes graph knn=1\n"
     ]
    },
    {
     "name": "stderr",
     "output_type": "stream",
     "text": [
      "/home/krasen/morphometrics/.pixi/envs/default/lib/python3.12/site-packages/libpysal/weights/weights.py:1685: UserWarning: The weights matrix is not fully connected: \n",
      " There are 12 disconnected components.\n",
      "  w = W(neighbors, weights, ids, silence_warnings=silence_warnings)\n"
     ]
    },
    {
     "name": "stdout",
     "output_type": "stream",
     "text": [
      "Built tess graph knn=1\n",
      "Built buildings graph knn=1\n",
      "Built streets graph knn=1\n",
      "Built enclosure graph knn=1\n"
     ]
    },
    {
     "name": "stderr",
     "output_type": "stream",
     "text": [
      "/home/krasen/morphometrics/.pixi/envs/default/lib/python3.12/site-packages/libpysal/weights/weights.py:1685: UserWarning: The weights matrix is not fully connected: \n",
      " There are 55 disconnected components.\n",
      "  w = W(neighbors, weights, ids, silence_warnings=silence_warnings)\n"
     ]
    },
    {
     "name": "stdout",
     "output_type": "stream",
     "text": [
      "Built nodes graph knn=1\n",
      "Built tess graph knn=1\n",
      "Built buildings graph knn=1\n",
      "Built streets graph knn=1\n",
      "Built enclosure graph knn=1\n"
     ]
    },
    {
     "name": "stderr",
     "output_type": "stream",
     "text": [
      "/home/krasen/morphometrics/.pixi/envs/default/lib/python3.12/site-packages/libpysal/weights/weights.py:1685: UserWarning: The weights matrix is not fully connected: \n",
      " There are 72 disconnected components.\n",
      "  w = W(neighbors, weights, ids, silence_warnings=silence_warnings)\n"
     ]
    },
    {
     "name": "stdout",
     "output_type": "stream",
     "text": [
      "Built nodes graph knn=1\n",
      "Built tess graph knn=1\n",
      "Built buildings graph knn=1\n",
      "Built streets graph knn=1\n",
      "Built enclosure graph knn=1\n"
     ]
    },
    {
     "name": "stderr",
     "output_type": "stream",
     "text": [
      "/home/krasen/morphometrics/.pixi/envs/default/lib/python3.12/site-packages/libpysal/weights/weights.py:1685: UserWarning: The weights matrix is not fully connected: \n",
      " There are 26 disconnected components.\n",
      "  w = W(neighbors, weights, ids, silence_warnings=silence_warnings)\n"
     ]
    },
    {
     "name": "stdout",
     "output_type": "stream",
     "text": [
      "Built nodes graph knn=1\n",
      "Built tess graph knn=1\n",
      "Built buildings graph knn=1\n",
      "Built streets graph knn=1\n",
      "Built enclosure graph knn=1\n"
     ]
    },
    {
     "name": "stderr",
     "output_type": "stream",
     "text": [
      "/home/krasen/morphometrics/.pixi/envs/default/lib/python3.12/site-packages/libpysal/weights/weights.py:1685: UserWarning: The weights matrix is not fully connected: \n",
      " There are 33 disconnected components.\n",
      "  w = W(neighbors, weights, ids, silence_warnings=silence_warnings)\n"
     ]
    },
    {
     "name": "stdout",
     "output_type": "stream",
     "text": [
      "Built nodes graph knn=1\n",
      "Built tess graph knn=1\n",
      "Built buildings graph knn=1\n",
      "Built streets graph knn=1\n",
      "Built enclosure graph knn=1\n",
      "Built nodes graph knn=1\n"
     ]
    },
    {
     "name": "stderr",
     "output_type": "stream",
     "text": [
      "/home/krasen/morphometrics/.pixi/envs/default/lib/python3.12/site-packages/libpysal/weights/weights.py:1685: UserWarning: The weights matrix is not fully connected: \n",
      " There are 15 disconnected components.\n",
      "  w = W(neighbors, weights, ids, silence_warnings=silence_warnings)\n"
     ]
    },
    {
     "name": "stdout",
     "output_type": "stream",
     "text": [
      "Built tess graph knn=1\n",
      "Built buildings graph knn=1\n",
      "Built streets graph knn=1\n",
      "Built enclosure graph knn=1\n",
      "Built nodes graph knn=1\n"
     ]
    },
    {
     "name": "stderr",
     "output_type": "stream",
     "text": [
      "/home/krasen/morphometrics/.pixi/envs/default/lib/python3.12/site-packages/libpysal/weights/weights.py:1685: UserWarning: The weights matrix is not fully connected: \n",
      " There are 18 disconnected components.\n",
      "  w = W(neighbors, weights, ids, silence_warnings=silence_warnings)\n"
     ]
    },
    {
     "name": "stdout",
     "output_type": "stream",
     "text": [
      "Built tess graph knn=1\n",
      "Built buildings graph knn=1\n",
      "Built streets graph knn=1\n",
      "Built enclosure graph knn=1\n"
     ]
    },
    {
     "name": "stderr",
     "output_type": "stream",
     "text": [
      "/home/krasen/morphometrics/.pixi/envs/default/lib/python3.12/site-packages/libpysal/weights/weights.py:1685: UserWarning: The weights matrix is not fully connected: \n",
      " There are 30 disconnected components.\n",
      "  w = W(neighbors, weights, ids, silence_warnings=silence_warnings)\n"
     ]
    },
    {
     "name": "stdout",
     "output_type": "stream",
     "text": [
      "Built nodes graph knn=1\n",
      "Built tess graph knn=1\n",
      "Built buildings graph knn=1\n",
      "Built streets graph knn=1\n",
      "Built enclosure graph knn=1\n"
     ]
    },
    {
     "name": "stderr",
     "output_type": "stream",
     "text": [
      "/home/krasen/morphometrics/.pixi/envs/default/lib/python3.12/site-packages/libpysal/weights/weights.py:1685: UserWarning: The weights matrix is not fully connected: \n",
      " There are 6 disconnected components.\n",
      "  w = W(neighbors, weights, ids, silence_warnings=silence_warnings)\n"
     ]
    },
    {
     "name": "stdout",
     "output_type": "stream",
     "text": [
      "Built nodes graph knn=1\n",
      "Built tess graph knn=1\n",
      "Built buildings graph knn=1\n",
      "Built streets graph knn=1\n",
      "Built enclosure graph knn=1\n"
     ]
    },
    {
     "name": "stderr",
     "output_type": "stream",
     "text": [
      "/home/krasen/morphometrics/.pixi/envs/default/lib/python3.12/site-packages/libpysal/weights/weights.py:1685: UserWarning: The weights matrix is not fully connected: \n",
      " There are 22 disconnected components.\n",
      "  w = W(neighbors, weights, ids, silence_warnings=silence_warnings)\n"
     ]
    },
    {
     "name": "stdout",
     "output_type": "stream",
     "text": [
      "Built nodes graph knn=1\n",
      "Built tess graph knn=1\n",
      "Built buildings graph knn=1\n",
      "Built streets graph knn=1\n",
      "Built enclosure graph knn=1\n"
     ]
    },
    {
     "name": "stderr",
     "output_type": "stream",
     "text": [
      "/home/krasen/morphometrics/.pixi/envs/default/lib/python3.12/site-packages/libpysal/weights/weights.py:1685: UserWarning: The weights matrix is not fully connected: \n",
      " There are 12 disconnected components.\n",
      "  w = W(neighbors, weights, ids, silence_warnings=silence_warnings)\n"
     ]
    },
    {
     "name": "stdout",
     "output_type": "stream",
     "text": [
      "Built nodes graph knn=1\n",
      "Built tess graph knn=1\n",
      "Built buildings graph knn=1\n",
      "Built streets graph knn=1\n",
      "Built enclosure graph knn=1\n"
     ]
    },
    {
     "name": "stderr",
     "output_type": "stream",
     "text": [
      "/home/krasen/morphometrics/.pixi/envs/default/lib/python3.12/site-packages/libpysal/weights/weights.py:1685: UserWarning: The weights matrix is not fully connected: \n",
      " There are 9 disconnected components.\n",
      "  w = W(neighbors, weights, ids, silence_warnings=silence_warnings)\n"
     ]
    },
    {
     "name": "stdout",
     "output_type": "stream",
     "text": [
      "Built nodes graph knn=1\n",
      "Built tess graph knn=1\n",
      "Built buildings graph knn=1\n",
      "Built streets graph knn=1\n",
      "Built enclosure graph knn=1\n",
      "Built nodes graph knn=1\n"
     ]
    },
    {
     "name": "stderr",
     "output_type": "stream",
     "text": [
      "/home/krasen/morphometrics/.pixi/envs/default/lib/python3.12/site-packages/libpysal/weights/weights.py:1685: UserWarning: The weights matrix is not fully connected: \n",
      " There are 12 disconnected components.\n",
      "  w = W(neighbors, weights, ids, silence_warnings=silence_warnings)\n"
     ]
    },
    {
     "name": "stdout",
     "output_type": "stream",
     "text": [
      "Built tess graph knn=1\n",
      "Built buildings graph knn=1\n",
      "Built streets graph knn=1\n",
      "Built enclosure graph knn=1\n",
      "Built nodes graph knn=1\n"
     ]
    },
    {
     "name": "stderr",
     "output_type": "stream",
     "text": [
      "/home/krasen/morphometrics/.pixi/envs/default/lib/python3.12/site-packages/libpysal/weights/weights.py:1685: UserWarning: The weights matrix is not fully connected: \n",
      " There are 18 disconnected components.\n",
      "  w = W(neighbors, weights, ids, silence_warnings=silence_warnings)\n"
     ]
    },
    {
     "name": "stdout",
     "output_type": "stream",
     "text": [
      "Built tess graph knn=1\n",
      "Built buildings graph knn=1\n",
      "Built streets graph knn=1\n",
      "Built enclosure graph knn=1\n",
      "Built nodes graph knn=1\n"
     ]
    },
    {
     "name": "stderr",
     "output_type": "stream",
     "text": [
      "/home/krasen/morphometrics/.pixi/envs/default/lib/python3.12/site-packages/libpysal/weights/weights.py:1685: UserWarning: The weights matrix is not fully connected: \n",
      " There are 6 disconnected components.\n",
      "  w = W(neighbors, weights, ids, silence_warnings=silence_warnings)\n"
     ]
    },
    {
     "name": "stdout",
     "output_type": "stream",
     "text": [
      "Built tess graph knn=1\n",
      "Built buildings graph knn=1\n",
      "Built streets graph knn=1\n",
      "Built enclosure graph knn=1\n"
     ]
    },
    {
     "name": "stderr",
     "output_type": "stream",
     "text": [
      "/home/krasen/morphometrics/.pixi/envs/default/lib/python3.12/site-packages/libpysal/weights/weights.py:1685: UserWarning: The weights matrix is not fully connected: \n",
      " There are 24 disconnected components.\n",
      "  w = W(neighbors, weights, ids, silence_warnings=silence_warnings)\n"
     ]
    },
    {
     "name": "stdout",
     "output_type": "stream",
     "text": [
      "Built nodes graph knn=1\n",
      "Built tess graph knn=1\n",
      "Built buildings graph knn=1\n",
      "Built streets graph knn=1\n",
      "Built enclosure graph knn=1\n"
     ]
    },
    {
     "name": "stderr",
     "output_type": "stream",
     "text": [
      "/home/krasen/morphometrics/.pixi/envs/default/lib/python3.12/site-packages/libpysal/weights/weights.py:1685: UserWarning: The weights matrix is not fully connected: \n",
      " There are 29 disconnected components.\n",
      "  w = W(neighbors, weights, ids, silence_warnings=silence_warnings)\n"
     ]
    },
    {
     "name": "stdout",
     "output_type": "stream",
     "text": [
      "Built nodes graph knn=1\n",
      "Built tess graph knn=1\n",
      "Built buildings graph knn=1\n",
      "Built streets graph knn=1\n",
      "Built enclosure graph knn=1\n",
      "Built nodes graph knn=1\n"
     ]
    },
    {
     "name": "stderr",
     "output_type": "stream",
     "text": [
      "/home/krasen/morphometrics/.pixi/envs/default/lib/python3.12/site-packages/libpysal/weights/weights.py:1685: UserWarning: The weights matrix is not fully connected: \n",
      " There are 9 disconnected components.\n",
      "  w = W(neighbors, weights, ids, silence_warnings=silence_warnings)\n"
     ]
    },
    {
     "name": "stdout",
     "output_type": "stream",
     "text": [
      "Built tess graph knn=1\n",
      "Built buildings graph knn=1\n",
      "Built streets graph knn=1\n",
      "Built enclosure graph knn=1\n",
      "Built nodes graph knn=1\n"
     ]
    },
    {
     "name": "stderr",
     "output_type": "stream",
     "text": [
      "/home/krasen/morphometrics/.pixi/envs/default/lib/python3.12/site-packages/libpysal/weights/weights.py:1685: UserWarning: The weights matrix is not fully connected: \n",
      " There are 14 disconnected components.\n",
      "  w = W(neighbors, weights, ids, silence_warnings=silence_warnings)\n"
     ]
    },
    {
     "name": "stdout",
     "output_type": "stream",
     "text": [
      "Built tess graph knn=1\n",
      "Built buildings graph knn=1\n",
      "Built streets graph knn=1\n",
      "Built enclosure graph knn=1\n"
     ]
    },
    {
     "name": "stderr",
     "output_type": "stream",
     "text": [
      "/home/krasen/morphometrics/.pixi/envs/default/lib/python3.12/site-packages/libpysal/weights/weights.py:1685: UserWarning: The weights matrix is not fully connected: \n",
      " There are 13 disconnected components.\n",
      "  w = W(neighbors, weights, ids, silence_warnings=silence_warnings)\n"
     ]
    },
    {
     "name": "stdout",
     "output_type": "stream",
     "text": [
      "Built nodes graph knn=1\n",
      "Built tess graph knn=1\n",
      "Built buildings graph knn=1\n",
      "Built streets graph knn=1\n",
      "Built enclosure graph knn=1\n"
     ]
    },
    {
     "name": "stderr",
     "output_type": "stream",
     "text": [
      "/home/krasen/morphometrics/.pixi/envs/default/lib/python3.12/site-packages/libpysal/weights/weights.py:1685: UserWarning: The weights matrix is not fully connected: \n",
      " There are 37 disconnected components.\n",
      "  w = W(neighbors, weights, ids, silence_warnings=silence_warnings)\n"
     ]
    },
    {
     "name": "stdout",
     "output_type": "stream",
     "text": [
      "Built nodes graph knn=1\n",
      "Built tess graph knn=1\n",
      "Built buildings graph knn=1\n",
      "Built streets graph knn=1\n",
      "Built enclosure graph knn=1\n"
     ]
    },
    {
     "name": "stderr",
     "output_type": "stream",
     "text": [
      "/home/krasen/morphometrics/.pixi/envs/default/lib/python3.12/site-packages/libpysal/weights/weights.py:1685: UserWarning: The weights matrix is not fully connected: \n",
      " There are 35 disconnected components.\n",
      "  w = W(neighbors, weights, ids, silence_warnings=silence_warnings)\n"
     ]
    },
    {
     "name": "stdout",
     "output_type": "stream",
     "text": [
      "Built nodes graph knn=1\n",
      "Built tess graph knn=1\n",
      "Built buildings graph knn=1\n",
      "Built streets graph knn=1\n",
      "Built enclosure graph knn=1\n",
      "Built nodes graph knn=1\n"
     ]
    },
    {
     "name": "stderr",
     "output_type": "stream",
     "text": [
      "/home/krasen/morphometrics/.pixi/envs/default/lib/python3.12/site-packages/libpysal/weights/weights.py:1685: UserWarning: The weights matrix is not fully connected: \n",
      " There are 20 disconnected components.\n",
      "  w = W(neighbors, weights, ids, silence_warnings=silence_warnings)\n"
     ]
    },
    {
     "name": "stdout",
     "output_type": "stream",
     "text": [
      "Built tess graph knn=1\n",
      "Built buildings graph knn=1\n",
      "Built streets graph knn=1\n",
      "Built enclosure graph knn=1\n"
     ]
    },
    {
     "name": "stderr",
     "output_type": "stream",
     "text": [
      "/home/krasen/morphometrics/.pixi/envs/default/lib/python3.12/site-packages/libpysal/weights/weights.py:1685: UserWarning: The weights matrix is not fully connected: \n",
      " There are 17 disconnected components.\n",
      "  w = W(neighbors, weights, ids, silence_warnings=silence_warnings)\n"
     ]
    },
    {
     "name": "stdout",
     "output_type": "stream",
     "text": [
      "Built nodes graph knn=1\n",
      "Built tess graph knn=1\n",
      "Built buildings graph knn=1\n",
      "Built streets graph knn=1\n",
      "Built enclosure graph knn=1\n",
      "Built nodes graph knn=1\n"
     ]
    },
    {
     "name": "stderr",
     "output_type": "stream",
     "text": [
      "/home/krasen/morphometrics/.pixi/envs/default/lib/python3.12/site-packages/libpysal/weights/weights.py:1685: UserWarning: The weights matrix is not fully connected: \n",
      " There are 6 disconnected components.\n",
      "  w = W(neighbors, weights, ids, silence_warnings=silence_warnings)\n"
     ]
    },
    {
     "name": "stdout",
     "output_type": "stream",
     "text": [
      "Built tess graph knn=1\n",
      "Built buildings graph knn=1\n",
      "Built streets graph knn=1\n",
      "Built enclosure graph knn=1\n"
     ]
    },
    {
     "name": "stderr",
     "output_type": "stream",
     "text": [
      "/home/krasen/morphometrics/.pixi/envs/default/lib/python3.12/site-packages/libpysal/weights/weights.py:1685: UserWarning: The weights matrix is not fully connected: \n",
      " There are 60 disconnected components.\n",
      "  w = W(neighbors, weights, ids, silence_warnings=silence_warnings)\n"
     ]
    },
    {
     "name": "stdout",
     "output_type": "stream",
     "text": [
      "Built nodes graph knn=1\n",
      "Built tess graph knn=1\n",
      "Built buildings graph knn=1\n",
      "Built streets graph knn=1\n",
      "Built enclosure graph knn=1\n"
     ]
    },
    {
     "name": "stderr",
     "output_type": "stream",
     "text": [
      "/home/krasen/morphometrics/.pixi/envs/default/lib/python3.12/site-packages/libpysal/weights/weights.py:1685: UserWarning: The weights matrix is not fully connected: \n",
      " There are 74 disconnected components.\n",
      "  w = W(neighbors, weights, ids, silence_warnings=silence_warnings)\n"
     ]
    },
    {
     "name": "stdout",
     "output_type": "stream",
     "text": [
      "Built nodes graph knn=1\n",
      "Built tess graph knn=1\n",
      "Built buildings graph knn=1\n",
      "Built streets graph knn=1\n",
      "Built enclosure graph knn=1\n",
      "Built nodes graph knn=1\n"
     ]
    },
    {
     "name": "stderr",
     "output_type": "stream",
     "text": [
      "/home/krasen/morphometrics/.pixi/envs/default/lib/python3.12/site-packages/libpysal/weights/weights.py:1685: UserWarning: The weights matrix is not fully connected: \n",
      " There are 22 disconnected components.\n",
      "  w = W(neighbors, weights, ids, silence_warnings=silence_warnings)\n"
     ]
    },
    {
     "name": "stdout",
     "output_type": "stream",
     "text": [
      "Built tess graph knn=1\n",
      "Built buildings graph knn=1\n",
      "Built streets graph knn=1\n",
      "Built enclosure graph knn=1\n",
      "Built nodes graph knn=1\n"
     ]
    },
    {
     "name": "stderr",
     "output_type": "stream",
     "text": [
      "/home/krasen/morphometrics/.pixi/envs/default/lib/python3.12/site-packages/libpysal/weights/weights.py:1685: UserWarning: The weights matrix is not fully connected: \n",
      " There are 11 disconnected components.\n",
      "  w = W(neighbors, weights, ids, silence_warnings=silence_warnings)\n"
     ]
    },
    {
     "name": "stdout",
     "output_type": "stream",
     "text": [
      "Built tess graph knn=1\n",
      "Built buildings graph knn=1\n",
      "Built streets graph knn=1\n",
      "Built enclosure graph knn=1\n",
      "Built nodes graph knn=1\n"
     ]
    },
    {
     "name": "stderr",
     "output_type": "stream",
     "text": [
      "/home/krasen/morphometrics/.pixi/envs/default/lib/python3.12/site-packages/libpysal/weights/weights.py:1685: UserWarning: The weights matrix is not fully connected: \n",
      " There are 11 disconnected components.\n",
      "  w = W(neighbors, weights, ids, silence_warnings=silence_warnings)\n"
     ]
    },
    {
     "name": "stdout",
     "output_type": "stream",
     "text": [
      "Built tess graph knn=1\n",
      "Built buildings graph knn=1\n",
      "Built streets graph knn=1\n",
      "Built enclosure graph knn=1\n",
      "Built nodes graph knn=1\n"
     ]
    },
    {
     "name": "stderr",
     "output_type": "stream",
     "text": [
      "/home/krasen/morphometrics/.pixi/envs/default/lib/python3.12/site-packages/libpysal/weights/weights.py:1685: UserWarning: The weights matrix is not fully connected: \n",
      " There are 8 disconnected components.\n",
      "  w = W(neighbors, weights, ids, silence_warnings=silence_warnings)\n"
     ]
    },
    {
     "name": "stdout",
     "output_type": "stream",
     "text": [
      "Built tess graph knn=1\n",
      "Built buildings graph knn=1\n",
      "Built streets graph knn=1\n",
      "Built enclosure graph knn=1\n",
      "Built nodes graph knn=1\n"
     ]
    },
    {
     "name": "stderr",
     "output_type": "stream",
     "text": [
      "/home/krasen/morphometrics/.pixi/envs/default/lib/python3.12/site-packages/libpysal/weights/weights.py:1685: UserWarning: The weights matrix is not fully connected: \n",
      " There are 14 disconnected components.\n",
      "  w = W(neighbors, weights, ids, silence_warnings=silence_warnings)\n"
     ]
    },
    {
     "name": "stdout",
     "output_type": "stream",
     "text": [
      "Built tess graph knn=1\n",
      "Built buildings graph knn=1\n",
      "Built streets graph knn=1\n",
      "Built enclosure graph knn=1\n"
     ]
    },
    {
     "name": "stderr",
     "output_type": "stream",
     "text": [
      "/home/krasen/morphometrics/.pixi/envs/default/lib/python3.12/site-packages/libpysal/weights/weights.py:1685: UserWarning: The weights matrix is not fully connected: \n",
      " There are 12 disconnected components.\n",
      "  w = W(neighbors, weights, ids, silence_warnings=silence_warnings)\n"
     ]
    },
    {
     "name": "stdout",
     "output_type": "stream",
     "text": [
      "Built nodes graph knn=1\n",
      "Built tess graph knn=1\n",
      "Built buildings graph knn=1\n",
      "Built streets graph knn=1\n",
      "Built enclosure graph knn=1\n"
     ]
    },
    {
     "name": "stderr",
     "output_type": "stream",
     "text": [
      "/home/krasen/morphometrics/.pixi/envs/default/lib/python3.12/site-packages/libpysal/weights/weights.py:1685: UserWarning: The weights matrix is not fully connected: \n",
      " There are 84 disconnected components.\n",
      "  w = W(neighbors, weights, ids, silence_warnings=silence_warnings)\n"
     ]
    },
    {
     "name": "stdout",
     "output_type": "stream",
     "text": [
      "Built nodes graph knn=1\n",
      "Built tess graph knn=1\n",
      "Built buildings graph knn=1\n",
      "Built streets graph knn=1\n",
      "Built enclosure graph knn=1\n",
      "Built nodes graph knn=1\n"
     ]
    },
    {
     "name": "stderr",
     "output_type": "stream",
     "text": [
      "/home/krasen/morphometrics/.pixi/envs/default/lib/python3.12/site-packages/libpysal/weights/weights.py:1685: UserWarning: The weights matrix is not fully connected: \n",
      " There are 11 disconnected components.\n",
      "  w = W(neighbors, weights, ids, silence_warnings=silence_warnings)\n"
     ]
    },
    {
     "name": "stdout",
     "output_type": "stream",
     "text": [
      "Built tess graph knn=1\n",
      "Built buildings graph knn=1\n",
      "Built streets graph knn=1\n",
      "Built enclosure graph knn=1\n"
     ]
    },
    {
     "name": "stderr",
     "output_type": "stream",
     "text": [
      "/home/krasen/morphometrics/.pixi/envs/default/lib/python3.12/site-packages/libpysal/weights/weights.py:1685: UserWarning: The weights matrix is not fully connected: \n",
      " There are 16 disconnected components.\n",
      "  w = W(neighbors, weights, ids, silence_warnings=silence_warnings)\n"
     ]
    },
    {
     "name": "stdout",
     "output_type": "stream",
     "text": [
      "Built nodes graph knn=1\n",
      "Built tess graph knn=1\n",
      "Built buildings graph knn=1\n",
      "Built streets graph knn=1\n",
      "Built enclosure graph knn=1\n"
     ]
    },
    {
     "name": "stderr",
     "output_type": "stream",
     "text": [
      "/home/krasen/morphometrics/.pixi/envs/default/lib/python3.12/site-packages/libpysal/weights/weights.py:1685: UserWarning: The weights matrix is not fully connected: \n",
      " There are 23 disconnected components.\n",
      "  w = W(neighbors, weights, ids, silence_warnings=silence_warnings)\n"
     ]
    },
    {
     "name": "stdout",
     "output_type": "stream",
     "text": [
      "Built nodes graph knn=1\n",
      "Built tess graph knn=1\n",
      "Built buildings graph knn=1\n",
      "Built streets graph knn=1\n",
      "Built enclosure graph knn=1\n",
      "Built nodes graph knn=1\n"
     ]
    },
    {
     "name": "stderr",
     "output_type": "stream",
     "text": [
      "/home/krasen/morphometrics/.pixi/envs/default/lib/python3.12/site-packages/libpysal/weights/weights.py:1685: UserWarning: The weights matrix is not fully connected: \n",
      " There are 11 disconnected components.\n",
      "  w = W(neighbors, weights, ids, silence_warnings=silence_warnings)\n"
     ]
    },
    {
     "name": "stdout",
     "output_type": "stream",
     "text": [
      "Built tess graph knn=1\n",
      "Built buildings graph knn=1\n",
      "Built streets graph knn=1\n",
      "Built enclosure graph knn=1\n"
     ]
    },
    {
     "name": "stderr",
     "output_type": "stream",
     "text": [
      "/home/krasen/morphometrics/.pixi/envs/default/lib/python3.12/site-packages/libpysal/weights/weights.py:1685: UserWarning: The weights matrix is not fully connected: \n",
      " There are 68 disconnected components.\n",
      "  w = W(neighbors, weights, ids, silence_warnings=silence_warnings)\n"
     ]
    },
    {
     "name": "stdout",
     "output_type": "stream",
     "text": [
      "Built nodes graph knn=1\n",
      "Built tess graph knn=1\n",
      "Built buildings graph knn=1\n",
      "Built streets graph knn=1\n",
      "Built enclosure graph knn=1\n"
     ]
    },
    {
     "name": "stderr",
     "output_type": "stream",
     "text": [
      "/home/krasen/morphometrics/.pixi/envs/default/lib/python3.12/site-packages/libpysal/weights/weights.py:1685: UserWarning: The weights matrix is not fully connected: \n",
      " There are 273 disconnected components.\n",
      "  w = W(neighbors, weights, ids, silence_warnings=silence_warnings)\n"
     ]
    },
    {
     "name": "stdout",
     "output_type": "stream",
     "text": [
      "Built nodes graph knn=1\n",
      "Built tess graph knn=1\n",
      "Built buildings graph knn=1\n",
      "Built streets graph knn=1\n",
      "Built enclosure graph knn=1\n"
     ]
    },
    {
     "name": "stderr",
     "output_type": "stream",
     "text": [
      "/home/krasen/morphometrics/.pixi/envs/default/lib/python3.12/site-packages/libpysal/weights/weights.py:1685: UserWarning: The weights matrix is not fully connected: \n",
      " There are 7 disconnected components.\n",
      "  w = W(neighbors, weights, ids, silence_warnings=silence_warnings)\n"
     ]
    },
    {
     "name": "stdout",
     "output_type": "stream",
     "text": [
      "Built nodes graph knn=1\n",
      "Built tess graph knn=1\n",
      "Built buildings graph knn=1\n",
      "Built streets graph knn=1\n",
      "Built enclosure graph knn=1\n",
      "Built nodes graph knn=1\n"
     ]
    },
    {
     "name": "stderr",
     "output_type": "stream",
     "text": [
      "/home/krasen/morphometrics/.pixi/envs/default/lib/python3.12/site-packages/libpysal/weights/weights.py:1685: UserWarning: The weights matrix is not fully connected: \n",
      " There are 15 disconnected components.\n",
      "  w = W(neighbors, weights, ids, silence_warnings=silence_warnings)\n"
     ]
    },
    {
     "name": "stdout",
     "output_type": "stream",
     "text": [
      "Built tess graph knn=1\n",
      "Built buildings graph knn=1\n",
      "Built streets graph knn=1\n",
      "Built enclosure graph knn=1\n"
     ]
    },
    {
     "name": "stderr",
     "output_type": "stream",
     "text": [
      "/home/krasen/morphometrics/.pixi/envs/default/lib/python3.12/site-packages/libpysal/weights/weights.py:1685: UserWarning: The weights matrix is not fully connected: \n",
      " There are 7 disconnected components.\n",
      "  w = W(neighbors, weights, ids, silence_warnings=silence_warnings)\n"
     ]
    },
    {
     "name": "stdout",
     "output_type": "stream",
     "text": [
      "Built nodes graph knn=1\n",
      "Built tess graph knn=1\n",
      "Built buildings graph knn=1\n",
      "Built streets graph knn=1\n",
      "Built enclosure graph knn=1\n"
     ]
    },
    {
     "name": "stderr",
     "output_type": "stream",
     "text": [
      "/home/krasen/morphometrics/.pixi/envs/default/lib/python3.12/site-packages/libpysal/weights/weights.py:1685: UserWarning: The weights matrix is not fully connected: \n",
      " There are 23 disconnected components.\n",
      "  w = W(neighbors, weights, ids, silence_warnings=silence_warnings)\n"
     ]
    },
    {
     "name": "stdout",
     "output_type": "stream",
     "text": [
      "Built nodes graph knn=1\n",
      "Built tess graph knn=1\n",
      "Built buildings graph knn=1\n",
      "Built streets graph knn=1\n",
      "Built enclosure graph knn=1\n"
     ]
    },
    {
     "name": "stderr",
     "output_type": "stream",
     "text": [
      "/home/krasen/morphometrics/.pixi/envs/default/lib/python3.12/site-packages/libpysal/weights/weights.py:1685: UserWarning: The weights matrix is not fully connected: \n",
      " There are 18 disconnected components.\n",
      "  w = W(neighbors, weights, ids, silence_warnings=silence_warnings)\n"
     ]
    },
    {
     "name": "stdout",
     "output_type": "stream",
     "text": [
      "Built nodes graph knn=1\n",
      "Built tess graph knn=1\n",
      "Built buildings graph knn=1\n",
      "Built streets graph knn=1\n",
      "Built enclosure graph knn=1\n",
      "Built nodes graph knn=1\n"
     ]
    },
    {
     "name": "stderr",
     "output_type": "stream",
     "text": [
      "/home/krasen/morphometrics/.pixi/envs/default/lib/python3.12/site-packages/libpysal/weights/weights.py:1685: UserWarning: The weights matrix is not fully connected: \n",
      " There are 2 disconnected components.\n",
      "  w = W(neighbors, weights, ids, silence_warnings=silence_warnings)\n"
     ]
    },
    {
     "name": "stdout",
     "output_type": "stream",
     "text": [
      "Built tess graph knn=1\n",
      "Built buildings graph knn=1\n",
      "Built streets graph knn=1\n",
      "Built enclosure graph knn=1\n",
      "Built nodes graph knn=1\n"
     ]
    },
    {
     "name": "stderr",
     "output_type": "stream",
     "text": [
      "/home/krasen/morphometrics/.pixi/envs/default/lib/python3.12/site-packages/libpysal/weights/weights.py:1685: UserWarning: The weights matrix is not fully connected: \n",
      " There are 13 disconnected components.\n",
      "  w = W(neighbors, weights, ids, silence_warnings=silence_warnings)\n"
     ]
    },
    {
     "name": "stdout",
     "output_type": "stream",
     "text": [
      "Built tess graph knn=1\n",
      "Built buildings graph knn=1\n",
      "Built streets graph knn=1\n",
      "Built enclosure graph knn=1\n",
      "Built nodes graph knn=1\n"
     ]
    },
    {
     "name": "stderr",
     "output_type": "stream",
     "text": [
      "/home/krasen/morphometrics/.pixi/envs/default/lib/python3.12/site-packages/libpysal/weights/weights.py:1685: UserWarning: The weights matrix is not fully connected: \n",
      " There are 3 disconnected components.\n",
      "  w = W(neighbors, weights, ids, silence_warnings=silence_warnings)\n"
     ]
    },
    {
     "name": "stdout",
     "output_type": "stream",
     "text": [
      "Built tess graph knn=1\n",
      "Built buildings graph knn=1\n",
      "Built streets graph knn=1\n",
      "Built enclosure graph knn=1\n"
     ]
    },
    {
     "name": "stderr",
     "output_type": "stream",
     "text": [
      "/home/krasen/morphometrics/.pixi/envs/default/lib/python3.12/site-packages/libpysal/weights/weights.py:1685: UserWarning: The weights matrix is not fully connected: \n",
      " There are 4 disconnected components.\n",
      "  w = W(neighbors, weights, ids, silence_warnings=silence_warnings)\n"
     ]
    },
    {
     "name": "stdout",
     "output_type": "stream",
     "text": [
      "Built nodes graph knn=1\n",
      "Built tess graph knn=1\n",
      "Built buildings graph knn=1\n",
      "Built streets graph knn=1\n",
      "Built enclosure graph knn=1\n"
     ]
    },
    {
     "name": "stderr",
     "output_type": "stream",
     "text": [
      "/home/krasen/morphometrics/.pixi/envs/default/lib/python3.12/site-packages/libpysal/weights/weights.py:1685: UserWarning: The weights matrix is not fully connected: \n",
      " There are 14 disconnected components.\n",
      "  w = W(neighbors, weights, ids, silence_warnings=silence_warnings)\n"
     ]
    },
    {
     "name": "stdout",
     "output_type": "stream",
     "text": [
      "Built nodes graph knn=1\n",
      "Built tess graph knn=1\n",
      "Built buildings graph knn=1\n",
      "Built streets graph knn=1\n",
      "Built enclosure graph knn=1\n",
      "Built nodes graph knn=1\n"
     ]
    },
    {
     "name": "stderr",
     "output_type": "stream",
     "text": [
      "/home/krasen/morphometrics/.pixi/envs/default/lib/python3.12/site-packages/libpysal/weights/weights.py:1685: UserWarning: The weights matrix is not fully connected: \n",
      " There are 16 disconnected components.\n",
      "  w = W(neighbors, weights, ids, silence_warnings=silence_warnings)\n"
     ]
    },
    {
     "name": "stdout",
     "output_type": "stream",
     "text": [
      "Built tess graph knn=1\n",
      "Built buildings graph knn=1\n",
      "Built streets graph knn=1\n",
      "Built enclosure graph knn=1\n",
      "Built nodes graph knn=1\n"
     ]
    },
    {
     "name": "stderr",
     "output_type": "stream",
     "text": [
      "/home/krasen/morphometrics/.pixi/envs/default/lib/python3.12/site-packages/libpysal/weights/weights.py:1685: UserWarning: The weights matrix is not fully connected: \n",
      " There are 22 disconnected components.\n",
      "  w = W(neighbors, weights, ids, silence_warnings=silence_warnings)\n"
     ]
    },
    {
     "name": "stdout",
     "output_type": "stream",
     "text": [
      "Built tess graph knn=1\n",
      "Built buildings graph knn=1\n",
      "Built streets graph knn=1\n",
      "Built enclosure graph knn=1\n"
     ]
    },
    {
     "name": "stderr",
     "output_type": "stream",
     "text": [
      "/home/krasen/morphometrics/.pixi/envs/default/lib/python3.12/site-packages/libpysal/weights/weights.py:1685: UserWarning: The weights matrix is not fully connected: \n",
      " There are 11 disconnected components.\n",
      "  w = W(neighbors, weights, ids, silence_warnings=silence_warnings)\n"
     ]
    },
    {
     "name": "stdout",
     "output_type": "stream",
     "text": [
      "Built nodes graph knn=1\n",
      "Built tess graph knn=1\n",
      "Built buildings graph knn=1\n",
      "Built streets graph knn=1\n",
      "Built enclosure graph knn=1\n",
      "Built nodes graph knn=1\n"
     ]
    },
    {
     "name": "stderr",
     "output_type": "stream",
     "text": [
      "/home/krasen/morphometrics/.pixi/envs/default/lib/python3.12/site-packages/libpysal/weights/weights.py:1685: UserWarning: The weights matrix is not fully connected: \n",
      " There are 11 disconnected components.\n",
      "  w = W(neighbors, weights, ids, silence_warnings=silence_warnings)\n"
     ]
    },
    {
     "name": "stdout",
     "output_type": "stream",
     "text": [
      "Built tess graph knn=1\n",
      "Built buildings graph knn=1\n",
      "Built streets graph knn=1\n",
      "Built enclosure graph knn=1\n"
     ]
    },
    {
     "name": "stderr",
     "output_type": "stream",
     "text": [
      "/home/krasen/morphometrics/.pixi/envs/default/lib/python3.12/site-packages/libpysal/weights/weights.py:1685: UserWarning: The weights matrix is not fully connected: \n",
      " There are 18 disconnected components.\n",
      "  w = W(neighbors, weights, ids, silence_warnings=silence_warnings)\n"
     ]
    },
    {
     "name": "stdout",
     "output_type": "stream",
     "text": [
      "Built nodes graph knn=1\n",
      "Built tess graph knn=1\n",
      "Built buildings graph knn=1\n",
      "Built streets graph knn=1\n",
      "Built enclosure graph knn=1\n",
      "Built nodes graph knn=1\n"
     ]
    },
    {
     "name": "stderr",
     "output_type": "stream",
     "text": [
      "/home/krasen/morphometrics/.pixi/envs/default/lib/python3.12/site-packages/libpysal/weights/weights.py:1685: UserWarning: The weights matrix is not fully connected: \n",
      " There are 14 disconnected components.\n",
      "  w = W(neighbors, weights, ids, silence_warnings=silence_warnings)\n"
     ]
    },
    {
     "name": "stdout",
     "output_type": "stream",
     "text": [
      "Built tess graph knn=1\n",
      "Built buildings graph knn=1\n",
      "Built streets graph knn=1\n",
      "Built enclosure graph knn=1\n",
      "Built nodes graph knn=1\n"
     ]
    },
    {
     "name": "stderr",
     "output_type": "stream",
     "text": [
      "/home/krasen/morphometrics/.pixi/envs/default/lib/python3.12/site-packages/libpysal/weights/weights.py:1685: UserWarning: The weights matrix is not fully connected: \n",
      " There are 8 disconnected components.\n",
      "  w = W(neighbors, weights, ids, silence_warnings=silence_warnings)\n"
     ]
    },
    {
     "name": "stdout",
     "output_type": "stream",
     "text": [
      "Built tess graph knn=1\n",
      "Built buildings graph knn=1\n",
      "Built streets graph knn=1\n",
      "Built enclosure graph knn=1\n"
     ]
    },
    {
     "name": "stderr",
     "output_type": "stream",
     "text": [
      "/home/krasen/morphometrics/.pixi/envs/default/lib/python3.12/site-packages/libpysal/weights/weights.py:1685: UserWarning: The weights matrix is not fully connected: \n",
      " There are 63 disconnected components.\n",
      "  w = W(neighbors, weights, ids, silence_warnings=silence_warnings)\n"
     ]
    },
    {
     "name": "stdout",
     "output_type": "stream",
     "text": [
      "Built nodes graph knn=1\n",
      "Built tess graph knn=1\n",
      "Built buildings graph knn=1\n",
      "Built streets graph knn=1\n",
      "Built enclosure graph knn=1\n"
     ]
    },
    {
     "name": "stderr",
     "output_type": "stream",
     "text": [
      "/home/krasen/morphometrics/.pixi/envs/default/lib/python3.12/site-packages/libpysal/weights/weights.py:1685: UserWarning: The weights matrix is not fully connected: \n",
      " There are 26 disconnected components.\n",
      "  w = W(neighbors, weights, ids, silence_warnings=silence_warnings)\n"
     ]
    },
    {
     "name": "stdout",
     "output_type": "stream",
     "text": [
      "Built nodes graph knn=1\n",
      "Built tess graph knn=1\n",
      "Built buildings graph knn=1\n",
      "Built streets graph knn=1\n",
      "Built enclosure graph knn=1\n",
      "Built nodes graph knn=1\n"
     ]
    },
    {
     "name": "stderr",
     "output_type": "stream",
     "text": [
      "/home/krasen/morphometrics/.pixi/envs/default/lib/python3.12/site-packages/libpysal/weights/weights.py:1685: UserWarning: The weights matrix is not fully connected: \n",
      " There are 15 disconnected components.\n",
      "  w = W(neighbors, weights, ids, silence_warnings=silence_warnings)\n"
     ]
    },
    {
     "name": "stdout",
     "output_type": "stream",
     "text": [
      "Built tess graph knn=1\n",
      "Built buildings graph knn=1\n",
      "Built streets graph knn=1\n",
      "Built enclosure graph knn=1\n"
     ]
    },
    {
     "name": "stderr",
     "output_type": "stream",
     "text": [
      "/home/krasen/morphometrics/.pixi/envs/default/lib/python3.12/site-packages/libpysal/weights/weights.py:1685: UserWarning: The weights matrix is not fully connected: \n",
      " There are 166 disconnected components.\n",
      "  w = W(neighbors, weights, ids, silence_warnings=silence_warnings)\n"
     ]
    },
    {
     "name": "stdout",
     "output_type": "stream",
     "text": [
      "Built nodes graph knn=1\n",
      "Built tess graph knn=1\n",
      "Built buildings graph knn=1\n",
      "Built streets graph knn=1\n",
      "Built enclosure graph knn=1\n",
      "Built nodes graph knn=1\n"
     ]
    },
    {
     "name": "stderr",
     "output_type": "stream",
     "text": [
      "/home/krasen/morphometrics/.pixi/envs/default/lib/python3.12/site-packages/libpysal/weights/weights.py:1685: UserWarning: The weights matrix is not fully connected: \n",
      " There are 18 disconnected components.\n",
      "  w = W(neighbors, weights, ids, silence_warnings=silence_warnings)\n"
     ]
    },
    {
     "name": "stdout",
     "output_type": "stream",
     "text": [
      "Built tess graph knn=1\n",
      "Built buildings graph knn=1\n",
      "Built streets graph knn=1\n",
      "Built enclosure graph knn=1\n",
      "Built nodes graph knn=1\n"
     ]
    },
    {
     "name": "stderr",
     "output_type": "stream",
     "text": [
      "/home/krasen/morphometrics/.pixi/envs/default/lib/python3.12/site-packages/libpysal/weights/weights.py:1685: UserWarning: The weights matrix is not fully connected: \n",
      " There are 6 disconnected components.\n",
      "  w = W(neighbors, weights, ids, silence_warnings=silence_warnings)\n"
     ]
    },
    {
     "name": "stdout",
     "output_type": "stream",
     "text": [
      "Built tess graph knn=1\n",
      "Built buildings graph knn=1\n",
      "Built streets graph knn=1\n",
      "Built enclosure graph knn=1\n"
     ]
    },
    {
     "name": "stderr",
     "output_type": "stream",
     "text": [
      "/home/krasen/morphometrics/.pixi/envs/default/lib/python3.12/site-packages/libpysal/weights/weights.py:1685: UserWarning: The weights matrix is not fully connected: \n",
      " There are 11 disconnected components.\n",
      "  w = W(neighbors, weights, ids, silence_warnings=silence_warnings)\n"
     ]
    },
    {
     "name": "stdout",
     "output_type": "stream",
     "text": [
      "Built nodes graph knn=1\n",
      "Built tess graph knn=1\n",
      "Built buildings graph knn=1\n",
      "Built streets graph knn=1\n",
      "Built enclosure graph knn=1\n",
      "Built nodes graph knn=1\n"
     ]
    },
    {
     "name": "stderr",
     "output_type": "stream",
     "text": [
      "/home/krasen/morphometrics/.pixi/envs/default/lib/python3.12/site-packages/libpysal/weights/weights.py:1685: UserWarning: The weights matrix is not fully connected: \n",
      " There are 61 disconnected components.\n",
      "  w = W(neighbors, weights, ids, silence_warnings=silence_warnings)\n"
     ]
    },
    {
     "name": "stdout",
     "output_type": "stream",
     "text": [
      "Built tess graph knn=1\n",
      "Built buildings graph knn=1\n",
      "Built streets graph knn=1\n",
      "Built enclosure graph knn=1\n",
      "Built nodes graph knn=1\n"
     ]
    },
    {
     "name": "stderr",
     "output_type": "stream",
     "text": [
      "/home/krasen/morphometrics/.pixi/envs/default/lib/python3.12/site-packages/libpysal/weights/weights.py:1685: UserWarning: The weights matrix is not fully connected: \n",
      " There are 27 disconnected components.\n",
      "  w = W(neighbors, weights, ids, silence_warnings=silence_warnings)\n"
     ]
    },
    {
     "name": "stdout",
     "output_type": "stream",
     "text": [
      "Built tess graph knn=1\n",
      "Built buildings graph knn=1\n",
      "Built streets graph knn=1\n",
      "Built enclosure graph knn=1\n"
     ]
    },
    {
     "name": "stderr",
     "output_type": "stream",
     "text": [
      "/home/krasen/morphometrics/.pixi/envs/default/lib/python3.12/site-packages/libpysal/weights/weights.py:1685: UserWarning: The weights matrix is not fully connected: \n",
      " There are 11 disconnected components.\n",
      "  w = W(neighbors, weights, ids, silence_warnings=silence_warnings)\n"
     ]
    },
    {
     "name": "stdout",
     "output_type": "stream",
     "text": [
      "Built nodes graph knn=1\n",
      "Built tess graph knn=1\n",
      "Built buildings graph knn=1\n",
      "Built streets graph knn=1\n",
      "Built enclosure graph knn=1\n",
      "Built nodes graph knn=1\n"
     ]
    },
    {
     "name": "stderr",
     "output_type": "stream",
     "text": [
      "/home/krasen/morphometrics/.pixi/envs/default/lib/python3.12/site-packages/libpysal/weights/weights.py:1685: UserWarning: The weights matrix is not fully connected: \n",
      " There are 14 disconnected components.\n",
      "  w = W(neighbors, weights, ids, silence_warnings=silence_warnings)\n"
     ]
    },
    {
     "name": "stdout",
     "output_type": "stream",
     "text": [
      "Built tess graph knn=1\n",
      "Built buildings graph knn=1\n",
      "Built streets graph knn=1\n",
      "Built enclosure graph knn=1\n",
      "Built nodes graph knn=1\n"
     ]
    },
    {
     "name": "stderr",
     "output_type": "stream",
     "text": [
      "/home/krasen/morphometrics/.pixi/envs/default/lib/python3.12/site-packages/libpysal/weights/weights.py:1685: UserWarning: The weights matrix is not fully connected: \n",
      " There are 11 disconnected components.\n",
      "  w = W(neighbors, weights, ids, silence_warnings=silence_warnings)\n"
     ]
    },
    {
     "name": "stdout",
     "output_type": "stream",
     "text": [
      "Built tess graph knn=1\n",
      "Built buildings graph knn=1\n",
      "Built streets graph knn=1\n",
      "Built enclosure graph knn=1\n"
     ]
    },
    {
     "name": "stderr",
     "output_type": "stream",
     "text": [
      "/home/krasen/morphometrics/.pixi/envs/default/lib/python3.12/site-packages/libpysal/weights/weights.py:1685: UserWarning: The weights matrix is not fully connected: \n",
      " There are 47 disconnected components.\n",
      "  w = W(neighbors, weights, ids, silence_warnings=silence_warnings)\n"
     ]
    },
    {
     "name": "stdout",
     "output_type": "stream",
     "text": [
      "Built nodes graph knn=1\n",
      "Built tess graph knn=1\n",
      "Built buildings graph knn=1\n",
      "Built streets graph knn=1\n",
      "Built enclosure graph knn=1\n",
      "Built nodes graph knn=1\n"
     ]
    },
    {
     "name": "stderr",
     "output_type": "stream",
     "text": [
      "/home/krasen/morphometrics/.pixi/envs/default/lib/python3.12/site-packages/libpysal/weights/weights.py:1685: UserWarning: The weights matrix is not fully connected: \n",
      " There are 9 disconnected components.\n",
      "  w = W(neighbors, weights, ids, silence_warnings=silence_warnings)\n"
     ]
    },
    {
     "name": "stdout",
     "output_type": "stream",
     "text": [
      "Built tess graph knn=1\n",
      "Built buildings graph knn=1\n",
      "Built streets graph knn=1\n",
      "Built enclosure graph knn=1\n"
     ]
    },
    {
     "name": "stderr",
     "output_type": "stream",
     "text": [
      "/home/krasen/morphometrics/.pixi/envs/default/lib/python3.12/site-packages/libpysal/weights/weights.py:1685: UserWarning: The weights matrix is not fully connected: \n",
      " There are 33 disconnected components.\n",
      "  w = W(neighbors, weights, ids, silence_warnings=silence_warnings)\n"
     ]
    },
    {
     "name": "stdout",
     "output_type": "stream",
     "text": [
      "Built nodes graph knn=1\n",
      "Built tess graph knn=1\n",
      "Built buildings graph knn=1\n",
      "Built streets graph knn=1\n",
      "Built enclosure graph knn=1\n"
     ]
    },
    {
     "name": "stderr",
     "output_type": "stream",
     "text": [
      "/home/krasen/morphometrics/.pixi/envs/default/lib/python3.12/site-packages/libpysal/weights/weights.py:1685: UserWarning: The weights matrix is not fully connected: \n",
      " There are 8 disconnected components.\n",
      "  w = W(neighbors, weights, ids, silence_warnings=silence_warnings)\n"
     ]
    },
    {
     "name": "stdout",
     "output_type": "stream",
     "text": [
      "Built nodes graph knn=1\n",
      "Built tess graph knn=1\n",
      "Built buildings graph knn=1\n",
      "Built streets graph knn=1\n",
      "Built enclosure graph knn=1\n"
     ]
    },
    {
     "name": "stderr",
     "output_type": "stream",
     "text": [
      "/home/krasen/morphometrics/.pixi/envs/default/lib/python3.12/site-packages/libpysal/weights/weights.py:1685: UserWarning: The weights matrix is not fully connected: \n",
      " There are 17 disconnected components.\n",
      "  w = W(neighbors, weights, ids, silence_warnings=silence_warnings)\n"
     ]
    },
    {
     "name": "stdout",
     "output_type": "stream",
     "text": [
      "Built nodes graph knn=1\n",
      "Built tess graph knn=1\n",
      "Built buildings graph knn=1\n",
      "Built streets graph knn=1\n",
      "Built enclosure graph knn=1\n",
      "Built nodes graph knn=1\n"
     ]
    },
    {
     "name": "stderr",
     "output_type": "stream",
     "text": [
      "/home/krasen/morphometrics/.pixi/envs/default/lib/python3.12/site-packages/libpysal/weights/weights.py:1685: UserWarning: The weights matrix is not fully connected: \n",
      " There are 7 disconnected components.\n",
      "  w = W(neighbors, weights, ids, silence_warnings=silence_warnings)\n"
     ]
    },
    {
     "name": "stdout",
     "output_type": "stream",
     "text": [
      "Built tess graph knn=1\n",
      "Built buildings graph knn=1\n",
      "Built streets graph knn=1\n",
      "Built enclosure graph knn=1\n",
      "Built nodes graph knn=1\n"
     ]
    },
    {
     "name": "stderr",
     "output_type": "stream",
     "text": [
      "/home/krasen/morphometrics/.pixi/envs/default/lib/python3.12/site-packages/libpysal/weights/weights.py:1685: UserWarning: The weights matrix is not fully connected: \n",
      " There are 23 disconnected components.\n",
      "  w = W(neighbors, weights, ids, silence_warnings=silence_warnings)\n"
     ]
    },
    {
     "name": "stdout",
     "output_type": "stream",
     "text": [
      "Built tess graph knn=1\n",
      "Built buildings graph knn=1\n",
      "Built streets graph knn=1\n",
      "Built enclosure graph knn=1\n",
      "Built nodes graph knn=1\n"
     ]
    },
    {
     "name": "stderr",
     "output_type": "stream",
     "text": [
      "/home/krasen/morphometrics/.pixi/envs/default/lib/python3.12/site-packages/libpysal/weights/weights.py:1685: UserWarning: The weights matrix is not fully connected: \n",
      " There are 5 disconnected components.\n",
      "  w = W(neighbors, weights, ids, silence_warnings=silence_warnings)\n"
     ]
    },
    {
     "name": "stdout",
     "output_type": "stream",
     "text": [
      "Built tess graph knn=1\n",
      "Built buildings graph knn=1\n",
      "Built streets graph knn=1\n",
      "Built enclosure graph knn=1\n"
     ]
    },
    {
     "name": "stderr",
     "output_type": "stream",
     "text": [
      "/home/krasen/morphometrics/.pixi/envs/default/lib/python3.12/site-packages/libpysal/weights/weights.py:1685: UserWarning: The weights matrix is not fully connected: \n",
      " There are 15 disconnected components.\n",
      "  w = W(neighbors, weights, ids, silence_warnings=silence_warnings)\n"
     ]
    },
    {
     "name": "stdout",
     "output_type": "stream",
     "text": [
      "Built nodes graph knn=1\n",
      "Built tess graph knn=1\n",
      "Built buildings graph knn=1\n",
      "Built streets graph knn=1\n",
      "Built enclosure graph knn=1\n",
      "Built nodes graph knn=1\n"
     ]
    },
    {
     "name": "stderr",
     "output_type": "stream",
     "text": [
      "/home/krasen/morphometrics/.pixi/envs/default/lib/python3.12/site-packages/libpysal/weights/weights.py:1685: UserWarning: The weights matrix is not fully connected: \n",
      " There are 17 disconnected components.\n",
      "  w = W(neighbors, weights, ids, silence_warnings=silence_warnings)\n"
     ]
    },
    {
     "name": "stdout",
     "output_type": "stream",
     "text": [
      "Built tess graph knn=1\n",
      "Built buildings graph knn=1\n",
      "Built streets graph knn=1\n",
      "Built enclosure graph knn=1\n",
      "Built nodes graph knn=1\n"
     ]
    },
    {
     "name": "stderr",
     "output_type": "stream",
     "text": [
      "/home/krasen/morphometrics/.pixi/envs/default/lib/python3.12/site-packages/libpysal/weights/weights.py:1685: UserWarning: The weights matrix is not fully connected: \n",
      " There are 9 disconnected components.\n",
      "  w = W(neighbors, weights, ids, silence_warnings=silence_warnings)\n"
     ]
    },
    {
     "name": "stdout",
     "output_type": "stream",
     "text": [
      "Built tess graph knn=1\n",
      "Built buildings graph knn=1\n",
      "Built streets graph knn=1\n",
      "Built enclosure graph knn=1\n",
      "Built nodes graph knn=1\n"
     ]
    },
    {
     "name": "stderr",
     "output_type": "stream",
     "text": [
      "/home/krasen/morphometrics/.pixi/envs/default/lib/python3.12/site-packages/libpysal/weights/weights.py:1685: UserWarning: The weights matrix is not fully connected: \n",
      " There are 6 disconnected components.\n",
      "  w = W(neighbors, weights, ids, silence_warnings=silence_warnings)\n"
     ]
    },
    {
     "name": "stdout",
     "output_type": "stream",
     "text": [
      "Built tess graph knn=1\n",
      "Built buildings graph knn=1\n",
      "Built streets graph knn=1\n",
      "Built enclosure graph knn=1\n",
      "Built nodes graph knn=1\n"
     ]
    },
    {
     "name": "stderr",
     "output_type": "stream",
     "text": [
      "/home/krasen/morphometrics/.pixi/envs/default/lib/python3.12/site-packages/libpysal/weights/weights.py:1685: UserWarning: The weights matrix is not fully connected: \n",
      " There are 24 disconnected components.\n",
      "  w = W(neighbors, weights, ids, silence_warnings=silence_warnings)\n"
     ]
    },
    {
     "name": "stdout",
     "output_type": "stream",
     "text": [
      "Built tess graph knn=1\n",
      "Built buildings graph knn=1\n",
      "Built streets graph knn=1\n",
      "Built enclosure graph knn=1\n"
     ]
    },
    {
     "name": "stderr",
     "output_type": "stream",
     "text": [
      "/home/krasen/morphometrics/.pixi/envs/default/lib/python3.12/site-packages/libpysal/weights/weights.py:1685: UserWarning: The weights matrix is not fully connected: \n",
      " There are 124 disconnected components.\n",
      "  w = W(neighbors, weights, ids, silence_warnings=silence_warnings)\n"
     ]
    },
    {
     "name": "stdout",
     "output_type": "stream",
     "text": [
      "Built nodes graph knn=1\n",
      "Built tess graph knn=1\n",
      "Built buildings graph knn=1\n",
      "Built streets graph knn=1\n",
      "Built enclosure graph knn=1\n"
     ]
    },
    {
     "name": "stderr",
     "output_type": "stream",
     "text": [
      "/home/krasen/morphometrics/.pixi/envs/default/lib/python3.12/site-packages/libpysal/weights/weights.py:1685: UserWarning: The weights matrix is not fully connected: \n",
      " There are 4 disconnected components.\n",
      "  w = W(neighbors, weights, ids, silence_warnings=silence_warnings)\n"
     ]
    },
    {
     "name": "stdout",
     "output_type": "stream",
     "text": [
      "Built nodes graph knn=1\n",
      "Built tess graph knn=1\n",
      "Built buildings graph knn=1\n",
      "Built streets graph knn=1\n",
      "Built enclosure graph knn=1\n",
      "Built nodes graph knn=1\n"
     ]
    },
    {
     "name": "stderr",
     "output_type": "stream",
     "text": [
      "/home/krasen/morphometrics/.pixi/envs/default/lib/python3.12/site-packages/libpysal/weights/weights.py:1685: UserWarning: The weights matrix is not fully connected: \n",
      " There are 23 disconnected components.\n",
      "  w = W(neighbors, weights, ids, silence_warnings=silence_warnings)\n"
     ]
    },
    {
     "name": "stdout",
     "output_type": "stream",
     "text": [
      "Built tess graph knn=1\n",
      "Built buildings graph knn=1\n",
      "Built streets graph knn=1\n",
      "Built enclosure graph knn=1\n"
     ]
    },
    {
     "name": "stderr",
     "output_type": "stream",
     "text": [
      "/home/krasen/morphometrics/.pixi/envs/default/lib/python3.12/site-packages/libpysal/weights/weights.py:1685: UserWarning: The weights matrix is not fully connected: \n",
      " There are 25 disconnected components.\n",
      "  w = W(neighbors, weights, ids, silence_warnings=silence_warnings)\n"
     ]
    },
    {
     "name": "stdout",
     "output_type": "stream",
     "text": [
      "Built nodes graph knn=1\n",
      "Built tess graph knn=1\n",
      "Built buildings graph knn=1\n",
      "Built streets graph knn=1\n",
      "Built enclosure graph knn=1\n",
      "Built nodes graph knn=1\n"
     ]
    },
    {
     "name": "stderr",
     "output_type": "stream",
     "text": [
      "/home/krasen/morphometrics/.pixi/envs/default/lib/python3.12/site-packages/libpysal/weights/weights.py:1685: UserWarning: The weights matrix is not fully connected: \n",
      " There are 11 disconnected components.\n",
      "  w = W(neighbors, weights, ids, silence_warnings=silence_warnings)\n"
     ]
    },
    {
     "name": "stdout",
     "output_type": "stream",
     "text": [
      "Built tess graph knn=1\n",
      "Built buildings graph knn=1\n",
      "Built streets graph knn=1\n",
      "Built enclosure graph knn=1\n",
      "Built nodes graph knn=1\n"
     ]
    },
    {
     "name": "stderr",
     "output_type": "stream",
     "text": [
      "/home/krasen/morphometrics/.pixi/envs/default/lib/python3.12/site-packages/libpysal/weights/weights.py:1685: UserWarning: The weights matrix is not fully connected: \n",
      " There are 16 disconnected components.\n",
      "  w = W(neighbors, weights, ids, silence_warnings=silence_warnings)\n"
     ]
    },
    {
     "name": "stdout",
     "output_type": "stream",
     "text": [
      "Built tess graph knn=1\n",
      "Built buildings graph knn=1\n",
      "Built streets graph knn=1\n",
      "Built enclosure graph knn=1\n",
      "Built nodes graph knn=1\n"
     ]
    },
    {
     "name": "stderr",
     "output_type": "stream",
     "text": [
      "/home/krasen/morphometrics/.pixi/envs/default/lib/python3.12/site-packages/libpysal/weights/weights.py:1685: UserWarning: The weights matrix is not fully connected: \n",
      " There are 25 disconnected components.\n",
      "  w = W(neighbors, weights, ids, silence_warnings=silence_warnings)\n"
     ]
    },
    {
     "name": "stdout",
     "output_type": "stream",
     "text": [
      "Built tess graph knn=1\n",
      "Built buildings graph knn=1\n",
      "Built streets graph knn=1\n",
      "Built enclosure graph knn=1\n"
     ]
    },
    {
     "name": "stderr",
     "output_type": "stream",
     "text": [
      "/home/krasen/morphometrics/.pixi/envs/default/lib/python3.12/site-packages/libpysal/weights/weights.py:1685: UserWarning: The weights matrix is not fully connected: \n",
      " There are 205 disconnected components.\n",
      "  w = W(neighbors, weights, ids, silence_warnings=silence_warnings)\n"
     ]
    },
    {
     "name": "stdout",
     "output_type": "stream",
     "text": [
      "Built nodes graph knn=1\n",
      "Built tess graph knn=1\n",
      "Built buildings graph knn=1\n",
      "Built streets graph knn=1\n",
      "Built enclosure graph knn=1\n",
      "Built nodes graph knn=1\n"
     ]
    },
    {
     "name": "stderr",
     "output_type": "stream",
     "text": [
      "/home/krasen/morphometrics/.pixi/envs/default/lib/python3.12/site-packages/libpysal/weights/weights.py:1685: UserWarning: The weights matrix is not fully connected: \n",
      " There are 20 disconnected components.\n",
      "  w = W(neighbors, weights, ids, silence_warnings=silence_warnings)\n"
     ]
    },
    {
     "name": "stdout",
     "output_type": "stream",
     "text": [
      "Built tess graph knn=1\n",
      "Built buildings graph knn=1\n",
      "Built streets graph knn=1\n",
      "Built enclosure graph knn=1\n"
     ]
    },
    {
     "name": "stderr",
     "output_type": "stream",
     "text": [
      "/home/krasen/morphometrics/.pixi/envs/default/lib/python3.12/site-packages/libpysal/weights/weights.py:1685: UserWarning: The weights matrix is not fully connected: \n",
      " There are 16 disconnected components.\n",
      "  w = W(neighbors, weights, ids, silence_warnings=silence_warnings)\n"
     ]
    },
    {
     "name": "stdout",
     "output_type": "stream",
     "text": [
      "Built nodes graph knn=1\n",
      "Built tess graph knn=1\n",
      "Built buildings graph knn=1\n",
      "Built streets graph knn=1\n",
      "Built enclosure graph knn=1\n",
      "Built nodes graph knn=1\n"
     ]
    },
    {
     "name": "stderr",
     "output_type": "stream",
     "text": [
      "/home/krasen/morphometrics/.pixi/envs/default/lib/python3.12/site-packages/libpysal/weights/weights.py:1685: UserWarning: The weights matrix is not fully connected: \n",
      " There are 13 disconnected components.\n",
      "  w = W(neighbors, weights, ids, silence_warnings=silence_warnings)\n"
     ]
    },
    {
     "name": "stdout",
     "output_type": "stream",
     "text": [
      "Built tess graph knn=1\n",
      "Built buildings graph knn=1\n",
      "Built streets graph knn=1\n",
      "Built enclosure graph knn=1\n"
     ]
    },
    {
     "name": "stderr",
     "output_type": "stream",
     "text": [
      "/home/krasen/morphometrics/.pixi/envs/default/lib/python3.12/site-packages/libpysal/weights/weights.py:1685: UserWarning: The weights matrix is not fully connected: \n",
      " There are 40 disconnected components.\n",
      "  w = W(neighbors, weights, ids, silence_warnings=silence_warnings)\n"
     ]
    },
    {
     "name": "stdout",
     "output_type": "stream",
     "text": [
      "Built nodes graph knn=1\n",
      "Built tess graph knn=1\n",
      "Built buildings graph knn=1\n",
      "Built streets graph knn=1\n",
      "Built enclosure graph knn=1\n"
     ]
    },
    {
     "name": "stderr",
     "output_type": "stream",
     "text": [
      "/home/krasen/morphometrics/.pixi/envs/default/lib/python3.12/site-packages/libpysal/weights/weights.py:1685: UserWarning: The weights matrix is not fully connected: \n",
      " There are 13 disconnected components.\n",
      "  w = W(neighbors, weights, ids, silence_warnings=silence_warnings)\n"
     ]
    },
    {
     "name": "stdout",
     "output_type": "stream",
     "text": [
      "Built nodes graph knn=1\n",
      "Built tess graph knn=1\n",
      "Built buildings graph knn=1\n",
      "Built streets graph knn=1\n",
      "Built enclosure graph knn=1\n",
      "Built nodes graph knn=1\n"
     ]
    },
    {
     "name": "stderr",
     "output_type": "stream",
     "text": [
      "/home/krasen/morphometrics/.pixi/envs/default/lib/python3.12/site-packages/libpysal/weights/weights.py:1685: UserWarning: The weights matrix is not fully connected: \n",
      " There are 18 disconnected components.\n",
      "  w = W(neighbors, weights, ids, silence_warnings=silence_warnings)\n"
     ]
    },
    {
     "name": "stdout",
     "output_type": "stream",
     "text": [
      "Built tess graph knn=1\n",
      "Built buildings graph knn=1\n",
      "Built streets graph knn=1\n",
      "Built enclosure graph knn=1\n"
     ]
    },
    {
     "name": "stderr",
     "output_type": "stream",
     "text": [
      "/home/krasen/morphometrics/.pixi/envs/default/lib/python3.12/site-packages/libpysal/weights/weights.py:1685: UserWarning: The weights matrix is not fully connected: \n",
      " There are 18 disconnected components.\n",
      "  w = W(neighbors, weights, ids, silence_warnings=silence_warnings)\n"
     ]
    },
    {
     "name": "stdout",
     "output_type": "stream",
     "text": [
      "Built nodes graph knn=1\n",
      "Built tess graph knn=1\n",
      "Built buildings graph knn=1\n",
      "Built streets graph knn=1\n",
      "Built enclosure graph knn=1\n",
      "Built nodes graph knn=1\n"
     ]
    },
    {
     "name": "stderr",
     "output_type": "stream",
     "text": [
      "/home/krasen/morphometrics/.pixi/envs/default/lib/python3.12/site-packages/libpysal/weights/weights.py:1685: UserWarning: The weights matrix is not fully connected: \n",
      " There are 8 disconnected components.\n",
      "  w = W(neighbors, weights, ids, silence_warnings=silence_warnings)\n"
     ]
    },
    {
     "name": "stdout",
     "output_type": "stream",
     "text": [
      "Built tess graph knn=1\n",
      "Built buildings graph knn=1\n",
      "Built streets graph knn=1\n",
      "Built enclosure graph knn=1\n"
     ]
    },
    {
     "name": "stderr",
     "output_type": "stream",
     "text": [
      "/home/krasen/morphometrics/.pixi/envs/default/lib/python3.12/site-packages/libpysal/weights/weights.py:1685: UserWarning: The weights matrix is not fully connected: \n",
      " There are 33 disconnected components.\n",
      "  w = W(neighbors, weights, ids, silence_warnings=silence_warnings)\n"
     ]
    },
    {
     "name": "stdout",
     "output_type": "stream",
     "text": [
      "Built nodes graph knn=1\n",
      "Built tess graph knn=1\n",
      "Built buildings graph knn=1\n",
      "Built streets graph knn=1\n",
      "Built enclosure graph knn=1\n",
      "Built nodes graph knn=1\n"
     ]
    },
    {
     "name": "stderr",
     "output_type": "stream",
     "text": [
      "/home/krasen/morphometrics/.pixi/envs/default/lib/python3.12/site-packages/libpysal/weights/weights.py:1685: UserWarning: The weights matrix is not fully connected: \n",
      " There are 22 disconnected components.\n",
      "  w = W(neighbors, weights, ids, silence_warnings=silence_warnings)\n"
     ]
    },
    {
     "name": "stdout",
     "output_type": "stream",
     "text": [
      "Built tess graph knn=1\n",
      "Built buildings graph knn=1\n",
      "Built streets graph knn=1\n",
      "Built enclosure graph knn=1\n",
      "Built nodes graph knn=1\n"
     ]
    },
    {
     "name": "stderr",
     "output_type": "stream",
     "text": [
      "/home/krasen/morphometrics/.pixi/envs/default/lib/python3.12/site-packages/libpysal/weights/weights.py:1685: UserWarning: The weights matrix is not fully connected: \n",
      " There are 13 disconnected components.\n",
      "  w = W(neighbors, weights, ids, silence_warnings=silence_warnings)\n"
     ]
    },
    {
     "name": "stdout",
     "output_type": "stream",
     "text": [
      "Built tess graph knn=1\n",
      "Built buildings graph knn=1\n",
      "Built streets graph knn=1\n",
      "Built enclosure graph knn=1\n",
      "Built nodes graph knn=1\n"
     ]
    },
    {
     "name": "stderr",
     "output_type": "stream",
     "text": [
      "/home/krasen/morphometrics/.pixi/envs/default/lib/python3.12/site-packages/libpysal/weights/weights.py:1685: UserWarning: The weights matrix is not fully connected: \n",
      " There are 21 disconnected components.\n",
      "  w = W(neighbors, weights, ids, silence_warnings=silence_warnings)\n"
     ]
    },
    {
     "name": "stdout",
     "output_type": "stream",
     "text": [
      "Built tess graph knn=1\n",
      "Built buildings graph knn=1\n",
      "Built streets graph knn=1\n",
      "Built enclosure graph knn=1\n",
      "Built nodes graph knn=1\n"
     ]
    },
    {
     "name": "stderr",
     "output_type": "stream",
     "text": [
      "/home/krasen/morphometrics/.pixi/envs/default/lib/python3.12/site-packages/libpysal/weights/weights.py:1685: UserWarning: The weights matrix is not fully connected: \n",
      " There are 9 disconnected components.\n",
      "  w = W(neighbors, weights, ids, silence_warnings=silence_warnings)\n"
     ]
    },
    {
     "name": "stdout",
     "output_type": "stream",
     "text": [
      "Built tess graph knn=1\n",
      "Built buildings graph knn=1\n",
      "Built streets graph knn=1\n",
      "Built enclosure graph knn=1\n",
      "Built nodes graph knn=1\n"
     ]
    },
    {
     "name": "stderr",
     "output_type": "stream",
     "text": [
      "/home/krasen/morphometrics/.pixi/envs/default/lib/python3.12/site-packages/libpysal/weights/weights.py:1685: UserWarning: The weights matrix is not fully connected: \n",
      " There are 41 disconnected components.\n",
      "  w = W(neighbors, weights, ids, silence_warnings=silence_warnings)\n"
     ]
    },
    {
     "name": "stdout",
     "output_type": "stream",
     "text": [
      "Built tess graph knn=1\n",
      "Built buildings graph knn=1\n",
      "Built streets graph knn=1\n",
      "Built enclosure graph knn=1\n",
      "Built nodes graph knn=1\n"
     ]
    },
    {
     "name": "stderr",
     "output_type": "stream",
     "text": [
      "/home/krasen/morphometrics/.pixi/envs/default/lib/python3.12/site-packages/libpysal/weights/weights.py:1685: UserWarning: The weights matrix is not fully connected: \n",
      " There are 32 disconnected components.\n",
      "  w = W(neighbors, weights, ids, silence_warnings=silence_warnings)\n"
     ]
    },
    {
     "name": "stdout",
     "output_type": "stream",
     "text": [
      "Built tess graph knn=1\n",
      "Built buildings graph knn=1\n",
      "Built streets graph knn=1\n",
      "Built enclosure graph knn=1\n",
      "Built nodes graph knn=1\n"
     ]
    },
    {
     "name": "stderr",
     "output_type": "stream",
     "text": [
      "/home/krasen/morphometrics/.pixi/envs/default/lib/python3.12/site-packages/libpysal/weights/weights.py:1685: UserWarning: The weights matrix is not fully connected: \n",
      " There are 10 disconnected components.\n",
      "  w = W(neighbors, weights, ids, silence_warnings=silence_warnings)\n"
     ]
    },
    {
     "name": "stdout",
     "output_type": "stream",
     "text": [
      "Built tess graph knn=1\n",
      "Built buildings graph knn=1\n",
      "Built streets graph knn=1\n",
      "Built enclosure graph knn=1\n"
     ]
    },
    {
     "name": "stderr",
     "output_type": "stream",
     "text": [
      "/home/krasen/morphometrics/.pixi/envs/default/lib/python3.12/site-packages/libpysal/weights/weights.py:1685: UserWarning: The weights matrix is not fully connected: \n",
      " There are 13 disconnected components.\n",
      "  w = W(neighbors, weights, ids, silence_warnings=silence_warnings)\n"
     ]
    },
    {
     "name": "stdout",
     "output_type": "stream",
     "text": [
      "Built nodes graph knn=1\n",
      "Built tess graph knn=1\n",
      "Built buildings graph knn=1\n",
      "Built streets graph knn=1\n",
      "Built enclosure graph knn=1\n",
      "Built nodes graph knn=1\n"
     ]
    },
    {
     "name": "stderr",
     "output_type": "stream",
     "text": [
      "/home/krasen/morphometrics/.pixi/envs/default/lib/python3.12/site-packages/libpysal/weights/weights.py:1685: UserWarning: The weights matrix is not fully connected: \n",
      " There are 13 disconnected components.\n",
      "  w = W(neighbors, weights, ids, silence_warnings=silence_warnings)\n"
     ]
    },
    {
     "name": "stdout",
     "output_type": "stream",
     "text": [
      "Built tess graph knn=1\n",
      "Built buildings graph knn=1\n",
      "Built streets graph knn=1\n",
      "Built enclosure graph knn=1\n",
      "Built nodes graph knn=1\n"
     ]
    },
    {
     "name": "stderr",
     "output_type": "stream",
     "text": [
      "/home/krasen/morphometrics/.pixi/envs/default/lib/python3.12/site-packages/libpysal/weights/weights.py:1685: UserWarning: The weights matrix is not fully connected: \n",
      " There are 19 disconnected components.\n",
      "  w = W(neighbors, weights, ids, silence_warnings=silence_warnings)\n"
     ]
    },
    {
     "name": "stdout",
     "output_type": "stream",
     "text": [
      "Built tess graph knn=1\n",
      "Built buildings graph knn=1\n",
      "Built streets graph knn=1\n",
      "Built enclosure graph knn=1\n",
      "Built nodes graph knn=1\n"
     ]
    },
    {
     "name": "stderr",
     "output_type": "stream",
     "text": [
      "/home/krasen/morphometrics/.pixi/envs/default/lib/python3.12/site-packages/libpysal/weights/weights.py:1685: UserWarning: The weights matrix is not fully connected: \n",
      " There are 29 disconnected components.\n",
      "  w = W(neighbors, weights, ids, silence_warnings=silence_warnings)\n"
     ]
    },
    {
     "name": "stdout",
     "output_type": "stream",
     "text": [
      "Built tess graph knn=1\n",
      "Built buildings graph knn=1\n",
      "Built streets graph knn=1\n",
      "Built enclosure graph knn=1\n"
     ]
    },
    {
     "name": "stderr",
     "output_type": "stream",
     "text": [
      "/home/krasen/morphometrics/.pixi/envs/default/lib/python3.12/site-packages/libpysal/weights/weights.py:1685: UserWarning: The weights matrix is not fully connected: \n",
      " There are 19 disconnected components.\n",
      "  w = W(neighbors, weights, ids, silence_warnings=silence_warnings)\n"
     ]
    },
    {
     "name": "stdout",
     "output_type": "stream",
     "text": [
      "Built nodes graph knn=1\n",
      "Built tess graph knn=1\n",
      "Built buildings graph knn=1\n",
      "Built streets graph knn=1\n",
      "Built enclosure graph knn=1\n",
      "Built nodes graph knn=1\n"
     ]
    },
    {
     "name": "stderr",
     "output_type": "stream",
     "text": [
      "/home/krasen/morphometrics/.pixi/envs/default/lib/python3.12/site-packages/libpysal/weights/weights.py:1685: UserWarning: The weights matrix is not fully connected: \n",
      " There are 18 disconnected components.\n",
      "  w = W(neighbors, weights, ids, silence_warnings=silence_warnings)\n"
     ]
    },
    {
     "name": "stdout",
     "output_type": "stream",
     "text": [
      "Built tess graph knn=1\n",
      "Built buildings graph knn=1\n",
      "Built streets graph knn=1\n",
      "Built enclosure graph knn=1\n",
      "Built nodes graph knn=1\n"
     ]
    },
    {
     "name": "stderr",
     "output_type": "stream",
     "text": [
      "/home/krasen/morphometrics/.pixi/envs/default/lib/python3.12/site-packages/libpysal/weights/weights.py:1685: UserWarning: The weights matrix is not fully connected: \n",
      " There are 25 disconnected components.\n",
      "  w = W(neighbors, weights, ids, silence_warnings=silence_warnings)\n"
     ]
    },
    {
     "name": "stdout",
     "output_type": "stream",
     "text": [
      "Built tess graph knn=1\n",
      "Built buildings graph knn=1\n",
      "Built streets graph knn=1\n",
      "Built enclosure graph knn=1\n",
      "Built nodes graph knn=1\n"
     ]
    },
    {
     "name": "stderr",
     "output_type": "stream",
     "text": [
      "/home/krasen/morphometrics/.pixi/envs/default/lib/python3.12/site-packages/libpysal/weights/weights.py:1685: UserWarning: The weights matrix is not fully connected: \n",
      " There are 17 disconnected components.\n",
      "  w = W(neighbors, weights, ids, silence_warnings=silence_warnings)\n"
     ]
    },
    {
     "name": "stdout",
     "output_type": "stream",
     "text": [
      "Built tess graph knn=1\n",
      "Built buildings graph knn=1\n",
      "Built streets graph knn=1\n",
      "Built enclosure graph knn=1\n",
      "Built nodes graph knn=1\n"
     ]
    },
    {
     "name": "stderr",
     "output_type": "stream",
     "text": [
      "/home/krasen/morphometrics/.pixi/envs/default/lib/python3.12/site-packages/libpysal/weights/weights.py:1685: UserWarning: The weights matrix is not fully connected: \n",
      " There are 14 disconnected components.\n",
      "  w = W(neighbors, weights, ids, silence_warnings=silence_warnings)\n"
     ]
    },
    {
     "name": "stdout",
     "output_type": "stream",
     "text": [
      "Built tess graph knn=1\n",
      "Built buildings graph knn=1\n",
      "Built streets graph knn=1\n",
      "Built enclosure graph knn=1\n"
     ]
    },
    {
     "name": "stderr",
     "output_type": "stream",
     "text": [
      "/home/krasen/morphometrics/.pixi/envs/default/lib/python3.12/site-packages/libpysal/weights/weights.py:1685: UserWarning: The weights matrix is not fully connected: \n",
      " There are 31 disconnected components.\n",
      "  w = W(neighbors, weights, ids, silence_warnings=silence_warnings)\n"
     ]
    },
    {
     "name": "stdout",
     "output_type": "stream",
     "text": [
      "Built nodes graph knn=1\n",
      "Built tess graph knn=1\n",
      "Built buildings graph knn=1\n",
      "Built streets graph knn=1\n",
      "Built enclosure graph knn=1\n"
     ]
    },
    {
     "name": "stderr",
     "output_type": "stream",
     "text": [
      "/home/krasen/morphometrics/.pixi/envs/default/lib/python3.12/site-packages/libpysal/weights/weights.py:1685: UserWarning: The weights matrix is not fully connected: \n",
      " There are 15 disconnected components.\n",
      "  w = W(neighbors, weights, ids, silence_warnings=silence_warnings)\n"
     ]
    },
    {
     "name": "stdout",
     "output_type": "stream",
     "text": [
      "Built nodes graph knn=1\n",
      "Built tess graph knn=1\n",
      "Built buildings graph knn=1\n",
      "Built streets graph knn=1\n",
      "Built enclosure graph knn=1\n"
     ]
    },
    {
     "name": "stderr",
     "output_type": "stream",
     "text": [
      "/home/krasen/morphometrics/.pixi/envs/default/lib/python3.12/site-packages/libpysal/weights/weights.py:1685: UserWarning: The weights matrix is not fully connected: \n",
      " There are 92 disconnected components.\n",
      "  w = W(neighbors, weights, ids, silence_warnings=silence_warnings)\n"
     ]
    },
    {
     "name": "stdout",
     "output_type": "stream",
     "text": [
      "Built nodes graph knn=1\n",
      "Built tess graph knn=1\n",
      "Built buildings graph knn=1\n",
      "Built streets graph knn=1\n",
      "Built enclosure graph knn=1\n"
     ]
    },
    {
     "name": "stderr",
     "output_type": "stream",
     "text": [
      "/home/krasen/morphometrics/.pixi/envs/default/lib/python3.12/site-packages/libpysal/weights/weights.py:1685: UserWarning: The weights matrix is not fully connected: \n",
      " There are 32 disconnected components.\n",
      "  w = W(neighbors, weights, ids, silence_warnings=silence_warnings)\n"
     ]
    },
    {
     "name": "stdout",
     "output_type": "stream",
     "text": [
      "Built nodes graph knn=1\n",
      "Built tess graph knn=1\n",
      "Built buildings graph knn=1\n",
      "Built streets graph knn=1\n",
      "Built enclosure graph knn=1\n"
     ]
    },
    {
     "name": "stderr",
     "output_type": "stream",
     "text": [
      "/home/krasen/morphometrics/.pixi/envs/default/lib/python3.12/site-packages/libpysal/weights/weights.py:1685: UserWarning: The weights matrix is not fully connected: \n",
      " There are 106 disconnected components.\n",
      "  w = W(neighbors, weights, ids, silence_warnings=silence_warnings)\n"
     ]
    },
    {
     "name": "stdout",
     "output_type": "stream",
     "text": [
      "Built nodes graph knn=1\n",
      "Built tess graph knn=1\n",
      "Built buildings graph knn=1\n",
      "Built streets graph knn=1\n",
      "Built enclosure graph knn=1\n"
     ]
    },
    {
     "name": "stderr",
     "output_type": "stream",
     "text": [
      "/home/krasen/morphometrics/.pixi/envs/default/lib/python3.12/site-packages/libpysal/weights/weights.py:1685: UserWarning: The weights matrix is not fully connected: \n",
      " There are 12 disconnected components.\n",
      "  w = W(neighbors, weights, ids, silence_warnings=silence_warnings)\n"
     ]
    },
    {
     "name": "stdout",
     "output_type": "stream",
     "text": [
      "Built nodes graph knn=1\n",
      "Built tess graph knn=1\n",
      "Built buildings graph knn=1\n",
      "Built streets graph knn=1\n",
      "Built enclosure graph knn=1\n"
     ]
    },
    {
     "name": "stderr",
     "output_type": "stream",
     "text": [
      "/home/krasen/morphometrics/.pixi/envs/default/lib/python3.12/site-packages/libpysal/weights/weights.py:1685: UserWarning: The weights matrix is not fully connected: \n",
      " There are 11 disconnected components.\n",
      "  w = W(neighbors, weights, ids, silence_warnings=silence_warnings)\n"
     ]
    },
    {
     "name": "stdout",
     "output_type": "stream",
     "text": [
      "Built nodes graph knn=1\n",
      "Built tess graph knn=1\n",
      "Built buildings graph knn=1\n",
      "Built streets graph knn=1\n",
      "Built enclosure graph knn=1\n"
     ]
    },
    {
     "name": "stderr",
     "output_type": "stream",
     "text": [
      "/home/krasen/morphometrics/.pixi/envs/default/lib/python3.12/site-packages/libpysal/weights/weights.py:1685: UserWarning: The weights matrix is not fully connected: \n",
      " There are 214 disconnected components.\n",
      "  w = W(neighbors, weights, ids, silence_warnings=silence_warnings)\n"
     ]
    },
    {
     "name": "stdout",
     "output_type": "stream",
     "text": [
      "Built nodes graph knn=1\n",
      "Built tess graph knn=1\n",
      "Built buildings graph knn=1\n",
      "Built streets graph knn=1\n",
      "Built enclosure graph knn=1\n",
      "Built nodes graph knn=1\n"
     ]
    },
    {
     "name": "stderr",
     "output_type": "stream",
     "text": [
      "/home/krasen/morphometrics/.pixi/envs/default/lib/python3.12/site-packages/libpysal/weights/weights.py:1685: UserWarning: The weights matrix is not fully connected: \n",
      " There are 18 disconnected components.\n",
      "  w = W(neighbors, weights, ids, silence_warnings=silence_warnings)\n"
     ]
    },
    {
     "name": "stdout",
     "output_type": "stream",
     "text": [
      "Built tess graph knn=1\n",
      "Built buildings graph knn=1\n",
      "Built streets graph knn=1\n",
      "Built enclosure graph knn=1\n",
      "Built nodes graph knn=1\n"
     ]
    },
    {
     "name": "stderr",
     "output_type": "stream",
     "text": [
      "/home/krasen/morphometrics/.pixi/envs/default/lib/python3.12/site-packages/libpysal/weights/weights.py:1685: UserWarning: The weights matrix is not fully connected: \n",
      " There are 25 disconnected components.\n",
      "  w = W(neighbors, weights, ids, silence_warnings=silence_warnings)\n"
     ]
    },
    {
     "name": "stdout",
     "output_type": "stream",
     "text": [
      "Built tess graph knn=1\n",
      "Built buildings graph knn=1\n",
      "Built streets graph knn=1\n",
      "Built enclosure graph knn=1\n",
      "Built nodes graph knn=1\n"
     ]
    },
    {
     "name": "stderr",
     "output_type": "stream",
     "text": [
      "/home/krasen/morphometrics/.pixi/envs/default/lib/python3.12/site-packages/libpysal/weights/weights.py:1685: UserWarning: The weights matrix is not fully connected: \n",
      " There are 44 disconnected components.\n",
      "  w = W(neighbors, weights, ids, silence_warnings=silence_warnings)\n"
     ]
    },
    {
     "name": "stdout",
     "output_type": "stream",
     "text": [
      "Built tess graph knn=1\n",
      "Built buildings graph knn=1\n",
      "Built streets graph knn=1\n",
      "Built enclosure graph knn=1\n"
     ]
    },
    {
     "name": "stderr",
     "output_type": "stream",
     "text": [
      "/home/krasen/morphometrics/.pixi/envs/default/lib/python3.12/site-packages/libpysal/weights/weights.py:1685: UserWarning: The weights matrix is not fully connected: \n",
      " There are 49 disconnected components.\n",
      "  w = W(neighbors, weights, ids, silence_warnings=silence_warnings)\n"
     ]
    },
    {
     "name": "stdout",
     "output_type": "stream",
     "text": [
      "Built nodes graph knn=1\n",
      "Built tess graph knn=1\n",
      "Built buildings graph knn=1\n",
      "Built streets graph knn=1\n",
      "Built enclosure graph knn=1\n",
      "Built nodes graph knn=1\n"
     ]
    },
    {
     "name": "stderr",
     "output_type": "stream",
     "text": [
      "/home/krasen/morphometrics/.pixi/envs/default/lib/python3.12/site-packages/libpysal/weights/weights.py:1685: UserWarning: The weights matrix is not fully connected: \n",
      " There are 17 disconnected components.\n",
      "  w = W(neighbors, weights, ids, silence_warnings=silence_warnings)\n"
     ]
    },
    {
     "name": "stdout",
     "output_type": "stream",
     "text": [
      "Built tess graph knn=1\n",
      "Built buildings graph knn=1\n",
      "Built streets graph knn=1\n",
      "Built enclosure graph knn=1\n",
      "Built nodes graph knn=1\n"
     ]
    },
    {
     "name": "stderr",
     "output_type": "stream",
     "text": [
      "/home/krasen/morphometrics/.pixi/envs/default/lib/python3.12/site-packages/libpysal/weights/weights.py:1685: UserWarning: The weights matrix is not fully connected: \n",
      " There are 15 disconnected components.\n",
      "  w = W(neighbors, weights, ids, silence_warnings=silence_warnings)\n"
     ]
    },
    {
     "name": "stdout",
     "output_type": "stream",
     "text": [
      "Built tess graph knn=1\n",
      "Built buildings graph knn=1\n",
      "Built streets graph knn=1\n",
      "Built enclosure graph knn=1\n",
      "Built nodes graph knn=1\n"
     ]
    },
    {
     "name": "stderr",
     "output_type": "stream",
     "text": [
      "/home/krasen/morphometrics/.pixi/envs/default/lib/python3.12/site-packages/libpysal/weights/weights.py:1685: UserWarning: The weights matrix is not fully connected: \n",
      " There are 29 disconnected components.\n",
      "  w = W(neighbors, weights, ids, silence_warnings=silence_warnings)\n"
     ]
    },
    {
     "name": "stdout",
     "output_type": "stream",
     "text": [
      "Built tess graph knn=1\n",
      "Built buildings graph knn=1\n",
      "Built streets graph knn=1\n",
      "Built enclosure graph knn=1\n",
      "Built nodes graph knn=1\n"
     ]
    },
    {
     "name": "stderr",
     "output_type": "stream",
     "text": [
      "/home/krasen/morphometrics/.pixi/envs/default/lib/python3.12/site-packages/libpysal/weights/weights.py:1685: UserWarning: The weights matrix is not fully connected: \n",
      " There are 12 disconnected components.\n",
      "  w = W(neighbors, weights, ids, silence_warnings=silence_warnings)\n"
     ]
    },
    {
     "name": "stdout",
     "output_type": "stream",
     "text": [
      "Built tess graph knn=1\n",
      "Built buildings graph knn=1\n",
      "Built streets graph knn=1\n",
      "Built enclosure graph knn=1\n",
      "Built nodes graph knn=1\n"
     ]
    },
    {
     "name": "stderr",
     "output_type": "stream",
     "text": [
      "/home/krasen/morphometrics/.pixi/envs/default/lib/python3.12/site-packages/libpysal/weights/weights.py:1685: UserWarning: The weights matrix is not fully connected: \n",
      " There are 34 disconnected components.\n",
      "  w = W(neighbors, weights, ids, silence_warnings=silence_warnings)\n"
     ]
    },
    {
     "name": "stdout",
     "output_type": "stream",
     "text": [
      "Built tess graph knn=1\n",
      "Built buildings graph knn=1\n",
      "Built streets graph knn=1\n",
      "Built enclosure graph knn=1\n",
      "Built nodes graph knn=1\n"
     ]
    },
    {
     "name": "stderr",
     "output_type": "stream",
     "text": [
      "/home/krasen/morphometrics/.pixi/envs/default/lib/python3.12/site-packages/libpysal/weights/weights.py:1685: UserWarning: The weights matrix is not fully connected: \n",
      " There are 12 disconnected components.\n",
      "  w = W(neighbors, weights, ids, silence_warnings=silence_warnings)\n"
     ]
    },
    {
     "name": "stdout",
     "output_type": "stream",
     "text": [
      "Built tess graph knn=1\n",
      "Built buildings graph knn=1\n",
      "Built streets graph knn=1\n",
      "Built enclosure graph knn=1\n",
      "Built nodes graph knn=1\n"
     ]
    },
    {
     "name": "stderr",
     "output_type": "stream",
     "text": [
      "/home/krasen/morphometrics/.pixi/envs/default/lib/python3.12/site-packages/libpysal/weights/weights.py:1685: UserWarning: The weights matrix is not fully connected: \n",
      " There are 16 disconnected components.\n",
      "  w = W(neighbors, weights, ids, silence_warnings=silence_warnings)\n"
     ]
    },
    {
     "name": "stdout",
     "output_type": "stream",
     "text": [
      "Built tess graph knn=1\n",
      "Built buildings graph knn=1\n",
      "Built streets graph knn=1\n",
      "Built enclosure graph knn=1\n"
     ]
    },
    {
     "name": "stderr",
     "output_type": "stream",
     "text": [
      "/home/krasen/morphometrics/.pixi/envs/default/lib/python3.12/site-packages/libpysal/weights/weights.py:1685: UserWarning: The weights matrix is not fully connected: \n",
      " There are 31 disconnected components.\n",
      "  w = W(neighbors, weights, ids, silence_warnings=silence_warnings)\n"
     ]
    },
    {
     "name": "stdout",
     "output_type": "stream",
     "text": [
      "Built nodes graph knn=1\n",
      "Built tess graph knn=1\n",
      "Built buildings graph knn=1\n",
      "Built streets graph knn=1\n",
      "Built enclosure graph knn=1\n",
      "Built nodes graph knn=1\n"
     ]
    },
    {
     "name": "stderr",
     "output_type": "stream",
     "text": [
      "/home/krasen/morphometrics/.pixi/envs/default/lib/python3.12/site-packages/libpysal/weights/weights.py:1685: UserWarning: The weights matrix is not fully connected: \n",
      " There are 6 disconnected components.\n",
      "  w = W(neighbors, weights, ids, silence_warnings=silence_warnings)\n"
     ]
    },
    {
     "name": "stdout",
     "output_type": "stream",
     "text": [
      "Built tess graph knn=1\n",
      "Built buildings graph knn=1\n",
      "Built streets graph knn=1\n",
      "Built enclosure graph knn=1\n",
      "Built nodes graph knn=1\n"
     ]
    },
    {
     "name": "stderr",
     "output_type": "stream",
     "text": [
      "/home/krasen/morphometrics/.pixi/envs/default/lib/python3.12/site-packages/libpysal/weights/weights.py:1685: UserWarning: The weights matrix is not fully connected: \n",
      " There are 34 disconnected components.\n",
      "  w = W(neighbors, weights, ids, silence_warnings=silence_warnings)\n"
     ]
    },
    {
     "name": "stdout",
     "output_type": "stream",
     "text": [
      "Built tess graph knn=1\n",
      "Built buildings graph knn=1\n",
      "Built streets graph knn=1\n",
      "Built enclosure graph knn=1\n"
     ]
    },
    {
     "name": "stderr",
     "output_type": "stream",
     "text": [
      "/home/krasen/morphometrics/.pixi/envs/default/lib/python3.12/site-packages/libpysal/weights/weights.py:1685: UserWarning: The weights matrix is not fully connected: \n",
      " There are 32 disconnected components.\n",
      "  w = W(neighbors, weights, ids, silence_warnings=silence_warnings)\n"
     ]
    },
    {
     "name": "stdout",
     "output_type": "stream",
     "text": [
      "Built nodes graph knn=1\n",
      "Built tess graph knn=1\n",
      "Built buildings graph knn=1\n",
      "Built streets graph knn=1\n",
      "Built enclosure graph knn=1\n"
     ]
    },
    {
     "name": "stderr",
     "output_type": "stream",
     "text": [
      "/home/krasen/morphometrics/.pixi/envs/default/lib/python3.12/site-packages/libpysal/weights/weights.py:1685: UserWarning: The weights matrix is not fully connected: \n",
      " There are 20 disconnected components.\n",
      "  w = W(neighbors, weights, ids, silence_warnings=silence_warnings)\n"
     ]
    },
    {
     "name": "stdout",
     "output_type": "stream",
     "text": [
      "Built nodes graph knn=1\n",
      "Built tess graph knn=1\n",
      "Built buildings graph knn=1\n",
      "Built streets graph knn=1\n",
      "Built enclosure graph knn=1\n",
      "Built nodes graph knn=1\n"
     ]
    },
    {
     "name": "stderr",
     "output_type": "stream",
     "text": [
      "/home/krasen/morphometrics/.pixi/envs/default/lib/python3.12/site-packages/libpysal/weights/weights.py:1685: UserWarning: The weights matrix is not fully connected: \n",
      " There are 11 disconnected components.\n",
      "  w = W(neighbors, weights, ids, silence_warnings=silence_warnings)\n"
     ]
    },
    {
     "name": "stdout",
     "output_type": "stream",
     "text": [
      "Built tess graph knn=1\n",
      "Built buildings graph knn=1\n",
      "Built streets graph knn=1\n",
      "Built enclosure graph knn=1\n",
      "Built nodes graph knn=1\n"
     ]
    },
    {
     "name": "stderr",
     "output_type": "stream",
     "text": [
      "/home/krasen/morphometrics/.pixi/envs/default/lib/python3.12/site-packages/libpysal/weights/weights.py:1685: UserWarning: The weights matrix is not fully connected: \n",
      " There are 29 disconnected components.\n",
      "  w = W(neighbors, weights, ids, silence_warnings=silence_warnings)\n"
     ]
    },
    {
     "name": "stdout",
     "output_type": "stream",
     "text": [
      "Built tess graph knn=1\n",
      "Built buildings graph knn=1\n",
      "Built streets graph knn=1\n",
      "Built enclosure graph knn=1\n"
     ]
    },
    {
     "name": "stderr",
     "output_type": "stream",
     "text": [
      "/home/krasen/morphometrics/.pixi/envs/default/lib/python3.12/site-packages/libpysal/weights/weights.py:1685: UserWarning: The weights matrix is not fully connected: \n",
      " There are 20 disconnected components.\n",
      "  w = W(neighbors, weights, ids, silence_warnings=silence_warnings)\n"
     ]
    },
    {
     "name": "stdout",
     "output_type": "stream",
     "text": [
      "Built nodes graph knn=1\n",
      "Built tess graph knn=1\n",
      "Built buildings graph knn=1\n",
      "Built streets graph knn=1\n",
      "Built enclosure graph knn=1\n"
     ]
    },
    {
     "name": "stderr",
     "output_type": "stream",
     "text": [
      "/home/krasen/morphometrics/.pixi/envs/default/lib/python3.12/site-packages/libpysal/weights/weights.py:1685: UserWarning: The weights matrix is not fully connected: \n",
      " There are 53 disconnected components.\n",
      "  w = W(neighbors, weights, ids, silence_warnings=silence_warnings)\n"
     ]
    },
    {
     "name": "stdout",
     "output_type": "stream",
     "text": [
      "Built nodes graph knn=1\n",
      "Built tess graph knn=1\n",
      "Built buildings graph knn=1\n",
      "Built streets graph knn=1\n",
      "Built enclosure graph knn=1\n"
     ]
    },
    {
     "name": "stderr",
     "output_type": "stream",
     "text": [
      "/home/krasen/morphometrics/.pixi/envs/default/lib/python3.12/site-packages/libpysal/weights/weights.py:1685: UserWarning: The weights matrix is not fully connected: \n",
      " There are 14 disconnected components.\n",
      "  w = W(neighbors, weights, ids, silence_warnings=silence_warnings)\n"
     ]
    },
    {
     "name": "stdout",
     "output_type": "stream",
     "text": [
      "Built nodes graph knn=1\n",
      "Built tess graph knn=1\n",
      "Built buildings graph knn=1\n",
      "Built streets graph knn=1\n",
      "Built enclosure graph knn=1\n"
     ]
    },
    {
     "name": "stderr",
     "output_type": "stream",
     "text": [
      "/home/krasen/morphometrics/.pixi/envs/default/lib/python3.12/site-packages/libpysal/weights/weights.py:1685: UserWarning: The weights matrix is not fully connected: \n",
      " There are 66 disconnected components.\n",
      "  w = W(neighbors, weights, ids, silence_warnings=silence_warnings)\n"
     ]
    },
    {
     "name": "stdout",
     "output_type": "stream",
     "text": [
      "Built nodes graph knn=1\n",
      "Built tess graph knn=1\n",
      "Built buildings graph knn=1\n",
      "Built streets graph knn=1\n",
      "Built enclosure graph knn=1\n"
     ]
    },
    {
     "name": "stderr",
     "output_type": "stream",
     "text": [
      "/home/krasen/morphometrics/.pixi/envs/default/lib/python3.12/site-packages/libpysal/weights/weights.py:1685: UserWarning: The weights matrix is not fully connected: \n",
      " There are 89 disconnected components.\n",
      "  w = W(neighbors, weights, ids, silence_warnings=silence_warnings)\n"
     ]
    },
    {
     "name": "stdout",
     "output_type": "stream",
     "text": [
      "Built nodes graph knn=1\n",
      "Built tess graph knn=1\n",
      "Built buildings graph knn=1\n",
      "Built streets graph knn=1\n",
      "Built enclosure graph knn=1\n",
      "Built nodes graph knn=1\n"
     ]
    },
    {
     "name": "stderr",
     "output_type": "stream",
     "text": [
      "/home/krasen/morphometrics/.pixi/envs/default/lib/python3.12/site-packages/libpysal/weights/weights.py:1685: UserWarning: The weights matrix is not fully connected: \n",
      " There are 24 disconnected components.\n",
      "  w = W(neighbors, weights, ids, silence_warnings=silence_warnings)\n"
     ]
    },
    {
     "name": "stdout",
     "output_type": "stream",
     "text": [
      "Built tess graph knn=1\n",
      "Built buildings graph knn=1\n",
      "Built streets graph knn=1\n",
      "Built enclosure graph knn=1\n",
      "Built nodes graph knn=1\n"
     ]
    },
    {
     "name": "stderr",
     "output_type": "stream",
     "text": [
      "/home/krasen/morphometrics/.pixi/envs/default/lib/python3.12/site-packages/libpysal/weights/weights.py:1685: UserWarning: The weights matrix is not fully connected: \n",
      " There are 25 disconnected components.\n",
      "  w = W(neighbors, weights, ids, silence_warnings=silence_warnings)\n"
     ]
    },
    {
     "name": "stdout",
     "output_type": "stream",
     "text": [
      "Built tess graph knn=1\n",
      "Built buildings graph knn=1\n",
      "Built streets graph knn=1\n",
      "Built enclosure graph knn=1\n"
     ]
    },
    {
     "name": "stderr",
     "output_type": "stream",
     "text": [
      "/home/krasen/morphometrics/.pixi/envs/default/lib/python3.12/site-packages/libpysal/weights/weights.py:1685: UserWarning: The weights matrix is not fully connected: \n",
      " There are 53 disconnected components.\n",
      "  w = W(neighbors, weights, ids, silence_warnings=silence_warnings)\n"
     ]
    },
    {
     "name": "stdout",
     "output_type": "stream",
     "text": [
      "Built nodes graph knn=1\n",
      "Built tess graph knn=1\n",
      "Built buildings graph knn=1\n",
      "Built streets graph knn=1\n",
      "Built enclosure graph knn=1\n"
     ]
    },
    {
     "name": "stderr",
     "output_type": "stream",
     "text": [
      "/home/krasen/morphometrics/.pixi/envs/default/lib/python3.12/site-packages/libpysal/weights/weights.py:1685: UserWarning: The weights matrix is not fully connected: \n",
      " There are 36 disconnected components.\n",
      "  w = W(neighbors, weights, ids, silence_warnings=silence_warnings)\n"
     ]
    },
    {
     "name": "stdout",
     "output_type": "stream",
     "text": [
      "Built nodes graph knn=1\n",
      "Built tess graph knn=1\n",
      "Built buildings graph knn=1\n",
      "Built streets graph knn=1\n",
      "Built enclosure graph knn=1\n"
     ]
    },
    {
     "name": "stderr",
     "output_type": "stream",
     "text": [
      "/home/krasen/morphometrics/.pixi/envs/default/lib/python3.12/site-packages/libpysal/weights/weights.py:1685: UserWarning: The weights matrix is not fully connected: \n",
      " There are 41 disconnected components.\n",
      "  w = W(neighbors, weights, ids, silence_warnings=silence_warnings)\n"
     ]
    },
    {
     "name": "stdout",
     "output_type": "stream",
     "text": [
      "Built nodes graph knn=1\n",
      "Built tess graph knn=1\n",
      "Built buildings graph knn=1\n",
      "Built streets graph knn=1\n",
      "Built enclosure graph knn=1\n",
      "Built nodes graph knn=1\n"
     ]
    },
    {
     "name": "stderr",
     "output_type": "stream",
     "text": [
      "/home/krasen/morphometrics/.pixi/envs/default/lib/python3.12/site-packages/libpysal/weights/weights.py:1685: UserWarning: The weights matrix is not fully connected: \n",
      " There are 41 disconnected components.\n",
      "  w = W(neighbors, weights, ids, silence_warnings=silence_warnings)\n"
     ]
    },
    {
     "name": "stdout",
     "output_type": "stream",
     "text": [
      "Built tess graph knn=1\n",
      "Built buildings graph knn=1\n",
      "Built streets graph knn=1\n",
      "Built enclosure graph knn=1\n"
     ]
    },
    {
     "name": "stderr",
     "output_type": "stream",
     "text": [
      "/home/krasen/morphometrics/.pixi/envs/default/lib/python3.12/site-packages/libpysal/weights/weights.py:1685: UserWarning: The weights matrix is not fully connected: \n",
      " There are 27 disconnected components.\n",
      "  w = W(neighbors, weights, ids, silence_warnings=silence_warnings)\n"
     ]
    },
    {
     "name": "stdout",
     "output_type": "stream",
     "text": [
      "Built nodes graph knn=1\n",
      "Built tess graph knn=1\n",
      "Built buildings graph knn=1\n",
      "Built streets graph knn=1\n",
      "Built enclosure graph knn=1\n"
     ]
    },
    {
     "name": "stderr",
     "output_type": "stream",
     "text": [
      "/home/krasen/morphometrics/.pixi/envs/default/lib/python3.12/site-packages/libpysal/weights/weights.py:1685: UserWarning: The weights matrix is not fully connected: \n",
      " There are 17 disconnected components.\n",
      "  w = W(neighbors, weights, ids, silence_warnings=silence_warnings)\n"
     ]
    },
    {
     "name": "stdout",
     "output_type": "stream",
     "text": [
      "Built nodes graph knn=1\n",
      "Built tess graph knn=1\n",
      "Built buildings graph knn=1\n",
      "Built streets graph knn=1\n",
      "Built enclosure graph knn=1\n"
     ]
    },
    {
     "name": "stderr",
     "output_type": "stream",
     "text": [
      "/home/krasen/morphometrics/.pixi/envs/default/lib/python3.12/site-packages/libpysal/weights/weights.py:1685: UserWarning: The weights matrix is not fully connected: \n",
      " There are 28 disconnected components.\n",
      "  w = W(neighbors, weights, ids, silence_warnings=silence_warnings)\n"
     ]
    },
    {
     "name": "stdout",
     "output_type": "stream",
     "text": [
      "Built nodes graph knn=1\n",
      "Built tess graph knn=1\n",
      "Built buildings graph knn=1\n",
      "Built streets graph knn=1\n",
      "Built enclosure graph knn=1\n"
     ]
    },
    {
     "name": "stderr",
     "output_type": "stream",
     "text": [
      "/home/krasen/morphometrics/.pixi/envs/default/lib/python3.12/site-packages/libpysal/weights/weights.py:1685: UserWarning: The weights matrix is not fully connected: \n",
      " There are 67 disconnected components.\n",
      "  w = W(neighbors, weights, ids, silence_warnings=silence_warnings)\n"
     ]
    },
    {
     "name": "stdout",
     "output_type": "stream",
     "text": [
      "Built nodes graph knn=1\n",
      "Built tess graph knn=1\n",
      "Built buildings graph knn=1\n",
      "Built streets graph knn=1\n",
      "Built enclosure graph knn=1\n"
     ]
    },
    {
     "name": "stderr",
     "output_type": "stream",
     "text": [
      "/home/krasen/morphometrics/.pixi/envs/default/lib/python3.12/site-packages/libpysal/weights/weights.py:1685: UserWarning: The weights matrix is not fully connected: \n",
      " There are 59 disconnected components.\n",
      "  w = W(neighbors, weights, ids, silence_warnings=silence_warnings)\n"
     ]
    },
    {
     "name": "stdout",
     "output_type": "stream",
     "text": [
      "Built nodes graph knn=1\n",
      "Built tess graph knn=1\n",
      "Built buildings graph knn=1\n",
      "Built streets graph knn=1\n",
      "Built enclosure graph knn=1\n",
      "Built nodes graph knn=1\n"
     ]
    },
    {
     "name": "stderr",
     "output_type": "stream",
     "text": [
      "/home/krasen/morphometrics/.pixi/envs/default/lib/python3.12/site-packages/libpysal/weights/weights.py:1685: UserWarning: The weights matrix is not fully connected: \n",
      " There are 11 disconnected components.\n",
      "  w = W(neighbors, weights, ids, silence_warnings=silence_warnings)\n"
     ]
    },
    {
     "name": "stdout",
     "output_type": "stream",
     "text": [
      "Built tess graph knn=1\n",
      "Built buildings graph knn=1\n",
      "Built streets graph knn=1\n",
      "Built enclosure graph knn=1\n"
     ]
    },
    {
     "name": "stderr",
     "output_type": "stream",
     "text": [
      "/home/krasen/morphometrics/.pixi/envs/default/lib/python3.12/site-packages/libpysal/weights/weights.py:1685: UserWarning: The weights matrix is not fully connected: \n",
      " There are 38 disconnected components.\n",
      "  w = W(neighbors, weights, ids, silence_warnings=silence_warnings)\n"
     ]
    },
    {
     "name": "stdout",
     "output_type": "stream",
     "text": [
      "Built nodes graph knn=1\n",
      "Built tess graph knn=1\n",
      "Built buildings graph knn=1\n",
      "Built streets graph knn=1\n",
      "Built enclosure graph knn=1\n"
     ]
    },
    {
     "name": "stderr",
     "output_type": "stream",
     "text": [
      "/home/krasen/morphometrics/.pixi/envs/default/lib/python3.12/site-packages/libpysal/weights/weights.py:1685: UserWarning: The weights matrix is not fully connected: \n",
      " There are 298 disconnected components.\n",
      "  w = W(neighbors, weights, ids, silence_warnings=silence_warnings)\n"
     ]
    },
    {
     "name": "stdout",
     "output_type": "stream",
     "text": [
      "Built nodes graph knn=1\n",
      "Built tess graph knn=1\n",
      "Built buildings graph knn=1\n",
      "Built streets graph knn=1\n",
      "Built enclosure graph knn=1\n",
      "Built nodes graph knn=1\n"
     ]
    },
    {
     "name": "stderr",
     "output_type": "stream",
     "text": [
      "/home/krasen/morphometrics/.pixi/envs/default/lib/python3.12/site-packages/libpysal/weights/weights.py:1685: UserWarning: The weights matrix is not fully connected: \n",
      " There are 19 disconnected components.\n",
      "  w = W(neighbors, weights, ids, silence_warnings=silence_warnings)\n"
     ]
    },
    {
     "name": "stdout",
     "output_type": "stream",
     "text": [
      "Built tess graph knn=1\n",
      "Built buildings graph knn=1\n",
      "Built streets graph knn=1\n",
      "Built enclosure graph knn=1\n"
     ]
    },
    {
     "name": "stderr",
     "output_type": "stream",
     "text": [
      "/home/krasen/morphometrics/.pixi/envs/default/lib/python3.12/site-packages/libpysal/weights/weights.py:1685: UserWarning: The weights matrix is not fully connected: \n",
      " There are 21 disconnected components.\n",
      "  w = W(neighbors, weights, ids, silence_warnings=silence_warnings)\n"
     ]
    },
    {
     "name": "stdout",
     "output_type": "stream",
     "text": [
      "Built nodes graph knn=1\n",
      "Built tess graph knn=1\n",
      "Built buildings graph knn=1\n",
      "Built streets graph knn=1\n",
      "Built enclosure graph knn=1\n"
     ]
    },
    {
     "name": "stderr",
     "output_type": "stream",
     "text": [
      "/home/krasen/morphometrics/.pixi/envs/default/lib/python3.12/site-packages/libpysal/weights/weights.py:1685: UserWarning: The weights matrix is not fully connected: \n",
      " There are 20 disconnected components.\n",
      "  w = W(neighbors, weights, ids, silence_warnings=silence_warnings)\n"
     ]
    },
    {
     "name": "stdout",
     "output_type": "stream",
     "text": [
      "Built nodes graph knn=1\n",
      "Built tess graph knn=1\n",
      "Built buildings graph knn=1\n",
      "Built streets graph knn=1\n",
      "Built enclosure graph knn=1\n"
     ]
    },
    {
     "name": "stderr",
     "output_type": "stream",
     "text": [
      "/home/krasen/morphometrics/.pixi/envs/default/lib/python3.12/site-packages/libpysal/weights/weights.py:1685: UserWarning: The weights matrix is not fully connected: \n",
      " There are 34 disconnected components.\n",
      "  w = W(neighbors, weights, ids, silence_warnings=silence_warnings)\n"
     ]
    },
    {
     "name": "stdout",
     "output_type": "stream",
     "text": [
      "Built nodes graph knn=1\n",
      "Built tess graph knn=1\n",
      "Built buildings graph knn=1\n",
      "Built streets graph knn=1\n",
      "Built enclosure graph knn=1\n"
     ]
    },
    {
     "name": "stderr",
     "output_type": "stream",
     "text": [
      "/home/krasen/morphometrics/.pixi/envs/default/lib/python3.12/site-packages/libpysal/weights/weights.py:1685: UserWarning: The weights matrix is not fully connected: \n",
      " There are 34 disconnected components.\n",
      "  w = W(neighbors, weights, ids, silence_warnings=silence_warnings)\n"
     ]
    },
    {
     "name": "stdout",
     "output_type": "stream",
     "text": [
      "Built nodes graph knn=1\n",
      "Built tess graph knn=1\n",
      "Built buildings graph knn=1\n",
      "Built streets graph knn=1\n",
      "Built enclosure graph knn=1\n",
      "Built nodes graph knn=1\n"
     ]
    },
    {
     "name": "stderr",
     "output_type": "stream",
     "text": [
      "/home/krasen/morphometrics/.pixi/envs/default/lib/python3.12/site-packages/libpysal/weights/weights.py:1685: UserWarning: The weights matrix is not fully connected: \n",
      " There are 30 disconnected components.\n",
      "  w = W(neighbors, weights, ids, silence_warnings=silence_warnings)\n"
     ]
    },
    {
     "name": "stdout",
     "output_type": "stream",
     "text": [
      "Built tess graph knn=1\n",
      "Built buildings graph knn=1\n",
      "Built streets graph knn=1\n",
      "Built enclosure graph knn=1\n",
      "Built nodes graph knn=1\n"
     ]
    },
    {
     "name": "stderr",
     "output_type": "stream",
     "text": [
      "/home/krasen/morphometrics/.pixi/envs/default/lib/python3.12/site-packages/libpysal/weights/weights.py:1685: UserWarning: The weights matrix is not fully connected: \n",
      " There are 8 disconnected components.\n",
      "  w = W(neighbors, weights, ids, silence_warnings=silence_warnings)\n"
     ]
    },
    {
     "name": "stdout",
     "output_type": "stream",
     "text": [
      "Built tess graph knn=1\n",
      "Built buildings graph knn=1\n",
      "Built streets graph knn=1\n",
      "Built enclosure graph knn=1\n",
      "Built nodes graph knn=1\n"
     ]
    },
    {
     "name": "stderr",
     "output_type": "stream",
     "text": [
      "/home/krasen/morphometrics/.pixi/envs/default/lib/python3.12/site-packages/libpysal/weights/weights.py:1685: UserWarning: The weights matrix is not fully connected: \n",
      " There are 15 disconnected components.\n",
      "  w = W(neighbors, weights, ids, silence_warnings=silence_warnings)\n"
     ]
    },
    {
     "name": "stdout",
     "output_type": "stream",
     "text": [
      "Built tess graph knn=1\n",
      "Built buildings graph knn=1\n",
      "Built streets graph knn=1\n",
      "Built enclosure graph knn=1\n",
      "Built nodes graph knn=1\n"
     ]
    },
    {
     "name": "stderr",
     "output_type": "stream",
     "text": [
      "/home/krasen/morphometrics/.pixi/envs/default/lib/python3.12/site-packages/libpysal/weights/weights.py:1685: UserWarning: The weights matrix is not fully connected: \n",
      " There are 21 disconnected components.\n",
      "  w = W(neighbors, weights, ids, silence_warnings=silence_warnings)\n"
     ]
    },
    {
     "name": "stdout",
     "output_type": "stream",
     "text": [
      "Built tess graph knn=1\n",
      "Built buildings graph knn=1\n",
      "Built streets graph knn=1\n",
      "Built enclosure graph knn=1\n"
     ]
    },
    {
     "name": "stderr",
     "output_type": "stream",
     "text": [
      "/home/krasen/morphometrics/.pixi/envs/default/lib/python3.12/site-packages/libpysal/weights/weights.py:1685: UserWarning: The weights matrix is not fully connected: \n",
      " There are 34 disconnected components.\n",
      "  w = W(neighbors, weights, ids, silence_warnings=silence_warnings)\n"
     ]
    },
    {
     "name": "stdout",
     "output_type": "stream",
     "text": [
      "Built nodes graph knn=1\n",
      "Built tess graph knn=1\n",
      "Built buildings graph knn=1\n",
      "Built streets graph knn=1\n",
      "Built enclosure graph knn=1\n"
     ]
    },
    {
     "name": "stderr",
     "output_type": "stream",
     "text": [
      "/home/krasen/morphometrics/.pixi/envs/default/lib/python3.12/site-packages/libpysal/weights/weights.py:1685: UserWarning: The weights matrix is not fully connected: \n",
      " There are 29 disconnected components.\n",
      "  w = W(neighbors, weights, ids, silence_warnings=silence_warnings)\n"
     ]
    },
    {
     "name": "stdout",
     "output_type": "stream",
     "text": [
      "Built nodes graph knn=1\n",
      "Built tess graph knn=1\n",
      "Built buildings graph knn=1\n",
      "Built streets graph knn=1\n",
      "Built enclosure graph knn=1\n"
     ]
    },
    {
     "name": "stderr",
     "output_type": "stream",
     "text": [
      "/home/krasen/morphometrics/.pixi/envs/default/lib/python3.12/site-packages/libpysal/weights/weights.py:1685: UserWarning: The weights matrix is not fully connected: \n",
      " There are 43 disconnected components.\n",
      "  w = W(neighbors, weights, ids, silence_warnings=silence_warnings)\n"
     ]
    },
    {
     "name": "stdout",
     "output_type": "stream",
     "text": [
      "Built nodes graph knn=1\n",
      "Built tess graph knn=1\n",
      "Built buildings graph knn=1\n",
      "Built streets graph knn=1\n",
      "Built enclosure graph knn=1\n",
      "Built nodes graph knn=1\n"
     ]
    },
    {
     "name": "stderr",
     "output_type": "stream",
     "text": [
      "/home/krasen/morphometrics/.pixi/envs/default/lib/python3.12/site-packages/libpysal/weights/weights.py:1685: UserWarning: The weights matrix is not fully connected: \n",
      " There are 7 disconnected components.\n",
      "  w = W(neighbors, weights, ids, silence_warnings=silence_warnings)\n"
     ]
    },
    {
     "name": "stdout",
     "output_type": "stream",
     "text": [
      "Built tess graph knn=1\n",
      "Built buildings graph knn=1\n",
      "Built streets graph knn=1\n",
      "Built enclosure graph knn=1\n",
      "Built nodes graph knn=1\n"
     ]
    },
    {
     "name": "stderr",
     "output_type": "stream",
     "text": [
      "/home/krasen/morphometrics/.pixi/envs/default/lib/python3.12/site-packages/libpysal/weights/weights.py:1685: UserWarning: The weights matrix is not fully connected: \n",
      " There are 39 disconnected components.\n",
      "  w = W(neighbors, weights, ids, silence_warnings=silence_warnings)\n"
     ]
    },
    {
     "name": "stdout",
     "output_type": "stream",
     "text": [
      "Built tess graph knn=1\n",
      "Built buildings graph knn=1\n",
      "Built streets graph knn=1\n",
      "Built enclosure graph knn=1\n",
      "Built nodes graph knn=1\n"
     ]
    },
    {
     "name": "stderr",
     "output_type": "stream",
     "text": [
      "/home/krasen/morphometrics/.pixi/envs/default/lib/python3.12/site-packages/libpysal/weights/weights.py:1685: UserWarning: The weights matrix is not fully connected: \n",
      " There are 20 disconnected components.\n",
      "  w = W(neighbors, weights, ids, silence_warnings=silence_warnings)\n"
     ]
    },
    {
     "name": "stdout",
     "output_type": "stream",
     "text": [
      "Built tess graph knn=1\n",
      "Built buildings graph knn=1\n",
      "Built streets graph knn=1\n",
      "Built enclosure graph knn=1\n",
      "Built nodes graph knn=1\n"
     ]
    },
    {
     "name": "stderr",
     "output_type": "stream",
     "text": [
      "/home/krasen/morphometrics/.pixi/envs/default/lib/python3.12/site-packages/libpysal/weights/weights.py:1685: UserWarning: The weights matrix is not fully connected: \n",
      " There are 22 disconnected components.\n",
      "  w = W(neighbors, weights, ids, silence_warnings=silence_warnings)\n"
     ]
    },
    {
     "name": "stdout",
     "output_type": "stream",
     "text": [
      "Built tess graph knn=1\n",
      "Built buildings graph knn=1\n",
      "Built streets graph knn=1\n",
      "Built enclosure graph knn=1\n",
      "Built nodes graph knn=1\n"
     ]
    },
    {
     "name": "stderr",
     "output_type": "stream",
     "text": [
      "/home/krasen/morphometrics/.pixi/envs/default/lib/python3.12/site-packages/libpysal/weights/weights.py:1685: UserWarning: The weights matrix is not fully connected: \n",
      " There are 20 disconnected components.\n",
      "  w = W(neighbors, weights, ids, silence_warnings=silence_warnings)\n"
     ]
    },
    {
     "name": "stdout",
     "output_type": "stream",
     "text": [
      "Built tess graph knn=1\n",
      "Built buildings graph knn=1\n",
      "Built streets graph knn=1\n",
      "Built enclosure graph knn=1\n",
      "Built nodes graph knn=1\n"
     ]
    },
    {
     "name": "stderr",
     "output_type": "stream",
     "text": [
      "/home/krasen/morphometrics/.pixi/envs/default/lib/python3.12/site-packages/libpysal/weights/weights.py:1685: UserWarning: The weights matrix is not fully connected: \n",
      " There are 7 disconnected components.\n",
      "  w = W(neighbors, weights, ids, silence_warnings=silence_warnings)\n"
     ]
    },
    {
     "name": "stdout",
     "output_type": "stream",
     "text": [
      "Built tess graph knn=1\n",
      "Built buildings graph knn=1\n",
      "Built streets graph knn=1\n",
      "Built enclosure graph knn=1\n",
      "Built nodes graph knn=1\n"
     ]
    },
    {
     "name": "stderr",
     "output_type": "stream",
     "text": [
      "/home/krasen/morphometrics/.pixi/envs/default/lib/python3.12/site-packages/libpysal/weights/weights.py:1685: UserWarning: The weights matrix is not fully connected: \n",
      " There are 20 disconnected components.\n",
      "  w = W(neighbors, weights, ids, silence_warnings=silence_warnings)\n"
     ]
    },
    {
     "name": "stdout",
     "output_type": "stream",
     "text": [
      "Built tess graph knn=1\n",
      "Built buildings graph knn=1\n",
      "Built streets graph knn=1\n",
      "Built enclosure graph knn=1\n"
     ]
    },
    {
     "name": "stderr",
     "output_type": "stream",
     "text": [
      "/home/krasen/morphometrics/.pixi/envs/default/lib/python3.12/site-packages/libpysal/weights/weights.py:1685: UserWarning: The weights matrix is not fully connected: \n",
      " There are 9 disconnected components.\n",
      "  w = W(neighbors, weights, ids, silence_warnings=silence_warnings)\n"
     ]
    },
    {
     "name": "stdout",
     "output_type": "stream",
     "text": [
      "Built nodes graph knn=1\n",
      "Built tess graph knn=1\n",
      "Built buildings graph knn=1\n",
      "Built streets graph knn=1\n",
      "Built enclosure graph knn=1\n",
      "Built nodes graph knn=1\n"
     ]
    },
    {
     "name": "stderr",
     "output_type": "stream",
     "text": [
      "/home/krasen/morphometrics/.pixi/envs/default/lib/python3.12/site-packages/libpysal/weights/weights.py:1685: UserWarning: The weights matrix is not fully connected: \n",
      " There are 40 disconnected components.\n",
      "  w = W(neighbors, weights, ids, silence_warnings=silence_warnings)\n"
     ]
    },
    {
     "name": "stdout",
     "output_type": "stream",
     "text": [
      "Built tess graph knn=1\n",
      "Built buildings graph knn=1\n",
      "Built streets graph knn=1\n",
      "Built enclosure graph knn=1\n",
      "Built nodes graph knn=1\n"
     ]
    },
    {
     "name": "stderr",
     "output_type": "stream",
     "text": [
      "/home/krasen/morphometrics/.pixi/envs/default/lib/python3.12/site-packages/libpysal/weights/weights.py:1685: UserWarning: The weights matrix is not fully connected: \n",
      " There are 23 disconnected components.\n",
      "  w = W(neighbors, weights, ids, silence_warnings=silence_warnings)\n"
     ]
    },
    {
     "name": "stdout",
     "output_type": "stream",
     "text": [
      "Built tess graph knn=1\n",
      "Built buildings graph knn=1\n",
      "Built streets graph knn=1\n",
      "Built enclosure graph knn=1\n"
     ]
    },
    {
     "name": "stderr",
     "output_type": "stream",
     "text": [
      "/home/krasen/morphometrics/.pixi/envs/default/lib/python3.12/site-packages/libpysal/weights/weights.py:1685: UserWarning: The weights matrix is not fully connected: \n",
      " There are 17 disconnected components.\n",
      "  w = W(neighbors, weights, ids, silence_warnings=silence_warnings)\n"
     ]
    },
    {
     "name": "stdout",
     "output_type": "stream",
     "text": [
      "Built nodes graph knn=1\n",
      "Built tess graph knn=1\n",
      "Built buildings graph knn=1\n",
      "Built streets graph knn=1\n",
      "Built enclosure graph knn=1\n"
     ]
    },
    {
     "name": "stderr",
     "output_type": "stream",
     "text": [
      "/home/krasen/morphometrics/.pixi/envs/default/lib/python3.12/site-packages/libpysal/weights/weights.py:1685: UserWarning: The weights matrix is not fully connected: \n",
      " There are 45 disconnected components.\n",
      "  w = W(neighbors, weights, ids, silence_warnings=silence_warnings)\n"
     ]
    },
    {
     "name": "stdout",
     "output_type": "stream",
     "text": [
      "Built nodes graph knn=1\n",
      "Built tess graph knn=1\n",
      "Built buildings graph knn=1\n",
      "Built streets graph knn=1\n",
      "Built enclosure graph knn=1\n"
     ]
    },
    {
     "name": "stderr",
     "output_type": "stream",
     "text": [
      "/home/krasen/morphometrics/.pixi/envs/default/lib/python3.12/site-packages/libpysal/weights/weights.py:1685: UserWarning: The weights matrix is not fully connected: \n",
      " There are 135 disconnected components.\n",
      "  w = W(neighbors, weights, ids, silence_warnings=silence_warnings)\n"
     ]
    },
    {
     "name": "stdout",
     "output_type": "stream",
     "text": [
      "Built nodes graph knn=1\n",
      "Built tess graph knn=1\n",
      "Built buildings graph knn=1\n",
      "Built streets graph knn=1\n",
      "Built enclosure graph knn=1\n",
      "Built nodes graph knn=1\n"
     ]
    },
    {
     "name": "stderr",
     "output_type": "stream",
     "text": [
      "/home/krasen/morphometrics/.pixi/envs/default/lib/python3.12/site-packages/libpysal/weights/weights.py:1685: UserWarning: The weights matrix is not fully connected: \n",
      " There are 23 disconnected components.\n",
      "  w = W(neighbors, weights, ids, silence_warnings=silence_warnings)\n"
     ]
    },
    {
     "name": "stdout",
     "output_type": "stream",
     "text": [
      "Built tess graph knn=1\n",
      "Built buildings graph knn=1\n",
      "Built streets graph knn=1\n",
      "Built enclosure graph knn=1\n",
      "Built nodes graph knn=1\n"
     ]
    },
    {
     "name": "stderr",
     "output_type": "stream",
     "text": [
      "/home/krasen/morphometrics/.pixi/envs/default/lib/python3.12/site-packages/libpysal/weights/weights.py:1685: UserWarning: The weights matrix is not fully connected: \n",
      " There are 14 disconnected components.\n",
      "  w = W(neighbors, weights, ids, silence_warnings=silence_warnings)\n"
     ]
    },
    {
     "name": "stdout",
     "output_type": "stream",
     "text": [
      "Built tess graph knn=1\n",
      "Built buildings graph knn=1\n",
      "Built streets graph knn=1\n",
      "Built enclosure graph knn=1\n"
     ]
    },
    {
     "name": "stderr",
     "output_type": "stream",
     "text": [
      "/home/krasen/morphometrics/.pixi/envs/default/lib/python3.12/site-packages/libpysal/weights/weights.py:1685: UserWarning: The weights matrix is not fully connected: \n",
      " There are 36 disconnected components.\n",
      "  w = W(neighbors, weights, ids, silence_warnings=silence_warnings)\n"
     ]
    },
    {
     "name": "stdout",
     "output_type": "stream",
     "text": [
      "Built nodes graph knn=1\n",
      "Built tess graph knn=1\n",
      "Built buildings graph knn=1\n",
      "Built streets graph knn=1\n",
      "Built enclosure graph knn=1\n",
      "Built nodes graph knn=1\n"
     ]
    },
    {
     "name": "stderr",
     "output_type": "stream",
     "text": [
      "/home/krasen/morphometrics/.pixi/envs/default/lib/python3.12/site-packages/libpysal/weights/weights.py:1685: UserWarning: The weights matrix is not fully connected: \n",
      " There are 13 disconnected components.\n",
      "  w = W(neighbors, weights, ids, silence_warnings=silence_warnings)\n"
     ]
    },
    {
     "name": "stdout",
     "output_type": "stream",
     "text": [
      "Built tess graph knn=1\n",
      "Built buildings graph knn=1\n",
      "Built streets graph knn=1\n",
      "Built enclosure graph knn=1\n",
      "Built nodes graph knn=1\n"
     ]
    },
    {
     "name": "stderr",
     "output_type": "stream",
     "text": [
      "/home/krasen/morphometrics/.pixi/envs/default/lib/python3.12/site-packages/libpysal/weights/weights.py:1685: UserWarning: The weights matrix is not fully connected: \n",
      " There are 22 disconnected components.\n",
      "  w = W(neighbors, weights, ids, silence_warnings=silence_warnings)\n"
     ]
    },
    {
     "name": "stdout",
     "output_type": "stream",
     "text": [
      "Built tess graph knn=1\n",
      "Built buildings graph knn=1\n",
      "Built streets graph knn=1\n",
      "Built enclosure graph knn=1\n",
      "Built nodes graph knn=1\n"
     ]
    },
    {
     "name": "stderr",
     "output_type": "stream",
     "text": [
      "/home/krasen/morphometrics/.pixi/envs/default/lib/python3.12/site-packages/libpysal/weights/weights.py:1685: UserWarning: The weights matrix is not fully connected: \n",
      " There are 23 disconnected components.\n",
      "  w = W(neighbors, weights, ids, silence_warnings=silence_warnings)\n"
     ]
    },
    {
     "name": "stdout",
     "output_type": "stream",
     "text": [
      "Built tess graph knn=1\n",
      "Built buildings graph knn=1\n",
      "Built streets graph knn=1\n",
      "Built enclosure graph knn=1\n"
     ]
    },
    {
     "name": "stderr",
     "output_type": "stream",
     "text": [
      "/home/krasen/morphometrics/.pixi/envs/default/lib/python3.12/site-packages/libpysal/weights/weights.py:1685: UserWarning: The weights matrix is not fully connected: \n",
      " There are 54 disconnected components.\n",
      "  w = W(neighbors, weights, ids, silence_warnings=silence_warnings)\n"
     ]
    },
    {
     "name": "stdout",
     "output_type": "stream",
     "text": [
      "Built nodes graph knn=1\n",
      "Built tess graph knn=1\n",
      "Built buildings graph knn=1\n",
      "Built streets graph knn=1\n",
      "Built enclosure graph knn=1\n"
     ]
    },
    {
     "name": "stderr",
     "output_type": "stream",
     "text": [
      "/home/krasen/morphometrics/.pixi/envs/default/lib/python3.12/site-packages/libpysal/weights/weights.py:1685: UserWarning: The weights matrix is not fully connected: \n",
      " There are 30 disconnected components.\n",
      "  w = W(neighbors, weights, ids, silence_warnings=silence_warnings)\n"
     ]
    },
    {
     "name": "stdout",
     "output_type": "stream",
     "text": [
      "Built nodes graph knn=1\n",
      "Built tess graph knn=1\n",
      "Built buildings graph knn=1\n",
      "Built streets graph knn=1\n",
      "Built enclosure graph knn=1\n",
      "Built nodes graph knn=1\n"
     ]
    },
    {
     "name": "stderr",
     "output_type": "stream",
     "text": [
      "/home/krasen/morphometrics/.pixi/envs/default/lib/python3.12/site-packages/libpysal/weights/weights.py:1685: UserWarning: The weights matrix is not fully connected: \n",
      " There are 18 disconnected components.\n",
      "  w = W(neighbors, weights, ids, silence_warnings=silence_warnings)\n"
     ]
    },
    {
     "name": "stdout",
     "output_type": "stream",
     "text": [
      "Built tess graph knn=1\n",
      "Built buildings graph knn=1\n",
      "Built streets graph knn=1\n",
      "Built enclosure graph knn=1\n",
      "Built nodes graph knn=1\n"
     ]
    },
    {
     "name": "stderr",
     "output_type": "stream",
     "text": [
      "/home/krasen/morphometrics/.pixi/envs/default/lib/python3.12/site-packages/libpysal/weights/weights.py:1685: UserWarning: The weights matrix is not fully connected: \n",
      " There are 22 disconnected components.\n",
      "  w = W(neighbors, weights, ids, silence_warnings=silence_warnings)\n"
     ]
    },
    {
     "name": "stdout",
     "output_type": "stream",
     "text": [
      "Built tess graph knn=1\n",
      "Built buildings graph knn=1\n",
      "Built streets graph knn=1\n",
      "Built enclosure graph knn=1\n"
     ]
    },
    {
     "name": "stderr",
     "output_type": "stream",
     "text": [
      "/home/krasen/morphometrics/.pixi/envs/default/lib/python3.12/site-packages/libpysal/weights/weights.py:1685: UserWarning: The weights matrix is not fully connected: \n",
      " There are 145 disconnected components.\n",
      "  w = W(neighbors, weights, ids, silence_warnings=silence_warnings)\n"
     ]
    },
    {
     "name": "stdout",
     "output_type": "stream",
     "text": [
      "Built nodes graph knn=1\n",
      "Built tess graph knn=1\n",
      "Built buildings graph knn=1\n",
      "Built streets graph knn=1\n",
      "Built enclosure graph knn=1\n",
      "Built nodes graph knn=1\n"
     ]
    },
    {
     "name": "stderr",
     "output_type": "stream",
     "text": [
      "/home/krasen/morphometrics/.pixi/envs/default/lib/python3.12/site-packages/libpysal/weights/weights.py:1685: UserWarning: The weights matrix is not fully connected: \n",
      " There are 9 disconnected components.\n",
      "  w = W(neighbors, weights, ids, silence_warnings=silence_warnings)\n"
     ]
    },
    {
     "name": "stdout",
     "output_type": "stream",
     "text": [
      "Built tess graph knn=1\n",
      "Built buildings graph knn=1\n",
      "Built streets graph knn=1\n",
      "Built enclosure graph knn=1\n",
      "Built nodes graph knn=1\n"
     ]
    },
    {
     "name": "stderr",
     "output_type": "stream",
     "text": [
      "/home/krasen/morphometrics/.pixi/envs/default/lib/python3.12/site-packages/libpysal/weights/weights.py:1685: UserWarning: The weights matrix is not fully connected: \n",
      " There are 25 disconnected components.\n",
      "  w = W(neighbors, weights, ids, silence_warnings=silence_warnings)\n"
     ]
    },
    {
     "name": "stdout",
     "output_type": "stream",
     "text": [
      "Built tess graph knn=1\n",
      "Built buildings graph knn=1\n",
      "Built streets graph knn=1\n",
      "Built enclosure graph knn=1\n",
      "Built nodes graph knn=1\n"
     ]
    },
    {
     "name": "stderr",
     "output_type": "stream",
     "text": [
      "/home/krasen/morphometrics/.pixi/envs/default/lib/python3.12/site-packages/libpysal/weights/weights.py:1685: UserWarning: The weights matrix is not fully connected: \n",
      " There are 24 disconnected components.\n",
      "  w = W(neighbors, weights, ids, silence_warnings=silence_warnings)\n"
     ]
    },
    {
     "name": "stdout",
     "output_type": "stream",
     "text": [
      "Built tess graph knn=1\n",
      "Built buildings graph knn=1\n",
      "Built streets graph knn=1\n",
      "Built enclosure graph knn=1\n",
      "Built nodes graph knn=1\n"
     ]
    },
    {
     "name": "stderr",
     "output_type": "stream",
     "text": [
      "/home/krasen/morphometrics/.pixi/envs/default/lib/python3.12/site-packages/libpysal/weights/weights.py:1685: UserWarning: The weights matrix is not fully connected: \n",
      " There are 24 disconnected components.\n",
      "  w = W(neighbors, weights, ids, silence_warnings=silence_warnings)\n"
     ]
    },
    {
     "name": "stdout",
     "output_type": "stream",
     "text": [
      "Built tess graph knn=1\n",
      "Built buildings graph knn=1\n",
      "Built streets graph knn=1\n",
      "Built enclosure graph knn=1\n"
     ]
    },
    {
     "name": "stderr",
     "output_type": "stream",
     "text": [
      "/home/krasen/morphometrics/.pixi/envs/default/lib/python3.12/site-packages/libpysal/weights/weights.py:1685: UserWarning: The weights matrix is not fully connected: \n",
      " There are 31 disconnected components.\n",
      "  w = W(neighbors, weights, ids, silence_warnings=silence_warnings)\n"
     ]
    },
    {
     "name": "stdout",
     "output_type": "stream",
     "text": [
      "Built nodes graph knn=1\n",
      "Built tess graph knn=1\n",
      "Built buildings graph knn=1\n",
      "Built streets graph knn=1\n",
      "Built enclosure graph knn=1\n",
      "Built nodes graph knn=1\n"
     ]
    },
    {
     "name": "stderr",
     "output_type": "stream",
     "text": [
      "/home/krasen/morphometrics/.pixi/envs/default/lib/python3.12/site-packages/libpysal/weights/weights.py:1685: UserWarning: The weights matrix is not fully connected: \n",
      " There are 8 disconnected components.\n",
      "  w = W(neighbors, weights, ids, silence_warnings=silence_warnings)\n"
     ]
    },
    {
     "name": "stdout",
     "output_type": "stream",
     "text": [
      "Built tess graph knn=1\n",
      "Built buildings graph knn=1\n",
      "Built streets graph knn=1\n",
      "Built enclosure graph knn=1\n",
      "Built nodes graph knn=1\n"
     ]
    },
    {
     "name": "stderr",
     "output_type": "stream",
     "text": [
      "/home/krasen/morphometrics/.pixi/envs/default/lib/python3.12/site-packages/libpysal/weights/weights.py:1685: UserWarning: The weights matrix is not fully connected: \n",
      " There are 16 disconnected components.\n",
      "  w = W(neighbors, weights, ids, silence_warnings=silence_warnings)\n"
     ]
    },
    {
     "name": "stdout",
     "output_type": "stream",
     "text": [
      "Built tess graph knn=1\n",
      "Built buildings graph knn=1\n",
      "Built streets graph knn=1\n",
      "Built enclosure graph knn=1\n",
      "Built nodes graph knn=1\n"
     ]
    },
    {
     "name": "stderr",
     "output_type": "stream",
     "text": [
      "/home/krasen/morphometrics/.pixi/envs/default/lib/python3.12/site-packages/libpysal/weights/weights.py:1685: UserWarning: The weights matrix is not fully connected: \n",
      " There are 11 disconnected components.\n",
      "  w = W(neighbors, weights, ids, silence_warnings=silence_warnings)\n"
     ]
    },
    {
     "name": "stdout",
     "output_type": "stream",
     "text": [
      "Built tess graph knn=1\n",
      "Built buildings graph knn=1\n",
      "Built streets graph knn=1\n",
      "Built enclosure graph knn=1\n"
     ]
    },
    {
     "name": "stderr",
     "output_type": "stream",
     "text": [
      "/home/krasen/morphometrics/.pixi/envs/default/lib/python3.12/site-packages/libpysal/weights/weights.py:1685: UserWarning: The weights matrix is not fully connected: \n",
      " There are 20 disconnected components.\n",
      "  w = W(neighbors, weights, ids, silence_warnings=silence_warnings)\n"
     ]
    },
    {
     "name": "stdout",
     "output_type": "stream",
     "text": [
      "Built nodes graph knn=1\n",
      "Built tess graph knn=1\n",
      "Built buildings graph knn=1\n",
      "Built streets graph knn=1\n",
      "Built enclosure graph knn=1\n",
      "Built nodes graph knn=1\n"
     ]
    },
    {
     "name": "stderr",
     "output_type": "stream",
     "text": [
      "/home/krasen/morphometrics/.pixi/envs/default/lib/python3.12/site-packages/libpysal/weights/weights.py:1685: UserWarning: The weights matrix is not fully connected: \n",
      " There are 23 disconnected components.\n",
      "  w = W(neighbors, weights, ids, silence_warnings=silence_warnings)\n"
     ]
    },
    {
     "name": "stdout",
     "output_type": "stream",
     "text": [
      "Built tess graph knn=1\n",
      "Built buildings graph knn=1\n",
      "Built streets graph knn=1\n",
      "Built enclosure graph knn=1\n",
      "Built nodes graph knn=1\n"
     ]
    },
    {
     "name": "stderr",
     "output_type": "stream",
     "text": [
      "/home/krasen/morphometrics/.pixi/envs/default/lib/python3.12/site-packages/libpysal/weights/weights.py:1685: UserWarning: The weights matrix is not fully connected: \n",
      " There are 6 disconnected components.\n",
      "  w = W(neighbors, weights, ids, silence_warnings=silence_warnings)\n"
     ]
    },
    {
     "name": "stdout",
     "output_type": "stream",
     "text": [
      "Built tess graph knn=1\n",
      "Built buildings graph knn=1\n",
      "Built streets graph knn=1\n",
      "Built enclosure graph knn=1\n",
      "Built nodes graph knn=1\n"
     ]
    },
    {
     "name": "stderr",
     "output_type": "stream",
     "text": [
      "/home/krasen/morphometrics/.pixi/envs/default/lib/python3.12/site-packages/libpysal/weights/weights.py:1685: UserWarning: The weights matrix is not fully connected: \n",
      " There are 15 disconnected components.\n",
      "  w = W(neighbors, weights, ids, silence_warnings=silence_warnings)\n"
     ]
    },
    {
     "name": "stdout",
     "output_type": "stream",
     "text": [
      "Built tess graph knn=1\n",
      "Built buildings graph knn=1\n",
      "Built streets graph knn=1\n",
      "Built enclosure graph knn=1\n"
     ]
    },
    {
     "name": "stderr",
     "output_type": "stream",
     "text": [
      "/home/krasen/morphometrics/.pixi/envs/default/lib/python3.12/site-packages/libpysal/weights/weights.py:1685: UserWarning: The weights matrix is not fully connected: \n",
      " There are 15 disconnected components.\n",
      "  w = W(neighbors, weights, ids, silence_warnings=silence_warnings)\n"
     ]
    },
    {
     "name": "stdout",
     "output_type": "stream",
     "text": [
      "Built nodes graph knn=1\n",
      "Built tess graph knn=1\n",
      "Built buildings graph knn=1\n",
      "Built streets graph knn=1\n",
      "Built enclosure graph knn=1\n",
      "Built nodes graph knn=1\n"
     ]
    },
    {
     "name": "stderr",
     "output_type": "stream",
     "text": [
      "/home/krasen/morphometrics/.pixi/envs/default/lib/python3.12/site-packages/libpysal/weights/weights.py:1685: UserWarning: The weights matrix is not fully connected: \n",
      " There are 18 disconnected components.\n",
      "  w = W(neighbors, weights, ids, silence_warnings=silence_warnings)\n"
     ]
    },
    {
     "name": "stdout",
     "output_type": "stream",
     "text": [
      "Built tess graph knn=1\n",
      "Built buildings graph knn=1\n",
      "Built streets graph knn=1\n",
      "Built enclosure graph knn=1\n",
      "Built nodes graph knn=1\n"
     ]
    },
    {
     "name": "stderr",
     "output_type": "stream",
     "text": [
      "/home/krasen/morphometrics/.pixi/envs/default/lib/python3.12/site-packages/libpysal/weights/weights.py:1685: UserWarning: The weights matrix is not fully connected: \n",
      " There are 22 disconnected components.\n",
      "  w = W(neighbors, weights, ids, silence_warnings=silence_warnings)\n"
     ]
    },
    {
     "name": "stdout",
     "output_type": "stream",
     "text": [
      "Built tess graph knn=1\n",
      "Built buildings graph knn=1\n",
      "Built streets graph knn=1\n",
      "Built enclosure graph knn=1\n",
      "Built nodes graph knn=1\n"
     ]
    },
    {
     "name": "stderr",
     "output_type": "stream",
     "text": [
      "/home/krasen/morphometrics/.pixi/envs/default/lib/python3.12/site-packages/libpysal/weights/weights.py:1685: UserWarning: The weights matrix is not fully connected: \n",
      " There are 14 disconnected components.\n",
      "  w = W(neighbors, weights, ids, silence_warnings=silence_warnings)\n"
     ]
    },
    {
     "name": "stdout",
     "output_type": "stream",
     "text": [
      "Built tess graph knn=1\n",
      "Built buildings graph knn=1\n",
      "Built streets graph knn=1\n",
      "Built enclosure graph knn=1\n"
     ]
    },
    {
     "name": "stderr",
     "output_type": "stream",
     "text": [
      "/home/krasen/morphometrics/.pixi/envs/default/lib/python3.12/site-packages/libpysal/weights/weights.py:1685: UserWarning: The weights matrix is not fully connected: \n",
      " There are 63 disconnected components.\n",
      "  w = W(neighbors, weights, ids, silence_warnings=silence_warnings)\n"
     ]
    },
    {
     "name": "stdout",
     "output_type": "stream",
     "text": [
      "Built nodes graph knn=1\n",
      "Built tess graph knn=1\n",
      "Built buildings graph knn=1\n",
      "Built streets graph knn=1\n",
      "Built enclosure graph knn=1\n",
      "Built nodes graph knn=1\n"
     ]
    },
    {
     "name": "stderr",
     "output_type": "stream",
     "text": [
      "/home/krasen/morphometrics/.pixi/envs/default/lib/python3.12/site-packages/libpysal/weights/weights.py:1685: UserWarning: The weights matrix is not fully connected: \n",
      " There are 14 disconnected components.\n",
      "  w = W(neighbors, weights, ids, silence_warnings=silence_warnings)\n"
     ]
    },
    {
     "name": "stdout",
     "output_type": "stream",
     "text": [
      "Built tess graph knn=1\n",
      "Built buildings graph knn=1\n",
      "Built streets graph knn=1\n",
      "Built enclosure graph knn=1\n"
     ]
    },
    {
     "name": "stderr",
     "output_type": "stream",
     "text": [
      "/home/krasen/morphometrics/.pixi/envs/default/lib/python3.12/site-packages/libpysal/weights/weights.py:1685: UserWarning: The weights matrix is not fully connected: \n",
      " There are 36 disconnected components.\n",
      "  w = W(neighbors, weights, ids, silence_warnings=silence_warnings)\n"
     ]
    },
    {
     "name": "stdout",
     "output_type": "stream",
     "text": [
      "Built nodes graph knn=1\n",
      "Built tess graph knn=1\n",
      "Built buildings graph knn=1\n",
      "Built streets graph knn=1\n",
      "Built enclosure graph knn=1\n"
     ]
    },
    {
     "name": "stderr",
     "output_type": "stream",
     "text": [
      "/home/krasen/morphometrics/.pixi/envs/default/lib/python3.12/site-packages/libpysal/weights/weights.py:1685: UserWarning: The weights matrix is not fully connected: \n",
      " There are 147 disconnected components.\n",
      "  w = W(neighbors, weights, ids, silence_warnings=silence_warnings)\n"
     ]
    },
    {
     "name": "stdout",
     "output_type": "stream",
     "text": [
      "Built nodes graph knn=1\n",
      "Built tess graph knn=1\n",
      "Built buildings graph knn=1\n",
      "Built streets graph knn=1\n",
      "Built enclosure graph knn=1\n",
      "Built nodes graph knn=1\n"
     ]
    },
    {
     "name": "stderr",
     "output_type": "stream",
     "text": [
      "/home/krasen/morphometrics/.pixi/envs/default/lib/python3.12/site-packages/libpysal/weights/weights.py:1685: UserWarning: The weights matrix is not fully connected: \n",
      " There are 14 disconnected components.\n",
      "  w = W(neighbors, weights, ids, silence_warnings=silence_warnings)\n"
     ]
    },
    {
     "name": "stdout",
     "output_type": "stream",
     "text": [
      "Built tess graph knn=1\n",
      "Built buildings graph knn=1\n",
      "Built streets graph knn=1\n",
      "Built enclosure graph knn=1\n",
      "Built nodes graph knn=1\n"
     ]
    },
    {
     "name": "stderr",
     "output_type": "stream",
     "text": [
      "/home/krasen/morphometrics/.pixi/envs/default/lib/python3.12/site-packages/libpysal/weights/weights.py:1685: UserWarning: The weights matrix is not fully connected: \n",
      " There are 22 disconnected components.\n",
      "  w = W(neighbors, weights, ids, silence_warnings=silence_warnings)\n"
     ]
    },
    {
     "name": "stdout",
     "output_type": "stream",
     "text": [
      "Built tess graph knn=1\n",
      "Built buildings graph knn=1\n",
      "Built streets graph knn=1\n",
      "Built enclosure graph knn=1\n",
      "Built nodes graph knn=1\n"
     ]
    },
    {
     "name": "stderr",
     "output_type": "stream",
     "text": [
      "/home/krasen/morphometrics/.pixi/envs/default/lib/python3.12/site-packages/libpysal/weights/weights.py:1685: UserWarning: The weights matrix is not fully connected: \n",
      " There are 17 disconnected components.\n",
      "  w = W(neighbors, weights, ids, silence_warnings=silence_warnings)\n"
     ]
    },
    {
     "name": "stdout",
     "output_type": "stream",
     "text": [
      "Built tess graph knn=1\n",
      "Built buildings graph knn=1\n",
      "Built streets graph knn=1\n",
      "Built enclosure graph knn=1\n",
      "Built nodes graph knn=1\n"
     ]
    },
    {
     "name": "stderr",
     "output_type": "stream",
     "text": [
      "/home/krasen/morphometrics/.pixi/envs/default/lib/python3.12/site-packages/libpysal/weights/weights.py:1685: UserWarning: The weights matrix is not fully connected: \n",
      " There are 18 disconnected components.\n",
      "  w = W(neighbors, weights, ids, silence_warnings=silence_warnings)\n"
     ]
    },
    {
     "name": "stdout",
     "output_type": "stream",
     "text": [
      "Built tess graph knn=1\n",
      "Built buildings graph knn=1\n",
      "Built streets graph knn=1\n",
      "Built enclosure graph knn=1\n",
      "Built nodes graph knn=1\n"
     ]
    },
    {
     "name": "stderr",
     "output_type": "stream",
     "text": [
      "/home/krasen/morphometrics/.pixi/envs/default/lib/python3.12/site-packages/libpysal/weights/weights.py:1685: UserWarning: The weights matrix is not fully connected: \n",
      " There are 23 disconnected components.\n",
      "  w = W(neighbors, weights, ids, silence_warnings=silence_warnings)\n"
     ]
    },
    {
     "name": "stdout",
     "output_type": "stream",
     "text": [
      "Built tess graph knn=1\n",
      "Built buildings graph knn=1\n",
      "Built streets graph knn=1\n",
      "Built enclosure graph knn=1\n",
      "Built nodes graph knn=1\n"
     ]
    },
    {
     "name": "stderr",
     "output_type": "stream",
     "text": [
      "/home/krasen/morphometrics/.pixi/envs/default/lib/python3.12/site-packages/libpysal/weights/weights.py:1685: UserWarning: The weights matrix is not fully connected: \n",
      " There are 15 disconnected components.\n",
      "  w = W(neighbors, weights, ids, silence_warnings=silence_warnings)\n"
     ]
    },
    {
     "name": "stdout",
     "output_type": "stream",
     "text": [
      "Built tess graph knn=1\n",
      "Built buildings graph knn=1\n",
      "Built streets graph knn=1\n",
      "Built enclosure graph knn=1\n",
      "Built nodes graph knn=1\n"
     ]
    },
    {
     "name": "stderr",
     "output_type": "stream",
     "text": [
      "/home/krasen/morphometrics/.pixi/envs/default/lib/python3.12/site-packages/libpysal/weights/weights.py:1685: UserWarning: The weights matrix is not fully connected: \n",
      " There are 8 disconnected components.\n",
      "  w = W(neighbors, weights, ids, silence_warnings=silence_warnings)\n"
     ]
    },
    {
     "name": "stdout",
     "output_type": "stream",
     "text": [
      "Built tess graph knn=1\n",
      "Built buildings graph knn=1\n",
      "Built streets graph knn=1\n",
      "Built enclosure graph knn=1\n"
     ]
    },
    {
     "name": "stderr",
     "output_type": "stream",
     "text": [
      "/home/krasen/morphometrics/.pixi/envs/default/lib/python3.12/site-packages/libpysal/weights/weights.py:1685: UserWarning: The weights matrix is not fully connected: \n",
      " There are 234 disconnected components.\n",
      "  w = W(neighbors, weights, ids, silence_warnings=silence_warnings)\n"
     ]
    },
    {
     "name": "stdout",
     "output_type": "stream",
     "text": [
      "Built nodes graph knn=1\n",
      "Built tess graph knn=1\n",
      "Built buildings graph knn=1\n",
      "Built streets graph knn=1\n",
      "Built enclosure graph knn=1\n"
     ]
    },
    {
     "name": "stderr",
     "output_type": "stream",
     "text": [
      "/home/krasen/morphometrics/.pixi/envs/default/lib/python3.12/site-packages/libpysal/weights/weights.py:1685: UserWarning: The weights matrix is not fully connected: \n",
      " There are 35 disconnected components.\n",
      "  w = W(neighbors, weights, ids, silence_warnings=silence_warnings)\n"
     ]
    },
    {
     "name": "stdout",
     "output_type": "stream",
     "text": [
      "Built nodes graph knn=1\n",
      "Built tess graph knn=1\n",
      "Built buildings graph knn=1\n",
      "Built streets graph knn=1\n",
      "Built enclosure graph knn=1\n"
     ]
    },
    {
     "name": "stderr",
     "output_type": "stream",
     "text": [
      "/home/krasen/morphometrics/.pixi/envs/default/lib/python3.12/site-packages/libpysal/weights/weights.py:1685: UserWarning: The weights matrix is not fully connected: \n",
      " There are 17 disconnected components.\n",
      "  w = W(neighbors, weights, ids, silence_warnings=silence_warnings)\n"
     ]
    },
    {
     "name": "stdout",
     "output_type": "stream",
     "text": [
      "Built nodes graph knn=1\n",
      "Built tess graph knn=1\n",
      "Built buildings graph knn=1\n",
      "Built streets graph knn=1\n",
      "Built enclosure graph knn=1\n",
      "Built nodes graph knn=1\n"
     ]
    },
    {
     "name": "stderr",
     "output_type": "stream",
     "text": [
      "/home/krasen/morphometrics/.pixi/envs/default/lib/python3.12/site-packages/libpysal/weights/weights.py:1685: UserWarning: The weights matrix is not fully connected: \n",
      " There are 20 disconnected components.\n",
      "  w = W(neighbors, weights, ids, silence_warnings=silence_warnings)\n"
     ]
    },
    {
     "name": "stdout",
     "output_type": "stream",
     "text": [
      "Built tess graph knn=1\n",
      "Built buildings graph knn=1\n",
      "Built streets graph knn=1\n",
      "Built enclosure graph knn=1\n",
      "Built nodes graph knn=1\n"
     ]
    },
    {
     "name": "stderr",
     "output_type": "stream",
     "text": [
      "/home/krasen/morphometrics/.pixi/envs/default/lib/python3.12/site-packages/libpysal/weights/weights.py:1685: UserWarning: The weights matrix is not fully connected: \n",
      " There are 24 disconnected components.\n",
      "  w = W(neighbors, weights, ids, silence_warnings=silence_warnings)\n"
     ]
    },
    {
     "name": "stdout",
     "output_type": "stream",
     "text": [
      "Built tess graph knn=1\n",
      "Built buildings graph knn=1\n",
      "Built streets graph knn=1\n",
      "Built enclosure graph knn=1\n",
      "Built nodes graph knn=1\n"
     ]
    },
    {
     "name": "stderr",
     "output_type": "stream",
     "text": [
      "/home/krasen/morphometrics/.pixi/envs/default/lib/python3.12/site-packages/libpysal/weights/weights.py:1685: UserWarning: The weights matrix is not fully connected: \n",
      " There are 4 disconnected components.\n",
      "  w = W(neighbors, weights, ids, silence_warnings=silence_warnings)\n"
     ]
    },
    {
     "name": "stdout",
     "output_type": "stream",
     "text": [
      "Built tess graph knn=1\n",
      "Built buildings graph knn=1\n",
      "Built streets graph knn=1\n",
      "Built enclosure graph knn=1\n",
      "Built nodes graph knn=1\n"
     ]
    },
    {
     "name": "stderr",
     "output_type": "stream",
     "text": [
      "/home/krasen/morphometrics/.pixi/envs/default/lib/python3.12/site-packages/libpysal/weights/weights.py:1685: UserWarning: The weights matrix is not fully connected: \n",
      " There are 16 disconnected components.\n",
      "  w = W(neighbors, weights, ids, silence_warnings=silence_warnings)\n"
     ]
    },
    {
     "name": "stdout",
     "output_type": "stream",
     "text": [
      "Built tess graph knn=1\n",
      "Built buildings graph knn=1\n",
      "Built streets graph knn=1\n",
      "Built enclosure graph knn=1\n",
      "Built nodes graph knn=1\n"
     ]
    },
    {
     "name": "stderr",
     "output_type": "stream",
     "text": [
      "/home/krasen/morphometrics/.pixi/envs/default/lib/python3.12/site-packages/libpysal/weights/weights.py:1685: UserWarning: The weights matrix is not fully connected: \n",
      " There are 26 disconnected components.\n",
      "  w = W(neighbors, weights, ids, silence_warnings=silence_warnings)\n"
     ]
    },
    {
     "name": "stdout",
     "output_type": "stream",
     "text": [
      "Built tess graph knn=1\n",
      "Built buildings graph knn=1\n",
      "Built streets graph knn=1\n",
      "Built enclosure graph knn=1\n",
      "Built nodes graph knn=1\n"
     ]
    },
    {
     "name": "stderr",
     "output_type": "stream",
     "text": [
      "/home/krasen/morphometrics/.pixi/envs/default/lib/python3.12/site-packages/libpysal/weights/weights.py:1685: UserWarning: The weights matrix is not fully connected: \n",
      " There are 24 disconnected components.\n",
      "  w = W(neighbors, weights, ids, silence_warnings=silence_warnings)\n"
     ]
    },
    {
     "name": "stdout",
     "output_type": "stream",
     "text": [
      "Built tess graph knn=1\n",
      "Built buildings graph knn=1\n",
      "Built streets graph knn=1\n",
      "Built enclosure graph knn=1\n",
      "Built nodes graph knn=1\n"
     ]
    },
    {
     "name": "stderr",
     "output_type": "stream",
     "text": [
      "/home/krasen/morphometrics/.pixi/envs/default/lib/python3.12/site-packages/libpysal/weights/weights.py:1685: UserWarning: The weights matrix is not fully connected: \n",
      " There are 17 disconnected components.\n",
      "  w = W(neighbors, weights, ids, silence_warnings=silence_warnings)\n"
     ]
    },
    {
     "name": "stdout",
     "output_type": "stream",
     "text": [
      "Built tess graph knn=1\n",
      "Built buildings graph knn=1\n",
      "Built streets graph knn=1\n",
      "Built enclosure graph knn=1\n",
      "Built nodes graph knn=1\n"
     ]
    },
    {
     "name": "stderr",
     "output_type": "stream",
     "text": [
      "/home/krasen/morphometrics/.pixi/envs/default/lib/python3.12/site-packages/libpysal/weights/weights.py:1685: UserWarning: The weights matrix is not fully connected: \n",
      " There are 23 disconnected components.\n",
      "  w = W(neighbors, weights, ids, silence_warnings=silence_warnings)\n"
     ]
    },
    {
     "name": "stdout",
     "output_type": "stream",
     "text": [
      "Built tess graph knn=1\n",
      "Built buildings graph knn=1\n",
      "Built streets graph knn=1\n",
      "Built enclosure graph knn=1\n"
     ]
    },
    {
     "name": "stderr",
     "output_type": "stream",
     "text": [
      "/home/krasen/morphometrics/.pixi/envs/default/lib/python3.12/site-packages/libpysal/weights/weights.py:1685: UserWarning: The weights matrix is not fully connected: \n",
      " There are 58 disconnected components.\n",
      "  w = W(neighbors, weights, ids, silence_warnings=silence_warnings)\n"
     ]
    },
    {
     "name": "stdout",
     "output_type": "stream",
     "text": [
      "Built nodes graph knn=1\n",
      "Built tess graph knn=1\n",
      "Built buildings graph knn=1\n",
      "Built streets graph knn=1\n",
      "Built enclosure graph knn=1\n",
      "Built nodes graph knn=1\n"
     ]
    },
    {
     "name": "stderr",
     "output_type": "stream",
     "text": [
      "/home/krasen/morphometrics/.pixi/envs/default/lib/python3.12/site-packages/libpysal/weights/weights.py:1685: UserWarning: The weights matrix is not fully connected: \n",
      " There are 15 disconnected components.\n",
      "  w = W(neighbors, weights, ids, silence_warnings=silence_warnings)\n"
     ]
    },
    {
     "name": "stdout",
     "output_type": "stream",
     "text": [
      "Built tess graph knn=1\n",
      "Built buildings graph knn=1\n",
      "Built streets graph knn=1\n",
      "Built enclosure graph knn=1\n"
     ]
    },
    {
     "name": "stderr",
     "output_type": "stream",
     "text": [
      "/home/krasen/morphometrics/.pixi/envs/default/lib/python3.12/site-packages/libpysal/weights/weights.py:1685: UserWarning: The weights matrix is not fully connected: \n",
      " There are 81 disconnected components.\n",
      "  w = W(neighbors, weights, ids, silence_warnings=silence_warnings)\n"
     ]
    },
    {
     "name": "stdout",
     "output_type": "stream",
     "text": [
      "Built nodes graph knn=1\n",
      "Built tess graph knn=1\n",
      "Built buildings graph knn=1\n",
      "Built streets graph knn=1\n",
      "Built enclosure graph knn=1\n",
      "Built nodes graph knn=1\n"
     ]
    },
    {
     "name": "stderr",
     "output_type": "stream",
     "text": [
      "/home/krasen/morphometrics/.pixi/envs/default/lib/python3.12/site-packages/libpysal/weights/weights.py:1685: UserWarning: The weights matrix is not fully connected: \n",
      " There are 15 disconnected components.\n",
      "  w = W(neighbors, weights, ids, silence_warnings=silence_warnings)\n"
     ]
    },
    {
     "name": "stdout",
     "output_type": "stream",
     "text": [
      "Built tess graph knn=1\n",
      "Built buildings graph knn=1\n",
      "Built streets graph knn=1\n",
      "Built enclosure graph knn=1\n"
     ]
    },
    {
     "name": "stderr",
     "output_type": "stream",
     "text": [
      "/home/krasen/morphometrics/.pixi/envs/default/lib/python3.12/site-packages/libpysal/weights/weights.py:1685: UserWarning: The weights matrix is not fully connected: \n",
      " There are 30 disconnected components.\n",
      "  w = W(neighbors, weights, ids, silence_warnings=silence_warnings)\n"
     ]
    },
    {
     "name": "stdout",
     "output_type": "stream",
     "text": [
      "Built nodes graph knn=1\n",
      "Built tess graph knn=1\n",
      "Built buildings graph knn=1\n",
      "Built streets graph knn=1\n",
      "Built enclosure graph knn=1\n"
     ]
    },
    {
     "name": "stderr",
     "output_type": "stream",
     "text": [
      "/home/krasen/morphometrics/.pixi/envs/default/lib/python3.12/site-packages/libpysal/weights/weights.py:1685: UserWarning: The weights matrix is not fully connected: \n",
      " There are 66 disconnected components.\n",
      "  w = W(neighbors, weights, ids, silence_warnings=silence_warnings)\n"
     ]
    },
    {
     "name": "stdout",
     "output_type": "stream",
     "text": [
      "Built nodes graph knn=1\n",
      "Built tess graph knn=1\n",
      "Built buildings graph knn=1\n",
      "Built streets graph knn=1\n",
      "Built enclosure graph knn=1\n",
      "Built nodes graph knn=1\n"
     ]
    },
    {
     "name": "stderr",
     "output_type": "stream",
     "text": [
      "/home/krasen/morphometrics/.pixi/envs/default/lib/python3.12/site-packages/libpysal/weights/weights.py:1685: UserWarning: The weights matrix is not fully connected: \n",
      " There are 7 disconnected components.\n",
      "  w = W(neighbors, weights, ids, silence_warnings=silence_warnings)\n"
     ]
    },
    {
     "name": "stdout",
     "output_type": "stream",
     "text": [
      "Built tess graph knn=1\n",
      "Built buildings graph knn=1\n",
      "Built streets graph knn=1\n",
      "Built enclosure graph knn=1\n",
      "Built nodes graph knn=1\n"
     ]
    },
    {
     "name": "stderr",
     "output_type": "stream",
     "text": [
      "/home/krasen/morphometrics/.pixi/envs/default/lib/python3.12/site-packages/libpysal/weights/weights.py:1685: UserWarning: The weights matrix is not fully connected: \n",
      " There are 15 disconnected components.\n",
      "  w = W(neighbors, weights, ids, silence_warnings=silence_warnings)\n"
     ]
    },
    {
     "name": "stdout",
     "output_type": "stream",
     "text": [
      "Built tess graph knn=1\n",
      "Built buildings graph knn=1\n",
      "Built streets graph knn=1\n",
      "Built enclosure graph knn=1\n",
      "Built nodes graph knn=1\n"
     ]
    },
    {
     "name": "stderr",
     "output_type": "stream",
     "text": [
      "/home/krasen/morphometrics/.pixi/envs/default/lib/python3.12/site-packages/libpysal/weights/weights.py:1685: UserWarning: The weights matrix is not fully connected: \n",
      " There are 13 disconnected components.\n",
      "  w = W(neighbors, weights, ids, silence_warnings=silence_warnings)\n"
     ]
    },
    {
     "name": "stdout",
     "output_type": "stream",
     "text": [
      "Built tess graph knn=1\n",
      "Built buildings graph knn=1\n",
      "Built streets graph knn=1\n",
      "Built enclosure graph knn=1\n"
     ]
    },
    {
     "name": "stderr",
     "output_type": "stream",
     "text": [
      "/home/krasen/morphometrics/.pixi/envs/default/lib/python3.12/site-packages/libpysal/weights/weights.py:1685: UserWarning: The weights matrix is not fully connected: \n",
      " There are 11 disconnected components.\n",
      "  w = W(neighbors, weights, ids, silence_warnings=silence_warnings)\n"
     ]
    },
    {
     "name": "stdout",
     "output_type": "stream",
     "text": [
      "Built nodes graph knn=1\n",
      "Built tess graph knn=1\n",
      "Built buildings graph knn=1\n",
      "Built streets graph knn=1\n",
      "Built enclosure graph knn=1\n"
     ]
    },
    {
     "name": "stderr",
     "output_type": "stream",
     "text": [
      "/home/krasen/morphometrics/.pixi/envs/default/lib/python3.12/site-packages/libpysal/weights/weights.py:1685: UserWarning: The weights matrix is not fully connected: \n",
      " There are 43 disconnected components.\n",
      "  w = W(neighbors, weights, ids, silence_warnings=silence_warnings)\n"
     ]
    },
    {
     "name": "stdout",
     "output_type": "stream",
     "text": [
      "Built nodes graph knn=1\n",
      "Built tess graph knn=1\n",
      "Built buildings graph knn=1\n",
      "Built streets graph knn=1\n",
      "Built enclosure graph knn=1\n",
      "Built nodes graph knn=1\n"
     ]
    },
    {
     "name": "stderr",
     "output_type": "stream",
     "text": [
      "/home/krasen/morphometrics/.pixi/envs/default/lib/python3.12/site-packages/libpysal/weights/weights.py:1685: UserWarning: The weights matrix is not fully connected: \n",
      " There are 16 disconnected components.\n",
      "  w = W(neighbors, weights, ids, silence_warnings=silence_warnings)\n"
     ]
    },
    {
     "name": "stdout",
     "output_type": "stream",
     "text": [
      "Built tess graph knn=1\n",
      "Built buildings graph knn=1\n",
      "Built streets graph knn=1\n",
      "Built enclosure graph knn=1\n"
     ]
    },
    {
     "name": "stderr",
     "output_type": "stream",
     "text": [
      "/home/krasen/morphometrics/.pixi/envs/default/lib/python3.12/site-packages/libpysal/weights/weights.py:1685: UserWarning: The weights matrix is not fully connected: \n",
      " There are 19 disconnected components.\n",
      "  w = W(neighbors, weights, ids, silence_warnings=silence_warnings)\n"
     ]
    },
    {
     "name": "stdout",
     "output_type": "stream",
     "text": [
      "Built nodes graph knn=1\n",
      "Built tess graph knn=1\n",
      "Built buildings graph knn=1\n",
      "Built streets graph knn=1\n",
      "Built enclosure graph knn=1\n",
      "Built nodes graph knn=1\n"
     ]
    },
    {
     "name": "stderr",
     "output_type": "stream",
     "text": [
      "/home/krasen/morphometrics/.pixi/envs/default/lib/python3.12/site-packages/libpysal/weights/weights.py:1685: UserWarning: The weights matrix is not fully connected: \n",
      " There are 15 disconnected components.\n",
      "  w = W(neighbors, weights, ids, silence_warnings=silence_warnings)\n"
     ]
    },
    {
     "name": "stdout",
     "output_type": "stream",
     "text": [
      "Built tess graph knn=1\n",
      "Built buildings graph knn=1\n",
      "Built streets graph knn=1\n",
      "Built enclosure graph knn=1\n",
      "Built nodes graph knn=1\n"
     ]
    },
    {
     "name": "stderr",
     "output_type": "stream",
     "text": [
      "/home/krasen/morphometrics/.pixi/envs/default/lib/python3.12/site-packages/libpysal/weights/weights.py:1685: UserWarning: The weights matrix is not fully connected: \n",
      " There are 14 disconnected components.\n",
      "  w = W(neighbors, weights, ids, silence_warnings=silence_warnings)\n"
     ]
    },
    {
     "name": "stdout",
     "output_type": "stream",
     "text": [
      "Built tess graph knn=1\n",
      "Built buildings graph knn=1\n",
      "Built streets graph knn=1\n",
      "Built enclosure graph knn=1\n"
     ]
    },
    {
     "name": "stderr",
     "output_type": "stream",
     "text": [
      "/home/krasen/morphometrics/.pixi/envs/default/lib/python3.12/site-packages/libpysal/weights/weights.py:1685: UserWarning: The weights matrix is not fully connected: \n",
      " There are 103 disconnected components.\n",
      "  w = W(neighbors, weights, ids, silence_warnings=silence_warnings)\n"
     ]
    },
    {
     "name": "stdout",
     "output_type": "stream",
     "text": [
      "Built nodes graph knn=1\n",
      "Built tess graph knn=1\n",
      "Built buildings graph knn=1\n",
      "Built streets graph knn=1\n",
      "Built enclosure graph knn=1\n",
      "Built nodes graph knn=1\n"
     ]
    },
    {
     "name": "stderr",
     "output_type": "stream",
     "text": [
      "/home/krasen/morphometrics/.pixi/envs/default/lib/python3.12/site-packages/libpysal/weights/weights.py:1685: UserWarning: The weights matrix is not fully connected: \n",
      " There are 14 disconnected components.\n",
      "  w = W(neighbors, weights, ids, silence_warnings=silence_warnings)\n"
     ]
    },
    {
     "name": "stdout",
     "output_type": "stream",
     "text": [
      "Built tess graph knn=1\n",
      "Built buildings graph knn=1\n",
      "Built streets graph knn=1\n",
      "Built enclosure graph knn=1\n"
     ]
    },
    {
     "name": "stderr",
     "output_type": "stream",
     "text": [
      "/home/krasen/morphometrics/.pixi/envs/default/lib/python3.12/site-packages/libpysal/weights/weights.py:1685: UserWarning: The weights matrix is not fully connected: \n",
      " There are 7 disconnected components.\n",
      "  w = W(neighbors, weights, ids, silence_warnings=silence_warnings)\n"
     ]
    },
    {
     "name": "stdout",
     "output_type": "stream",
     "text": [
      "Built nodes graph knn=1\n",
      "Built tess graph knn=1\n",
      "Built buildings graph knn=1\n",
      "Built streets graph knn=1\n",
      "Built enclosure graph knn=1\n",
      "Built nodes graph knn=1\n"
     ]
    },
    {
     "name": "stderr",
     "output_type": "stream",
     "text": [
      "/home/krasen/morphometrics/.pixi/envs/default/lib/python3.12/site-packages/libpysal/weights/weights.py:1685: UserWarning: The weights matrix is not fully connected: \n",
      " There are 10 disconnected components.\n",
      "  w = W(neighbors, weights, ids, silence_warnings=silence_warnings)\n"
     ]
    },
    {
     "name": "stdout",
     "output_type": "stream",
     "text": [
      "Built tess graph knn=1\n",
      "Built buildings graph knn=1\n",
      "Built streets graph knn=1\n",
      "Built enclosure graph knn=1\n"
     ]
    },
    {
     "name": "stderr",
     "output_type": "stream",
     "text": [
      "/home/krasen/morphometrics/.pixi/envs/default/lib/python3.12/site-packages/libpysal/weights/weights.py:1685: UserWarning: The weights matrix is not fully connected: \n",
      " There are 13 disconnected components.\n",
      "  w = W(neighbors, weights, ids, silence_warnings=silence_warnings)\n"
     ]
    },
    {
     "name": "stdout",
     "output_type": "stream",
     "text": [
      "Built nodes graph knn=1\n",
      "Built tess graph knn=1\n",
      "Built buildings graph knn=1\n",
      "Built streets graph knn=1\n",
      "Built enclosure graph knn=1\n",
      "Built nodes graph knn=1\n"
     ]
    },
    {
     "name": "stderr",
     "output_type": "stream",
     "text": [
      "/home/krasen/morphometrics/.pixi/envs/default/lib/python3.12/site-packages/libpysal/weights/weights.py:1685: UserWarning: The weights matrix is not fully connected: \n",
      " There are 29 disconnected components.\n",
      "  w = W(neighbors, weights, ids, silence_warnings=silence_warnings)\n"
     ]
    },
    {
     "name": "stdout",
     "output_type": "stream",
     "text": [
      "Built tess graph knn=1\n",
      "Built buildings graph knn=1\n",
      "Built streets graph knn=1\n",
      "Built enclosure graph knn=1\n",
      "Built nodes graph knn=1\n"
     ]
    },
    {
     "name": "stderr",
     "output_type": "stream",
     "text": [
      "/home/krasen/morphometrics/.pixi/envs/default/lib/python3.12/site-packages/libpysal/weights/weights.py:1685: UserWarning: The weights matrix is not fully connected: \n",
      " There are 18 disconnected components.\n",
      "  w = W(neighbors, weights, ids, silence_warnings=silence_warnings)\n"
     ]
    },
    {
     "name": "stdout",
     "output_type": "stream",
     "text": [
      "Built tess graph knn=1\n",
      "Built buildings graph knn=1\n",
      "Built streets graph knn=1\n",
      "Built enclosure graph knn=1\n",
      "Built nodes graph knn=1\n"
     ]
    },
    {
     "name": "stderr",
     "output_type": "stream",
     "text": [
      "/home/krasen/morphometrics/.pixi/envs/default/lib/python3.12/site-packages/libpysal/weights/weights.py:1685: UserWarning: The weights matrix is not fully connected: \n",
      " There are 13 disconnected components.\n",
      "  w = W(neighbors, weights, ids, silence_warnings=silence_warnings)\n"
     ]
    },
    {
     "name": "stdout",
     "output_type": "stream",
     "text": [
      "Built tess graph knn=1\n",
      "Built buildings graph knn=1\n",
      "Built streets graph knn=1\n",
      "Built enclosure graph knn=1\n"
     ]
    },
    {
     "name": "stderr",
     "output_type": "stream",
     "text": [
      "/home/krasen/morphometrics/.pixi/envs/default/lib/python3.12/site-packages/libpysal/weights/weights.py:1685: UserWarning: The weights matrix is not fully connected: \n",
      " There are 70 disconnected components.\n",
      "  w = W(neighbors, weights, ids, silence_warnings=silence_warnings)\n"
     ]
    },
    {
     "name": "stdout",
     "output_type": "stream",
     "text": [
      "Built nodes graph knn=1\n",
      "Built tess graph knn=1\n",
      "Built buildings graph knn=1\n",
      "Built streets graph knn=1\n",
      "Built enclosure graph knn=1\n"
     ]
    },
    {
     "name": "stderr",
     "output_type": "stream",
     "text": [
      "/home/krasen/morphometrics/.pixi/envs/default/lib/python3.12/site-packages/libpysal/weights/weights.py:1685: UserWarning: The weights matrix is not fully connected: \n",
      " There are 17 disconnected components.\n",
      "  w = W(neighbors, weights, ids, silence_warnings=silence_warnings)\n"
     ]
    },
    {
     "name": "stdout",
     "output_type": "stream",
     "text": [
      "Built nodes graph knn=1\n",
      "Built tess graph knn=1\n",
      "Built buildings graph knn=1\n",
      "Built streets graph knn=1\n",
      "Built enclosure graph knn=1\n"
     ]
    },
    {
     "name": "stderr",
     "output_type": "stream",
     "text": [
      "/home/krasen/morphometrics/.pixi/envs/default/lib/python3.12/site-packages/libpysal/weights/weights.py:1685: UserWarning: The weights matrix is not fully connected: \n",
      " There are 6 disconnected components.\n",
      "  w = W(neighbors, weights, ids, silence_warnings=silence_warnings)\n"
     ]
    },
    {
     "name": "stdout",
     "output_type": "stream",
     "text": [
      "Built nodes graph knn=1\n",
      "Built tess graph knn=1\n",
      "Built buildings graph knn=1\n",
      "Built streets graph knn=1\n",
      "Built enclosure graph knn=1\n"
     ]
    },
    {
     "name": "stderr",
     "output_type": "stream",
     "text": [
      "/home/krasen/morphometrics/.pixi/envs/default/lib/python3.12/site-packages/libpysal/weights/weights.py:1685: UserWarning: The weights matrix is not fully connected: \n",
      " There are 15 disconnected components.\n",
      "  w = W(neighbors, weights, ids, silence_warnings=silence_warnings)\n"
     ]
    },
    {
     "name": "stdout",
     "output_type": "stream",
     "text": [
      "Built nodes graph knn=1\n",
      "Built tess graph knn=1\n",
      "Built buildings graph knn=1\n",
      "Built streets graph knn=1\n",
      "Built enclosure graph knn=1\n"
     ]
    },
    {
     "name": "stderr",
     "output_type": "stream",
     "text": [
      "/home/krasen/morphometrics/.pixi/envs/default/lib/python3.12/site-packages/libpysal/weights/weights.py:1685: UserWarning: The weights matrix is not fully connected: \n",
      " There are 26 disconnected components.\n",
      "  w = W(neighbors, weights, ids, silence_warnings=silence_warnings)\n"
     ]
    },
    {
     "name": "stdout",
     "output_type": "stream",
     "text": [
      "Built nodes graph knn=1\n",
      "Built tess graph knn=1\n",
      "Built buildings graph knn=1\n",
      "Built streets graph knn=1\n",
      "Built enclosure graph knn=1\n"
     ]
    },
    {
     "name": "stderr",
     "output_type": "stream",
     "text": [
      "/home/krasen/morphometrics/.pixi/envs/default/lib/python3.12/site-packages/libpysal/weights/weights.py:1685: UserWarning: The weights matrix is not fully connected: \n",
      " There are 20 disconnected components.\n",
      "  w = W(neighbors, weights, ids, silence_warnings=silence_warnings)\n"
     ]
    },
    {
     "name": "stdout",
     "output_type": "stream",
     "text": [
      "Built nodes graph knn=1\n",
      "Built tess graph knn=1\n",
      "Built buildings graph knn=1\n",
      "Built streets graph knn=1\n",
      "Built enclosure graph knn=1\n"
     ]
    },
    {
     "name": "stderr",
     "output_type": "stream",
     "text": [
      "/home/krasen/morphometrics/.pixi/envs/default/lib/python3.12/site-packages/libpysal/weights/weights.py:1685: UserWarning: The weights matrix is not fully connected: \n",
      " There are 126 disconnected components.\n",
      "  w = W(neighbors, weights, ids, silence_warnings=silence_warnings)\n"
     ]
    },
    {
     "name": "stdout",
     "output_type": "stream",
     "text": [
      "Built nodes graph knn=1\n",
      "Built tess graph knn=1\n",
      "Built buildings graph knn=1\n",
      "Built streets graph knn=1\n",
      "Built enclosure graph knn=1\n"
     ]
    },
    {
     "name": "stderr",
     "output_type": "stream",
     "text": [
      "/home/krasen/morphometrics/.pixi/envs/default/lib/python3.12/site-packages/libpysal/weights/weights.py:1685: UserWarning: The weights matrix is not fully connected: \n",
      " There are 33 disconnected components.\n",
      "  w = W(neighbors, weights, ids, silence_warnings=silence_warnings)\n"
     ]
    },
    {
     "name": "stdout",
     "output_type": "stream",
     "text": [
      "Built nodes graph knn=1\n",
      "Built tess graph knn=1\n",
      "Built buildings graph knn=1\n",
      "Built streets graph knn=1\n",
      "Built enclosure graph knn=1\n",
      "Built nodes graph knn=1\n"
     ]
    },
    {
     "name": "stderr",
     "output_type": "stream",
     "text": [
      "/home/krasen/morphometrics/.pixi/envs/default/lib/python3.12/site-packages/libpysal/weights/weights.py:1685: UserWarning: The weights matrix is not fully connected: \n",
      " There are 38 disconnected components.\n",
      "  w = W(neighbors, weights, ids, silence_warnings=silence_warnings)\n"
     ]
    },
    {
     "name": "stdout",
     "output_type": "stream",
     "text": [
      "Built tess graph knn=1\n",
      "Built buildings graph knn=1\n",
      "Built streets graph knn=1\n",
      "Built enclosure graph knn=1\n",
      "Built nodes graph knn=1\n"
     ]
    },
    {
     "name": "stderr",
     "output_type": "stream",
     "text": [
      "/home/krasen/morphometrics/.pixi/envs/default/lib/python3.12/site-packages/libpysal/weights/weights.py:1685: UserWarning: The weights matrix is not fully connected: \n",
      " There are 9 disconnected components.\n",
      "  w = W(neighbors, weights, ids, silence_warnings=silence_warnings)\n"
     ]
    },
    {
     "name": "stdout",
     "output_type": "stream",
     "text": [
      "Built tess graph knn=1\n",
      "Built buildings graph knn=1\n",
      "Built streets graph knn=1\n",
      "Built enclosure graph knn=1\n",
      "Built nodes graph knn=1\n"
     ]
    },
    {
     "name": "stderr",
     "output_type": "stream",
     "text": [
      "/home/krasen/morphometrics/.pixi/envs/default/lib/python3.12/site-packages/libpysal/weights/weights.py:1685: UserWarning: The weights matrix is not fully connected: \n",
      " There are 9 disconnected components.\n",
      "  w = W(neighbors, weights, ids, silence_warnings=silence_warnings)\n"
     ]
    },
    {
     "name": "stdout",
     "output_type": "stream",
     "text": [
      "Built tess graph knn=1\n",
      "Built buildings graph knn=1\n",
      "Built streets graph knn=1\n",
      "Built enclosure graph knn=1\n",
      "Built nodes graph knn=1\n"
     ]
    },
    {
     "name": "stderr",
     "output_type": "stream",
     "text": [
      "/home/krasen/morphometrics/.pixi/envs/default/lib/python3.12/site-packages/libpysal/weights/weights.py:1685: UserWarning: The weights matrix is not fully connected: \n",
      " There are 13 disconnected components.\n",
      "  w = W(neighbors, weights, ids, silence_warnings=silence_warnings)\n"
     ]
    },
    {
     "name": "stdout",
     "output_type": "stream",
     "text": [
      "Built tess graph knn=1\n",
      "Built buildings graph knn=1\n",
      "Built streets graph knn=1\n",
      "Built enclosure graph knn=1\n",
      "Built nodes graph knn=1\n"
     ]
    },
    {
     "name": "stderr",
     "output_type": "stream",
     "text": [
      "/home/krasen/morphometrics/.pixi/envs/default/lib/python3.12/site-packages/libpysal/weights/weights.py:1685: UserWarning: The weights matrix is not fully connected: \n",
      " There are 16 disconnected components.\n",
      "  w = W(neighbors, weights, ids, silence_warnings=silence_warnings)\n"
     ]
    },
    {
     "name": "stdout",
     "output_type": "stream",
     "text": [
      "Built tess graph knn=1\n",
      "Built buildings graph knn=1\n",
      "Built streets graph knn=1\n",
      "Built enclosure graph knn=1\n"
     ]
    },
    {
     "name": "stderr",
     "output_type": "stream",
     "text": [
      "/home/krasen/morphometrics/.pixi/envs/default/lib/python3.12/site-packages/libpysal/weights/weights.py:1685: UserWarning: The weights matrix is not fully connected: \n",
      " There are 8 disconnected components.\n",
      "  w = W(neighbors, weights, ids, silence_warnings=silence_warnings)\n"
     ]
    },
    {
     "name": "stdout",
     "output_type": "stream",
     "text": [
      "Built nodes graph knn=1\n",
      "Built tess graph knn=1\n",
      "Built buildings graph knn=1\n",
      "Built streets graph knn=1\n",
      "Built enclosure graph knn=1\n",
      "Built nodes graph knn=1\n"
     ]
    },
    {
     "name": "stderr",
     "output_type": "stream",
     "text": [
      "/home/krasen/morphometrics/.pixi/envs/default/lib/python3.12/site-packages/libpysal/weights/weights.py:1685: UserWarning: The weights matrix is not fully connected: \n",
      " There are 19 disconnected components.\n",
      "  w = W(neighbors, weights, ids, silence_warnings=silence_warnings)\n"
     ]
    },
    {
     "name": "stdout",
     "output_type": "stream",
     "text": [
      "Built tess graph knn=1\n",
      "Built buildings graph knn=1\n",
      "Built streets graph knn=1\n",
      "Built enclosure graph knn=1\n",
      "Built nodes graph knn=1\n"
     ]
    },
    {
     "name": "stderr",
     "output_type": "stream",
     "text": [
      "/home/krasen/morphometrics/.pixi/envs/default/lib/python3.12/site-packages/libpysal/weights/weights.py:1685: UserWarning: The weights matrix is not fully connected: \n",
      " There are 12 disconnected components.\n",
      "  w = W(neighbors, weights, ids, silence_warnings=silence_warnings)\n"
     ]
    },
    {
     "name": "stdout",
     "output_type": "stream",
     "text": [
      "Built tess graph knn=1\n",
      "Built buildings graph knn=1\n",
      "Built streets graph knn=1\n",
      "Built enclosure graph knn=1\n",
      "Built nodes graph knn=1\n"
     ]
    },
    {
     "name": "stderr",
     "output_type": "stream",
     "text": [
      "/home/krasen/morphometrics/.pixi/envs/default/lib/python3.12/site-packages/libpysal/weights/weights.py:1685: UserWarning: The weights matrix is not fully connected: \n",
      " There are 10 disconnected components.\n",
      "  w = W(neighbors, weights, ids, silence_warnings=silence_warnings)\n"
     ]
    },
    {
     "name": "stdout",
     "output_type": "stream",
     "text": [
      "Built tess graph knn=1\n",
      "Built buildings graph knn=1\n",
      "Built streets graph knn=1\n",
      "Built enclosure graph knn=1\n"
     ]
    },
    {
     "name": "stderr",
     "output_type": "stream",
     "text": [
      "/home/krasen/morphometrics/.pixi/envs/default/lib/python3.12/site-packages/libpysal/weights/weights.py:1685: UserWarning: The weights matrix is not fully connected: \n",
      " There are 9 disconnected components.\n",
      "  w = W(neighbors, weights, ids, silence_warnings=silence_warnings)\n"
     ]
    },
    {
     "name": "stdout",
     "output_type": "stream",
     "text": [
      "Built nodes graph knn=1\n",
      "Built tess graph knn=1\n",
      "Built buildings graph knn=1\n",
      "Built streets graph knn=1\n",
      "Built enclosure graph knn=1\n",
      "Built nodes graph knn=1\n"
     ]
    },
    {
     "name": "stderr",
     "output_type": "stream",
     "text": [
      "/home/krasen/morphometrics/.pixi/envs/default/lib/python3.12/site-packages/libpysal/weights/weights.py:1685: UserWarning: The weights matrix is not fully connected: \n",
      " There are 11 disconnected components.\n",
      "  w = W(neighbors, weights, ids, silence_warnings=silence_warnings)\n"
     ]
    },
    {
     "name": "stdout",
     "output_type": "stream",
     "text": [
      "Built tess graph knn=1\n",
      "Built buildings graph knn=1\n",
      "Built streets graph knn=1\n",
      "Built enclosure graph knn=1\n"
     ]
    },
    {
     "name": "stderr",
     "output_type": "stream",
     "text": [
      "/home/krasen/morphometrics/.pixi/envs/default/lib/python3.12/site-packages/libpysal/weights/weights.py:1685: UserWarning: The weights matrix is not fully connected: \n",
      " There are 5 disconnected components.\n",
      "  w = W(neighbors, weights, ids, silence_warnings=silence_warnings)\n"
     ]
    },
    {
     "name": "stdout",
     "output_type": "stream",
     "text": [
      "Built nodes graph knn=1\n",
      "Built tess graph knn=1\n",
      "Built buildings graph knn=1\n",
      "Built streets graph knn=1\n",
      "Built enclosure graph knn=1\n",
      "Built nodes graph knn=1\n"
     ]
    },
    {
     "name": "stderr",
     "output_type": "stream",
     "text": [
      "/home/krasen/morphometrics/.pixi/envs/default/lib/python3.12/site-packages/libpysal/weights/weights.py:1685: UserWarning: The weights matrix is not fully connected: \n",
      " There are 12 disconnected components.\n",
      "  w = W(neighbors, weights, ids, silence_warnings=silence_warnings)\n"
     ]
    },
    {
     "name": "stdout",
     "output_type": "stream",
     "text": [
      "Built tess graph knn=1\n",
      "Built buildings graph knn=1\n",
      "Built streets graph knn=1\n",
      "Built enclosure graph knn=1\n",
      "Built nodes graph knn=1\n"
     ]
    },
    {
     "name": "stderr",
     "output_type": "stream",
     "text": [
      "/home/krasen/morphometrics/.pixi/envs/default/lib/python3.12/site-packages/libpysal/weights/weights.py:1685: UserWarning: The weights matrix is not fully connected: \n",
      " There are 14 disconnected components.\n",
      "  w = W(neighbors, weights, ids, silence_warnings=silence_warnings)\n"
     ]
    },
    {
     "name": "stdout",
     "output_type": "stream",
     "text": [
      "Built tess graph knn=1\n",
      "Built buildings graph knn=1\n",
      "Built streets graph knn=1\n",
      "Built enclosure graph knn=1\n",
      "Built nodes graph knn=1\n"
     ]
    },
    {
     "name": "stderr",
     "output_type": "stream",
     "text": [
      "/home/krasen/morphometrics/.pixi/envs/default/lib/python3.12/site-packages/libpysal/weights/weights.py:1685: UserWarning: The weights matrix is not fully connected: \n",
      " There are 28 disconnected components.\n",
      "  w = W(neighbors, weights, ids, silence_warnings=silence_warnings)\n"
     ]
    },
    {
     "name": "stdout",
     "output_type": "stream",
     "text": [
      "Built tess graph knn=1\n",
      "Built buildings graph knn=1\n",
      "Built streets graph knn=1\n",
      "Built enclosure graph knn=1\n",
      "Built nodes graph knn=1\n"
     ]
    },
    {
     "name": "stderr",
     "output_type": "stream",
     "text": [
      "/home/krasen/morphometrics/.pixi/envs/default/lib/python3.12/site-packages/libpysal/weights/weights.py:1685: UserWarning: The weights matrix is not fully connected: \n",
      " There are 12 disconnected components.\n",
      "  w = W(neighbors, weights, ids, silence_warnings=silence_warnings)\n"
     ]
    },
    {
     "name": "stdout",
     "output_type": "stream",
     "text": [
      "Built tess graph knn=1\n",
      "Built buildings graph knn=1\n",
      "Built streets graph knn=1\n",
      "Built enclosure graph knn=1\n",
      "Built nodes graph knn=1\n"
     ]
    },
    {
     "name": "stderr",
     "output_type": "stream",
     "text": [
      "/home/krasen/morphometrics/.pixi/envs/default/lib/python3.12/site-packages/libpysal/weights/weights.py:1685: UserWarning: The weights matrix is not fully connected: \n",
      " There are 19 disconnected components.\n",
      "  w = W(neighbors, weights, ids, silence_warnings=silence_warnings)\n"
     ]
    },
    {
     "name": "stdout",
     "output_type": "stream",
     "text": [
      "Built tess graph knn=1\n",
      "Built buildings graph knn=1\n",
      "Built streets graph knn=1\n",
      "Built enclosure graph knn=1\n"
     ]
    },
    {
     "name": "stderr",
     "output_type": "stream",
     "text": [
      "/home/krasen/morphometrics/.pixi/envs/default/lib/python3.12/site-packages/libpysal/weights/weights.py:1685: UserWarning: The weights matrix is not fully connected: \n",
      " There are 1182 disconnected components.\n",
      "  w = W(neighbors, weights, ids, silence_warnings=silence_warnings)\n"
     ]
    },
    {
     "name": "stdout",
     "output_type": "stream",
     "text": [
      "Built nodes graph knn=1\n",
      "Built tess graph knn=1\n",
      "Built buildings graph knn=1\n",
      "Built streets graph knn=1\n",
      "Built enclosure graph knn=1\n",
      "Built nodes graph knn=1\n"
     ]
    },
    {
     "name": "stderr",
     "output_type": "stream",
     "text": [
      "/home/krasen/morphometrics/.pixi/envs/default/lib/python3.12/site-packages/libpysal/weights/weights.py:1685: UserWarning: The weights matrix is not fully connected: \n",
      " There are 11 disconnected components.\n",
      "  w = W(neighbors, weights, ids, silence_warnings=silence_warnings)\n"
     ]
    },
    {
     "name": "stdout",
     "output_type": "stream",
     "text": [
      "Built tess graph knn=1\n",
      "Built buildings graph knn=1\n",
      "Built streets graph knn=1\n",
      "Built enclosure graph knn=1\n",
      "Built nodes graph knn=1\n"
     ]
    },
    {
     "name": "stderr",
     "output_type": "stream",
     "text": [
      "/home/krasen/morphometrics/.pixi/envs/default/lib/python3.12/site-packages/libpysal/weights/weights.py:1685: UserWarning: The weights matrix is not fully connected: \n",
      " There are 11 disconnected components.\n",
      "  w = W(neighbors, weights, ids, silence_warnings=silence_warnings)\n"
     ]
    },
    {
     "name": "stdout",
     "output_type": "stream",
     "text": [
      "Built tess graph knn=1\n",
      "Built buildings graph knn=1\n",
      "Built streets graph knn=1\n",
      "Built enclosure graph knn=1\n",
      "Built nodes graph knn=1\n"
     ]
    },
    {
     "name": "stderr",
     "output_type": "stream",
     "text": [
      "/home/krasen/morphometrics/.pixi/envs/default/lib/python3.12/site-packages/libpysal/weights/weights.py:1685: UserWarning: The weights matrix is not fully connected: \n",
      " There are 56 disconnected components.\n",
      "  w = W(neighbors, weights, ids, silence_warnings=silence_warnings)\n"
     ]
    },
    {
     "name": "stdout",
     "output_type": "stream",
     "text": [
      "Built tess graph knn=1\n",
      "Built buildings graph knn=1\n",
      "Built streets graph knn=1\n",
      "Built enclosure graph knn=1\n"
     ]
    },
    {
     "name": "stderr",
     "output_type": "stream",
     "text": [
      "/home/krasen/morphometrics/.pixi/envs/default/lib/python3.12/site-packages/libpysal/weights/weights.py:1685: UserWarning: The weights matrix is not fully connected: \n",
      " There are 10 disconnected components.\n",
      "  w = W(neighbors, weights, ids, silence_warnings=silence_warnings)\n"
     ]
    },
    {
     "name": "stdout",
     "output_type": "stream",
     "text": [
      "Built nodes graph knn=1\n",
      "Built tess graph knn=1\n",
      "Built buildings graph knn=1\n",
      "Built streets graph knn=1\n",
      "Built enclosure graph knn=1\n",
      "Built nodes graph knn=1\n"
     ]
    },
    {
     "name": "stderr",
     "output_type": "stream",
     "text": [
      "/home/krasen/morphometrics/.pixi/envs/default/lib/python3.12/site-packages/libpysal/weights/weights.py:1685: UserWarning: The weights matrix is not fully connected: \n",
      " There are 17 disconnected components.\n",
      "  w = W(neighbors, weights, ids, silence_warnings=silence_warnings)\n"
     ]
    },
    {
     "name": "stdout",
     "output_type": "stream",
     "text": [
      "Built tess graph knn=1\n",
      "Built buildings graph knn=1\n",
      "Built streets graph knn=1\n",
      "Built enclosure graph knn=1\n"
     ]
    },
    {
     "name": "stderr",
     "output_type": "stream",
     "text": [
      "/home/krasen/morphometrics/.pixi/envs/default/lib/python3.12/site-packages/libpysal/weights/weights.py:1685: UserWarning: The weights matrix is not fully connected: \n",
      " There are 24 disconnected components.\n",
      "  w = W(neighbors, weights, ids, silence_warnings=silence_warnings)\n"
     ]
    },
    {
     "name": "stdout",
     "output_type": "stream",
     "text": [
      "Built nodes graph knn=1\n",
      "Built tess graph knn=1\n",
      "Built buildings graph knn=1\n",
      "Built streets graph knn=1\n",
      "Built enclosure graph knn=1\n"
     ]
    },
    {
     "name": "stderr",
     "output_type": "stream",
     "text": [
      "/home/krasen/morphometrics/.pixi/envs/default/lib/python3.12/site-packages/libpysal/weights/weights.py:1685: UserWarning: The weights matrix is not fully connected: \n",
      " There are 13 disconnected components.\n",
      "  w = W(neighbors, weights, ids, silence_warnings=silence_warnings)\n"
     ]
    },
    {
     "name": "stdout",
     "output_type": "stream",
     "text": [
      "Built nodes graph knn=1\n",
      "Built tess graph knn=1\n",
      "Built buildings graph knn=1\n",
      "Built streets graph knn=1\n",
      "Built enclosure graph knn=1\n"
     ]
    },
    {
     "name": "stderr",
     "output_type": "stream",
     "text": [
      "/home/krasen/morphometrics/.pixi/envs/default/lib/python3.12/site-packages/libpysal/weights/weights.py:1685: UserWarning: The weights matrix is not fully connected: \n",
      " There are 5 disconnected components.\n",
      "  w = W(neighbors, weights, ids, silence_warnings=silence_warnings)\n"
     ]
    },
    {
     "name": "stdout",
     "output_type": "stream",
     "text": [
      "Built nodes graph knn=1\n",
      "Built tess graph knn=1\n",
      "Built buildings graph knn=1\n",
      "Built streets graph knn=1\n",
      "Built enclosure graph knn=1\n",
      "Built nodes graph knn=1\n"
     ]
    },
    {
     "name": "stderr",
     "output_type": "stream",
     "text": [
      "/home/krasen/morphometrics/.pixi/envs/default/lib/python3.12/site-packages/libpysal/weights/weights.py:1685: UserWarning: The weights matrix is not fully connected: \n",
      " There are 9 disconnected components.\n",
      "  w = W(neighbors, weights, ids, silence_warnings=silence_warnings)\n"
     ]
    },
    {
     "name": "stdout",
     "output_type": "stream",
     "text": [
      "Built tess graph knn=1\n",
      "Built buildings graph knn=1\n",
      "Built streets graph knn=1\n",
      "Built enclosure graph knn=1\n",
      "Built nodes graph knn=1\n"
     ]
    },
    {
     "name": "stderr",
     "output_type": "stream",
     "text": [
      "/home/krasen/morphometrics/.pixi/envs/default/lib/python3.12/site-packages/libpysal/weights/weights.py:1685: UserWarning: The weights matrix is not fully connected: \n",
      " There are 6 disconnected components.\n",
      "  w = W(neighbors, weights, ids, silence_warnings=silence_warnings)\n"
     ]
    },
    {
     "name": "stdout",
     "output_type": "stream",
     "text": [
      "Built tess graph knn=1\n",
      "Built buildings graph knn=1\n",
      "Built streets graph knn=1\n",
      "Built enclosure graph knn=1\n"
     ]
    },
    {
     "name": "stderr",
     "output_type": "stream",
     "text": [
      "/home/krasen/morphometrics/.pixi/envs/default/lib/python3.12/site-packages/libpysal/weights/weights.py:1685: UserWarning: The weights matrix is not fully connected: \n",
      " There are 20 disconnected components.\n",
      "  w = W(neighbors, weights, ids, silence_warnings=silence_warnings)\n"
     ]
    },
    {
     "name": "stdout",
     "output_type": "stream",
     "text": [
      "Built nodes graph knn=1\n",
      "Built tess graph knn=1\n",
      "Built buildings graph knn=1\n",
      "Built streets graph knn=1\n",
      "Built enclosure graph knn=1\n"
     ]
    },
    {
     "name": "stderr",
     "output_type": "stream",
     "text": [
      "/home/krasen/morphometrics/.pixi/envs/default/lib/python3.12/site-packages/libpysal/weights/weights.py:1685: UserWarning: The weights matrix is not fully connected: \n",
      " There are 100 disconnected components.\n",
      "  w = W(neighbors, weights, ids, silence_warnings=silence_warnings)\n"
     ]
    },
    {
     "name": "stdout",
     "output_type": "stream",
     "text": [
      "Built nodes graph knn=1\n",
      "Built tess graph knn=1\n",
      "Built buildings graph knn=1\n",
      "Built streets graph knn=1\n",
      "Built enclosure graph knn=1\n",
      "Built nodes graph knn=1\n"
     ]
    },
    {
     "name": "stderr",
     "output_type": "stream",
     "text": [
      "/home/krasen/morphometrics/.pixi/envs/default/lib/python3.12/site-packages/libpysal/weights/weights.py:1685: UserWarning: The weights matrix is not fully connected: \n",
      " There are 23 disconnected components.\n",
      "  w = W(neighbors, weights, ids, silence_warnings=silence_warnings)\n"
     ]
    },
    {
     "name": "stdout",
     "output_type": "stream",
     "text": [
      "Built tess graph knn=1\n",
      "Built buildings graph knn=1\n",
      "Built streets graph knn=1\n",
      "Built enclosure graph knn=1\n",
      "Built nodes graph knn=1\n"
     ]
    },
    {
     "name": "stderr",
     "output_type": "stream",
     "text": [
      "/home/krasen/morphometrics/.pixi/envs/default/lib/python3.12/site-packages/libpysal/weights/weights.py:1685: UserWarning: The weights matrix is not fully connected: \n",
      " There are 15 disconnected components.\n",
      "  w = W(neighbors, weights, ids, silence_warnings=silence_warnings)\n"
     ]
    },
    {
     "name": "stdout",
     "output_type": "stream",
     "text": [
      "Built tess graph knn=1\n",
      "Built buildings graph knn=1\n",
      "Built streets graph knn=1\n",
      "Built enclosure graph knn=1\n"
     ]
    },
    {
     "name": "stderr",
     "output_type": "stream",
     "text": [
      "/home/krasen/morphometrics/.pixi/envs/default/lib/python3.12/site-packages/libpysal/weights/weights.py:1685: UserWarning: The weights matrix is not fully connected: \n",
      " There are 215 disconnected components.\n",
      "  w = W(neighbors, weights, ids, silence_warnings=silence_warnings)\n"
     ]
    },
    {
     "name": "stdout",
     "output_type": "stream",
     "text": [
      "Built nodes graph knn=1\n",
      "Built tess graph knn=1\n",
      "Built buildings graph knn=1\n",
      "Built streets graph knn=1\n",
      "Built enclosure graph knn=1\n"
     ]
    },
    {
     "name": "stderr",
     "output_type": "stream",
     "text": [
      "/home/krasen/morphometrics/.pixi/envs/default/lib/python3.12/site-packages/libpysal/weights/weights.py:1685: UserWarning: The weights matrix is not fully connected: \n",
      " There are 38 disconnected components.\n",
      "  w = W(neighbors, weights, ids, silence_warnings=silence_warnings)\n"
     ]
    },
    {
     "name": "stdout",
     "output_type": "stream",
     "text": [
      "Built nodes graph knn=1\n",
      "Built tess graph knn=1\n",
      "Built buildings graph knn=1\n",
      "Built streets graph knn=1\n",
      "Built enclosure graph knn=1\n",
      "Built nodes graph knn=1\n"
     ]
    },
    {
     "name": "stderr",
     "output_type": "stream",
     "text": [
      "/home/krasen/morphometrics/.pixi/envs/default/lib/python3.12/site-packages/libpysal/weights/weights.py:1685: UserWarning: The weights matrix is not fully connected: \n",
      " There are 3 disconnected components.\n",
      "  w = W(neighbors, weights, ids, silence_warnings=silence_warnings)\n"
     ]
    },
    {
     "name": "stdout",
     "output_type": "stream",
     "text": [
      "Built tess graph knn=1\n",
      "Built buildings graph knn=1\n",
      "Built streets graph knn=1\n",
      "Built enclosure graph knn=1\n"
     ]
    },
    {
     "name": "stderr",
     "output_type": "stream",
     "text": [
      "/home/krasen/morphometrics/.pixi/envs/default/lib/python3.12/site-packages/libpysal/weights/weights.py:1685: UserWarning: The weights matrix is not fully connected: \n",
      " There are 58 disconnected components.\n",
      "  w = W(neighbors, weights, ids, silence_warnings=silence_warnings)\n"
     ]
    },
    {
     "name": "stdout",
     "output_type": "stream",
     "text": [
      "Built nodes graph knn=1\n",
      "Built tess graph knn=1\n",
      "Built buildings graph knn=1\n",
      "Built streets graph knn=1\n",
      "Built enclosure graph knn=1\n"
     ]
    },
    {
     "name": "stderr",
     "output_type": "stream",
     "text": [
      "/home/krasen/morphometrics/.pixi/envs/default/lib/python3.12/site-packages/libpysal/weights/weights.py:1685: UserWarning: The weights matrix is not fully connected: \n",
      " There are 22 disconnected components.\n",
      "  w = W(neighbors, weights, ids, silence_warnings=silence_warnings)\n"
     ]
    },
    {
     "name": "stdout",
     "output_type": "stream",
     "text": [
      "Built nodes graph knn=1\n",
      "Built tess graph knn=1\n",
      "Built buildings graph knn=1\n",
      "Built streets graph knn=1\n",
      "Built enclosure graph knn=1\n",
      "Built nodes graph knn=1\n"
     ]
    },
    {
     "name": "stderr",
     "output_type": "stream",
     "text": [
      "/home/krasen/morphometrics/.pixi/envs/default/lib/python3.12/site-packages/libpysal/weights/weights.py:1685: UserWarning: The weights matrix is not fully connected: \n",
      " There are 8 disconnected components.\n",
      "  w = W(neighbors, weights, ids, silence_warnings=silence_warnings)\n"
     ]
    },
    {
     "name": "stdout",
     "output_type": "stream",
     "text": [
      "Built tess graph knn=1\n",
      "Built buildings graph knn=1\n",
      "Built streets graph knn=1\n",
      "Built enclosure graph knn=1\n"
     ]
    },
    {
     "name": "stderr",
     "output_type": "stream",
     "text": [
      "/home/krasen/morphometrics/.pixi/envs/default/lib/python3.12/site-packages/libpysal/weights/weights.py:1685: UserWarning: The weights matrix is not fully connected: \n",
      " There are 39 disconnected components.\n",
      "  w = W(neighbors, weights, ids, silence_warnings=silence_warnings)\n"
     ]
    },
    {
     "name": "stdout",
     "output_type": "stream",
     "text": [
      "Built nodes graph knn=1\n",
      "Built tess graph knn=1\n",
      "Built buildings graph knn=1\n",
      "Built streets graph knn=1\n",
      "Built enclosure graph knn=1\n",
      "Built nodes graph knn=1\n"
     ]
    },
    {
     "name": "stderr",
     "output_type": "stream",
     "text": [
      "/home/krasen/morphometrics/.pixi/envs/default/lib/python3.12/site-packages/libpysal/weights/weights.py:1685: UserWarning: The weights matrix is not fully connected: \n",
      " There are 8 disconnected components.\n",
      "  w = W(neighbors, weights, ids, silence_warnings=silence_warnings)\n"
     ]
    },
    {
     "name": "stdout",
     "output_type": "stream",
     "text": [
      "Built tess graph knn=1\n",
      "Built buildings graph knn=1\n",
      "Built streets graph knn=1\n",
      "Built enclosure graph knn=1\n"
     ]
    },
    {
     "name": "stderr",
     "output_type": "stream",
     "text": [
      "/home/krasen/morphometrics/.pixi/envs/default/lib/python3.12/site-packages/libpysal/weights/weights.py:1685: UserWarning: The weights matrix is not fully connected: \n",
      " There are 18 disconnected components.\n",
      "  w = W(neighbors, weights, ids, silence_warnings=silence_warnings)\n"
     ]
    },
    {
     "name": "stdout",
     "output_type": "stream",
     "text": [
      "Built nodes graph knn=1\n",
      "Built tess graph knn=1\n",
      "Built buildings graph knn=1\n",
      "Built streets graph knn=1\n",
      "Built enclosure graph knn=1\n"
     ]
    },
    {
     "name": "stderr",
     "output_type": "stream",
     "text": [
      "/home/krasen/morphometrics/.pixi/envs/default/lib/python3.12/site-packages/libpysal/weights/weights.py:1685: UserWarning: The weights matrix is not fully connected: \n",
      " There are 5 disconnected components.\n",
      "  w = W(neighbors, weights, ids, silence_warnings=silence_warnings)\n"
     ]
    },
    {
     "name": "stdout",
     "output_type": "stream",
     "text": [
      "Built nodes graph knn=1\n",
      "Built tess graph knn=1\n",
      "Built buildings graph knn=1\n",
      "Built streets graph knn=1\n",
      "Built enclosure graph knn=1\n",
      "Built nodes graph knn=1\n"
     ]
    },
    {
     "name": "stderr",
     "output_type": "stream",
     "text": [
      "/home/krasen/morphometrics/.pixi/envs/default/lib/python3.12/site-packages/libpysal/weights/weights.py:1685: UserWarning: The weights matrix is not fully connected: \n",
      " There are 10 disconnected components.\n",
      "  w = W(neighbors, weights, ids, silence_warnings=silence_warnings)\n"
     ]
    },
    {
     "name": "stdout",
     "output_type": "stream",
     "text": [
      "Built tess graph knn=1\n",
      "Built buildings graph knn=1\n",
      "Built streets graph knn=1\n",
      "Built enclosure graph knn=1\n"
     ]
    },
    {
     "name": "stderr",
     "output_type": "stream",
     "text": [
      "/home/krasen/morphometrics/.pixi/envs/default/lib/python3.12/site-packages/libpysal/weights/weights.py:1685: UserWarning: The weights matrix is not fully connected: \n",
      " There are 485 disconnected components.\n",
      "  w = W(neighbors, weights, ids, silence_warnings=silence_warnings)\n"
     ]
    },
    {
     "name": "stdout",
     "output_type": "stream",
     "text": [
      "Built nodes graph knn=1\n",
      "Built tess graph knn=1\n",
      "Built buildings graph knn=1\n",
      "Built streets graph knn=1\n",
      "Built enclosure graph knn=1\n",
      "Built nodes graph knn=1\n"
     ]
    },
    {
     "name": "stderr",
     "output_type": "stream",
     "text": [
      "/home/krasen/morphometrics/.pixi/envs/default/lib/python3.12/site-packages/libpysal/weights/weights.py:1685: UserWarning: The weights matrix is not fully connected: \n",
      " There are 22 disconnected components.\n",
      "  w = W(neighbors, weights, ids, silence_warnings=silence_warnings)\n"
     ]
    },
    {
     "name": "stdout",
     "output_type": "stream",
     "text": [
      "Built tess graph knn=1\n",
      "Built buildings graph knn=1\n",
      "Built streets graph knn=1\n",
      "Built enclosure graph knn=1\n",
      "Built nodes graph knn=1\n"
     ]
    },
    {
     "name": "stderr",
     "output_type": "stream",
     "text": [
      "/home/krasen/morphometrics/.pixi/envs/default/lib/python3.12/site-packages/libpysal/weights/weights.py:1685: UserWarning: The weights matrix is not fully connected: \n",
      " There are 15 disconnected components.\n",
      "  w = W(neighbors, weights, ids, silence_warnings=silence_warnings)\n"
     ]
    },
    {
     "name": "stdout",
     "output_type": "stream",
     "text": [
      "Built tess graph knn=1\n",
      "Built buildings graph knn=1\n",
      "Built streets graph knn=1\n",
      "Built enclosure graph knn=1\n",
      "Built nodes graph knn=1\n"
     ]
    },
    {
     "name": "stderr",
     "output_type": "stream",
     "text": [
      "/home/krasen/morphometrics/.pixi/envs/default/lib/python3.12/site-packages/libpysal/weights/weights.py:1685: UserWarning: The weights matrix is not fully connected: \n",
      " There are 36 disconnected components.\n",
      "  w = W(neighbors, weights, ids, silence_warnings=silence_warnings)\n"
     ]
    },
    {
     "name": "stdout",
     "output_type": "stream",
     "text": [
      "Built tess graph knn=1\n",
      "Built buildings graph knn=1\n",
      "Built streets graph knn=1\n",
      "Built enclosure graph knn=1\n",
      "Built nodes graph knn=1\n"
     ]
    },
    {
     "name": "stderr",
     "output_type": "stream",
     "text": [
      "/home/krasen/morphometrics/.pixi/envs/default/lib/python3.12/site-packages/libpysal/weights/weights.py:1685: UserWarning: The weights matrix is not fully connected: \n",
      " There are 27 disconnected components.\n",
      "  w = W(neighbors, weights, ids, silence_warnings=silence_warnings)\n"
     ]
    },
    {
     "name": "stdout",
     "output_type": "stream",
     "text": [
      "Built tess graph knn=1\n",
      "Built buildings graph knn=1\n",
      "Built streets graph knn=1\n",
      "Built enclosure graph knn=1\n"
     ]
    },
    {
     "name": "stderr",
     "output_type": "stream",
     "text": [
      "/home/krasen/morphometrics/.pixi/envs/default/lib/python3.12/site-packages/libpysal/weights/weights.py:1685: UserWarning: The weights matrix is not fully connected: \n",
      " There are 50 disconnected components.\n",
      "  w = W(neighbors, weights, ids, silence_warnings=silence_warnings)\n"
     ]
    },
    {
     "name": "stdout",
     "output_type": "stream",
     "text": [
      "Built nodes graph knn=1\n",
      "Built tess graph knn=1\n",
      "Built buildings graph knn=1\n",
      "Built streets graph knn=1\n",
      "Built enclosure graph knn=1\n",
      "Built nodes graph knn=1\n"
     ]
    },
    {
     "name": "stderr",
     "output_type": "stream",
     "text": [
      "/home/krasen/morphometrics/.pixi/envs/default/lib/python3.12/site-packages/libpysal/weights/weights.py:1685: UserWarning: The weights matrix is not fully connected: \n",
      " There are 6 disconnected components.\n",
      "  w = W(neighbors, weights, ids, silence_warnings=silence_warnings)\n"
     ]
    },
    {
     "name": "stdout",
     "output_type": "stream",
     "text": [
      "Built tess graph knn=1\n",
      "Built buildings graph knn=1\n",
      "Built streets graph knn=1\n",
      "Built enclosure graph knn=1\n",
      "Built nodes graph knn=1\n"
     ]
    },
    {
     "name": "stderr",
     "output_type": "stream",
     "text": [
      "/home/krasen/morphometrics/.pixi/envs/default/lib/python3.12/site-packages/libpysal/weights/weights.py:1685: UserWarning: The weights matrix is not fully connected: \n",
      " There are 18 disconnected components.\n",
      "  w = W(neighbors, weights, ids, silence_warnings=silence_warnings)\n"
     ]
    },
    {
     "name": "stdout",
     "output_type": "stream",
     "text": [
      "Built tess graph knn=1\n",
      "Built buildings graph knn=1\n",
      "Built streets graph knn=1\n",
      "Built enclosure graph knn=1\n",
      "Built nodes graph knn=1\n"
     ]
    },
    {
     "name": "stderr",
     "output_type": "stream",
     "text": [
      "/home/krasen/morphometrics/.pixi/envs/default/lib/python3.12/site-packages/libpysal/weights/weights.py:1685: UserWarning: The weights matrix is not fully connected: \n",
      " There are 24 disconnected components.\n",
      "  w = W(neighbors, weights, ids, silence_warnings=silence_warnings)\n"
     ]
    },
    {
     "name": "stdout",
     "output_type": "stream",
     "text": [
      "Built tess graph knn=1\n",
      "Built buildings graph knn=1\n",
      "Built streets graph knn=1\n",
      "Built enclosure graph knn=1\n",
      "Built nodes graph knn=1\n"
     ]
    },
    {
     "name": "stderr",
     "output_type": "stream",
     "text": [
      "/home/krasen/morphometrics/.pixi/envs/default/lib/python3.12/site-packages/libpysal/weights/weights.py:1685: UserWarning: The weights matrix is not fully connected: \n",
      " There are 10 disconnected components.\n",
      "  w = W(neighbors, weights, ids, silence_warnings=silence_warnings)\n"
     ]
    },
    {
     "name": "stdout",
     "output_type": "stream",
     "text": [
      "Built tess graph knn=1\n",
      "Built buildings graph knn=1\n",
      "Built streets graph knn=1\n",
      "Built enclosure graph knn=1\n",
      "Built nodes graph knn=1\n"
     ]
    },
    {
     "name": "stderr",
     "output_type": "stream",
     "text": [
      "/home/krasen/morphometrics/.pixi/envs/default/lib/python3.12/site-packages/libpysal/weights/weights.py:1685: UserWarning: The weights matrix is not fully connected: \n",
      " There are 21 disconnected components.\n",
      "  w = W(neighbors, weights, ids, silence_warnings=silence_warnings)\n"
     ]
    },
    {
     "name": "stdout",
     "output_type": "stream",
     "text": [
      "Built tess graph knn=1\n",
      "Built buildings graph knn=1\n",
      "Built streets graph knn=1\n",
      "Built enclosure graph knn=1\n"
     ]
    },
    {
     "name": "stderr",
     "output_type": "stream",
     "text": [
      "/home/krasen/morphometrics/.pixi/envs/default/lib/python3.12/site-packages/libpysal/weights/weights.py:1685: UserWarning: The weights matrix is not fully connected: \n",
      " There are 5 disconnected components.\n",
      "  w = W(neighbors, weights, ids, silence_warnings=silence_warnings)\n"
     ]
    },
    {
     "name": "stdout",
     "output_type": "stream",
     "text": [
      "Built nodes graph knn=1\n",
      "Built tess graph knn=1\n",
      "Built buildings graph knn=1\n",
      "Built streets graph knn=1\n",
      "Built enclosure graph knn=1\n",
      "Built nodes graph knn=1\n"
     ]
    },
    {
     "name": "stderr",
     "output_type": "stream",
     "text": [
      "/home/krasen/morphometrics/.pixi/envs/default/lib/python3.12/site-packages/libpysal/weights/weights.py:1685: UserWarning: The weights matrix is not fully connected: \n",
      " There are 26 disconnected components.\n",
      "  w = W(neighbors, weights, ids, silence_warnings=silence_warnings)\n"
     ]
    },
    {
     "name": "stdout",
     "output_type": "stream",
     "text": [
      "Built tess graph knn=1\n",
      "Built buildings graph knn=1\n",
      "Built streets graph knn=1\n",
      "Built enclosure graph knn=1\n",
      "Built nodes graph knn=1\n"
     ]
    },
    {
     "name": "stderr",
     "output_type": "stream",
     "text": [
      "/home/krasen/morphometrics/.pixi/envs/default/lib/python3.12/site-packages/libpysal/weights/weights.py:1685: UserWarning: The weights matrix is not fully connected: \n",
      " There are 7 disconnected components.\n",
      "  w = W(neighbors, weights, ids, silence_warnings=silence_warnings)\n"
     ]
    },
    {
     "name": "stdout",
     "output_type": "stream",
     "text": [
      "Built tess graph knn=1\n",
      "Built buildings graph knn=1\n",
      "Built streets graph knn=1\n",
      "Built enclosure graph knn=1\n",
      "Built nodes graph knn=1\n"
     ]
    },
    {
     "name": "stderr",
     "output_type": "stream",
     "text": [
      "/home/krasen/morphometrics/.pixi/envs/default/lib/python3.12/site-packages/libpysal/weights/weights.py:1685: UserWarning: The weights matrix is not fully connected: \n",
      " There are 27 disconnected components.\n",
      "  w = W(neighbors, weights, ids, silence_warnings=silence_warnings)\n"
     ]
    },
    {
     "name": "stdout",
     "output_type": "stream",
     "text": [
      "Built tess graph knn=1\n",
      "Built buildings graph knn=1\n",
      "Built streets graph knn=1\n",
      "Built enclosure graph knn=1\n"
     ]
    },
    {
     "name": "stderr",
     "output_type": "stream",
     "text": [
      "/home/krasen/morphometrics/.pixi/envs/default/lib/python3.12/site-packages/libpysal/weights/weights.py:1685: UserWarning: The weights matrix is not fully connected: \n",
      " There are 14 disconnected components.\n",
      "  w = W(neighbors, weights, ids, silence_warnings=silence_warnings)\n"
     ]
    },
    {
     "name": "stdout",
     "output_type": "stream",
     "text": [
      "Built nodes graph knn=1\n",
      "Built tess graph knn=1\n",
      "Built buildings graph knn=1\n",
      "Built streets graph knn=1\n",
      "Built enclosure graph knn=1\n"
     ]
    },
    {
     "name": "stderr",
     "output_type": "stream",
     "text": [
      "/home/krasen/morphometrics/.pixi/envs/default/lib/python3.12/site-packages/libpysal/weights/weights.py:1685: UserWarning: The weights matrix is not fully connected: \n",
      " There are 19 disconnected components.\n",
      "  w = W(neighbors, weights, ids, silence_warnings=silence_warnings)\n"
     ]
    },
    {
     "name": "stdout",
     "output_type": "stream",
     "text": [
      "Built nodes graph knn=1\n",
      "Built tess graph knn=1\n",
      "Built buildings graph knn=1\n",
      "Built streets graph knn=1\n",
      "Built enclosure graph knn=1\n",
      "Built nodes graph knn=1\n"
     ]
    },
    {
     "name": "stderr",
     "output_type": "stream",
     "text": [
      "/home/krasen/morphometrics/.pixi/envs/default/lib/python3.12/site-packages/libpysal/weights/weights.py:1685: UserWarning: The weights matrix is not fully connected: \n",
      " There are 13 disconnected components.\n",
      "  w = W(neighbors, weights, ids, silence_warnings=silence_warnings)\n"
     ]
    },
    {
     "name": "stdout",
     "output_type": "stream",
     "text": [
      "Built tess graph knn=1\n",
      "Built buildings graph knn=1\n",
      "Built streets graph knn=1\n",
      "Built enclosure graph knn=1\n"
     ]
    },
    {
     "name": "stderr",
     "output_type": "stream",
     "text": [
      "/home/krasen/morphometrics/.pixi/envs/default/lib/python3.12/site-packages/libpysal/weights/weights.py:1685: UserWarning: The weights matrix is not fully connected: \n",
      " There are 59 disconnected components.\n",
      "  w = W(neighbors, weights, ids, silence_warnings=silence_warnings)\n"
     ]
    },
    {
     "name": "stdout",
     "output_type": "stream",
     "text": [
      "Built nodes graph knn=1\n",
      "Built tess graph knn=1\n",
      "Built buildings graph knn=1\n",
      "Built streets graph knn=1\n",
      "Built enclosure graph knn=1\n",
      "Built nodes graph knn=1\n"
     ]
    },
    {
     "name": "stderr",
     "output_type": "stream",
     "text": [
      "/home/krasen/morphometrics/.pixi/envs/default/lib/python3.12/site-packages/libpysal/weights/weights.py:1685: UserWarning: The weights matrix is not fully connected: \n",
      " There are 7 disconnected components.\n",
      "  w = W(neighbors, weights, ids, silence_warnings=silence_warnings)\n"
     ]
    },
    {
     "name": "stdout",
     "output_type": "stream",
     "text": [
      "Built tess graph knn=1\n",
      "Built buildings graph knn=1\n",
      "Built streets graph knn=1\n",
      "Built enclosure graph knn=1\n",
      "Built nodes graph knn=1\n"
     ]
    },
    {
     "name": "stderr",
     "output_type": "stream",
     "text": [
      "/home/krasen/morphometrics/.pixi/envs/default/lib/python3.12/site-packages/libpysal/weights/weights.py:1685: UserWarning: The weights matrix is not fully connected: \n",
      " There are 13 disconnected components.\n",
      "  w = W(neighbors, weights, ids, silence_warnings=silence_warnings)\n"
     ]
    },
    {
     "name": "stdout",
     "output_type": "stream",
     "text": [
      "Built tess graph knn=1\n",
      "Built buildings graph knn=1\n",
      "Built streets graph knn=1\n",
      "Built enclosure graph knn=1\n",
      "Built nodes graph knn=1\n"
     ]
    },
    {
     "name": "stderr",
     "output_type": "stream",
     "text": [
      "/home/krasen/morphometrics/.pixi/envs/default/lib/python3.12/site-packages/libpysal/weights/weights.py:1685: UserWarning: The weights matrix is not fully connected: \n",
      " There are 7 disconnected components.\n",
      "  w = W(neighbors, weights, ids, silence_warnings=silence_warnings)\n"
     ]
    },
    {
     "name": "stdout",
     "output_type": "stream",
     "text": [
      "Built tess graph knn=1\n",
      "Built buildings graph knn=1\n",
      "Built streets graph knn=1\n",
      "Built enclosure graph knn=1\n",
      "Built nodes graph knn=1\n"
     ]
    },
    {
     "name": "stderr",
     "output_type": "stream",
     "text": [
      "/home/krasen/morphometrics/.pixi/envs/default/lib/python3.12/site-packages/libpysal/weights/weights.py:1685: UserWarning: The weights matrix is not fully connected: \n",
      " There are 25 disconnected components.\n",
      "  w = W(neighbors, weights, ids, silence_warnings=silence_warnings)\n"
     ]
    },
    {
     "name": "stdout",
     "output_type": "stream",
     "text": [
      "Built tess graph knn=1\n",
      "Built buildings graph knn=1\n",
      "Built streets graph knn=1\n",
      "Built enclosure graph knn=1\n",
      "Built nodes graph knn=1\n"
     ]
    },
    {
     "name": "stderr",
     "output_type": "stream",
     "text": [
      "/home/krasen/morphometrics/.pixi/envs/default/lib/python3.12/site-packages/libpysal/weights/weights.py:1685: UserWarning: The weights matrix is not fully connected: \n",
      " There are 3 disconnected components.\n",
      "  w = W(neighbors, weights, ids, silence_warnings=silence_warnings)\n"
     ]
    },
    {
     "name": "stdout",
     "output_type": "stream",
     "text": [
      "Built tess graph knn=1\n",
      "Built buildings graph knn=1\n",
      "Built streets graph knn=1\n",
      "Built enclosure graph knn=1\n",
      "Built nodes graph knn=1\n"
     ]
    },
    {
     "name": "stderr",
     "output_type": "stream",
     "text": [
      "/home/krasen/morphometrics/.pixi/envs/default/lib/python3.12/site-packages/libpysal/weights/weights.py:1685: UserWarning: The weights matrix is not fully connected: \n",
      " There are 14 disconnected components.\n",
      "  w = W(neighbors, weights, ids, silence_warnings=silence_warnings)\n"
     ]
    },
    {
     "name": "stdout",
     "output_type": "stream",
     "text": [
      "Built tess graph knn=1\n",
      "Built buildings graph knn=1\n",
      "Built streets graph knn=1\n",
      "Built enclosure graph knn=1\n",
      "Built nodes graph knn=1\n"
     ]
    },
    {
     "name": "stderr",
     "output_type": "stream",
     "text": [
      "/home/krasen/morphometrics/.pixi/envs/default/lib/python3.12/site-packages/libpysal/weights/weights.py:1685: UserWarning: The weights matrix is not fully connected: \n",
      " There are 14 disconnected components.\n",
      "  w = W(neighbors, weights, ids, silence_warnings=silence_warnings)\n"
     ]
    },
    {
     "name": "stdout",
     "output_type": "stream",
     "text": [
      "Built tess graph knn=1\n",
      "Built buildings graph knn=1\n",
      "Built streets graph knn=1\n",
      "Built enclosure graph knn=1\n",
      "Built nodes graph knn=1\n"
     ]
    },
    {
     "name": "stderr",
     "output_type": "stream",
     "text": [
      "/home/krasen/morphometrics/.pixi/envs/default/lib/python3.12/site-packages/libpysal/weights/weights.py:1685: UserWarning: The weights matrix is not fully connected: \n",
      " There are 14 disconnected components.\n",
      "  w = W(neighbors, weights, ids, silence_warnings=silence_warnings)\n"
     ]
    },
    {
     "name": "stdout",
     "output_type": "stream",
     "text": [
      "Built tess graph knn=1\n",
      "Built buildings graph knn=1\n",
      "Built streets graph knn=1\n",
      "Built enclosure graph knn=1\n",
      "Built nodes graph knn=1\n"
     ]
    },
    {
     "name": "stderr",
     "output_type": "stream",
     "text": [
      "/home/krasen/morphometrics/.pixi/envs/default/lib/python3.12/site-packages/libpysal/weights/weights.py:1685: UserWarning: The weights matrix is not fully connected: \n",
      " There are 3 disconnected components.\n",
      "  w = W(neighbors, weights, ids, silence_warnings=silence_warnings)\n"
     ]
    },
    {
     "name": "stdout",
     "output_type": "stream",
     "text": [
      "Built tess graph knn=1\n",
      "Built buildings graph knn=1\n",
      "Built streets graph knn=1\n",
      "Built enclosure graph knn=1\n",
      "Built nodes graph knn=1\n"
     ]
    },
    {
     "name": "stderr",
     "output_type": "stream",
     "text": [
      "/home/krasen/morphometrics/.pixi/envs/default/lib/python3.12/site-packages/libpysal/weights/weights.py:1685: UserWarning: The weights matrix is not fully connected: \n",
      " There are 18 disconnected components.\n",
      "  w = W(neighbors, weights, ids, silence_warnings=silence_warnings)\n"
     ]
    },
    {
     "name": "stdout",
     "output_type": "stream",
     "text": [
      "Built tess graph knn=1\n",
      "Built buildings graph knn=1\n",
      "Built streets graph knn=1\n",
      "Built enclosure graph knn=1\n",
      "Built nodes graph knn=1\n"
     ]
    },
    {
     "name": "stderr",
     "output_type": "stream",
     "text": [
      "/home/krasen/morphometrics/.pixi/envs/default/lib/python3.12/site-packages/libpysal/weights/weights.py:1685: UserWarning: The weights matrix is not fully connected: \n",
      " There are 13 disconnected components.\n",
      "  w = W(neighbors, weights, ids, silence_warnings=silence_warnings)\n"
     ]
    },
    {
     "name": "stdout",
     "output_type": "stream",
     "text": [
      "Built tess graph knn=1\n",
      "Built buildings graph knn=1\n",
      "Built streets graph knn=1\n",
      "Built enclosure graph knn=1\n",
      "Built nodes graph knn=1\n"
     ]
    },
    {
     "name": "stderr",
     "output_type": "stream",
     "text": [
      "/home/krasen/morphometrics/.pixi/envs/default/lib/python3.12/site-packages/libpysal/weights/weights.py:1685: UserWarning: The weights matrix is not fully connected: \n",
      " There are 41 disconnected components.\n",
      "  w = W(neighbors, weights, ids, silence_warnings=silence_warnings)\n"
     ]
    },
    {
     "name": "stdout",
     "output_type": "stream",
     "text": [
      "Built tess graph knn=1\n",
      "Built buildings graph knn=1\n",
      "Built streets graph knn=1\n",
      "Built enclosure graph knn=1\n"
     ]
    },
    {
     "name": "stderr",
     "output_type": "stream",
     "text": [
      "/home/krasen/morphometrics/.pixi/envs/default/lib/python3.12/site-packages/libpysal/weights/weights.py:1685: UserWarning: The weights matrix is not fully connected: \n",
      " There are 41 disconnected components.\n",
      "  w = W(neighbors, weights, ids, silence_warnings=silence_warnings)\n"
     ]
    },
    {
     "name": "stdout",
     "output_type": "stream",
     "text": [
      "Built nodes graph knn=1\n",
      "Built tess graph knn=1\n",
      "Built buildings graph knn=1\n",
      "Built streets graph knn=1\n",
      "Built enclosure graph knn=1\n",
      "Built nodes graph knn=1\n"
     ]
    },
    {
     "name": "stderr",
     "output_type": "stream",
     "text": [
      "/home/krasen/morphometrics/.pixi/envs/default/lib/python3.12/site-packages/libpysal/weights/weights.py:1685: UserWarning: The weights matrix is not fully connected: \n",
      " There are 6 disconnected components.\n",
      "  w = W(neighbors, weights, ids, silence_warnings=silence_warnings)\n"
     ]
    },
    {
     "name": "stdout",
     "output_type": "stream",
     "text": [
      "Built tess graph knn=1\n",
      "Built buildings graph knn=1\n",
      "Built streets graph knn=1\n",
      "Built enclosure graph knn=1\n"
     ]
    },
    {
     "name": "stderr",
     "output_type": "stream",
     "text": [
      "/home/krasen/morphometrics/.pixi/envs/default/lib/python3.12/site-packages/libpysal/weights/weights.py:1685: UserWarning: The weights matrix is not fully connected: \n",
      " There are 49 disconnected components.\n",
      "  w = W(neighbors, weights, ids, silence_warnings=silence_warnings)\n"
     ]
    },
    {
     "name": "stdout",
     "output_type": "stream",
     "text": [
      "Built nodes graph knn=1\n",
      "Built tess graph knn=1\n",
      "Built buildings graph knn=1\n",
      "Built streets graph knn=1\n",
      "Built enclosure graph knn=1\n"
     ]
    },
    {
     "name": "stderr",
     "output_type": "stream",
     "text": [
      "/home/krasen/morphometrics/.pixi/envs/default/lib/python3.12/site-packages/libpysal/weights/weights.py:1685: UserWarning: The weights matrix is not fully connected: \n",
      " There are 10 disconnected components.\n",
      "  w = W(neighbors, weights, ids, silence_warnings=silence_warnings)\n"
     ]
    },
    {
     "name": "stdout",
     "output_type": "stream",
     "text": [
      "Built nodes graph knn=1\n",
      "Built tess graph knn=1\n",
      "Built buildings graph knn=1\n",
      "Built streets graph knn=1\n",
      "Built enclosure graph knn=1\n",
      "Built nodes graph knn=1\n"
     ]
    },
    {
     "name": "stderr",
     "output_type": "stream",
     "text": [
      "/home/krasen/morphometrics/.pixi/envs/default/lib/python3.12/site-packages/libpysal/weights/weights.py:1685: UserWarning: The weights matrix is not fully connected: \n",
      " There are 20 disconnected components.\n",
      "  w = W(neighbors, weights, ids, silence_warnings=silence_warnings)\n"
     ]
    },
    {
     "name": "stdout",
     "output_type": "stream",
     "text": [
      "Built tess graph knn=1\n",
      "Built buildings graph knn=1\n",
      "Built streets graph knn=1\n",
      "Built enclosure graph knn=1\n",
      "Built nodes graph knn=1\n"
     ]
    },
    {
     "name": "stderr",
     "output_type": "stream",
     "text": [
      "/home/krasen/morphometrics/.pixi/envs/default/lib/python3.12/site-packages/libpysal/weights/weights.py:1685: UserWarning: The weights matrix is not fully connected: \n",
      " There are 10 disconnected components.\n",
      "  w = W(neighbors, weights, ids, silence_warnings=silence_warnings)\n"
     ]
    },
    {
     "name": "stdout",
     "output_type": "stream",
     "text": [
      "Built tess graph knn=1\n",
      "Built buildings graph knn=1\n",
      "Built streets graph knn=1\n",
      "Built enclosure graph knn=1\n",
      "Built nodes graph knn=1\n"
     ]
    },
    {
     "name": "stderr",
     "output_type": "stream",
     "text": [
      "/home/krasen/morphometrics/.pixi/envs/default/lib/python3.12/site-packages/libpysal/weights/weights.py:1685: UserWarning: The weights matrix is not fully connected: \n",
      " There are 8 disconnected components.\n",
      "  w = W(neighbors, weights, ids, silence_warnings=silence_warnings)\n"
     ]
    },
    {
     "name": "stdout",
     "output_type": "stream",
     "text": [
      "Built tess graph knn=1\n",
      "Built buildings graph knn=1\n",
      "Built streets graph knn=1\n",
      "Built enclosure graph knn=1\n"
     ]
    },
    {
     "name": "stderr",
     "output_type": "stream",
     "text": [
      "/home/krasen/morphometrics/.pixi/envs/default/lib/python3.12/site-packages/libpysal/weights/weights.py:1685: UserWarning: The weights matrix is not fully connected: \n",
      " There are 5 disconnected components.\n",
      "  w = W(neighbors, weights, ids, silence_warnings=silence_warnings)\n"
     ]
    },
    {
     "name": "stdout",
     "output_type": "stream",
     "text": [
      "Built nodes graph knn=1\n",
      "Built tess graph knn=1\n",
      "Built buildings graph knn=1\n",
      "Built streets graph knn=1\n",
      "Built enclosure graph knn=1\n",
      "Built nodes graph knn=1\n"
     ]
    },
    {
     "name": "stderr",
     "output_type": "stream",
     "text": [
      "/home/krasen/morphometrics/.pixi/envs/default/lib/python3.12/site-packages/libpysal/weights/weights.py:1685: UserWarning: The weights matrix is not fully connected: \n",
      " There are 11 disconnected components.\n",
      "  w = W(neighbors, weights, ids, silence_warnings=silence_warnings)\n"
     ]
    },
    {
     "name": "stdout",
     "output_type": "stream",
     "text": [
      "Built tess graph knn=1\n",
      "Built buildings graph knn=1\n",
      "Built streets graph knn=1\n",
      "Built enclosure graph knn=1\n"
     ]
    },
    {
     "name": "stderr",
     "output_type": "stream",
     "text": [
      "/home/krasen/morphometrics/.pixi/envs/default/lib/python3.12/site-packages/libpysal/weights/weights.py:1685: UserWarning: The weights matrix is not fully connected: \n",
      " There are 51 disconnected components.\n",
      "  w = W(neighbors, weights, ids, silence_warnings=silence_warnings)\n"
     ]
    },
    {
     "name": "stdout",
     "output_type": "stream",
     "text": [
      "Built nodes graph knn=1\n",
      "Built tess graph knn=1\n",
      "Built buildings graph knn=1\n",
      "Built streets graph knn=1\n",
      "Built enclosure graph knn=1\n",
      "Built nodes graph knn=1\n"
     ]
    },
    {
     "name": "stderr",
     "output_type": "stream",
     "text": [
      "/home/krasen/morphometrics/.pixi/envs/default/lib/python3.12/site-packages/libpysal/weights/weights.py:1685: UserWarning: The weights matrix is not fully connected: \n",
      " There are 21 disconnected components.\n",
      "  w = W(neighbors, weights, ids, silence_warnings=silence_warnings)\n"
     ]
    },
    {
     "name": "stdout",
     "output_type": "stream",
     "text": [
      "Built tess graph knn=1\n",
      "Built buildings graph knn=1\n",
      "Built streets graph knn=1\n",
      "Built enclosure graph knn=1\n"
     ]
    },
    {
     "name": "stderr",
     "output_type": "stream",
     "text": [
      "/home/krasen/morphometrics/.pixi/envs/default/lib/python3.12/site-packages/libpysal/weights/weights.py:1685: UserWarning: The weights matrix is not fully connected: \n",
      " There are 79 disconnected components.\n",
      "  w = W(neighbors, weights, ids, silence_warnings=silence_warnings)\n"
     ]
    },
    {
     "name": "stdout",
     "output_type": "stream",
     "text": [
      "Built nodes graph knn=1\n",
      "Built tess graph knn=1\n",
      "Built buildings graph knn=1\n",
      "Built streets graph knn=1\n",
      "Built enclosure graph knn=1\n"
     ]
    },
    {
     "name": "stderr",
     "output_type": "stream",
     "text": [
      "/home/krasen/morphometrics/.pixi/envs/default/lib/python3.12/site-packages/libpysal/weights/weights.py:1685: UserWarning: The weights matrix is not fully connected: \n",
      " There are 9 disconnected components.\n",
      "  w = W(neighbors, weights, ids, silence_warnings=silence_warnings)\n"
     ]
    },
    {
     "name": "stdout",
     "output_type": "stream",
     "text": [
      "Built nodes graph knn=1\n",
      "Built tess graph knn=1\n",
      "Built buildings graph knn=1\n",
      "Built streets graph knn=1\n",
      "Built enclosure graph knn=1\n"
     ]
    },
    {
     "name": "stderr",
     "output_type": "stream",
     "text": [
      "/home/krasen/morphometrics/.pixi/envs/default/lib/python3.12/site-packages/libpysal/weights/weights.py:1685: UserWarning: The weights matrix is not fully connected: \n",
      " There are 10 disconnected components.\n",
      "  w = W(neighbors, weights, ids, silence_warnings=silence_warnings)\n"
     ]
    },
    {
     "name": "stdout",
     "output_type": "stream",
     "text": [
      "Built nodes graph knn=1\n",
      "Built tess graph knn=1\n",
      "Built buildings graph knn=1\n",
      "Built streets graph knn=1\n",
      "Built enclosure graph knn=1\n",
      "Built nodes graph knn=1\n"
     ]
    },
    {
     "name": "stderr",
     "output_type": "stream",
     "text": [
      "/home/krasen/morphometrics/.pixi/envs/default/lib/python3.12/site-packages/libpysal/weights/weights.py:1685: UserWarning: The weights matrix is not fully connected: \n",
      " There are 9 disconnected components.\n",
      "  w = W(neighbors, weights, ids, silence_warnings=silence_warnings)\n"
     ]
    },
    {
     "name": "stdout",
     "output_type": "stream",
     "text": [
      "Built tess graph knn=1\n",
      "Built buildings graph knn=1\n",
      "Built streets graph knn=1\n",
      "Built enclosure graph knn=1\n",
      "Built nodes graph knn=1\n"
     ]
    },
    {
     "name": "stderr",
     "output_type": "stream",
     "text": [
      "/home/krasen/morphometrics/.pixi/envs/default/lib/python3.12/site-packages/libpysal/weights/weights.py:1685: UserWarning: The weights matrix is not fully connected: \n",
      " There are 15 disconnected components.\n",
      "  w = W(neighbors, weights, ids, silence_warnings=silence_warnings)\n"
     ]
    },
    {
     "name": "stdout",
     "output_type": "stream",
     "text": [
      "Built tess graph knn=1\n",
      "Built buildings graph knn=1\n",
      "Built streets graph knn=1\n",
      "Built enclosure graph knn=1\n",
      "Built nodes graph knn=1\n"
     ]
    },
    {
     "name": "stderr",
     "output_type": "stream",
     "text": [
      "/home/krasen/morphometrics/.pixi/envs/default/lib/python3.12/site-packages/libpysal/weights/weights.py:1685: UserWarning: The weights matrix is not fully connected: \n",
      " There are 22 disconnected components.\n",
      "  w = W(neighbors, weights, ids, silence_warnings=silence_warnings)\n"
     ]
    },
    {
     "name": "stdout",
     "output_type": "stream",
     "text": [
      "Built tess graph knn=1\n",
      "Built buildings graph knn=1\n",
      "Built streets graph knn=1\n",
      "Built enclosure graph knn=1\n"
     ]
    },
    {
     "name": "stderr",
     "output_type": "stream",
     "text": [
      "/home/krasen/morphometrics/.pixi/envs/default/lib/python3.12/site-packages/libpysal/weights/weights.py:1685: UserWarning: The weights matrix is not fully connected: \n",
      " There are 49 disconnected components.\n",
      "  w = W(neighbors, weights, ids, silence_warnings=silence_warnings)\n"
     ]
    },
    {
     "name": "stdout",
     "output_type": "stream",
     "text": [
      "Built nodes graph knn=1\n",
      "Built tess graph knn=1\n",
      "Built buildings graph knn=1\n",
      "Built streets graph knn=1\n",
      "Built enclosure graph knn=1\n",
      "Built nodes graph knn=1\n"
     ]
    },
    {
     "name": "stderr",
     "output_type": "stream",
     "text": [
      "/home/krasen/morphometrics/.pixi/envs/default/lib/python3.12/site-packages/libpysal/weights/weights.py:1685: UserWarning: The weights matrix is not fully connected: \n",
      " There are 22 disconnected components.\n",
      "  w = W(neighbors, weights, ids, silence_warnings=silence_warnings)\n"
     ]
    },
    {
     "name": "stdout",
     "output_type": "stream",
     "text": [
      "Built tess graph knn=1\n",
      "Built buildings graph knn=1\n",
      "Built streets graph knn=1\n",
      "Built enclosure graph knn=1\n"
     ]
    },
    {
     "name": "stderr",
     "output_type": "stream",
     "text": [
      "/home/krasen/morphometrics/.pixi/envs/default/lib/python3.12/site-packages/libpysal/weights/weights.py:1685: UserWarning: The weights matrix is not fully connected: \n",
      " There are 8 disconnected components.\n",
      "  w = W(neighbors, weights, ids, silence_warnings=silence_warnings)\n"
     ]
    },
    {
     "name": "stdout",
     "output_type": "stream",
     "text": [
      "Built nodes graph knn=1\n",
      "Built tess graph knn=1\n",
      "Built buildings graph knn=1\n",
      "Built streets graph knn=1\n",
      "Built enclosure graph knn=1\n",
      "Built nodes graph knn=1\n"
     ]
    },
    {
     "name": "stderr",
     "output_type": "stream",
     "text": [
      "/home/krasen/morphometrics/.pixi/envs/default/lib/python3.12/site-packages/libpysal/weights/weights.py:1685: UserWarning: The weights matrix is not fully connected: \n",
      " There are 24 disconnected components.\n",
      "  w = W(neighbors, weights, ids, silence_warnings=silence_warnings)\n"
     ]
    },
    {
     "name": "stdout",
     "output_type": "stream",
     "text": [
      "Built tess graph knn=1\n",
      "Built buildings graph knn=1\n",
      "Built streets graph knn=1\n",
      "Built enclosure graph knn=1\n",
      "Built nodes graph knn=1\n"
     ]
    },
    {
     "name": "stderr",
     "output_type": "stream",
     "text": [
      "/home/krasen/morphometrics/.pixi/envs/default/lib/python3.12/site-packages/libpysal/weights/weights.py:1685: UserWarning: The weights matrix is not fully connected: \n",
      " There are 4 disconnected components.\n",
      "  w = W(neighbors, weights, ids, silence_warnings=silence_warnings)\n"
     ]
    },
    {
     "name": "stdout",
     "output_type": "stream",
     "text": [
      "Built tess graph knn=1\n",
      "Built buildings graph knn=1\n",
      "Built streets graph knn=1\n",
      "Built enclosure graph knn=1\n",
      "Built nodes graph knn=1\n"
     ]
    },
    {
     "name": "stderr",
     "output_type": "stream",
     "text": [
      "/home/krasen/morphometrics/.pixi/envs/default/lib/python3.12/site-packages/libpysal/weights/weights.py:1685: UserWarning: The weights matrix is not fully connected: \n",
      " There are 18 disconnected components.\n",
      "  w = W(neighbors, weights, ids, silence_warnings=silence_warnings)\n"
     ]
    },
    {
     "name": "stdout",
     "output_type": "stream",
     "text": [
      "Built tess graph knn=1\n",
      "Built buildings graph knn=1\n",
      "Built streets graph knn=1\n",
      "Built enclosure graph knn=1\n",
      "Built nodes graph knn=1\n"
     ]
    },
    {
     "name": "stderr",
     "output_type": "stream",
     "text": [
      "/home/krasen/morphometrics/.pixi/envs/default/lib/python3.12/site-packages/libpysal/weights/weights.py:1685: UserWarning: The weights matrix is not fully connected: \n",
      " There are 3 disconnected components.\n",
      "  w = W(neighbors, weights, ids, silence_warnings=silence_warnings)\n"
     ]
    },
    {
     "name": "stdout",
     "output_type": "stream",
     "text": [
      "Built tess graph knn=1\n",
      "Built buildings graph knn=1\n",
      "Built streets graph knn=1\n",
      "Built enclosure graph knn=1\n",
      "Built nodes graph knn=1\n"
     ]
    },
    {
     "name": "stderr",
     "output_type": "stream",
     "text": [
      "/home/krasen/morphometrics/.pixi/envs/default/lib/python3.12/site-packages/libpysal/weights/weights.py:1685: UserWarning: The weights matrix is not fully connected: \n",
      " There are 16 disconnected components.\n",
      "  w = W(neighbors, weights, ids, silence_warnings=silence_warnings)\n"
     ]
    },
    {
     "name": "stdout",
     "output_type": "stream",
     "text": [
      "Built tess graph knn=1\n",
      "Built buildings graph knn=1\n",
      "Built streets graph knn=1\n",
      "Built enclosure graph knn=1\n",
      "Built nodes graph knn=1\n"
     ]
    },
    {
     "name": "stderr",
     "output_type": "stream",
     "text": [
      "/home/krasen/morphometrics/.pixi/envs/default/lib/python3.12/site-packages/libpysal/weights/weights.py:1685: UserWarning: The weights matrix is not fully connected: \n",
      " There are 7 disconnected components.\n",
      "  w = W(neighbors, weights, ids, silence_warnings=silence_warnings)\n"
     ]
    },
    {
     "name": "stdout",
     "output_type": "stream",
     "text": [
      "Built tess graph knn=1\n",
      "Built buildings graph knn=1\n",
      "Built streets graph knn=1\n",
      "Built enclosure graph knn=1\n",
      "Built nodes graph knn=1\n"
     ]
    },
    {
     "name": "stderr",
     "output_type": "stream",
     "text": [
      "/home/krasen/morphometrics/.pixi/envs/default/lib/python3.12/site-packages/libpysal/weights/weights.py:1685: UserWarning: The weights matrix is not fully connected: \n",
      " There are 11 disconnected components.\n",
      "  w = W(neighbors, weights, ids, silence_warnings=silence_warnings)\n"
     ]
    },
    {
     "name": "stdout",
     "output_type": "stream",
     "text": [
      "Built tess graph knn=1\n",
      "Built buildings graph knn=1\n",
      "Built streets graph knn=1\n",
      "Built enclosure graph knn=1\n",
      "Built nodes graph knn=1\n"
     ]
    },
    {
     "name": "stderr",
     "output_type": "stream",
     "text": [
      "/home/krasen/morphometrics/.pixi/envs/default/lib/python3.12/site-packages/libpysal/weights/weights.py:1685: UserWarning: The weights matrix is not fully connected: \n",
      " There are 3 disconnected components.\n",
      "  w = W(neighbors, weights, ids, silence_warnings=silence_warnings)\n"
     ]
    },
    {
     "name": "stdout",
     "output_type": "stream",
     "text": [
      "Built tess graph knn=1\n",
      "Built buildings graph knn=1\n",
      "Built streets graph knn=1\n",
      "Built enclosure graph knn=1\n"
     ]
    },
    {
     "name": "stderr",
     "output_type": "stream",
     "text": [
      "/home/krasen/morphometrics/.pixi/envs/default/lib/python3.12/site-packages/libpysal/weights/weights.py:1685: UserWarning: The weights matrix is not fully connected: \n",
      " There are 27 disconnected components.\n",
      "  w = W(neighbors, weights, ids, silence_warnings=silence_warnings)\n"
     ]
    },
    {
     "name": "stdout",
     "output_type": "stream",
     "text": [
      "Built nodes graph knn=1\n",
      "Built tess graph knn=1\n",
      "Built buildings graph knn=1\n",
      "Built streets graph knn=1\n",
      "Built enclosure graph knn=1\n"
     ]
    },
    {
     "name": "stderr",
     "output_type": "stream",
     "text": [
      "/home/krasen/morphometrics/.pixi/envs/default/lib/python3.12/site-packages/libpysal/weights/weights.py:1685: UserWarning: The weights matrix is not fully connected: \n",
      " There are 4 disconnected components.\n",
      "  w = W(neighbors, weights, ids, silence_warnings=silence_warnings)\n"
     ]
    },
    {
     "name": "stdout",
     "output_type": "stream",
     "text": [
      "Built nodes graph knn=1\n",
      "Built tess graph knn=1\n",
      "Built buildings graph knn=1\n",
      "Built streets graph knn=1\n",
      "Built enclosure graph knn=1\n",
      "Built nodes graph knn=1\n"
     ]
    },
    {
     "name": "stderr",
     "output_type": "stream",
     "text": [
      "/home/krasen/morphometrics/.pixi/envs/default/lib/python3.12/site-packages/libpysal/weights/weights.py:1685: UserWarning: The weights matrix is not fully connected: \n",
      " There are 25 disconnected components.\n",
      "  w = W(neighbors, weights, ids, silence_warnings=silence_warnings)\n"
     ]
    },
    {
     "name": "stdout",
     "output_type": "stream",
     "text": [
      "Built tess graph knn=1\n",
      "Built buildings graph knn=1\n",
      "Built streets graph knn=1\n",
      "Built enclosure graph knn=1\n",
      "Built nodes graph knn=1\n"
     ]
    },
    {
     "name": "stderr",
     "output_type": "stream",
     "text": [
      "/home/krasen/morphometrics/.pixi/envs/default/lib/python3.12/site-packages/libpysal/weights/weights.py:1685: UserWarning: The weights matrix is not fully connected: \n",
      " There are 11 disconnected components.\n",
      "  w = W(neighbors, weights, ids, silence_warnings=silence_warnings)\n"
     ]
    },
    {
     "name": "stdout",
     "output_type": "stream",
     "text": [
      "Built tess graph knn=1\n",
      "Built buildings graph knn=1\n",
      "Built streets graph knn=1\n",
      "Built enclosure graph knn=1\n",
      "Built nodes graph knn=1\n"
     ]
    },
    {
     "name": "stderr",
     "output_type": "stream",
     "text": [
      "/home/krasen/morphometrics/.pixi/envs/default/lib/python3.12/site-packages/libpysal/weights/weights.py:1685: UserWarning: The weights matrix is not fully connected: \n",
      " There are 33 disconnected components.\n",
      "  w = W(neighbors, weights, ids, silence_warnings=silence_warnings)\n"
     ]
    },
    {
     "name": "stdout",
     "output_type": "stream",
     "text": [
      "Built tess graph knn=1\n",
      "Built buildings graph knn=1\n",
      "Built streets graph knn=1\n",
      "Built enclosure graph knn=1\n",
      "Built nodes graph knn=1\n"
     ]
    },
    {
     "name": "stderr",
     "output_type": "stream",
     "text": [
      "/home/krasen/morphometrics/.pixi/envs/default/lib/python3.12/site-packages/libpysal/weights/weights.py:1685: UserWarning: The weights matrix is not fully connected: \n",
      " There are 4 disconnected components.\n",
      "  w = W(neighbors, weights, ids, silence_warnings=silence_warnings)\n"
     ]
    },
    {
     "name": "stdout",
     "output_type": "stream",
     "text": [
      "Built tess graph knn=1\n",
      "Built buildings graph knn=1\n",
      "Built streets graph knn=1\n",
      "Built enclosure graph knn=1\n",
      "Built nodes graph knn=1\n"
     ]
    },
    {
     "name": "stderr",
     "output_type": "stream",
     "text": [
      "/home/krasen/morphometrics/.pixi/envs/default/lib/python3.12/site-packages/libpysal/weights/weights.py:1685: UserWarning: The weights matrix is not fully connected: \n",
      " There are 19 disconnected components.\n",
      "  w = W(neighbors, weights, ids, silence_warnings=silence_warnings)\n"
     ]
    },
    {
     "name": "stdout",
     "output_type": "stream",
     "text": [
      "Built tess graph knn=1\n",
      "Built buildings graph knn=1\n",
      "Built streets graph knn=1\n",
      "Built enclosure graph knn=1\n",
      "Built nodes graph knn=1\n"
     ]
    },
    {
     "name": "stderr",
     "output_type": "stream",
     "text": [
      "/home/krasen/morphometrics/.pixi/envs/default/lib/python3.12/site-packages/libpysal/weights/weights.py:1685: UserWarning: The weights matrix is not fully connected: \n",
      " There are 19 disconnected components.\n",
      "  w = W(neighbors, weights, ids, silence_warnings=silence_warnings)\n"
     ]
    },
    {
     "name": "stdout",
     "output_type": "stream",
     "text": [
      "Built tess graph knn=1\n",
      "Built buildings graph knn=1\n",
      "Built streets graph knn=1\n",
      "Built enclosure graph knn=1\n"
     ]
    },
    {
     "name": "stderr",
     "output_type": "stream",
     "text": [
      "/home/krasen/morphometrics/.pixi/envs/default/lib/python3.12/site-packages/libpysal/weights/weights.py:1685: UserWarning: The weights matrix is not fully connected: \n",
      " There are 40 disconnected components.\n",
      "  w = W(neighbors, weights, ids, silence_warnings=silence_warnings)\n"
     ]
    },
    {
     "name": "stdout",
     "output_type": "stream",
     "text": [
      "Built nodes graph knn=1\n",
      "Built tess graph knn=1\n",
      "Built buildings graph knn=1\n",
      "Built streets graph knn=1\n",
      "Built enclosure graph knn=1\n"
     ]
    },
    {
     "name": "stderr",
     "output_type": "stream",
     "text": [
      "/home/krasen/morphometrics/.pixi/envs/default/lib/python3.12/site-packages/libpysal/weights/weights.py:1685: UserWarning: The weights matrix is not fully connected: \n",
      " There are 6 disconnected components.\n",
      "  w = W(neighbors, weights, ids, silence_warnings=silence_warnings)\n"
     ]
    },
    {
     "name": "stdout",
     "output_type": "stream",
     "text": [
      "Built nodes graph knn=1\n",
      "Built tess graph knn=1\n",
      "Built buildings graph knn=1\n",
      "Built streets graph knn=1\n",
      "Built enclosure graph knn=1\n",
      "Built nodes graph knn=1\n"
     ]
    },
    {
     "name": "stderr",
     "output_type": "stream",
     "text": [
      "/home/krasen/morphometrics/.pixi/envs/default/lib/python3.12/site-packages/libpysal/weights/weights.py:1685: UserWarning: The weights matrix is not fully connected: \n",
      " There are 18 disconnected components.\n",
      "  w = W(neighbors, weights, ids, silence_warnings=silence_warnings)\n"
     ]
    },
    {
     "name": "stdout",
     "output_type": "stream",
     "text": [
      "Built tess graph knn=1\n",
      "Built buildings graph knn=1\n",
      "Built streets graph knn=1\n",
      "Built enclosure graph knn=1\n",
      "Built nodes graph knn=1\n"
     ]
    },
    {
     "name": "stderr",
     "output_type": "stream",
     "text": [
      "/home/krasen/morphometrics/.pixi/envs/default/lib/python3.12/site-packages/libpysal/weights/weights.py:1685: UserWarning: The weights matrix is not fully connected: \n",
      " There are 13 disconnected components.\n",
      "  w = W(neighbors, weights, ids, silence_warnings=silence_warnings)\n"
     ]
    },
    {
     "name": "stdout",
     "output_type": "stream",
     "text": [
      "Built tess graph knn=1\n",
      "Built buildings graph knn=1\n",
      "Built streets graph knn=1\n",
      "Built enclosure graph knn=1\n",
      "Built nodes graph knn=1\n"
     ]
    },
    {
     "name": "stderr",
     "output_type": "stream",
     "text": [
      "/home/krasen/morphometrics/.pixi/envs/default/lib/python3.12/site-packages/libpysal/weights/weights.py:1685: UserWarning: The weights matrix is not fully connected: \n",
      " There are 9 disconnected components.\n",
      "  w = W(neighbors, weights, ids, silence_warnings=silence_warnings)\n"
     ]
    },
    {
     "name": "stdout",
     "output_type": "stream",
     "text": [
      "Built tess graph knn=1\n",
      "Built buildings graph knn=1\n",
      "Built streets graph knn=1\n",
      "Built enclosure graph knn=1\n",
      "Built nodes graph knn=1\n"
     ]
    },
    {
     "name": "stderr",
     "output_type": "stream",
     "text": [
      "/home/krasen/morphometrics/.pixi/envs/default/lib/python3.12/site-packages/libpysal/weights/weights.py:1685: UserWarning: The weights matrix is not fully connected: \n",
      " There are 44 disconnected components.\n",
      "  w = W(neighbors, weights, ids, silence_warnings=silence_warnings)\n"
     ]
    },
    {
     "name": "stdout",
     "output_type": "stream",
     "text": [
      "Built tess graph knn=1\n",
      "Built buildings graph knn=1\n",
      "Built streets graph knn=1\n",
      "Built enclosure graph knn=1\n"
     ]
    },
    {
     "name": "stderr",
     "output_type": "stream",
     "text": [
      "/home/krasen/morphometrics/.pixi/envs/default/lib/python3.12/site-packages/libpysal/weights/weights.py:1685: UserWarning: The weights matrix is not fully connected: \n",
      " There are 139 disconnected components.\n",
      "  w = W(neighbors, weights, ids, silence_warnings=silence_warnings)\n"
     ]
    },
    {
     "name": "stdout",
     "output_type": "stream",
     "text": [
      "Built nodes graph knn=1\n",
      "Built tess graph knn=1\n",
      "Built buildings graph knn=1\n",
      "Built streets graph knn=1\n",
      "Built enclosure graph knn=1\n",
      "Built nodes graph knn=1\n"
     ]
    },
    {
     "name": "stderr",
     "output_type": "stream",
     "text": [
      "/home/krasen/morphometrics/.pixi/envs/default/lib/python3.12/site-packages/libpysal/weights/weights.py:1685: UserWarning: The weights matrix is not fully connected: \n",
      " There are 26 disconnected components.\n",
      "  w = W(neighbors, weights, ids, silence_warnings=silence_warnings)\n"
     ]
    },
    {
     "name": "stdout",
     "output_type": "stream",
     "text": [
      "Built tess graph knn=1\n",
      "Built buildings graph knn=1\n",
      "Built streets graph knn=1\n",
      "Built enclosure graph knn=1\n",
      "Built nodes graph knn=1\n"
     ]
    },
    {
     "name": "stderr",
     "output_type": "stream",
     "text": [
      "/home/krasen/morphometrics/.pixi/envs/default/lib/python3.12/site-packages/libpysal/weights/weights.py:1685: UserWarning: The weights matrix is not fully connected: \n",
      " There are 8 disconnected components.\n",
      "  w = W(neighbors, weights, ids, silence_warnings=silence_warnings)\n"
     ]
    },
    {
     "name": "stdout",
     "output_type": "stream",
     "text": [
      "Built tess graph knn=1\n",
      "Built buildings graph knn=1\n",
      "Built streets graph knn=1\n",
      "Built enclosure graph knn=1\n",
      "Built nodes graph knn=1\n"
     ]
    },
    {
     "name": "stderr",
     "output_type": "stream",
     "text": [
      "/home/krasen/morphometrics/.pixi/envs/default/lib/python3.12/site-packages/libpysal/weights/weights.py:1685: UserWarning: The weights matrix is not fully connected: \n",
      " There are 17 disconnected components.\n",
      "  w = W(neighbors, weights, ids, silence_warnings=silence_warnings)\n"
     ]
    },
    {
     "name": "stdout",
     "output_type": "stream",
     "text": [
      "Built tess graph knn=1\n",
      "Built buildings graph knn=1\n",
      "Built streets graph knn=1\n",
      "Built enclosure graph knn=1\n",
      "Built nodes graph knn=1\n"
     ]
    },
    {
     "name": "stderr",
     "output_type": "stream",
     "text": [
      "/home/krasen/morphometrics/.pixi/envs/default/lib/python3.12/site-packages/libpysal/weights/weights.py:1685: UserWarning: The weights matrix is not fully connected: \n",
      " There are 12 disconnected components.\n",
      "  w = W(neighbors, weights, ids, silence_warnings=silence_warnings)\n"
     ]
    },
    {
     "name": "stdout",
     "output_type": "stream",
     "text": [
      "Built tess graph knn=1\n",
      "Built buildings graph knn=1\n",
      "Built streets graph knn=1\n",
      "Built enclosure graph knn=1\n",
      "Built nodes graph knn=1\n"
     ]
    },
    {
     "name": "stderr",
     "output_type": "stream",
     "text": [
      "/home/krasen/morphometrics/.pixi/envs/default/lib/python3.12/site-packages/libpysal/weights/weights.py:1685: UserWarning: The weights matrix is not fully connected: \n",
      " There are 4 disconnected components.\n",
      "  w = W(neighbors, weights, ids, silence_warnings=silence_warnings)\n"
     ]
    },
    {
     "name": "stdout",
     "output_type": "stream",
     "text": [
      "Built tess graph knn=1\n",
      "Built buildings graph knn=1\n",
      "Built streets graph knn=1\n",
      "Built enclosure graph knn=1\n"
     ]
    },
    {
     "name": "stderr",
     "output_type": "stream",
     "text": [
      "/home/krasen/morphometrics/.pixi/envs/default/lib/python3.12/site-packages/libpysal/weights/weights.py:1685: UserWarning: The weights matrix is not fully connected: \n",
      " There are 11 disconnected components.\n",
      "  w = W(neighbors, weights, ids, silence_warnings=silence_warnings)\n"
     ]
    },
    {
     "name": "stdout",
     "output_type": "stream",
     "text": [
      "Built nodes graph knn=1\n",
      "Built tess graph knn=1\n",
      "Built buildings graph knn=1\n",
      "Built streets graph knn=1\n",
      "Built enclosure graph knn=1\n",
      "Built nodes graph knn=1\n"
     ]
    },
    {
     "name": "stderr",
     "output_type": "stream",
     "text": [
      "/home/krasen/morphometrics/.pixi/envs/default/lib/python3.12/site-packages/libpysal/weights/weights.py:1685: UserWarning: The weights matrix is not fully connected: \n",
      " There are 12 disconnected components.\n",
      "  w = W(neighbors, weights, ids, silence_warnings=silence_warnings)\n"
     ]
    },
    {
     "name": "stdout",
     "output_type": "stream",
     "text": [
      "Built tess graph knn=1\n",
      "Built buildings graph knn=1\n",
      "Built streets graph knn=1\n",
      "Built enclosure graph knn=1\n",
      "Built nodes graph knn=1\n"
     ]
    },
    {
     "name": "stderr",
     "output_type": "stream",
     "text": [
      "/home/krasen/morphometrics/.pixi/envs/default/lib/python3.12/site-packages/libpysal/weights/weights.py:1685: UserWarning: The weights matrix is not fully connected: \n",
      " There are 11 disconnected components.\n",
      "  w = W(neighbors, weights, ids, silence_warnings=silence_warnings)\n"
     ]
    },
    {
     "name": "stdout",
     "output_type": "stream",
     "text": [
      "Built tess graph knn=1\n",
      "Built buildings graph knn=1\n",
      "Built streets graph knn=1\n",
      "Built enclosure graph knn=1\n",
      "Built nodes graph knn=1\n"
     ]
    },
    {
     "name": "stderr",
     "output_type": "stream",
     "text": [
      "/home/krasen/morphometrics/.pixi/envs/default/lib/python3.12/site-packages/libpysal/weights/weights.py:1685: UserWarning: The weights matrix is not fully connected: \n",
      " There are 12 disconnected components.\n",
      "  w = W(neighbors, weights, ids, silence_warnings=silence_warnings)\n"
     ]
    },
    {
     "name": "stdout",
     "output_type": "stream",
     "text": [
      "Built tess graph knn=1\n",
      "Built buildings graph knn=1\n",
      "Built streets graph knn=1\n",
      "Built enclosure graph knn=1\n"
     ]
    },
    {
     "name": "stderr",
     "output_type": "stream",
     "text": [
      "/home/krasen/morphometrics/.pixi/envs/default/lib/python3.12/site-packages/libpysal/weights/weights.py:1685: UserWarning: The weights matrix is not fully connected: \n",
      " There are 78 disconnected components.\n",
      "  w = W(neighbors, weights, ids, silence_warnings=silence_warnings)\n"
     ]
    },
    {
     "name": "stdout",
     "output_type": "stream",
     "text": [
      "Built nodes graph knn=1\n",
      "Built tess graph knn=1\n",
      "Built buildings graph knn=1\n",
      "Built streets graph knn=1\n",
      "Built enclosure graph knn=1\n",
      "Built nodes graph knn=1\n"
     ]
    },
    {
     "name": "stderr",
     "output_type": "stream",
     "text": [
      "/home/krasen/morphometrics/.pixi/envs/default/lib/python3.12/site-packages/libpysal/weights/weights.py:1685: UserWarning: The weights matrix is not fully connected: \n",
      " There are 5 disconnected components.\n",
      "  w = W(neighbors, weights, ids, silence_warnings=silence_warnings)\n"
     ]
    },
    {
     "name": "stdout",
     "output_type": "stream",
     "text": [
      "Built tess graph knn=1\n",
      "Built buildings graph knn=1\n",
      "Built streets graph knn=1\n",
      "Built enclosure graph knn=1\n"
     ]
    },
    {
     "name": "stderr",
     "output_type": "stream",
     "text": [
      "/home/krasen/morphometrics/.pixi/envs/default/lib/python3.12/site-packages/libpysal/weights/weights.py:1685: UserWarning: The weights matrix is not fully connected: \n",
      " There are 2 disconnected components.\n",
      "  w = W(neighbors, weights, ids, silence_warnings=silence_warnings)\n"
     ]
    },
    {
     "name": "stdout",
     "output_type": "stream",
     "text": [
      "Built nodes graph knn=1\n",
      "Built tess graph knn=1\n",
      "Built buildings graph knn=1\n",
      "Built streets graph knn=1\n",
      "Built enclosure graph knn=1\n",
      "Built nodes graph knn=1\n"
     ]
    },
    {
     "name": "stderr",
     "output_type": "stream",
     "text": [
      "/home/krasen/morphometrics/.pixi/envs/default/lib/python3.12/site-packages/libpysal/weights/weights.py:1685: UserWarning: The weights matrix is not fully connected: \n",
      " There are 32 disconnected components.\n",
      "  w = W(neighbors, weights, ids, silence_warnings=silence_warnings)\n"
     ]
    },
    {
     "name": "stdout",
     "output_type": "stream",
     "text": [
      "Built tess graph knn=1\n",
      "Built buildings graph knn=1\n",
      "Built streets graph knn=1\n",
      "Built enclosure graph knn=1\n",
      "Built nodes graph knn=1\n"
     ]
    },
    {
     "name": "stderr",
     "output_type": "stream",
     "text": [
      "/home/krasen/morphometrics/.pixi/envs/default/lib/python3.12/site-packages/libpysal/weights/weights.py:1685: UserWarning: The weights matrix is not fully connected: \n",
      " There are 32 disconnected components.\n",
      "  w = W(neighbors, weights, ids, silence_warnings=silence_warnings)\n"
     ]
    },
    {
     "name": "stdout",
     "output_type": "stream",
     "text": [
      "Built tess graph knn=1\n",
      "Built buildings graph knn=1\n",
      "Built streets graph knn=1\n",
      "Built enclosure graph knn=1\n",
      "Built nodes graph knn=1\n"
     ]
    },
    {
     "name": "stderr",
     "output_type": "stream",
     "text": [
      "/home/krasen/morphometrics/.pixi/envs/default/lib/python3.12/site-packages/libpysal/weights/weights.py:1685: UserWarning: The weights matrix is not fully connected: \n",
      " There are 10 disconnected components.\n",
      "  w = W(neighbors, weights, ids, silence_warnings=silence_warnings)\n"
     ]
    },
    {
     "name": "stdout",
     "output_type": "stream",
     "text": [
      "Built tess graph knn=1\n",
      "Built buildings graph knn=1\n",
      "Built streets graph knn=1\n",
      "Built enclosure graph knn=1\n"
     ]
    },
    {
     "name": "stderr",
     "output_type": "stream",
     "text": [
      "/home/krasen/morphometrics/.pixi/envs/default/lib/python3.12/site-packages/libpysal/weights/weights.py:1685: UserWarning: The weights matrix is not fully connected: \n",
      " There are 35 disconnected components.\n",
      "  w = W(neighbors, weights, ids, silence_warnings=silence_warnings)\n"
     ]
    },
    {
     "name": "stdout",
     "output_type": "stream",
     "text": [
      "Built nodes graph knn=1\n",
      "Built tess graph knn=1\n",
      "Built buildings graph knn=1\n",
      "Built streets graph knn=1\n",
      "Built enclosure graph knn=1\n"
     ]
    },
    {
     "name": "stderr",
     "output_type": "stream",
     "text": [
      "/home/krasen/morphometrics/.pixi/envs/default/lib/python3.12/site-packages/libpysal/weights/weights.py:1685: UserWarning: The weights matrix is not fully connected: \n",
      " There are 36 disconnected components.\n",
      "  w = W(neighbors, weights, ids, silence_warnings=silence_warnings)\n"
     ]
    },
    {
     "name": "stdout",
     "output_type": "stream",
     "text": [
      "Built nodes graph knn=1\n",
      "Built tess graph knn=1\n",
      "Built buildings graph knn=1\n",
      "Built streets graph knn=1\n",
      "Built enclosure graph knn=1\n",
      "Built nodes graph knn=1\n"
     ]
    },
    {
     "name": "stderr",
     "output_type": "stream",
     "text": [
      "/home/krasen/morphometrics/.pixi/envs/default/lib/python3.12/site-packages/libpysal/weights/weights.py:1685: UserWarning: The weights matrix is not fully connected: \n",
      " There are 34 disconnected components.\n",
      "  w = W(neighbors, weights, ids, silence_warnings=silence_warnings)\n"
     ]
    },
    {
     "name": "stdout",
     "output_type": "stream",
     "text": [
      "Built tess graph knn=1\n",
      "Built buildings graph knn=1\n",
      "Built streets graph knn=1\n",
      "Built enclosure graph knn=1\n",
      "Built nodes graph knn=1\n"
     ]
    },
    {
     "name": "stderr",
     "output_type": "stream",
     "text": [
      "/home/krasen/morphometrics/.pixi/envs/default/lib/python3.12/site-packages/libpysal/weights/weights.py:1685: UserWarning: The weights matrix is not fully connected: \n",
      " There are 8 disconnected components.\n",
      "  w = W(neighbors, weights, ids, silence_warnings=silence_warnings)\n"
     ]
    },
    {
     "name": "stdout",
     "output_type": "stream",
     "text": [
      "Built tess graph knn=1\n",
      "Built buildings graph knn=1\n",
      "Built streets graph knn=1\n",
      "Built enclosure graph knn=1\n",
      "Built nodes graph knn=1\n"
     ]
    },
    {
     "name": "stderr",
     "output_type": "stream",
     "text": [
      "/home/krasen/morphometrics/.pixi/envs/default/lib/python3.12/site-packages/libpysal/weights/weights.py:1685: UserWarning: The weights matrix is not fully connected: \n",
      " There are 7 disconnected components.\n",
      "  w = W(neighbors, weights, ids, silence_warnings=silence_warnings)\n"
     ]
    },
    {
     "name": "stdout",
     "output_type": "stream",
     "text": [
      "Built tess graph knn=1\n",
      "Built buildings graph knn=1\n",
      "Built streets graph knn=1\n",
      "Built enclosure graph knn=1\n",
      "Built nodes graph knn=1\n"
     ]
    },
    {
     "name": "stderr",
     "output_type": "stream",
     "text": [
      "/home/krasen/morphometrics/.pixi/envs/default/lib/python3.12/site-packages/libpysal/weights/weights.py:1685: UserWarning: The weights matrix is not fully connected: \n",
      " There are 20 disconnected components.\n",
      "  w = W(neighbors, weights, ids, silence_warnings=silence_warnings)\n"
     ]
    },
    {
     "name": "stdout",
     "output_type": "stream",
     "text": [
      "Built tess graph knn=1\n",
      "Built buildings graph knn=1\n",
      "Built streets graph knn=1\n",
      "Built enclosure graph knn=1\n",
      "Built nodes graph knn=1\n"
     ]
    },
    {
     "name": "stderr",
     "output_type": "stream",
     "text": [
      "/home/krasen/morphometrics/.pixi/envs/default/lib/python3.12/site-packages/libpysal/weights/weights.py:1685: UserWarning: The weights matrix is not fully connected: \n",
      " There are 20 disconnected components.\n",
      "  w = W(neighbors, weights, ids, silence_warnings=silence_warnings)\n"
     ]
    },
    {
     "name": "stdout",
     "output_type": "stream",
     "text": [
      "Built tess graph knn=1\n",
      "Built buildings graph knn=1\n",
      "Built streets graph knn=1\n",
      "Built enclosure graph knn=1\n",
      "Built nodes graph knn=1\n"
     ]
    },
    {
     "name": "stderr",
     "output_type": "stream",
     "text": [
      "/home/krasen/morphometrics/.pixi/envs/default/lib/python3.12/site-packages/libpysal/weights/weights.py:1685: UserWarning: The weights matrix is not fully connected: \n",
      " There are 10 disconnected components.\n",
      "  w = W(neighbors, weights, ids, silence_warnings=silence_warnings)\n"
     ]
    },
    {
     "name": "stdout",
     "output_type": "stream",
     "text": [
      "Built tess graph knn=1\n",
      "Built buildings graph knn=1\n",
      "Built streets graph knn=1\n",
      "Built enclosure graph knn=1\n",
      "Built nodes graph knn=1\n"
     ]
    },
    {
     "name": "stderr",
     "output_type": "stream",
     "text": [
      "/home/krasen/morphometrics/.pixi/envs/default/lib/python3.12/site-packages/libpysal/weights/weights.py:1685: UserWarning: The weights matrix is not fully connected: \n",
      " There are 14 disconnected components.\n",
      "  w = W(neighbors, weights, ids, silence_warnings=silence_warnings)\n"
     ]
    },
    {
     "name": "stdout",
     "output_type": "stream",
     "text": [
      "Built tess graph knn=1\n",
      "Built buildings graph knn=1\n",
      "Built streets graph knn=1\n",
      "Built enclosure graph knn=1\n",
      "Built nodes graph knn=1\n"
     ]
    },
    {
     "name": "stderr",
     "output_type": "stream",
     "text": [
      "/home/krasen/morphometrics/.pixi/envs/default/lib/python3.12/site-packages/libpysal/weights/weights.py:1685: UserWarning: The weights matrix is not fully connected: \n",
      " There are 11 disconnected components.\n",
      "  w = W(neighbors, weights, ids, silence_warnings=silence_warnings)\n"
     ]
    },
    {
     "name": "stdout",
     "output_type": "stream",
     "text": [
      "Built tess graph knn=1\n",
      "Built buildings graph knn=1\n",
      "Built streets graph knn=1\n",
      "Built enclosure graph knn=1\n",
      "Built nodes graph knn=1\n"
     ]
    },
    {
     "name": "stderr",
     "output_type": "stream",
     "text": [
      "/home/krasen/morphometrics/.pixi/envs/default/lib/python3.12/site-packages/libpysal/weights/weights.py:1685: UserWarning: The weights matrix is not fully connected: \n",
      " There are 17 disconnected components.\n",
      "  w = W(neighbors, weights, ids, silence_warnings=silence_warnings)\n"
     ]
    },
    {
     "name": "stdout",
     "output_type": "stream",
     "text": [
      "Built tess graph knn=1\n",
      "Built buildings graph knn=1\n",
      "Built streets graph knn=1\n",
      "Built enclosure graph knn=1\n",
      "Built nodes graph knn=1\n"
     ]
    },
    {
     "name": "stderr",
     "output_type": "stream",
     "text": [
      "/home/krasen/morphometrics/.pixi/envs/default/lib/python3.12/site-packages/libpysal/weights/weights.py:1685: UserWarning: The weights matrix is not fully connected: \n",
      " There are 10 disconnected components.\n",
      "  w = W(neighbors, weights, ids, silence_warnings=silence_warnings)\n"
     ]
    },
    {
     "name": "stdout",
     "output_type": "stream",
     "text": [
      "Built tess graph knn=1\n",
      "Built buildings graph knn=1\n",
      "Built streets graph knn=1\n",
      "Built enclosure graph knn=1\n",
      "Built nodes graph knn=1\n"
     ]
    },
    {
     "name": "stderr",
     "output_type": "stream",
     "text": [
      "/home/krasen/morphometrics/.pixi/envs/default/lib/python3.12/site-packages/libpysal/weights/weights.py:1685: UserWarning: The weights matrix is not fully connected: \n",
      " There are 26 disconnected components.\n",
      "  w = W(neighbors, weights, ids, silence_warnings=silence_warnings)\n"
     ]
    },
    {
     "name": "stdout",
     "output_type": "stream",
     "text": [
      "Built tess graph knn=1\n",
      "Built buildings graph knn=1\n",
      "Built streets graph knn=1\n",
      "Built enclosure graph knn=1\n",
      "Built nodes graph knn=1\n"
     ]
    },
    {
     "name": "stderr",
     "output_type": "stream",
     "text": [
      "/home/krasen/morphometrics/.pixi/envs/default/lib/python3.12/site-packages/libpysal/weights/weights.py:1685: UserWarning: The weights matrix is not fully connected: \n",
      " There are 14 disconnected components.\n",
      "  w = W(neighbors, weights, ids, silence_warnings=silence_warnings)\n"
     ]
    },
    {
     "name": "stdout",
     "output_type": "stream",
     "text": [
      "Built tess graph knn=1\n",
      "Built buildings graph knn=1\n",
      "Built streets graph knn=1\n",
      "Built enclosure graph knn=1\n",
      "Built nodes graph knn=1\n"
     ]
    },
    {
     "name": "stderr",
     "output_type": "stream",
     "text": [
      "/home/krasen/morphometrics/.pixi/envs/default/lib/python3.12/site-packages/libpysal/weights/weights.py:1685: UserWarning: The weights matrix is not fully connected: \n",
      " There are 10 disconnected components.\n",
      "  w = W(neighbors, weights, ids, silence_warnings=silence_warnings)\n"
     ]
    },
    {
     "name": "stdout",
     "output_type": "stream",
     "text": [
      "Built tess graph knn=1\n",
      "Built buildings graph knn=1\n",
      "Built streets graph knn=1\n",
      "Built enclosure graph knn=1\n",
      "Built nodes graph knn=1\n"
     ]
    },
    {
     "name": "stderr",
     "output_type": "stream",
     "text": [
      "/home/krasen/morphometrics/.pixi/envs/default/lib/python3.12/site-packages/libpysal/weights/weights.py:1685: UserWarning: The weights matrix is not fully connected: \n",
      " There are 10 disconnected components.\n",
      "  w = W(neighbors, weights, ids, silence_warnings=silence_warnings)\n"
     ]
    }
   ],
   "source": [
    "for region_id, _ in region_hulls.iterrows():\n",
    "\n",
    "    process_region_graphs(\n",
    "        region_id,\n",
    "        graph_dir,\n",
    "        buildings_dir,\n",
    "        streets_dir,\n",
    "        enclosures_dir,\n",
    "        tessellations_dir,\n",
    "    )"
   ]
  },
  {
   "cell_type": "code",
   "execution_count": null,
   "id": "5966a45a-b042-4dcc-8e62-83a9b84d9521",
   "metadata": {},
   "outputs": [],
   "source": []
  },
  {
   "cell_type": "code",
   "execution_count": null,
   "id": "6c2b239a-50f8-4395-a36a-4f5ec26b3a05",
   "metadata": {},
   "outputs": [],
   "source": []
  },
  {
   "cell_type": "markdown",
   "id": "9cb07625-7542-46a0-baa8-536a96101831",
   "metadata": {
    "jp-MarkdownHeadingCollapsed": true
   },
   "source": [
    "## Process morphometrics"
   ]
  },
  {
   "cell_type": "markdown",
   "id": "9dcfe396-bd9c-42de-9fd3-6f699dcdf54d",
   "metadata": {},
   "source": [
    "Run the morphometric character processing pipeline for all regions."
   ]
  },
  {
   "cell_type": "code",
   "execution_count": 7,
   "id": "d3acf6ac-2c12-4713-b880-9198a2570bda",
   "metadata": {},
   "outputs": [],
   "source": [
    "from core.generate_chars import process_single_region_chars, process_building_chars"
   ]
  },
  {
   "cell_type": "code",
   "execution_count": null,
   "id": "c0c61870-b740-4502-9c28-a70017f90c7d",
   "metadata": {
    "scrolled": true
   },
   "outputs": [
    {
     "name": "stdout",
     "output_type": "stream",
     "text": [
      "2025-02-19 20:57:56.485802 ----Processing ------ 4\n",
      "Processing streets\n",
      "Processing enclosures\n",
      "Processing buildings\n",
      "Processing tessellation\n",
      "2025-02-19 20:58:14.990728 ----Processing ------ 5\n",
      "Processing streets\n",
      "Processing enclosures\n",
      "Processing buildings\n"
     ]
    },
    {
     "name": "stderr",
     "output_type": "stream",
     "text": [
      "/home/krasen/morphometrics/manual_deps/momepy/momepy/functional/_shape.py:890: RuntimeWarning: invalid value encountered in arccos\n",
      "  angles = np.arccos(cosine_angle)\n",
      "/home/krasen/morphometrics/manual_deps/momepy/momepy/functional/_shape.py:576: RuntimeWarning: Mean of empty slice\n",
      "  return np.nanmean(np.abs(90 - degrees[true_angles]))\n",
      "/home/krasen/morphometrics/manual_deps/momepy/momepy/functional/_shape.py:890: RuntimeWarning: invalid value encountered in arccos\n",
      "  angles = np.arccos(cosine_angle)\n",
      "/home/krasen/morphometrics/manual_deps/momepy/momepy/functional/_shape.py:737: RuntimeWarning: Mean of empty slice\n",
      "  return Series({\"mean\": np.nanmean(dists), \"std\": np.nanstd(dists)})\n",
      "/home/krasen/morphometrics/.pixi/envs/default/lib/python3.12/site-packages/numpy/lib/_nanfunctions_impl.py:2035: RuntimeWarning: Degrees of freedom <= 0 for slice.\n",
      "  var = nanvar(a, axis=axis, dtype=dtype, out=out, ddof=ddof,\n",
      "/home/krasen/morphometrics/manual_deps/momepy/momepy/functional/_shape.py:890: RuntimeWarning: invalid value encountered in arccos\n",
      "  angles = np.arccos(cosine_angle)\n"
     ]
    },
    {
     "name": "stdout",
     "output_type": "stream",
     "text": [
      "Processing tessellation\n"
     ]
    }
   ],
   "source": [
    "for region_id, _ in region_hulls.iterrows():\n",
    "\n",
    "    process_single_region_chars(\n",
    "        region_id,\n",
    "        graph_dir,\n",
    "        buildings_dir,\n",
    "        streets_dir,\n",
    "        enclosures_dir,\n",
    "        tessellations_dir,\n",
    "        chars_dir\n",
    "    )"
   ]
  },
  {
   "cell_type": "code",
   "execution_count": null,
   "id": "8240de87-fa68-4d09-ac24-9910bc3ee47d",
   "metadata": {},
   "outputs": [],
   "source": []
  },
  {
   "cell_type": "code",
   "execution_count": null,
   "id": "e1113057-1b11-4a48-93df-77a2b5864bec",
   "metadata": {},
   "outputs": [],
   "source": []
  },
  {
   "cell_type": "markdown",
   "id": "b5327516-7872-41a2-8851-9df1bc5e3f42",
   "metadata": {
    "jp-MarkdownHeadingCollapsed": true
   },
   "source": [
    "## Merge data"
   ]
  },
  {
   "cell_type": "markdown",
   "id": "49ed9296-7c6b-41a1-905e-d136797a6e7c",
   "metadata": {},
   "source": [
    "Merge all the building, street, nodes, enclosures and ETCs morphometric."
   ]
  },
  {
   "cell_type": "code",
   "execution_count": null,
   "id": "ff3e8aa3-8641-4433-86f2-d6722094fc71",
   "metadata": {},
   "outputs": [],
   "source": []
  },
  {
   "cell_type": "code",
   "execution_count": 6,
   "id": "a9a83bef-5691-49df-9c5c-53ec10b5bf7e",
   "metadata": {},
   "outputs": [],
   "source": [
    "from core.generate_merged_primary_chars import merge_into_primary\n",
    "from core.utils import used_keys"
   ]
  },
  {
   "cell_type": "code",
   "execution_count": null,
   "id": "d0fd15f1-27c3-4bb4-a836-c9f4186022aa",
   "metadata": {},
   "outputs": [],
   "source": []
  },
  {
   "cell_type": "code",
   "execution_count": 7,
   "id": "d08d4735-3b29-4a3e-8922-b0a58e3b1132",
   "metadata": {},
   "outputs": [],
   "source": [
    "for region_id, _ in region_hulls.iterrows():\n",
    "    tessellation = gpd.read_parquet(chars_dir + f\"tessellations_chars_{region_id}.parquet\")\n",
    "    buildings = gpd.read_parquet(chars_dir + f\"buildings_chars_{region_id}.parquet\")\n",
    "    enclosures = gpd.read_parquet(chars_dir + f\"enclosures_chars_{region_id}.parquet\")\n",
    "    streets = gpd.read_parquet(chars_dir + f\"streets_chars_{region_id}.parquet\")\n",
    "    nodes = gpd.read_parquet(chars_dir + f\"nodes_chars_{region_id}.parquet\")\n",
    "    \n",
    "    \n",
    "    merged = pd.merge(\n",
    "        tessellation.drop(columns=[\"geometry\"]),\n",
    "        buildings.drop(columns=[\"nodeID\", \"geometry\", 'nID']),\n",
    "        right_index=True,\n",
    "        left_index=True,\n",
    "        how=\"left\",\n",
    "    )\n",
    "    \n",
    "    merged = merged.merge(\n",
    "        enclosures.drop(columns=\"geometry\"),\n",
    "        right_on=\"eID\",\n",
    "        left_on=\"enclosure_index\",\n",
    "        how=\"left\",\n",
    "    )\n",
    "    \n",
    "    merged = merged.merge(streets.drop(columns=\"geometry\"), on=\"nID\", how=\"left\")\n",
    "    merged = merged.merge(nodes.drop(columns=\"geometry\"), on=\"nodeID\", how=\"left\")\n",
    "    \n",
    "    merged = merged.drop(\n",
    "        columns=[\n",
    "            \"nID\",\n",
    "            \"eID\",\n",
    "            \"nodeID\",\n",
    "            \"mm_len\",\n",
    "            \"cdsbool\",\n",
    "            \"node_start\",\n",
    "            \"node_end\",\n",
    "            # \"x\",\n",
    "            # \"y\",\n",
    "            \"enclosure_index\",\n",
    "            # \"id\",\n",
    "            # \"osm_id\",\n",
    "            # \"index\",  ## maybe keep\n",
    "        ]\n",
    "    )\n",
    "    merged = merged.set_index(tessellation.index)\n",
    "    \n",
    "    primary = merged[list(used_keys.keys())]\n",
    "    primary.to_parquet(chars_dir + f'primary_chars_{region_id}.parquet')"
   ]
  },
  {
   "cell_type": "code",
   "execution_count": null,
   "id": "8fffe1e4-141f-413e-933b-cc12aff223f7",
   "metadata": {},
   "outputs": [],
   "source": []
  },
  {
   "cell_type": "code",
   "execution_count": null,
   "id": "af5cd5a7-e83e-43f1-82f8-16e2442aded7",
   "metadata": {},
   "outputs": [],
   "source": []
  },
  {
   "cell_type": "markdown",
   "id": "e089f4aa-04b6-44ba-ab6a-7928b2043e5b",
   "metadata": {},
   "source": [
    "## Generate spatial lag"
   ]
  },
  {
   "cell_type": "code",
   "execution_count": 5,
   "id": "7d391534-1515-4d85-b9ae-da0ac68286bb",
   "metadata": {},
   "outputs": [],
   "source": [
    "from core.generate_context import spatially_weighted_partial_lag, parallel_higher_order_context\n",
    "import numpy as np\n",
    "from libpysal.graph import read_parquet\n",
    "import shapely\n",
    "import geopandas as gpd\n",
    "import pandas as pd"
   ]
  },
  {
   "cell_type": "code",
   "execution_count": 6,
   "id": "96573990-eb52-4e85-b627-21a266854543",
   "metadata": {},
   "outputs": [],
   "source": [
    "spatial_lag = 3\n",
    "\n",
    "\n",
    "kernel ='inverse' \n",
    "n_splits = 10\n",
    "bandwidth_type = -1"
   ]
  },
  {
   "cell_type": "code",
   "execution_count": 7,
   "id": "50f0e4d0-1120-49c9-bd4c-31c26e30f413",
   "metadata": {},
   "outputs": [
    {
     "data": {
      "text/plain": [
       "(474, 1)"
      ]
     },
     "execution_count": 7,
     "metadata": {},
     "output_type": "execute_result"
    }
   ],
   "source": [
    "graph_dir = '/data/uscuni-eurofab/processed_data/neigh_graphs/'\n",
    "chars_dir = '/data/uscuni-eurofab/processed_data/chars/'\n",
    "\n",
    "regions_datadir = \"/data/uscuni-eurofab/\"\n",
    "region_hulls = gpd.read_parquet(\n",
    "        regions_datadir + \"regions/\" + \"ms_ce_region_hulls.parquet\"\n",
    "    )\n",
    "region_hulls.shape"
   ]
  },
  {
   "cell_type": "markdown",
   "id": "75231da2-1afd-42dc-aec6-77c965c803a1",
   "metadata": {},
   "source": [
    "Spatially weighted context lag"
   ]
  },
  {
   "cell_type": "code",
   "execution_count": 8,
   "id": "df09f1f7-6c07-4274-8bdd-fb8dd65781c5",
   "metadata": {
    "scrolled": true
   },
   "outputs": [
    {
     "name": "stdout",
     "output_type": "stream",
     "text": [
      "4\n",
      "5\n",
      "20\n",
      "356\n",
      "401\n",
      "646\n",
      "687\n",
      "810\n",
      "1014\n",
      "1049\n",
      "1054\n",
      "1117\n",
      "1321\n",
      "1476\n",
      "1598\n",
      "1642\n",
      "1827\n",
      "1940\n",
      "2110\n",
      "2112\n",
      "2268\n",
      "2304\n",
      "2485\n",
      "2779\n",
      "2846\n",
      "2885\n",
      "2997\n",
      "3086\n",
      "3147\n",
      "3256\n",
      "3335\n",
      "3408\n",
      "3415\n",
      "3462\n",
      "3631\n",
      "3751\n",
      "3758\n",
      "3770\n",
      "3888\n",
      "3892\n",
      "3907\n",
      "4040\n",
      "4066\n",
      "4347\n",
      "4356\n",
      "4798\n",
      "4833\n",
      "5084\n",
      "5388\n",
      "5513\n",
      "5832\n",
      "6004\n",
      "6037\n",
      "6085\n",
      "6090\n",
      "6108\n",
      "6574\n",
      "6612\n",
      "6738\n",
      "6918\n",
      "7098\n",
      "7111\n",
      "7125\n",
      "7355\n",
      "7607\n",
      "7634\n",
      "7674\n",
      "7688\n",
      "7823\n",
      "7867\n",
      "7962\n",
      "8160\n",
      "8213\n",
      "8245\n",
      "8272\n",
      "8320\n",
      "8360\n",
      "8438\n",
      "8854\n",
      "9048\n",
      "9147\n",
      "9310\n",
      "9353\n",
      "9656\n",
      "9678\n",
      "9728\n",
      "9754\n",
      "9830\n",
      "9871\n",
      "9981\n",
      "10078\n",
      "10135\n",
      "10196\n",
      "10385\n",
      "10446\n",
      "10454\n",
      "10574\n",
      "10771\n",
      "10846\n",
      "10939\n",
      "10957\n",
      "10962\n",
      "11055\n",
      "11196\n",
      "11282\n",
      "11345\n",
      "11633\n",
      "11700\n",
      "11785\n",
      "11818\n",
      "11855\n",
      "11860\n",
      "11944\n",
      "12041\n",
      "12214\n",
      "12311\n",
      "12363\n",
      "12458\n",
      "12493\n",
      "12502\n",
      "12511\n",
      "12551\n",
      "12590\n",
      "12647\n",
      "12815\n",
      "13347\n",
      "13348\n",
      "13385\n",
      "13475\n",
      "13566\n",
      "13633\n",
      "13928\n",
      "14064\n",
      "14137\n",
      "14242\n",
      "14328\n",
      "14404\n",
      "14459\n",
      "14496\n",
      "14663\n",
      "14759\n",
      "14766\n",
      "14946\n",
      "15176\n",
      "15241\n",
      "15338\n",
      "15351\n",
      "15406\n",
      "15416\n",
      "15882\n",
      "16414\n",
      "16430\n",
      "16439\n",
      "17204\n",
      "17373\n",
      "17744\n",
      "17780\n",
      "17846\n",
      "17892\n",
      "17933\n",
      "18116\n",
      "18127\n",
      "18230\n",
      "19263\n",
      "19442\n",
      "19537\n",
      "19811\n",
      "19906\n",
      "20034\n",
      "20332\n",
      "20490\n",
      "20556\n",
      "20796\n",
      "20861\n",
      "21115\n",
      "21229\n",
      "21365\n",
      "21811\n",
      "22026\n",
      "22246\n",
      "22417\n",
      "22543\n",
      "22552\n",
      "23103\n",
      "23108\n",
      "23891\n",
      "24036\n",
      "24098\n",
      "24121\n",
      "24362\n",
      "24609\n",
      "24665\n",
      "25001\n",
      "25412\n",
      "25423\n",
      "25542\n",
      "25779\n",
      "25875\n",
      "25924\n",
      "25945\n",
      "25951\n",
      "26132\n",
      "26568\n",
      "26659\n",
      "26798\n",
      "27160\n",
      "27223\n",
      "27224\n",
      "27423\n",
      "27610\n",
      "27765\n",
      "27832\n",
      "27846\n",
      "28020\n",
      "28131\n",
      "28132\n",
      "28318\n",
      "28858\n",
      "28907\n",
      "29070\n",
      "29520\n",
      "29591\n",
      "29595\n",
      "30057\n",
      "30339\n",
      "30406\n",
      "30718\n",
      "30802\n",
      "30879\n",
      "30976\n",
      "31083\n",
      "31361\n",
      "31466\n",
      "31810\n",
      "31952\n",
      "32398\n",
      "32484\n",
      "32698\n",
      "32854\n",
      "32928\n",
      "33078\n",
      "33284\n",
      "33413\n",
      "33475\n",
      "33559\n",
      "33710\n",
      "33764\n",
      "33899\n",
      "33954\n",
      "33987\n",
      "34203\n",
      "34239\n",
      "34737\n",
      "34746\n",
      "34842\n",
      "34910\n",
      "34995\n",
      "35093\n",
      "35245\n",
      "35381\n",
      "35747\n",
      "36318\n",
      "36322\n",
      "36469\n",
      "36518\n",
      "36673\n",
      "36704\n",
      "36769\n",
      "36937\n",
      "37025\n",
      "37052\n",
      "37215\n",
      "37507\n",
      "37680\n",
      "37901\n",
      "37959\n",
      "38118\n",
      "38266\n",
      "38404\n",
      "38689\n",
      "38711\n",
      "38834\n",
      "38944\n",
      "39222\n",
      "39227\n",
      "39379\n",
      "39679\n",
      "40159\n",
      "40279\n",
      "40343\n",
      "40994\n",
      "41074\n",
      "41392\n",
      "41479\n",
      "41553\n",
      "41592\n",
      "41720\n",
      "42149\n",
      "42217\n",
      "42778\n",
      "42900\n",
      "43046\n",
      "43163\n",
      "43358\n",
      "43697\n",
      "43706\n",
      "44026\n",
      "44124\n",
      "44296\n",
      "44370\n",
      "44818\n",
      "44954\n",
      "45036\n",
      "45229\n",
      "45232\n",
      "45255\n",
      "45287\n",
      "45693\n",
      "45712\n",
      "45927\n",
      "45982\n",
      "46007\n",
      "46134\n",
      "46356\n",
      "46617\n",
      "47043\n",
      "47145\n",
      "47182\n",
      "47309\n",
      "47986\n",
      "48005\n",
      "48597\n",
      "48608\n",
      "48627\n",
      "48972\n",
      "49034\n",
      "49124\n",
      "49274\n",
      "49375\n",
      "49577\n",
      "50118\n",
      "50194\n",
      "50358\n",
      "50553\n",
      "50899\n",
      "50990\n",
      "51150\n",
      "51204\n",
      "51394\n",
      "51406\n",
      "51741\n",
      "51847\n",
      "51931\n",
      "52205\n",
      "53023\n",
      "53391\n",
      "53395\n",
      "53644\n",
      "53674\n",
      "53811\n",
      "53816\n",
      "54043\n",
      "54449\n",
      "54500\n",
      "54902\n",
      "55045\n",
      "55183\n",
      "55255\n",
      "55407\n",
      "55421\n",
      "55554\n",
      "55981\n",
      "56018\n",
      "56155\n",
      "57071\n",
      "57160\n",
      "57400\n",
      "57642\n",
      "57659\n",
      "57923\n",
      "58459\n",
      "58597\n",
      "59055\n",
      "59218\n",
      "59744\n",
      "60257\n",
      "60384\n",
      "60640\n",
      "60988\n",
      "61019\n",
      "61065\n",
      "61071\n",
      "61320\n",
      "61437\n",
      "61563\n",
      "62171\n",
      "62297\n",
      "62341\n",
      "62562\n",
      "62749\n",
      "62764\n",
      "63344\n",
      "63357\n",
      "63677\n",
      "63758\n",
      "63855\n",
      "63960\n",
      "64539\n",
      "64546\n",
      "64638\n",
      "64807\n",
      "65014\n",
      "65057\n",
      "65198\n",
      "65371\n",
      "65565\n",
      "65630\n",
      "65680\n",
      "66292\n",
      "66335\n",
      "66753\n",
      "67169\n",
      "67491\n",
      "67612\n",
      "68353\n",
      "68706\n",
      "68876\n",
      "68882\n",
      "69134\n",
      "69159\n",
      "69198\n",
      "69502\n",
      "70724\n",
      "70832\n",
      "70993\n",
      "71005\n",
      "71006\n",
      "71021\n",
      "71935\n",
      "72129\n",
      "72807\n",
      "72892\n",
      "73061\n",
      "73516\n",
      "73704\n",
      "73741\n",
      "74731\n",
      "75342\n",
      "75509\n",
      "75745\n",
      "76136\n",
      "76353\n",
      "76485\n",
      "77286\n",
      "77565\n",
      "77791\n",
      "78483\n",
      "78714\n",
      "79306\n",
      "80132\n",
      "80151\n",
      "80175\n",
      "80385\n",
      "80622\n",
      "80892\n",
      "81218\n",
      "81675\n",
      "81914\n",
      "82077\n",
      "82594\n",
      "82632\n",
      "82799\n",
      "83254\n",
      "83289\n",
      "83458\n",
      "83752\n",
      "84131\n",
      "84201\n",
      "84232\n",
      "84542\n",
      "84568\n",
      "85004\n",
      "85118\n",
      "85345\n",
      "86120\n",
      "86197\n",
      "86533\n",
      "86686\n",
      "86688\n",
      "86691\n",
      "86878\n",
      "86974\n",
      "86999\n",
      "87377\n",
      "87722\n",
      "87781\n",
      "87987\n",
      "88191\n",
      "88233\n",
      "88782\n",
      "89293\n",
      "89298\n",
      "89686\n",
      "89824\n",
      "90010\n",
      "90283\n",
      "90357\n",
      "90905\n",
      "90996\n",
      "91132\n",
      "91199\n",
      "91484\n",
      "92200\n",
      "92570\n",
      "93688\n",
      "94293\n",
      "94722\n",
      "94733\n",
      "95532\n",
      "95556\n",
      "95625\n",
      "95783\n",
      "95833\n",
      "95876\n",
      "96460\n",
      "96489\n",
      "96543\n",
      "96840\n",
      "97391\n",
      "97581\n",
      "97670\n",
      "97733\n",
      "97783\n",
      "98043\n",
      "98105\n",
      "98208\n",
      "98254\n",
      "98402\n",
      "98561\n",
      "99170\n",
      "99298\n",
      "99449\n",
      "99663\n",
      "99840\n",
      "99844\n",
      "99890\n",
      "99973\n",
      "100065\n",
      "100273\n",
      "100502\n",
      "100588\n",
      "100668\n",
      "100886\n",
      "100951\n",
      "101004\n",
      "101076\n",
      "101276\n",
      "101333\n",
      "101468\n",
      "101479\n",
      "101552\n",
      "101573\n",
      "101868\n",
      "102307\n",
      "102483\n",
      "102649\n",
      "102660\n",
      "102728\n",
      "102951\n",
      "103240\n",
      "103310\n",
      "103669\n",
      "103701\n",
      "103757\n",
      "103841\n",
      "103955\n",
      "103995\n",
      "104650\n",
      "104689\n",
      "104700\n",
      "104774\n",
      "104942\n",
      "105139\n",
      "105549\n",
      "105598\n",
      "105620\n",
      "106235\n",
      "106236\n",
      "106409\n",
      "106603\n",
      "106690\n",
      "106876\n",
      "106891\n",
      "106928\n",
      "106972\n",
      "107132\n",
      "107471\n",
      "107621\n",
      "107675\n",
      "107744\n",
      "108119\n",
      "108129\n",
      "108805\n",
      "108885\n",
      "108886\n",
      "108938\n",
      "109204\n",
      "109339\n",
      "109648\n",
      "109769\n",
      "109915\n",
      "110149\n",
      "110569\n",
      "110785\n",
      "111027\n",
      "111785\n",
      "111990\n",
      "112303\n",
      "112689\n",
      "112750\n",
      "113056\n",
      "113175\n",
      "113257\n",
      "113603\n",
      "113842\n",
      "114614\n",
      "114684\n",
      "115038\n",
      "115302\n",
      "115459\n",
      "115629\n",
      "116188\n",
      "116245\n",
      "116433\n",
      "116665\n",
      "117011\n",
      "117344\n",
      "117715\n",
      "117754\n",
      "117987\n",
      "118186\n",
      "118968\n",
      "119151\n",
      "119682\n",
      "119838\n",
      "120289\n",
      "120682\n",
      "120707\n",
      "121047\n",
      "121247\n",
      "121367\n",
      "121511\n",
      "121543\n",
      "121638\n",
      "121880\n",
      "122862\n",
      "123006\n",
      "123161\n",
      "123183\n",
      "123496\n",
      "123530\n",
      "123553\n",
      "123931\n",
      "124010\n",
      "124188\n",
      "124343\n",
      "124658\n",
      "124693\n",
      "125382\n",
      "125435\n",
      "125595\n",
      "125714\n",
      "125931\n",
      "126020\n",
      "126123\n",
      "126342\n",
      "126817\n",
      "126919\n",
      "127339\n",
      "127965\n",
      "128383\n",
      "129133\n",
      "129633\n",
      "129657\n",
      "129981\n",
      "130016\n",
      "130054\n",
      "130057\n",
      "130435\n",
      "130457\n",
      "130576\n",
      "130652\n",
      "131601\n",
      "131732\n",
      "132082\n",
      "132096\n",
      "132420\n",
      "132991\n",
      "133341\n",
      "133415\n",
      "133506\n",
      "133629\n",
      "133675\n",
      "133728\n",
      "134690\n",
      "134697\n",
      "134988\n",
      "135194\n",
      "135398\n",
      "CPU times: user 1d 9h 27min 44s, sys: 6h 18min 56s, total: 1d 15h 46min 40s\n",
      "Wall time: 2h 14min 59s\n"
     ]
    }
   ],
   "source": [
    "%%time\n",
    "\n",
    "for region_id in region_hulls.index:\n",
    "    \n",
    "    print(region_id)    \n",
    "    \n",
    "    # setup data for the spatial lag calculations\n",
    "    X_train = pd.read_parquet(chars_dir + f'primary_chars_{region_id}.parquet')\n",
    "    graph = read_parquet(graph_dir + f\"tessellation_graph_{region_id}.parquet\")\n",
    "    tessellation = gpd.read_parquet(\n",
    "            tessellations_dir + f\"tessellation_{region_id}.parquet\"\n",
    "    )\n",
    "    centroids = shapely.get_coordinates(tessellation.representative_point())\n",
    "    \n",
    "    # calculate and store the lag\n",
    "    lag = spatially_weighted_partial_lag(X_train, graph, centroids, kernel=kernel, k=spatial_lag, n_splits=n_splits, bandwidth=bandwidth_type)\n",
    "    combined_data = X_train.join(lag, how='inner')\n",
    "    combined_data.to_parquet(f'{chars_dir}lag_chars_{region_id}_{kernel}_{spatial_lag}_{bandwidth_type}.parquet')"
   ]
  },
  {
   "cell_type": "code",
   "execution_count": null,
   "id": "26a06685-2532-439a-b398-f15e875a34ab",
   "metadata": {},
   "outputs": [],
   "source": []
  },
  {
   "cell_type": "code",
   "execution_count": null,
   "id": "fc9e3cbe-9843-4cff-b0c5-f161d17548ff",
   "metadata": {},
   "outputs": [],
   "source": []
  },
  {
   "cell_type": "code",
   "execution_count": null,
   "id": "a963986f-c76c-40f3-8bee-6ef92b96d9a7",
   "metadata": {},
   "outputs": [],
   "source": []
  },
  {
   "cell_type": "markdown",
   "id": "351faf5f-f40e-4b1e-a251-07a63b55fb00",
   "metadata": {},
   "source": [
    "Equal spatial weights"
   ]
  },
  {
   "cell_type": "code",
   "execution_count": 8,
   "id": "014ab0cb-cc12-4532-abee-bf21fa7dd1ce",
   "metadata": {
    "scrolled": true
   },
   "outputs": [
    {
     "name": "stdout",
     "output_type": "stream",
     "text": [
      "19\n",
      "24\n",
      "33\n",
      "478\n",
      "754\n",
      "817\n",
      "1049\n",
      "1485\n",
      "1677\n",
      "2415\n",
      "2513\n",
      "2707\n",
      "2785\n",
      "2790\n",
      "2820\n",
      "3228\n",
      "3307\n",
      "3313\n",
      "3357\n",
      "3540\n",
      "3661\n",
      "3762\n",
      "3806\n",
      "4271\n",
      "4285\n",
      "4640\n",
      "4763\n",
      "5175\n",
      "5189\n",
      "5320\n",
      "5429\n",
      "5874\n",
      "6337\n",
      "6351\n",
      "6477\n",
      "6858\n",
      "6881\n",
      "7113\n",
      "7381\n",
      "7411\n",
      "7640\n",
      "7693\n",
      "7728\n",
      "7921\n",
      "7924\n",
      "8014\n",
      "8087\n",
      "8147\n",
      "8440\n",
      "8659\n",
      "8927\n",
      "8960\n",
      "9560\n",
      "9840\n",
      "9887\n",
      "10197\n",
      "10283\n",
      "10600\n",
      "10673\n",
      "10764\n",
      "10875\n",
      "11024\n",
      "11178\n",
      "11550\n",
      "11623\n",
      "11640\n",
      "12080\n",
      "12222\n",
      "12247\n",
      "12347\n",
      "12401\n",
      "12546\n",
      "12614\n",
      "12649\n",
      "12695\n",
      "12736\n",
      "13285\n",
      "13496\n",
      "13497\n",
      "14086\n",
      "14327\n",
      "14383\n",
      "14605\n",
      "14836\n",
      "15151\n",
      "15308\n",
      "15362\n",
      "15415\n",
      "15540\n",
      "15560\n",
      "15646\n",
      "16446\n",
      "16582\n",
      "16687\n",
      "17219\n",
      "17720\n",
      "17763\n",
      "17808\n",
      "17857\n",
      "17874\n",
      "17951\n",
      "18006\n",
      "18143\n",
      "18215\n",
      "19325\n",
      "19474\n",
      "20008\n",
      "20063\n",
      "20356\n",
      "20573\n",
      "20597\n",
      "20811\n",
      "21128\n",
      "22022\n",
      "22398\n",
      "22633\n",
      "22770\n",
      "23227\n",
      "23621\n",
      "23941\n",
      "24079\n",
      "24141\n",
      "24683\n",
      "24737\n",
      "25065\n",
      "25497\n",
      "25588\n",
      "25814\n",
      "25964\n",
      "26146\n",
      "26642\n",
      "26773\n",
      "27374\n",
      "27700\n",
      "27783\n",
      "27997\n",
      "28059\n",
      "28060\n",
      "28237\n",
      "28601\n",
      "28751\n",
      "28795\n",
      "28961\n",
      "29387\n",
      "30259\n",
      "30571\n",
      "30662\n",
      "30938\n",
      "31101\n",
      "31696\n",
      "31807\n",
      "32671\n",
      "32890\n",
      "33094\n",
      "33150\n",
      "33415\n",
      "33718\n",
      "33769\n",
      "33803\n",
      "34553\n",
      "34902\n",
      "36043\n",
      "36064\n",
      "36227\n",
      "36327\n",
      "36396\n",
      "36457\n",
      "37246\n",
      "37360\n",
      "37371\n",
      "37637\n",
      "37789\n",
      "37937\n",
      "38374\n",
      "38429\n",
      "38584\n",
      "38606\n",
      "38877\n",
      "39130\n",
      "39903\n",
      "40933\n",
      "41257\n",
      "41618\n",
      "41686\n",
      "42224\n",
      "42437\n",
      "42465\n",
      "42570\n",
      "43084\n",
      "44353\n",
      "44577\n",
      "44580\n",
      "44676\n",
      "44853\n",
      "44980\n",
      "45035\n",
      "45263\n",
      "45342\n",
      "45356\n",
      "45491\n",
      "45681\n",
      "45951\n",
      "45966\n",
      "46050\n",
      "46338\n",
      "46835\n",
      "47308\n",
      "47311\n",
      "47899\n",
      "48569\n",
      "48590\n",
      "50170\n",
      "50415\n",
      "50466\n",
      "50669\n",
      "51186\n",
      "51454\n",
      "51525\n",
      "51553\n",
      "51595\n",
      "52243\n",
      "53006\n",
      "53082\n",
      "53490\n",
      "53658\n",
      "54059\n",
      "54551\n",
      "54724\n",
      "55117\n",
      "55544\n",
      "56004\n",
      "56381\n",
      "56860\n",
      "57118\n",
      "57279\n",
      "57491\n",
      "57959\n",
      "57961\n",
      "58553\n",
      "58714\n",
      "59253\n",
      "60585\n",
      "60752\n",
      "60840\n",
      "60950\n",
      "61323\n",
      "61799\n",
      "61852\n",
      "62599\n",
      "62847\n",
      "63185\n",
      "63950\n",
      "64170\n",
      "64620\n",
      "64720\n",
      "64762\n",
      "64900\n",
      "65086\n",
      "65153\n",
      "65186\n",
      "65204\n",
      "65806\n",
      "66259\n",
      "66807\n",
      "66864\n",
      "67836\n",
      "68214\n",
      "68368\n",
      "68705\n",
      "68900\n",
      "69027\n",
      "70379\n",
      "70515\n",
      "70529\n",
      "70612\n",
      "70786\n",
      "71286\n",
      "71490\n",
      "72623\n",
      "73070\n",
      "73089\n",
      "73094\n",
      "73296\n",
      "73452\n",
      "74302\n",
      "74923\n",
      "75752\n",
      "75990\n",
      "76214\n",
      "77130\n",
      "77145\n",
      "77166\n",
      "77454\n",
      "78090\n",
      "78925\n",
      "79739\n",
      "79783\n",
      "80776\n",
      "81352\n",
      "81530\n",
      "81666\n",
      "81810\n",
      "82184\n",
      "82214\n",
      "82385\n",
      "82403\n",
      "83044\n",
      "83798\n",
      "84160\n",
      "84183\n",
      "84268\n",
      "84986\n",
      "85331\n",
      "86349\n",
      "87058\n",
      "87257\n",
      "87464\n",
      "87553\n",
      "87669\n",
      "88485\n",
      "89034\n",
      "89093\n",
      "89706\n",
      "90747\n",
      "90960\n",
      "91242\n",
      "92304\n",
      "92816\n",
      "94055\n",
      "94482\n",
      "95277\n",
      "95332\n",
      "95578\n",
      "95656\n",
      "96235\n",
      "97027\n",
      "97307\n",
      "97413\n",
      "97707\n",
      "97848\n",
      "97855\n",
      "98159\n",
      "98760\n",
      "98887\n",
      "99047\n",
      "99125\n",
      "99281\n",
      "99430\n",
      "99460\n",
      "99507\n",
      "99758\n",
      "99898\n",
      "100224\n",
      "100304\n",
      "100594\n",
      "100635\n",
      "100722\n",
      "100975\n",
      "101123\n",
      "101252\n",
      "101332\n",
      "101518\n",
      "101969\n",
      "102322\n",
      "102334\n",
      "102389\n",
      "102490\n",
      "102508\n",
      "102938\n",
      "103001\n",
      "103298\n",
      "103643\n",
      "103658\n",
      "103698\n",
      "103735\n",
      "103818\n",
      "104251\n",
      "104358\n",
      "104396\n",
      "104415\n",
      "104653\n",
      "105293\n",
      "105313\n",
      "105392\n",
      "105846\n",
      "105995\n",
      "106753\n",
      "106930\n",
      "106999\n",
      "107265\n",
      "107428\n",
      "107916\n",
      "108140\n",
      "108308\n",
      "108376\n",
      "108648\n",
      "109005\n",
      "109050\n",
      "109585\n",
      "109676\n",
      "109949\n",
      "110157\n",
      "110373\n",
      "111252\n",
      "111314\n",
      "111594\n",
      "111672\n",
      "111683\n",
      "111801\n",
      "112098\n",
      "112842\n",
      "112966\n",
      "113249\n",
      "113487\n",
      "114261\n",
      "114334\n",
      "114685\n",
      "114948\n",
      "115294\n",
      "115954\n",
      "116035\n",
      "116242\n",
      "116830\n",
      "117162\n",
      "117200\n",
      "118465\n",
      "118956\n",
      "119645\n",
      "119966\n",
      "119991\n",
      "120673\n",
      "120825\n",
      "121214\n",
      "122230\n",
      "122372\n",
      "122404\n",
      "122529\n",
      "122904\n",
      "122940\n",
      "123004\n",
      "123370\n",
      "123547\n",
      "124008\n",
      "124022\n",
      "124219\n",
      "124768\n",
      "125010\n",
      "125294\n",
      "125389\n",
      "125591\n",
      "125840\n",
      "126119\n",
      "126381\n",
      "126542\n",
      "126723\n",
      "127149\n",
      "127562\n",
      "128338\n",
      "129117\n",
      "129193\n",
      "129335\n",
      "129409\n",
      "129600\n",
      "130732\n",
      "131498\n",
      "131560\n",
      "132469\n",
      "132728\n",
      "132805\n",
      "133611\n",
      "133765\n",
      "133801\n",
      "134054\n",
      "134356\n",
      "CPU times: user 11h 56min 31s, sys: 3h 37min 51s, total: 15h 34min 22s\n",
      "Wall time: 50min 13s\n"
     ]
    }
   ],
   "source": [
    "%%time\n",
    "\n",
    "for region_id in region_hulls.index:\n",
    "    \n",
    "    print(region_id)    \n",
    "    \n",
    "    # setup data for the spatial lag calculations\n",
    "    X_train = pd.read_parquet(chars_dir + f'primary_chars_{region_id}.parquet')\n",
    "    graph = read_parquet(graph_dir + f\"tessellation_graph_{region_id}.parquet\")\n",
    "\n",
    "    # calculate and store the lag\n",
    "    lag = parallel_higher_order_context(X_train, graph, k=spatial_lag, n_splits=n_splits, output_vals=3)\n",
    "    lag.columns = np.concatenate([(c + \"_15\", c + \"_median\", c + \"_85\") for c in X_train.columns])\n",
    "    combined_data = X_train.join(lag, how='inner')\n",
    "    combined_data.to_parquet(f'{chars_dir}lag_chars_{region_id}_unweighted_{spatial_lag}.parquet')"
   ]
  },
  {
   "cell_type": "code",
   "execution_count": null,
   "id": "3238247f-e5f4-453a-ae2f-b9906d602c5e",
   "metadata": {},
   "outputs": [],
   "source": []
  },
  {
   "cell_type": "code",
   "execution_count": null,
   "id": "c19d2da5-6568-413d-9f06-a6a8357835c0",
   "metadata": {},
   "outputs": [],
   "source": []
  },
  {
   "cell_type": "code",
   "execution_count": null,
   "id": "5c494121-fd52-49dd-9893-3af21646db44",
   "metadata": {},
   "outputs": [],
   "source": []
  },
  {
   "cell_type": "code",
   "execution_count": null,
   "id": "57acd8cb-0c03-48b2-ae6e-5be0c18802b2",
   "metadata": {},
   "outputs": [],
   "source": []
  },
  {
   "cell_type": "code",
   "execution_count": null,
   "id": "b9914bf2-968b-4dcd-a3ef-eeb433eeea72",
   "metadata": {},
   "outputs": [],
   "source": []
  },
  {
   "cell_type": "code",
   "execution_count": null,
   "id": "84c60fff-a890-417c-a67b-34ef3a6ad81e",
   "metadata": {},
   "outputs": [],
   "source": []
  },
  {
   "cell_type": "code",
   "execution_count": null,
   "id": "a20f802a-6bca-4d8c-b9ed-a87641305b5a",
   "metadata": {},
   "outputs": [],
   "source": []
  },
  {
   "cell_type": "code",
   "execution_count": null,
   "id": "22c92a86-b376-4582-acd2-b93f5f8ae997",
   "metadata": {},
   "outputs": [],
   "source": []
  },
  {
   "cell_type": "code",
   "execution_count": null,
   "id": "5de2459c-ff91-41b2-b597-60ec02d8f8c1",
   "metadata": {},
   "outputs": [],
   "source": []
  }
 ],
 "metadata": {
  "kernelspec": {
   "display_name": "Python 3 (ipykernel)",
   "language": "python",
   "name": "python3"
  },
  "language_info": {
   "codemirror_mode": {
    "name": "ipython",
    "version": 3
   },
   "file_extension": ".py",
   "mimetype": "text/x-python",
   "name": "python",
   "nbconvert_exporter": "python",
   "pygments_lexer": "ipython3",
   "version": "3.12.5"
  }
 },
 "nbformat": 4,
 "nbformat_minor": 5
}
