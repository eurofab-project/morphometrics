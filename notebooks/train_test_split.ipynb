{
 "cells": [
  {
   "cell_type": "code",
   "execution_count": 15,
   "id": "8c7ae7ec-86ce-452c-ad98-05d25fa7d94f",
   "metadata": {},
   "outputs": [],
   "source": [
    "# download countries\n",
    "# !wget https://gisco-services.ec.europa.eu/distribution/v2/countries/geojson/CNTR_RG_01M_2024_3035.geojson"
   ]
  },
  {
   "cell_type": "code",
   "execution_count": 1,
   "id": "9bc49b2a-60a7-4be5-bf50-c60f27f4b182",
   "metadata": {},
   "outputs": [],
   "source": [
    "import geopandas as gpd\n",
    "import pandas as pd"
   ]
  },
  {
   "cell_type": "code",
   "execution_count": 2,
   "id": "d20e1f73-dd86-4c88-8cb5-331262db929f",
   "metadata": {},
   "outputs": [],
   "source": [
    "country_names = ['Germany', 'Poland', 'Czechia', 'Slovakia', 'Austria']\n",
    "TRAINING1, TESTING1 = ['Poland', 'Germany', 'Austria', 'Czechia'], ['Slovakia']\n",
    "TRAINING2, TESTING2 = ['Slovakia', 'Germany', 'Austria', 'Czechia'], ['Poland']\n",
    "TRAINING3, TESTING3 = ['Poland', 'Slovakia', 'Austria', 'Czechia'], ['Germany']\n",
    "TRAINING4, TESTING4 = ['Poland', 'Germany', 'Slovakia', 'Czechia'], ['Austria']\n",
    "TRAINING5, TESTING5 = ['Poland', 'Germany', 'Austria', 'Slovakia'], ['Czechia']"
   ]
  },
  {
   "cell_type": "code",
   "execution_count": 3,
   "id": "39914ee7-675e-4c20-a3ac-2ace6703bcba",
   "metadata": {},
   "outputs": [],
   "source": [
    "regions_datadir = \"/data/uscuni-eurofab/\"\n",
    "tessellations_dir = '/data/uscuni-eurofab/processed_data/tessellations/'\n",
    "buildings_dir = '/data/uscuni-eurofab/processed_data/buildings/'\n",
    "\n",
    "data_dir = '/data/uscuni-eurofab/processed_data/chars/'\n",
    "target_dir = '/data/uscuni-eurofab/processed_data/target_clusters/'\n",
    "hex_dir = '/data/uscuni-eurofab/processed_data/hexagons/'\n",
    "\n",
    "region_hulls = gpd.read_parquet(\n",
    "        regions_datadir + \"regions/\" + \"ms_ce_region_hulls.parquet\"\n",
    "    )\n",
    "\n"
   ]
  },
  {
   "cell_type": "code",
   "execution_count": 4,
   "id": "8662a286-5f22-429a-b2e8-5cb747cfc217",
   "metadata": {},
   "outputs": [],
   "source": [
    "countries = gpd.read_file('CNTR_RG_01M_2024_3035.geojson').to_crs(epsg=3035)\n",
    "country_polygons = countries[countries['NAME_ENGL'].isin(country_names)]"
   ]
  },
  {
   "cell_type": "code",
   "execution_count": 5,
   "id": "950eff11-ea6b-402f-b4e7-e9714d5303b1",
   "metadata": {},
   "outputs": [],
   "source": [
    "region_idxs, country_idxs = country_polygons.sindex.query(region_hulls.geometry, predicate='intersects')\n",
    "intersections = region_hulls.iloc[region_idxs].intersection(country_polygons.iloc[country_idxs], align=False).area"
   ]
  },
  {
   "cell_type": "code",
   "execution_count": 6,
   "id": "79640b4d-c79c-444a-871d-1619f4bbd89c",
   "metadata": {},
   "outputs": [
    {
     "data": {
      "text/html": [
       "<div>\n",
       "<style scoped>\n",
       "    .dataframe tbody tr th:only-of-type {\n",
       "        vertical-align: middle;\n",
       "    }\n",
       "\n",
       "    .dataframe tbody tr th {\n",
       "        vertical-align: top;\n",
       "    }\n",
       "\n",
       "    .dataframe thead th {\n",
       "        text-align: right;\n",
       "    }\n",
       "</style>\n",
       "<table border=\"1\" class=\"dataframe\">\n",
       "  <thead>\n",
       "    <tr style=\"text-align: right;\">\n",
       "      <th></th>\n",
       "      <th>CNTR_ID</th>\n",
       "      <th>CNTR_NAME</th>\n",
       "      <th>NAME_ENGL</th>\n",
       "      <th>NAME_FREN</th>\n",
       "      <th>ISO3_CODE</th>\n",
       "      <th>SVRG_UN</th>\n",
       "      <th>CAPT</th>\n",
       "      <th>EU_STAT</th>\n",
       "      <th>EFTA_STAT</th>\n",
       "      <th>CC_STAT</th>\n",
       "      <th>NAME_GERM</th>\n",
       "      <th>geometry</th>\n",
       "    </tr>\n",
       "  </thead>\n",
       "  <tbody>\n",
       "    <tr>\n",
       "      <th>11</th>\n",
       "      <td>AT</td>\n",
       "      <td>Österreich</td>\n",
       "      <td>Austria</td>\n",
       "      <td>Autriche</td>\n",
       "      <td>AUT</td>\n",
       "      <td>UN Member State</td>\n",
       "      <td>Vienna</td>\n",
       "      <td>T</td>\n",
       "      <td>F</td>\n",
       "      <td>F</td>\n",
       "      <td>Österreich</td>\n",
       "      <td>MULTIPOLYGON (((4354847.685 2714710.627, 43552...</td>\n",
       "    </tr>\n",
       "    <tr>\n",
       "      <th>55</th>\n",
       "      <td>CZ</td>\n",
       "      <td>Česká Republika</td>\n",
       "      <td>Czechia</td>\n",
       "      <td>Tchéquie</td>\n",
       "      <td>CZE</td>\n",
       "      <td>UN Member State</td>\n",
       "      <td>Prague</td>\n",
       "      <td>T</td>\n",
       "      <td>F</td>\n",
       "      <td>F</td>\n",
       "      <td>Tschechien</td>\n",
       "      <td>MULTIPOLYGON (((4624842.426 3112217.365, 46255...</td>\n",
       "    </tr>\n",
       "    <tr>\n",
       "      <th>56</th>\n",
       "      <td>DE</td>\n",
       "      <td>Deutschland</td>\n",
       "      <td>Germany</td>\n",
       "      <td>Allemagne</td>\n",
       "      <td>DEU</td>\n",
       "      <td>UN Member State</td>\n",
       "      <td>Berlin</td>\n",
       "      <td>T</td>\n",
       "      <td>F</td>\n",
       "      <td>F</td>\n",
       "      <td>Deutschland</td>\n",
       "      <td>MULTIPOLYGON (((4355225.354 2715902.995, 43548...</td>\n",
       "    </tr>\n",
       "    <tr>\n",
       "      <th>170</th>\n",
       "      <td>PL</td>\n",
       "      <td>Polska</td>\n",
       "      <td>Poland</td>\n",
       "      <td>Pologne</td>\n",
       "      <td>POL</td>\n",
       "      <td>UN Member State</td>\n",
       "      <td>Warsaw</td>\n",
       "      <td>T</td>\n",
       "      <td>F</td>\n",
       "      <td>F</td>\n",
       "      <td>Polen</td>\n",
       "      <td>MULTIPOLYGON (((4852825.195 3556096.333, 48551...</td>\n",
       "    </tr>\n",
       "    <tr>\n",
       "      <th>192</th>\n",
       "      <td>SK</td>\n",
       "      <td>Slovensko</td>\n",
       "      <td>Slovakia</td>\n",
       "      <td>Slovaquie</td>\n",
       "      <td>SVK</td>\n",
       "      <td>UN Member State</td>\n",
       "      <td>Bratislava</td>\n",
       "      <td>T</td>\n",
       "      <td>F</td>\n",
       "      <td>F</td>\n",
       "      <td>Slowakei</td>\n",
       "      <td>MULTIPOLYGON (((5003133.924 2988592.038, 50037...</td>\n",
       "    </tr>\n",
       "  </tbody>\n",
       "</table>\n",
       "</div>"
      ],
      "text/plain": [
       "    CNTR_ID        CNTR_NAME NAME_ENGL  NAME_FREN ISO3_CODE          SVRG_UN  \\\n",
       "11       AT       Österreich   Austria   Autriche       AUT  UN Member State   \n",
       "55       CZ  Česká Republika   Czechia   Tchéquie       CZE  UN Member State   \n",
       "56       DE      Deutschland   Germany  Allemagne       DEU  UN Member State   \n",
       "170      PL           Polska    Poland    Pologne       POL  UN Member State   \n",
       "192      SK        Slovensko  Slovakia  Slovaquie       SVK  UN Member State   \n",
       "\n",
       "           CAPT EU_STAT EFTA_STAT CC_STAT    NAME_GERM  \\\n",
       "11       Vienna       T         F       F   Österreich   \n",
       "55       Prague       T         F       F   Tschechien   \n",
       "56       Berlin       T         F       F  Deutschland   \n",
       "170      Warsaw       T         F       F        Polen   \n",
       "192  Bratislava       T         F       F     Slowakei   \n",
       "\n",
       "                                              geometry  \n",
       "11   MULTIPOLYGON (((4354847.685 2714710.627, 43552...  \n",
       "55   MULTIPOLYGON (((4624842.426 3112217.365, 46255...  \n",
       "56   MULTIPOLYGON (((4355225.354 2715902.995, 43548...  \n",
       "170  MULTIPOLYGON (((4852825.195 3556096.333, 48551...  \n",
       "192  MULTIPOLYGON (((5003133.924 2988592.038, 50037...  "
      ]
     },
     "execution_count": 6,
     "metadata": {},
     "output_type": "execute_result"
    }
   ],
   "source": [
    "country_polygons"
   ]
  },
  {
   "cell_type": "code",
   "execution_count": 7,
   "id": "2d5461bf-c793-4fc9-8b80-7faf7dea48bc",
   "metadata": {},
   "outputs": [],
   "source": [
    "intersection_df = gpd.GeoDataFrame(\n",
    "    {\n",
    "    'region_id': region_hulls.index[region_idxs].values,\n",
    "    'country': country_polygons.iloc[country_idxs, 2].values,\n",
    "    'intersection_area': intersections.values,\n",
    "    'geometry': region_hulls.iloc[region_idxs, 0].values\n",
    "    },\n",
    "    crs=region_hulls.crs\n",
    "                                   \n",
    "                                  \n",
    ")\n",
    "\n",
    "intersection_df = intersection_df.sort_values('intersection_area', ascending=False)\n",
    "intersection_df = intersection_df[~intersection_df.region_id.duplicated()].sort_values('region_id')\n",
    "assert (intersection_df.region_id == region_hulls.index).all()"
   ]
  },
  {
   "cell_type": "code",
   "execution_count": null,
   "id": "e59ec5ba-7cf5-4c9c-b4b4-6b8603a028ab",
   "metadata": {},
   "outputs": [],
   "source": []
  },
  {
   "cell_type": "code",
   "execution_count": null,
   "id": "8421822c-f840-4b55-aeab-f3666bd09fcf",
   "metadata": {},
   "outputs": [],
   "source": []
  },
  {
   "cell_type": "code",
   "execution_count": 8,
   "id": "436e735d-bad8-4c54-9e78-852fc9c7ead0",
   "metadata": {},
   "outputs": [],
   "source": [
    "training_countries = TRAINING1\n",
    "testing_countries = TESTING1"
   ]
  },
  {
   "cell_type": "code",
   "execution_count": null,
   "id": "e10ece68-d4da-415a-a1bb-d7e812e986d1",
   "metadata": {},
   "outputs": [],
   "source": []
  },
  {
   "cell_type": "code",
   "execution_count": 30,
   "id": "4e07258d-11aa-42c4-a034-42b95fa03c5b",
   "metadata": {},
   "outputs": [],
   "source": [
    "training_regions = intersection_df[intersection_df['country'].isin(training_countries)].region_id.values\n",
    "testing_regions = intersection_df[intersection_df['country'].isin(testing_countries)].region_id.values"
   ]
  },
  {
   "cell_type": "code",
   "execution_count": null,
   "id": "3f0a43b2-cce8-4471-8d18-daa6d1c97ef5",
   "metadata": {},
   "outputs": [],
   "source": []
  },
  {
   "cell_type": "code",
   "execution_count": 10,
   "id": "fdb232a0-cff0-4b75-8eb7-d5cc41cc3add",
   "metadata": {},
   "outputs": [],
   "source": []
  },
  {
   "cell_type": "code",
   "execution_count": 24,
   "id": "09a67008-b1ba-4e89-b0b7-cbe3fc691eba",
   "metadata": {},
   "outputs": [],
   "source": [
    "def combine_regions_data(selected_regions):\n",
    "    \n",
    "    all_data = []\n",
    "    all_labels = []\n",
    "    all_hexagons = []\n",
    "    \n",
    "    for trid in selected_regions:\n",
    "        data = pd.read_parquet(f'{data_dir}primary_chars_{trid}.parquet')\n",
    "        targets = pd.read_parquet(f'{target_dir}{trid}_target.pq').set_index('index')\n",
    "        hexagons = pd.read_parquet(f'{hex_dir}{trid}_hexagon.pq').set_index('index')\n",
    "    \n",
    "        common_index = data.index.join(targets.index, how='inner').join(hexagons.index, how='inner')\n",
    "        data = data.loc[common_index]\n",
    "        targets = targets.loc[common_index]\n",
    "        hexagons = hexagons.loc[common_index]\n",
    "    \n",
    "        # record region_id in the index\n",
    "        common_index = str(trid) + '_' + common_index.astype(str)\n",
    "        \n",
    "        data = data.set_index(common_index)\n",
    "        targets = targets.set_index(common_index)\n",
    "        hexagons = hexagons.set_index(common_index)\n",
    "    \n",
    "        all_data.append(data)\n",
    "        all_labels.append(targets)\n",
    "        all_hexagons.append(hexagons)\n",
    "    \n",
    "    \n",
    "    all_data = pd.concat(all_data)\n",
    "    all_labels = pd.concat(all_labels)\n",
    "    all_hexagons = pd.concat(all_hexagons)\n",
    "    \n",
    "    return all_data, all_labels, all_hexagons"
   ]
  },
  {
   "cell_type": "code",
   "execution_count": null,
   "id": "f3243cc0-c701-472d-b1dc-f81cee4b78ae",
   "metadata": {},
   "outputs": [],
   "source": []
  },
  {
   "cell_type": "code",
   "execution_count": 31,
   "id": "80f563bd-e660-4cac-8a03-1436ae136be6",
   "metadata": {},
   "outputs": [],
   "source": [
    "# selected_regions = [65806]\n",
    "\n",
    "# all_data, all_labels, all_hexagons = combine_regions_data(selected_regions)\n",
    "\n",
    "# all_data.to_parquet('/data/uscuni-eurofab/processed_data/train_test_data/training_data1.pq')\n",
    "# all_labels.to_parquet('/data/uscuni-eurofab/processed_data/train_test_data/training_labels1.pq')\n",
    "# all_hexagons.to_parquet('/data/uscuni-eurofab/processed_data/train_test_data/training_hexagons1.pq')"
   ]
  },
  {
   "cell_type": "code",
   "execution_count": null,
   "id": "38298574-a3fa-432d-8351-ed3a17c3da65",
   "metadata": {},
   "outputs": [],
   "source": []
  },
  {
   "cell_type": "code",
   "execution_count": null,
   "id": "4cb169ba-0833-4d63-b5b5-7debf4c07d3b",
   "metadata": {},
   "outputs": [],
   "source": [
    "%%time\n",
    "\n",
    "training_countries = TRAINING1\n",
    "testing_countries = TESTING1\n",
    "i = 1\n",
    "\n",
    "training_regions = intersection_df[intersection_df['country'].isin(training_countries)].region_id.values\n",
    "testing_regions = intersection_df[intersection_df['country'].isin(testing_countries)].region_id.values\n",
    "\n",
    "all_data, all_labels, all_hexagons = combine_regions_data(training_regions)\n",
    "\n",
    "all_data.to_parquet('/data/uscuni-eurofab/processed_data/train_test_data/training_data1.pq')\n",
    "all_labels.to_parquet('/data/uscuni-eurofab/processed_data/train_test_data/training_labels1.pq')\n",
    "all_hexagons.to_parquet('/data/uscuni-eurofab/processed_data/train_test_data/training_hexagons1.pq')\n",
    "\n",
    "\n",
    "all_data, all_labels, all_hexagons = combine_regions_data(testing_regions)\n",
    "\n",
    "all_data.to_parquet('/data/uscuni-eurofab/processed_data/train_test_data/testing_data1.pq')\n",
    "all_labels.to_parquet('/data/uscuni-eurofab/processed_data/train_test_data/testing_labels1.pq')"
   ]
  },
  {
   "cell_type": "code",
   "execution_count": null,
   "id": "7cda9194-033e-420c-8fe7-857815cd96e1",
   "metadata": {},
   "outputs": [],
   "source": [
    "%%time\n",
    "\n",
    "training_countries = TRAINING2\n",
    "testing_countries = TESTING2\n",
    "i = 2\n",
    "\n",
    "training_regions = intersection_df[intersection_df['country'].isin(training_countries)].region_id.values\n",
    "testing_regions = intersection_df[intersection_df['country'].isin(testing_countries)].region_id.values\n",
    "\n",
    "all_data, all_labels, all_hexagons = combine_regions_data(training_regions)\n",
    "\n",
    "all_data.to_parquet(f'/data/uscuni-eurofab/processed_data/train_test_data/training_data{i}.pq')\n",
    "all_labels.to_parquet(f'/data/uscuni-eurofab/processed_data/train_test_data/training_labels{i}.pq')\n",
    "all_hexagons.to_parquet(f'/data/uscuni-eurofab/processed_data/train_test_data/training_hexagons{i}.pq')\n",
    "\n",
    "\n",
    "all_data, all_labels, all_hexagons = combine_regions_data(testing_regions)\n",
    "\n",
    "all_data.to_parquet(f'/data/uscuni-eurofab/processed_data/train_test_data/testing_data{i}.pq')\n",
    "all_labels.to_parquet(f'/data/uscuni-eurofab/processed_data/train_test_data/testing_labels{i}.pq')"
   ]
  },
  {
   "cell_type": "code",
   "execution_count": 36,
   "id": "90e1275d-9b25-421d-a8b4-8d5c410155ca",
   "metadata": {},
   "outputs": [
    {
     "name": "stdout",
     "output_type": "stream",
     "text": [
      "CPU times: user 3min 1s, sys: 50.4 s, total: 3min 51s\n",
      "Wall time: 2min 9s\n"
     ]
    }
   ],
   "source": [
    "%%time\n",
    "\n",
    "training_countries = TRAINING4\n",
    "testing_countries = TESTING4\n",
    "i = 4\n",
    "\n",
    "training_regions = intersection_df[intersection_df['country'].isin(training_countries)].region_id.values\n",
    "testing_regions = intersection_df[intersection_df['country'].isin(testing_countries)].region_id.values\n",
    "\n",
    "all_data, all_labels, all_hexagons = combine_regions_data(training_regions)\n",
    "\n",
    "all_data.to_parquet(f'/data/uscuni-eurofab/processed_data/train_test_data/training_data{i}.pq')\n",
    "all_labels.to_parquet(f'/data/uscuni-eurofab/processed_data/train_test_data/training_labels{i}.pq')\n",
    "all_hexagons.to_parquet(f'/data/uscuni-eurofab/processed_data/train_test_data/training_hexagons{i}.pq')\n",
    "\n",
    "\n",
    "all_data, all_labels, all_hexagons = combine_regions_data(testing_regions)\n",
    "\n",
    "all_data.to_parquet(f'/data/uscuni-eurofab/processed_data/train_test_data/testing_data{i}.pq')\n",
    "all_labels.to_parquet(f'/data/uscuni-eurofab/processed_data/train_test_data/testing_labels{i}.pq')"
   ]
  },
  {
   "cell_type": "code",
   "execution_count": null,
   "id": "af8d9a83-3c1c-4c8e-bced-1cc341e6c706",
   "metadata": {},
   "outputs": [],
   "source": []
  }
 ],
 "metadata": {
  "kernelspec": {
   "display_name": "Python 3 (ipykernel)",
   "language": "python",
   "name": "python3"
  },
  "language_info": {
   "codemirror_mode": {
    "name": "ipython",
    "version": 3
   },
   "file_extension": ".py",
   "mimetype": "text/x-python",
   "name": "python",
   "nbconvert_exporter": "python",
   "pygments_lexer": "ipython3",
   "version": "3.12.5"
  }
 },
 "nbformat": 4,
 "nbformat_minor": 5
}
