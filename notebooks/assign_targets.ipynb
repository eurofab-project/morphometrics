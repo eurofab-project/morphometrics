{
 "cells": [
  {
   "cell_type": "code",
   "execution_count": 2,
   "id": "496085ac-e1f8-4477-89c0-c450a29786d3",
   "metadata": {},
   "outputs": [],
   "source": [
    "import geopandas as gpd\n",
    "import pandas as pd"
   ]
  },
  {
   "cell_type": "code",
   "execution_count": 3,
   "id": "59ce1202-588b-45fd-ba76-390dee99933e",
   "metadata": {},
   "outputs": [
    {
     "data": {
      "text/plain": [
       "(474, 1)"
      ]
     },
     "execution_count": 3,
     "metadata": {},
     "output_type": "execute_result"
    }
   ],
   "source": [
    "regions_datadir = \"/data/uscuni-eurofab/\"\n",
    "tessellations_dir = '/data/uscuni-eurofab/processed_data/tessellations/'\n",
    "buildings_dir = '/data/uscuni-eurofab/processed_data/buildings/'\n",
    "\n",
    "region_hulls = gpd.read_parquet(\n",
    "        regions_datadir + \"regions/\" + \"ms_ce_region_hulls.parquet\"\n",
    "    )\n",
    "region_hulls.shape"
   ]
  },
  {
   "cell_type": "code",
   "execution_count": 4,
   "id": "06fd01a5-e7d3-49c3-872b-48f189832b7a",
   "metadata": {},
   "outputs": [],
   "source": [
    "cadastre_hulls = gpd.read_parquet('/data/uscuni-ulce/regions/cadastre_regions_hull.parquet')"
   ]
  },
  {
   "cell_type": "code",
   "execution_count": 5,
   "id": "0e307e3b-7ec8-41f1-bba4-53c8160f805a",
   "metadata": {},
   "outputs": [],
   "source": [
    "def process_region_targets(region_id, region_hull):\n",
    "\n",
    "    # read all buildings that intersect with this data\n",
    "    cadastre_regions_to_read = cadastre_hulls[cadastre_hulls.intersects(region_hull.iloc[0])].index\n",
    "    cluster_data = pd.concat(\n",
    "        [\n",
    "            gpd.read_parquet(f'/data/uscuni-ulce/processed_data/clusters/{rid}_clusters.pq', columns=['final_without_noise', 'geometry']) \n",
    "            for rid in cadastre_regions_to_read\n",
    "        ], ignore_index=True\n",
    "    )\n",
    "    \n",
    "    # read target tessellation\n",
    "    region_tessellations = gpd.read_parquet(\n",
    "            tessellations_dir + f\"tessellation_{region_id}.parquet\"\n",
    "    )\n",
    "\n",
    "    ## assign targets based on intersection between cadastre buildings and eurofab tessellations\n",
    "    tess_idxs, blg_idxs = cluster_data.sindex.query(region_tessellations.geometry, predicate='intersects')\n",
    "    target_clusters = cluster_data.iloc[blg_idxs, 0].groupby(tess_idxs).agg(lambda x: pd.Series.mode(x)[0])\n",
    "    # go from tessellation ilocs to locs\n",
    "    target_clusters.index = region_tessellations.index[target_clusters.index]\n",
    "    target_clusters.reset_index().to_parquet(f'/data/uscuni-eurofab/processed_data/target_clusters/{region_id}_target.pq')"
   ]
  },
  {
   "cell_type": "code",
   "execution_count": 6,
   "id": "02c80419-7b69-4c5f-a38a-21a3c07925d7",
   "metadata": {
    "scrolled": true
   },
   "outputs": [
    {
     "name": "stdout",
     "output_type": "stream",
     "text": [
      "65806\n",
      "CPU times: user 16.2 s, sys: 984 ms, total: 17.2 s\n",
      "Wall time: 16.9 s\n"
     ]
    }
   ],
   "source": [
    "%%time\n",
    "for region_id, region_hull in region_hulls.iterrows():\n",
    "    print(region_id)\n",
    "    process_region_targets(region_id, region_hull)"
   ]
  },
  {
   "cell_type": "code",
   "execution_count": null,
   "id": "cde1336c-0c46-41c1-a300-1d86f725c9c9",
   "metadata": {},
   "outputs": [],
   "source": []
  },
  {
   "cell_type": "code",
   "execution_count": 7,
   "id": "c03ea031-845b-4770-819a-585b3b533605",
   "metadata": {},
   "outputs": [],
   "source": [
    "region_id = 65806"
   ]
  },
  {
   "cell_type": "code",
   "execution_count": 8,
   "id": "2d8cfd25-0c84-47d3-b63f-53562442a710",
   "metadata": {},
   "outputs": [],
   "source": [
    "region_buildings = gpd.read_parquet(buildings_dir + f'buildings_{region_id}.parquet')\n",
    "target_clusters = pd.read_parquet(f'/data/uscuni-eurofab/processed_data/target_clusters/{region_id}_target.pq').set_index('index')\n",
    "building_targets = target_clusters[target_clusters.index >= 0]\n",
    "region_buildings['label'] = -1\n",
    "region_buildings.loc[building_targets.index, 'label'] = building_targets.values"
   ]
  },
  {
   "cell_type": "code",
   "execution_count": null,
   "id": "c1ad8d40-2233-4887-8923-dfca45e8e766",
   "metadata": {},
   "outputs": [],
   "source": []
  },
  {
   "cell_type": "code",
   "execution_count": 9,
   "id": "3124883b-83ed-4a25-a6ad-864bf81b3a44",
   "metadata": {},
   "outputs": [],
   "source": [
    "from lonboard import SolidPolygonLayer, Map\n",
    "from lonboard.basemap import CartoBasemap\n",
    "from lonboard.colormap import apply_categorical_cmap\n",
    "from palettable.colorbrewer.qualitative import Set3_12\n",
    "from core.cluster_validation import get_color"
   ]
  },
  {
   "cell_type": "code",
   "execution_count": 10,
   "id": "82240be1-0e3c-4116-9db7-6ed4db6a4115",
   "metadata": {},
   "outputs": [
    {
     "name": "stderr",
     "output_type": "stream",
     "text": [
      "/home/krasen/eurofab_morphometrics/.pixi/envs/default/lib/python3.12/site-packages/geopandas/geodataframe.py:1819: SettingWithCopyWarning: \n",
      "A value is trying to be set on a copy of a slice from a DataFrame.\n",
      "Try using .loc[row_indexer,col_indexer] = value instead\n",
      "\n",
      "See the caveats in the documentation: https://pandas.pydata.org/pandas-docs/stable/user_guide/indexing.html#returning-a-view-versus-a-copy\n",
      "  super().__setitem__(key, value)\n"
     ]
    }
   ],
   "source": [
    "plotting = region_buildings.iloc[target_clusters.index]\n",
    "plotting['geometry'] = region_buildings.simplify(1)"
   ]
  },
  {
   "cell_type": "code",
   "execution_count": 11,
   "id": "092fb027-c10b-4370-98bb-f7684f7c0b2c",
   "metadata": {},
   "outputs": [
    {
     "name": "stderr",
     "output_type": "stream",
     "text": [
      "/home/krasen/eurofab_morphometrics/.pixi/envs/default/lib/python3.12/site-packages/lonboard/_geoarrow/ops/reproject.py:97: UserWarning: Input being reprojected to EPSG:4326 CRS\n",
      "  warnings.warn(\"Input being reprojected to EPSG:4326 CRS\")\n"
     ]
    }
   ],
   "source": [
    "layer = SolidPolygonLayer.from_geopandas(\n",
    "    gdf=plotting[[\"geometry\", \"label\"]], get_fill_color=get_color(plotting['label'].values.astype(int)), opacity=0.15\n",
    ")"
   ]
  },
  {
   "cell_type": "code",
   "execution_count": null,
   "id": "f127557f-8c9c-46e4-80ec-dfcdd64473a0",
   "metadata": {},
   "outputs": [],
   "source": [
    "m = Map(layer, basemap_style=CartoBasemap.Positron)\n",
    "m"
   ]
  },
  {
   "cell_type": "code",
   "execution_count": null,
   "id": "76fb2b99-aa82-42dc-890f-7b447651d740",
   "metadata": {},
   "outputs": [],
   "source": []
  },
  {
   "cell_type": "code",
   "execution_count": null,
   "id": "5ab1689c-a5ea-4a01-8c9b-4b320f28c437",
   "metadata": {},
   "outputs": [],
   "source": []
  }
 ],
 "metadata": {
  "kernelspec": {
   "display_name": "Python 3 (ipykernel)",
   "language": "python",
   "name": "python3"
  },
  "language_info": {
   "codemirror_mode": {
    "name": "ipython",
    "version": 3
   },
   "file_extension": ".py",
   "mimetype": "text/x-python",
   "name": "python",
   "nbconvert_exporter": "python",
   "pygments_lexer": "ipython3",
   "version": "3.12.5"
  }
 },
 "nbformat": 4,
 "nbformat_minor": 5
}
