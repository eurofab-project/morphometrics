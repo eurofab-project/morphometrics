{
 "cells": [
  {
   "cell_type": "markdown",
   "id": "abd030d3-d5bc-4c22-8519-dfe58f69d645",
   "metadata": {},
   "source": [
    "## Processing"
   ]
  },
  {
   "cell_type": "code",
   "execution_count": 1,
   "id": "bb828f91-0f95-4a36-86b3-c1bfae6129d8",
   "metadata": {},
   "outputs": [],
   "source": [
    "import geopandas as gpd\n",
    "import pandas as pd\n",
    "import glob\n",
    "\n",
    "def get_processed_region_ids(directory):\n",
    "    return [int(s.split('_')[-1].split('.')[0]) for s in glob.glob(directory + '*')]"
   ]
  },
  {
   "cell_type": "code",
   "execution_count": null,
   "id": "13123195-dcc8-4ed5-9b9a-0a66c5b027e1",
   "metadata": {},
   "outputs": [],
   "source": []
  },
  {
   "cell_type": "code",
   "execution_count": 2,
   "id": "32a0a926-57d2-4be4-9832-edc0c9608525",
   "metadata": {},
   "outputs": [],
   "source": [
    "regions_buildings_dir = '/data/uscuni-eurofab/regions/buildings/'\n",
    "buildings_dir = '/data/uscuni-eurofab/processed_data/buildings/'\n",
    "overture_streets_dir = '/data/uscuni-eurofab/overture_streets/'\n",
    "streets_dir = '/data/uscuni-eurofab/processed_data/streets/'\n",
    "enclosures_dir = '/data/uscuni-eurofab/processed_data/enclosures/'\n",
    "tessellations_dir = '/data/uscuni-eurofab/processed_data/tessellations/'\n",
    "graph_dir = '/data/uscuni-eurofab/processed_data/neigh_graphs/'\n",
    "chars_dir = '/data/uscuni-eurofab/processed_data/chars/'\n",
    "simplfied_buildings_dir = '/data/uscuni-eurofab/processed_data/simplified_buildings/'\n",
    "\n",
    "\n",
    "regions_datadir = \"/data/uscuni-eurofab/\""
   ]
  },
  {
   "cell_type": "code",
   "execution_count": 3,
   "id": "0d602309-e709-4a8a-a6d7-f516a68f9365",
   "metadata": {},
   "outputs": [
    {
     "data": {
      "text/plain": [
       "(474, 1)"
      ]
     },
     "execution_count": 3,
     "metadata": {},
     "output_type": "execute_result"
    }
   ],
   "source": [
    "region_hulls = gpd.read_parquet(\n",
    "        regions_datadir + \"regions/\" + \"ms_ce_region_hulls.parquet\"\n",
    "    )\n",
    "region_hulls.shape"
   ]
  },
  {
   "cell_type": "code",
   "execution_count": null,
   "id": "0b6414b9-e6ad-4dc1-b97a-886b9f8a9e36",
   "metadata": {},
   "outputs": [],
   "source": []
  },
  {
   "cell_type": "code",
   "execution_count": null,
   "id": "c904a3be-43af-4ab4-bddd-507a36eca691",
   "metadata": {},
   "outputs": [],
   "source": []
  },
  {
   "cell_type": "markdown",
   "id": "c4ac9438-8953-4680-87be-6cc3c60ff41f",
   "metadata": {
    "jp-MarkdownHeadingCollapsed": true
   },
   "source": [
    "## process buildings"
   ]
  },
  {
   "cell_type": "code",
   "execution_count": null,
   "id": "39592b9e-7017-405d-bdab-be9957ed4378",
   "metadata": {},
   "outputs": [],
   "source": []
  },
  {
   "cell_type": "code",
   "execution_count": 4,
   "id": "927bd34d-fe7e-4f30-be1e-fe0954f33ffd",
   "metadata": {},
   "outputs": [],
   "source": [
    "from core.generate_buildings import read_region_buildings, process_region_buildings"
   ]
  },
  {
   "cell_type": "code",
   "execution_count": null,
   "id": "980158c8-0e1c-4a8b-8d9c-cead0f3a4091",
   "metadata": {},
   "outputs": [],
   "source": []
  },
  {
   "cell_type": "code",
   "execution_count": 5,
   "id": "88dbe42c-d588-4661-9117-ae3c3249b5da",
   "metadata": {},
   "outputs": [],
   "source": [
    "def process_single_region_buildings(region_id):\n",
    "    print('processing', region_id)\n",
    "    buildings = gpd.read_parquet(regions_buildings_dir + f'buildings_{region_id}.pq')\n",
    "    buildings = process_region_buildings(buildings, True, simplification_tolerance=.1, merge_limit=25)\n",
    "    buildings.to_parquet(simplfied_buildings_dir + f\"buildings_{region_id}.parquet\")"
   ]
  },
  {
   "cell_type": "code",
   "execution_count": null,
   "id": "e31afbd6-a2f5-4e60-8b6d-8d231a472fa3",
   "metadata": {},
   "outputs": [],
   "source": [
    "%%capture cap\n",
    "for region_id, _ in region_hulls.iterrows():\n",
    "    process_single_region_buildings(region_id)"
   ]
  },
  {
   "cell_type": "code",
   "execution_count": null,
   "id": "44b097f1-12d0-4f35-84f0-cdec64bcab9c",
   "metadata": {},
   "outputs": [],
   "source": []
  },
  {
   "cell_type": "code",
   "execution_count": 10,
   "id": "4cdd656e-b991-4de0-8e6b-4d368fefdd0f",
   "metadata": {},
   "outputs": [],
   "source": [
    "# !cp -r /data/uscuni-eurofab/processed_data/simplified_buildings/ /data/uscuni-eurofab/processed_data/buildings/"
   ]
  },
  {
   "cell_type": "markdown",
   "id": "fbdbbf1b-f7b6-4b66-9e3a-ba26d271b402",
   "metadata": {
    "jp-MarkdownHeadingCollapsed": true
   },
   "source": [
    "## process streets"
   ]
  },
  {
   "cell_type": "code",
   "execution_count": null,
   "id": "5d2268d2-89e2-45b1-9a8b-102d0ef73aff",
   "metadata": {},
   "outputs": [],
   "source": []
  },
  {
   "cell_type": "code",
   "execution_count": 11,
   "id": "59385b22-8499-445a-a949-1d663c8bb200",
   "metadata": {},
   "outputs": [],
   "source": [
    "from core.generate_streets import process_region_streets"
   ]
  },
  {
   "cell_type": "code",
   "execution_count": null,
   "id": "e0f28aea-2eff-451c-9b7f-d5c7abe34440",
   "metadata": {},
   "outputs": [],
   "source": [
    "%%capture cap\n",
    "for region_id, _ in region_hulls.iterrows():\n",
    "    streets = process_region_streets(region_id, overture_streets_dir, buildings_dir)\n",
    "    streets.to_parquet(streets_dir + f'streets_{region_id}.parquet')"
   ]
  },
  {
   "cell_type": "code",
   "execution_count": null,
   "id": "634949a1-a086-4fb5-9aa4-02128494f310",
   "metadata": {
    "scrolled": true
   },
   "outputs": [],
   "source": []
  },
  {
   "cell_type": "code",
   "execution_count": 16,
   "id": "be1a1c1e-8d25-4946-84a2-a4393c857cbf",
   "metadata": {},
   "outputs": [
    {
     "data": {
      "text/plain": [
       "1"
      ]
     },
     "execution_count": 16,
     "metadata": {},
     "output_type": "execute_result"
    }
   ],
   "source": []
  },
  {
   "cell_type": "code",
   "execution_count": null,
   "id": "13b14b49-27b1-4a73-ba41-5f3d2fb4d78c",
   "metadata": {},
   "outputs": [],
   "source": []
  },
  {
   "cell_type": "code",
   "execution_count": 22,
   "id": "9a50602b-e08b-4b9f-b564-74940f311f93",
   "metadata": {},
   "outputs": [],
   "source": []
  },
  {
   "cell_type": "markdown",
   "id": "eb145726-99cb-40fd-ae4e-038e5c2d4b20",
   "metadata": {
    "jp-MarkdownHeadingCollapsed": true
   },
   "source": [
    "## process elements"
   ]
  },
  {
   "cell_type": "code",
   "execution_count": 4,
   "id": "c3306a8a-ea1d-425e-a5c5-df2c7daddfd8",
   "metadata": {},
   "outputs": [],
   "source": [
    "from core.generate_elements import process_region_elements, generate_enclosures_representative_points, generate_tess"
   ]
  },
  {
   "cell_type": "code",
   "execution_count": null,
   "id": "ba00e9c3-74a5-4b00-a2a6-a4474f8faa4b",
   "metadata": {},
   "outputs": [],
   "source": []
  },
  {
   "cell_type": "code",
   "execution_count": 5,
   "id": "64ec42c5-1490-4a08-bedd-b563ddb98893",
   "metadata": {},
   "outputs": [],
   "source": [
    "processed_region_ids = get_processed_region_ids(tessellations_dir)\n"
   ]
  },
  {
   "cell_type": "code",
   "execution_count": null,
   "id": "3a240416-6312-4c62-b333-eb4928f03d84",
   "metadata": {},
   "outputs": [],
   "source": []
  },
  {
   "cell_type": "code",
   "execution_count": 6,
   "id": "fdb775d5-3871-43c5-abab-8619908d5892",
   "metadata": {
    "scrolled": true
   },
   "outputs": [
    {
     "name": "stdout",
     "output_type": "stream",
     "text": [
      "---- Processing region:  109005 2024-10-30 10:06:52.742627\n",
      "Problem with topology,  TopologyException: side location conflict at 4949043.1038501924 3416357.1029251725. This can occur if the input geometry is invalid.\n",
      "Processed enclosures\n",
      "processed tesselations\n",
      "---- Processing region:  109050 2024-10-30 10:07:26.743389\n",
      "Processed enclosures\n",
      "processed tesselations\n",
      "---- Processing region:  109585 2024-10-30 10:07:47.451349\n",
      "Retrying tesselation with less buildings, potentially changing building data.\n",
      "Dropping 1 buildings due to tesselation problems\n",
      "Processed enclosures\n",
      "processed tesselations\n",
      "---- Processing region:  109676 2024-10-30 10:09:08.122266\n",
      "Processed enclosures\n",
      "processed tesselations\n",
      "---- Processing region:  109949 2024-10-30 10:09:14.117998\n",
      "Processed enclosures\n",
      "processed tesselations\n",
      "---- Processing region:  110157 2024-10-30 10:09:41.488838\n"
     ]
    },
    {
     "name": "stderr",
     "output_type": "stream",
     "text": [
      "/home/krasen/eurofab_morphometrics/.pixi/envs/default/lib/python3.12/site-packages/joblib/externals/loky/process_executor.py:752: UserWarning: A worker stopped while some jobs were given to the executor. This can be caused by a too short worker timeout or by a memory leak.\n",
      "  warnings.warn(\n"
     ]
    },
    {
     "name": "stdout",
     "output_type": "stream",
     "text": [
      "Processed enclosures\n",
      "processed tesselations\n",
      "---- Processing region:  110373 2024-10-30 10:10:16.750592\n",
      "Processed enclosures\n",
      "processed tesselations\n",
      "---- Processing region:  111252 2024-10-30 10:10:30.123462\n",
      "Processed enclosures\n",
      "processed tesselations\n",
      "---- Processing region:  111314 2024-10-30 10:10:38.858915\n",
      "Processed enclosures\n",
      "processed tesselations\n",
      "---- Processing region:  111594 2024-10-30 10:16:44.142521\n",
      "Processed enclosures\n",
      "processed tesselations\n",
      "---- Processing region:  111672 2024-10-30 10:16:52.813275\n",
      "Processed enclosures\n",
      "processed tesselations\n",
      "---- Processing region:  111683 2024-10-30 10:17:09.975325\n",
      "Processed enclosures\n",
      "processed tesselations\n",
      "---- Processing region:  111801 2024-10-30 10:17:14.989017\n",
      "Processed enclosures\n",
      "processed tesselations\n",
      "---- Processing region:  112098 2024-10-30 10:17:37.984215\n",
      "Processed enclosures\n",
      "processed tesselations\n",
      "---- Processing region:  112842 2024-10-30 10:17:42.138408\n",
      "Processed enclosures\n",
      "processed tesselations\n",
      "---- Processing region:  112966 2024-10-30 10:17:53.546184\n",
      "Processed enclosures\n",
      "processed tesselations\n",
      "---- Processing region:  113249 2024-10-30 10:19:20.202929\n",
      "Processed enclosures\n",
      "processed tesselations\n",
      "---- Processing region:  113487 2024-10-30 10:19:24.276503\n",
      "Processed enclosures\n",
      "processed tesselations\n",
      "---- Processing region:  114261 2024-10-30 10:19:35.402437\n",
      "Processed enclosures\n",
      "processed tesselations\n",
      "---- Processing region:  114334 2024-10-30 10:19:59.723574\n",
      "Processed enclosures\n",
      "processed tesselations\n",
      "---- Processing region:  114685 2024-10-30 10:20:28.836011\n",
      "Processed enclosures\n",
      "processed tesselations\n",
      "---- Processing region:  114948 2024-10-30 10:20:40.026067\n",
      "Processed enclosures\n",
      "processed tesselations\n",
      "---- Processing region:  115294 2024-10-30 10:20:55.711090\n",
      "Processed enclosures\n",
      "processed tesselations\n",
      "---- Processing region:  115954 2024-10-30 10:21:05.590312\n",
      "Processed enclosures\n",
      "processed tesselations\n",
      "---- Processing region:  116035 2024-10-30 10:21:25.733409\n",
      "Processed enclosures\n",
      "processed tesselations\n",
      "---- Processing region:  116242 2024-10-30 10:21:38.392729\n",
      "Processed enclosures\n",
      "processed tesselations\n",
      "---- Processing region:  116830 2024-10-30 10:22:18.387276\n",
      "Processed enclosures\n",
      "processed tesselations\n",
      "---- Processing region:  117162 2024-10-30 10:22:30.083062\n",
      "Processed enclosures\n",
      "processed tesselations\n",
      "---- Processing region:  117200 2024-10-30 10:23:19.011526\n",
      "Processed enclosures\n",
      "processed tesselations\n",
      "---- Processing region:  118465 2024-10-30 10:23:30.341435\n",
      "Processed enclosures\n",
      "processed tesselations\n",
      "---- Processing region:  118956 2024-10-30 10:23:45.619335\n",
      "Processed enclosures\n",
      "processed tesselations\n",
      "---- Processing region:  119645 2024-10-30 10:24:01.522048\n",
      "Processed enclosures\n",
      "processed tesselations\n",
      "---- Processing region:  119966 2024-10-30 10:24:57.609473\n",
      "Processed enclosures\n",
      "processed tesselations\n",
      "---- Processing region:  119991 2024-10-30 10:25:29.764148\n",
      "Processed enclosures\n",
      "processed tesselations\n",
      "---- Processing region:  120673 2024-10-30 10:25:37.949525\n",
      "Processed enclosures\n",
      "processed tesselations\n",
      "---- Processing region:  120825 2024-10-30 10:26:15.975213\n",
      "Processed enclosures\n",
      "processed tesselations\n",
      "---- Processing region:  121214 2024-10-30 10:26:39.364488\n",
      "Processed enclosures\n",
      "processed tesselations\n",
      "---- Processing region:  122230 2024-10-30 10:26:46.872415\n",
      "Processed enclosures\n",
      "processed tesselations\n",
      "---- Processing region:  122372 2024-10-30 10:26:56.378292\n",
      "Processed enclosures\n",
      "processed tesselations\n",
      "---- Processing region:  122404 2024-10-30 10:27:03.143543\n",
      "Processed enclosures\n",
      "processed tesselations\n",
      "---- Processing region:  122529 2024-10-30 10:27:28.000004\n",
      "Processed enclosures\n",
      "processed tesselations\n",
      "---- Processing region:  122904 2024-10-30 10:27:42.794148\n",
      "Processed enclosures\n",
      "processed tesselations\n",
      "---- Processing region:  122940 2024-10-30 10:27:49.330224\n",
      "Processed enclosures\n",
      "processed tesselations\n",
      "---- Processing region:  123004 2024-10-30 10:27:54.199147\n",
      "Processed enclosures\n",
      "processed tesselations\n",
      "---- Processing region:  123370 2024-10-30 10:28:09.470853\n",
      "Processed enclosures\n",
      "processed tesselations\n",
      "---- Processing region:  123547 2024-10-30 10:28:43.198263\n",
      "Processed enclosures\n",
      "processed tesselations\n",
      "---- Processing region:  124008 2024-10-30 10:28:51.440693\n",
      "Processed enclosures\n",
      "processed tesselations\n",
      "---- Processing region:  124022 2024-10-30 10:29:03.445030\n",
      "Processed enclosures\n",
      "processed tesselations\n",
      "---- Processing region:  124219 2024-10-30 10:29:22.361701\n",
      "Processed enclosures\n",
      "processed tesselations\n",
      "---- Processing region:  124768 2024-10-30 10:29:39.574151\n",
      "Processed enclosures\n",
      "processed tesselations\n",
      "---- Processing region:  125010 2024-10-30 10:30:22.287285\n"
     ]
    },
    {
     "name": "stderr",
     "output_type": "stream",
     "text": [
      "/home/krasen/eurofab_morphometrics/.pixi/envs/default/lib/python3.12/site-packages/joblib/externals/loky/process_executor.py:752: UserWarning: A worker stopped while some jobs were given to the executor. This can be caused by a too short worker timeout or by a memory leak.\n",
      "  warnings.warn(\n"
     ]
    },
    {
     "name": "stdout",
     "output_type": "stream",
     "text": [
      "Processed enclosures\n",
      "processed tesselations\n",
      "---- Processing region:  125294 2024-10-30 10:31:33.755284\n",
      "Processed enclosures\n",
      "processed tesselations\n",
      "---- Processing region:  125389 2024-10-30 10:32:02.672615\n",
      "Processed enclosures\n",
      "processed tesselations\n",
      "---- Processing region:  125591 2024-10-30 10:32:22.993008\n",
      "Processed enclosures\n",
      "processed tesselations\n",
      "---- Processing region:  125840 2024-10-30 10:32:32.609490\n",
      "Processed enclosures\n",
      "processed tesselations\n",
      "---- Processing region:  126119 2024-10-30 10:32:47.296417\n",
      "Retrying tesselation with less buildings, potentially changing building data.\n",
      "Dropping 1 buildings due to tesselation problems\n",
      "Processed enclosures\n",
      "processed tesselations\n",
      "---- Processing region:  126381 2024-10-30 10:36:41.841199\n",
      "Processed enclosures\n",
      "processed tesselations\n",
      "---- Processing region:  126542 2024-10-30 10:37:24.054340\n",
      "Processed enclosures\n",
      "processed tesselations\n",
      "---- Processing region:  126723 2024-10-30 10:38:20.290779\n",
      "Processed enclosures\n",
      "processed tesselations\n",
      "---- Processing region:  127149 2024-10-30 10:38:26.338096\n",
      "Processed enclosures\n",
      "processed tesselations\n",
      "---- Processing region:  127562 2024-10-30 10:38:44.217456\n",
      "Processed enclosures\n",
      "processed tesselations\n",
      "---- Processing region:  128338 2024-10-30 10:39:03.557643\n",
      "Processed enclosures\n",
      "processed tesselations\n",
      "---- Processing region:  129117 2024-10-30 10:39:29.021374\n",
      "Processed enclosures\n",
      "processed tesselations\n",
      "---- Processing region:  129193 2024-10-30 10:39:41.687914\n",
      "Processed enclosures\n",
      "processed tesselations\n",
      "---- Processing region:  129335 2024-10-30 10:40:51.495070\n",
      "Processed enclosures\n",
      "processed tesselations\n",
      "---- Processing region:  129409 2024-10-30 10:41:03.304840\n",
      "Processed enclosures\n",
      "processed tesselations\n",
      "---- Processing region:  129600 2024-10-30 10:41:33.332809\n",
      "Processed enclosures\n",
      "processed tesselations\n",
      "---- Processing region:  130732 2024-10-30 10:41:43.689363\n",
      "Processed enclosures\n",
      "processed tesselations\n",
      "---- Processing region:  131498 2024-10-30 10:42:09.808804\n",
      "Processed enclosures\n",
      "processed tesselations\n",
      "---- Processing region:  131560 2024-10-30 10:42:38.605932\n",
      "Processed enclosures\n",
      "processed tesselations\n",
      "---- Processing region:  132469 2024-10-30 10:42:52.681935\n",
      "Processed enclosures\n",
      "processed tesselations\n",
      "---- Processing region:  132728 2024-10-30 10:43:02.126318\n",
      "Processed enclosures\n",
      "processed tesselations\n",
      "---- Processing region:  132805 2024-10-30 10:43:08.898621\n",
      "Processed enclosures\n",
      "processed tesselations\n",
      "---- Processing region:  133611 2024-10-30 10:43:21.165784\n",
      "Processed enclosures\n",
      "processed tesselations\n",
      "---- Processing region:  133765 2024-10-30 10:43:41.617089\n",
      "Processed enclosures\n",
      "processed tesselations\n",
      "---- Processing region:  133801 2024-10-30 10:44:10.825079\n",
      "Processed enclosures\n",
      "processed tesselations\n",
      "---- Processing region:  134054 2024-10-30 10:44:21.833336\n",
      "Processed enclosures\n",
      "processed tesselations\n",
      "---- Processing region:  134356 2024-10-30 10:44:43.826829\n",
      "Processed enclosures\n",
      "processed tesselations\n"
     ]
    }
   ],
   "source": [
    "for region_id, _ in region_hulls[~region_hulls.index.isin(processed_region_ids)].iterrows():\n",
    "    enclosures, tesselations = process_region_elements(buildings_dir, streets_dir, region_id)\n",
    "\n",
    "    enclosures.to_parquet(enclosures_dir + f\"enclosure_{region_id}.parquet\")\n",
    "    print(\"Processed enclosures\")\n",
    "    \n",
    "    ## save files\n",
    "    tesselations.to_parquet(\n",
    "        tessellations_dir + f\"tessellation_{region_id}.parquet\"\n",
    "    )\n",
    "    print(\"processed tesselations\")"
   ]
  },
  {
   "cell_type": "code",
   "execution_count": null,
   "id": "0ce8d57d-26cc-4abf-be8d-379e24182381",
   "metadata": {},
   "outputs": [],
   "source": []
  },
  {
   "cell_type": "code",
   "execution_count": null,
   "id": "29087ca4-0c32-4f6e-9830-007e0cb40534",
   "metadata": {},
   "outputs": [],
   "source": []
  },
  {
   "cell_type": "code",
   "execution_count": null,
   "id": "6e12f2ce-d687-489a-81b7-f28c0906bf55",
   "metadata": {},
   "outputs": [],
   "source": []
  },
  {
   "cell_type": "markdown",
   "id": "07a1d29c-53e2-4ec3-bb6f-4c9e0475b647",
   "metadata": {},
   "source": [
    "## process graphs"
   ]
  },
  {
   "cell_type": "code",
   "execution_count": 4,
   "id": "2a1ce453-9cd8-4c11-b0d6-ccd3aa532c8b",
   "metadata": {},
   "outputs": [],
   "source": [
    "from core.generate_ngraphs import process_region_graphs"
   ]
  },
  {
   "cell_type": "code",
   "execution_count": null,
   "id": "593734a4-db1e-479b-b96f-033592d0d9f1",
   "metadata": {
    "scrolled": true
   },
   "outputs": [],
   "source": [
    "for region_id, _ in region_hulls.iterrows():\n",
    "\n",
    "    process_region_graphs(\n",
    "        region_id,\n",
    "        graph_dir,\n",
    "        buildings_dir,\n",
    "        streets_dir,\n",
    "        enclosures_dir,\n",
    "        tessellations_dir,\n",
    "    )"
   ]
  },
  {
   "cell_type": "code",
   "execution_count": null,
   "id": "5966a45a-b042-4dcc-8e62-83a9b84d9521",
   "metadata": {},
   "outputs": [],
   "source": []
  },
  {
   "cell_type": "code",
   "execution_count": null,
   "id": "6c2b239a-50f8-4395-a36a-4f5ec26b3a05",
   "metadata": {},
   "outputs": [],
   "source": []
  },
  {
   "cell_type": "markdown",
   "id": "9cb07625-7542-46a0-baa8-536a96101831",
   "metadata": {},
   "source": [
    "## process chars"
   ]
  },
  {
   "cell_type": "code",
   "execution_count": null,
   "id": "d3acf6ac-2c12-4713-b880-9198a2570bda",
   "metadata": {},
   "outputs": [],
   "source": [
    "from core.generate_chars import process_single_region_chars"
   ]
  },
  {
   "cell_type": "code",
   "execution_count": null,
   "id": "c0c61870-b740-4502-9c28-a70017f90c7d",
   "metadata": {},
   "outputs": [],
   "source": [
    "for region_id, _ in region_hulls.iterrows():\n",
    "\n",
    "    process_single_region_chars(\n",
    "        region_id,\n",
    "        graph_dir,\n",
    "        buildings_dir,\n",
    "        streets_dir,\n",
    "        enclosures_dir,\n",
    "        tessellations_dir,\n",
    "        chars_dir\n",
    "    )"
   ]
  },
  {
   "cell_type": "markdown",
   "id": "b5327516-7872-41a2-8851-9df1bc5e3f42",
   "metadata": {},
   "source": [
    "## merge data"
   ]
  },
  {
   "cell_type": "code",
   "execution_count": 26,
   "id": "19323abb-3992-48c6-a08b-e269bf02c369",
   "metadata": {},
   "outputs": [],
   "source": [
    "tessellation = gpd.read_parquet(chars_dir + f\"tessellations_chars_{region_id}.parquet\")\n",
    "buildings = gpd.read_parquet(chars_dir + f\"buildings_chars_{region_id}.parquet\")\n",
    "enclosures = gpd.read_parquet(chars_dir + f\"enclosures_chars_{region_id}.parquet\")\n",
    "streets = gpd.read_parquet(chars_dir + f\"streets_chars_{region_id}.parquet\")\n",
    "nodes = gpd.read_parquet(chars_dir + f\"nodes_chars_{region_id}.parquet\")\n",
    "\n",
    "merged = pd.merge(\n",
    "    tessellation.drop(columns=[\"geometry\"]),\n",
    "    buildings.drop(columns=[\"nodeID\", \"geometry\", 'nID']),\n",
    "    right_index=True,\n",
    "    left_index=True,\n",
    "    how=\"left\",\n",
    ")\n",
    "\n",
    "merged = merged.merge(\n",
    "    enclosures.drop(columns=\"geometry\"),\n",
    "    right_on=\"eID\",\n",
    "    left_on=\"enclosure_index\",\n",
    "    how=\"left\",\n",
    ")\n",
    "\n",
    "merged = merged.merge(streets.drop(columns=\"geometry\"), on=\"nID\", how=\"left\")\n",
    "merged = merged.merge(nodes.drop(columns=\"geometry\"), on=\"nodeID\", how=\"left\")\n",
    "\n",
    "merged = merged.drop(\n",
    "    columns=[\n",
    "        \"nID\",\n",
    "        \"eID\",\n",
    "        \"nodeID\",\n",
    "        \"mm_len\",\n",
    "        \"cdsbool\",\n",
    "        \"node_start\",\n",
    "        \"node_end\",\n",
    "        \"x\",\n",
    "        \"y\",\n",
    "        \"enclosure_index\",\n",
    "        # \"id\",\n",
    "        # \"osm_id\",\n",
    "    ]\n",
    ")\n",
    "merged = merged.set_index(tessellation.index)\n",
    "\n",
    "from core.utils import used_keys\n",
    "primary = merged[list(used_keys.keys())]\n",
    "primary.to_parquet(chars_dir + f'primary_chars_{region_id}.parquet')"
   ]
  },
  {
   "cell_type": "code",
   "execution_count": null,
   "id": "ff3e8aa3-8641-4433-86f2-d6722094fc71",
   "metadata": {},
   "outputs": [],
   "source": []
  },
  {
   "cell_type": "code",
   "execution_count": null,
   "id": "a9a83bef-5691-49df-9c5c-53ec10b5bf7e",
   "metadata": {},
   "outputs": [],
   "source": []
  },
  {
   "cell_type": "code",
   "execution_count": null,
   "id": "d08d4735-3b29-4a3e-8922-b0a58e3b1132",
   "metadata": {},
   "outputs": [],
   "source": []
  }
 ],
 "metadata": {
  "kernelspec": {
   "display_name": "Python 3 (ipykernel)",
   "language": "python",
   "name": "python3"
  },
  "language_info": {
   "codemirror_mode": {
    "name": "ipython",
    "version": 3
   },
   "file_extension": ".py",
   "mimetype": "text/x-python",
   "name": "python",
   "nbconvert_exporter": "python",
   "pygments_lexer": "ipython3",
   "version": "3.12.5"
  }
 },
 "nbformat": 4,
 "nbformat_minor": 5
}
