{
 "cells": [
  {
   "cell_type": "markdown",
   "metadata": {},
   "source": [
    "# Example notebook\n",
    "\n",
    "These should not be executed by Quarto."
   ]
  },
  {
   "cell_type": "code",
   "execution_count": 1,
   "metadata": {},
   "outputs": [
    {
     "name": "stdout",
     "output_type": "stream",
     "text": [
      "\n",
      "SYSTEM INFO\n",
      "-----------\n",
      "python     : 3.11.4 | packaged by conda-forge | (main, Jun 10 2023, 18:08:41) [Clang 15.0.7 ]\n",
      "executable : /Users/martin/miniforge3/envs/stable/bin/python\n",
      "machine    : macOS-14.5-arm64-arm-64bit\n",
      "\n",
      "GEOS, GDAL, PROJ INFO\n",
      "---------------------\n",
      "GEOS       : 3.12.1\n",
      "GEOS lib   : None\n",
      "GDAL       : 3.7.3\n",
      "GDAL data dir: /Users/martin/miniforge3/envs/stable/share/gdal\n",
      "PROJ       : 9.3.0\n",
      "PROJ data dir: /Users/martin/miniforge3/envs/stable/share/proj\n",
      "\n",
      "PYTHON DEPENDENCIES\n",
      "-------------------\n",
      "geopandas  : 0.14.4\n",
      "numpy      : 1.26.4\n",
      "pandas     : 2.2.2\n",
      "pyproj     : 3.6.1\n",
      "shapely    : 2.0.4\n",
      "fiona      : 1.9.5\n",
      "geoalchemy2: None\n",
      "geopy      : 2.4.1\n",
      "matplotlib : 3.8.4\n",
      "mapclassify: 2.6.1\n",
      "pygeos     : None\n",
      "pyogrio    : 0.7.2\n",
      "psycopg2   : None\n",
      "pyarrow    : 16.1.0\n",
      "rtree      : 1.2.0\n"
     ]
    }
   ],
   "source": [
    "import geopandas\n",
    "\n",
    "geopandas.show_versions()"
   ]
  }
 ],
 "metadata": {
  "kernelspec": {
   "display_name": "stable",
   "language": "python",
   "name": "python3"
  },
  "language_info": {
   "codemirror_mode": {
    "name": "ipython",
    "version": 3
   },
   "file_extension": ".py",
   "mimetype": "text/x-python",
   "name": "python",
   "nbconvert_exporter": "python",
   "pygments_lexer": "ipython3",
   "version": "3.11.4"
  }
 },
 "nbformat": 4,
 "nbformat_minor": 2
}
